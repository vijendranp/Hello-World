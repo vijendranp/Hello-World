{
  "nbformat": 4,
  "nbformat_minor": 0,
  "metadata": {
    "colab": {
      "name": "Inheritance.ipynb",
      "provenance": [],
      "collapsed_sections": [],
      "authorship_tag": "ABX9TyOYbwFm9b3TjtEsSqcJGxF/",
      "include_colab_link": true
    },
    "kernelspec": {
      "name": "python3",
      "display_name": "Python 3"
    }
  },
  "cells": [
    {
      "cell_type": "markdown",
      "metadata": {
        "id": "view-in-github",
        "colab_type": "text"
      },
      "source": [
        "<a href=\"https://colab.research.google.com/github/vijendranp/Python--Computational-Approach/blob/master/Inheritance.ipynb\" target=\"_parent\"><img src=\"https://colab.research.google.com/assets/colab-badge.svg\" alt=\"Open In Colab\"/></a>"
      ]
    },
    {
      "cell_type": "code",
      "metadata": {
        "id": "3Q4bo_HlT8op",
        "colab_type": "code",
        "colab": {}
      },
      "source": [
        ""
      ],
      "execution_count": 0,
      "outputs": []
    },
    {
      "cell_type": "markdown",
      "metadata": {
        "id": "cgUWeY75UBTK",
        "colab_type": "text"
      },
      "source": [
        "# INHERITANCE\n",
        "The technique of creating a new class from an existing class is called Inheritance. \n",
        "\n",
        "The old or existing class is called **base class** \n",
        "\n",
        "The new class is known as **derived class** or **subclass**\n",
        "\n",
        "**Top down approach** Generalised classes are designed first and specialised classes are derived by inheriting/ extending generalized classes.  \n",
        "\n",
        "**Note** : The derived class inherits all the capabilities of the base class and adds refinements and extensions of its own.\n",
        "\n",
        "\n",
        "When we make functions, we first write the individual functions and then call them from our main module.  Here we are building our program using small small pieces of (individual functions), this approach is called **bottom up approach**\n",
        "\n",
        "\n",
        "**INHERITING CLASSES IN PYTHON**\n",
        "\n",
        "The syntax to inherit a class can be given as ;\n",
        "\n",
        "**class DerivedClass(BaseClass):\n",
        " body_of_derived_class**\n",
        " Instead of writing the baseclass you can even specify an expression like modulename.  Baseclass.  \n",
        "\n",
        " Program to demonstrate the use of inheritance.  "
      ]
    },
    {
      "cell_type": "code",
      "metadata": {
        "id": "efRKL3IzWCL6",
        "colab_type": "code",
        "outputId": "0279c29a-19d9-4a7c-ecc0-a27884c09a40",
        "colab": {
          "base_uri": "https://localhost:8080/",
          "height": 187
        }
      },
      "source": [
        "class Person:\n",
        "  def __init__(self,name,age):\n",
        "    self.name = name \n",
        "    self.age = age\n",
        "\n",
        "  def display(self):\n",
        "    print(\"NAME :   \",self.name)\n",
        "    print(\"NAME :   \",self.age)\n",
        "\n",
        "class Teacher(Person):\n",
        "  def __init__(self,name,age,exp,r_area):\n",
        "    Person.__init__(self,name,age)\n",
        "    self.exp = exp \n",
        "    self.r_area = r_area\n",
        "\n",
        "  def displayData(self):\n",
        "    Person.display(self)\n",
        "    print(\"EXPERIENCE :   \",self.exp)\n",
        "    print(\"RESEARCH AREA :  \",self.r_area)\n",
        "\n",
        "class Student(Person):\n",
        "  def __init__(self,name,age,course,marks):\n",
        "    Person.__init__(self,name,age)\n",
        "    self.course = course\n",
        "    self.marks = marks\n",
        "\n",
        "  def displayData(self):\n",
        "    Person.display(self)\n",
        "    print(\"COURSE :   \",self.course)\n",
        "    print(\"MARKS :    \",self.marks)\n",
        "    print(\"***********************TEACHER******************\")\n",
        "\n",
        "T = Teacher(\"John\",44,5,\"Information Retrieval System\")\n",
        "T.displayData()\n",
        "print(\"*******************************************STUDENT***************\")\n",
        "S = Student(\"Rony\",33,\"Python\",78)\n",
        "S.displayData()\n"
      ],
      "execution_count": 0,
      "outputs": [
        {
          "output_type": "stream",
          "text": [
            "NAME :    John\n",
            "NAME :    44\n",
            "EXPERIENCE :    5\n",
            "RESEARCH AREA :   Information Retrieval System\n",
            "*******************************************STUDENT***************\n",
            "NAME :    Rony\n",
            "NAME :    33\n",
            "COURSE :    Python\n",
            "MARKS :     78\n",
            "***********************TEACHER******************\n"
          ],
          "name": "stdout"
        }
      ]
    },
    {
      "cell_type": "markdown",
      "metadata": {
        "id": "1mPn389yat9W",
        "colab_type": "text"
      },
      "source": [
        "In the above program, classes Teacher and Student are both inherited from class Person.  Therefore, the inherited classes have all the features (attributes and methods) of the base class.  \n",
        "\n",
        "Note that a derived class is instantiated in the same way as any other class is.\n",
        "\n",
        "To create an object of the derived class, just write the derived class name followed by empty brackets as in DerivedClassName \n",
        "\n",
        "**Note** : When we use the .__base__ attribute with class name, the base (or the parent) class of the specified class is returned.  \n",
        "\n",
        "Therefore, print(Student.__bases__) will print (<class ' ___ main__. Person'>)\n",
        "\n"
      ]
    },
    {
      "cell_type": "markdown",
      "metadata": {
        "id": "2RXW1W5jb2Ha",
        "colab_type": "text"
      },
      "source": [
        "# POLYMORPHISM AND METHOD OVERRIDING: \n",
        "\n",
        "Polymorphism refers to having several different forms.  It enables programmers to assign a different meaning or usage to a variable, function, or an object in different context.  \n",
        "\n",
        "While inheritence is related to classes and their heirarchy,  **polymorphism** on the other hand is related to **method**. \n",
        "\n",
        "When polymorphism is applied to a function or method depending on the given parameters, a particular form of the function can be selected for execution. \n",
        "\n",
        "In python, method overriding is one way of implementing polymorphism. \n",
        "\n",
        "# Relationship Between Inheritance and Polymorphism : \n",
        "\n",
        "Polymorphism, in simple terms, refers to having several different forms.\n",
        "\n",
        "While inheritance is related to classes and their heirarchy, polymorphism on the other hand, is related to methods.  \n",
        "\n",
        "Polymorphism allows the programmers to assign a different meaning or usage to a method in different context. \n",
        "\n",
        "In python, the word polymorphism when used with inheritance meaning defining a number of subclasses that have method of same name. \n",
        "\n",
        "A function can use objects of any of the polymorphic classes irrespective of the fact that these classes are individually distinct.  \n",
        "\n",
        "**In python, one way of providing polymorphism is method overriding, in which a derived class method has the same name as specified in the base class, but giving a new meaning.**\n",
        "\n",
        "** In above program note that __init__() method was defined in all three classes.  When this happens the method in the derived class overides that in the base class.**\n",
        "\n",
        "Thus, **Method Overriding** is the ability of a class to **change the implementation of a method provided by its ancestors** \n",
        "\n",
        "**When we override a base class method, we extend the functionality of the base class method.  This is done by calling the method in the base class method from the derived class method and also adding additional statements in th derived class methods.  **\n",
        "\n",
        "**Instead of writing Person.__init__(self,name,age), you could have also written super().__init__(self,name,age).  Here, super() is a built in function that denotes the base class.  So when you invoke a method using the super() function then the parent version of the method is called.  \n",
        "\n",
        "\n",
        "**Note : In python every class is inherited from the base class objects.**\n",
        "\n",
        "Note that in the case of multiple inheritance ( a class derived from more than one base class),  you need to invoke the super() function in __init__() method of every class.  \n",
        "\n",
        "This would be clear by looking at the program given below and observing its output.  \n",
        "\n",
        "Program to demonstrate the issue of invoking __init__() in case of multiple inheritance"
      ]
    },
    {
      "cell_type": "code",
      "metadata": {
        "id": "ixbayRMWih3W",
        "colab_type": "code",
        "outputId": "c57b6a6f-9c7d-4b1a-ee03-653c627567e1",
        "colab": {
          "base_uri": "https://localhost:8080/",
          "height": 34
        }
      },
      "source": [
        "class Base1(object):\n",
        "  def __init__(self):\n",
        "    print(\"Base1 Class\")\n",
        "\n",
        "class Base2(object):\n",
        "  def __init__(self):\n",
        "    print(\"Base 2 class\")\n",
        "\n",
        "\n",
        "class Derived(Base1,Base2):\n",
        "  pass\n",
        "\n",
        "D = Derived()"
      ],
      "execution_count": 0,
      "outputs": [
        {
          "output_type": "stream",
          "text": [
            "Base1 Class\n"
          ],
          "name": "stdout"
        }
      ]
    },
    {
      "cell_type": "markdown",
      "metadata": {
        "id": "pV_A7ln8at40",
        "colab_type": "text"
      },
      "source": [
        "In the above method, an object of the derived class is made.\n",
        "Since there is no __init__() method in the derived class, \n",
        "the __init__() method of the first base class gets called.  \n",
        "\n",
        "But since there is no call to super() function in the __init__() method of base1 class, no further __init__() is invoked.  \n",
        "\n",
        "This problem has been rectified in the code given in the following example.  \n",
        "\n",
        "Program to demonstrate the call of the super() from __init() of a base class.  "
      ]
    },
    {
      "cell_type": "code",
      "metadata": {
        "id": "YZThd8jOl9uj",
        "colab_type": "code",
        "outputId": "27fd9d17-92c8-4524-f3b8-42c0644957fe",
        "colab": {
          "base_uri": "https://localhost:8080/",
          "height": 51
        }
      },
      "source": [
        "class Base1(object):\n",
        "  def __init__(self):\n",
        "    print(\"Base1 Class\")\n",
        "    super(Base1,self).__init__()\n",
        "\n",
        "class Base2(object):\n",
        "  def __init__(self):\n",
        "    print(\"Base 2 class\")\n",
        "\n",
        "\n",
        "class Derived(Base1,Base2):\n",
        "  pass\n",
        "\n",
        "D = Derived()\n"
      ],
      "execution_count": 0,
      "outputs": [
        {
          "output_type": "stream",
          "text": [
            "Base1 Class\n",
            "Base 2 class\n"
          ],
          "name": "stdout"
        }
      ]
    },
    {
      "cell_type": "markdown",
      "metadata": {
        "id": "fA11F_Q2mmAR",
        "colab_type": "text"
      },
      "source": [
        "Program to call the __init__() method of all the classes."
      ]
    },
    {
      "cell_type": "code",
      "metadata": {
        "id": "L_8fJprLmqvv",
        "colab_type": "code",
        "outputId": "eadb6b0e-40a7-4d69-a51d-8c54fa14c41a",
        "colab": {
          "base_uri": "https://localhost:8080/",
          "height": 68
        }
      },
      "source": [
        "class Base1(object):\n",
        "  def __init__(self):\n",
        "    print(\"Base1 Class\")\n",
        "    super(Base1,self).__init__()\n",
        "\n",
        "class Base2(object):\n",
        "  def __init__(self):\n",
        "    print(\"Base 2 class\")\n",
        "\n",
        "\n",
        "class Derived(Base1,Base2):\n",
        "  def __init__(self):\n",
        "    super(Derived,self).__init__()\n",
        "    print(\"Derived Class\")\n",
        "  \n",
        "D = Derived()"
      ],
      "execution_count": 0,
      "outputs": [
        {
          "output_type": "stream",
          "text": [
            "Base1 Class\n",
            "Base 2 class\n",
            "Derived Class\n"
          ],
          "name": "stdout"
        }
      ]
    },
    {
      "cell_type": "markdown",
      "metadata": {
        "id": "OQBtUnK8ovP8",
        "colab_type": "text"
      },
      "source": [
        "** Two built in functions **isinstance() and issubclass()** are very useful in Python to check instances.\n",
        "The isinstance() function returns true if the object is an instance of the class or other classes derived from it.\n",
        "\n",
        "Similarly the issubclass() checks for the class inheritance as shown in the following example \n",
        "\n",
        "Program to demonstrate **isinstance() and issubclass()**  "
      ]
    },
    {
      "cell_type": "code",
      "metadata": {
        "id": "oWY2-QgfpXny",
        "colab_type": "code",
        "outputId": "3a6b9e61-73a5-4f87-a7ce-3094177138ec",
        "colab": {
          "base_uri": "https://localhost:8080/",
          "height": 306
        }
      },
      "source": [
        "class Person:\n",
        "  def __init__(self,name,age):\n",
        "    self.name = name \n",
        "    self.age = age\n",
        "\n",
        "  def display(self):\n",
        "    print(\"NAME :   \",self.name)\n",
        "    print(\"NAME :   \",self.age)\n",
        "\n",
        "class Teacher(Person):\n",
        "  def __init__(self,name,age,exp,r_area):\n",
        "    Person.__init__(self,name,age)\n",
        "    self.exp = exp \n",
        "    self.r_area = r_area\n",
        "\n",
        "  def displayData(self):\n",
        "    Person.display(self)\n",
        "    print(\"EXPERIENCE :   \",self.exp)\n",
        "    print(\"RESEARCH AREA :  \",self.r_area)\n",
        "\n",
        "class Student(Person):\n",
        "  def __init__(self,name,age,course,marks):\n",
        "    Person.__init__(self,name,age)\n",
        "    self.course = course\n",
        "    self.marks = marks\n",
        "\n",
        "  def displayData(self):\n",
        "    Person.display(self)\n",
        "    print(\"COURSE :   \",self.course)\n",
        "    print(\"MARKS :    \",self.marks)\n",
        "    print(\"***********************TEACHER******************\")\n",
        "\n",
        "T = Teacher(\"John\",44,5,\"Information Retrieval System\")\n",
        "T.displayData()\n",
        "print(\"*******************************************STUDENT***************\")\n",
        "S = Student(\"Rony\",33,\"Python\",78)\n",
        "S.displayData()\n",
        "print(\"T is a Teacher : \", isinstance(T,Teacher))\n",
        "print(\"T is a Person: \", isinstance(T,Person))\n",
        "print(\"T is a an integer : \", isinstance(T,int))\n",
        "print(\"T is a Object : \", isinstance(T,object))\n",
        "print(\"Person is a subclass of Teacher : \", issubclass(Person,Teacher))\n",
        "print(\"Teacher is a subclass of Person : \", issubclass(Teacher,Person))\n",
        "print(\"Boolean is a subclass of int: \", issubclass(bool,int))\n",
        "\n",
        "\n"
      ],
      "execution_count": 0,
      "outputs": [
        {
          "output_type": "stream",
          "text": [
            "NAME :    John\n",
            "NAME :    44\n",
            "EXPERIENCE :    5\n",
            "RESEARCH AREA :   Information Retrieval System\n",
            "*******************************************STUDENT***************\n",
            "NAME :    Rony\n",
            "NAME :    33\n",
            "COURSE :    Python\n",
            "MARKS :     78\n",
            "***********************TEACHER******************\n",
            "T is a Teacher :  True\n",
            "T is a Person:  True\n",
            "T is a an integer :  False\n",
            "T is a Object :  True\n",
            "Person is a subclass of Teacher :  False\n",
            "Teacher is a subclass of Person :  True\n",
            "Boolean is a subclass of int:  True\n"
          ],
          "name": "stdout"
        }
      ]
    },
    {
      "cell_type": "markdown",
      "metadata": {
        "id": "3uUOtZuT5jaf",
        "colab_type": "text"
      },
      "source": [
        "# TYPES OF INHERITANCE \n",
        "\n",
        "Python supports different variants of inheritance, such as **single, multiple, multi-level and multi-path** inheritances.  \n",
        "\n",
        "**Single** A class can be derived from a single base class. \n",
        "\n",
        "**Multiple** A class can be derived from more than one base class.  \n",
        "\n",
        "When a derived class inherits features from more than one class, it is called Multiple inheritance.  The derived class has all the feature of both the base class and in addition to them, can have additional new features.  \n",
        "\n",
        "The syntax is as under;- \n",
        "\n",
        "**\n",
        "Class Base1:\n",
        "  statement block\n",
        "Class Base2:\n",
        "  statement block\n",
        "Class Derived(Base1, Base2):\n",
        "  statement block **\n",
        "\n",
        "In the multiple inheritance scenario, any specified attribute is first searched ( or the derived) class.  If it is not found there, the search continues into parent classes using the depth-first technique, that is left- right fashion, without searching same class twice.  \n",
        "\n",
        "**Note** If the specified attribute is not found in the derived class, the search proceeds to look into the base class.  The rule is applied recursively if the base class itself is derived from some other class.  \n",
        "\n",
        "Program to demonstrate multiple inheritance.  "
      ]
    },
    {
      "cell_type": "code",
      "metadata": {
        "id": "6A7rWQ-O7Lsj",
        "colab_type": "code",
        "colab": {
          "base_uri": "https://localhost:8080/",
          "height": 68
        },
        "outputId": "0a24b948-5d4b-4dcc-b3b3-f0ff0cc2c259"
      },
      "source": [
        "class Base1(object):  # First base class\n",
        "  def __init__(self):\n",
        "    super(Base1, self).__init__()\n",
        "    print(\"Base1 Class\")\n",
        "class Base2(object):\n",
        "  def __init__(self): # Second base class. \n",
        "    super(Base2,self).__init__()\n",
        "    print(\"Base2 Class\")\n",
        "class Derived(Base1, Base2): #  Derived class derived from Base1 and Base2\n",
        "  def __init__(self):\n",
        "    super(Derived, self).__init__()\n",
        "    print(\"Derived Class\")\n",
        "\n",
        "D = Derived()\n"
      ],
      "execution_count": 2,
      "outputs": [
        {
          "output_type": "stream",
          "text": [
            "Base2 Class\n",
            "Base1 Class\n",
            "Derived Class\n"
          ],
          "name": "stdout"
        }
      ]
    },
    {
      "cell_type": "markdown",
      "metadata": {
        "id": "Cp-JZgkE83uP",
        "colab_type": "text"
      },
      "source": [
        "# Multi-level Inheritance: \n",
        "The technique of deriving a class from already derived class is called Multi-level inheritance.  \n",
        "\n",
        "                    Base class \n",
        "\n",
        "                    Derived Class 1\n",
        "\n",
        "\n",
        "                    Derived Class 2\n",
        "\n",
        "Base class acts as the base for Derived Class I which in turn acts as base for Derived Class 2.  The derived class I has features of the base class plus its own features.  The Derived class I is known as **intermediate base class**  as this class provide link for inheritance between the Base Class and the Derived Class 2.  \n",
        "\n",
        "The chain of classes -- Base class --> Derived Class 1 --> Derived class 2 \n",
        "is known as inheritance path.  In multi-level inheritance, the number of levels can go up to any number based on the requirement.  \n",
        "\n",
        "The syntax for multi-level inheritance can be given as : \n",
        "\n",
        "Class Base: \n",
        "  pass \n",
        "Class Derived1(Base):\n",
        "  pass\n",
        "Class Derived2 (Derived1):\n",
        "  pass\n",
        "\n",
        "In multi-level inheritance scenario, any specified attribute is first searched in the current class (Derived Class 2).  \n",
        "\n",
        "If it is not found there, then the Derived Class 1 is searched,  if it is not found even there then the Base class is searched.  \n",
        "\n",
        "If the attribute is still not found, then finally the object class is checked.  \n",
        "This order is also called linerarization of Derived Class 2. \n",
        "\n",
        "Correspondingly, the set of rules used to find this linearization order is called Method Resolution Order (MRO) \n",
        "\n",
        "The MRO ensures that a class appears before its parent classes.  However, in case of multiple inheritances, the MRO is the same as a tuple of base classes.  \n",
        "\n",
        "You can check the MRO of a class by either using the __mro__ attribute or the mro() method.  \n",
        "\n",
        "While the __mro__ attribute returns a tuple, the mro() method returns a list.  \n",
        "\n",
        "**Note** Python has MRO and algorithm c3 to keep track of classes and their heirarchy.  \n",
        "\n",
        "\n",
        "Program to demonstrate multi-level inheritance. "
      ]
    },
    {
      "cell_type": "code",
      "metadata": {
        "id": "PTzJWAV1ese_",
        "colab_type": "code",
        "colab": {
          "base_uri": "https://localhost:8080/",
          "height": 51
        },
        "outputId": "d0b25e31-f52d-42aa-90c9-f168dd669b64"
      },
      "source": [
        "class Person:\n",
        "  def name(self):     # Base class\n",
        "    print('Name.....')\n",
        "\n",
        "class Teacher(Person):    # class derived from Person\n",
        "  def Qualification (self):\n",
        "    print('Qualification ... Ph.D must')\n",
        "\n",
        "class HOD(Teacher): # class derived from Teacher, now heirarchy is person->teacher->HOD\n",
        "  def experience(self): \n",
        "    print ('Experience ..... at least 15 years')\n",
        "\n",
        "hod = HOD()\n",
        "hod.name()\n",
        "hod.Qualification\n",
        "hod.experience()\n",
        "\n"
      ],
      "execution_count": 4,
      "outputs": [
        {
          "output_type": "stream",
          "text": [
            "Name.....\n",
            "Experience ..... at least 15 years\n"
          ],
          "name": "stdout"
        }
      ]
    },
    {
      "cell_type": "markdown",
      "metadata": {
        "id": "fOc1oqAFgJw8",
        "colab_type": "text"
      },
      "source": [
        "# Multi-path Inheritance. \n",
        "\n",
        "**Deriving a class from other derived class that are in turn derived from the same base class is called multi-path-inheritance.**  \n",
        "\n",
        "\n",
        "                                    Base class\n",
        "\n",
        "          Derived class I                              Derived class II \n",
        "\n",
        "\n",
        "                                   Derived class III \n",
        "   \n",
        "  The derived class has two immediate base classes Derived Class I and Derived Class II.  Both these base classes are themselves derived from Base Class, thereby forming a grandparent, parent and child form of a relationship.  \n",
        "\n",
        "  The derived class inherits the features of the Base Class (grandparent) via two separate paths.  \n",
        "\n",
        "  Therefore, the Base class is also known as the indirect base class.  \n",
        "\n",
        "\n",
        "Program to demonstrate the multi-path inheritance.  "
      ]
    },
    {
      "cell_type": "code",
      "metadata": {
        "id": "vfDByHVRl5DA",
        "colab_type": "code",
        "colab": {
          "base_uri": "https://localhost:8080/",
          "height": 68
        },
        "outputId": "94d44254-575a-4bdb-9f14-3bff74e65ed9"
      },
      "source": [
        "class Student:\n",
        "  def name(self):\n",
        "    print('Name....')\n",
        "\n",
        "class Academic_Performance(Student):\n",
        "  def Acad_score(self):\n",
        "    print('Academic Score.... 90% and above')\n",
        "\n",
        "class ECA(Student):\n",
        "  def ECA_score(self):\n",
        "    print('ECA Score ...... 60% and above')\n",
        "\n",
        "class Result(Academic_Performance, ECA):\n",
        "  def Eligibility(self):\n",
        "    print(\"*****************MINIMUM ELIGIBILITY TO APPLY\")\n",
        "    self.Acad_score()\n",
        "    self.ECA_score()\n",
        "R = Result()\n",
        "R.Eligibility()"
      ],
      "execution_count": 5,
      "outputs": [
        {
          "output_type": "stream",
          "text": [
            "*****************MINIMUM ELIGIBILITY TO APPLY\n",
            "Academic Score.... 90% and above\n",
            "ECA Score ...... 60% and above\n"
          ],
          "name": "stdout"
        }
      ]
    },
    {
      "cell_type": "markdown",
      "metadata": {
        "id": "TBxW8Bu-sPC4",
        "colab_type": "text"
      },
      "source": [
        "# Multi-Path Inheritance (Diamond Problem)\n",
        "\n",
        "The derived class inherits the members of the base class (grandparents) twice, via parent1 (derived classI ) and via parent 2 (derived class 2).  This results in ambiguity because a duplicate set of members is created.  \n",
        "\n",
        "Thus we see that the diamond relationship exists when at least one of the parent class can be accessed through multiple paths from the bottommost class.  \n",
        "\n",
        "Diamond relationship is very common in python as all class inherit from the object and in case of multiple inheritance there is more than one path to reach the object.  \n",
        "\n",
        "To prevent base class from being accessed more than once, dynamic algorithm (C3 and MRO) linearizes the search order in such a way that the left-to-right ordering specified in each class is preserved and each parent is called only once (also known as monotonic) \n",
        "\n"
      ]
    },
    {
      "cell_type": "markdown",
      "metadata": {
        "id": "uj9RSsYmtfvj",
        "colab_type": "text"
      },
      "source": [
        "# COMPOSITION OR CONTAINERSHIP OR COMPLEX OBJECTS.\n",
        "\n",
        "\n",
        "complex objects are the objects that are built from smaller or simpler objects. \n",
        "The process of building complex objects from simpler ones is called composition or containership.  \n",
        "\n",
        "Object composition is used for objects that have a **has-a** relationship to each other.  For example car has a metal frame, has an engine, and a personal computer has a CPU, a motherboard and other components.  \n",
        "\n",
        "In composition two objects are quire strongly linked.  This means that one object can be thought of as exclusively belonging to the other object.  If the owner object ceases to exists, the owned object will also caease to exist.  \n",
        "\n",
        "**Note** In composition, complex classes have data members belonging to other simpler classes.  \n",
        "\n",
        "**Note** If the link between two objects is weak and neither object has exclusive ownership of other, then it is not composition, it is rather called aggregation.  \n",
        "\n",
        "Program that uses complex objects.  "
      ]
    },
    {
      "cell_type": "code",
      "metadata": {
        "id": "XYebNkXfDttt",
        "colab_type": "code",
        "colab": {
          "base_uri": "https://localhost:8080/",
          "height": 34
        },
        "outputId": "fb8a1674-4178-46c0-b0be-752189e040c3"
      },
      "source": [
        "class One:\n",
        "  def set(self,var):\n",
        "    self.var = var\n",
        "  def get(self):\n",
        "    return self.var\n",
        "\n",
        "class Two:\n",
        "  def __init__(self,var):\n",
        "    self.o = One()\n",
        "    # object of class One is created\n",
        "    self.o.set(var)\n",
        "    # Method of class one is invoked using its object in class two \n",
        "\n",
        "  def show(self):\n",
        "    print(\"Number = \", self.o.get())\n",
        "\n",
        "T = Two(200)\n",
        "T.show()\n",
        "\n"
      ],
      "execution_count": 8,
      "outputs": [
        {
          "output_type": "stream",
          "text": [
            "Number =  200\n"
          ],
          "name": "stdout"
        }
      ]
    },
    {
      "cell_type": "markdown",
      "metadata": {
        "id": "xbDG2512F7Hk",
        "colab_type": "text"
      },
      "source": [
        "In the above program, class Two has an object of class One as its data member.  To access a member of One, we must use objects of both the classes as in self.o.get().  \n",
        "\n",
        "Thus we see that composition is generally used when the features of an existing class is needed inside the new class, but not its interface.  For this, existing class object is embedded in the new class.  The programmer will use the interface of the new class but implementation details of the original class.  \n",
        "\n",
        "\n",
        "**Comparison between Inheritance & Containership**\n",
        "\n",
        "Inheritance enables a class to inherit data and function from a base class by extending it.  The derived class may override the functionality of the base class.  \n",
        "\n",
        "The derived class may add data or functions to the base class.  \n",
        "\n",
        "Inheritance represents a \"is-a\" relationship. \n",
        "\n",
        "Example : Student is a person.  \n",
        "\n",
        "Containership : \n",
        "\n",
        "Enables a class to contain objects of different classes as its data members. \n",
        "The container class does not alter or override the functionality of the contained class.  \n",
        "\n",
        "The container classs cannot add anything to the contained class. \n",
        "\n",
        "Containership represents has-a relationship.\n",
        "\n",
        "\n",
        "Example : Class One has a Class Two.  \n",
        "\n"
      ]
    },
    {
      "cell_type": "markdown",
      "metadata": {
        "id": "Y5Z1xx5VK3Rt",
        "colab_type": "text"
      },
      "source": [
        "# ABSTRACT CLASSES AND INTERFACES\n",
        "\n",
        "It is possible to create a class which cannot be instantiated.  This means that you cannot create object of that class.  Such classes culd only be inherited and then an object of the derived class was used to access the features of the base class.  Such a class was known as the abstract class.  \n",
        "\n",
        "An abstract class is a class that is specifically defined to lay a foundation for other classes that exhibits common behavior or similar characteristics. \n",
        "\n",
        "It is primarily used only as a base class for inheritance.  \n",
        "\n",
        "Since an abstract class is an incomplete class, users are not allowed to create its object.  \n",
        "\n",
        "To use such a class, programmers must derive it keeping in mind that they would only be either using or overiding the features specified in that class.  \n",
        "\n",
        "Abstract class just serves as a template for other classes by defining a list of methods that the classes must implement.  \n",
        "\n",
        "The abstract class is an interface definition.  In inheritence, we say that a class implements an interface if it inherits from the class which specifies that interface.  \n",
        "\n",
        "In python we use the NotImplementedError to restrict the instantiation of a class.  Any class that has NotImplementedError inside method definitions cannot be initiated.  \n",
        "\n",
        "Consider the program given in the following example which creates an abstract class Fruit.  Two other classes Mango and Orange are derived from fruit that implement all the methods defined in Fruit.  Then we create object of the derived class to access the methods defined in these classes.  "
      ]
    },
    {
      "cell_type": "code",
      "metadata": {
        "id": "q87Wnf2fMymU",
        "colab_type": "code",
        "colab": {
          "base_uri": "https://localhost:8080/",
          "height": 51
        },
        "outputId": "f3c9a70a-fb6d-47af-a19d-925e54951cc3"
      },
      "source": [
        "class Fruit:\n",
        "  def taste(self):\n",
        "    raise NotImplementedError()\n",
        "  def rich_in(self):\n",
        "    raise NotImplementedError()\n",
        "  def color(self):\n",
        "    raise NotImplementedError()\n",
        "\n",
        "class Mango(Fruit):\n",
        "  def taste(self):\n",
        "    return \"Sweet\"\n",
        "  def rich_in(self):\n",
        "    return \"Vitamin A\"\n",
        "  def color(self):\n",
        "    return \"Yellow\"\n",
        "\n",
        "class Orange(Fruit):\n",
        "  def taste(self):\n",
        "    return \"Sour\"\n",
        "  def rich_in(self):\n",
        "    return \"Vitamin C\"\n",
        "  def color(self):\n",
        "    return \"Orange\"\n",
        "\n",
        "Alphanso = Mango()\n",
        "print(Alphanso.taste(),Alphanso.rich_in(),Alphanso.color())\n",
        "\n",
        "Org = Orange()\n",
        "print(Org.taste(),Org.rich_in(),Org.color())\n"
      ],
      "execution_count": 9,
      "outputs": [
        {
          "output_type": "stream",
          "text": [
            "Sweet Vitamin A Yellow\n",
            "Sour Vitamin C Orange\n"
          ],
          "name": "stdout"
        }
      ]
    },
    {
      "cell_type": "markdown",
      "metadata": {
        "id": "TLc4B4_WOc5H",
        "colab_type": "text"
      },
      "source": [
        "**Super falls apart if the method of subclasses do not take the same arguments**\n",
        "\n"
      ]
    },
    {
      "cell_type": "markdown",
      "metadata": {
        "id": "KiKwSgh7Ow_u",
        "colab_type": "text"
      },
      "source": [
        "# METACLASS :\n",
        "A metaclass is the class of a class.  \n",
        "While a class defines how an instance of the class behaves, a metaclass, on the other hand, defines how a class behaves.  \n",
        "\n",
        "Every class we create in python is an instance of a metaclass.  \n",
        "\n",
        "For example, type is a metaclass in Python. It is itself a class, and it is its own type.  \n",
        "\n",
        "A programmer cannot make an exact replica of something like type, but Python does allow her to create a metaclass by makig a subclass type.  \n",
        "\n",
        "A Metaclass is most commonly used as a class factory.  As we create an instance of the class by calling the class,  Python creates a new class by calling the instance of a metaclass.  \n",
        "\n",
        "By defining **__init__() and __new__()** a programmer can do a lot of extra things while creating class.  \n",
        "\n",
        "Python allows the programmer to define normal methods on the metaclass whifch are like classmethods, as they can be called on the class without an instance.  However, there is a difference between them as they cannot be called on an instance of the class.  \n",
        "\n",
        "Python allows the programmer to define the normal magic methods, such as __add__(), __iter__(), and __getattr__(), to implement or change how the class behaves.  "
      ]
    },
    {
      "cell_type": "markdown",
      "metadata": {
        "id": "FfSV2nieQpWG",
        "colab_type": "text"
      },
      "source": [
        "**Programming examples**\n",
        "\n",
        "Write a program that has a class Point.  Define another class Location which has two objects (Location and Desgination) of Class Point.  \n",
        "\n",
        "Also define a function in Location that prints the reflection of Destination on the x axis.  \n",
        "\n"
      ]
    },
    {
      "cell_type": "code",
      "metadata": {
        "id": "9vICgCUUREFQ",
        "colab_type": "code",
        "colab": {}
      },
      "source": [
        "class Point:\n",
        "  def __init(self):\n",
        "    self.x = x\n",
        "    self.y = y\n",
        "  \n",
        "  def get(self):\n",
        "    return(self.x,self.y)\n",
        "\n",
        "class Location: \n",
        "  def __init__(self,x1,y1,x2,y2):\n",
        "    self.Source = Point(x1,y1)\n",
        "    self.Destination = Point(x2,y2)\n",
        "  \n",
        "  def show(self):\n",
        "    print(\"Source =   \",self.Source.get())\n",
        "    print(\"Destination =    \",self.Destination.get())\n",
        "\n",
        "  def reflection(self):\n",
        "    self.Destination.x = -self.Destination.x\n",
        "    print(\"Reflection Point on x A axis is :  \",  self.Destination.x,self.Destination.y)\n",
        "\n",
        "l = Location(10,12,13,14)\n",
        "l.show()\n",
        "l.reflection()"
      ],
      "execution_count": 0,
      "outputs": []
    },
    {
      "cell_type": "markdown",
      "metadata": {
        "id": "fri6yZn3YCPG",
        "colab_type": "text"
      },
      "source": [
        "Write a program that has classes such as Student, Course and Department.  \n",
        "Enroll a student in a course of a particular department.   "
      ]
    },
    {
      "cell_type": "code",
      "metadata": {
        "id": "ThPitqKtYMGj",
        "colab_type": "code",
        "colab": {
          "base_uri": "https://localhost:8080/",
          "height": 102
        },
        "outputId": "f0886a2d-16ea-488e-951a-a83afd4a7e28"
      },
      "source": [
        "class Student:\n",
        "  def __init__(self, name,rollno,course,year):\n",
        "    self.name = name\n",
        "    self.rollno = rollno\n",
        "    self.course = Course (course,year)\n",
        "  \n",
        "  def show(self):\n",
        "    print(self.name, self.rollno)\n",
        "    print(self.course.get())\n",
        "  \n",
        "class Course:\n",
        "  def __init__(self, name, year):\n",
        "    self.name = name\n",
        "    self.year = year\n",
        "  \n",
        "  def get(self):\n",
        "    return(self.name, self.year)\n",
        "\n",
        "class Deptt:\n",
        "  def __init__(self,name):\n",
        "    self.name = name\n",
        "    self.courses = [] \n",
        "\n",
        "  def get(self):\n",
        "    return (name, courses)\n",
        "  \n",
        "  def add_courses(self,name):\n",
        "    self.courses.append(name)\n",
        "  \n",
        "  def show_courses(self):\n",
        "    print(\"Courses offered in this department are :   \",self.courses)\n",
        "\n",
        "D1 = Deptt(\"Mathematics\")\n",
        "D2 = Deptt(\"Computer Science\")\n",
        "D1.add_courses(\"BA-ECONOMICS\")\n",
        "D1.add_courses(\"BA-HISTORY\")\n",
        "D1.add_courses(\"BA-PSYCHOLOGY\")\n",
        "D2.add_courses(\"BA-POLITICAL SCIENCE\")\n",
        "D2.add_courses(\"BA-LITERATURE\")\n",
        "print(\"***** Dear Students, the list of courses offered in their department is shown below. Kindly choose any one\")\n",
        "D1.show_courses()\n",
        "D2.show_courses()\n",
        "S = Student(\"Huron\", 1122, \"BA-ECONOMICS\", 2019)\n",
        "S.show()\n"
      ],
      "execution_count": 17,
      "outputs": [
        {
          "output_type": "stream",
          "text": [
            "***** Dear Students, the list of courses offered in their department is shown below. Kindly choose any one\n",
            "Courses offered in this department are :    ['BA-ECONOMICS', 'BA-HISTORY', 'BA-PSYCHOLOGY']\n",
            "Courses offered in this department are :    ['BA-POLITICAL SCIENCE', 'BA-LITERATURE']\n",
            "Huron 1122\n",
            "('BA-ECONOMICS', 2019)\n"
          ],
          "name": "stdout"
        }
      ]
    },
    {
      "cell_type": "markdown",
      "metadata": {
        "id": "XspUlPpwa7PM",
        "colab_type": "text"
      },
      "source": [
        "Write a program that has an abstract class Polygon.  Derive two classes Rectangle and Triangle from Polygon and write two methods to get the details of their dimensions and hence calculate the area.   "
      ]
    },
    {
      "cell_type": "code",
      "metadata": {
        "id": "UYqfszN7bHT_",
        "colab_type": "code",
        "colab": {
          "base_uri": "https://localhost:8080/",
          "height": 119
        },
        "outputId": "b8bbb0b7-ffaf-4452-d75f-f1877edbc668"
      },
      "source": [
        "class Polygon:\n",
        "  def get_data(self):\n",
        "    raise NotImplementedError()\n",
        "  \n",
        "  def area(self):\n",
        "    raise NotImplementedError()\n",
        "\n",
        "class Rectangle(Polygon): \n",
        "  def get_data(self):\n",
        "    self.length = float(input(\"Enter the Length of the Rectangle: \"))\n",
        "    self.breadth = float(input(\"Enter the Breadth of the Rectangle :  \"))\n",
        "  \n",
        "  def area(self):\n",
        "    return self.length * self.breadth;\n",
        "\n",
        "class Triangle(Polygon):\n",
        "  def get_data(self):\n",
        "    self.base = float(input(\"Enter the base of the Triangle: \"))\n",
        "    self.height = float(input(\"Enter the height of the Triangle :  \"))\n",
        "  \n",
        "  def area(self):\n",
        "    return 0.5* self.base * self.height;\n",
        "\n",
        "R = Rectangle()\n",
        "R.get_data()\n",
        "print(\"Area of the Rectangle: \", R.area())\n",
        "\n",
        "T = Triangle()\n",
        "T.get_data()\n",
        "print(\"Area of the Triangle:  \", T.area())\n"
      ],
      "execution_count": 18,
      "outputs": [
        {
          "output_type": "stream",
          "text": [
            "Enter the Length of the Rectangle: 25\n",
            "Enter the Breadth of the Rectangle :  12\n",
            "Area of the Rectangle:  300.0\n",
            "Enter the base of the Triangle: 15\n",
            "Enter the height of the Triangle :  25\n",
            "Area of the Triangle:   187.5\n"
          ],
          "name": "stdout"
        }
      ]
    },
    {
      "cell_type": "markdown",
      "metadata": {
        "id": "7fil9OvIgqec",
        "colab_type": "text"
      },
      "source": [
        "Write a program with class Bill.  The users have the option to pay the bill either by cheque or by cash.  Use the inheritence to model this situation.  \n",
        "\n"
      ]
    },
    {
      "cell_type": "code",
      "metadata": {
        "id": "OsoNpjhfhKCb",
        "colab_type": "code",
        "colab": {}
      },
      "source": [
        "class Bill: \n",
        "  def __init__(self,items,price):\n",
        "    self.total = 0 \n",
        "    self.items = items\n",
        "    self.price = price \n",
        "    for i in self.price:\n",
        "      self.total += i\n",
        "  \n",
        "  def display(self):\n",
        "    print(\"\\n ITEM \\t\\t\\t\\t  PRICE\")\n",
        "    for i in range(len(self.items)):\n",
        "      print(self.items[i], \"\\t\",self.price[i])\n",
        "    print(\"************************************\")\n",
        "    print (\"TOTAL =   \",self.total)\n",
        "\n",
        "class Cash_Payment(Bill):\n",
        "  def __init__(self,items,price,deno,value):\n",
        "    Bill.__init__(self,items,price)\n",
        "    #self.n = n;\n",
        "    self.deno = deno\n",
        "    self.value = value\n",
        "  \n",
        "  def show_cash_payment_details(self):\n",
        "    Bill.display(self)\n",
        "    for i in range(len(deno)):\n",
        "      print(deno[i], \"*\", value[i], \"=\", deno[i] * value[i])\n",
        "\n",
        "class Cheque_Payment(Bill):\n",
        "  def __init__(self,items,price,cno, name):\n",
        "    Bill.__init__(self,items, price)\n",
        "    self.cno = cno\n",
        "    self.name = name\n",
        "  \n",
        "  def show_check_payment_details(self):\n",
        "    Bill.display(self)\n",
        "    print(\"CHEQUE NUMBER :  \", self.cno)\n",
        "    print(\"BANK NAME :  \", self.name)\n",
        "\n",
        "items = [\"External Hard Disk\", \"USB\", \"Rubber Ducky\", \"Wireless Mouse\" ]\n",
        "price = [20,15,16,18]\n",
        "option = int(input(\"Would you like to pay by cheque or cash (1/2) :   \"))\n",
        "if(option==1):\n",
        "  name = input(\"Enter the name of the bank;   \")\n",
        "  cno = input(\"Enter the cheque number :  \")\n",
        "  Cheque = Cheque_Payment(items,price,cno,name)\n",
        "  Cheque.show_check_payment_details()\n",
        "else:\n",
        "  deno = [10,20,50,100,500,2000]\n",
        "  value = [1,1,1,5,6,8]\n",
        "  CP = Cash_Payment(items,price, deno,value)\n",
        "  CP.show_cash_payment_details()\n"
      ],
      "execution_count": 0,
      "outputs": []
    },
    {
      "cell_type": "markdown",
      "metadata": {
        "id": "pcmVuGKAtRNV",
        "colab_type": "text"
      },
      "source": [
        "Write a program that has a class Person.  Inherit a class Faculty from Person, which also has a class Publication.  "
      ]
    },
    {
      "cell_type": "code",
      "metadata": {
        "id": "9zU-O_86w7Dk",
        "colab_type": "code",
        "colab": {
          "base_uri": "https://localhost:8080/",
          "height": 153
        },
        "outputId": "7dcde713-741d-4461-bba5-c347a73b8b82"
      },
      "source": [
        "class Person:\n",
        "  def __init__(self,name, age, sex):\n",
        "    self.name = name \n",
        "    self.age = age \n",
        "    self.sex = sex\n",
        "  \n",
        "  def display(self):\n",
        "    print(\"NAME :   \", self.name)\n",
        "    print(\"AGE  :   \",self.age)\n",
        "    print(\"SEX :    \",self.sex)\n",
        "\n",
        "class Publications:\n",
        "  def __init__(self,no_RP, no_Books, no_Art):\n",
        "    self.no_RP = no_RP \n",
        "    self.no_Books = no_Books \n",
        "    self.no_Art = no_Art\n",
        "  \n",
        "  def display(self):\n",
        "    print(\"Number of Research Papers Published :  \",self.no_RP)\n",
        "    print(\"Number of Research Books Published :  \",self.no_Books)\n",
        "    print(\"Number of Research Articles Published :  \",self.no_Art)\n",
        "\n",
        "class Faculty(Person):\n",
        "  def __init__(self,name, age,sex,desig, dept, no_RP, no_Books, no_Art):\n",
        "    Person.__init__(self,name,age,sex)\n",
        "    self.desig = desig \n",
        "    self.dept = dept \n",
        "    self.Pub = Publications(no_RP, no_Books, no_Art)\n",
        "  \n",
        "  def display(self):\n",
        "    Person.display(self)\n",
        "    print(\"DESIGNATION :  \",self.desig)\n",
        "    print(\"DEPARTMENT :  \",self.dept)\n",
        "    self.Pub.display()\n",
        "\n",
        "F = Faculty(\"Presicilla\", 34, \"Female\", \"ITC\", \"Engineering\",23,2,4)\n",
        "F.display()\n",
        "\n"
      ],
      "execution_count": 20,
      "outputs": [
        {
          "output_type": "stream",
          "text": [
            "NAME :    Presicilla\n",
            "AGE  :    34\n",
            "SEX :     Female\n",
            "DESIGNATION :   ITC\n",
            "DEPARTMENT :   Engineering\n",
            "Number of Research Papers Published :   23\n",
            "Number of Research Books Published :   2\n",
            "Number of Research Articles Published :   4\n"
          ],
          "name": "stdout"
        }
      ]
    }
  ]
}