{
  "nbformat": 4,
  "nbformat_minor": 0,
  "metadata": {
    "colab": {
      "name": "RECURSIVEFUNCTIONS&MODULES.ipynb",
      "provenance": [],
      "collapsed_sections": [],
      "authorship_tag": "ABX9TyMIGUyGnXQE0SVhM2eeTRbt",
      "include_colab_link": true
    },
    "kernelspec": {
      "name": "python3",
      "display_name": "Python 3"
    }
  },
  "cells": [
    {
      "cell_type": "markdown",
      "metadata": {
        "id": "view-in-github",
        "colab_type": "text"
      },
      "source": [
        "<a href=\"https://colab.research.google.com/github/vijendranp/Hello-World/blob/master/RECURSIVEFUNCTIONS%26MODULES.ipynb\" target=\"_parent\"><img src=\"https://colab.research.google.com/assets/colab-badge.svg\" alt=\"Open In Colab\"/></a>"
      ]
    },
    {
      "cell_type": "markdown",
      "metadata": {
        "id": "zOaxgLRvnUBD",
        "colab_type": "text"
      },
      "source": [
        "# RECURSIVE FUNCTIONS AND MODULES.\n",
        "\n",
        "A recursive function is defined as a function that calls itself to solve a small version of its task until a final call is made, which does not require a call to itself.  \n",
        "\n",
        "Every recursive solution has two major cases, which are as follows; \n",
        "\n",
        "** Base case ** : The problem is simple enough to be solved directly without making any further calls to the same function.  \n",
        "\n",
        "** Recursive case ** :  \n",
        "\n",
        "First, the problem at hand is divided into simpler sub-parts.  \n",
        "\n",
        "Second, the function calls itself but with sub-parts of the problem obtained in the first step.  \n",
        "Third, the result is obtained by combining the solution of simpler sub-parts. \n",
        "\n",
        "*** EVERY RECURSIVE FUNCTION MUST HAVE AT LEAST ONE BASE CASE.  OTHERWISE THE RECURSIVE FUNCTION WILL GENERATE AN INFINITE SEQUENCE OF CALLS THEREBY RESULTING IN AN ERROR CONDITION KNOWN AS INFINITE STACK. *** \n",
        "\n",
        "\n",
        "*** Recursion Function *** Utilizes divide and conquer technique of problem solving.  Divide and conquer technique is a method of solving a given problem by dividing it into more smaller instances.  \n",
        "\n",
        "Each of these smaller instances is recursively solved and the solutions are combined to produce a solution for the original problem.  \n",
        "\n",
        "\n",
        "To understand recursive function, let us take an example of calculating factorial.\n",
        "\n",
        "To calculate n! what we have to do is multiply the number with factorial of a number that is less than the number.  In other words,  n! = n x (n-1)!\n",
        "\n",
        "5! = 5 x 4 x 3 x 2 x 1!  \n",
        "\n",
        "**Base case** is when n =1, the result is known to be as 1! = 1.\n",
        "**Recursive case** of the factorial function will call itself but with a smaller value of n, this case can be given as:\n",
        "\n",
        "factorial (n) = n x factorial (n-1)\n",
        "\n",
        "Program to calculate the factorial of a number recursively.  \n",
        "\n"
      ]
    },
    {
      "cell_type": "code",
      "metadata": {
        "id": "cd4kGA2l3eFA",
        "colab_type": "code",
        "colab": {
          "base_uri": "https://localhost:8080/",
          "height": 51
        },
        "outputId": "22f280be-8dc1-4204-b884-ccc3fa734b9f"
      },
      "source": [
        "def fact(n):\n",
        "  if(n==1 or n ==0):\n",
        "    return 1\n",
        "  else:\n",
        "    return n*fact(n-1)\n",
        "\n",
        "n = int(input(\"Enter the value of n :  \"))\n",
        "print(\"The factorial of \",n,\"is\",fact(n))"
      ],
      "execution_count": 1,
      "outputs": [
        {
          "output_type": "stream",
          "text": [
            "Enter theh value of n :  9\n",
            "The factorial of  9 is 362880\n"
          ],
          "name": "stdout"
        }
      ]
    },
    {
      "cell_type": "markdown",
      "metadata": {
        "id": "78ylJCW8s-yK",
        "colab_type": "text"
      },
      "source": [
        "**Note** The aforementioned example, the basic step of recursive program : \n",
        "\n",
        "**Step 1 ** Specify the base case which will stop the function from making a call to itself.  \n",
        "\n",
        "**Step 2 ** Check to see whether the current value being processed matches with the value of the base case.  If yes, process and return the value.  \n",
        "\n",
        "**Step 3 **  Divide the problem into a smaller or simpler sub-problem. \n",
        "\n",
        "**Step 4 **  Call the function on the sub-problem. \n",
        "\n",
        "**Step 5 **   Combine the results of the sub-problems. \n",
        "\n",
        "**Step 6 **  Return the result of the entire problem.  \n",
        "\n",
        "**NOTE **  The base case of a recursive function acts as the terminating condition.  So in the absence of an explicitly defined base case, recursive function would call itself indefinitely.  \n",
        "\n",
        "\n",
        "  "
      ]
    },
    {
      "cell_type": "markdown",
      "metadata": {
        "id": "mw1-dqmFuy2M",
        "colab_type": "text"
      },
      "source": [
        "**GREATEST COMMON DIVISOR**\n",
        "**The Greatest Common Divisor of two numbers (integers) is the largest integer that divides both the numbers.  We can find the GCD of two numbers recursively by using Euclid algorithm.**\n",
        "\n",
        "\n",
        "**GCD(a,b)** =      b, if b divides     \n",
        "                    GCD(b, a MOD b) otherwise. \n",
        "\n",
        "\n",
        "**GCD() can be implemented as a recursive funciton because if b does not divide a, then we call the same function (GCD) with another set of parameters that are smaller and simpler than the original ones.**  \n",
        "\n",
        "**Working**\n",
        "\n",
        "Assume a = 62 and b =8 \n",
        "GCD(62,8)\n",
        "  rem = 62% 8 = 6\n",
        "  GCD(8,6)\n",
        "    rem = 8 % 6 = 2\n",
        "    GCD (6,2)\n",
        "      rem = 6 % 2 = 0\n",
        "    Return 2 \n",
        "\n",
        "  Return 2\n",
        "\n",
        "Return 2\n",
        "\n",
        "\n"
      ]
    },
    {
      "cell_type": "markdown",
      "metadata": {
        "id": "md9g2OOIzlPj",
        "colab_type": "text"
      },
      "source": [
        "**Program to calculate GCD using recursive functions**\n",
        "\n"
      ]
    },
    {
      "cell_type": "code",
      "metadata": {
        "id": "ZM2DEtTIzx4c",
        "colab_type": "code",
        "outputId": "560a7ffd-b8be-4c19-a922-9953d9a29c3f",
        "colab": {
          "base_uri": "https://localhost:8080/",
          "height": 68
        }
      },
      "source": [
        "def GCD(x,y):\n",
        "  rem = x%y\n",
        "  if(rem ==0):\n",
        "    return y\n",
        "  else:\n",
        "    return GCD(y,rem)\n",
        "\n",
        "n = int(input(\"Enter the first number : \"))\n",
        "m = int(input(\"Enter the second number : \"))\n",
        "print(\"The GCD of number is\", GCD(n,m))"
      ],
      "execution_count": 1,
      "outputs": [
        {
          "output_type": "stream",
          "text": [
            "Enter the first number : 50\n",
            "Enter the second number : 5\n",
            "The GCD of number is 5\n"
          ],
          "name": "stdout"
        }
      ]
    },
    {
      "cell_type": "markdown",
      "metadata": {
        "id": "h-mqzS2N1ada",
        "colab_type": "text"
      },
      "source": [
        "**FINDING EXPONENTS**\n",
        "\n",
        "We can find a solution to find exponent of a number using recursion.  To find x to the power y, the base case would be when y = 0, as we know that any number raised to the power 0 is one.  Therefor,e the general formula to find x to the power y can be given as \n",
        "\n",
        "EXP(x,y) =  1, if y == 0\n",
        "            x * EXP(x raised to y-1) otherwise.  \n",
        "\n",
        "\n",
        "\n"
      ]
    },
    {
      "cell_type": "code",
      "metadata": {
        "id": "Bu6wn4IF3JxF",
        "colab_type": "code",
        "colab": {
          "base_uri": "https://localhost:8080/",
          "height": 68
        },
        "outputId": "c5055e4a-4124-41eb-fad6-73cfd159e378"
      },
      "source": [
        "def exp_rec(x,y):\n",
        "  if(y==0):\n",
        "    return 1\n",
        "  else:\n",
        "    return(x*exp_rec(x,y-1))\n",
        "\n",
        "n = int(input(\"Enter the first number : \"))\n",
        "m = int(input(\"Enter the second number : \"))\n",
        "print(\"Result\", exp_rec(n,m))\n"
      ],
      "execution_count": 2,
      "outputs": [
        {
          "output_type": "stream",
          "text": [
            "Enter the first number : 10\n",
            "Enter the second number : 5\n",
            "Result 100000\n"
          ],
          "name": "stdout"
        }
      ]
    },
    {
      "cell_type": "markdown",
      "metadata": {
        "id": "NSjF46qvNunH",
        "colab_type": "text"
      },
      "source": [
        "**RECURSIVE FUNCTIONS CAN BECOME INFINITE IF YOU DONT SPECIFY THE BASE CASE**"
      ]
    },
    {
      "cell_type": "code",
      "metadata": {
        "id": "0kfw8bF04-JU",
        "colab_type": "code",
        "colab": {}
      },
      "source": [
        ""
      ],
      "execution_count": 0,
      "outputs": []
    },
    {
      "cell_type": "markdown",
      "metadata": {
        "id": "BJvyWic96B0k",
        "colab_type": "text"
      },
      "source": [
        "Program to demonstrate the FIBONACCI SERIES\n",
        "\n",
        "1   1     2     3     5    8   13    21     34     55...............\n",
        "\n",
        "The third term of the series is the sum of the first and second terms.  \n",
        "\n",
        "The general formula to do so can be given as under;- \n",
        "\n",
        "FIB(n)   1, if n<=2\n",
        "FIB (n-1) + FIB(n-2), otherwise.  \n",
        "\n",
        "AS PER THE FORMULA FIB(1) = 1 and FIB(2) = 1\n",
        "  **SO WE HAVE TWO BASE CASES.**  THIS IS NECESSARY because every problem is divided into two smaller problems.  \n",
        "\n",
        "\n",
        "  **Recursion can also be indirect.  That is, one function can call a second function which in turn calls the first, which again calls the second, and so on.  This can occur with any number of functions. **\n",
        "\n",
        "\n",
        "  Write a program to print the Fibonacci series using recursion.  \n"
      ]
    },
    {
      "cell_type": "code",
      "metadata": {
        "id": "rS28p6WQ6Fuq",
        "colab_type": "code",
        "outputId": "fab0d4d1-43d6-447a-972f-dab409621589",
        "colab": {
          "base_uri": "https://localhost:8080/",
          "height": 170
        }
      },
      "source": [
        "def fibonacci(n):\n",
        "  if(n<2):\n",
        "    return 1\n",
        "  return (fibonacci(n-1)+fibonacci(n-2))\n",
        "\n",
        "n = int(input(\"Enter the number of terms:     \"))\n",
        "for i in range(n):\n",
        "  print(\"Fibonacci(\",i,\") = \",fibonacci(i))"
      ],
      "execution_count": 3,
      "outputs": [
        {
          "output_type": "stream",
          "text": [
            "Enter the number of terms:     8\n",
            "Fibonacci( 0 ) =  1\n",
            "Fibonacci( 1 ) =  1\n",
            "Fibonacci( 2 ) =  2\n",
            "Fibonacci( 3 ) =  3\n",
            "Fibonacci( 4 ) =  5\n",
            "Fibonacci( 5 ) =  8\n",
            "Fibonacci( 6 ) =  13\n",
            "Fibonacci( 7 ) =  21\n"
          ],
          "name": "stdout"
        }
      ]
    },
    {
      "cell_type": "markdown",
      "metadata": {
        "id": "somaxvhR60oh",
        "colab_type": "text"
      },
      "source": [
        "**Keypoints to Remember**\n",
        "**Recursion v/s Iteration**\n",
        "\n",
        "Recursion is a top down approach to problem solving, the original problem is divided into smaller sub-problems.  \n",
        "\n",
        "Iteration is a bottom up approach that begins with what is known and then constructing the solution step-by-step.  \n",
        "\n",
        "\n",
        "\n",
        "\n",
        "**Infinite Recursion**\n",
        "\n",
        "program to demonstrate, recursive program \n",
        "\n"
      ]
    },
    {
      "cell_type": "code",
      "metadata": {
        "id": "_eW5fD5z7Ohk",
        "colab_type": "code",
        "colab": {}
      },
      "source": [
        "def func(n,count=0):\n",
        "  if n==0:\n",
        "    return count\n",
        "  else:\n",
        "    return func(n,count+1)\n",
        "    \n",
        "print(\"Number of times recursive function was invoked\", func(100))"
      ],
      "execution_count": 0,
      "outputs": []
    },
    {
      "cell_type": "markdown",
      "metadata": {
        "id": "3RgN9eYM6Bw5",
        "colab_type": "text"
      },
      "source": [
        "In the above code recursion never reaches the base case and therefore, goes on making recursive calls for ever.  Such a recursive call is called **infinite recursion**\n",
        "\n",
        "Benefits of using recursive program are : \n",
        "\n",
        "Recursive solution often tend to be shorter and simpler. \n",
        "code is clearer and easier to use. \n",
        "Recursion uses the original formula to solve problem. \n",
        "It follows divide and conquer technique to solve problem. \n",
        "\n",
        "Cons :\n",
        "Recursing is implemented using system stack.\n",
        "Aborting recursive process is nasty. \n",
        "Usig a recursive process takes more memory and time to execute, as compared to non-recursive counterpart. \n",
        "\n",
        "\n",
        "Program to demonstrate the count number of times a recursive function is called.  \n"
      ]
    },
    {
      "cell_type": "code",
      "metadata": {
        "id": "WlDT5EqM7516",
        "colab_type": "code",
        "outputId": "2cd567ac-de1b-4de9-87d2-032f06dd80fd",
        "colab": {
          "base_uri": "https://localhost:8080/",
          "height": 34
        }
      },
      "source": [
        "def func(n,count=0):\n",
        "  if n==0:\n",
        "    return count\n",
        "  else:\n",
        "    return func(n-1,count+1)\n",
        "    \n",
        "print(\"Number of times recursive function was invoked\", func(100))"
      ],
      "execution_count": 5,
      "outputs": [
        {
          "output_type": "stream",
          "text": [
            "Number of times recursive function was invoked 100\n"
          ],
          "name": "stdout"
        }
      ]
    },
    {
      "cell_type": "markdown",
      "metadata": {
        "id": "Z3Q78XuAzlLT",
        "colab_type": "text"
      },
      "source": [
        "**MODULES**\n",
        "\n",
        "\n",
        "Modules are pre-written pieces of code that are used to perform common tasks like generating random number, performing mathematical operations. \n",
        "\n",
        "Module is a file with a .py extension that has definitions of all functions and variables that you would like to use even in other programs.  \n",
        "\n",
        "The basic way to use a module is to add import module_name as the first line of your program and then writing module_name.var to access functions and values with the name var in the module.  \n",
        "\n",
        "**Module Loading and Execution. **\n",
        "\n",
        "A module imported in a program must be located and loaded into memory before it can be used.  \n",
        "\n",
        "\n",
        "program to show the use of from.... import statement. "
      ]
    },
    {
      "cell_type": "code",
      "metadata": {
        "id": "Lhi27J2jJxfo",
        "colab_type": "code",
        "colab": {
          "base_uri": "https://localhost:8080/",
          "height": 34
        },
        "outputId": "e5d0ce7e-6734-469d-99f7-d6799c8eecff"
      },
      "source": [
        "from math import pi\n",
        "print(\"PI\",+ pi)\n"
      ],
      "execution_count": 6,
      "outputs": [
        {
          "output_type": "stream",
          "text": [
            "PI 3.141592653589793\n"
          ],
          "name": "stdout"
        }
      ]
    },
    {
      "cell_type": "code",
      "metadata": {
        "id": "w5huJL7cMAP1",
        "colab_type": "code",
        "colab": {
          "base_uri": "https://localhost:8080/",
          "height": 34
        },
        "outputId": "57e80ea4-c507-4c3f-911f-fd7169290b71"
      },
      "source": [
        "from math import pi, sqrt\n",
        "from math import sqrt as square_root\n",
        "print(square_root(81))\n"
      ],
      "execution_count": 7,
      "outputs": [
        {
          "output_type": "stream",
          "text": [
            "9.0\n"
          ],
          "name": "stdout"
        }
      ]
    },
    {
      "cell_type": "markdown",
      "metadata": {
        "id": "jkZVGb3LMqM4",
        "colab_type": "text"
      },
      "source": [
        "**Command Line Arguments**\n",
        "\n"
      ]
    },
    {
      "cell_type": "code",
      "metadata": {
        "id": "NGe30hu8NRhp",
        "colab_type": "code",
        "colab": {}
      },
      "source": [
        "import sys\n",
        "print(sys.argv)"
      ],
      "execution_count": 0,
      "outputs": []
    },
    {
      "cell_type": "markdown",
      "metadata": {
        "id": "3PqYG64nNgZ9",
        "colab_type": "text"
      },
      "source": [
        "**sys.exit()** sys.exit([arg]) to exit from python. \n",
        "\n",
        "program to demonstrate sys.exit"
      ]
    },
    {
      "cell_type": "markdown",
      "metadata": {
        "id": "oKKr8agQOAl3",
        "colab_type": "text"
      },
      "source": [
        ""
      ]
    },
    {
      "cell_type": "code",
      "metadata": {
        "id": "-f5t6b-gNm6Q",
        "colab_type": "code",
        "colab": {}
      },
      "source": [
        "import sys\n",
        "print(\"HELLO WORLD\")\n",
        "sys.exit(0)"
      ],
      "execution_count": 0,
      "outputs": []
    },
    {
      "cell_type": "markdown",
      "metadata": {
        "id": "mnxQLp6bOCS7",
        "colab_type": "text"
      },
      "source": [
        "## Name of the Module.  \n",
        "\n",
        "Program to print the name of the module in which your statement is written. \n",
        "\n"
      ]
    },
    {
      "cell_type": "code",
      "metadata": {
        "id": "j4m4oLbWPeK5",
        "colab_type": "code",
        "outputId": "df831377-f6ba-4bdc-ff3c-37f5e32cc5f4",
        "colab": {
          "base_uri": "https://localhost:8080/",
          "height": 51
        }
      },
      "source": [
        "print(\"Hello\")\n",
        "print(\"Name of this module is : \", __name__)\n",
        "\n"
      ],
      "execution_count": 10,
      "outputs": [
        {
          "output_type": "stream",
          "text": [
            "Hello\n",
            "Name of this module is :  __main__\n"
          ],
          "name": "stdout"
        }
      ]
    },
    {
      "cell_type": "markdown",
      "metadata": {
        "id": "rSx-0oltQmAh",
        "colab_type": "text"
      },
      "source": [
        "The dir() function\n",
        "\n",
        "dir() is a built-in function that lists the identifiers defined in a module.  \n",
        "The identifiers may include functions, classes and variables.  The dir() works as given in the following example.  "
      ]
    },
    {
      "cell_type": "code",
      "metadata": {
        "id": "5Dj03k7QQsJT",
        "colab_type": "code",
        "outputId": "fea95850-0214-4128-f873-a533e44d5dec",
        "colab": {
          "base_uri": "https://localhost:8080/",
          "height": 71
        }
      },
      "source": [
        "def print_var(x):\n",
        "  print(x)\n",
        "x=10\n",
        "print_var(x)\n",
        "print(dir())"
      ],
      "execution_count": 11,
      "outputs": [
        {
          "output_type": "stream",
          "text": [
            "10\n",
            "['GCD', 'In', 'Out', '_', '__', '___', '__builtin__', '__builtins__', '__doc__', '__loader__', '__name__', '__package__', '__spec__', '_dh', '_i', '_i1', '_i10', '_i11', '_i2', '_i3', '_i4', '_i5', '_i6', '_i7', '_i8', '_i9', '_ih', '_ii', '_iii', '_oh', '_sh', 'exit', 'exp_rec', 'fibonacci', 'func', 'get_ipython', 'i', 'm', 'n', 'pi', 'print_var', 'quit', 'sqrt', 'square_root', 'sys', 'x']\n"
          ],
          "name": "stdout"
        }
      ]
    },
    {
      "cell_type": "markdown",
      "metadata": {
        "id": "dQf34nE_RdCy",
        "colab_type": "text"
      },
      "source": [
        "\n",
        "# **program to print all identifiers in the dir() function **\n",
        "\n",
        "\n",
        "\n"
      ]
    },
    {
      "cell_type": "code",
      "metadata": {
        "id": "wcpUi2OlTjbx",
        "colab_type": "code",
        "colab": {}
      },
      "source": [
        "import __builtin__\n",
        "print(dir(__builtin__))"
      ],
      "execution_count": 0,
      "outputs": []
    },
    {
      "cell_type": "markdown",
      "metadata": {
        "id": "Mk78MiJjUUoB",
        "colab_type": "text"
      },
      "source": [
        "Python Module.\n",
        "Python Module is a file that contains some definition and statements. \n",
        "When a python file is executed directly, it is considered the main module of the program.  \n",
        "\n",
        "Main modules are given the special name __main__ and provide the basis for a complete Python program. "
      ]
    },
    {
      "cell_type": "markdown",
      "metadata": {
        "id": "C6nZj27rVXbk",
        "colab_type": "text"
      },
      "source": [
        "**MODULES** & **NAMESPACES**\n",
        "\n",
        "A Namespace is a container that provides named context for identifiers.  Two identifiers with the same name in the same scope will lead to a name clash.  \n",
        "\n",
        "Python does not allow programmers to have two different identifiers with same name.  Namespace is the keyword.  \n",
        "\n",
        "Namespaces enables programs to avoid potential name clashes by associating each identifier with the namespace from which it originates.  \n",
        "\n",
        "\n",
        "**LOCAL, GLOBAL AND BUILT-IIN NAMESPACE**\n",
        "\n",
        "During program's execution, there are three main namespacces that are referenced \n",
        "-- the built-in namespace : contains names of built-in functions, constant\n",
        "--the global namespace : contains identifiers of the currently executing module\n",
        "-- the local namespace : has identifiers defined in the currently executing functions.\n",
        "\n",
        "Program to demonstrate name clashes in different namespaces: \n",
        "\n"
      ]
    },
    {
      "cell_type": "code",
      "metadata": {
        "id": "xJpHh-hOVku6",
        "colab_type": "code",
        "outputId": "43ed33b9-53ae-4e58-8598-ba1cfbfeebed",
        "colab": {
          "base_uri": "https://localhost:8080/",
          "height": 68
        }
      },
      "source": [
        "def max(numbers):   # global namespace\n",
        "  print(\"USER DEFINED FUNCTION MAX\")\n",
        "  large = -1\n",
        "  for i in numbers: \n",
        "    if i>large:\n",
        "      large = i\n",
        "  return large \n",
        "\n",
        "numbers = [9,-1,4,2,7]\n",
        "print(max(numbers))\n",
        "print(\"Sum of these numbers =  \",sum(numbers))  # built-in namespace\n"
      ],
      "execution_count": 14,
      "outputs": [
        {
          "output_type": "stream",
          "text": [
            "USER DEFINED FUNCTION MAX\n",
            "9\n",
            "Sum of these numbers =   21\n"
          ],
          "name": "stdout"
        }
      ]
    },
    {
      "cell_type": "markdown",
      "metadata": {
        "id": "uuc2C9Z9W8Zt",
        "colab_type": "text"
      },
      "source": [
        "In the aforementioned program we have used max() which is defined in the global namespace of the program.\n",
        "\n",
        "Local identifier large is defined in a function.  So, it is accessible only in that function.  Note that we have also used the function sum(). \n",
        "\n",
        "In python, identifiers whose name starts with two underscores (__) are known as private identifiers.  \n",
        "\n",
        "These identifiers can be used only within the module.  "
      ]
    },
    {
      "cell_type": "markdown",
      "metadata": {
        "id": "fseI90rHVXXS",
        "colab_type": "text"
      },
      "source": [
        "**PACKAGES IN PYTHON**\n",
        "\n",
        "Package is a heirarchical file directory structure that has modules and other packages within it.  \n",
        "\n",
        "Every package in python is a directory which must have a special file called __init__.py.  \n",
        "\n",
        "For example, to create a package called MyPackage, create a directory called MyPackage having the module MyPackage and the __init__.py file.  \n",
        "\n",
        "Now to use MyModule in a program, you must first import it. \n",
        "\n",
        "import MyPackage.MyModule\n",
        "\n",
        "or \n",
        "\n",
        "from MyPackage import Mymodule\n",
        "\n",
        "**The __init__.py is a very important file that also determines which modules the package exports as the API, while keeping other modules internal, by \n",
        "\n",
        "overriding the __all__ variables**\n",
        "\n",
        "\n",
        "Write a program that prints absolute value, square root, and cube of a number. "
      ]
    },
    {
      "cell_type": "code",
      "metadata": {
        "id": "OZqIBfo_nhyB",
        "colab_type": "code",
        "outputId": "1c5bdb04-8ddb-4dc3-9df7-8bc43ad76b2e",
        "colab": {
          "base_uri": "https://localhost:8080/",
          "height": 85
        }
      },
      "source": [
        "import math\n",
        "\n",
        "def cube(x):\n",
        "  return x**3\n",
        "\n",
        "a = -100\n",
        "print(\"a= \",a)\n",
        "a = abs(a)\n",
        "\n",
        "print(\"abs(a) = \", a)\n",
        "print(\"Square root of \",a, \" =  \",math.sqrt(a))\n",
        "print(\"Cube of\",a, \"= \",cube(a))"
      ],
      "execution_count": 15,
      "outputs": [
        {
          "output_type": "stream",
          "text": [
            "a=  -100\n",
            "abs(a) =  100\n",
            "Square root of  100  =   10.0\n",
            "Cube of 100 =  1000000\n"
          ],
          "name": "stdout"
        }
      ]
    },
    {
      "cell_type": "markdown",
      "metadata": {
        "id": "IgUvZnYqojjR",
        "colab_type": "text"
      },
      "source": [
        "**STANDARD LIBRARY MODULES**  \n",
        "\n",
        "**Python supports three type of modules**\n",
        "**Installed from external sources** :   \n",
        "**Pre-installed with python-- Standard Library**\n",
        "Useful modules in standard library are String : \n",
        "# **re, datetime, math, random, os, multiprocessing, subprocess, socket, email, jason, doctest, unittest, pdb, argparse, and sys.**\n",
        "\n",
        "You can use these modules for performing tasks like string parsing, data serialization, testing, debugging, and manipulating dates, emails, command line arguments.  "
      ]
    },
    {
      "cell_type": "markdown",
      "metadata": {
        "id": "qB5nbqMAZ-YE",
        "colab_type": "text"
      },
      "source": [
        "# GLOBALS(), LOCALS() AND RELOAD()\n",
        "\n",
        "The globals() and locals() functions are used to return the names in the global and local namespaces.\n",
        "\n",
        "Reload() : When a module is imported into a program, the code in the module is executed only once.  If you want to re-execute the top level code in a module, you must reload() function. \n",
        "\n",
        "\n",
        "Program to display the date and time using the Time module."
      ]
    },
    {
      "cell_type": "code",
      "metadata": {
        "id": "ih07MCZO0BOm",
        "colab_type": "code",
        "outputId": "207ee24b-0dc9-41b9-e580-a6f10fffbca7",
        "colab": {
          "base_uri": "https://localhost:8080/",
          "height": 34
        }
      },
      "source": [
        "import time\n",
        "localtime = time.asctime(time.localtime(time.time()))\n",
        "print(\"Local current time : \", localtime)"
      ],
      "execution_count": 16,
      "outputs": [
        {
          "output_type": "stream",
          "text": [
            "Local current time :  Thu May 21 14:42:39 2020\n"
          ],
          "name": "stdout"
        }
      ]
    },
    {
      "cell_type": "markdown",
      "metadata": {
        "id": "jOjAWoc215o3",
        "colab_type": "text"
      },
      "source": [
        "\n",
        "Program to print the calendar of a particular month. "
      ]
    },
    {
      "cell_type": "code",
      "metadata": {
        "id": "VWAbhT8P2GXJ",
        "colab_type": "code",
        "outputId": "29941dc8-b69a-4555-96a2-18210998c04f",
        "colab": {
          "base_uri": "https://localhost:8080/",
          "height": 153
        }
      },
      "source": [
        "import calendar\n",
        "print(calendar.month(2020,5))"
      ],
      "execution_count": 17,
      "outputs": [
        {
          "output_type": "stream",
          "text": [
            "      May 2020\n",
            "Mo Tu We Th Fr Sa Su\n",
            "             1  2  3\n",
            " 4  5  6  7  8  9 10\n",
            "11 12 13 14 15 16 17\n",
            "18 19 20 21 22 23 24\n",
            "25 26 27 28 29 30 31\n",
            "\n"
          ],
          "name": "stdout"
        }
      ]
    },
    {
      "cell_type": "markdown",
      "metadata": {
        "id": "fe9HQ9er6tz0",
        "colab_type": "text"
      },
      "source": [
        "# \n",
        "Write a program that uses the getpass module to prompt the user for a password, without echoing that they type to the console. "
      ]
    },
    {
      "cell_type": "code",
      "metadata": {
        "id": "1-7_45C862oU",
        "colab_type": "code",
        "outputId": "f8ec71d8-401b-4c9d-ed48-8ae526ce653e",
        "colab": {
          "base_uri": "https://localhost:8080/",
          "height": 51
        }
      },
      "source": [
        "import getpass\n",
        "password = getpass.getpass(prompt='Enter the password:  ')\n",
        "if password == 'oxford':\n",
        "  print('Welcome to the world of python programming')\n",
        "else:\n",
        "  print('Incorrect password....... Sorry,  you cannot read our book')\n",
        "\n",
        "\n",
        "\n"
      ],
      "execution_count": 18,
      "outputs": [
        {
          "output_type": "stream",
          "text": [
            "Enter the password:  ··········\n",
            "Welcome to the world of python programming\n"
          ],
          "name": "stdout"
        }
      ]
    },
    {
      "cell_type": "markdown",
      "metadata": {
        "id": "k4JK8_em719t",
        "colab_type": "text"
      },
      "source": [
        "**FUNCTION REDEFINITION** \n",
        "\n",
        "Program to demonstrate function redefinition."
      ]
    },
    {
      "cell_type": "code",
      "metadata": {
        "id": "_tI6lEDq76DI",
        "colab_type": "code",
        "colab": {
          "base_uri": "https://localhost:8080/",
          "height": 68
        },
        "outputId": "040d02ac-5ab1-45cb-9820-1707d3402325"
      },
      "source": [
        "import datetime\n",
        "def showMessage(msg):\n",
        "  print(msg)\n",
        "showMessage(\"Hello\")\n",
        "def showMessage(msg):\n",
        "  now = datetime.datetime.now()\n",
        "  print(msg)\n",
        "  print(str(now))\n",
        "showMessage(\"Current Date and Time : \")\n",
        "\n",
        "\n",
        "# In the above code, we have a function showMessage() which is first defined\n",
        "# to simply display a message that is passed to it. \n",
        "\n",
        "\n",
        "# After the function call, we have redefined the function to print the message\n",
        "# as well as the current date and time.  \n"
      ],
      "execution_count": 20,
      "outputs": [
        {
          "output_type": "stream",
          "text": [
            "Hello\n",
            "Current Date and Time : \n",
            "2020-05-21 14:55:14.457040\n"
          ],
          "name": "stdout"
        }
      ]
    },
    {
      "cell_type": "markdown",
      "metadata": {
        "id": "8Lb52kSH9KP-",
        "colab_type": "text"
      },
      "source": [
        "Write a program to retun the full name of a person. "
      ]
    },
    {
      "cell_type": "code",
      "metadata": {
        "id": "ut-jOFlW9PZM",
        "colab_type": "code",
        "outputId": "6ad09448-ebd7-4da8-d725-6093c548e743",
        "colab": {
          "base_uri": "https://localhost:8080/",
          "height": 34
        }
      },
      "source": [
        "def name(firstName, lastName):\n",
        "  separator = ' '\n",
        "  n = firstName + separator + lastName\n",
        "  return n\n",
        "\n",
        "print(name('Jenny', 'Rex'))"
      ],
      "execution_count": 0,
      "outputs": [
        {
          "output_type": "stream",
          "text": [
            "Jenny Rex\n"
          ],
          "name": "stdout"
        }
      ]
    },
    {
      "cell_type": "markdown",
      "metadata": {
        "id": "-hGka8Ut9wfn",
        "colab_type": "text"
      },
      "source": [
        "Write a program to return the average of its arguments.  \n",
        "\n",
        "---\n",
        "\n"
      ]
    },
    {
      "cell_type": "markdown",
      "metadata": {
        "id": "bTEIJFar-c41",
        "colab_type": "text"
      },
      "source": [
        ""
      ]
    },
    {
      "cell_type": "markdown",
      "metadata": {
        "id": "pQ9mlSVv-eDX",
        "colab_type": "text"
      },
      "source": [
        ""
      ]
    },
    {
      "cell_type": "code",
      "metadata": {
        "id": "uez5FUbw92Ip",
        "colab_type": "code",
        "outputId": "19d6781f-add9-479f-f782-18e3cf590c31",
        "colab": {
          "base_uri": "https://localhost:8080/",
          "height": 68
        }
      },
      "source": [
        "def avg(n1, n2):\n",
        "  return (n1+n2)/2.0\n",
        "\n",
        "n1 = int(input(\"Enter the first number:   \"))\n",
        "n2 = int(input(\"Enter the second number:   \"))\n",
        "print(\"AVERAGE =  \", avg(n1,n2))"
      ],
      "execution_count": 0,
      "outputs": [
        {
          "output_type": "stream",
          "text": [
            "Enter the first number:   57\n",
            "Enter the second number:   76\n",
            "AVERAGE =   66.5\n"
          ],
          "name": "stdout"
        }
      ]
    },
    {
      "cell_type": "markdown",
      "metadata": {
        "id": "lGtgOmb4-gGX",
        "colab_type": "text"
      },
      "source": [
        "Write a program using functions and return statements to check whether a number is even or odd. "
      ]
    },
    {
      "cell_type": "code",
      "metadata": {
        "id": "onkdva6E-pZA",
        "colab_type": "code",
        "outputId": "4d77242a-c4c9-4fcf-f8ee-26ea3563ef51",
        "colab": {
          "base_uri": "https://localhost:8080/",
          "height": 51
        }
      },
      "source": [
        "\n",
        "# Flag variable is used as a signal in programming to let the program know that a certain condition has met.\n",
        "#It usually acts as a boolean variable indicating a condition to be either true or false.\n",
        "\n",
        "\n",
        "def evenodd(a):\n",
        "  if(a%2==0):\n",
        "    return 1\n",
        "  else:\n",
        "    return -1\n",
        "\n",
        "a = int(input(\"Enter the number :   \"))\n",
        "flag = evenodd(a)\n",
        "if(flag ==1):\n",
        "  print(\"Number is even\")\n",
        "if(flag==-1):\n",
        "  print(\"Number is odd\")"
      ],
      "execution_count": 0,
      "outputs": [
        {
          "output_type": "stream",
          "text": [
            "Enter the number :   2902\n",
            "Number is even\n"
          ],
          "name": "stdout"
        }
      ]
    },
    {
      "cell_type": "markdown",
      "metadata": {
        "id": "yWgz5K06CXLn",
        "colab_type": "text"
      },
      "source": [
        "Write a program to convert time into minutes.  "
      ]
    },
    {
      "cell_type": "code",
      "metadata": {
        "id": "yr2oDQPjCdRI",
        "colab_type": "code",
        "outputId": "50e1e53f-7f74-400f-c6b5-a807a945dcf1",
        "colab": {
          "base_uri": "https://localhost:8080/",
          "height": 68
        }
      },
      "source": [
        "def convert_time_in_min(hrs,minute):\n",
        "  minute = hrs*60+minute\n",
        "  return minute\n",
        "\n",
        "h = int(input(\"Enter the hours:     \"))\n",
        "m = int(input(\"Enter the minutes :  \"))\n",
        "m = convert_time_in_min(h,m)\n",
        "print(\"Minutes= \",m)"
      ],
      "execution_count": 0,
      "outputs": [
        {
          "output_type": "stream",
          "text": [
            "Enter the hours:     5\n",
            "Enter the minutes :  25\n",
            "Minutes=  325\n"
          ],
          "name": "stdout"
        }
      ]
    },
    {
      "cell_type": "markdown",
      "metadata": {
        "id": "mIE4uSnhDsb4",
        "colab_type": "text"
      },
      "source": [
        "Write a program to calculate simple interest.  Senior citizen offered 14  per cent roi for all other it is 12 per cent."
      ]
    },
    {
      "cell_type": "code",
      "metadata": {
        "id": "sKNF20QmD_9a",
        "colab_type": "code",
        "outputId": "e248b0af-83cd-4980-e3fc-3c17d376c71b",
        "colab": {
          "base_uri": "https://localhost:8080/",
          "height": 85
        }
      },
      "source": [
        "def interest (p,y,s):\n",
        "  if (s=='y'):\n",
        "    SI = float((p*y*14)/100)\n",
        "  else:\n",
        "    SI = float((p*y*12)/100)\n",
        "  return SI\n",
        "\n",
        "p = float(input(\"Enter the principle amount:  \"))\n",
        "y = float(input(\"Enter the number of years    \"))\n",
        "\n",
        "senior = input(\"Is the customer senior citizen (y/n) : \")\n",
        "print(\"Interest :   \", interest(p,y,senior))\n"
      ],
      "execution_count": 0,
      "outputs": [
        {
          "output_type": "stream",
          "text": [
            "Enter the principle amount:  25000\n",
            "Enter the number of years    4\n",
            "Is the customer senior citizen (y/n) : y\n",
            "Interest :    14000.0\n"
          ],
          "name": "stdout"
        }
      ]
    },
    {
      "cell_type": "markdown",
      "metadata": {
        "id": "H4rzpusnFp3t",
        "colab_type": "text"
      },
      "source": [
        "Write a program to calculate the volume of a cuboid using default arguments. "
      ]
    },
    {
      "cell_type": "code",
      "metadata": {
        "id": "6-dzGXEdFvqf",
        "colab_type": "code",
        "outputId": "32391512-2f16-4259-9f4f-6dda801a8e75",
        "colab": {
          "base_uri": "https://localhost:8080/",
          "height": 119
        }
      },
      "source": [
        "def volume(l,w=3,h=4):\n",
        "  print(\"Length : \",l,\"\\tWidth : \",w,\"\\tHeight : \",h)\n",
        "  return l*w*h\n",
        "\n",
        "print(\"Volume :   \",volume(4,6,2))\n",
        "print(\"Volume :   \",volume(4,6))\n",
        "print(\"Volume :   \",volume(4))"
      ],
      "execution_count": 0,
      "outputs": [
        {
          "output_type": "stream",
          "text": [
            "Length :  4 \tWidth :  6 \tHeight :  2\n",
            "Volume :    48\n",
            "Length :  4 \tWidth :  6 \tHeight :  4\n",
            "Volume :    96\n",
            "Length :  4 \tWidth :  3 \tHeight :  4\n",
            "Volume :    48\n"
          ],
          "name": "stdout"
        }
      ]
    },
    {
      "cell_type": "markdown",
      "metadata": {
        "id": "1_qkvNhaGqSV",
        "colab_type": "text"
      },
      "source": [
        "# Write a program that computes P(n,r)\n"
      ]
    },
    {
      "cell_type": "code",
      "metadata": {
        "id": "XD7dFdjeG9ZZ",
        "colab_type": "code",
        "colab": {}
      },
      "source": [
        "import string\n",
        "\n",
        "\n",
        "def fact(n):\n",
        "  f = 1\n",
        "  if(n==0 or n==1):\n",
        "    return 1\n",
        "  else:\n",
        "    for i in range(1,int(n+1)):\n",
        "      f = f*i\n",
        "  return f\n",
        "\n",
        "n = int(input(\"Enter the value of n :   \"))\n",
        "r = int(input(\"Enter the value of r :   \"))\n",
        "result = float(fact(n))/float(fact(r))\n",
        "print(\"P(\",str(n),\"/\",str(r),\") = \",str(result))\n",
        "\n"
      ],
      "execution_count": 0,
      "outputs": []
    },
    {
      "cell_type": "markdown",
      "metadata": {
        "id": "h0ZXu7ajIZoL",
        "colab_type": "text"
      },
      "source": [
        "Write a program using function to sum the series 1/1! + 4/2! + 27/3!"
      ]
    },
    {
      "cell_type": "code",
      "metadata": {
        "id": "MZ5ULjl9Ihu_",
        "colab_type": "code",
        "outputId": "0c697fc2-5262-4e72-853c-1363bf240246",
        "colab": {
          "base_uri": "https://localhost:8080/",
          "height": 153
        }
      },
      "source": [
        "def fact(n):\n",
        "  f = 1\n",
        "  if(n==0 or n==1):\n",
        "    return 1\n",
        "  else:\n",
        "    for i in range(1,int(n+1)):\n",
        "      f = f*i\n",
        "  return f\n",
        "\n",
        "n = int(input(\"Enter the value of n :   \"))\n",
        "s = 0.0\n",
        "for i in range(1,n+1):\n",
        "  s = s+(float(i**i)/fact(i))\n",
        "  print(\"Result:  \",s)"
      ],
      "execution_count": 0,
      "outputs": [
        {
          "output_type": "stream",
          "text": [
            "Enter the value of n :   7\n",
            "Result:   1.0\n",
            "Result:   3.0\n",
            "Result:   7.5\n",
            "Result:   18.166666666666664\n",
            "Result:   44.20833333333333\n",
            "Result:   109.00833333333333\n",
            "Result:   272.40972222222223\n"
          ],
          "name": "stdout"
        }
      ]
    },
    {
      "cell_type": "markdown",
      "metadata": {
        "id": "DM7HQzgcJ4tW",
        "colab_type": "text"
      },
      "source": [
        "Write a program that uses docstrings and variable length arguments to add the value passed to the function.  "
      ]
    },
    {
      "cell_type": "code",
      "metadata": {
        "id": "7Q9mTIj9J_1B",
        "colab_type": "code",
        "outputId": "26dcf105-19d7-412d-8453-42b68d36c011",
        "colab": {
          "base_uri": "https://localhost:8080/",
          "height": 51
        }
      },
      "source": [
        "def add(*args):\n",
        "  ''' Function returns the sum of values passed to it '''\n",
        "  sum = 0 \n",
        "  for i in args:\n",
        "    sum += i\n",
        "  return sum \n",
        "\n",
        "print(add.__doc__)\n",
        "print(\"SUM =  \",add(35,45,55,65,75,85,95))"
      ],
      "execution_count": 0,
      "outputs": [
        {
          "output_type": "stream",
          "text": [
            " Function returns the sum of values passed to it \n",
            "SUM =   455\n"
          ],
          "name": "stdout"
        }
      ]
    },
    {
      "cell_type": "markdown",
      "metadata": {
        "id": "sRGXi-hrKwEx",
        "colab_type": "text"
      },
      "source": [
        "Write a program that greets a person using function docstring"
      ]
    },
    {
      "cell_type": "code",
      "metadata": {
        "id": "78GHH5O8K-To",
        "colab_type": "code",
        "outputId": "e45595da-ea54-4c6c-c9fc-78db36507e0e",
        "colab": {
          "base_uri": "https://localhost:8080/",
          "height": 68
        }
      },
      "source": [
        "def greet(name, mesg):\n",
        "  \"\"\"This function welcomes the person passed whose name is passed as a parameter\"\"\"\n",
        "  print(\"Welcome,   \" + name + \".\"+ mesg)\n",
        "\n",
        "mesg = \"Happy Reading.  Python programming is fun \"\n",
        "name = input(\"\\n Enter your name: \")\n",
        "greet(name, mesg)\n"
      ],
      "execution_count": 0,
      "outputs": [
        {
          "output_type": "stream",
          "text": [
            "\n",
            " Enter your name: Garry\n",
            "Welcome,   Garry.Happy Reading.  Python programming is fun \n"
          ],
          "name": "stdout"
        }
      ]
    }
  ]
}