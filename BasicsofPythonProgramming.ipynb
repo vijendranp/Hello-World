{
  "nbformat": 4,
  "nbformat_minor": 0,
  "metadata": {
    "colab": {
      "name": "Copy of PythonML-Practice.ipynb",
      "provenance": [],
      "authorship_tag": "ABX9TyMke3w5BJuLGpNNvVT9UUT7",
      "include_colab_link": true
    },
    "kernelspec": {
      "name": "python3",
      "display_name": "Python 3"
    }
  },
  "cells": [
    {
      "cell_type": "markdown",
      "metadata": {
        "id": "view-in-github",
        "colab_type": "text"
      },
      "source": [
        "<a href=\"https://colab.research.google.com/github/vijendranp/Hello-World/blob/master/BasicsofPythonProgramming.ipynb\" target=\"_parent\"><img src=\"https://colab.research.google.com/assets/colab-badge.svg\" alt=\"Open In Colab\"/></a>"
      ]
    },
    {
      "cell_type": "markdown",
      "metadata": {
        "id": "s0M15YMlb6us",
        "colab_type": "text"
      },
      "source": [
        "**Unary Operators**\n"
      ]
    },
    {
      "cell_type": "markdown",
      "metadata": {
        "id": "OIcc0lIYb6rA",
        "colab_type": "text"
      },
      "source": [
        ""
      ]
    },
    {
      "cell_type": "code",
      "metadata": {
        "id": "3TeXv5t2Y3ZC",
        "colab_type": "code",
        "colab": {}
      },
      "source": [
        ""
      ],
      "execution_count": 0,
      "outputs": []
    },
    {
      "cell_type": "markdown",
      "metadata": {
        "id": "sahO93fsBA-O",
        "colab_type": "text"
      },
      "source": [
        "# write a program to print the fibonacci series \n"
      ]
    },
    {
      "cell_type": "code",
      "metadata": {
        "id": "-Td6cdSbBHDk",
        "colab_type": "code",
        "colab": {}
      },
      "source": [
        "def fibonacci(n):\n",
        "  if(n<2):\n",
        "    return 1\n",
        "  else:\n",
        "    return (fibonacci(n-1)+fibonacci(n-2))\n",
        "\n",
        "n = int(input(\"Enter the number of terms: \"))\n",
        "for i in range(n):\n",
        "  print(\"Fibonacci(\",i,\") = \",fibonacci(i))\n"
      ],
      "execution_count": 0,
      "outputs": []
    },
    {
      "cell_type": "code",
      "metadata": {
        "id": "euvBHjVdBHHI",
        "colab_type": "code",
        "colab": {}
      },
      "source": [
        "from math import pi\n",
        "print(\"PI =  \",pi)"
      ],
      "execution_count": 0,
      "outputs": []
    },
    {
      "cell_type": "code",
      "metadata": {
        "id": "KnCtimjyC48_",
        "colab_type": "code",
        "colab": {}
      },
      "source": [
        "import math\n",
        "from math import sqrt as square_root\n",
        "print(square_root(81))"
      ],
      "execution_count": 0,
      "outputs": []
    },
    {
      "cell_type": "code",
      "metadata": {
        "id": "YZ2NXQOFPAjy",
        "colab_type": "code",
        "colab": {}
      },
      "source": [
        ""
      ],
      "execution_count": 0,
      "outputs": []
    },
    {
      "cell_type": "markdown",
      "metadata": {
        "id": "Zn6CecpRPB8V",
        "colab_type": "text"
      },
      "source": [
        "\n"
      ]
    },
    {
      "cell_type": "code",
      "metadata": {
        "id": "H4cxZ-GPPDAQ",
        "colab_type": "code",
        "colab": {}
      },
      "source": [
        "format(3**50, '.5e')\n"
      ],
      "execution_count": 0,
      "outputs": []
    },
    {
      "cell_type": "code",
      "metadata": {
        "id": "tyM-tujbPtL2",
        "colab_type": "code",
        "colab": {}
      },
      "source": [
        "float(16/(float(3)))"
      ],
      "execution_count": 0,
      "outputs": []
    },
    {
      "cell_type": "code",
      "metadata": {
        "id": "3PLxDB0fP8Pb",
        "colab_type": "code",
        "colab": {}
      },
      "source": [
        "format (float(16/(float(3))), '.2f')\n"
      ],
      "execution_count": 0,
      "outputs": []
    },
    {
      "cell_type": "markdown",
      "metadata": {
        "id": "O6OEg3kfSefK",
        "colab_type": "text"
      },
      "source": [
        "Display data of different type using variable and literal constant"
      ]
    },
    {
      "cell_type": "code",
      "metadata": {
        "id": "LjGc6VlcTSEX",
        "colab_type": "code",
        "colab": {}
      },
      "source": [
        "num = 7\n",
        "amt = 124.55\n",
        "code = 'A'\n",
        "pi = 3.1415926536\n",
        "population_of_india = 1000000000\n",
        "msg = \"Hi\"\n",
        "\n",
        "print(\"NUM = \"+str(num))\n",
        "print(\"\\n AMT = \" + str(amt))\n",
        "print(\"\\n CODE =\" +str(code))\n",
        "print(\"\\n POPULATION OF INDIA = \"+ str(population_of_india))\n",
        "print(\"\\n MESSAGE = \"+str(msg))\n"
      ],
      "execution_count": 0,
      "outputs": []
    },
    {
      "cell_type": "markdown",
      "metadata": {
        "id": "BzcXaMVHUykt",
        "colab_type": "text"
      },
      "source": [
        "Program to reassign values to variable"
      ]
    },
    {
      "cell_type": "code",
      "metadata": {
        "id": "VEqsNtpAU2YI",
        "colab_type": "code",
        "colab": {}
      },
      "source": [
        "val = 'Hello'\n",
        "print(val)\n",
        "val = 100\n",
        "print(val)\n",
        "val = 12.34\n",
        "print(val)\n",
        "x = 5\n",
        "y = 10\n",
        "print('Hello')\n",
        "print(x+y)"
      ],
      "execution_count": 0,
      "outputs": []
    },
    {
      "cell_type": "code",
      "metadata": {
        "id": "EZlEA8KDX0es",
        "colab_type": "code",
        "outputId": "0a1deed5-ee96-4d0c-b7c2-a7680504c59f",
        "colab": {
          "base_uri": "https://localhost:8080/",
          "height": 34
        }
      },
      "source": [
        "mesg = \"Helo\"\n",
        "print(mesg)"
      ],
      "execution_count": 0,
      "outputs": [
        {
          "output_type": "stream",
          "text": [
            "Helo\n"
          ],
          "name": "stdout"
        }
      ]
    },
    {
      "cell_type": "code",
      "metadata": {
        "id": "digcLH9WX68V",
        "colab_type": "code",
        "outputId": "2d953cc0-f2dd-41bf-b83e-27a5796c331e",
        "colab": {
          "base_uri": "https://localhost:8080/",
          "height": 34
        }
      },
      "source": [
        "mesg = \"Hello\";\n",
        "print(mesg);"
      ],
      "execution_count": 0,
      "outputs": [
        {
          "output_type": "stream",
          "text": [
            "Hello\n"
          ],
          "name": "stdout"
        }
      ]
    },
    {
      "cell_type": "code",
      "metadata": {
        "id": "1lLb58yDYCyC",
        "colab_type": "code",
        "outputId": "404be8e9-3c3a-4a37-a8f7-f74114117f2c",
        "colab": {
          "base_uri": "https://localhost:8080/",
          "height": 34
        }
      },
      "source": [
        "mesg = \"Hello\";\n",
        "print(mesg)"
      ],
      "execution_count": 0,
      "outputs": [
        {
          "output_type": "stream",
          "text": [
            "Hello\n"
          ],
          "name": "stdout"
        }
      ]
    },
    {
      "cell_type": "code",
      "metadata": {
        "id": "A98oDHrCYMyl",
        "colab_type": "code",
        "colab": {}
      },
      "source": [
        "name = input(\"What is your name?\")\n",
        "age = input(\" Enter your age :\")\n",
        "print ( name + \", you are \" + age + \" years old\")"
      ],
      "execution_count": 0,
      "outputs": []
    },
    {
      "cell_type": "code",
      "metadata": {
        "id": "nC_C3lCiYsaM",
        "colab_type": "code",
        "colab": {}
      },
      "source": [
        ""
      ],
      "execution_count": 0,
      "outputs": []
    },
    {
      "cell_type": "markdown",
      "metadata": {
        "id": "2Qjlee38Y2w9",
        "colab_type": "text"
      },
      "source": [
        "# In Python indentation is used to associate and group statements.  "
      ]
    },
    {
      "cell_type": "code",
      "metadata": {
        "id": "PkBD6oBHY_9R",
        "colab_type": "code",
        "colab": {}
      },
      "source": [
        "a = 100\n",
        "b = 200\n",
        "\n",
        "print (a+b)\n",
        "print(a-b)\n",
        "print(a*b)\n",
        "print(b/a)\n",
        "print(b%a)\n",
        "print(12//5)\n",
        "print(12.0//5.0)\n",
        "print(-19//5)\n",
        "print(-20.0//3)\n",
        "print(a**b)\n"
      ],
      "execution_count": 0,
      "outputs": []
    },
    {
      "cell_type": "markdown",
      "metadata": {
        "id": "CQ0o_4Yca2ka",
        "colab_type": "text"
      },
      "source": [
        "Operator Description : \n",
        "\n",
        "=  c = a ,  assigns value of a to c \n",
        "a += is same as a = a + b\n",
        "a -=  is same as a = a-b\n",
        "\n",
        "a *=  is same as a = a * b\n",
        "\n",
        "a /b is same as a = a / b\n",
        "\n",
        "a % b is same as a = a % b\n",
        "\n",
        "a//=b is same as a = a // b\n",
        "\n",
        "a**b = b is same as a = a**b\n",
        "\n"
      ]
    },
    {
      "cell_type": "code",
      "metadata": {
        "id": "_UT-e2Xrbf7_",
        "colab_type": "code",
        "outputId": "f8bd301d-be58-4d5b-f377-28ab075050b6",
        "colab": {
          "base_uri": "https://localhost:8080/",
          "height": 34
        }
      },
      "source": [
        "str1 = \"Good\"\n",
        "str2 = \"Morning\"\n",
        "str1 += str2\n",
        "print(str1)"
      ],
      "execution_count": 0,
      "outputs": [
        {
          "output_type": "stream",
          "text": [
            "GoodMorning\n"
          ],
          "name": "stdout"
        }
      ]
    },
    {
      "cell_type": "markdown",
      "metadata": {
        "id": "rHPVl2kBa2hP",
        "colab_type": "text"
      },
      "source": [
        "b = 10\n",
        "a = -(b);\n"
      ]
    },
    {
      "cell_type": "code",
      "metadata": {
        "id": "4KvAm2hUcpEh",
        "colab_type": "code",
        "outputId": "f9535d98-d5ce-4bb1-f0c1-766ac9969bef",
        "colab": {
          "base_uri": "https://localhost:8080/",
          "height": 51
        }
      },
      "source": [
        "b = 10\n",
        "a = -(b)\n",
        "print(b)\n",
        "print(a)"
      ],
      "execution_count": 0,
      "outputs": [
        {
          "output_type": "stream",
          "text": [
            "10\n",
            "-10\n"
          ],
          "name": "stdout"
        }
      ]
    },
    {
      "cell_type": "code",
      "metadata": {
        "id": "_38rYBNvcpCT",
        "colab_type": "code",
        "outputId": "04b315ee-edfc-4437-e489-dcfebb564f84",
        "colab": {
          "base_uri": "https://localhost:8080/",
          "height": 51
        }
      },
      "source": [
        "print (\" Hello\"  * 5)\n",
        "print ( 5      *      \"Hello\")"
      ],
      "execution_count": 0,
      "outputs": [
        {
          "output_type": "stream",
          "text": [
            " Hello Hello Hello Hello Hello\n",
            "HelloHelloHelloHelloHello\n"
          ],
          "name": "stdout"
        }
      ]
    },
    {
      "cell_type": "markdown",
      "metadata": {
        "id": "DfswypkXdvb1",
        "colab_type": "text"
      },
      "source": [
        "# **String operation**  "
      ]
    },
    {
      "cell_type": "code",
      "metadata": {
        "id": "PIruQRgMd_cp",
        "colab_type": "code",
        "outputId": "eefd4852-ccb5-4574-9571-269aea4991f0",
        "colab": {
          "base_uri": "https://localhost:8080/",
          "height": 170
        }
      },
      "source": [
        "str = ' Python is easy !!!'\n",
        "print(str)\n",
        "print(str[0])\n",
        "print(str[3:9])\n",
        "print(str[4:])\n",
        "print(str[-1])\n",
        "print(str[:5])\n",
        "print(str * 2)\n",
        "print(str +  \"ISNT'T IT?\")\n",
        "print(str + \"ISNT'T IT?\")"
      ],
      "execution_count": 0,
      "outputs": [
        {
          "output_type": "stream",
          "text": [
            " Python is easy !!!\n",
            " \n",
            "thon i\n",
            "hon is easy !!!\n",
            "!\n",
            " Pyth\n",
            " Python is easy !!! Python is easy !!!\n",
            " Python is easy !!!ISNT'T IT?\n",
            " Python is easy !!!ISNT'T IT?\n"
          ],
          "name": "stdout"
        }
      ]
    },
    {
      "cell_type": "markdown",
      "metadata": {
        "id": "ly9E21die101",
        "colab_type": "text"
      },
      "source": [
        "#                                  **OTHER DATA TYPES**\n",
        "**TUPLES**\n",
        "A tuple is similar to a list as it also contains a number of values separate by commas and enclosed within a parentheses\n",
        "\n",
        "Program to demonstrate operations on a tuple"
      ]
    },
    {
      "cell_type": "code",
      "metadata": {
        "id": "jkXf9AD5fA3x",
        "colab_type": "code",
        "colab": {}
      },
      "source": [
        "Tup = ('a', 'bc', 78, 1.23)\n",
        "Tup2 = ('d', 78)\n",
        "print(Tup)\n",
        "print(Tup[0]) # Prints the first element of the Tuple\n",
        "print(Tup[1:3]) # Prints elements starting from 2nd till 3rd\n",
        "print(Tup[2:]) # Prints elements starting from 3rd element.\n",
        "print(Tup * 2) #  Repeats the tuple \n",
        "print (Tup + Tup2) # concatenates two tuples"
      ],
      "execution_count": 0,
      "outputs": []
    },
    {
      "cell_type": "markdown",
      "metadata": {
        "id": "M0QeI0S5gLPF",
        "colab_type": "text"
      },
      "source": [
        "# LIST\n",
        "A list consist of items separated by commas and enclosed within square brackets\n",
        "One important distinction between array and the list is that, while array contains value of same data type, a list on the other hand, can have values belonging to different data types. \n",
        "\n",
        "The values stored in the list are accessed using indexes.  The index of the first element is 0 and that of the last element is n-1.\n",
        "\n"
      ]
    },
    {
      "cell_type": "markdown",
      "metadata": {
        "id": "mw2Oer86hCH6",
        "colab_type": "text"
      },
      "source": [
        "Program to demonstrate operations on list"
      ]
    },
    {
      "cell_type": "code",
      "metadata": {
        "id": "lBOZID7vhGO9",
        "colab_type": "code",
        "colab": {}
      },
      "source": [
        "list = ['a','bc', 78, 1.23 ]\n",
        "list1 = ['d', 88]\n",
        "print(list)\n",
        "print(list[0])\n",
        "print(list[1:3])\n",
        "print(list[2:])\n",
        "print(list *2)\n",
        "print(list + list1)"
      ],
      "execution_count": 0,
      "outputs": []
    },
    {
      "cell_type": "markdown",
      "metadata": {
        "id": "wFtrVJTPgLKA",
        "colab_type": "text"
      },
      "source": [
        "# **DICTIONARY**\n",
        "Stores Data in Key : Value pairs.  Key value is usually of string, value can be of any data type.  Each key value pair is separated from the other using** (:)** \n",
        "To access any value in the dictionary, you just need to specify its key in square braces ([]).  \n",
        "**NOTE:** List and Dictionary are mutable data types meaning their values can be altered. \n",
        "\n",
        "Program to demonstrate use of a dictionary: \n"
      ]
    },
    {
      "cell_type": "code",
      "metadata": {
        "id": "r4AyzlVAiyBC",
        "colab_type": "code",
        "colab": {}
      },
      "source": [
        "Dict = { \"Item\" : \"Chocolate\", \"Price\" : 100}\n",
        "print(Dict[\"Item\"])\n",
        "print(Dict[\"Price\"])"
      ],
      "execution_count": 0,
      "outputs": []
    },
    {
      "cell_type": "markdown",
      "metadata": {
        "id": "SNS5wDwGjfQJ",
        "colab_type": "text"
      },
      "source": [
        "# TYPE CONVERSION\n",
        "In python, it is just not possible to complete certain operations that involves different types of data. For example, it is not possible to perform \"2\" + 4 since one operand is an integer and other is of string type. \n",
        "\n",
        "Anothher situation in which type conversion is a must is whhen you want to accept a non string value ( int or float) as input.  "
      ]
    },
    {
      "cell_type": "code",
      "metadata": {
        "id": "czIxBEGTke-m",
        "colab_type": "code",
        "colab": {}
      },
      "source": [
        "x = int(input(\"Enter the first number :\"))\n",
        "y = int(input(\"Ennter the second number: \"))\n",
        "print(x + y)"
      ],
      "execution_count": 0,
      "outputs": []
    },
    {
      "cell_type": "markdown",
      "metadata": {
        "id": "MTCo2QRbk0_1",
        "colab_type": "text"
      },
      "source": [
        "Functions for Type Conversions:\n",
        "\n",
        "int(x) --> Converts x to an integer\n",
        "long(x) --> Converts x to a long integer\n",
        "float(x) --> Converts x to a floating point number\n",
        "str(x) -->  converts x to a string\n",
        "tuple(x) -->  converts x to a tuple \n",
        "list(x)  -->  Converts x to a list\n",
        "set(x) -->  converts x to a set\n",
        "ord(x) -->  Converts a single character to its integer value\n",
        "oct(x)  --> converts an integer to its octal string\n",
        "hex(x) -->  converts an integer to hexadecimal string\n",
        "chr(x) -->  converts an integer to a character\n",
        "unichar(x) -->  converts an integer to a Unicode character\n",
        "dict(x) -->  creates a dictionary if x forms a (key-value) pair. \n",
        "\n",
        "\n",
        "**Note ** To learn more about the function, you can read its documentation by using the help(). \n",
        "\n",
        "# **Programming Examples**"
      ]
    },
    {
      "cell_type": "markdown",
      "metadata": {
        "id": "nWDhTef8qWoW",
        "colab_type": "text"
      },
      "source": [
        "Write a program to enter a number & display its hex and octal equivalent and its square root"
      ]
    },
    {
      "cell_type": "code",
      "metadata": {
        "id": "D_g0SL_ZqQRu",
        "colab_type": "code",
        "outputId": "c6b702ff-ab2f-4754-d1f3-39592b19ed53",
        "colab": {
          "base_uri": "https://localhost:8080/",
          "height": 85
        }
      },
      "source": [
        "import string\n",
        "num = int(input(\"Enter a number \"))\n",
        "print(\"Hexadecimal of \" + str(num) + \"   : \" +str(hex(num)))\n",
        "print(\"Octal of\"  +       str(num) + \"  :  \" + str(oct(num)))\n",
        "print(\"Square root of \" + str(num) + \" :  \" + str(num**0.5))"
      ],
      "execution_count": 0,
      "outputs": [
        {
          "output_type": "stream",
          "text": [
            "Enter a number 100\n",
            "Hexadecimal of 100   : 0x64\n",
            "Octal of100  :  0o144\n",
            "Square root of 100 :  10.0\n"
          ],
          "name": "stdout"
        }
      ]
    },
    {
      "cell_type": "code",
      "metadata": {
        "id": "tf2d-K0JqQNA",
        "colab_type": "code",
        "colab": {}
      },
      "source": [
        ""
      ],
      "execution_count": 0,
      "outputs": []
    },
    {
      "cell_type": "markdown",
      "metadata": {
        "id": "lfNzl4cXvcyS",
        "colab_type": "text"
      },
      "source": [
        "Write a program to read and print values of variables of different data types. \n"
      ]
    },
    {
      "cell_type": "code",
      "metadata": {
        "id": "68emL-XhvkoA",
        "colab_type": "code",
        "outputId": "b7738daa-09d8-468a-8ed0-434318028d09",
        "colab": {
          "base_uri": "https://localhost:8080/",
          "height": 204
        }
      },
      "source": [
        "import sys\n",
        "\n",
        "num = int(input(\"Enter the value of num : \"))\n",
        "amt = float(input(\"Enter the value of amt : \"))\n",
        "pi = float(input(\"Enter the value of pi \"))\n",
        "code = repr(input(\"Enter the value of the code\"))\n",
        "msg = repr(input (\"Enter the value of the message \"))\n",
        "population_of_india = int(input(\"Enter the value of population of India  \"))\n",
        "\n",
        "print(\"NUM =  \" + repr(num) +  \"\\n AMT = \" + repr(amt) +  \"\\n CODE = \" + repr(code) + \"\\n POPULATION OF INDIA = \" + repr(population_of_india) + \"\\n MESSAGE = \" + repr(msg))"
      ],
      "execution_count": 0,
      "outputs": [
        {
          "output_type": "stream",
          "text": [
            "Enter the value of num : 100\n",
            "Enter the value of amt : 879.87\n",
            "Enter the value of pi 3.14\n",
            "Enter the value of the codeG\n",
            "Enter the value of the message HELLO\n",
            "Enter the value of population of India  78954000000\n",
            "NUM =  100\n",
            " AMT = 879.87\n",
            " CODE = \"'G'\"\n",
            " POPULATION OF INDIA = 78954000000\n",
            " MESSAGE = \"'HELLO'\"\n"
          ],
          "name": "stdout"
        }
      ]
    },
    {
      "cell_type": "markdown",
      "metadata": {
        "id": "XcnVcAPojfIt",
        "colab_type": "text"
      },
      "source": [
        "write a program to calculate area of a triangle using Heron's formula\n",
        "\n",
        "**Heron's formula = area = sqrt(S*(S-a) * (S-b) * (S-c))**"
      ]
    },
    {
      "cell_type": "code",
      "metadata": {
        "id": "TE4fvf8SdTVH",
        "colab_type": "code",
        "colab": {}
      },
      "source": [
        "import string\n",
        "import math\n",
        "\n",
        "a= float(input(\"Enter the first side of the triangle:     \"))\n",
        "b= float(input(\"Enter the second side of the triangle :   \"))\n",
        "c= float(input(\"Enter the third side of the triangle:     \"))\n",
        "\n",
        "print(a,b,c)\n",
        "S = (a+b+c)/2\n",
        "area = (S*(S-a)*(S-b)*(S-c))**0.5\n",
        "print(\"Area = \" +str(area))"
      ],
      "execution_count": 0,
      "outputs": []
    },
    {
      "cell_type": "markdown",
      "metadata": {
        "id": "5XrrXuPAe0LU",
        "colab_type": "text"
      },
      "source": [
        "# Write a Program to calculate the distance between two points: "
      ]
    },
    {
      "cell_type": "code",
      "metadata": {
        "id": "yl1dFOlLe-DT",
        "colab_type": "code",
        "colab": {}
      },
      "source": [
        "x1 = (int(input(\"Enter the x coordinate of the first point :    \")))\n",
        "y1 = (int(input(\"Enter the y coordinate of the first point :    \")))\n",
        "x2 = (int(input(\"Enter the x coordinate of the second point :    \")))\n",
        "y2 = (int(input(\"Enter the y coordinate of the second point :    \")))\n",
        "\n",
        "distance = ((x2-x1)**2+(y2-y1)**2)**0.5\n",
        "print(\"Distance =  \")\n",
        "print(distance)"
      ],
      "execution_count": 0,
      "outputs": []
    },
    {
      "cell_type": "markdown",
      "metadata": {
        "id": "lb-szroee0ER",
        "colab_type": "text"
      },
      "source": [
        "Write a Program to perform addition, substraction, multiplication, division, integer division, and modulo division, on two integer numbers. "
      ]
    },
    {
      "cell_type": "code",
      "metadata": {
        "id": "CAJcFYa3gyQn",
        "colab_type": "code",
        "colab": {}
      },
      "source": [
        "import string\n",
        "import math\n",
        "\n",
        "num1 = int(input(\"Enter two numbers :   \"))\n",
        "num2 = int(input(\"Enter two numbers :   \"))\n",
        "add_res = num1+num2\n",
        "sub_res = num1-num2\n",
        "mul_res = num1*num2\n",
        "idiv_res = num1/num2\n",
        "modiv_res = num1%num2\n",
        "fdiv_res = float(num1)/num2\n",
        "\n",
        "print(str(num1)+ \" +  \" +str(num2)+ \" = \" +str(add_res))\n",
        "print(str(num1)+ \" -  \" +str(num2)+ \" = \" +str(sub_res))\n",
        "print(str(num1)+ \" *  \" +str(num2)+ \" = \" +str(mul_res))\n",
        "print(str(num1)+ \" /  \" +str(num2)+ \" = \" +str(idiv_res)+ \"(Integer Division)\")\n",
        "print(str(num1)+ \" //  \"+str(num2)+ \" = \" +str(fdiv_res)+ \"(Float Division)\")\n",
        "print(str(num1)+ \" %  \" +str(num2)+ \" = \" +str(idiv_res)+ \"(Modulo Division)\")\n"
      ],
      "execution_count": 0,
      "outputs": []
    },
    {
      "cell_type": "markdown",
      "metadata": {
        "id": "u6E5iSIVjwKb",
        "colab_type": "text"
      },
      "source": [
        "Write a Program to perform addition, substraction, multiplication, on two floating point numbers. "
      ]
    },
    {
      "cell_type": "code",
      "metadata": {
        "id": "K7SfHO6hj62u",
        "colab_type": "code",
        "outputId": "f39bd8aa-acf4-4e72-8ff5-9cef88874a7c",
        "colab": {
          "base_uri": "https://localhost:8080/",
          "height": 102
        }
      },
      "source": [
        "import string\n",
        "import math\n",
        "\n",
        "num1 = float(input(\"Enter two numbers :   \"))\n",
        "num2 = float(input(\"Enter two numbers :   \"))\n",
        "add_res = num1+num2\n",
        "sub_res = num1-num2\n",
        "mul_res = num1*num2\n",
        "idiv_res = num1/num2\n",
        "\n",
        "print(str(num1)+ \" +  \" +str(num2)+ \" = \" + \"%.2f\"%add_res)\n",
        "print(str(num1)+ \" -  \" +str(num2)+ \" = \"+ \"%.2f\" %sub_res)\n",
        "print(str(num1)+ \" *  \" +str(num2)+ \" = \" + \"%.2f\"%mul_res)\n"
      ],
      "execution_count": 0,
      "outputs": [
        {
          "output_type": "stream",
          "text": [
            "Enter two numbers :   14.22\n",
            "Enter two numbers :   36.64\n",
            "14.22 +  36.64 = 50.86\n",
            "14.22 -  36.64 = -22.42\n",
            "14.22 *  36.64 = 521.02\n"
          ],
          "name": "stdout"
        }
      ]
    },
    {
      "cell_type": "markdown",
      "metadata": {
        "id": "wCYQrT1Xl6-M",
        "colab_type": "text"
      },
      "source": [
        "Write a Program to demonstrate the use of relational operators.  "
      ]
    },
    {
      "cell_type": "code",
      "metadata": {
        "id": "YXBGqiZWmFVg",
        "colab_type": "code",
        "outputId": "55e622e7-a36f-4310-990d-500e322ddc1f",
        "colab": {
          "base_uri": "https://localhost:8080/",
          "height": 102
        }
      },
      "source": [
        "import string\n",
        "import math\n",
        "\n",
        "x = 20\n",
        "y = 30\n",
        "\n",
        "print(str(x)+\" <  \"+str(y)+\" = \"+str(x<y))\n",
        "print(str(x)+\" == \"+str(y)+\" = \"+str(x==y))\n",
        "print(str(x)+\" != \"+str(y)+\" = \"+str(x!=y))\n",
        "print(str(x)+\" >= \"+str(y)+\" = \"+str(x>=y))\n",
        "print(str(x)+\" <= \"+str(y)+\" = \"+str(x<=y))"
      ],
      "execution_count": 0,
      "outputs": [
        {
          "output_type": "stream",
          "text": [
            "20 <  30 = True\n",
            "20 == 30 = False\n",
            "20 != 30 = True\n",
            "20 >= 30 = False\n",
            "20 <= 30 = True\n"
          ],
          "name": "stdout"
        }
      ]
    },
    {
      "cell_type": "markdown",
      "metadata": {
        "id": "05tqC4ntnUer",
        "colab_type": "text"
      },
      "source": [
        "Write a program to calculate the area of a circle"
      ]
    },
    {
      "cell_type": "code",
      "metadata": {
        "id": "JR4jaD55nds9",
        "colab_type": "code",
        "colab": {}
      },
      "source": [
        "import math\n",
        "\n",
        "\n",
        "\n",
        "radius = float(input(\"Enter the radius of the circle :  \"))\n",
        "area = 3.14*radius*radius\n",
        "circumference = 2*3.14*radius\n",
        "print(\"AREA = \"+str(round(area,2))+\"\\t CIRCUMFERENCE =  \"+str(round(circumference,2)))\n"
      ],
      "execution_count": 0,
      "outputs": []
    },
    {
      "cell_type": "code",
      "metadata": {
        "id": "pn1-Dp62pnZl",
        "colab_type": "code",
        "colab": {}
      },
      "source": [
        ""
      ],
      "execution_count": 0,
      "outputs": []
    },
    {
      "cell_type": "markdown",
      "metadata": {
        "id": "zgtGEGrvp3Bz",
        "colab_type": "text"
      },
      "source": [
        "# Write a program to print the digit at ones place of a number"
      ]
    },
    {
      "cell_type": "code",
      "metadata": {
        "id": "V53mg43mp9XD",
        "colab_type": "code",
        "outputId": "1ca64165-9158-43f4-a580-3cf1fe9239ca",
        "colab": {
          "base_uri": "https://localhost:8080/",
          "height": 51
        }
      },
      "source": [
        "num = int(input(\"Enter any number:  \"))\n",
        "digit_at_ones_place = num%10\n",
        "print(\"The digit at ones place of   \" +str(num)+\"  is  \"+str(digit_at_ones_place))"
      ],
      "execution_count": 0,
      "outputs": [
        {
          "output_type": "stream",
          "text": [
            "Enter any number:  6789\n",
            "The digit at ones place of   6789  is  9\n"
          ],
          "name": "stdout"
        }
      ]
    },
    {
      "cell_type": "markdown",
      "metadata": {
        "id": "KMJbL95fqqYi",
        "colab_type": "text"
      },
      "source": [
        "# Write a Program to convert degrees fahrenheit into degrees celcius"
      ]
    },
    {
      "cell_type": "code",
      "metadata": {
        "id": "R2uebK4pqzvd",
        "colab_type": "code",
        "outputId": "027d2e0e-673f-46a8-e17d-7d44fa11aae8",
        "colab": {
          "base_uri": "https://localhost:8080/",
          "height": 51
        }
      },
      "source": [
        "fahrenheit = float(input(\"Enter the temperature in fahrenheit:  \"))\n",
        "celsius = (0.56)*(fahrenheit-32)\n",
        "print(\"Temperature in degrees celsius = \",celsius)"
      ],
      "execution_count": 0,
      "outputs": [
        {
          "output_type": "stream",
          "text": [
            "Enter the temperature in fahrenheit:  100\n",
            "Temperature in degrees celsius =  38.080000000000005\n"
          ],
          "name": "stdout"
        }
      ]
    },
    {
      "cell_type": "code",
      "metadata": {
        "id": "s09Cks-WyB0k",
        "colab_type": "code",
        "colab": {}
      },
      "source": [
        ""
      ],
      "execution_count": 0,
      "outputs": []
    },
    {
      "cell_type": "markdown",
      "metadata": {
        "id": "RXTGBlL0yGej",
        "colab_type": "text"
      },
      "source": [
        "Write a Program to calculate the total amount of money in the piggybank, given the coins of ¢5 ¢10  ¢25 & ¢50"
      ]
    },
    {
      "cell_type": "code",
      "metadata": {
        "id": "zGFKzQmzz673",
        "colab_type": "code",
        "colab": {}
      },
      "source": [
        "num_of_10_coins  = int(input(\"Enter the number of ¢10 coins in the piggybank:     \"))\n",
        "num_of_5_coins   = int(input(\"Enter the number of ¢5 coins in the piggybank:      \"))\n",
        "num_of_25_coins  = int(input(\"Enter the number of ¢25 coins in the piggybank:     \"))\n",
        "num_of_50_coins  = int(input(\"Enter the number of ¢50 coins in the piggybank:     \"))\n",
        "total_amt = num_of_10_coins*10+num_of_5_coins*5+num_of_25_coins*25+num_of_50_coins\n",
        "print(\"Total amount in the piggybank = \", total_amt)"
      ],
      "execution_count": 0,
      "outputs": []
    },
    {
      "cell_type": "code",
      "metadata": {
        "id": "qPnR_iIz3Ckd",
        "colab_type": "code",
        "colab": {}
      },
      "source": [
        ""
      ],
      "execution_count": 0,
      "outputs": []
    },
    {
      "cell_type": "markdown",
      "metadata": {
        "id": "gd4uX9pS3GoG",
        "colab_type": "text"
      },
      "source": [
        "Write a program to calculate the bill amount for an item given its quantity sold, value, discount, and tax.\n",
        "\n"
      ]
    },
    {
      "cell_type": "code",
      "metadata": {
        "id": "Nc_kCgEs3y--",
        "colab_type": "code",
        "colab": {}
      },
      "source": [
        "qty = float(input(\"Enter the quantity of item sold:   \"))\n",
        "val = float (input(\"Enter the value of the item :     \"))\n",
        "discount = float(input(\"Enter the discount percentage \"))\n",
        "tax = float(input(\"Enter the tax:   \"))\n",
        "amt = qty*val \n",
        "discount_amt = (amt*discount)/100\n",
        "sub_total = amt- discount_amt\n",
        "tax_amt = (sub_total*tax)/100\n",
        "total_amt = sub_total + tax_amt\n",
        "print(\"*******************BILL****************\")\n",
        "print(\"Quantity sold:   \\t\",qty)\n",
        "print(\"Price per Item:   \\t\",val)\n",
        "print(\"\\n \\t  \\t-----------------------\")\n",
        "print(\"Amount : \\t\\t-\", sub_total)\n",
        "print(\"Tax: \\t\\t\\t + \", tax_amt)\n",
        "print(\"Discounted Total : \\t\",sub_total)\n",
        "print(\" \\t  \\t------------------------\")\n",
        "print(\"Total amount to be paid\", total_amt)\n"
      ],
      "execution_count": 0,
      "outputs": []
    },
    {
      "cell_type": "markdown",
      "metadata": {
        "id": "PQondQ5-GgmZ",
        "colab_type": "text"
      },
      "source": [
        "DECISION CONTROL STATEMENT\n",
        "A control statement is a statement that determines the control flow of set of instructions.\n",
        "\n",
        "**The Three fundamental methods of control flow in a programming language are:\n",
        "sequential, selection and iterative control.**\n",
        "\n",
        "Header in Python is a specific keyword followed by a colon. The group of statements following a header is called suite.\n",
        "\n",
        "Note : Header and its suite are together known as clause.\n",
        "\n",
        "Program to increment a number, if it is positive: "
      ]
    },
    {
      "cell_type": "code",
      "metadata": {
        "id": "to36oNxsJRcQ",
        "colab_type": "code",
        "colab": {}
      },
      "source": [
        "x = 10\n",
        "if(x > 0):  # Test the value of x\n",
        "  x = x +1  # Increment the value of x if it is > 0\n",
        "print(x)   # print the value of x"
      ],
      "execution_count": 0,
      "outputs": []
    },
    {
      "cell_type": "markdown",
      "metadata": {
        "id": "aZU--1r2aOz_",
        "colab_type": "text"
      },
      "source": [
        "Program to determine the character entered by the user. "
      ]
    },
    {
      "cell_type": "code",
      "metadata": {
        "id": "NIqLB4d3aKX7",
        "colab_type": "code",
        "colab": {}
      },
      "source": [
        "char = input(\"Press any key:  \")\n",
        "if(char.isalpha()):\n",
        "  print(\"You have entered a character\")\n",
        "if(char.isdigit()):\n",
        "  print(\"You have entered a digit\")\n",
        "if(char.isspace()):\n",
        "  print(\"You have entered a white space character\")"
      ],
      "execution_count": 0,
      "outputs": []
    },
    {
      "cell_type": "markdown",
      "metadata": {
        "id": "udZQxyc2a-vt",
        "colab_type": "text"
      },
      "source": [
        "# if-else statement\n",
        "Syntax of if-else statement\n",
        "if (test expression):\n",
        "    statement block 1\n",
        "else: \n",
        "    statement block 2\n",
        "statement x\n",
        "\n",
        "Write a program to determine the person is eligible to vote or not, if he is not eligible, display how many years are left to be eligible.  \n",
        "\n"
      ]
    },
    {
      "cell_type": "code",
      "metadata": {
        "id": "vi0ZjUqMbxlX",
        "colab_type": "code",
        "colab": {}
      },
      "source": [
        "age = int(input(\"Enter the age :  \"))\n",
        "if(age>=18):\n",
        "  print(\"You are eligible to vote \")\n",
        "else:\n",
        "  yrs = 18 - age \n",
        "  print (\" You have to wait for another \" + str  (yrs) + \" years to cast your vote.\")"
      ],
      "execution_count": 0,
      "outputs": []
    },
    {
      "cell_type": "code",
      "metadata": {
        "id": "9RNWbon-cx5H",
        "colab_type": "code",
        "colab": {}
      },
      "source": [
        ""
      ],
      "execution_count": 0,
      "outputs": []
    },
    {
      "cell_type": "markdown",
      "metadata": {
        "id": "qXRE0kCMc12L",
        "colab_type": "text"
      },
      "source": [
        "Write a program to find larger of two numbers: "
      ]
    },
    {
      "cell_type": "code",
      "metadata": {
        "id": "aBgZrrKCc-VV",
        "colab_type": "code",
        "colab": {}
      },
      "source": [
        "a = int (input(\"Enter the value of a :  \"))\n",
        "b = int (input(\"Enter the value of b :  \"))\n",
        "if(a>b):\n",
        "  large = a\n",
        "else:\n",
        "  large = b\n",
        "print(\"Large = \",large)\n"
      ],
      "execution_count": 0,
      "outputs": []
    },
    {
      "cell_type": "code",
      "metadata": {
        "id": "85PYPBKVdlSR",
        "colab_type": "code",
        "colab": {}
      },
      "source": [
        ""
      ],
      "execution_count": 0,
      "outputs": []
    },
    {
      "cell_type": "markdown",
      "metadata": {
        "id": "ueGvc_qtdpjg",
        "colab_type": "text"
      },
      "source": [
        "write a program to find whether the number is even or odd"
      ]
    },
    {
      "cell_type": "code",
      "metadata": {
        "id": "9K3jmqoldt6g",
        "colab_type": "code",
        "colab": {}
      },
      "source": [
        "num = int(input(\"Enter any number   \"))\n",
        "if(num%2 == 0):\n",
        "  print(num,\" is even\")\n",
        "else: \n",
        "  print(num, \" is odd\")\n",
        "  "
      ],
      "execution_count": 0,
      "outputs": []
    },
    {
      "cell_type": "markdown",
      "metadata": {
        "id": "0VO5UvQHeNJe",
        "colab_type": "text"
      },
      "source": [
        "Write a program to enter any character.  If the entered character is in lowercase then convert it into uppercase and if it is in uppercase character, then convert it into lowercase."
      ]
    },
    {
      "cell_type": "code",
      "metadata": {
        "id": "Wdr-rW7weYVj",
        "colab_type": "code",
        "colab": {}
      },
      "source": [
        "ch = input(\"Enter any character :   \")\n",
        "if(ch>='A' and ch<='Z'):\n",
        "  ch = ch.lower()\n",
        "  print(\" The entered character was in uppercase.  In lowercase it is :  \" + ch)\n",
        "else: \n",
        "  print(\" The entered character was in lowercase.  In uppercase it is :   \" + ch)\n",
        "  "
      ],
      "execution_count": 0,
      "outputs": []
    },
    {
      "cell_type": "markdown",
      "metadata": {
        "id": "ZZ5molxefFUK",
        "colab_type": "text"
      },
      "source": [
        "Write a program to find whether a given year is leap year or not."
      ]
    },
    {
      "cell_type": "code",
      "metadata": {
        "id": "MsIdq4u6fKBX",
        "colab_type": "code",
        "colab": {}
      },
      "source": [
        "year = int(input(\"Enter any year:   \"))\n",
        "if((year%4==0 and year%100 != 0)):\n",
        "  print(\"Leap Year\")\n",
        "else: \n",
        "  print(\" Not a leap year\")"
      ],
      "execution_count": 0,
      "outputs": []
    },
    {
      "cell_type": "markdown",
      "metadata": {
        "id": "v6Obo5T9fuHW",
        "colab_type": "text"
      },
      "source": [
        "**NESTED if statements : **\n",
        "\n",
        "A statement that contains other statements is called a compound statement.  \n",
        "To perform complex checks, if statement can be nested,  that is can be placed one inside the other.  \n",
        "In such a case, the inner if statement is the statement part of the outer one. \n",
        "\n",
        "*Nested if statements are used to check if more than one condition is satisfied*\n",
        "\n",
        "program that prompts the user to enter a number and then prints its interval"
      ]
    },
    {
      "cell_type": "code",
      "metadata": {
        "id": "R_1KKDPPgfN6",
        "colab_type": "code",
        "colab": {}
      },
      "source": [
        "num = int(input(\"Enter any number from 0-30:  \"))\n",
        "if(num>=0 and num<10):\n",
        "  print (\"It is in the range of 0-10\")\n",
        "elif (num>=10 and num<20):\n",
        "  print(\"It is in the range of 10-20\")\n",
        "elif (num>20 and num<30):\n",
        "  print(\" It is in the range of 20-30\")\n",
        "   \n"
      ],
      "execution_count": 0,
      "outputs": []
    },
    {
      "cell_type": "markdown",
      "metadata": {
        "id": "uQuL1KqkhU0k",
        "colab_type": "text"
      },
      "source": [
        "**if-elif-else Statement**\n",
        "*Python supports if-elif-else statement to test additional conditions apart from the initial test expression*\n",
        "\n",
        "Syntax : \n",
        "\n",
        "if-elif-else Statement: \n",
        "\n",
        "if ( test expression 1) \n",
        "    statement block 1\n",
        "elif (test expression 2)\n",
        "    statement block 2\n",
        "    .................................\n",
        "elif (test expression N )\n",
        "  statement block N \n",
        "else\n",
        "  Statement Block X\n",
        "Statement Y "
      ]
    }
  ]
}