{
  "nbformat": 4,
  "nbformat_minor": 0,
  "metadata": {
    "colab": {
      "name": "Copy of PythonML-Practice.ipynb",
      "provenance": [],
      "authorship_tag": "ABX9TyOfPir3ujY7qUWWzJYWa0/v",
      "include_colab_link": true
    },
    "kernelspec": {
      "name": "python3",
      "display_name": "Python 3"
    }
  },
  "cells": [
    {
      "cell_type": "markdown",
      "metadata": {
        "id": "view-in-github",
        "colab_type": "text"
      },
      "source": [
        "<a href=\"https://colab.research.google.com/github/vijendranp/Hello-World/blob/master/BasicsofPythonProgramming.ipynb\" target=\"_parent\"><img src=\"https://colab.research.google.com/assets/colab-badge.svg\" alt=\"Open In Colab\"/></a>"
      ]
    },
    {
      "cell_type": "markdown",
      "metadata": {
        "id": "s0M15YMlb6us",
        "colab_type": "text"
      },
      "source": [
        "**Unary Operators**\n"
      ]
    },
    {
      "cell_type": "markdown",
      "metadata": {
        "id": "OIcc0lIYb6rA",
        "colab_type": "text"
      },
      "source": [
        ""
      ]
    },
    {
      "cell_type": "code",
      "metadata": {
        "id": "3TeXv5t2Y3ZC",
        "colab_type": "code",
        "colab": {}
      },
      "source": [
        ""
      ],
      "execution_count": 0,
      "outputs": []
    },
    {
      "cell_type": "markdown",
      "metadata": {
        "id": "sahO93fsBA-O",
        "colab_type": "text"
      },
      "source": [
        "# write a program to print the fibonacci series \n"
      ]
    },
    {
      "cell_type": "code",
      "metadata": {
        "id": "-Td6cdSbBHDk",
        "colab_type": "code",
        "colab": {}
      },
      "source": [
        "def fibonacci(n):\n",
        "  if(n<2):\n",
        "    return 1\n",
        "  else:\n",
        "    return (fibonacci(n-1)+fibonacci(n-2))\n",
        "\n",
        "n = int(input(\"Enter the number of terms: \"))\n",
        "for i in range(n):\n",
        "  print(\"Fibonacci(\",i,\") = \",fibonacci(i))\n"
      ],
      "execution_count": 0,
      "outputs": []
    },
    {
      "cell_type": "code",
      "metadata": {
        "id": "euvBHjVdBHHI",
        "colab_type": "code",
        "colab": {}
      },
      "source": [
        "from math import pi\n",
        "print(\"PI =  \",pi)"
      ],
      "execution_count": 0,
      "outputs": []
    },
    {
      "cell_type": "code",
      "metadata": {
        "id": "KnCtimjyC48_",
        "colab_type": "code",
        "colab": {}
      },
      "source": [
        "import math\n",
        "from math import sqrt as square_root\n",
        "print(square_root(81))"
      ],
      "execution_count": 0,
      "outputs": []
    },
    {
      "cell_type": "code",
      "metadata": {
        "id": "YZ2NXQOFPAjy",
        "colab_type": "code",
        "colab": {}
      },
      "source": [
        ""
      ],
      "execution_count": 0,
      "outputs": []
    },
    {
      "cell_type": "markdown",
      "metadata": {
        "id": "Zn6CecpRPB8V",
        "colab_type": "text"
      },
      "source": [
        "\n"
      ]
    },
    {
      "cell_type": "code",
      "metadata": {
        "id": "H4cxZ-GPPDAQ",
        "colab_type": "code",
        "colab": {}
      },
      "source": [
        "format(3**50, '.5e')\n"
      ],
      "execution_count": 0,
      "outputs": []
    },
    {
      "cell_type": "code",
      "metadata": {
        "id": "tyM-tujbPtL2",
        "colab_type": "code",
        "colab": {}
      },
      "source": [
        "float(16/(float(3)))"
      ],
      "execution_count": 0,
      "outputs": []
    },
    {
      "cell_type": "code",
      "metadata": {
        "id": "3PLxDB0fP8Pb",
        "colab_type": "code",
        "colab": {}
      },
      "source": [
        "format (float(16/(float(3))), '.2f')\n"
      ],
      "execution_count": 0,
      "outputs": []
    },
    {
      "cell_type": "markdown",
      "metadata": {
        "id": "O6OEg3kfSefK",
        "colab_type": "text"
      },
      "source": [
        "Display data of different type using variable and literal constant"
      ]
    },
    {
      "cell_type": "code",
      "metadata": {
        "id": "LjGc6VlcTSEX",
        "colab_type": "code",
        "colab": {}
      },
      "source": [
        "num = 7\n",
        "amt = 124.55\n",
        "code = 'A'\n",
        "pi = 3.1415926536\n",
        "population_of_india = 1000000000\n",
        "msg = \"Hi\"\n",
        "\n",
        "print(\"NUM = \"+str(num))\n",
        "print(\"\\n AMT = \" + str(amt))\n",
        "print(\"\\n CODE =\" +str(code))\n",
        "print(\"\\n POPULATION OF INDIA = \"+ str(population_of_india))\n",
        "print(\"\\n MESSAGE = \"+str(msg))\n"
      ],
      "execution_count": 0,
      "outputs": []
    },
    {
      "cell_type": "markdown",
      "metadata": {
        "id": "BzcXaMVHUykt",
        "colab_type": "text"
      },
      "source": [
        "Program to reassign values to variable"
      ]
    },
    {
      "cell_type": "code",
      "metadata": {
        "id": "VEqsNtpAU2YI",
        "colab_type": "code",
        "colab": {}
      },
      "source": [
        "val = 'Hello'\n",
        "print(val)\n",
        "val = 100\n",
        "print(val)\n",
        "val = 12.34\n",
        "print(val)\n",
        "x = 5\n",
        "y = 10\n",
        "print('Hello')\n",
        "print(x+y)"
      ],
      "execution_count": 0,
      "outputs": []
    },
    {
      "cell_type": "code",
      "metadata": {
        "id": "EZlEA8KDX0es",
        "colab_type": "code",
        "outputId": "0a1deed5-ee96-4d0c-b7c2-a7680504c59f",
        "colab": {
          "base_uri": "https://localhost:8080/",
          "height": 34
        }
      },
      "source": [
        "mesg = \"Helo\"\n",
        "print(mesg)"
      ],
      "execution_count": 0,
      "outputs": [
        {
          "output_type": "stream",
          "text": [
            "Helo\n"
          ],
          "name": "stdout"
        }
      ]
    },
    {
      "cell_type": "code",
      "metadata": {
        "id": "digcLH9WX68V",
        "colab_type": "code",
        "outputId": "2d953cc0-f2dd-41bf-b83e-27a5796c331e",
        "colab": {
          "base_uri": "https://localhost:8080/",
          "height": 34
        }
      },
      "source": [
        "mesg = \"Hello\";\n",
        "print(mesg);"
      ],
      "execution_count": 0,
      "outputs": [
        {
          "output_type": "stream",
          "text": [
            "Hello\n"
          ],
          "name": "stdout"
        }
      ]
    },
    {
      "cell_type": "code",
      "metadata": {
        "id": "1lLb58yDYCyC",
        "colab_type": "code",
        "outputId": "404be8e9-3c3a-4a37-a8f7-f74114117f2c",
        "colab": {
          "base_uri": "https://localhost:8080/",
          "height": 34
        }
      },
      "source": [
        "mesg = \"Hello\";\n",
        "print(mesg)"
      ],
      "execution_count": 0,
      "outputs": [
        {
          "output_type": "stream",
          "text": [
            "Hello\n"
          ],
          "name": "stdout"
        }
      ]
    },
    {
      "cell_type": "code",
      "metadata": {
        "id": "A98oDHrCYMyl",
        "colab_type": "code",
        "colab": {}
      },
      "source": [
        "name = input(\"What is your name?\")\n",
        "age = input(\" Enter your age :\")\n",
        "print ( name + \", you are \" + age + \" years old\")"
      ],
      "execution_count": 0,
      "outputs": []
    },
    {
      "cell_type": "code",
      "metadata": {
        "id": "nC_C3lCiYsaM",
        "colab_type": "code",
        "colab": {}
      },
      "source": [
        ""
      ],
      "execution_count": 0,
      "outputs": []
    },
    {
      "cell_type": "markdown",
      "metadata": {
        "id": "2Qjlee38Y2w9",
        "colab_type": "text"
      },
      "source": [
        "# In Python indentation is used to associate and group statements.  "
      ]
    },
    {
      "cell_type": "code",
      "metadata": {
        "id": "PkBD6oBHY_9R",
        "colab_type": "code",
        "colab": {}
      },
      "source": [
        "a = 100\n",
        "b = 200\n",
        "\n",
        "print (a+b)\n",
        "print(a-b)\n",
        "print(a*b)\n",
        "print(b/a)\n",
        "print(b%a)\n",
        "print(12//5)\n",
        "print(12.0//5.0)\n",
        "print(-19//5)\n",
        "print(-20.0//3)\n",
        "print(a**b)\n"
      ],
      "execution_count": 0,
      "outputs": []
    },
    {
      "cell_type": "markdown",
      "metadata": {
        "id": "CQ0o_4Yca2ka",
        "colab_type": "text"
      },
      "source": [
        "Operator Description : \n",
        "\n",
        "=  c = a ,  assigns value of a to c \n",
        "a += is same as a = a + b\n",
        "a -=  is same as a = a-b\n",
        "\n",
        "a *=  is same as a = a * b\n",
        "\n",
        "a /b is same as a = a / b\n",
        "\n",
        "a % b is same as a = a % b\n",
        "\n",
        "a//=b is same as a = a // b\n",
        "\n",
        "a**b = b is same as a = a**b\n",
        "\n"
      ]
    },
    {
      "cell_type": "code",
      "metadata": {
        "id": "_UT-e2Xrbf7_",
        "colab_type": "code",
        "outputId": "f8bd301d-be58-4d5b-f377-28ab075050b6",
        "colab": {
          "base_uri": "https://localhost:8080/",
          "height": 34
        }
      },
      "source": [
        "str1 = \"Good\"\n",
        "str2 = \"Morning\"\n",
        "str1 += str2\n",
        "print(str1)"
      ],
      "execution_count": 0,
      "outputs": [
        {
          "output_type": "stream",
          "text": [
            "GoodMorning\n"
          ],
          "name": "stdout"
        }
      ]
    },
    {
      "cell_type": "markdown",
      "metadata": {
        "id": "rHPVl2kBa2hP",
        "colab_type": "text"
      },
      "source": [
        "b = 10\n",
        "a = -(b);\n"
      ]
    },
    {
      "cell_type": "code",
      "metadata": {
        "id": "4KvAm2hUcpEh",
        "colab_type": "code",
        "outputId": "f9535d98-d5ce-4bb1-f0c1-766ac9969bef",
        "colab": {
          "base_uri": "https://localhost:8080/",
          "height": 51
        }
      },
      "source": [
        "b = 10\n",
        "a = -(b)\n",
        "print(b)\n",
        "print(a)"
      ],
      "execution_count": 0,
      "outputs": [
        {
          "output_type": "stream",
          "text": [
            "10\n",
            "-10\n"
          ],
          "name": "stdout"
        }
      ]
    },
    {
      "cell_type": "code",
      "metadata": {
        "id": "_38rYBNvcpCT",
        "colab_type": "code",
        "outputId": "04b315ee-edfc-4437-e489-dcfebb564f84",
        "colab": {
          "base_uri": "https://localhost:8080/",
          "height": 51
        }
      },
      "source": [
        "print (\" Hello\"  * 5)\n",
        "print ( 5      *      \"Hello\")"
      ],
      "execution_count": 0,
      "outputs": [
        {
          "output_type": "stream",
          "text": [
            " Hello Hello Hello Hello Hello\n",
            "HelloHelloHelloHelloHello\n"
          ],
          "name": "stdout"
        }
      ]
    },
    {
      "cell_type": "markdown",
      "metadata": {
        "id": "DfswypkXdvb1",
        "colab_type": "text"
      },
      "source": [
        "# **String operation**  "
      ]
    },
    {
      "cell_type": "code",
      "metadata": {
        "id": "PIruQRgMd_cp",
        "colab_type": "code",
        "outputId": "eefd4852-ccb5-4574-9571-269aea4991f0",
        "colab": {
          "base_uri": "https://localhost:8080/",
          "height": 170
        }
      },
      "source": [
        "str = ' Python is easy !!!'\n",
        "print(str)\n",
        "print(str[0])\n",
        "print(str[3:9])\n",
        "print(str[4:])\n",
        "print(str[-1])\n",
        "print(str[:5])\n",
        "print(str * 2)\n",
        "print(str +  \"ISNT'T IT?\")\n",
        "print(str + \"ISNT'T IT?\")"
      ],
      "execution_count": 0,
      "outputs": [
        {
          "output_type": "stream",
          "text": [
            " Python is easy !!!\n",
            " \n",
            "thon i\n",
            "hon is easy !!!\n",
            "!\n",
            " Pyth\n",
            " Python is easy !!! Python is easy !!!\n",
            " Python is easy !!!ISNT'T IT?\n",
            " Python is easy !!!ISNT'T IT?\n"
          ],
          "name": "stdout"
        }
      ]
    },
    {
      "cell_type": "markdown",
      "metadata": {
        "id": "ly9E21die101",
        "colab_type": "text"
      },
      "source": [
        "#                                  **OTHER DATA TYPES**\n",
        "**TUPLES**\n",
        "A tuple is similar to a list as it also contains a number of values separate by commas and enclosed within a parentheses\n",
        "\n",
        "Program to demonstrate operations on a tuple"
      ]
    },
    {
      "cell_type": "code",
      "metadata": {
        "id": "jkXf9AD5fA3x",
        "colab_type": "code",
        "colab": {}
      },
      "source": [
        "Tup = ('a', 'bc', 78, 1.23)\n",
        "Tup2 = ('d', 78)\n",
        "print(Tup)\n",
        "print(Tup[0]) # Prints the first element of the Tuple\n",
        "print(Tup[1:3]) # Prints elements starting from 2nd till 3rd\n",
        "print(Tup[2:]) # Prints elements starting from 3rd element.\n",
        "print(Tup * 2) #  Repeats the tuple \n",
        "print (Tup + Tup2) # concatenates two tuples"
      ],
      "execution_count": 0,
      "outputs": []
    },
    {
      "cell_type": "markdown",
      "metadata": {
        "id": "M0QeI0S5gLPF",
        "colab_type": "text"
      },
      "source": [
        "# LIST\n",
        "A list consist of items separated by commas and enclosed within square brackets\n",
        "One important distinction between array and the list is that, while array contains value of same data type, a list on the other hand, can have values belonging to different data types. \n",
        "\n",
        "The values stored in the list are accessed using indexes.  The index of the first element is 0 and that of the last element is n-1.\n",
        "\n"
      ]
    },
    {
      "cell_type": "markdown",
      "metadata": {
        "id": "mw2Oer86hCH6",
        "colab_type": "text"
      },
      "source": [
        "Program to demonstrate operations on list"
      ]
    },
    {
      "cell_type": "code",
      "metadata": {
        "id": "lBOZID7vhGO9",
        "colab_type": "code",
        "colab": {}
      },
      "source": [
        "list = ['a','bc', 78, 1.23 ]\n",
        "list1 = ['d', 88]\n",
        "print(list)\n",
        "print(list[0])\n",
        "print(list[1:3])\n",
        "print(list[2:])\n",
        "print(list *2)\n",
        "print(list + list1)"
      ],
      "execution_count": 0,
      "outputs": []
    },
    {
      "cell_type": "markdown",
      "metadata": {
        "id": "wFtrVJTPgLKA",
        "colab_type": "text"
      },
      "source": [
        "# **DICTIONARY**\n",
        "Stores Data in Key : Value pairs.  Key value is usually of string, value can be of any data type.  Each key value pair is separated from the other using** (:)** \n",
        "To access any value in the dictionary, you just need to specify its key in square braces ([]).  \n",
        "**NOTE:** List and Dictionary are mutable data types meaning their values can be altered. \n",
        "\n",
        "Program to demonstrate use of a dictionary: \n"
      ]
    },
    {
      "cell_type": "code",
      "metadata": {
        "id": "r4AyzlVAiyBC",
        "colab_type": "code",
        "colab": {}
      },
      "source": [
        "Dict = { \"Item\" : \"Chocolate\", \"Price\" : 100}\n",
        "print(Dict[\"Item\"])\n",
        "print(Dict[\"Price\"])"
      ],
      "execution_count": 0,
      "outputs": []
    },
    {
      "cell_type": "markdown",
      "metadata": {
        "id": "SNS5wDwGjfQJ",
        "colab_type": "text"
      },
      "source": [
        "# TYPE CONVERSION\n",
        "In python, it is just not possible to complete certain operations that involves different types of data. For example, it is not possible to perform \"2\" + 4 since one operand is an integer and other is of string type. \n",
        "\n",
        "Anothher situation in which type conversion is a must is whhen you want to accept a non string value ( int or float) as input.  "
      ]
    },
    {
      "cell_type": "code",
      "metadata": {
        "id": "czIxBEGTke-m",
        "colab_type": "code",
        "colab": {}
      },
      "source": [
        "x = int(input(\"Enter the first number :\"))\n",
        "y = int(input(\"Ennter the second number: \"))\n",
        "print(x + y)"
      ],
      "execution_count": 0,
      "outputs": []
    },
    {
      "cell_type": "markdown",
      "metadata": {
        "id": "MTCo2QRbk0_1",
        "colab_type": "text"
      },
      "source": [
        "Functions for Type Conversions:\n",
        "\n",
        "int(x) --> Converts x to an integer\n",
        "long(x) --> Converts x to a long integer\n",
        "float(x) --> Converts x to a floating point number\n",
        "str(x) -->  converts x to a string\n",
        "tuple(x) -->  converts x to a tuple \n",
        "list(x)  -->  Converts x to a list\n",
        "set(x) -->  converts x to a set\n",
        "ord(x) -->  Converts a single character to its integer value\n",
        "oct(x)  --> converts an integer to its octal string\n",
        "hex(x) -->  converts an integer to hexadecimal string\n",
        "chr(x) -->  converts an integer to a character\n",
        "unichar(x) -->  converts an integer to a Unicode character\n",
        "dict(x) -->  creates a dictionary if x forms a (key-value) pair. \n",
        "\n",
        "\n",
        "**Note ** To learn more about the function, you can read its documentation by using the help(). \n",
        "\n",
        "# **Programming Examples**"
      ]
    },
    {
      "cell_type": "markdown",
      "metadata": {
        "id": "nWDhTef8qWoW",
        "colab_type": "text"
      },
      "source": [
        "Write a program to enter a number & display its hex and octal equivalent and its square root"
      ]
    },
    {
      "cell_type": "code",
      "metadata": {
        "id": "D_g0SL_ZqQRu",
        "colab_type": "code",
        "outputId": "c6b702ff-ab2f-4754-d1f3-39592b19ed53",
        "colab": {
          "base_uri": "https://localhost:8080/",
          "height": 85
        }
      },
      "source": [
        "import string\n",
        "num = int(input(\"Enter a number \"))\n",
        "print(\"Hexadecimal of \" + str(num) + \"   : \" +str(hex(num)))\n",
        "print(\"Octal of\"  +       str(num) + \"  :  \" + str(oct(num)))\n",
        "print(\"Square root of \" + str(num) + \" :  \" + str(num**0.5))"
      ],
      "execution_count": 0,
      "outputs": [
        {
          "output_type": "stream",
          "text": [
            "Enter a number 100\n",
            "Hexadecimal of 100   : 0x64\n",
            "Octal of100  :  0o144\n",
            "Square root of 100 :  10.0\n"
          ],
          "name": "stdout"
        }
      ]
    },
    {
      "cell_type": "code",
      "metadata": {
        "id": "tf2d-K0JqQNA",
        "colab_type": "code",
        "colab": {}
      },
      "source": [
        ""
      ],
      "execution_count": 0,
      "outputs": []
    },
    {
      "cell_type": "markdown",
      "metadata": {
        "id": "lfNzl4cXvcyS",
        "colab_type": "text"
      },
      "source": [
        "Write a program to read and print values of variables of different data types. \n"
      ]
    },
    {
      "cell_type": "code",
      "metadata": {
        "id": "68emL-XhvkoA",
        "colab_type": "code",
        "outputId": "b7738daa-09d8-468a-8ed0-434318028d09",
        "colab": {
          "base_uri": "https://localhost:8080/",
          "height": 204
        }
      },
      "source": [
        "import sys\n",
        "\n",
        "num = int(input(\"Enter the value of num : \"))\n",
        "amt = float(input(\"Enter the value of amt : \"))\n",
        "pi = float(input(\"Enter the value of pi \"))\n",
        "code = repr(input(\"Enter the value of the code\"))\n",
        "msg = repr(input (\"Enter the value of the message \"))\n",
        "population_of_india = int(input(\"Enter the value of population of India  \"))\n",
        "\n",
        "print(\"NUM =  \" + repr(num) +  \"\\n AMT = \" + repr(amt) +  \"\\n CODE = \" + repr(code) + \"\\n POPULATION OF INDIA = \" + repr(population_of_india) + \"\\n MESSAGE = \" + repr(msg))"
      ],
      "execution_count": 0,
      "outputs": [
        {
          "output_type": "stream",
          "text": [
            "Enter the value of num : 100\n",
            "Enter the value of amt : 879.87\n",
            "Enter the value of pi 3.14\n",
            "Enter the value of the codeG\n",
            "Enter the value of the message HELLO\n",
            "Enter the value of population of India  78954000000\n",
            "NUM =  100\n",
            " AMT = 879.87\n",
            " CODE = \"'G'\"\n",
            " POPULATION OF INDIA = 78954000000\n",
            " MESSAGE = \"'HELLO'\"\n"
          ],
          "name": "stdout"
        }
      ]
    },
    {
      "cell_type": "markdown",
      "metadata": {
        "id": "XcnVcAPojfIt",
        "colab_type": "text"
      },
      "source": [
        "write a program to calculate area of a triangle using Heron's formula\n",
        "\n",
        "**Heron's formula = area = sqrt(S*(S-a) * (S-b) * (S-c))**"
      ]
    },
    {
      "cell_type": "code",
      "metadata": {
        "id": "TE4fvf8SdTVH",
        "colab_type": "code",
        "colab": {}
      },
      "source": [
        "import string\n",
        "import math\n",
        "\n",
        "a= float(input(\"Enter the first side of the triangle:     \"))\n",
        "b= float(input(\"Enter the second side of the triangle :   \"))\n",
        "c= float(input(\"Enter the third side of the triangle:     \"))\n",
        "\n",
        "print(a,b,c)\n",
        "S = (a+b+c)/2\n",
        "area = (S*(S-a)*(S-b)*(S-c))**0.5\n",
        "print(\"Area = \" +str(area))"
      ],
      "execution_count": 0,
      "outputs": []
    },
    {
      "cell_type": "markdown",
      "metadata": {
        "id": "5XrrXuPAe0LU",
        "colab_type": "text"
      },
      "source": [
        "# Write a Program to calculate the distance between two points: "
      ]
    },
    {
      "cell_type": "code",
      "metadata": {
        "id": "yl1dFOlLe-DT",
        "colab_type": "code",
        "colab": {}
      },
      "source": [
        "x1 = (int(input(\"Enter the x coordinate of the first point :    \")))\n",
        "y1 = (int(input(\"Enter the y coordinate of the first point :    \")))\n",
        "x2 = (int(input(\"Enter the x coordinate of the second point :    \")))\n",
        "y2 = (int(input(\"Enter the y coordinate of the second point :    \")))\n",
        "\n",
        "distance = ((x2-x1)**2+(y2-y1)**2)**0.5\n",
        "print(\"Distance =  \")\n",
        "print(distance)"
      ],
      "execution_count": 0,
      "outputs": []
    },
    {
      "cell_type": "markdown",
      "metadata": {
        "id": "lb-szroee0ER",
        "colab_type": "text"
      },
      "source": [
        "Write a Program to perform addition, substraction, multiplication, division, integer division, and modulo division, on two integer numbers. "
      ]
    },
    {
      "cell_type": "code",
      "metadata": {
        "id": "CAJcFYa3gyQn",
        "colab_type": "code",
        "colab": {}
      },
      "source": [
        "import string\n",
        "import math\n",
        "\n",
        "num1 = int(input(\"Enter two numbers :   \"))\n",
        "num2 = int(input(\"Enter two numbers :   \"))\n",
        "add_res = num1+num2\n",
        "sub_res = num1-num2\n",
        "mul_res = num1*num2\n",
        "idiv_res = num1/num2\n",
        "modiv_res = num1%num2\n",
        "fdiv_res = float(num1)/num2\n",
        "\n",
        "print(str(num1)+ \" +  \" +str(num2)+ \" = \" +str(add_res))\n",
        "print(str(num1)+ \" -  \" +str(num2)+ \" = \" +str(sub_res))\n",
        "print(str(num1)+ \" *  \" +str(num2)+ \" = \" +str(mul_res))\n",
        "print(str(num1)+ \" /  \" +str(num2)+ \" = \" +str(idiv_res)+ \"(Integer Division)\")\n",
        "print(str(num1)+ \" //  \"+str(num2)+ \" = \" +str(fdiv_res)+ \"(Float Division)\")\n",
        "print(str(num1)+ \" %  \" +str(num2)+ \" = \" +str(idiv_res)+ \"(Modulo Division)\")\n"
      ],
      "execution_count": 0,
      "outputs": []
    },
    {
      "cell_type": "markdown",
      "metadata": {
        "id": "u6E5iSIVjwKb",
        "colab_type": "text"
      },
      "source": [
        "Write a Program to perform addition, substraction, multiplication, on two floating point numbers. "
      ]
    },
    {
      "cell_type": "code",
      "metadata": {
        "id": "K7SfHO6hj62u",
        "colab_type": "code",
        "colab": {
          "base_uri": "https://localhost:8080/",
          "height": 102
        },
        "outputId": "f39bd8aa-acf4-4e72-8ff5-9cef88874a7c"
      },
      "source": [
        "import string\n",
        "import math\n",
        "\n",
        "num1 = float(input(\"Enter two numbers :   \"))\n",
        "num2 = float(input(\"Enter two numbers :   \"))\n",
        "add_res = num1+num2\n",
        "sub_res = num1-num2\n",
        "mul_res = num1*num2\n",
        "idiv_res = num1/num2\n",
        "\n",
        "print(str(num1)+ \" +  \" +str(num2)+ \" = \" + \"%.2f\"%add_res)\n",
        "print(str(num1)+ \" -  \" +str(num2)+ \" = \"+ \"%.2f\" %sub_res)\n",
        "print(str(num1)+ \" *  \" +str(num2)+ \" = \" + \"%.2f\"%mul_res)\n"
      ],
      "execution_count": 10,
      "outputs": [
        {
          "output_type": "stream",
          "text": [
            "Enter two numbers :   14.22\n",
            "Enter two numbers :   36.64\n",
            "14.22 +  36.64 = 50.86\n",
            "14.22 -  36.64 = -22.42\n",
            "14.22 *  36.64 = 521.02\n"
          ],
          "name": "stdout"
        }
      ]
    },
    {
      "cell_type": "markdown",
      "metadata": {
        "id": "wCYQrT1Xl6-M",
        "colab_type": "text"
      },
      "source": [
        "Write a Program to demonstrate the use of relational operators.  "
      ]
    },
    {
      "cell_type": "code",
      "metadata": {
        "id": "YXBGqiZWmFVg",
        "colab_type": "code",
        "colab": {
          "base_uri": "https://localhost:8080/",
          "height": 102
        },
        "outputId": "55e622e7-a36f-4310-990d-500e322ddc1f"
      },
      "source": [
        "import string\n",
        "import math\n",
        "\n",
        "x = 20\n",
        "y = 30\n",
        "\n",
        "print(str(x)+\" <  \"+str(y)+\" = \"+str(x<y))\n",
        "print(str(x)+\" == \"+str(y)+\" = \"+str(x==y))\n",
        "print(str(x)+\" != \"+str(y)+\" = \"+str(x!=y))\n",
        "print(str(x)+\" >= \"+str(y)+\" = \"+str(x>=y))\n",
        "print(str(x)+\" <= \"+str(y)+\" = \"+str(x<=y))"
      ],
      "execution_count": 14,
      "outputs": [
        {
          "output_type": "stream",
          "text": [
            "20 <  30 = True\n",
            "20 == 30 = False\n",
            "20 != 30 = True\n",
            "20 >= 30 = False\n",
            "20 <= 30 = True\n"
          ],
          "name": "stdout"
        }
      ]
    },
    {
      "cell_type": "markdown",
      "metadata": {
        "id": "05tqC4ntnUer",
        "colab_type": "text"
      },
      "source": [
        "Write a program to calculate the area of a circle"
      ]
    },
    {
      "cell_type": "code",
      "metadata": {
        "id": "JR4jaD55nds9",
        "colab_type": "code",
        "colab": {}
      },
      "source": [
        "import math\n",
        "\n",
        "\n",
        "\n",
        "radius = float(input(\"Enter the radius of the circle :  \"))\n",
        "area = 3.14*radius*radius\n",
        "circumference = 2*3.14*radius\n",
        "print(\"AREA = \"+str(round(area,2))+\"\\t CIRCUMFERENCE =  \"+str(round(circumference,2)))\n"
      ],
      "execution_count": 0,
      "outputs": []
    },
    {
      "cell_type": "code",
      "metadata": {
        "id": "pn1-Dp62pnZl",
        "colab_type": "code",
        "colab": {}
      },
      "source": [
        ""
      ],
      "execution_count": 0,
      "outputs": []
    },
    {
      "cell_type": "markdown",
      "metadata": {
        "id": "zgtGEGrvp3Bz",
        "colab_type": "text"
      },
      "source": [
        "# Write a program to print the digit at ones place of a number"
      ]
    },
    {
      "cell_type": "code",
      "metadata": {
        "id": "V53mg43mp9XD",
        "colab_type": "code",
        "colab": {
          "base_uri": "https://localhost:8080/",
          "height": 51
        },
        "outputId": "1ca64165-9158-43f4-a580-3cf1fe9239ca"
      },
      "source": [
        "num = int(input(\"Enter any number:  \"))\n",
        "digit_at_ones_place = num%10\n",
        "print(\"The digit at ones place of   \" +str(num)+\"  is  \"+str(digit_at_ones_place))"
      ],
      "execution_count": 22,
      "outputs": [
        {
          "output_type": "stream",
          "text": [
            "Enter any number:  6789\n",
            "The digit at ones place of   6789  is  9\n"
          ],
          "name": "stdout"
        }
      ]
    },
    {
      "cell_type": "markdown",
      "metadata": {
        "id": "KMJbL95fqqYi",
        "colab_type": "text"
      },
      "source": [
        "# Write a Program to convert degrees fahrenheit into degrees celcius"
      ]
    },
    {
      "cell_type": "code",
      "metadata": {
        "id": "R2uebK4pqzvd",
        "colab_type": "code",
        "colab": {
          "base_uri": "https://localhost:8080/",
          "height": 51
        },
        "outputId": "027d2e0e-673f-46a8-e17d-7d44fa11aae8"
      },
      "source": [
        "fahrenheit = float(input(\"Enter the temperature in fahrenheit:  \"))\n",
        "celsius = (0.56)*(fahrenheit-32)\n",
        "print(\"Temperature in degrees celsius = \",celsius)"
      ],
      "execution_count": 24,
      "outputs": [
        {
          "output_type": "stream",
          "text": [
            "Enter the temperature in fahrenheit:  100\n",
            "Temperature in degrees celsius =  38.080000000000005\n"
          ],
          "name": "stdout"
        }
      ]
    }
  ]
}