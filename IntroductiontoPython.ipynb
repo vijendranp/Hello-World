{
  "nbformat": 4,
  "nbformat_minor": 0,
  "metadata": {
    "colab": {
      "name": "IntroductiontoPython.ipynb",
      "provenance": [],
      "collapsed_sections": [],
      "authorship_tag": "ABX9TyM+Gk318KVJCmbb93FJwQBr",
      "include_colab_link": true
    },
    "kernelspec": {
      "name": "python3",
      "display_name": "Python 3"
    }
  },
  "cells": [
    {
      "cell_type": "markdown",
      "metadata": {
        "id": "view-in-github",
        "colab_type": "text"
      },
      "source": [
        "<a href=\"https://colab.research.google.com/github/vijendranp/Python--Computational-Approach/blob/master/IntroductiontoPython.ipynb\" target=\"_parent\"><img src=\"https://colab.research.google.com/assets/colab-badge.svg\" alt=\"Open In Colab\"/></a>"
      ]
    },
    {
      "cell_type": "markdown",
      "metadata": {
        "id": "s0M15YMlb6us",
        "colab_type": "text"
      },
      "source": [
        "# BASICS OF PYTHON PROGRAMMING \n",
        "**FEATURES OF PYTHON**:\n",
        "\n",
        "Simple : Python is a simple and small language.  Python is an open source project, supported by many individuals.  It is a platform independent, scripted language with complete access to operating system APIs.  \n",
        "\n",
        "This allows the users to integrate application seamlessly to create high powered feature, highly focussed applications.  \n",
        "\n",
        "**Easy to Learn**  The structure of the program is very simple.  It uses few keywords and a clearly defined syntax. \n",
        "\n",
        "**High level language** Programmers do not have to worry about the low-level details like managing memory used by the program.  \n",
        "\n",
        "**Interactive**  Python programs work in interactive mode which allows interactive testing and debugging of pieces of code.   Programmers can easily interact with the interpreter directly at the Python prompt to write their programs.  \n",
        "\n",
        "**Portable** Python is portable language and hence the programs behave the same in a wide variety of hardware platforms and has the same interference on all platforms. The programs works on any of the following operating systems:\n",
        "\n",
        "Linux, Windows, FreeBSD, Macintosh, Solaris, OS/2, Amiga, AROS, AS/400, BeOS, OS/390 z/OS, Palm OS, QNX, VMS, Psion, Acorn RISC Vxworks, Playstation, Sharp Zaurus, Windows CE, even Pocket PC without requiring any changes.  \n",
        "\n",
        "**Object Oriented** : Python supports object oriented as well as procedural oriented style of programming.  While object oriented technique encapsulates data and functionalities within objects,  procedure oriente techniques, on the other hand, builds the program around procedures or functions, which are nothing but reusable pieces of programs.  \n",
        "\n",
        "**Interpreted** Python the interpreter not only translates the code into machine language but also executes it.  \n",
        "The interpreter takes a source program as its input and gives the output.  This is in contrast with the compiler, which produces an object file as the output of the compilation process.  Usually, a compiled program executes faster than an interpreted program.  \n",
        "\n",
        "some of the interpreted languages are Ruby, Python and PHP.  \n",
        "\n",
        "\n",
        "**Dynamic** Python executes dynamically.  Programs written in Python can be copied and used for flexible development of applications.  If there is any error, it is reported at run-time to allow interactive program development.  \n",
        "\n",
        "**Extensive** Since python is an open source software anyone can add low level modules to the Python interpreter.  These modules enable programmers to add or to customize their tools to work more efficiently.  \n",
        "\n",
        "**Embeddable** Programmers can embed Python within their C, C++, COM, ActiveX, CORBA and Java Programs to give 'scripting' capabilities for users.  \n",
        "\n",
        "**Extensive Libraries** Python has a huge library that is easily portable across different platforms. These library functions are compactible on UNIX, Windows, Macintosh and allows programmers to perform a wide range of applications varying from text processing, maintaining databases to GUI programming.  \n",
        "\n",
        "**Secure** The python language environment is secure from tampering.  Modules can be distributed to prevent altering the code.  Apart from this, additional security checks can be easily added to implement additional security features.  \n",
        "\n",
        "**Robust** Python programmers cannot manipulate memory directly.  Errors are raised as exceptions that can be catch and handled by the program code.  \n",
        "\n",
        "Multi-threaded : Python supports multi threading that is executing more than one process of a program simultaneously.  It also allows programmers to perform process management tasks.  \n",
        "\n",
        "**Garbage Collection** The Python run time environment handles garbage collections of all Python objects.  For that a reference counter is maintained to assure that no object that is currently in use is deleted.  An object that is no longer used or has gone out of scope are eligible for garbage collection.  \n",
        "\n",
        "**Limitation** parallel processing can be done in Python, but not as elegantly as done in some other languages such as JavaScript and Go Language.  \n",
        "Python not a choice of preference for developing high graphic 3d games as it takes a lot of cpu. \n",
        "\n",
        "It lacks true multiprocessor support. It has very limited commercial support point.  \n",
        "\n",
        "Python is slower than c and c++ when computing heavy tasks and desktop application.  \n",
        "\n",
        "\n",
        "\n",
        "**APPLICATIONS OF PYTHON** \n",
        "*   Embedded Scripting Lanugage :  Python is used as a embedded scripting language for various testing / building deployment/ monitoring framework scientific app, and quick scripts. \n",
        "*   3D software : 3D software like Maya uses Python for automating small user tasks, or for doing more complex integration such as talking to databases and asset management systems.  \n",
        "*   Web Development :  Python is extensible language that provides good integration with database and other web standards.  Odoo, a consolidated suite for business application and Google App engine are other popular web application  based on python. \n",
        "*   For web development :- Python has frameworks such as Django and Pyramid, Microlevel frameworks such as Flask and Bottle, and advanced content management system such as Plone and django CMS. \n",
        "\n",
        "*   These frameworks provide libraries and modules which simplifies content management, interaction with database, and interfacing with different internet protocol such as HTTP, SMTP, XML-RPC, FTP AND POP. \n",
        "*   **GUI based desktop application** Python has various GUI toolkits like wx python, PyQt or PyGtk which help developer highly functional GUI including.  \n",
        "Image processing and Graphic Design applications.  2D imaging software such as Inkscape, GIMP, Paint Shop Pro and Scribus. \n",
        "*   **Scientific and Computational applications** Tools such as Numeric Python and Scientific Python, 3D Modelling software such as FreeCAD.  Finite method element software like Abaqus \n",
        "*   SciPy is a collection of packages for mathematics, science and engineering.\n",
        "Pandas is a data analysis and modelling library.\n",
        "IPython is a powerful interactive shell that supports ease of editing and recording a work session.  \n",
        "\n",
        "\n",
        "\n",
        "\n",
        "\n",
        "\n"
      ]
    },
    {
      "cell_type": "markdown",
      "metadata": {
        "id": "LvU0gAQuHEmI",
        "colab_type": "text"
      },
      "source": [
        "# LITERAL CONSTANTS: \n",
        "7,3,9.8, 'A', and 'Hello' are literal constants. \n",
        "\n",
        "**Numbers** refers to numerica values. \n",
        "\n",
        "**In python you can specify integers in octal as well as hexadecimal number system**\n",
        "\n",
        "Long integer must have L or l as the suffix. \n",
        "Numbers like 3.23 and 91.5E -2 are termed as floating point number. \n",
        "Numbers a + bi are complex numbers.  \n",
        "\n",
        "**Note** The 'E' notation indicates powers of 10.  In this case, 91.5E-2 means 91.5 * 10-2 \n",
        "\n",
        "Floating point numbers in python have a limited range and precision. \n",
        "In python you can have a number in the range of 10- 308 to 10308 with 16 to 17 digits of precision. \n",
        "\n",
        "**Arithmetic overflow** When you multiply very large floating point numbers you may get arithmetic overflow.  "
      ]
    },
    {
      "cell_type": "markdown",
      "metadata": {
        "id": "4IoZoHsmTiBa",
        "colab_type": "text"
      },
      "source": [
        "**Arithmetic underflow** It is a condition that occurs when a calculated result is too small in magniture to be represented.  "
      ]
    },
    {
      "cell_type": "markdown",
      "metadata": {
        "id": "T-F1rLCpTjbo",
        "colab_type": "text"
      },
      "source": [
        ""
      ]
    },
    {
      "cell_type": "markdown",
      "metadata": {
        "id": "OIcc0lIYb6rA",
        "colab_type": "text"
      },
      "source": [
        ""
      ]
    },
    {
      "cell_type": "code",
      "metadata": {
        "id": "3TeXv5t2Y3ZC",
        "colab_type": "code",
        "outputId": "e90e80b6-ac3f-4867-b05f-f55267487471",
        "colab": {
          "base_uri": "https://localhost:8080/",
          "height": 34
        }
      },
      "source": [
        "a = 2.7e200\n",
        "b = 4.3e200\n",
        "c = a * b\n",
        "print(c)"
      ],
      "execution_count": 0,
      "outputs": [
        {
          "output_type": "stream",
          "text": [
            "inf\n"
          ],
          "name": "stdout"
        }
      ]
    },
    {
      "cell_type": "code",
      "metadata": {
        "id": "j7IqQpOzJEng",
        "colab_type": "code",
        "outputId": "81102e08-97f9-402b-b47d-474d4d2a14e7",
        "colab": {
          "base_uri": "https://localhost:8080/",
          "height": 34
        }
      },
      "source": [
        "a = 3.0e-400\n",
        "b = 5.0e200\n",
        "c = a / b\n",
        "print(c)"
      ],
      "execution_count": 0,
      "outputs": [
        {
          "output_type": "stream",
          "text": [
            "0.0\n"
          ],
          "name": "stdout"
        }
      ]
    },
    {
      "cell_type": "code",
      "metadata": {
        "id": "jk8Dqt3XJlOz",
        "colab_type": "code",
        "outputId": "0223efcd-8b6b-49da-d29d-185129052dcc",
        "colab": {
          "base_uri": "https://localhost:8080/",
          "height": 34
        }
      },
      "source": [
        "1/3"
      ],
      "execution_count": 0,
      "outputs": [
        {
          "output_type": "execute_result",
          "data": {
            "text/plain": [
              "0.3333333333333333"
            ]
          },
          "metadata": {
            "tags": []
          },
          "execution_count": 3
        }
      ]
    },
    {
      "cell_type": "markdown",
      "metadata": {
        "id": "Fyd5bSHmJthF",
        "colab_type": "text"
      },
      "source": [
        "# BUILT - IN format() function: \n",
        "Any floating point value may contain an arbitrary number of decimal places, so it is always recommended to use the built-in format() function to produce a string version of a number with specific number of decimal places.  As  illustrated below using format () and also without using format() "
      ]
    },
    {
      "cell_type": "code",
      "metadata": {
        "id": "oma_dB-MKI9r",
        "colab_type": "code",
        "outputId": "be8db263-1669-4030-be07-02f262511422",
        "colab": {
          "base_uri": "https://localhost:8080/",
          "height": 34
        }
      },
      "source": [
        "float (26/(float(6)))  # without using floating format"
      ],
      "execution_count": 0,
      "outputs": [
        {
          "output_type": "execute_result",
          "data": {
            "text/plain": [
              "4.333333333333333"
            ]
          },
          "metadata": {
            "tags": []
          },
          "execution_count": 5
        }
      ]
    },
    {
      "cell_type": "code",
      "metadata": {
        "id": "EmKT8SLjKCR9",
        "colab_type": "code",
        "outputId": "05c43403-f9ba-4f7d-b1d0-7b6c3f2bd9e0",
        "colab": {
          "base_uri": "https://localhost:8080/",
          "height": 34
        }
      },
      "source": [
        "format(float(26/(float(6))), '.3f')"
      ],
      "execution_count": 0,
      "outputs": [
        {
          "output_type": "execute_result",
          "data": {
            "text/plain": [
              "'4.333'"
            ]
          },
          "metadata": {
            "tags": []
          },
          "execution_count": 10
        }
      ]
    },
    {
      "cell_type": "markdown",
      "metadata": {
        "id": "bA4q8SMILC0p",
        "colab_type": "text"
      },
      "source": [
        "Here the .3f format() function rounds the result to three decimal places of accuracy in the string produced.  \n",
        "\n",
        "\n",
        "The format() function can also be used to format floating point numbers in scientific notation.  Observe the output with five decimal places of precision. "
      ]
    },
    {
      "cell_type": "markdown",
      "metadata": {
        "id": "G-va6cD-Ltv5",
        "colab_type": "text"
      },
      "source": [
        "The format function can also be used to insert comma in the number.\n",
        "\n",
        "**The format() produces a numeric string of floating point values rounded to a specific number of decimal places.  "
      ]
    },
    {
      "cell_type": "markdown",
      "metadata": {
        "id": "EASEyVoGNF6n",
        "colab_type": "text"
      },
      "source": [
        "**Operation on Numbers**\n",
        "\n",
        "**Quotient & Reminders** \n",
        "\n"
      ]
    },
    {
      "cell_type": "code",
      "metadata": {
        "id": "xZozlRVANOsR",
        "colab_type": "code",
        "outputId": "2dfbd810-9385-4a8d-899d-01842f04efdc",
        "colab": {
          "base_uri": "https://localhost:8080/",
          "height": 34
        }
      },
      "source": [
        "85//5"
      ],
      "execution_count": 0,
      "outputs": [
        {
          "output_type": "execute_result",
          "data": {
            "text/plain": [
              "17"
            ]
          },
          "metadata": {
            "tags": []
          },
          "execution_count": 13
        }
      ]
    },
    {
      "cell_type": "code",
      "metadata": {
        "id": "8QU11mBtNTdY",
        "colab_type": "code",
        "outputId": "53041f42-b134-405f-d8b6-d9402b27f20d",
        "colab": {
          "base_uri": "https://localhost:8080/",
          "height": 34
        }
      },
      "source": [
        "98 % 5"
      ],
      "execution_count": 0,
      "outputs": [
        {
          "output_type": "execute_result",
          "data": {
            "text/plain": [
              "3"
            ]
          },
          "metadata": {
            "tags": []
          },
          "execution_count": 14
        }
      ]
    },
    {
      "cell_type": "code",
      "metadata": {
        "id": "KZlc2UtQNaeO",
        "colab_type": "code",
        "outputId": "6bdc41e0-fc84-4cf7-8d2f-e70944b030f5",
        "colab": {
          "base_uri": "https://localhost:8080/",
          "height": 34
        }
      },
      "source": [
        "184.68//6.0"
      ],
      "execution_count": 0,
      "outputs": [
        {
          "output_type": "execute_result",
          "data": {
            "text/plain": [
              "30.0"
            ]
          },
          "metadata": {
            "tags": []
          },
          "execution_count": 15
        }
      ]
    },
    {
      "cell_type": "code",
      "metadata": {
        "id": "5iEESdslNg1B",
        "colab_type": "code",
        "outputId": "69dd548b-4337-48ba-a460-e1e47f6c9e95",
        "colab": {
          "base_uri": "https://localhost:8080/",
          "height": 34
        }
      },
      "source": [
        "184.38 % 6.0"
      ],
      "execution_count": 0,
      "outputs": [
        {
          "output_type": "execute_result",
          "data": {
            "text/plain": [
              "4.3799999999999955"
            ]
          },
          "metadata": {
            "tags": []
          },
          "execution_count": 16
        }
      ]
    },
    {
      "cell_type": "markdown",
      "metadata": {
        "id": "yFYGcdo_NpU2",
        "colab_type": "text"
      },
      "source": [
        "Exponentiation ;  The ** operator is used for exponentiation i.e. raising of one number to the power of another.  "
      ]
    },
    {
      "cell_type": "code",
      "metadata": {
        "id": "4vnEhI-bNy2M",
        "colab_type": "code",
        "outputId": "d8ee2f0a-0e7e-43cb-eab6-b10b22031179",
        "colab": {
          "base_uri": "https://localhost:8080/",
          "height": 34
        }
      },
      "source": [
        "5 ** 3"
      ],
      "execution_count": 0,
      "outputs": [
        {
          "output_type": "execute_result",
          "data": {
            "text/plain": [
              "125"
            ]
          },
          "metadata": {
            "tags": []
          },
          "execution_count": 17
        }
      ]
    },
    {
      "cell_type": "code",
      "metadata": {
        "id": "y8FsjnMWN2GG",
        "colab_type": "code",
        "outputId": "573565b4-99c2-4e34-be77-d30e5c174acf",
        "colab": {
          "base_uri": "https://localhost:8080/",
          "height": 34
        }
      },
      "source": [
        "format(131**0.8, '.3f')"
      ],
      "execution_count": 0,
      "outputs": [
        {
          "output_type": "execute_result",
          "data": {
            "text/plain": [
              "'49.410'"
            ]
          },
          "metadata": {
            "tags": []
          },
          "execution_count": 20
        }
      ]
    },
    {
      "cell_type": "markdown",
      "metadata": {
        "id": "sG_Fi89fONEV",
        "colab_type": "text"
      },
      "source": [
        "**Unicode Strings** \n",
        "\n",
        "u\"Sample Unicode String\"\n",
        "The 'U' prefix specifies that the file contains text written in language other than English.  "
      ]
    },
    {
      "cell_type": "markdown",
      "metadata": {
        "id": "-sKjAlA6Om7n",
        "colab_type": "text"
      },
      "source": [
        "**Escape Sequences** \n",
        "To indicate that the single quote does not indicate the end of the string.  This indication can be given with the help of an escape sequence. \n",
        "\n",
        "The different types of escape sequences are : \n",
        "\n",
        "\\\\   Prints Backslash            Print(\"\\\\\")\n",
        "\\'   Prints single-quote         Print(\"\\'\")\n",
        "\\\"  Prints double quotes\n",
        "\\a   Rings bell                  Prints(\"\\a\")\n",
        "\\f   prints form feed character  print(\"Hello\\fWorld\")\n",
        "\\n   prints newline character   print(\"Hello\\nWorld\")  \n",
        "\\t   prints a tab               print(\"Hello\\t World\")  Hello       World\n",
        "\\o   prints octal value         print(\"\\056\")             .  \n",
        "\\x   print hex value            print(\"\\x87\")             + "
      ]
    },
    {
      "cell_type": "code",
      "metadata": {
        "id": "IAg4sZXBQGSO",
        "colab_type": "code",
        "outputId": "80714ed5-b4cb-4b67-c4d1-36e6d215d8cd",
        "colab": {
          "base_uri": "https://localhost:8080/",
          "height": 34
        }
      },
      "source": [
        "print(\"\\x87\")"
      ],
      "execution_count": 0,
      "outputs": [
        {
          "output_type": "stream",
          "text": [
            "\n"
          ],
          "name": "stdout"
        }
      ]
    },
    {
      "cell_type": "code",
      "metadata": {
        "id": "Tlj7OrewQM5a",
        "colab_type": "code",
        "outputId": "e0135c5b-a202-4917-954b-be07e871f32c",
        "colab": {
          "base_uri": "https://localhost:8080/",
          "height": 34
        }
      },
      "source": [
        "print(\"\\o56\")"
      ],
      "execution_count": 0,
      "outputs": [
        {
          "output_type": "stream",
          "text": [
            "\\o56\n"
          ],
          "name": "stdout"
        }
      ]
    },
    {
      "cell_type": "markdown",
      "metadata": {
        "id": "lCpODkL-QkWe",
        "colab_type": "text"
      },
      "source": [
        "# VARIABLES AND IDENTIFIERS\n",
        "\n",
        "Developing complex program involves storing information and manipulate it as required and variables can help.  \n",
        "\n",
        "Variables play a very important role in programming language, they are a part of computers memory where information is stored.  To be identified easily, each variable is given an appropriate name, every variable is assigned a name which can be used to refer to the value later in the program.  \n",
        "\n",
        "\n",
        "**Variables are reserved memory locations that store values** \n",
        "\n",
        "Variables are examples of identifiers.  \n",
        "\n",
        "**Identifiers** are names given to identify something.  This something can be variable, function, class, module or other object.    For naming any identifier, there are some basic rules to be followed: \n",
        "\n",
        "*   The first character of an identifier must be an underscore'_' or a letter.\n",
        "*   Rest of the identifier can be underscore ('_') or digits 0-9 \n",
        "*   Identifier names are case-sensitive. abvar and abVar are not same.\n",
        "*    Punctuation characters such as @, $ and % are not allowed within identifiers.\n",
        "\n",
        "Examples of valid identifiers are sum, __zy__var, val1, s, val_40, Second etc.\n",
        "Examples of invalid identifiers are fnum, in-val,%see, Roll No, C#C&A.\n"
      ]
    },
    {
      "cell_type": "markdown",
      "metadata": {
        "id": "F1pLZAZLTPW8",
        "colab_type": "text"
      },
      "source": [
        "# DATA TYPES \n",
        "\n",
        "Variable names can contain only letters, numbers, and underscores.  They cannot start with numbers.  \n",
        "\n",
        "Variables can hold values of different types called data types.  \n",
        "A person's name is made only of characters, his address is a mix of characters and numbers.\n",
        "\n",
        "Python has various standard data types that are used to define the operations possible on them and the storage method for each of them.\n",
        "\n",
        "**Based on the data types of a variable, the interpreter reserves memory for it and also determines the types of data that can be stored in the reserved memory.**\n",
        "\n",
        "\n",
        "The programmer can create his own data type like classes.  The five standard data types supported by python includes;\n",
        "numbers, string, list,tuple, dictionary. "
      ]
    },
    {
      "cell_type": "markdown",
      "metadata": {
        "id": "TBOjnxc9VNpf",
        "colab_type": "text"
      },
      "source": [
        "# Assigning or Initializing values to variables.\n",
        "\n",
        "Programmers need not explicitly declare variables to reserve memory space and is done automatically, when a value is assigned to the variable using = sign.  The operand on the left hand side of equal sign is the name of the variable and operand on the right hand side is the value stored in that variable.  \n",
        "\n",
        "\n",
        "Program to display data of different types using variable and literal constants.  "
      ]
    },
    {
      "cell_type": "code",
      "metadata": {
        "id": "wkA7iooIV1Gq",
        "colab_type": "code",
        "outputId": "d53d0df6-1ca0-43c0-d518-5525424e7ea0",
        "colab": {
          "base_uri": "https://localhost:8080/",
          "height": 170
        }
      },
      "source": [
        "num = 17\n",
        "price = 987.345\n",
        "index = 'Z'\n",
        "pi = 3.1415926536\n",
        "urban_populous_city = 200000000000\n",
        "sign = 'Hello'\n",
        "\n",
        "print(\"NUM =  \"+str(num))\n",
        "print(\"\\n PRICE = \"+str(price))\n",
        "print(\"\\n INDEX   =\"+str(index))\n",
        "print(\"\\n  URBAN POPULOUS CITY =  \"+str(urban_populous_city))\n",
        "print(\"\\n SIGN  = \"+str(sign))"
      ],
      "execution_count": 0,
      "outputs": [
        {
          "output_type": "stream",
          "text": [
            "NUM =  17\n",
            "\n",
            " PRICE = 987.345\n",
            "\n",
            " INDEX   =Z\n",
            "\n",
            "  URBAN POPULOUS CITY =  200000000000\n",
            "\n",
            " SIGN  = Hello\n"
          ],
          "name": "stdout"
        }
      ]
    },
    {
      "cell_type": "markdown",
      "metadata": {
        "id": "tW0iXHs0XQ9a",
        "colab_type": "text"
      },
      "source": [
        "Program to reassign variable"
      ]
    },
    {
      "cell_type": "code",
      "metadata": {
        "id": "4porAaibXW9F",
        "colab_type": "code",
        "outputId": "eccbd70b-5ceb-4d04-9914-2aa7f9ebf9b3",
        "colab": {
          "base_uri": "https://localhost:8080/",
          "height": 68
        }
      },
      "source": [
        "var = 'Hi there'\n",
        "print(var)\n",
        "var = 300\n",
        "print(var)\n",
        "var = 34.45\n",
        "print(var)"
      ],
      "execution_count": 0,
      "outputs": [
        {
          "output_type": "stream",
          "text": [
            "Hi there\n",
            "300\n",
            "34.45\n"
          ],
          "name": "stdout"
        }
      ]
    },
    {
      "cell_type": "markdown",
      "metadata": {
        "id": "hPw3wiMdXsEI",
        "colab_type": "text"
      },
      "source": [
        "# Multiple assignments \n",
        "Python allows programmers to assign a single value to more than one variables simultaneously.\n",
        "\n",
        "sum = flat = a= b= 0\n",
        "\n",
        "in above all variables are assigned value 0.\n",
        "\n",
        "You can also assign different values to multiple variables simultaneously. \n",
        "\n",
        "var, z,y, code = 1,3,10,\"SHOW\"\n",
        "\n",
        "**Note** Removing a variable means that the reference from the name to the value has been deleted.   However, deleted variabes can be used again in the code if and only if you reassign them some value.  \n",
        "\n",
        "**Boolean** \n",
        "\n",
        "Boolean is another data type in Python.  A variable of Boolean type can have one of the two values-- True or False.\n",
        "\n",
        "Boolean variables are also created while we assign a value to them or when we use a relational operator on them.  \n",
        "\n",
        "** Boolean variables are also created by comparing values using the == operator**\n",
        "\n",
        "Codes to assign and access boolean variable.  \n",
        "\n",
        "**Note** <,> operators can also be used to compare strings lexicographically. \n",
        "\n",
        "code to assign and access Boolean variables "
      ]
    },
    {
      "cell_type": "markdown",
      "metadata": {
        "id": "OtGUgO_7pNTk",
        "colab_type": "text"
      },
      "source": [
        "# Multiple Statements on a Single Line\n",
        "\n",
        "Do not use the semi-colon in python. \n",
        "There are two types of lines in program code, the physical line and the logical line.  While physical line is what we see while writing the program, logical line, on the other hand, is what Python sees as a single statement.  \n",
        "print(\"Hello\") is a logical line.  If this is the only statement present in a lin,e it also corresponds to physical line.  \n",
        "\n",
        "Python assumes that each physical line corresponds to a logical line.  So, it is a good programming habit to specify a single statement on a line.  The also makes the code readable and easily understandable.  \n",
        "\n",
        "mesg = \"Hello\"\n",
        "print(mesg)\n"
      ]
    },
    {
      "cell_type": "code",
      "metadata": {
        "id": "Lyf1j7_9Ze7g",
        "colab_type": "code",
        "outputId": "2a983986-0fb7-461c-d058-81822490d4e0",
        "colab": {
          "base_uri": "https://localhost:8080/",
          "height": 34
        }
      },
      "source": [
        "Boolean_val = True \n",
        "print(Boolean_val)"
      ],
      "execution_count": 0,
      "outputs": [
        {
          "output_type": "stream",
          "text": [
            "True\n"
          ],
          "name": "stdout"
        }
      ]
    },
    {
      "cell_type": "code",
      "metadata": {
        "id": "i9tdbcQMaHRU",
        "colab_type": "code",
        "outputId": "0ed6e921-f372-4a72-f1b6-40fe5a3a3855",
        "colab": {
          "base_uri": "https://localhost:8080/",
          "height": 34
        }
      },
      "source": [
        "'Hithere' == 'Hithere'"
      ],
      "execution_count": 0,
      "outputs": [
        {
          "output_type": "execute_result",
          "data": {
            "text/plain": [
              "True"
            ]
          },
          "metadata": {
            "tags": []
          },
          "execution_count": 29
        }
      ]
    },
    {
      "cell_type": "code",
      "metadata": {
        "id": "gMC-4Q7naNtT",
        "colab_type": "code",
        "outputId": "ad4ec12e-c758-463e-99f3-ec9e84132fc6",
        "colab": {
          "base_uri": "https://localhost:8080/",
          "height": 34
        }
      },
      "source": [
        "40 != 45"
      ],
      "execution_count": 0,
      "outputs": [
        {
          "output_type": "execute_result",
          "data": {
            "text/plain": [
              "True"
            ]
          },
          "metadata": {
            "tags": []
          },
          "execution_count": 30
        }
      ]
    },
    {
      "cell_type": "markdown",
      "metadata": {
        "id": "aZY9bbn-aV9L",
        "colab_type": "text"
      },
      "source": [
        "# INPUT OPERATION \n",
        "The input() function prompts the user to provide information on which the program can work and give result.  \n",
        "\n",
        "# COMMENTS: \n",
        "Comments are non-executable statement in the program.  They are added to describe the statement in the program code.  In python # hash sign that is not inside a string literal beging a comment.  \n",
        "\n",
        "# RESERVED KEYWORDS\n",
        "Every programming language there are certain words which have predefined meaning  and cannot be used for naming identifiers.  \n",
        "**All the python keywords contain lowercase letters only**\n",
        "\n",
        "\n",
        "# INDENTATION: \n",
        "Whitespace at the beginning of the line is called indentation, which are very important in python.  The leading whitespaces including spaces and tabs at the beginning of the logical line determines the indentation level of that logical line.  \n",
        "\n",
        "**Note** In Python indentation is used to associate and group statement. \n",
        "\n",
        "The level of indentation groups statement to form a block of statements, meaning that the statements in a block must have same indentation level.  \n",
        "\n",
        "**Python strictly checks the identation level and gives error if indentation is not correct** \n",
        "\n",
        "** ^ is a standard symbol that indicates where error has occured in program**\n",
        "\n",
        "** All statement inside a block should be at the same indentation level**\n",
        "\n",
        "\n",
        "\n",
        "# OPERATORS AND EXPRESSIONS : \n",
        "\n",
        "Operators are the constructs that are used to manipulate the value of operands.  Some basic operators include +,-, * and /.   In an expression, an operator is used on operand(s) values to be manipulated  \n",
        "For example   add = z + y z and y are operands and + is the operator.  \n",
        "\n",
        "Python supports different types of Operators, which are as follows: \n",
        "\n",
        "Arithmetic Operators\n",
        "Comparison Operators \n",
        "Assignment Operators \n",
        "Logical Operators \n",
        "Unary Operators\n",
        "Bitwise Operators \n",
        "Membership Operators \n",
        "Identity Operators.  \n",
        "\n",
        "\n",
        "**Arithmetic Operators** \n",
        "\n",
        "Some basic arithmetic operators are +,-,*/,%, ** and //.  \n",
        "\n",
        "You can apply these operators on numbers as well as variables to perform corresponding operators.  \n",
        "\n",
        "The description of some of the important operators are given below: \n",
        "\n",
        "%  The modulus divides operand on the left hand side of the operator with the operand on the right hand side.  The modulus operator returns the remainder  \n",
        "\n",
        "print(b%a) return 0 \n",
        "\n",
        "**//** Floor Division : Divides the operand and returns the quotient.  It also removes the digits after the decimal point.  If one of the operands is in the negative the result is floored (i.e. rounded away from zero towards negative infinity) \n",
        "\n",
        "Observe the output below: \n",
        "\n",
        "// floor division "
      ]
    },
    {
      "cell_type": "code",
      "metadata": {
        "id": "Dq3-6riFXZU0",
        "colab_type": "code",
        "outputId": "3fb9ecc8-de7f-4479-b953-e6c186baaf3d",
        "colab": {
          "base_uri": "https://localhost:8080/",
          "height": 85
        }
      },
      "source": [
        "print(14//5)\n",
        "print(14.0//5.0)\n",
        "print(19//5)\n",
        "print(-20//3)"
      ],
      "execution_count": 0,
      "outputs": [
        {
          "output_type": "stream",
          "text": [
            "2\n",
            "2.0\n",
            "3\n",
            "-7\n"
          ],
          "name": "stdout"
        }
      ]
    },
    {
      "cell_type": "markdown",
      "metadata": {
        "id": "iBPRH59bX-fr",
        "colab_type": "text"
      },
      "source": [
        "# COMPARISON OPERATOR : \n",
        "\n",
        "The comparison operator also known as relational operator are used to compare the values on its either sides and determines the relation between them. \n",
        "\n",
        "For example, z = 50 and y = 100 we can use following comparison operators on them, as specified : "
      ]
    },
    {
      "cell_type": "code",
      "metadata": {
        "id": "C_LBFH8FXnFI",
        "colab_type": "code",
        "outputId": "9eea47fd-ce81-447c-a2f4-0c69f606f219",
        "colab": {
          "base_uri": "https://localhost:8080/",
          "height": 119
        }
      },
      "source": [
        "z = 50\n",
        "y = 100\n",
        "\n",
        "print(z==y)\n",
        "print(z!=y)\n",
        "print(z>y)\n",
        "print(z<y)\n",
        "print(z>=y)\n",
        "print(z<=y)"
      ],
      "execution_count": 0,
      "outputs": [
        {
          "output_type": "stream",
          "text": [
            "False\n",
            "True\n",
            "False\n",
            "True\n",
            "False\n",
            "True\n"
          ],
          "name": "stdout"
        }
      ]
    },
    {
      "cell_type": "markdown",
      "metadata": {
        "id": "1BzCAm1mZe9B",
        "colab_type": "text"
      },
      "source": [
        "**Assignment and In-place or Shortcut Operators**\n",
        "\n",
        "Assignment Operator, as the name suggests assigns the value to the operand.  The in-place operators also known as the shortcut operators that include +=, -=, /=, //=, allow you to write code like \n",
        "\n",
        "**num = num + 10 more concisely as num+=3**\n",
        "\n",
        "**z = x ** Assigns the operand on the right side of the operator to the operand on the left. \n",
        "\n",
        "**+=** **Add and assign:** a+=b is same as **a = a + b**\n",
        "\n",
        "**-=** **Substract and assign** a-= is same as **a = a - b**\n",
        "\n",
        "** *=**  **Multiply and assign** a*=b is same as **a = a*b**\n",
        "\n",
        "**/=**  **Divide and assign** a/=b is same as **a = a/b**\n",
        "\n",
        "**%=**  **Modulus and assign** a%=b  is same ** as a = a % b  ** \n",
        "\n",
        "**//==**  **Floor division** **a//b = b is same **a = a//b**\n",
        "\n",
        "**= Exponent & assign :Performs exponential calculations, a**=b is same as a**b\n",
        "\n"
      ]
    },
    {
      "cell_type": "code",
      "metadata": {
        "id": "wuniDfUQd0AL",
        "colab_type": "code",
        "outputId": "87af2b42-feee-4edb-e9fc-a1efa0f7244b",
        "colab": {
          "base_uri": "https://localhost:8080/",
          "height": 34
        }
      },
      "source": [
        "str1 = \"Python\"\n",
        "str2 = \"Programming\"\n",
        "str1 += str2\n",
        "print(str1)"
      ],
      "execution_count": 0,
      "outputs": [
        {
          "output_type": "stream",
          "text": [
            "PythonProgramming\n"
          ],
          "name": "stdout"
        }
      ]
    },
    {
      "cell_type": "markdown",
      "metadata": {
        "id": "MJdq4VMLeN3K",
        "colab_type": "text"
      },
      "source": [
        "# UNARY OPERATORS : \n",
        "**Python does not support prefix and postfix increment operator as well as decrement operators. **\n",
        "\n",
        "Unary operators operate on a single operands.  \n"
      ]
    },
    {
      "cell_type": "code",
      "metadata": {
        "id": "1pkHxFLyiUpr",
        "colab_type": "code",
        "outputId": "6bf51037-105c-4ec3-d823-0a1cb2149aab",
        "colab": {
          "base_uri": "https://localhost:8080/",
          "height": 34
        }
      },
      "source": [
        "z = 50\n",
        "y = -(z);\n",
        "print(y)"
      ],
      "execution_count": 0,
      "outputs": [
        {
          "output_type": "stream",
          "text": [
            "-50\n"
          ],
          "name": "stdout"
        }
      ]
    },
    {
      "cell_type": "markdown",
      "metadata": {
        "id": "W0q1KuT-idzT",
        "colab_type": "text"
      },
      "source": [
        "# BITWISE OPERATORS \n",
        "As the name suggests bitwise operators perform operation at the bit level.  These operators include bitwise;\n",
        "AND, bitwise OR, bitwise XOR and shift operations.  \n",
        "\n",
        "**Bitwise operators expect their operands to be of integers and treat them as sequence of bits** \n",
        "\n",
        "**BITWISE ANAD (&)**\n",
        "When we use the bitwise AND operator, the bit in the first operand is ANDED with the corresponding bit in the second operand.  \n",
        "\n",
        "The bitwise AND operator compares each bit of its first operand with the corresponding bit of its second operand.  If both bits are 1, the corresponding bit in the result is 1 and 0 otherwise.  \n",
        "\n",
        "**BITWISE OR (|)**\n",
        "\n",
        "when we use the bitwise OR operator, tbe bit in the first opeand is ORed with the corresponding bit in the second operand.  The bit-wise OR operator compares each bit of its first operand with the corresponding bit of its second operand.  If one or both bits are 1, the corresponding bit in the result is 1 and 0 otherwise.  For example, \n",
        "\n",
        "10101010  | 0101010101  = 11111111\n",
        "\n",
        "**BITWISE XOR (^)** \n",
        "The bit in the first operand is XORed with the corresponding bit with the second operand.  The bitwise XOR operator compare each bit of its first operand with the corresponding bit of the second operand.  If one of the bits is 1, the corresponding bit in the result is 1 and 0 otherwise \n",
        "\n",
        "10101010 ^ 0101010101= 11111111\n",
        "\n",
        "\n",
        "**BITWISE NOT(~)** \n",
        "The bitwise NOT, or complement is a unary operation, which performs logical negation on each bit of the operand.  By performing negation of each bit, it actually produces the ones complement of the given binary value.  Bitwise NOT operator sets the bit to 1, if it was initially 0 and sets it to 0, if it was initially 1. For example, \n",
        "\n",
        "~ 10101011 = 0101011000\n",
        "\n",
        "\n"
      ]
    },
    {
      "cell_type": "code",
      "metadata": {
        "id": "pObE5J5Djr0s",
        "colab_type": "code",
        "colab": {}
      },
      "source": [
        "a = 10101010 \n",
        "b = 01010101 \n",
        "print(a & b) "
      ],
      "execution_count": 0,
      "outputs": []
    },
    {
      "cell_type": "markdown",
      "metadata": {
        "id": "f9BVs8qiLc2p",
        "colab_type": "text"
      },
      "source": [
        "# Shift Operators : \n",
        "\n",
        "Python supports two bitwise shift operators.  They are shift left (<<) and shift right (>>).  These operators are used to shift bits to the left or to the right.  The syntax for a shift operation can be given as follows :\n",
        "\n",
        "\n",
        "operand op num \n",
        "\n",
        "where the bits in operand are shifted left or right depending on the operator ( left if the operator is << and right if the operator is >>) by places denoted by num.  \n",
        "\n",
        "For example,  \n",
        "If we have x = 0001 1101, then \n",
        "x << 1 gives result 0011 1010 \n",
        "\n",
        "When we applya left shift, every bit in x is shifted to the left by one place.  Therefore, the most significant bit of x is lost and the least significant bit of x is set to 0, for example : \n",
        "\n",
        "if we have x = 0001 1101, then \n",
        "x << 4 gives result = 1010 0000\n",
        "\n",
        "Observe that shifting once to the left multiplies the number by 2.  Hence Multiple shifts of 1 to the left results in multiplying the number by 2 over and over again.  \n",
        "\n",
        "When we apply a right shift operator every bit in x is shifted to the right by one place.  Therefore, the LSB of x is lost and the MSB of x is set to 0.  \n",
        "\n",
        "if we have x = 0001 1101, then \n",
        "x >> 1 give result = 0000 1110\n",
        "Similarly, if we have x = 0001 1101 then \n",
        "x << 4 gives the result = 0000 0001\n",
        "\n",
        "**Note** Bitwise operators cannot be applied to float or double variables. \n",
        "\n",
        "\n",
        "\n"
      ]
    },
    {
      "cell_type": "markdown",
      "metadata": {
        "id": "YB7KChDUOL9Q",
        "colab_type": "text"
      },
      "source": [
        "# LOGICAL OPERATORS \n",
        "\n",
        "Python supports three logical operators logical AND( &&) logical or (||) and logical not (!).  \n",
        "\n",
        "Logical operations are evaluated from left to right.  \n",
        "\n",
        "Logical AND (&&)  \n",
        "\n",
        "Logical AND Operator is used to simultaneously evaluate connditions or expressions with relational operators.  If expression on both the sides of the logical operator are true, then the whole expression is true.\n",
        "\n",
        "For example we have an example (a>b) && (b>c)  then the whole expression is true only if both expressions are true.  That is, if b is greater than a and c. \n",
        "\n",
        "LOGICAL OR (||)\n",
        "\n",
        "Logical OR operator is used to simultaneously evaluate two conditions or expressions with relational operators if one or both the expression of the logical operators is true, then the whole expression is true.  For example, we have \n",
        "\n",
        "(a > b) || (b>c) then the whole expression is true if either b is greater than a or be is greater than c.  \n",
        "\n",
        "\n",
        "LOGICAL (NOT) \n",
        "\n",
        "This logical not operator takes a single expression and negates the value of the expression.  Logical NOT produces a zero if the expression evaluates to a non-zero value and produces a 1 if the expression produces a zero.  \n",
        "\n",
        "In other words, it just reverses the value of the expression \n",
        "\n",
        "a = 20, b \n",
        "b = !a\n",
        "Now the value of b = 0.  The value of a is not zero, therefore, !a = 0.  The value of !a is assigned to b, hence the result.  \n",
        "\n",
        "**NOTE** The table of logical AND, OR and NOT operators is exactly same as that of bitwise AND, OR, and NOT.  \n",
        "\n",
        "The logical expressions operate in a shortcut fashion and stop the evaluation when it knows the final outcome for sure.  \n",
        "\n",
        "In a logical expressioin involving logical AND, if the first operand is false, then the second operand is not evaluated as it is certain that the result will be false.  \n",
        "\n",
        "Similarly, for a logical expression involving logical OR if the first operand is true, then the second operand is not evaluated as it is certain that the result will be true.  \n",
        "\n"
      ]
    },
    {
      "cell_type": "markdown",
      "metadata": {
        "id": "Hm0z8t3CW_iC",
        "colab_type": "text"
      },
      "source": [
        "# Membership Operators : \n",
        "\n",
        "Python supports two types of membership operators -- **in and not in**  \n",
        "These operators test for membership in a sequence such as string, list, or tuples. \n",
        "\n",
        "**in Operator** :  The operator returns true if a variable is found in the specified sequence and False otherwise.  For example, a in nums returns 1 if a is a member of nums.  \n",
        "\n",
        "**not in Operator** The operator returns true if a variable is not found in the specified sequence and False otherwise.  For example, a not in nums returns 1, if a is not a member of nums.  \n",
        "\n",
        "** is operator** Returns true if operands or values on both sides of the operator points to the same object and False otherwise.  For example, if a is b returns 1, if id(a) is same as id(b) \n",
        "\n",
        "** is not operator** Returns True if operands or values on both sides of the operator does not point to the same object and False otherwise. For example, if a is not in b return 1, if id(a) is not the same as id(b) \n"
      ]
    },
    {
      "cell_type": "markdown",
      "metadata": {
        "id": "7vDI7xFWZHM8",
        "colab_type": "text"
      },
      "source": [
        "# OPERATOR PRECEDENCE AND ASSOCIATIVITY: \n",
        "\n",
        "When an expression has more than one operator, then it is the relative priorities of the operators with respect to each other that determines the order in which the expression will be evaluated.  \n",
        "\n",
        "**Operator**                   **Description** \n",
        "**                                exponentiation\n",
        "~,+,-                             complement, unary plus, minus\n",
        "*,/,%, //                         multiply, divide, modulu, floor division\n",
        "+,-                                Addition and substraction \n",
        ">>, <<                           right and left bitwise shift \n",
        "&                                  Bitwise & \n",
        "^ |                               Bitwise exclusive OR  and regular OR\n",
        "<=, <,>=                          Comparison Operators \n",
        "=, %=,/=, //=, -=,+=,*=,**=       Assignment operators \n",
        "is, is not                        Identity operators \n",
        "in, not in                        Membership operators \n",
        "not, or, and                      Logical operators.  \n",
        "\n",
        "\n",
        "The operator precedence table is important as it affects how an expression is evaluated.  \n",
        "\n",
        "20 + 30 * 5 \n",
        "170 \n",
        "This is because * has higher precedence than +, so it first multiplies 30 and 5 and then adds 20.  The operator precedence table decides which operators are evaluated in what order.  If the programmer wants to change the precedence, she can use parentheses. \n",
        "\n",
        "**Note** Operators are associated from left to right.  This means that operators with the same precedence are evaluated in a left to right manner. \n",
        "\n",
        "Lets try some codes to see how the operator precedence works in the following expressions.\n"
      ]
    },
    {
      "cell_type": "code",
      "metadata": {
        "id": "VfaLdj4RiT7Q",
        "colab_type": "code",
        "outputId": "a6605630-521a-4cc3-fd2c-f90ed719fe12",
        "colab": {
          "base_uri": "https://localhost:8080/",
          "height": 34
        }
      },
      "source": [
        "(80 + 40) * 15 /5"
      ],
      "execution_count": 0,
      "outputs": [
        {
          "output_type": "execute_result",
          "data": {
            "text/plain": [
              "360.0"
            ]
          },
          "metadata": {
            "tags": []
          },
          "execution_count": 1
        }
      ]
    },
    {
      "cell_type": "code",
      "metadata": {
        "id": "e3WUAjmCupcx",
        "colab_type": "code",
        "outputId": "02dc8937-997d-4a8f-dec3-77c8ad0df07a",
        "colab": {
          "base_uri": "https://localhost:8080/",
          "height": 34
        }
      },
      "source": [
        "((80 + 40) * 15) /5"
      ],
      "execution_count": 0,
      "outputs": [
        {
          "output_type": "execute_result",
          "data": {
            "text/plain": [
              "360.0"
            ]
          },
          "metadata": {
            "tags": []
          },
          "execution_count": 2
        }
      ]
    },
    {
      "cell_type": "code",
      "metadata": {
        "id": "CZIya97Du1lg",
        "colab_type": "code",
        "outputId": "48511208-8f05-4a05-ade4-d614fdfb654e",
        "colab": {
          "base_uri": "https://localhost:8080/",
          "height": 34
        }
      },
      "source": [
        "(80 + 40) * (15 /5)"
      ],
      "execution_count": 0,
      "outputs": [
        {
          "output_type": "execute_result",
          "data": {
            "text/plain": [
              "360.0"
            ]
          },
          "metadata": {
            "tags": []
          },
          "execution_count": 3
        }
      ]
    },
    {
      "cell_type": "code",
      "metadata": {
        "id": "uxdNxlbGvBCa",
        "colab_type": "code",
        "outputId": "ac539dff-b307-4673-ec41-e82bfb5c6d3b",
        "colab": {
          "base_uri": "https://localhost:8080/",
          "height": 34
        }
      },
      "source": [
        "80 + (40 * 15) /5"
      ],
      "execution_count": 0,
      "outputs": [
        {
          "output_type": "execute_result",
          "data": {
            "text/plain": [
              "200.0"
            ]
          },
          "metadata": {
            "tags": []
          },
          "execution_count": 4
        }
      ]
    },
    {
      "cell_type": "markdown",
      "metadata": {
        "id": "nTbnRhvtvN-T",
        "colab_type": "text"
      },
      "source": [
        "The following expression apply operator precedence on Boolean Data types."
      ]
    },
    {
      "cell_type": "code",
      "metadata": {
        "id": "rCGVs7aavV6T",
        "colab_type": "code",
        "outputId": "520f7080-0498-4403-d272-ace698c51057",
        "colab": {
          "base_uri": "https://localhost:8080/",
          "height": 34
        }
      },
      "source": [
        "False == False or True # True because == has a higher precedence than or"
      ],
      "execution_count": 0,
      "outputs": [
        {
          "output_type": "execute_result",
          "data": {
            "text/plain": [
              "True"
            ]
          },
          "metadata": {
            "tags": []
          },
          "execution_count": 6
        }
      ]
    },
    {
      "cell_type": "code",
      "metadata": {
        "id": "pevc4L48vzZr",
        "colab_type": "code",
        "outputId": "cf7ca779-d62c-4ae6-cda6-26a8ac7580db",
        "colab": {
          "base_uri": "https://localhost:8080/",
          "height": 34
        }
      },
      "source": [
        "False == (False or True)  # parenthesis has changed the order of operators"
      ],
      "execution_count": 0,
      "outputs": [
        {
          "output_type": "execute_result",
          "data": {
            "text/plain": [
              "False"
            ]
          },
          "metadata": {
            "tags": []
          },
          "execution_count": 7
        }
      ]
    },
    {
      "cell_type": "code",
      "metadata": {
        "id": "FYHEhFykwEMQ",
        "colab_type": "code",
        "outputId": "fd4f9797-6b14-46d0-c84e-3ba37c4ba72b",
        "colab": {
          "base_uri": "https://localhost:8080/",
          "height": 34
        }
      },
      "source": [
        "(False == False) or True"
      ],
      "execution_count": 0,
      "outputs": [
        {
          "output_type": "execute_result",
          "data": {
            "text/plain": [
              "True"
            ]
          },
          "metadata": {
            "tags": []
          },
          "execution_count": 8
        }
      ]
    },
    {
      "cell_type": "markdown",
      "metadata": {
        "id": "6eo3dVubwPnh",
        "colab_type": "text"
      },
      "source": [
        "\n",
        "\n",
        "\n",
        "**Note** : Python performs opertions in the same order as that of normal mathematics-- BEDMAS i.e. Brackets first then exponentiation, then division, then addition and finally substraction.  \n"
      ]
    },
    {
      "cell_type": "markdown",
      "metadata": {
        "id": "XG0F9CwCww7Z",
        "colab_type": "text"
      },
      "source": [
        "# Expression in Python : \n",
        "An expression is any legal combination of sybmols like variables, constants and operators) that represents a value.  \n",
        "\n",
        "Python has its own set of rules that define whether an expression is valid or invalid in that language.  \n",
        "\n",
        " Expression must have at least one  operand (variable or constant) and can have one or more operators.  On evaluating an expression we get a value.  \n",
        "\n",
        " Operand is the value on which the operator is applied. These operators use constants and variable to form as expression.  Z * Y + X - 5 is an example of expression where +, * and - are operators; Z,Y,X are variables; 5 is a constant.  Some valid expression in Python are : \n",
        " z a = z/ c, x = z * y, z = y^x, a = z > y etc when an expression has more than one operator, then the expression is evaluated using operator precedence.\n",
        "\n",
        " An example of an illegal expression can be z+, -x, or < ab++.  When the program is compiled it also checks the validity of the expression and error message is displayed.  \n",
        "\n",
        "**Types of Expression:**  \n",
        "\n",
        "Python supports different types of expression that can be classified as follows: \n",
        "**Infix expression** : It is the most commonly used type of expression in which the operator is placed in between the operands.  Example z = x - y \n",
        "\n",
        "**Prefix Expression** : In this type of expression, the operator is placed before the operands.  Example z = -xy\n",
        "\n",
        "**Postfix Expression** : In this type of expression, the operator is placed after the operands.  Example z = xy- \n",
        "\n",
        "\n",
        "Prefix and postfix expressions are usually used in computers and can be easily evaluated using stack.  \n",
        "\n",
        "Based on the data type of the result obtained on evaluating an expression:  These type of expressions include: \n",
        "\n",
        "Constant Expression : One that involves only constants.  Example 16 + 18 -4\n",
        "\n",
        "Integral expression : One that produces an integer result after evaluating the expression.  Example:- \n",
        "\n",
        "z = 20\n",
        "y = 10\n",
        "x = z * y \n",
        "\n",
        "\n",
        "Floating point expression : One that produces floating point results.  \n",
        "example z * y /2 \n",
        "\n",
        "Relational Expressions : One that produces true or false value.  Example z = x > y\n",
        "Logical Expressions : One that combines two or more relational expressions and returns a value as True or False.  Example z>y && x! = 0 \n",
        "\n",
        "Bitwise Expressions :  One that manipulates data at bit level.  Example z = a&b \n",
        "\n",
        "Assignment expressions : One that assigns a value to a variable.  z = x + y or w =10"
      ]
    },
    {
      "cell_type": "markdown",
      "metadata": {
        "id": "8fFA9DyN2-Gk",
        "colab_type": "text"
      },
      "source": [
        "# OPERATIONS ON STRINGS: \n",
        "\n",
        "**CONCATENATION** \n",
        "The process of combining two strings is called concatenation.  Two strings whether created using single or double quotes are concatenated in the same way.\n",
        "\n",
        "The following codes demonstrate how easily two strings are concatenated"
      ]
    },
    {
      "cell_type": "code",
      "metadata": {
        "id": "xH0OAGJt5KfA",
        "colab_type": "code",
        "outputId": "07fe75c7-dd6f-4636-f237-a7b3b8950132",
        "colab": {
          "base_uri": "https://localhost:8080/",
          "height": 34
        }
      },
      "source": [
        "print (\"Mother Teressa \" +  \" -- Noble Prize Winner for Peace\")"
      ],
      "execution_count": 0,
      "outputs": [
        {
          "output_type": "stream",
          "text": [
            "Mother Teressa  -- Noble Prize Winner for Peace\n"
          ],
          "name": "stdout"
        }
      ]
    },
    {
      "cell_type": "markdown",
      "metadata": {
        "id": "TwDlCbDM5vJ6",
        "colab_type": "text"
      },
      "source": [
        "You can add numbers as string."
      ]
    },
    {
      "cell_type": "code",
      "metadata": {
        "id": "e9BwI2sX5yOJ",
        "colab_type": "code",
        "outputId": "e336487c-5f33-4f85-9bff-43b0e8364a1e",
        "colab": {
          "base_uri": "https://localhost:8080/",
          "height": 34
        }
      },
      "source": [
        "print(\"python\" + \"3.4\")"
      ],
      "execution_count": 0,
      "outputs": [
        {
          "output_type": "stream",
          "text": [
            "python3.4\n"
          ],
          "name": "stdout"
        }
      ]
    },
    {
      "cell_type": "markdown",
      "metadata": {
        "id": "EP6Cl21n5-KT",
        "colab_type": "text"
      },
      "source": [
        "Note that first time we concatenated a string and a number, an error was generated, but when we used that number as a string ( within quotes), concatenation was done.  "
      ]
    },
    {
      "cell_type": "code",
      "metadata": {
        "id": "IQzQhXLV6VWs",
        "colab_type": "code",
        "outputId": "509f5ca4-2b9f-4df0-c8eb-393ad50f0092",
        "colab": {
          "base_uri": "https://localhost:8080/",
          "height": 34
        }
      },
      "source": [
        "print ( \"12\" + \"43\")"
      ],
      "execution_count": 0,
      "outputs": [
        {
          "output_type": "stream",
          "text": [
            "1243\n"
          ],
          "name": "stdout"
        }
      ]
    },
    {
      "cell_type": "markdown",
      "metadata": {
        "id": "sEFRdwZ96cWR",
        "colab_type": "text"
      },
      "source": [
        "# Multiplication ( or String Repetition) \n",
        "\n",
        "When a string is multiplied with an integer n, the string is repeated n time.  Thus, the * operator is also known as a string repetitioin operator.  \n",
        "\n",
        "The order of string and integer is not important.  Just observe that both the codes given below which produces the same output.  However, as a good programming practice, you must write the string first.  "
      ]
    },
    {
      "cell_type": "code",
      "metadata": {
        "id": "xxgR_blO69LM",
        "colab_type": "code",
        "outputId": "e6485af0-de8a-4b09-84c0-5b40e8e17153",
        "colab": {
          "base_uri": "https://localhost:8080/",
          "height": 34
        }
      },
      "source": [
        "print (\"Hello\" * 8)"
      ],
      "execution_count": 0,
      "outputs": [
        {
          "output_type": "stream",
          "text": [
            "HelloHelloHelloHelloHelloHelloHelloHello\n"
          ],
          "name": "stdout"
        }
      ]
    },
    {
      "cell_type": "markdown",
      "metadata": {
        "id": "ukc0zvaK7JwI",
        "colab_type": "text"
      },
      "source": [
        "Program that performs addition and multiplications on string variables.  "
      ]
    },
    {
      "cell_type": "code",
      "metadata": {
        "id": "qamw3MVr7PhY",
        "colab_type": "code",
        "outputId": "c938773f-69e9-4df9-9bc1-ce26f13565a6",
        "colab": {
          "base_uri": "https://localhost:8080/",
          "height": 51
        }
      },
      "source": [
        "str = ' Python'\n",
        "print (str + '4')\n",
        "print ( str * 5)"
      ],
      "execution_count": 0,
      "outputs": [
        {
          "output_type": "stream",
          "text": [
            " Python4\n",
            " Python Python Python Python Python\n"
          ],
          "name": "stdout"
        }
      ]
    },
    {
      "cell_type": "markdown",
      "metadata": {
        "id": "gia5WN-K7fox",
        "colab_type": "text"
      },
      "source": [
        "# Slice a String. \n",
        "\n",
        "You can extract subsets of string by using the slice operator ( [ ] and [: ]).  You need to specify index or the range of index of characters to be extracted.  The index of the first character is 0 and the index of the last character is n - 1. where n is the number of characters in the string.  \n",
        "\n",
        "If you want to extract characters starting from the end of the string, then you must specify the index as a negative number.  The index of the last character is -1.  \n",
        "\n",
        "Program performing slice operation on strings. "
      ]
    },
    {
      "cell_type": "code",
      "metadata": {
        "id": "oKcrjbyR8Qal",
        "colab_type": "code",
        "outputId": "752cee53-baa5-4f3e-97fa-6c8c35128416",
        "colab": {
          "base_uri": "https://localhost:8080/",
          "height": 136
        }
      },
      "source": [
        "str = \"Welcome to Python Programming\"\n",
        "print(str)\n",
        "print(str[0])\n",
        "print(str[6:11])\n",
        "print(str[8:])\n",
        "print(str[-4])\n",
        "print(str[:10])\n",
        "print(str + \"its fun\" )"
      ],
      "execution_count": 0,
      "outputs": [
        {
          "output_type": "stream",
          "text": [
            "Welcome to Python Programming\n",
            "W\n",
            "e to \n",
            "to Python Programming\n",
            "m\n",
            "Welcome to\n",
            "Welcome to Python Programmingits fun\n"
          ],
          "name": "stdout"
        }
      ]
    },
    {
      "cell_type": "markdown",
      "metadata": {
        "id": "GJkjyLR07JqA",
        "colab_type": "text"
      },
      "source": [
        ""
      ]
    },
    {
      "cell_type": "code",
      "metadata": {
        "id": "3LclDG4m69GE",
        "colab_type": "code",
        "colab": {}
      },
      "source": [
        ""
      ],
      "execution_count": 0,
      "outputs": []
    },
    {
      "cell_type": "code",
      "metadata": {
        "id": "vR6bVPn7L3nx",
        "colab_type": "code",
        "outputId": "a6d06ccf-0e96-4636-f8b0-f3dffa1b6e15",
        "colab": {
          "base_uri": "https://localhost:8080/",
          "height": 34
        }
      },
      "source": [
        "format(98765432, ',')"
      ],
      "execution_count": 0,
      "outputs": [
        {
          "output_type": "execute_result",
          "data": {
            "text/plain": [
              "'98,765,432'"
            ]
          },
          "metadata": {
            "tags": []
          },
          "execution_count": 12
        }
      ]
    },
    {
      "cell_type": "code",
      "metadata": {
        "id": "0_k8gZ1RLZba",
        "colab_type": "code",
        "outputId": "2dc34c0f-8ed5-4012-9b95-c2431e87ac50",
        "colab": {
          "base_uri": "https://localhost:8080/",
          "height": 34
        }
      },
      "source": [
        "format(4**40, '.5e')"
      ],
      "execution_count": 0,
      "outputs": [
        {
          "output_type": "execute_result",
          "data": {
            "text/plain": [
              "'1.20893e+24'"
            ]
          },
          "metadata": {
            "tags": []
          },
          "execution_count": 11
        }
      ]
    },
    {
      "cell_type": "markdown",
      "metadata": {
        "id": "sahO93fsBA-O",
        "colab_type": "text"
      },
      "source": [
        "# write a program to print the fibonacci series \n"
      ]
    },
    {
      "cell_type": "code",
      "metadata": {
        "id": "-Td6cdSbBHDk",
        "colab_type": "code",
        "colab": {}
      },
      "source": [
        "def fibonacci(n):\n",
        "  if(n<2):\n",
        "    return 1\n",
        "  else:\n",
        "    return (fibonacci(n-1)+fibonacci(n-2))\n",
        "\n",
        "n = int(input(\"Enter the number of terms: \"))\n",
        "for i in range(n):\n",
        "  print(\"Fibonacci(\",i,\") = \",fibonacci(i))\n"
      ],
      "execution_count": 0,
      "outputs": []
    },
    {
      "cell_type": "code",
      "metadata": {
        "id": "euvBHjVdBHHI",
        "colab_type": "code",
        "colab": {}
      },
      "source": [
        "from math import pi\n",
        "print(\"PI =  \",pi)"
      ],
      "execution_count": 0,
      "outputs": []
    },
    {
      "cell_type": "code",
      "metadata": {
        "id": "KnCtimjyC48_",
        "colab_type": "code",
        "colab": {}
      },
      "source": [
        "import math\n",
        "from math import sqrt as square_root\n",
        "print(square_root(81))"
      ],
      "execution_count": 0,
      "outputs": []
    },
    {
      "cell_type": "code",
      "metadata": {
        "id": "YZ2NXQOFPAjy",
        "colab_type": "code",
        "colab": {}
      },
      "source": [
        ""
      ],
      "execution_count": 0,
      "outputs": []
    },
    {
      "cell_type": "markdown",
      "metadata": {
        "id": "Zn6CecpRPB8V",
        "colab_type": "text"
      },
      "source": [
        "\n"
      ]
    },
    {
      "cell_type": "code",
      "metadata": {
        "id": "H4cxZ-GPPDAQ",
        "colab_type": "code",
        "colab": {}
      },
      "source": [
        "format(3**50, '.5e')\n"
      ],
      "execution_count": 0,
      "outputs": []
    },
    {
      "cell_type": "code",
      "metadata": {
        "id": "tyM-tujbPtL2",
        "colab_type": "code",
        "colab": {}
      },
      "source": [
        "float(16/(float(3)))"
      ],
      "execution_count": 0,
      "outputs": []
    },
    {
      "cell_type": "code",
      "metadata": {
        "id": "3PLxDB0fP8Pb",
        "colab_type": "code",
        "colab": {}
      },
      "source": [
        "format (float(16/(float(3))), '.2f')\n"
      ],
      "execution_count": 0,
      "outputs": []
    },
    {
      "cell_type": "markdown",
      "metadata": {
        "id": "O6OEg3kfSefK",
        "colab_type": "text"
      },
      "source": [
        "Display data of different type using variable and literal constant"
      ]
    },
    {
      "cell_type": "code",
      "metadata": {
        "id": "LjGc6VlcTSEX",
        "colab_type": "code",
        "colab": {}
      },
      "source": [
        "num = 7\n",
        "amt = 124.55\n",
        "code = 'A'\n",
        "pi = 3.1415926536\n",
        "population_of_india = 1000000000\n",
        "msg = \"Hi\"\n",
        "\n",
        "print(\"NUM = \"+str(num))\n",
        "print(\"\\n AMT = \" + str(amt))\n",
        "print(\"\\n CODE =\" +str(code))\n",
        "print(\"\\n POPULATION OF INDIA = \"+ str(population_of_india))\n",
        "print(\"\\n MESSAGE = \"+str(msg))\n"
      ],
      "execution_count": 0,
      "outputs": []
    },
    {
      "cell_type": "markdown",
      "metadata": {
        "id": "BzcXaMVHUykt",
        "colab_type": "text"
      },
      "source": [
        "Program to reassign values to variable"
      ]
    },
    {
      "cell_type": "code",
      "metadata": {
        "id": "VEqsNtpAU2YI",
        "colab_type": "code",
        "colab": {}
      },
      "source": [
        "val = 'Hello'\n",
        "print(val)\n",
        "val = 100\n",
        "print(val)\n",
        "val = 12.34\n",
        "print(val)\n",
        "x = 5\n",
        "y = 10\n",
        "print('Hello')\n",
        "print(x+y)"
      ],
      "execution_count": 0,
      "outputs": []
    },
    {
      "cell_type": "code",
      "metadata": {
        "id": "EZlEA8KDX0es",
        "colab_type": "code",
        "outputId": "0a1deed5-ee96-4d0c-b7c2-a7680504c59f",
        "colab": {
          "base_uri": "https://localhost:8080/",
          "height": 34
        }
      },
      "source": [
        "mesg = \"Helo\"\n",
        "print(mesg)"
      ],
      "execution_count": 0,
      "outputs": [
        {
          "output_type": "stream",
          "text": [
            "Helo\n"
          ],
          "name": "stdout"
        }
      ]
    },
    {
      "cell_type": "code",
      "metadata": {
        "id": "digcLH9WX68V",
        "colab_type": "code",
        "outputId": "2d953cc0-f2dd-41bf-b83e-27a5796c331e",
        "colab": {
          "base_uri": "https://localhost:8080/",
          "height": 34
        }
      },
      "source": [
        "mesg = \"Hello\";\n",
        "print(mesg);"
      ],
      "execution_count": 0,
      "outputs": [
        {
          "output_type": "stream",
          "text": [
            "Hello\n"
          ],
          "name": "stdout"
        }
      ]
    },
    {
      "cell_type": "code",
      "metadata": {
        "id": "1lLb58yDYCyC",
        "colab_type": "code",
        "outputId": "404be8e9-3c3a-4a37-a8f7-f74114117f2c",
        "colab": {
          "base_uri": "https://localhost:8080/",
          "height": 34
        }
      },
      "source": [
        "mesg = \"Hello\";\n",
        "print(mesg)"
      ],
      "execution_count": 0,
      "outputs": [
        {
          "output_type": "stream",
          "text": [
            "Hello\n"
          ],
          "name": "stdout"
        }
      ]
    },
    {
      "cell_type": "code",
      "metadata": {
        "id": "A98oDHrCYMyl",
        "colab_type": "code",
        "colab": {}
      },
      "source": [
        "name = input(\"What is your name?\")\n",
        "age = input(\" Enter your age :\")\n",
        "print ( name + \", you are \" + age + \" years old\")"
      ],
      "execution_count": 0,
      "outputs": []
    },
    {
      "cell_type": "code",
      "metadata": {
        "id": "nC_C3lCiYsaM",
        "colab_type": "code",
        "colab": {}
      },
      "source": [
        ""
      ],
      "execution_count": 0,
      "outputs": []
    },
    {
      "cell_type": "code",
      "metadata": {
        "id": "PkBD6oBHY_9R",
        "colab_type": "code",
        "colab": {}
      },
      "source": [
        "a = 100\n",
        "b = 200\n",
        "\n",
        "print (a+b)\n",
        "print(a-b)\n",
        "print(a*b)\n",
        "print(b/a)\n",
        "print(b%a)\n",
        "print(12//5)\n",
        "print(12.0//5.0)\n",
        "print(-19//5)\n",
        "print(-20.0//3)\n",
        "print(a**b)\n"
      ],
      "execution_count": 0,
      "outputs": []
    },
    {
      "cell_type": "markdown",
      "metadata": {
        "id": "CQ0o_4Yca2ka",
        "colab_type": "text"
      },
      "source": [
        "Operator Description : \n",
        "\n",
        "=  c = a ,  assigns value of a to c \n",
        "a += is same as a = a + b\n",
        "a -=  is same as a = a-b\n",
        "\n",
        "a *=  is same as a = a * b\n",
        "\n",
        "a /b is same as a = a / b\n",
        "\n",
        "a % b is same as a = a % b\n",
        "\n",
        "a//=b is same as a = a // b\n",
        "\n",
        "a**b = b is same as a = a**b\n",
        "\n"
      ]
    },
    {
      "cell_type": "code",
      "metadata": {
        "id": "_UT-e2Xrbf7_",
        "colab_type": "code",
        "outputId": "f8bd301d-be58-4d5b-f377-28ab075050b6",
        "colab": {
          "base_uri": "https://localhost:8080/",
          "height": 34
        }
      },
      "source": [
        "str1 = \"Good\"\n",
        "str2 = \"Morning\"\n",
        "str1 += str2\n",
        "print(str1)"
      ],
      "execution_count": 0,
      "outputs": [
        {
          "output_type": "stream",
          "text": [
            "GoodMorning\n"
          ],
          "name": "stdout"
        }
      ]
    },
    {
      "cell_type": "markdown",
      "metadata": {
        "id": "rHPVl2kBa2hP",
        "colab_type": "text"
      },
      "source": [
        "b = 10\n",
        "a = -(b);\n"
      ]
    },
    {
      "cell_type": "code",
      "metadata": {
        "id": "4KvAm2hUcpEh",
        "colab_type": "code",
        "outputId": "f9535d98-d5ce-4bb1-f0c1-766ac9969bef",
        "colab": {
          "base_uri": "https://localhost:8080/",
          "height": 51
        }
      },
      "source": [
        "b = 10\n",
        "a = -(b)\n",
        "print(b)\n",
        "print(a)"
      ],
      "execution_count": 0,
      "outputs": [
        {
          "output_type": "stream",
          "text": [
            "10\n",
            "-10\n"
          ],
          "name": "stdout"
        }
      ]
    },
    {
      "cell_type": "code",
      "metadata": {
        "id": "_38rYBNvcpCT",
        "colab_type": "code",
        "outputId": "04b315ee-edfc-4437-e489-dcfebb564f84",
        "colab": {
          "base_uri": "https://localhost:8080/",
          "height": 51
        }
      },
      "source": [
        "print (\" Hello\"  * 5)\n",
        "print ( 5      *      \"Hello\")"
      ],
      "execution_count": 0,
      "outputs": [
        {
          "output_type": "stream",
          "text": [
            " Hello Hello Hello Hello Hello\n",
            "HelloHelloHelloHelloHello\n"
          ],
          "name": "stdout"
        }
      ]
    },
    {
      "cell_type": "markdown",
      "metadata": {
        "id": "DfswypkXdvb1",
        "colab_type": "text"
      },
      "source": [
        "# **String operation**  "
      ]
    },
    {
      "cell_type": "code",
      "metadata": {
        "id": "PIruQRgMd_cp",
        "colab_type": "code",
        "outputId": "eefd4852-ccb5-4574-9571-269aea4991f0",
        "colab": {
          "base_uri": "https://localhost:8080/",
          "height": 170
        }
      },
      "source": [
        "str = ' Python is easy !!!'\n",
        "print(str)\n",
        "print(str[0])\n",
        "print(str[3:9])\n",
        "print(str[4:])\n",
        "print(str[-1])\n",
        "print(str[:5])\n",
        "print(str * 2)\n",
        "print(str +  \"ISNT'T IT?\")\n",
        "print(str + \"ISNT'T IT?\")"
      ],
      "execution_count": 0,
      "outputs": [
        {
          "output_type": "stream",
          "text": [
            " Python is easy !!!\n",
            " \n",
            "thon i\n",
            "hon is easy !!!\n",
            "!\n",
            " Pyth\n",
            " Python is easy !!! Python is easy !!!\n",
            " Python is easy !!!ISNT'T IT?\n",
            " Python is easy !!!ISNT'T IT?\n"
          ],
          "name": "stdout"
        }
      ]
    },
    {
      "cell_type": "markdown",
      "metadata": {
        "id": "ly9E21die101",
        "colab_type": "text"
      },
      "source": [
        "#                                  **OTHER DATA TYPES**\n",
        "**TUPLES**\n",
        "A tuple is similar to a list as it also contains a number of values separate by commas and enclosed within a parentheses\n",
        "\n",
        "Program to demonstrate operations on a tuple"
      ]
    },
    {
      "cell_type": "code",
      "metadata": {
        "id": "jkXf9AD5fA3x",
        "colab_type": "code",
        "colab": {}
      },
      "source": [
        "Tup = ('a', 'bc', 78, 1.23)\n",
        "Tup2 = ('d', 78)\n",
        "print(Tup)\n",
        "print(Tup[0]) # Prints the first element of the Tuple\n",
        "print(Tup[1:3]) # Prints elements starting from 2nd till 3rd\n",
        "print(Tup[2:]) # Prints elements starting from 3rd element.\n",
        "print(Tup * 2) #  Repeats the tuple \n",
        "print (Tup + Tup2) # concatenates two tuples"
      ],
      "execution_count": 0,
      "outputs": []
    },
    {
      "cell_type": "markdown",
      "metadata": {
        "id": "M0QeI0S5gLPF",
        "colab_type": "text"
      },
      "source": [
        "# LIST\n",
        "A list consist of items separated by commas and enclosed within square brackets\n",
        "One important distinction between array and the list is that, while array contains value of same data type, a list on the other hand, can have values belonging to different data types. \n",
        "\n",
        "The values stored in the list are accessed using indexes.  The index of the first element is 0 and that of the last element is n-1.\n",
        "\n"
      ]
    },
    {
      "cell_type": "markdown",
      "metadata": {
        "id": "mw2Oer86hCH6",
        "colab_type": "text"
      },
      "source": [
        "Program to demonstrate operations on list"
      ]
    },
    {
      "cell_type": "code",
      "metadata": {
        "id": "lBOZID7vhGO9",
        "colab_type": "code",
        "colab": {}
      },
      "source": [
        "list = ['a','bc', 78, 1.23 ]\n",
        "list1 = ['d', 88]\n",
        "print(list)\n",
        "print(list[0])\n",
        "print(list[1:3])\n",
        "print(list[2:])\n",
        "print(list *2)\n",
        "print(list + list1)"
      ],
      "execution_count": 0,
      "outputs": []
    },
    {
      "cell_type": "markdown",
      "metadata": {
        "id": "wFtrVJTPgLKA",
        "colab_type": "text"
      },
      "source": [
        "# **DICTIONARY**\n",
        "Stores Data in Key : Value pairs.  Key value is usually of string, value can be of any data type.  Each key value pair is separated from the other using** (:)** \n",
        "To access any value in the dictionary, you just need to specify its key in square braces ([]).  \n",
        "**NOTE:** List and Dictionary are mutable data types meaning their values can be altered. \n",
        "\n",
        "Program to demonstrate use of a dictionary: \n"
      ]
    },
    {
      "cell_type": "code",
      "metadata": {
        "id": "r4AyzlVAiyBC",
        "colab_type": "code",
        "colab": {}
      },
      "source": [
        "Dict = { \"Item\" : \"Chocolate\", \"Price\" : 100}\n",
        "print(Dict[\"Item\"])\n",
        "print(Dict[\"Price\"])"
      ],
      "execution_count": 0,
      "outputs": []
    },
    {
      "cell_type": "markdown",
      "metadata": {
        "id": "SNS5wDwGjfQJ",
        "colab_type": "text"
      },
      "source": [
        "# TYPE CONVERSION\n",
        "In python, it is just not possible to complete certain operations that involves different types of data. For example, it is not possible to perform \"2\" + 4 since one operand is an integer and other is of string type. \n",
        "\n",
        "Anothher situation in which type conversion is a must is whhen you want to accept a non string value ( int or float) as input.  "
      ]
    },
    {
      "cell_type": "code",
      "metadata": {
        "id": "czIxBEGTke-m",
        "colab_type": "code",
        "colab": {}
      },
      "source": [
        "x = int(input(\"Enter the first number :\"))\n",
        "y = int(input(\"Ennter the second number: \"))\n",
        "print(x + y)"
      ],
      "execution_count": 0,
      "outputs": []
    },
    {
      "cell_type": "markdown",
      "metadata": {
        "id": "MTCo2QRbk0_1",
        "colab_type": "text"
      },
      "source": [
        "Functions for Type Conversions:\n",
        "\n",
        "int(x) --> Converts x to an integer\n",
        "long(x) --> Converts x to a long integer\n",
        "float(x) --> Converts x to a floating point number\n",
        "str(x) -->  converts x to a string\n",
        "tuple(x) -->  converts x to a tuple \n",
        "list(x)  -->  Converts x to a list\n",
        "set(x) -->  converts x to a set\n",
        "ord(x) -->  Converts a single character to its integer value\n",
        "oct(x)  --> converts an integer to its octal string\n",
        "hex(x) -->  converts an integer to hexadecimal string\n",
        "chr(x) -->  converts an integer to a character\n",
        "unichar(x) -->  converts an integer to a Unicode character\n",
        "dict(x) -->  creates a dictionary if x forms a (key-value) pair. \n",
        "\n",
        "\n",
        "**Note ** To learn more about the function, you can read its documentation by using the help(). \n",
        "\n",
        "# **Programming Examples**"
      ]
    },
    {
      "cell_type": "markdown",
      "metadata": {
        "id": "nWDhTef8qWoW",
        "colab_type": "text"
      },
      "source": [
        "Write a program to enter a number & display its hex and octal equivalent and its square root"
      ]
    },
    {
      "cell_type": "code",
      "metadata": {
        "id": "D_g0SL_ZqQRu",
        "colab_type": "code",
        "outputId": "c6b702ff-ab2f-4754-d1f3-39592b19ed53",
        "colab": {
          "base_uri": "https://localhost:8080/",
          "height": 85
        }
      },
      "source": [
        "import string\n",
        "num = int(input(\"Enter a number \"))\n",
        "print(\"Hexadecimal of \" + str(num) + \"   : \" +str(hex(num)))\n",
        "print(\"Octal of\"  +       str(num) + \"  :  \" + str(oct(num)))\n",
        "print(\"Square root of \" + str(num) + \" :  \" + str(num**0.5))"
      ],
      "execution_count": 0,
      "outputs": [
        {
          "output_type": "stream",
          "text": [
            "Enter a number 100\n",
            "Hexadecimal of 100   : 0x64\n",
            "Octal of100  :  0o144\n",
            "Square root of 100 :  10.0\n"
          ],
          "name": "stdout"
        }
      ]
    },
    {
      "cell_type": "code",
      "metadata": {
        "id": "tf2d-K0JqQNA",
        "colab_type": "code",
        "colab": {}
      },
      "source": [
        ""
      ],
      "execution_count": 0,
      "outputs": []
    },
    {
      "cell_type": "markdown",
      "metadata": {
        "id": "lfNzl4cXvcyS",
        "colab_type": "text"
      },
      "source": [
        "Write a program to read and print values of variables of different data types. \n"
      ]
    },
    {
      "cell_type": "code",
      "metadata": {
        "id": "68emL-XhvkoA",
        "colab_type": "code",
        "outputId": "b7738daa-09d8-468a-8ed0-434318028d09",
        "colab": {
          "base_uri": "https://localhost:8080/",
          "height": 204
        }
      },
      "source": [
        "import sys\n",
        "\n",
        "num = int(input(\"Enter the value of num : \"))\n",
        "amt = float(input(\"Enter the value of amt : \"))\n",
        "pi = float(input(\"Enter the value of pi \"))\n",
        "code = repr(input(\"Enter the value of the code\"))\n",
        "msg = repr(input (\"Enter the value of the message \"))\n",
        "population_of_india = int(input(\"Enter the value of population of India  \"))\n",
        "\n",
        "print(\"NUM =  \" + repr(num) +  \"\\n AMT = \" + repr(amt) +  \"\\n CODE = \" + repr(code) + \"\\n POPULATION OF INDIA = \" + repr(population_of_india) + \"\\n MESSAGE = \" + repr(msg))"
      ],
      "execution_count": 0,
      "outputs": [
        {
          "output_type": "stream",
          "text": [
            "Enter the value of num : 100\n",
            "Enter the value of amt : 879.87\n",
            "Enter the value of pi 3.14\n",
            "Enter the value of the codeG\n",
            "Enter the value of the message HELLO\n",
            "Enter the value of population of India  78954000000\n",
            "NUM =  100\n",
            " AMT = 879.87\n",
            " CODE = \"'G'\"\n",
            " POPULATION OF INDIA = 78954000000\n",
            " MESSAGE = \"'HELLO'\"\n"
          ],
          "name": "stdout"
        }
      ]
    },
    {
      "cell_type": "markdown",
      "metadata": {
        "id": "XcnVcAPojfIt",
        "colab_type": "text"
      },
      "source": [
        "write a program to calculate area of a triangle using Heron's formula\n",
        "\n",
        "**Heron's formula = area = sqrt(S*(S-a) * (S-b) * (S-c))**"
      ]
    },
    {
      "cell_type": "code",
      "metadata": {
        "id": "TE4fvf8SdTVH",
        "colab_type": "code",
        "colab": {}
      },
      "source": [
        "import string\n",
        "import math\n",
        "\n",
        "a= float(input(\"Enter the first side of the triangle:     \"))\n",
        "b= float(input(\"Enter the second side of the triangle :   \"))\n",
        "c= float(input(\"Enter the third side of the triangle:     \"))\n",
        "\n",
        "print(a,b,c)\n",
        "S = (a+b+c)/2\n",
        "area = (S*(S-a)*(S-b)*(S-c))**0.5\n",
        "print(\"Area = \" +str(area))"
      ],
      "execution_count": 0,
      "outputs": []
    },
    {
      "cell_type": "markdown",
      "metadata": {
        "id": "5XrrXuPAe0LU",
        "colab_type": "text"
      },
      "source": [
        "# Write a Program to calculate the distance between two points: "
      ]
    },
    {
      "cell_type": "code",
      "metadata": {
        "id": "yl1dFOlLe-DT",
        "colab_type": "code",
        "colab": {}
      },
      "source": [
        "x1 = (int(input(\"Enter the x coordinate of the first point :    \")))\n",
        "y1 = (int(input(\"Enter the y coordinate of the first point :    \")))\n",
        "x2 = (int(input(\"Enter the x coordinate of the second point :    \")))\n",
        "y2 = (int(input(\"Enter the y coordinate of the second point :    \")))\n",
        "\n",
        "distance = ((x2-x1)**2+(y2-y1)**2)**0.5\n",
        "print(\"Distance =  \")\n",
        "print(distance)"
      ],
      "execution_count": 0,
      "outputs": []
    },
    {
      "cell_type": "markdown",
      "metadata": {
        "id": "lb-szroee0ER",
        "colab_type": "text"
      },
      "source": [
        "Write a Program to perform addition, substraction, multiplication, division, integer division, and modulo division, on two integer numbers. "
      ]
    },
    {
      "cell_type": "code",
      "metadata": {
        "id": "CAJcFYa3gyQn",
        "colab_type": "code",
        "colab": {}
      },
      "source": [
        "import string\n",
        "import math\n",
        "\n",
        "num1 = int(input(\"Enter two numbers :   \"))\n",
        "num2 = int(input(\"Enter two numbers :   \"))\n",
        "add_res = num1+num2\n",
        "sub_res = num1-num2\n",
        "mul_res = num1*num2\n",
        "idiv_res = num1/num2\n",
        "modiv_res = num1%num2\n",
        "fdiv_res = float(num1)/num2\n",
        "\n",
        "print(str(num1)+ \" +  \" +str(num2)+ \" = \" +str(add_res))\n",
        "print(str(num1)+ \" -  \" +str(num2)+ \" = \" +str(sub_res))\n",
        "print(str(num1)+ \" *  \" +str(num2)+ \" = \" +str(mul_res))\n",
        "print(str(num1)+ \" /  \" +str(num2)+ \" = \" +str(idiv_res)+ \"(Integer Division)\")\n",
        "print(str(num1)+ \" //  \"+str(num2)+ \" = \" +str(fdiv_res)+ \"(Float Division)\")\n",
        "print(str(num1)+ \" %  \" +str(num2)+ \" = \" +str(idiv_res)+ \"(Modulo Division)\")\n"
      ],
      "execution_count": 0,
      "outputs": []
    },
    {
      "cell_type": "markdown",
      "metadata": {
        "id": "u6E5iSIVjwKb",
        "colab_type": "text"
      },
      "source": [
        "Write a Program to perform addition, substraction, multiplication, on two floating point numbers. "
      ]
    },
    {
      "cell_type": "code",
      "metadata": {
        "id": "K7SfHO6hj62u",
        "colab_type": "code",
        "outputId": "f39bd8aa-acf4-4e72-8ff5-9cef88874a7c",
        "colab": {
          "base_uri": "https://localhost:8080/",
          "height": 102
        }
      },
      "source": [
        "import string\n",
        "import math\n",
        "\n",
        "num1 = float(input(\"Enter two numbers :   \"))\n",
        "num2 = float(input(\"Enter two numbers :   \"))\n",
        "add_res = num1+num2\n",
        "sub_res = num1-num2\n",
        "mul_res = num1*num2\n",
        "idiv_res = num1/num2\n",
        "\n",
        "print(str(num1)+ \" +  \" +str(num2)+ \" = \" + \"%.2f\"%add_res)\n",
        "print(str(num1)+ \" -  \" +str(num2)+ \" = \"+ \"%.2f\" %sub_res)\n",
        "print(str(num1)+ \" *  \" +str(num2)+ \" = \" + \"%.2f\"%mul_res)\n"
      ],
      "execution_count": 0,
      "outputs": [
        {
          "output_type": "stream",
          "text": [
            "Enter two numbers :   14.22\n",
            "Enter two numbers :   36.64\n",
            "14.22 +  36.64 = 50.86\n",
            "14.22 -  36.64 = -22.42\n",
            "14.22 *  36.64 = 521.02\n"
          ],
          "name": "stdout"
        }
      ]
    },
    {
      "cell_type": "markdown",
      "metadata": {
        "id": "wCYQrT1Xl6-M",
        "colab_type": "text"
      },
      "source": [
        "Write a Program to demonstrate the use of relational operators.  "
      ]
    },
    {
      "cell_type": "code",
      "metadata": {
        "id": "YXBGqiZWmFVg",
        "colab_type": "code",
        "outputId": "55e622e7-a36f-4310-990d-500e322ddc1f",
        "colab": {
          "base_uri": "https://localhost:8080/",
          "height": 102
        }
      },
      "source": [
        "import string\n",
        "import math\n",
        "\n",
        "x = 20\n",
        "y = 30\n",
        "\n",
        "print(str(x)+\" <  \"+str(y)+\" = \"+str(x<y))\n",
        "print(str(x)+\" == \"+str(y)+\" = \"+str(x==y))\n",
        "print(str(x)+\" != \"+str(y)+\" = \"+str(x!=y))\n",
        "print(str(x)+\" >= \"+str(y)+\" = \"+str(x>=y))\n",
        "print(str(x)+\" <= \"+str(y)+\" = \"+str(x<=y))"
      ],
      "execution_count": 0,
      "outputs": [
        {
          "output_type": "stream",
          "text": [
            "20 <  30 = True\n",
            "20 == 30 = False\n",
            "20 != 30 = True\n",
            "20 >= 30 = False\n",
            "20 <= 30 = True\n"
          ],
          "name": "stdout"
        }
      ]
    },
    {
      "cell_type": "markdown",
      "metadata": {
        "id": "05tqC4ntnUer",
        "colab_type": "text"
      },
      "source": [
        "Write a program to calculate the area of a circle"
      ]
    },
    {
      "cell_type": "code",
      "metadata": {
        "id": "JR4jaD55nds9",
        "colab_type": "code",
        "colab": {}
      },
      "source": [
        "import math\n",
        "\n",
        "\n",
        "\n",
        "radius = float(input(\"Enter the radius of the circle :  \"))\n",
        "area = 3.14*radius*radius\n",
        "circumference = 2*3.14*radius\n",
        "print(\"AREA = \"+str(round(area,2))+\"\\t CIRCUMFERENCE =  \"+str(round(circumference,2)))\n"
      ],
      "execution_count": 0,
      "outputs": []
    },
    {
      "cell_type": "code",
      "metadata": {
        "id": "pn1-Dp62pnZl",
        "colab_type": "code",
        "colab": {}
      },
      "source": [
        ""
      ],
      "execution_count": 0,
      "outputs": []
    },
    {
      "cell_type": "markdown",
      "metadata": {
        "id": "5O4C2lNG-H87",
        "colab_type": "text"
      },
      "source": [
        "Write a program to calculate average of two numbers.  Print their deviation. "
      ]
    },
    {
      "cell_type": "code",
      "metadata": {
        "id": "EbNGNenq-OaI",
        "colab_type": "code",
        "outputId": "4a906fe8-f02c-44a2-c91e-47c64d5f006b",
        "colab": {
          "base_uri": "https://localhost:8080/",
          "height": 85
        }
      },
      "source": [
        "num1 = int(input(\"Enter the two numbers :     \"))\n",
        "num2 = int(input(\"Enter the two numbers :     \"))\n",
        "avg = (num1+num2)/2\n",
        "dev1 = num1-avg\n",
        "dev2 = num2 - avg\n",
        "print(\"Deviation of first num = \",dev1)\n",
        "print(\"Deviation of second num = \",dev2)"
      ],
      "execution_count": 0,
      "outputs": [
        {
          "output_type": "stream",
          "text": [
            "Enter the two numbers :     14\n",
            "Enter the two numbers :     20\n",
            "Deviation of first num =  -3.0\n",
            "Deviation of second num =  3.0\n"
          ],
          "name": "stdout"
        }
      ]
    },
    {
      "cell_type": "markdown",
      "metadata": {
        "id": "zgtGEGrvp3Bz",
        "colab_type": "text"
      },
      "source": [
        "# Write a program to print the digit at ones place of a number"
      ]
    },
    {
      "cell_type": "code",
      "metadata": {
        "id": "V53mg43mp9XD",
        "colab_type": "code",
        "outputId": "1ca64165-9158-43f4-a580-3cf1fe9239ca",
        "colab": {
          "base_uri": "https://localhost:8080/",
          "height": 51
        }
      },
      "source": [
        "num = int(input(\"Enter any number:  \"))\n",
        "digit_at_ones_place = num%10\n",
        "print(\"The digit at ones place of   \" +str(num)+\"  is  \"+str(digit_at_ones_place))"
      ],
      "execution_count": 0,
      "outputs": [
        {
          "output_type": "stream",
          "text": [
            "Enter any number:  6789\n",
            "The digit at ones place of   6789  is  9\n"
          ],
          "name": "stdout"
        }
      ]
    },
    {
      "cell_type": "markdown",
      "metadata": {
        "id": "KMJbL95fqqYi",
        "colab_type": "text"
      },
      "source": [
        "# Write a Program to convert degrees fahrenheit into degrees celcius"
      ]
    },
    {
      "cell_type": "code",
      "metadata": {
        "id": "R2uebK4pqzvd",
        "colab_type": "code",
        "outputId": "027d2e0e-673f-46a8-e17d-7d44fa11aae8",
        "colab": {
          "base_uri": "https://localhost:8080/",
          "height": 51
        }
      },
      "source": [
        "fahrenheit = float(input(\"Enter the temperature in fahrenheit:  \"))\n",
        "celsius = (0.56)*(fahrenheit-32)\n",
        "print(\"Temperature in degrees celsius = \",celsius)"
      ],
      "execution_count": 0,
      "outputs": [
        {
          "output_type": "stream",
          "text": [
            "Enter the temperature in fahrenheit:  100\n",
            "Temperature in degrees celsius =  38.080000000000005\n"
          ],
          "name": "stdout"
        }
      ]
    },
    {
      "cell_type": "code",
      "metadata": {
        "id": "s09Cks-WyB0k",
        "colab_type": "code",
        "colab": {}
      },
      "source": [
        ""
      ],
      "execution_count": 0,
      "outputs": []
    },
    {
      "cell_type": "markdown",
      "metadata": {
        "id": "RXTGBlL0yGej",
        "colab_type": "text"
      },
      "source": [
        "Write a Program to calculate the total amount of money in the piggybank, given the coins of ¢5 ¢10  ¢25 & ¢50"
      ]
    },
    {
      "cell_type": "code",
      "metadata": {
        "id": "zGFKzQmzz673",
        "colab_type": "code",
        "colab": {}
      },
      "source": [
        "num_of_10_coins  = int(input(\"Enter the number of ¢10 coins in the piggybank:     \"))\n",
        "num_of_5_coins   = int(input(\"Enter the number of ¢5 coins in the piggybank:      \"))\n",
        "num_of_25_coins  = int(input(\"Enter the number of ¢25 coins in the piggybank:     \"))\n",
        "num_of_50_coins  = int(input(\"Enter the number of ¢50 coins in the piggybank:     \"))\n",
        "total_amt = num_of_10_coins*10+num_of_5_coins*5+num_of_25_coins*25+num_of_50_coins\n",
        "print(\"Total amount in the piggybank = \", total_amt)"
      ],
      "execution_count": 0,
      "outputs": []
    },
    {
      "cell_type": "code",
      "metadata": {
        "id": "qPnR_iIz3Ckd",
        "colab_type": "code",
        "colab": {}
      },
      "source": [
        ""
      ],
      "execution_count": 0,
      "outputs": []
    },
    {
      "cell_type": "markdown",
      "metadata": {
        "id": "gd4uX9pS3GoG",
        "colab_type": "text"
      },
      "source": [
        "Write a program to calculate the bill amount for an item given its quantity sold, value, discount, and tax.\n",
        "\n"
      ]
    },
    {
      "cell_type": "code",
      "metadata": {
        "id": "Nc_kCgEs3y--",
        "colab_type": "code",
        "colab": {}
      },
      "source": [
        "qty = float(input(\"Enter the quantity of item sold:   \"))\n",
        "val = float (input(\"Enter the value of the item :     \"))\n",
        "discount = float(input(\"Enter the discount percentage \"))\n",
        "tax = float(input(\"Enter the tax:   \"))\n",
        "amt = qty*val \n",
        "discount_amt = (amt*discount)/100\n",
        "sub_total = amt- discount_amt\n",
        "tax_amt = (sub_total*tax)/100\n",
        "total_amt = sub_total + tax_amt\n",
        "print(\"*******************BILL****************\")\n",
        "print(\"Quantity sold:   \\t\",qty)\n",
        "print(\"Price per Item:   \\t\",val)\n",
        "print(\"\\n \\t  \\t-----------------------\")\n",
        "print(\"Amount : \\t\\t-\", sub_total)\n",
        "print(\"Tax: \\t\\t\\t + \", tax_amt)\n",
        "print(\"Discounted Total : \\t\",sub_total)\n",
        "print(\" \\t  \\t------------------------\")\n",
        "print(\"Total amount to be paid\", total_amt)\n"
      ],
      "execution_count": 0,
      "outputs": []
    },
    {
      "cell_type": "markdown",
      "metadata": {
        "id": "PQondQ5-GgmZ",
        "colab_type": "text"
      },
      "source": [
        "DECISION CONTROL STATEMENT\n",
        "A control statement is a statement that determines the control flow of set of instructions.\n",
        "\n",
        "**The Three fundamental methods of control flow in a programming language are:\n",
        "sequential, selection and iterative control.**\n",
        "\n",
        "Header in Python is a specific keyword followed by a colon. The group of statements following a header is called suite.\n",
        "\n",
        "Note : Header and its suite are together known as clause.\n",
        "\n",
        "Program to increment a number, if it is positive: "
      ]
    },
    {
      "cell_type": "code",
      "metadata": {
        "id": "to36oNxsJRcQ",
        "colab_type": "code",
        "colab": {}
      },
      "source": [
        "x = 10\n",
        "if(x > 0):  # Test the value of x\n",
        "  x = x +1  # Increment the value of x if it is > 0\n",
        "print(x)   # print the value of x"
      ],
      "execution_count": 0,
      "outputs": []
    },
    {
      "cell_type": "markdown",
      "metadata": {
        "id": "aZU--1r2aOz_",
        "colab_type": "text"
      },
      "source": [
        "Program to determine the character entered by the user. "
      ]
    },
    {
      "cell_type": "code",
      "metadata": {
        "id": "NIqLB4d3aKX7",
        "colab_type": "code",
        "colab": {}
      },
      "source": [
        "char = input(\"Press any key:  \")\n",
        "if(char.isalpha()):\n",
        "  print(\"You have entered a character\")\n",
        "if(char.isdigit()):\n",
        "  print(\"You have entered a digit\")\n",
        "if(char.isspace()):\n",
        "  print(\"You have entered a white space character\")"
      ],
      "execution_count": 0,
      "outputs": []
    },
    {
      "cell_type": "markdown",
      "metadata": {
        "id": "udZQxyc2a-vt",
        "colab_type": "text"
      },
      "source": [
        "# if-else statement\n",
        "Syntax of if-else statement\n",
        "if (test expression):\n",
        "    statement block 1\n",
        "else: \n",
        "    statement block 2\n",
        "statement x\n",
        "\n",
        "Write a program to determine the person is eligible to vote or not, if he is not eligible, display how many years are left to be eligible.  \n",
        "\n"
      ]
    },
    {
      "cell_type": "code",
      "metadata": {
        "id": "vi0ZjUqMbxlX",
        "colab_type": "code",
        "colab": {}
      },
      "source": [
        "age = int(input(\"Enter the age :  \"))\n",
        "if(age>=18):\n",
        "  print(\"You are eligible to vote \")\n",
        "else:\n",
        "  yrs = 18 - age \n",
        "  print (\" You have to wait for another \" + str  (yrs) + \" years to cast your vote.\")"
      ],
      "execution_count": 0,
      "outputs": []
    },
    {
      "cell_type": "code",
      "metadata": {
        "id": "9RNWbon-cx5H",
        "colab_type": "code",
        "colab": {}
      },
      "source": [
        ""
      ],
      "execution_count": 0,
      "outputs": []
    },
    {
      "cell_type": "markdown",
      "metadata": {
        "id": "qXRE0kCMc12L",
        "colab_type": "text"
      },
      "source": [
        "Write a program to find larger of two numbers: "
      ]
    },
    {
      "cell_type": "code",
      "metadata": {
        "id": "aBgZrrKCc-VV",
        "colab_type": "code",
        "colab": {}
      },
      "source": [
        "a = int (input(\"Enter the value of a :  \"))\n",
        "b = int (input(\"Enter the value of b :  \"))\n",
        "if(a>b):\n",
        "  large = a\n",
        "else:\n",
        "  large = b\n",
        "print(\"Large = \",large)\n"
      ],
      "execution_count": 0,
      "outputs": []
    },
    {
      "cell_type": "code",
      "metadata": {
        "id": "85PYPBKVdlSR",
        "colab_type": "code",
        "colab": {}
      },
      "source": [
        ""
      ],
      "execution_count": 0,
      "outputs": []
    },
    {
      "cell_type": "markdown",
      "metadata": {
        "id": "ueGvc_qtdpjg",
        "colab_type": "text"
      },
      "source": [
        "write a program to find whether the number is even or odd"
      ]
    },
    {
      "cell_type": "code",
      "metadata": {
        "id": "9K3jmqoldt6g",
        "colab_type": "code",
        "colab": {}
      },
      "source": [
        "num = int(input(\"Enter any number   \"))\n",
        "if(num%2 == 0):\n",
        "  print(num,\" is even\")\n",
        "else: \n",
        "  print(num, \" is odd\")\n",
        "  "
      ],
      "execution_count": 0,
      "outputs": []
    },
    {
      "cell_type": "markdown",
      "metadata": {
        "id": "0VO5UvQHeNJe",
        "colab_type": "text"
      },
      "source": [
        "Write a program to enter any character.  If the entered character is in lowercase then convert it into uppercase and if it is in uppercase character, then convert it into lowercase."
      ]
    },
    {
      "cell_type": "code",
      "metadata": {
        "id": "Wdr-rW7weYVj",
        "colab_type": "code",
        "colab": {}
      },
      "source": [
        "ch = input(\"Enter any character :   \")\n",
        "if(ch>='A' and ch<='Z'):\n",
        "  ch = ch.lower()\n",
        "  print(\" The entered character was in uppercase.  In lowercase it is :  \" + ch)\n",
        "else: \n",
        "  print(\" The entered character was in lowercase.  In uppercase it is :   \" + ch)\n",
        "  "
      ],
      "execution_count": 0,
      "outputs": []
    },
    {
      "cell_type": "markdown",
      "metadata": {
        "id": "ZZ5molxefFUK",
        "colab_type": "text"
      },
      "source": [
        "Write a program to find whether a given year is leap year or not."
      ]
    },
    {
      "cell_type": "code",
      "metadata": {
        "id": "MsIdq4u6fKBX",
        "colab_type": "code",
        "colab": {}
      },
      "source": [
        "year = int(input(\"Enter any year:   \"))\n",
        "if((year%4==0 and year%100 != 0)):\n",
        "  print(\"Leap Year\")\n",
        "else: \n",
        "  print(\" Not a leap year\")"
      ],
      "execution_count": 0,
      "outputs": []
    },
    {
      "cell_type": "markdown",
      "metadata": {
        "id": "v6Obo5T9fuHW",
        "colab_type": "text"
      },
      "source": [
        "**NESTED if statements : **\n",
        "\n",
        "A statement that contains other statements is called a compound statement.  \n",
        "To perform complex checks, if statement can be nested,  that is can be placed one inside the other.  \n",
        "In such a case, the inner if statement is the statement part of the outer one. \n",
        "\n",
        "*Nested if statements are used to check if more than one condition is satisfied*\n",
        "\n",
        "program that prompts the user to enter a number and then prints its interval"
      ]
    },
    {
      "cell_type": "code",
      "metadata": {
        "id": "R_1KKDPPgfN6",
        "colab_type": "code",
        "colab": {}
      },
      "source": [
        "num = int(input(\"Enter any number from 0-30:  \"))\n",
        "if(num>=0 and num<10):\n",
        "  print (\"It is in the range of 0-10\")\n",
        "elif (num>=10 and num<20):\n",
        "  print(\"It is in the range of 10-20\")\n",
        "elif (num>20 and num<30):\n",
        "  print(\" It is in the range of 20-30\")\n",
        "   \n"
      ],
      "execution_count": 0,
      "outputs": []
    },
    {
      "cell_type": "markdown",
      "metadata": {
        "id": "uQuL1KqkhU0k",
        "colab_type": "text"
      },
      "source": [
        "**if-elif-else Statement**\n",
        "*Python supports if-elif-else statement to test additional conditions apart from the initial test expression*\n",
        "\n",
        "Syntax : \n",
        "\n",
        "if-elif-else Statement: \n",
        "\n",
        "if ( test expression 1) \n",
        "    statement block 1\n",
        "elif (test expression 2)\n",
        "    statement block 2\n",
        "    .................................\n",
        "elif (test expression N )\n",
        "  statement block N \n",
        "else\n",
        "  Statement Block X\n",
        "Statement Y \n",
        "**Note : The colons are placed after the if-else and the elif statement**\n",
        "\n",
        "Program to test whether a number entered by the user is negative, positive, or equal to zero; "
      ]
    },
    {
      "cell_type": "code",
      "metadata": {
        "id": "Wc20vUCmiabA",
        "colab_type": "code",
        "colab": {}
      },
      "source": [
        "num = int(input(\"Enter any number : \"))\n",
        "if(num==0):\n",
        "  print(\"The value is equal to zero\")\n",
        "elif(num>0):\n",
        "  print(\" The number is positive\")\n",
        "else: \n",
        "  print( \" The number is negative\")\n"
      ],
      "execution_count": 0,
      "outputs": []
    },
    {
      "cell_type": "markdown",
      "metadata": {
        "id": "SDd_XzOUjAMk",
        "colab_type": "text"
      },
      "source": [
        "Write a program to determine whether the character entred is a vowel or not.\n"
      ]
    },
    {
      "cell_type": "code",
      "metadata": {
        "id": "-q6Hl0K9j3Ud",
        "colab_type": "code",
        "outputId": "d028749e-517a-4945-ea28-63379a43425a",
        "colab": {
          "base_uri": "https://localhost:8080/",
          "height": 51
        }
      },
      "source": [
        "ch = input ( \"Enter any character :   \")\n",
        "if( ch==\"A\" or ch==\"E\" or ch==\"I\" or ch==\"O\" or ch==\"U\"):\n",
        "  print(ch, \"is a vowel\")\n",
        "elif(ch==\"a\" or ch==\"e\" or ch==\"i\" or ch==\"o\" or ch==\"u\"):\n",
        "  print(ch, \"is a vowel\")\n",
        "else: \n",
        "  print(ch, \"is not a vowel\")"
      ],
      "execution_count": 0,
      "outputs": [
        {
          "output_type": "stream",
          "text": [
            "Enter any character :   k\n",
            "k is not a vowel\n"
          ],
          "name": "stdout"
        }
      ]
    },
    {
      "cell_type": "markdown",
      "metadata": {
        "id": "Bt4DfDJpnAgP",
        "colab_type": "text"
      },
      "source": [
        "Write a Program that prompts the user to enter a number between 1-7 and then display the corresponding day of the week: "
      ]
    },
    {
      "cell_type": "code",
      "metadata": {
        "id": "s84gTEt1nKvW",
        "colab_type": "code",
        "colab": {}
      },
      "source": [
        "num = int(input(\"Enter any number between 1 to 7 :  \"))\n",
        "if (num==1) : print(\"Sunday\")\n",
        "elif(num==2) : print(\"Monday\")\n",
        "elif(num==3) : print(\"Tuesday\")\n",
        "elif(num==4) : print(\"Wednesday\")\n",
        "elif(num==5) : print(\"Thursday\")\n",
        "elif(num==6) : print(\"Friday\")\n",
        "elif(num==7) : print(\"Saturday\")\n",
        "else: \n",
        "  print(\" Wrong input\")"
      ],
      "execution_count": 0,
      "outputs": []
    },
    {
      "cell_type": "markdown",
      "metadata": {
        "id": "lBFzzjkUoK9n",
        "colab_type": "text"
      },
      "source": [
        "Write a proram to take input from the user and then check whether it is a number or a character.  if it is a character, determine whether it is in uppercase or lowercase. "
      ]
    },
    {
      "cell_type": "code",
      "metadata": {
        "id": "hV8ghqyUoYK6",
        "colab_type": "code",
        "colab": {}
      },
      "source": [
        "ch = input(\"Enter the character :   \")\n",
        "if(ch>=\"A\" and ch<=\"Z\"):\n",
        "  print(\"Uppercase character was entered\")\n",
        "elif(ch>='a' and ch<='z'):\n",
        "  print(\" Lowercase character was entered\")\n",
        "elif(ch>='0' and ch<='9'):\n",
        "  print(\" A number was entered\") "
      ],
      "execution_count": 0,
      "outputs": []
    },
    {
      "cell_type": "markdown",
      "metadata": {
        "id": "B4HSKWTrpsOO",
        "colab_type": "text"
      },
      "source": [
        "# Write a program to find the greatest number from the three numbers"
      ]
    },
    {
      "cell_type": "code",
      "metadata": {
        "id": "EFt8sRnfpzO6",
        "colab_type": "code",
        "colab": {}
      },
      "source": [
        "num1 = int(input(\"Enter the first number :    \"))\n",
        "num2 = int(input(\"Enter the second number :   \"))\n",
        "num3 = int(input(\"Enter the third number :    \"))\n",
        "\n",
        "if(num1>num2):\n",
        "  if(num1>num3):\n",
        "    print(num1, \"is greater than\", num2, \"and \", num3)\n",
        "  else:\n",
        "    print(num3, \"is greater than\", num1, \"and \", num2)\n",
        "elif(num2>num3):\n",
        "  print(num2,\"is greater than\", num1, \"and\",num3)\n",
        "else:\n",
        "    print(\" The three numbers are equal\")"
      ],
      "execution_count": 0,
      "outputs": []
    },
    {
      "cell_type": "markdown",
      "metadata": {
        "id": "ige7eN1HsiZE",
        "colab_type": "text"
      },
      "source": [
        "# Write a program to enter the marks of a student in four subjects, then calculate the total and aggregate and display the grade obtained by the student. If aggregate > 75% (distinction) if aggregate 50>= and <60 then second division.  If aggregate is 40>= and <50, then the grade is third division. "
      ]
    },
    {
      "cell_type": "code",
      "metadata": {
        "id": "yTyw1lVXtaez",
        "colab_type": "code",
        "outputId": "3d581283-10ff-4121-831d-7595cb53fc46",
        "colab": {
          "base_uri": "https://localhost:8080/",
          "height": 119
        }
      },
      "source": [
        "marks1 = int(input ( \"Enter the marks in Mathematics :      \"))\n",
        "marks2 = int(input ( \"Enter the marks in Science       :    \"))\n",
        "marks3 = int(input ( \"Enter the marks in Social Science :   \"))\n",
        "marks4 = int(input ( \"Enter the marks in Computers :        \"))\n",
        "\n",
        "total = marks1+marks2+marks3+marks4\n",
        "avg = float(total)/4\n",
        "print(\"Total =  \",  total,  \"\\t            Aggregate = \", avg)\n",
        "if(avg>=75):\n",
        "  print(\"Distinction\")\n",
        "elif(avg>=60 and avg<75):\n",
        "  print(\"First Division\")\n",
        "elif(avg>=50 and avg<60):\n",
        "  print(\"Second Division\")\n",
        "elif(avg>=40 and avg<70):\n",
        "  print(\"Third Division\")\n",
        "else:\n",
        "  print(\"Fail\")\n"
      ],
      "execution_count": 0,
      "outputs": [
        {
          "output_type": "stream",
          "text": [
            "Enter the marks in Mathematics :      28\n",
            "Enter the marks in Science       :    32\n",
            "Enter the marks in Social Science :   31\n",
            "Enter the marks in Computers :        19\n",
            "Total =   110 \t            Aggregate =  27.5\n",
            "Fail\n"
          ],
          "name": "stdout"
        }
      ]
    },
    {
      "cell_type": "markdown",
      "metadata": {
        "id": "T32QUtbj5Y_L",
        "colab_type": "text"
      },
      "source": [
        "*Write a program to calculate the roots of a quadratic equation\n",
        "\n",
        "Tip : While forming the conditional expression try to use positive statement rather than using compound negative statement. "
      ]
    },
    {
      "cell_type": "code",
      "metadata": {
        "id": "9FEZU6LX5gxN",
        "colab_type": "code",
        "outputId": "1a421639-a542-46a2-8826-19e7a2ab3c90",
        "colab": {
          "base_uri": "https://localhost:8080/",
          "height": 85
        }
      },
      "source": [
        "a = int(input(\"Enter the values of a :    \"))\n",
        "b = int(input(\"Enter the values of b :    \"))\n",
        "c = int(input(\"Enter the values of c :    \"))\n",
        "\n",
        "D = (b*b) - (4*a*c)\n",
        "deno = 2*a\n",
        "\n",
        "if(D>0):\n",
        "  print(\"REAL ROOTS\")\n",
        "  root1 = (-b + D**0.5)/deno\n",
        "  root2 = (-b - D**0.5)/deno\n",
        "  print(\" Root1 =  \", root1, \"\\tRoot2 = \",root2)\n",
        "elif(D==0):\n",
        "  print(\"EQUAL ROOTS\")\n",
        "  root1 = -b/deno\n",
        "  print(\"Root1 and Root2\", root1)\n",
        "else: \n",
        "  print(\"IMAGINARY ROOTS\")"
      ],
      "execution_count": 0,
      "outputs": [
        {
          "output_type": "stream",
          "text": [
            "Enter the values of a :    6\n",
            "Enter the values of b :    7\n",
            "Enter the values of c :    8\n",
            "IMAGINARY ROOTS\n"
          ],
          "name": "stdout"
        }
      ]
    },
    {
      "cell_type": "code",
      "metadata": {
        "id": "iRvdoDOILx9T",
        "colab_type": "code",
        "colab": {}
      },
      "source": [
        ""
      ],
      "execution_count": 0,
      "outputs": []
    },
    {
      "cell_type": "code",
      "metadata": {
        "id": "EwsCJlUg6JIl",
        "colab_type": "code",
        "colab": {}
      },
      "source": [
        ""
      ],
      "execution_count": 0,
      "outputs": []
    }
  ]
}