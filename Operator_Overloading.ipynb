{
  "nbformat": 4,
  "nbformat_minor": 0,
  "metadata": {
    "colab": {
      "name": "Operator-Overloading.ipynb",
      "provenance": [],
      "collapsed_sections": [],
      "authorship_tag": "ABX9TyPGPmWIps7ULfk7AJf7X/r1",
      "include_colab_link": true
    },
    "kernelspec": {
      "name": "python3",
      "display_name": "Python 3"
    }
  },
  "cells": [
    {
      "cell_type": "markdown",
      "metadata": {
        "id": "view-in-github",
        "colab_type": "text"
      },
      "source": [
        "<a href=\"https://colab.research.google.com/github/vijendranp/Python--Computational-Approach/blob/master/Operator_Overloading.ipynb\" target=\"_parent\"><img src=\"https://colab.research.google.com/assets/colab-badge.svg\" alt=\"Open In Colab\"/></a>"
      ]
    },
    {
      "cell_type": "code",
      "metadata": {
        "id": "Se5TIQRP-Dj2",
        "colab_type": "code",
        "colab": {}
      },
      "source": [
        ""
      ],
      "execution_count": 0,
      "outputs": []
    },
    {
      "cell_type": "markdown",
      "metadata": {
        "id": "tYFcgnWb-IhX",
        "colab_type": "text"
      },
      "source": [
        "# Operator Overloading\n",
        "\n",
        "*   Basic concepts\n",
        "*   Advantages \n",
        "*   Overloading Arithmetic & Logical Operators\n",
        "*   Reverse Adding\n",
        "*   Overriding __getitem(), __setitem(), in operator and __call__()\n",
        "*   Overloading Miscellaneous Function\n",
        "\n",
        "Python allows programmers to redefine the meaning of operators when they operate on class object.  This feature is known as Operator Overloading.  \n",
        "\n",
        "Operator overloading allows programmers to extend the meaning of existing operators so that in addition to the basic data types, they can also be applied to user defined data types.  \n",
        "\n",
        "You already have a clue of operator overloading:\n",
        "if you write 10 + 15 integers are added\n",
        "string1 + string2 two strings are concatenated.\n",
        "List1 + List2  Two list are merged.  \n",
        "\n",
        "**Operator Overloading**:  \n",
        "With operator overloading a programmer is allowed to provide his own definition for an operator to a class by overloading the built-in operator. \n",
        "\n",
        "This enables the programmer to perform some specific computation when the opperator is applied on class object and to apply a standard definition when the same operator is applied on a built-in data type.  \n",
        "\n",
        "Python looks at the operands around the operator.  If the operands are of built-in types, python calls a built-in routine.  \n",
        "\n",
        "In case the operator is being applied on user-defined operands, the python compiler checks to see if the programmer has an overloaded operator function that it can call.  If such a function whose parameters match the type and number of operands exists in the program, the function is called, otherwise a compiler error is generated.  \n",
        "\n",
        "**Another form of polymorphism** \n",
        "\n",
        "Like function overloading, operator overloading is also a form of compile time polymorphism.  Operator overloading, is therefore, less commonly known as operator ad hoc polymorphism since different operators have different implementations depending on their arguments.  Operator overloading is generally defined by the language, the programmer, or both.  \n",
        "\n",
        "**Note**  Ad hoc polymorphism is a specific case of polymorphism where different operators have different implementation depending on their **arguments**\n",
        "\n",
        "\n",
        "\n",
        "**Advantage of Operator Overloading** \n",
        "\n",
        "* With operator overloading programmers can use the same notations for user-defined objects and built in objects.  For example, to add two complex numbers, we can simply write A1 + A2  \n",
        "*   With operator overloading a similar level of syntactic support is provided to user-defined types as provided to built-in types. \n",
        "*   In scientific computing where computational representation of mathematical object is required, operator overloading provides great ease to understand the concept. \n",
        "*   Operator overloading makes the program clearer. For instnce see the following code: \n",
        "(Z1.mul(Z2).div(Z1.add(Z2) can be written as Z1 * Z2 / Z1 + Z2\n",
        "\n",
        "\n",
        "**Implementing Operator Overloading**;\n",
        "Program to add two complex numbers without overloading the +operator.  \n",
        "\n",
        "\n",
        "\n",
        "\n",
        "\n",
        "\n",
        "\n",
        "\n",
        "\n",
        "\n",
        "\n"
      ]
    },
    {
      "cell_type": "code",
      "metadata": {
        "id": "49ptlWEqEbsY",
        "colab_type": "code",
        "colab": {}
      },
      "source": [
        "class Complex:\n",
        "  def __init__(self):\n",
        "    self.real = 0\n",
        "    self.imag = 0 \n",
        "  \n",
        "  def setValue(self,real, imag):\n",
        "    self.real = real \n",
        "    self.imag = imag \n",
        "  \n",
        "  def display(self):\n",
        "    print(\"(\", self.real, \" + \", self.imag, \"i)\")\n",
        "\n",
        "C1 = Complex()\n",
        "C1.setValues(1,2)\n",
        "C2 = Complex()\n",
        "C2.setValue(3,4)\n",
        "C3 = Complex()\n",
        "C3 = C1 + C2 \n",
        "C3.display()"
      ],
      "execution_count": 0,
      "outputs": []
    },
    {
      "cell_type": "markdown",
      "metadata": {
        "id": "qvsl3z_3FtTK",
        "colab_type": "text"
      },
      "source": [
        "The aforementioned program generates an error.  The + operator does not work on user-defined objects.  Now to do the same concept, we will add an operator overloading function in the code.  For example, observe the code given below, which has the overloaded add function specifiedas __add__(). \n",
        "\n",
        "Program to overload the + operator on a complex object. "
      ]
    },
    {
      "cell_type": "code",
      "metadata": {
        "id": "8BOp7LJaFadZ",
        "colab_type": "code",
        "colab": {
          "base_uri": "https://localhost:8080/",
          "height": 51
        },
        "outputId": "df75f13a-9fd2-4c08-fd14-14b8f3fc2557"
      },
      "source": [
        "class Complex:\n",
        "  def __init__(self):\n",
        "    self.real = 0 \n",
        "    self.imag = 0 \n",
        "\n",
        "  def setValue(self,real,imag):\n",
        "    self.real = real\n",
        "    self.imag = imag \n",
        "  \n",
        "  def __add__(self,C):\n",
        "    Temp = Complex()\n",
        "    Temp.real = self.real + C.real\n",
        "    Temp.imag = self.imag + C.imag\n",
        "    return Temp\n",
        "  \n",
        "  def display(self):\n",
        "    print(\"(\",self,self.real, \" +  \",self.imag, \"i)\")\n",
        "\n",
        "C1 = Complex()\n",
        "C1.setValue(1,2)\n",
        "C2 = Complex()\n",
        "C2.setValue(3,4)\n",
        "C3 = Complex()\n",
        "C3 = C1 + C2 \n",
        "print(\"RESULT = \")\n",
        "C3.display()"
      ],
      "execution_count": 4,
      "outputs": [
        {
          "output_type": "stream",
          "text": [
            "RESULT = \n",
            "( <__main__.Complex object at 0x7f0ac1d0f358> 4  +   6 i)\n"
          ],
          "name": "stdout"
        }
      ]
    },
    {
      "cell_type": "markdown",
      "metadata": {
        "id": "u-YAZrbLIXo0",
        "colab_type": "text"
      },
      "source": [
        "In the program, when we write C1 + C2, the __add__() function is called on C1 and C2 is passed as an argument.  \n",
        "\n",
        "Remember that user defined classes have no + operator defined by default.  \n",
        "\n",
        "The only exception is when you inherit from an existing class that already has the + operator defined.  \n",
        "\n",
        "**Note**  The __add__() method returns the new combined object to the caller.  \n",
        "\n",
        "Operator and their corresponding function names;\n",
        "\n",
        "+=                  __iadd__\n",
        "-=                  __isub__\n",
        "*=                  __imul__\n",
        "/=                  __idiv__\n",
        "**=                 __ipow__\n",
        "%=                  __imod__\n",
        ">>=                 __irshift__\n",
        "&=                  __iand__\n",
        "|=                  __ior__ \n",
        "^=                  __ixor__\n",
        "~=                  __iinvert__\n",
        "<<=                 __ilshift__\n",
        "<=                  __le__\n",
        "==                  __eq__\n",
        "!=                  __ne__\n",
        "\n",
        "\n",
        "\n",
        "The program given below compares two book objects.  Although thet class Book has three attributes, comparison is done based on its price.  However, this id not mandatory.  You can compare two objects of user defined class type."
      ]
    },
    {
      "cell_type": "code",
      "metadata": {
        "id": "HQ7lUDWeNr80",
        "colab_type": "code",
        "colab": {
          "base_uri": "https://localhost:8080/",
          "height": 85
        },
        "outputId": "69b0a418-0928-4063-a86c-228a0cd5161a"
      },
      "source": [
        "class Book:\n",
        "  def __init__(self):\n",
        "    title = \" \"\n",
        "    publisher = \" \"\n",
        "    price = 0 \n",
        "  \n",
        "  def set(self,title,publisher, price):\n",
        "    self.title = title\n",
        "    self.publisher = publisher \n",
        "    self.price = price \n",
        "  \n",
        "  def display(self):\n",
        "    print(\"TITLE :  \", self.title)\n",
        "    print(\"PUBLISHER:   \",self.publisher)\n",
        "    print(\"PRICE :    \",self.price)\n",
        "  \n",
        "  def __gt__(self, B):\n",
        "    if self.price > B.price:\n",
        "      return True \n",
        "    else:\n",
        "      return False\n",
        "B1 = Book()\n",
        "B1.set(\"SUCCEEDING BUSINESS WITH 3D PRINTING\", \"Students Union Press\", 522250)\n",
        "B2 = Book()\n",
        "B2.set(\"COURSE ON ARTIFICIAL INTELLIGENCE\", \"Students Union Press\", 65550)\n",
        "if B1>B2:\n",
        "  print(\"This book has more knowledge so I will buy\")\n",
        "B1.display()\n",
        "\n"
      ],
      "execution_count": 5,
      "outputs": [
        {
          "output_type": "stream",
          "text": [
            "This book has more knowledge so I will buy\n",
            "TITLE :   SUCCEEDING WITH 3D PRINTING\n",
            "PUBLISHER:    Students Union Press\n",
            "PRICE :     522250\n"
          ],
          "name": "stdout"
        }
      ]
    },
    {
      "cell_type": "markdown",
      "metadata": {
        "id": "hj-g51sl5Xvn",
        "colab_type": "text"
      },
      "source": [
        "Write a program that overloads the + operator on a class Student that has attributes name and marks.  "
      ]
    },
    {
      "cell_type": "code",
      "metadata": {
        "id": "kYPZVDJT5fg2",
        "colab_type": "code",
        "colab": {
          "base_uri": "https://localhost:8080/",
          "height": 68
        },
        "outputId": "3477b7da-05da-411b-81e1-c08b182c0c7b"
      },
      "source": [
        "class Student:\n",
        "  def __init__(self,name,marks):\n",
        "    self.name = name\n",
        "    self.marks = marks\n",
        "  \n",
        "  def display(self):\n",
        "    print(self.name, self.marks)\n",
        "  \n",
        "  def __add__(self,S):\n",
        "    Temp = Student(S.name, [])\n",
        "    for i in range(len(self.marks)):\n",
        "      Temp.marks.append(self.marks[i] + S.marks[i])\n",
        "    return Temp \n",
        "\n",
        "S1 = Student(\"Nigella\", [87,90,85])\n",
        "S2 = Student(\"Nicholas\",[83,86,88])\n",
        "S1.display()\n",
        "S2.display()\n",
        "S3 = Student(\"\", [])\n",
        "S3 = S2 + S1\n",
        "S3.display()"
      ],
      "execution_count": 7,
      "outputs": [
        {
          "output_type": "stream",
          "text": [
            "Nigella [87, 90, 85]\n",
            "Nicholas [83, 86, 88]\n",
            "Nigella [170, 176, 173]\n"
          ],
          "name": "stdout"
        }
      ]
    },
    {
      "cell_type": "markdown",
      "metadata": {
        "id": "gbxgYh8pOvOB",
        "colab_type": "text"
      },
      "source": [
        "Write a program that overloads the + operator to add two objects of class Matrix. "
      ]
    },
    {
      "cell_type": "code",
      "metadata": {
        "id": "AFE_ShBRO4f-",
        "colab_type": "code",
        "colab": {
          "base_uri": "https://localhost:8080/",
          "height": 51
        },
        "outputId": "63ff4cc5-ce3e-4747-c2bc-03a1c7599e87"
      },
      "source": [
        "class Matrix:\n",
        "  def __init__(self,List):\n",
        "    self.List = List\n",
        "  \n",
        "  def display(self):\n",
        "    print(self.List)\n",
        "\n",
        "  def __add__(self,M):\n",
        "    Temp = Matrix([])\n",
        "    for i in range(len(self.List)):\n",
        "      for j in range(len(self.List[0])):\n",
        "        Temp.List.append(self.List[i][j] +  M.List[i][j])\n",
        "    return Temp\n",
        "\n",
        "M1 = Matrix([[1,2],[3,4]])\n",
        "M2 = Matrix([[3,4],[5,1]])\n",
        "M3 = Matrix([])\n",
        "M3 = M1 + M2\n",
        "print(\"RESULTANT MATRIX IS :  \")\n",
        "M3.display()"
      ],
      "execution_count": 8,
      "outputs": [
        {
          "output_type": "stream",
          "text": [
            "RESULTANT MATRIX IS :  \n",
            "[4, 6, 8, 5]\n"
          ],
          "name": "stdout"
        }
      ]
    },
    {
      "cell_type": "markdown",
      "metadata": {
        "id": "DvJ1UeOHQ-bn",
        "colab_type": "text"
      },
      "source": [
        "Write a program that overloads the + operator so that it can add two objects of class fraction. "
      ]
    },
    {
      "cell_type": "code",
      "metadata": {
        "id": "XQDpTQaPRGFy",
        "colab_type": "code",
        "colab": {
          "base_uri": "https://localhost:8080/",
          "height": 119
        },
        "outputId": "2686e26a-3a51-490a-ab37-8d84e22dc1a5"
      },
      "source": [
        "def GCD(num,deno):\n",
        "  if(deno ==0):\n",
        "    return num \n",
        "  else:\n",
        "    return GCD(deno,num%deno)\n",
        "\n",
        "class Fraction: \n",
        "  def __init__(self):\n",
        "    self.num = 0\n",
        "    self.deno = 1\n",
        "  \n",
        "  def get(self):\n",
        "    self.num = int(input(\"Enter the numerator : \"))\n",
        "    self.deno = int(input(\"Enter the denominator :  \"))\n",
        "  \n",
        "  def simplify(self):\n",
        "    common_divisor = GCD(self.num, self.deno)\n",
        "    self.num //= common_divisor\n",
        "    self.deno //= common_divisor\n",
        "  \n",
        "  def __add__(self,F):\n",
        "    Temp = Fraction()\n",
        "    Temp.num = (self.num * F.deno) + (F.num * self.deno)\n",
        "    Temp.deno = self.deno * F.deno\n",
        "    return Temp \n",
        "\n",
        "  def display(self):\n",
        "    self.simplify()\n",
        "    print(self.num, \"/\",self.deno)\n",
        "\n",
        "F1 = Fraction()\n",
        "F1.get()\n",
        "F2 =Fraction()\n",
        "F2.get()\n",
        "F3 = Fraction()\n",
        "F3 = F1+F2\n",
        "print(\"RESULTANT FRACTION IS  \")\n",
        "F3.display()"
      ],
      "execution_count": 12,
      "outputs": [
        {
          "output_type": "stream",
          "text": [
            "Enter the numerator : 8\n",
            "Enter the denominator :  20\n",
            "Enter the numerator : 4\n",
            "Enter the denominator :  10\n",
            "RESULTANT FRACTION IS  \n",
            "4 / 5\n"
          ],
          "name": "stdout"
        }
      ]
    },
    {
      "cell_type": "markdown",
      "metadata": {
        "id": "f0PlyP9jT-KY",
        "colab_type": "text"
      },
      "source": [
        "Write a program that overloads the + operator so that it can add a specified number of days to a given date.  "
      ]
    },
    {
      "cell_type": "code",
      "metadata": {
        "id": "PEu_7a9rTKVb",
        "colab_type": "code",
        "colab": {
          "base_uri": "https://localhost:8080/",
          "height": 102
        },
        "outputId": "1985a019-cc78-4e83-eb25-3a5de569fd1b"
      },
      "source": [
        "Dict = {1:31, 3:31, 4:30, 5:31, 6:30, 7:31, 8:31, 9:30, 10:31, 11:30, 12:31}\n",
        "def chk_Leap_Year(year):\n",
        "  if (year%4 == 0 and year %100 != 0) or (year%400 ==0):\n",
        "    return 1\n",
        "  else:\n",
        "    return 0 \n",
        "\n",
        "class Date: \n",
        "  def __init__(self): \n",
        "    d = m = y = 0\n",
        "\n",
        "  def get(self):\n",
        "    self.d = int(input(\"Enter the day:  \"))\n",
        "    self.m = int(input(\"Enter the month:  \"))\n",
        "    self.y = int(input(\"Enter the year:   \"))\n",
        "\n",
        "  def __add__(self,num):\n",
        "    self.d += num \n",
        "    if self.m !=2:\n",
        "      max_days = Dict[self.m]\n",
        "    elif self.m ==2:\n",
        "      isLeap = chk_Leap_Year(self.y)\n",
        "      if isLeap ==1:\n",
        "        max_days = 29\n",
        "      else:\n",
        "        max_days = 28\n",
        "\n",
        "    while self.d > max_days:\n",
        "      self.d -= max_days\n",
        "      self.m += 1\n",
        "    \n",
        "    while self.m > 12:\n",
        "      self.m -= 12\n",
        "      self.y += 1\n",
        "\n",
        "  def display(self):\n",
        "    print(self.d, \"-\",self.m, \"-\",self.y)\n",
        "\n",
        "D = Date()\n",
        "D.get()\n",
        "num = int(input(\"How many days to add:  \"))\n",
        "D + num \n",
        "D.display()\n",
        "\n"
      ],
      "execution_count": 13,
      "outputs": [
        {
          "output_type": "stream",
          "text": [
            "Enter the day:  22\n",
            "Enter the month:  3\n",
            "Enter the year:   2018\n",
            "How many days to add:  8\n",
            "30 - 3 - 2018\n"
          ],
          "name": "stdout"
        }
      ]
    },
    {
      "cell_type": "markdown",
      "metadata": {
        "id": "rOd7Jl9paSqM",
        "colab_type": "text"
      },
      "source": [
        ""
      ]
    },
    {
      "cell_type": "markdown",
      "metadata": {
        "id": "H88CAtMranZB",
        "colab_type": "text"
      },
      "source": [
        "Write a program that has an overload the *, /, and > operators so that it can multiply, divide and compare two objects of class Fraction.  \n",
        "\n"
      ]
    },
    {
      "cell_type": "code",
      "metadata": {
        "id": "4l3OchZcby8r",
        "colab_type": "code",
        "colab": {
          "base_uri": "https://localhost:8080/",
          "height": 34
        },
        "outputId": "c5e8c91a-daed-4f52-a442-6e916148af9e"
      },
      "source": [
        "# Python program to overload \n",
        "# a comparison operators \n",
        "\n",
        "class A: \n",
        "\tdef __init__(self, a): \n",
        "\t\tself.a = a \n",
        "\tdef __gt__(self, other): \n",
        "\t\tif(self.a>other.a): \n",
        "\t\t\treturn True\n",
        "\t\telse: \n",
        "\t\t\treturn False\n",
        "ob1 = A(22) \n",
        "ob2 = A(32) \n",
        "if(ob1>ob2): \n",
        "\tprint(\"ob1 is greater than ob2\") \n",
        "else: \n",
        "\tprint(\"ob2 is greater than ob1\") \n"
      ],
      "execution_count": 15,
      "outputs": [
        {
          "output_type": "stream",
          "text": [
            "ob2 is greater than ob1\n"
          ],
          "name": "stdout"
        }
      ]
    },
    {
      "cell_type": "code",
      "metadata": {
        "id": "QHYPJan3a3Ei",
        "colab_type": "code",
        "colab": {}
      },
      "source": [
        ""
      ],
      "execution_count": 0,
      "outputs": []
    },
    {
      "cell_type": "code",
      "metadata": {
        "id": "gdPJHTc7cVuB",
        "colab_type": "code",
        "colab": {
          "base_uri": "https://localhost:8080/",
          "height": 51
        },
        "outputId": "30533b98-3df3-4017-e37c-da6677423e88"
      },
      "source": [
        "# Python program to overload equality \n",
        "# and less than operators \n",
        "\n",
        "class A: \n",
        "\tdef __init__(self, a): \n",
        "\t\tself.a = a \n",
        "\tdef __lt__(self, other): \n",
        "\t\tif(self.a<other.a): \n",
        "\t\t\treturn \"ob1 is lessthan ob2\"\n",
        "\t\telse: \n",
        "\t\t\treturn \"ob2 is less than ob1\"\n",
        "\tdef __eq__(self, other): \n",
        "\t\tif(self.a == other.a): \n",
        "\t\t\treturn \"Both are equal\"\n",
        "\t\telse: \n",
        "\t\t\treturn \"Not equal\"\n",
        "\t\t\t\t\n",
        "ob1 = A(2) \n",
        "ob2 = A(3) \n",
        "print(ob1 < ob2) \n",
        "\n",
        "ob3 = A(4) \n",
        "ob4 = A(4) \n",
        "print(ob1 == ob2) \n"
      ],
      "execution_count": 16,
      "outputs": [
        {
          "output_type": "stream",
          "text": [
            "ob1 is lessthan ob2\n",
            "Not equal\n"
          ],
          "name": "stdout"
        }
      ]
    },
    {
      "cell_type": "markdown",
      "metadata": {
        "id": "FGSWm-hxciku",
        "colab_type": "text"
      },
      "source": [
        "Write a program that overloads the + operator so that it can add two objects of class Binary. "
      ]
    },
    {
      "cell_type": "code",
      "metadata": {
        "id": "mpMT8NtHcrcM",
        "colab_type": "code",
        "colab": {}
      },
      "source": [
        "class Binary: \n",
        "  number = [] \n",
        "  def set(self,bnum):\n",
        "    self.number = bnum \n",
        "\n",
        "  def display(self):\n",
        "    print(self.number)\n",
        "  \n",
        "  def __add__(self,B):\n",
        "    Temp = Binary()\n",
        "    index = len(self.number)\n",
        "    carry = []\n",
        "    while len(Temp.number) != index:\n",
        "      Temp.number.append(-1)\n",
        "      carry.append(0)\n",
        "    \n",
        "    index -= 1\n",
        "    while (index) >= 0:\n",
        "      if self.number[index] == 0 and B.number[index]==0:  # index 0, 0 \n",
        "        Temp.number[index] = 0 + int (carry[index])\n",
        "      \n",
        "      if self.number[index] == 0 and B.number[index]==1: # index 0, 1\n",
        "        Temp.number[index] = 1 + int(carry[index])\n",
        "      \n",
        "      if self.number[index]== 1 and B.number[index]==0: # index 1, 0 \n",
        "        Temp.number[index] = 1 + int(carry[index])\n",
        "      \n",
        "      if self.number[index]==1 and B.number[index]==1: # index 1,1 \n",
        "        Temp.number[index] = 0 + int(carry[index])\n",
        "        carry[index-1] =1\n",
        "      \n",
        "      if Temp.number[index]==2:\n",
        "        Temp.number[index] = 0\n",
        "        if (index-1)>=0:\n",
        "          carry[index-1]= 1\n",
        "          index -= 1\n",
        "          return Temp \n",
        "B1 = Binary()\n",
        "B1.set([1,1,0,1,1]) \n",
        "B2 = Binary()\n",
        "B2.set([0,1,1,0,1])\n",
        "B3 = B1 + B2\n",
        "B3.display()\n"
      ],
      "execution_count": 0,
      "outputs": []
    },
    {
      "cell_type": "markdown",
      "metadata": {
        "id": "YXbU7-M1g3t8",
        "colab_type": "text"
      },
      "source": [
        "Write a program to compare two date objects.  "
      ]
    },
    {
      "cell_type": "code",
      "metadata": {
        "id": "mXlaeKcfg82J",
        "colab_type": "code",
        "colab": {
          "base_uri": "https://localhost:8080/",
          "height": 153
        },
        "outputId": "6483823c-1c88-4bde-a329-4c8e0628ba77"
      },
      "source": [
        "class Date: \n",
        "  def __init__(self):\n",
        "    d = m = y = 0\n",
        "  def get(self):\n",
        "\n",
        "    self.d = int(input(\"Enter the day :   \"))\n",
        "    self.m = int(input(\"Enter the month :   \"))\n",
        "    self.y = int(input(\"Enter the year:     \"))\n",
        "\n",
        "  def __eq__(self,D):\n",
        "    Flag = False \n",
        "    if self.d == D.d:\n",
        "      if self.m == D.m:\n",
        "        if self.y == D.y:\n",
        "          Flag = True\n",
        "    return Flag\n",
        "  \n",
        "  def __lt__(self,D):\n",
        "    Flag = False \n",
        "    if self. y < D.y:\n",
        "      if self.m < D.m:\n",
        "        if self.d < D.d:\n",
        "          Flag = True\n",
        "    return Flag\n",
        "\n",
        "D1 = Date()\n",
        "D1.get()\n",
        "D2 = Date()\n",
        "D2.get()\n",
        "print(\"D1 == D2\", D1==D2)\n",
        "print(\"D1 <D2\", D1<D2)\n"
      ],
      "execution_count": 2,
      "outputs": [
        {
          "output_type": "stream",
          "text": [
            "Enter the day :   22\n",
            "Enter the month :   2\n",
            "Enter the year:     2018\n",
            "Enter the day :   22\n",
            "Enter the month :   2\n",
            "Enter the year:     2018\n",
            "D1 == D2 True\n",
            "D1 <D2 False\n"
          ],
          "name": "stdout"
        }
      ]
    },
    {
      "cell_type": "markdown",
      "metadata": {
        "id": "1N7KYr5frUTE",
        "colab_type": "text"
      },
      "source": [
        "Write a program to overload the -= operator to substract two distance object."
      ]
    },
    {
      "cell_type": "code",
      "metadata": {
        "id": "BsAC7pfmrcAa",
        "colab_type": "code",
        "colab": {
          "base_uri": "https://localhost:8080/",
          "height": 68
        },
        "outputId": "eb1a2396-e0c7-4d4c-b5c7-fdb630b32c53"
      },
      "source": [
        "class Distance:\n",
        "  def __init__(self):\n",
        "    self.km = 0\n",
        "    self.m = 0\n",
        "  \n",
        "  def set(self, km, m):\n",
        "    self.km = km \n",
        "    self.m = m \n",
        "  \n",
        "  def __isub__(self,D):\n",
        "    self.m = self.m - D.m\n",
        "    if self.m < 0:\n",
        "      self.m += 1000\n",
        "      self.km -= 1\n",
        "    self.km = self.km - D.km\n",
        "    return self \n",
        "\n",
        "  def convert_to_meters(self):\n",
        "    return (self.km*1000 + self.m)\n",
        "  \n",
        "  def display(self):\n",
        "    print(self.km, \"kms\", self.m, \"mtrs\")\n",
        "\n",
        "D1 = Distance()\n",
        "D1.set(21,60)\n",
        "D2 = Distance()\n",
        "D2.set(16,110)\n",
        "D1 -= D2  # operator overloaded to substract two distance objects.\n",
        "print(\"D1 - D2 = \")\n",
        "D1. display()\n",
        "print(\"that is\", D1.convert_to_meters(), \"meters\")\n",
        "\n",
        "\n"
      ],
      "execution_count": 3,
      "outputs": [
        {
          "output_type": "stream",
          "text": [
            "D1 - D2 = \n",
            "4 kms 950 mtrs\n",
            "that is 4950 meters\n"
          ],
          "name": "stdout"
        }
      ]
    },
    {
      "cell_type": "markdown",
      "metadata": {
        "id": "piKWoYSUtayQ",
        "colab_type": "text"
      },
      "source": [
        "**REVERSE ADDING :- Adding a non-class object to the class object.**\n",
        "\n",
        "In a program, we have added a certain number of days to our Date object by writing d + num.  In this case, it is compulsory that the class object will invoke the __add__().  But, to provide greater flexibility, we should be able to perform the addition in reverse order, that is, adding a non-class object to the class object. \n",
        "\n",
        "Python provides the concept of reverse adding.  The function to do normal addition on Date object is discussed in following example.  \n",
        "\n"
      ]
    },
    {
      "cell_type": "code",
      "metadata": {
        "id": "o0s7KYJsua-2",
        "colab_type": "code",
        "colab": {}
      },
      "source": [
        "def __add__(self,num):\n",
        "  self.d += num \n",
        "  if self.m !=2:\n",
        "    max_days = Dict[self.m]\n",
        "  elif self.m == 2:\n",
        "    isLeap = chk_Leap_Year(self.y)\n",
        "    if isLeap== 1:\n",
        "      max_days = 29\n",
        "    else:\n",
        "      max_days = 28\n",
        "  \n",
        "  while self.d > max_days :\n",
        "    self.d -= max_days \n",
        "    self.m += 1\n",
        "  \n",
        "  while self.m > 12:\n",
        "    self.m -= 12\n",
        "    self.y += 1\n",
        "    "
      ],
      "execution_count": 0,
      "outputs": []
    },
    {
      "cell_type": "markdown",
      "metadata": {
        "id": "zbJiA_0pxnHo",
        "colab_type": "text"
      },
      "source": [
        "But, had we written the same statement as num + d, then the desired task would not have been performed.  The simple reason for this is that the __add__() takes self as the first argument, so the + operator has to be invoked using the Date object.  \n",
        "\n",
        "But this is not the case when you work with numbers.  You can either write 10 + 20 or 20 + 10, it means the same and the correct result is produced.  \n",
        "\n",
        "Python has a feature of reverse adding.  As you write the __add__() function, just write the __radd__() function which will do the same task.  \n",
        "\n",
        "**Note:** **To overload the += operator, use the __iadd() or __isub__() functions.** \n",
        "\n"
      ]
    },
    {
      "cell_type": "markdown",
      "metadata": {
        "id": "F77eAgNayjbh",
        "colab_type": "text"
      },
      "source": [
        "# OVERRIDING __getitem__() AND __setitem__() METHODS\n",
        "\n",
        "The __getitem__() is used to retrieve an item at a particular index.  \n",
        "The __setitem__() is used to set value for a particular item at a specified index.\n",
        "\n",
        "They are well defined for built-in types like list, tuple, string etc., but for user-defined classes we need to explicitly write their codes.   \n",
        "\n",
        "The program given below which has a list defined in a class.  Python does not allow you to apply indexes on class objects, but if you have defined the __getitem__() and __setitem__() methods in the class,  then you can simply work with indices as with any other built-in type \n",
        "\n",
        "\n",
        "Program that overrides __getitem__() and __setitem__() method in class. "
      ]
    },
    {
      "cell_type": "code",
      "metadata": {
        "id": "AwZSWu6Mzl9p",
        "colab_type": "code",
        "colab": {}
      },
      "source": [
        "class myList:\n",
        "  def __init__(self, List):\n",
        "    self.List = List\n",
        "  \n",
        "  def __getitem__(self,index):\n",
        "    return self.List[index]\n",
        "\n",
        "  def __setitem__(self, index,num):\n",
        "    self.List[index] = num \n",
        "  \n",
        "  def __len__(self):\n",
        "    return len(self.List)\n",
        "\n",
        "  def display(self):\n",
        "    print(self.List)\n",
        "\n",
        "L = myList([1,2,3,4,5,6,7])\n",
        "print(\"LIST IS :  \")\n",
        "L.display()\n",
        "index = int(input(\"Enter the index of the List you want to access : \"))\n",
        "print(L[index])\n",
        "index = int(input(\"Enter the index at which you want to modify:   \"))\n",
        "num = int(input(\"Enter the correct number :   \"))\n",
        "L[index] = num \n",
        "L.display()\n",
        "print(\" The length of my list :     \",len(L))\n"
      ],
      "execution_count": 0,
      "outputs": []
    },
    {
      "cell_type": "markdown",
      "metadata": {
        "id": "pMKzCwHa21ip",
        "colab_type": "text"
      },
      "source": [
        "# OVERRIDING THE in OPERATOR \n",
        "\n",
        "in is a membership operator that checks whether the specified item is in the variable of built in type or not (like string, list, dictionary, tuple).\n",
        "\n",
        "We can overload the same operator to check whether the given value is a member of a class variable or not.  \n",
        "\n",
        "To overload the in operator, we have to use the function __contains__().  \n",
        "\n",
        "In the program given in the following example, we have created a dicitonary that has name of the subjects as key and their maximum weightage as values.  \n",
        "\n",
        "In the main module, we are asking userto input a subject. If the subject is specified in dictionary, then its maximum weightage is displayed.  \n",
        "\n",
        "Program to override the in operator.  "
      ]
    },
    {
      "cell_type": "code",
      "metadata": {
        "id": "F6fP949K3qKi",
        "colab_type": "code",
        "colab": {
          "base_uri": "https://localhost:8080/",
          "height": 68
        },
        "outputId": "eca56b1a-c616-4236-93b8-2ed7b5d63e2a"
      },
      "source": [
        "class Marks: \n",
        "  def __init__(self):\n",
        "    self.max_marks = {\"Maths\" :100, \"Computers\" : 50, \"Engineers\" : 100,  \"Technology \" : 75}\n",
        "  \n",
        "  def __contains__(self,sub):\n",
        "    if sub in self.max_marks:\n",
        "      return True\n",
        "    else:\n",
        "      return False\n",
        "  \n",
        "  def __getitem__(self,sub):\n",
        "    return self.max_marks[sub]\n",
        "  \n",
        "  def __str__(self):\n",
        "    return \"The Dictionary has name of subjects and maximum marks allotted to them\"\n",
        "\n",
        "M = Marks()\n",
        "print(str(M))\n",
        "sub = input(\"Enter the subject for which you want to know extra marks:  \")\n",
        "if sub in M:\n",
        "  print(\"Social Studies paper has maximum marks allotted =    \", M[sub])"
      ],
      "execution_count": 8,
      "outputs": [
        {
          "output_type": "stream",
          "text": [
            "The Dictionary has name of subjects and maximum marks allotted to them\n",
            "Enter the subject for which you want to know extra marks:  Computers\n",
            "Social Studies paper has maximum marks allotted =     50\n"
          ],
          "name": "stdout"
        }
      ]
    },
    {
      "cell_type": "markdown",
      "metadata": {
        "id": "gLudnYTe7lnv",
        "colab_type": "text"
      },
      "source": [
        "# OVERLOADING MISCELLANEOUS FUNCTIONS. \n",
        "\n",
        "Python allows to overload functions like long(), float(), abs(), hex().  \n",
        "\n",
        "These functions are used on built-in type variables and to convert them from one type to another, they have to use functions to convert a value of one user-defined type( object) to a value of another type.  \n",
        "\n",
        "Program to overload hex(), oct() and float() functions.  "
      ]
    },
    {
      "cell_type": "code",
      "metadata": {
        "id": "hvCh2wfx8Hkb",
        "colab_type": "code",
        "colab": {
          "base_uri": "https://localhost:8080/",
          "height": 102
        },
        "outputId": "3f21de6d-669c-4c9c-91a7-5787c6fee0df"
      },
      "source": [
        "class Number: \n",
        "  def __init__(self,num):\n",
        "    self.num = num \n",
        "\n",
        "  def display(self):\n",
        "    return self.num\n",
        "  \n",
        "  def __abs__(self):\n",
        "    return abs(self.num)\n",
        "  \n",
        "  def __float__(self):\n",
        "    return float(self.num)\n",
        "\n",
        "  def __oct__(self):\n",
        "    return oct(self.num)\n",
        "  \n",
        "  def __hex__(self):\n",
        "    return hex(self.num)\n",
        "  \n",
        "  def __setitem__(self,num):\n",
        "    self.num = num \n",
        "\n",
        "N = Number(-14)\n",
        "print(\"N IS : \", N.display())\n",
        "print(\"ABS(N) IS :  \",abs(N))\n",
        "N = abs(N)\n",
        "print(\"Converting to float ........,  N is :  \",float(N))\n",
        "print(\"Hexadecimal equivalent of N IS :   \",hex(N))\n",
        "print(\"Octal equivalent of N is : \",oct(N))\n"
      ],
      "execution_count": 9,
      "outputs": [
        {
          "output_type": "stream",
          "text": [
            "N IS :  -14\n",
            "ABS(N) IS :   14\n",
            "Converting to float ........,  N is :   14.0\n",
            "Hexadecimal equivalent of N IS :    0xe\n",
            "Octal equivalent of N is :  0o16\n"
          ],
          "name": "stdout"
        }
      ]
    },
    {
      "cell_type": "markdown",
      "metadata": {
        "id": "oaGO9QJY-Iwp",
        "colab_type": "text"
      },
      "source": [
        "# Conversion of class object: \n",
        "\n",
        "In the following program, we have two classes for calculating the distance.  \n",
        "One has distance specified in meters and the other has distance in kilometers.  \n",
        "\n",
        "There are two functions -- km() and mts(), which takes the argument of class Distance and then converts the distance into kilometers and meters respectively. \n",
        "\n",
        "**Program to illustrate the conversion of class objects** "
      ]
    },
    {
      "cell_type": "code",
      "metadata": {
        "id": "se7IJxah_dBW",
        "colab_type": "code",
        "colab": {
          "base_uri": "https://localhost:8080/",
          "height": 85
        },
        "outputId": "0ecde3bd-d482-4ff5-8892-fe660372f6ce"
      },
      "source": [
        "class Distance_m:\n",
        "  def __init__(self,m):\n",
        "    self.m = m \n",
        "  \n",
        "  def display(self):\n",
        "    print(\"Distance in meters is :    \", self.m)\n",
        "  \n",
        "def mts(D):\n",
        "  return D.km*1000\n",
        "\n",
        "class Distance_km:\n",
        "  def __init__(self,km):\n",
        "    self.km = km \n",
        "  \n",
        "  def display(self):\n",
        "    print(\"Distance in kilometers is :  \", self.km)\n",
        "\n",
        "def km(D):\n",
        "  return D.m/1000\n",
        "\n",
        "Dm = Distance_m(12345)\n",
        "Dm.display()\n",
        "print(\"Distance in kilo meters =  \", km(Dm))\n",
        "Dkm = Distance_km(12.345)\n",
        "Dkm.display()\n",
        "print(\"Distance in meters =   \", mts(Dkm))\n"
      ],
      "execution_count": 12,
      "outputs": [
        {
          "output_type": "stream",
          "text": [
            "Distance in meters is :     12345\n",
            "Distance in kilo meters =   12.345\n",
            "Distance in kilometers is :   12.345\n",
            "Distance in meters =    12345.0\n"
          ],
          "name": "stdout"
        }
      ]
    },
    {
      "cell_type": "markdown",
      "metadata": {
        "id": "lBoWYDvaBkt6",
        "colab_type": "text"
      },
      "source": [
        "# OVERRIDING THE __call__() METHOD \n",
        "\n",
        "The __call__() method is used to overload call expressions.   \n",
        "The __call__()method is called automatically, when an instance of the class is called.  It can be passed to any positional or keyword argument.  \n",
        "\n",
        "Like other functions, __call__() method also supports all of the argument-passing modes.  The __call__() method can be declared as \n",
        "def__call__(self, [args........])\n",
        "\n",
        "Program to overload the __call__() method.  "
      ]
    },
    {
      "cell_type": "code",
      "metadata": {
        "id": "aADhLMPACOa4",
        "colab_type": "code",
        "colab": {
          "base_uri": "https://localhost:8080/",
          "height": 34
        },
        "outputId": "df616db1-e165-4673-f5cb-ea49ceebdbdf"
      },
      "source": [
        "class Mult:\n",
        "  def __init__(self, num):\n",
        "    self.num = num \n",
        "  def __call__(self,O):\n",
        "    return self.num * O\n",
        "\n",
        "x = Mult(20)\n",
        "print(x(5))"
      ],
      "execution_count": 13,
      "outputs": [
        {
          "output_type": "stream",
          "text": [
            "100\n"
          ],
          "name": "stdout"
        }
      ]
    },
    {
      "cell_type": "code",
      "metadata": {
        "id": "pU4AFOaRBsFe",
        "colab_type": "code",
        "colab": {}
      },
      "source": [
        ""
      ],
      "execution_count": 0,
      "outputs": []
    }
  ]
}