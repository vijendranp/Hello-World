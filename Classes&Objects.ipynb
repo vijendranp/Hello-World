{
  "nbformat": 4,
  "nbformat_minor": 0,
  "metadata": {
    "colab": {
      "name": "Classes&Objects.ipynb",
      "provenance": [],
      "collapsed_sections": [],
      "authorship_tag": "ABX9TyNUqoqJ1UaFp0SYvUhj/Sdv",
      "include_colab_link": true
    },
    "kernelspec": {
      "name": "python3",
      "display_name": "Python 3"
    }
  },
  "cells": [
    {
      "cell_type": "markdown",
      "metadata": {
        "id": "view-in-github",
        "colab_type": "text"
      },
      "source": [
        "<a href=\"https://colab.research.google.com/github/vijendranp/Python--Computational-Approach/blob/master/Classes%26Objects.ipynb\" target=\"_parent\"><img src=\"https://colab.research.google.com/assets/colab-badge.svg\" alt=\"Open In Colab\"/></a>"
      ]
    },
    {
      "cell_type": "code",
      "metadata": {
        "id": "E0oJb3Io34E-",
        "colab_type": "code",
        "colab": {}
      },
      "source": [
        ""
      ],
      "execution_count": 0,
      "outputs": []
    },
    {
      "cell_type": "markdown",
      "metadata": {
        "id": "DUyvDzXM36ms",
        "colab_type": "text"
      },
      "source": [
        "# CLASSES & OBJECTS\n",
        "\n",
        "\n",
        "*   Class & Objects \n",
        "*   Class & Instance variables \n",
        "*   Public & Private variablese \n",
        "*   Special Methods \n",
        "*   Built-in Attributes & Functions\n",
        "*   Garbage collection \n",
        "*   Class Method \n",
        "*   Static Method.\n",
        "\n",
        "**Classes and objects are the two main aspects of object oriented programming**\n",
        "A class is the basic building block in Python.  A class creates a new type and an object is an instance of the class. \n",
        "\n",
        "Classes provides blueprint or a template using which objects are created.  \n",
        "\n",
        "**Defining Class**\n",
        "\n",
        "Class  class_name:\n",
        "<statement -1>\n",
        "<statement -2>\n",
        "\n",
        "\n",
        "\n",
        "<statement-n>\n",
        "\n",
        "**A class can be defined in a function or with an if statement.**\n",
        "\n",
        "Variables defined in the class are called class variables.  \n",
        "Functions defined in a class are called class methods.  \n",
        "\n",
        "Class variables and class methods are together known as class members.  \n",
        "\n",
        "Class methods have access to all th data contained in the instance of the object.  \n",
        "\n",
        "Class members can be accessed through class objects.  \n",
        "\n",
        "** Class creates a new local namespace where all its attributes (data and functions) are defined**\n",
        "\n",
        "\n",
        "Once class is defined, the next job is to create an object or instance of that class.  The object can then access class variables and class methods using the dot operator.  \n",
        "\n",
        "The syntax to create an object is given as : \n",
        "\n",
        "object_name = class_name()\n",
        "\n",
        "**Python does not require the new operator to create an object.**\n",
        "\n",
        "\n",
        "Creating an object or instance of a class is known as class instantiation.  From the syntax we can see that class instantiation uses function notation.  Using the syntax, an empty object of a class is created.  Thus, we see that in Python, to create a new object, call a class as if it were a function.\n",
        "\n",
        "We can think of a  class as an factory for making objects.\n",
        "\n",
        "The syntax for accessing a class member through the class object is: \n",
        "\n",
        "Object_name. class_member_name.  \n",
        "\n",
        "Program to access class variable using class object.  \n",
        "\n",
        "\n",
        "\n"
      ]
    },
    {
      "cell_type": "markdown",
      "metadata": {
        "id": "S_TO1wb79vT8",
        "colab_type": "text"
      },
      "source": [
        ""
      ]
    },
    {
      "cell_type": "code",
      "metadata": {
        "id": "LuJjTQ-o8ViE",
        "colab_type": "code",
        "outputId": "7a345b34-8eac-4381-b0b2-9c7ae63bceb6",
        "colab": {
          "base_uri": "https://localhost:8080/",
          "height": 34
        }
      },
      "source": [
        "class ABC:\n",
        "  var = 10  #  Class variable\n",
        "obj = ABC()\n",
        "print(obj.var) #  class variable is accessed using class object.  \n"
      ],
      "execution_count": 0,
      "outputs": [
        {
          "output_type": "stream",
          "text": [
            "10\n"
          ],
          "name": "stdout"
        }
      ]
    },
    {
      "cell_type": "markdown",
      "metadata": {
        "id": "5yXUzXAm9zuW",
        "colab_type": "text"
      },
      "source": [
        "**Data Abstraction and Hiding through Classes**\n",
        "Data abstraction refers to the process by which data and functiojns are defined in such a way that only essential details are provided to the outside world and the implementation details are hidden.  \n",
        "\n",
        "Classes provide methods to the outside world to provide the functionality of the object or to manipulate the object's data.  Any entity outside the world does not know about the implementation of th eclass or that methods.  \n",
        "\n",
        "**Data Encapsulation** is called data hiding that organizes the data and methods into a structure that prevents data access by any function ( or method) that is not specified in the class.  This ensures the integrity of the data contained in the object.  \n",
        "\n",
        "Encapsulation defines different access levels for the data variables and member function of the class.  These access levels specifies the access rights.\n",
        "\n",
        "*   Any data or function with access level public can be accessed by any function belonging to any class.  This is the lowest level of data protection.\n",
        "*   Any data or function with access level private can be accessed only by the class in which it is declared.  This is the highest level of data protection.  \n",
        "\n",
        "**In Python private variables are prefixed with a double underscore (__)**\n",
        "\n",
        "**Note: Functions defined inside a class are called class methods.**\n",
        "\n",
        "** CLASS METHODS AND SELF ARGUMENT**\n",
        "\n",
        "Class methods are exactly as ordinary funcitons with one small difference that class methods must have first argument as **self**.\n",
        "\n",
        "If you do not pass a value for this parameter when you call the method, python providees its value automatically.  \n",
        "\n",
        "The self argument refers to the object itself.  That is the object that has called the method.  \n",
        "\n",
        "This means that even if a method that takes no argument, it should be defined to accept the self.  \n",
        "\n",
        "Similarly a function defined to accept one parameter will actually take two self and the parameter so on and so forth.  \n",
        "\n",
        "**Note :** If you have a method which takes no arguments, then you still have to define the method to have a self argument. \n",
        "\n",
        "\n",
        "Since the class method uses self, they require an object or instance of the class to be used.  For this reason, they are referred to as instance method.  \n",
        "\n",
        "\n",
        "The following has one class variable and one class method.  Observe that the class method accepts no values but still has self as an argument.  Both the members are accessed through the object of the class.  \n",
        "\n",
        "\n",
        "\n",
        "\n",
        "\n",
        "\n"
      ]
    },
    {
      "cell_type": "code",
      "metadata": {
        "id": "oYzYmKwdVAU_",
        "colab_type": "code",
        "outputId": "7b8911bf-eaa0-4be9-c25d-303048c65a40",
        "colab": {
          "base_uri": "https://localhost:8080/",
          "height": 51
        }
      },
      "source": [
        "class ABC():\n",
        "  var = 10\n",
        "  def display(self):\n",
        "    print(\"In class method.......\")\n",
        "obj = ABC()\n",
        "print(obj.var)\n",
        "obj.display()"
      ],
      "execution_count": 0,
      "outputs": [
        {
          "output_type": "stream",
          "text": [
            "10\n",
            "In class method.......\n"
          ],
          "name": "stdout"
        }
      ]
    },
    {
      "cell_type": "markdown",
      "metadata": {
        "id": "Z0tEo6XfVtIt",
        "colab_type": "text"
      },
      "source": [
        "Key points to remember: \n",
        "\n",
        "The statements inside the class definition must be properly indented.  \n",
        "\n",
        "A class that has no other statement should have a psss statement at least.  \n",
        "\n",
        "\n",
        "Class methods or functions that beings with double underscore (__) are special functions with a predefined and special meaning.  \n",
        "\n",
        "**The __init__() METHOD (THE CLASS CONSTRUCTOR)**\n",
        "\n",
        "The __init__() method has a special significance in Python classes.  \n",
        "\n",
        "The __init__() method is automatically executed when an object of the class is created.   The method is used to initialize the variables of the class object.  \n",
        "\n",
        "Program illustrating the use of The __init__() method"
      ]
    },
    {
      "cell_type": "code",
      "metadata": {
        "id": "9eJIu-JUd2Zd",
        "colab_type": "code",
        "outputId": "f2031561-7bcf-4ff0-ff61-4e442952d892",
        "colab": {
          "base_uri": "https://localhost:8080/",
          "height": 51
        }
      },
      "source": [
        "class ABC():\n",
        "  def __init__(self,val):\n",
        "    print(\"In class method......\")\n",
        "    self.val = val\n",
        "    print (\"The value is :  \",val)\n",
        "obj = ABC(10)"
      ],
      "execution_count": 0,
      "outputs": [
        {
          "output_type": "stream",
          "text": [
            "In class method......\n",
            "The value is :   10\n"
          ],
          "name": "stdout"
        }
      ]
    },
    {
      "cell_type": "markdown",
      "metadata": {
        "id": "r7mxV9WeVtE8",
        "colab_type": "text"
      },
      "source": [
        "In the above program,  the __init__() method accepts one argument val.  Like any other class method the first argument is self.  \n",
        "\n",
        "In the __init__method we define a variable as self.val which has exactly the same name as that specified in the argument list.  \n",
        "\n",
        "Though the two variables have the same name, they are entirely different variables.  The self.val belongs to the newly created object.  Note that we have just created an object in the main module and no where have we called the __init__() method.  \n",
        "\n",
        "**Note** It is a good programming habit to initialize all attributes in the __init__() method.  Although values can be initialized in other methods also, but it is not recommended.  \n",
        "\n",
        "\n",
        "**CLASS VARIABLES & OBJECT VARIABLES**\n",
        "\n",
        "We have observed that class can have variables defined in it.  \n",
        "Class variables are owned by the class and object variables are owned by each object.  \n",
        "\n",
        "**Important** :\n",
        "If a class has n objects, then there will be n separate copies of the object variables as each object will have its own object variable.  \n",
        "\n",
        "The object variable is not shared between objects.  \n",
        "\n",
        "A change made to the object variable by one object will not be reflected in other objects. \n",
        "\n",
        "If a class has one class variable, then there will be one copy only for that variable.  All the objects of the class will share the class variable.  \n",
        "\n",
        "Since there exists a single copy of the class variable any change made to the class variable by an object will be reflected in all other objects.  \n",
        "\n",
        "\n",
        "\n",
        "Program to differentiate between class and object variable.  "
      ]
    },
    {
      "cell_type": "code",
      "metadata": {
        "id": "2YLMIvKVl15A",
        "colab_type": "code",
        "colab": {}
      },
      "source": [
        "class ABC():\n",
        "  class_var = 0 \n",
        "  def __init__(self,var):\n",
        "    ABC.class_var += 1\n",
        "    self.var = var # object variable \n",
        "    print(\"The object value is :  \",var)\n",
        "    print(\"The value of the class variable is :   \",ABC.class_var)\n",
        "\n",
        "obj1 = ABC(10)\n",
        "obj2 = ABC(20)\n",
        "obj3 = ABC(30)\n",
        "\n"
      ],
      "execution_count": 0,
      "outputs": []
    },
    {
      "cell_type": "markdown",
      "metadata": {
        "id": "s-Bojw4ynFM9",
        "colab_type": "text"
      },
      "source": [
        "In the above program, we have a class variable class_var which is shared by all three objects of the class.  \n",
        "\n",
        "It is initialized to zero and each time an object is created, the class_var is incremented by 1.  \n",
        "\n",
        "Since the variable is shared by all objects, changes made to class_var by one object is reflected in other object, as well.  \n",
        "\n",
        "**Note that class variable is accessed using the class name followed by the dot operator as the variable belongs to the class.**\n",
        "\n",
        "Then we have object variable which is unique for every object.  When an object is created and the __init__() method is called, the object variable is initialized.  The object variable belongs to only a particular object.  \n",
        "\n",
        "\n",
        "**Note** Class variables are usually used to keep a count of number of objects created from a class.  \n",
        "\n",
        "Another use of class variable is to count the number of objects created and define constants associated with particular class or provide default attribute value.  \n",
        "\n",
        "Program illustrating modification of ann instance variable"
      ]
    },
    {
      "cell_type": "code",
      "metadata": {
        "id": "xeoLJzzGM9mB",
        "colab_type": "code",
        "colab": {}
      },
      "source": [
        "class Number:\n",
        "  even = 0 # default value \n",
        "  def check(self, num):\n",
        "    if num%2 == 0 \n",
        "    self.even = 1 \n",
        "\n",
        "  def Even_Odd (self, num):\n",
        "    self.check(num)\n",
        "    if self.even ==1:\n",
        "      print(num, \"is even\")\n",
        "    else:\n",
        "      print(num, \"is odd\")\n",
        "n= Number()\n",
        "n.Even_Odd(27)"
      ],
      "execution_count": 0,
      "outputs": []
    },
    {
      "cell_type": "markdown",
      "metadata": {
        "id": "KhenSem5OFy2",
        "colab_type": "text"
      },
      "source": [
        "**Programming Tip** : Class attributes are defined at the same indentation level as that of class method.  \n",
        "\n",
        "**Note:** We have a class variable even with value 0.  \n",
        "\n",
        "We had set an attribute of the object which has the same name as the class attribute.  \n",
        "\n",
        "We are actually overriding the class attribute with the instance attribute.  \n",
        "\n",
        "The instance attribute will take precedence over the class attribute.  \n",
        "\n",
        "If we create two objects of Number, both objects will have their own copy of even.\n",
        "\n",
        "Changes made in one object will not be reflected in the other.  But this is not true for a mutable type attribute.\n",
        "\n",
        "**Key Point** If you modify a mutable object in once place, the change will be reflected in all other places as well.  \n",
        "\n",
        "**Note** Overriding means that the first definition is not available anymore.  \n",
        "\n",
        "Program modifying a mutable type attribute.  "
      ]
    },
    {
      "cell_type": "code",
      "metadata": {
        "id": "GMfmDGm2RdAz",
        "colab_type": "code",
        "outputId": "48ae48f9-c935-4725-a1d7-531242493b4d",
        "colab": {
          "base_uri": "https://localhost:8080/",
          "height": 51
        }
      },
      "source": [
        "class Number:\n",
        "  evens = []  # list as class variable which are of mutable type. \n",
        "  odds = []    # list as class variable\n",
        "  def __init__(self,num):\n",
        "    self.num = num\n",
        "    if num%2 ==0:\n",
        "      Number.evens.append(num)\n",
        "    else:\n",
        "      Number.odds.append(num)\n",
        "N1 = Number(21)\n",
        "N2 = Number(32)\n",
        "N3 = Number(43)\n",
        "N4 = Number(54)\n",
        "N5 = Number(65)\n",
        "print(\"Even Numbers are : \",N1.evens,N2.evens,N3.evens,N4.evens,N5.evens)\n",
        "#print(\"Even Numbers are :   \", Number.evens)\n",
        "print(\"Odd Numbers are :   \", N1.odds,N2.odds,N3.odds,N4.odds,N5.odds)\n"
      ],
      "execution_count": 0,
      "outputs": [
        {
          "output_type": "stream",
          "text": [
            "Even Numbers are :  [32, 54] [32, 54] [32, 54] [32, 54] [32, 54]\n",
            "Odd Numbers are :    [21, 43, 65] [21, 43, 65] [21, 43, 65] [21, 43, 65] [21, 43, 65]\n"
          ],
          "name": "stdout"
        }
      ]
    },
    {
      "cell_type": "markdown",
      "metadata": {
        "id": "OXX50yOrSbyP",
        "colab_type": "text"
      },
      "source": [
        "In the above program, we have defined two list as class variables which are of mutable type, so any change made by any of the object will be reflected in the final list.  \n",
        "\n",
        "So whether you type Number.even, self.evens, N1.evens, N2.evens,N3.evens,N4.evens or N5.evens it will all print the same. \n",
        "\n",
        "\n",
        "**The __del__() Method.**\n",
        "\n",
        "In previous section, we say the __init__() method, which initializes an object when it is created.  Similar to the __init__()method, we have the __del__()method which does just the opposite work.  \n",
        "\n",
        "The __del__() method is automatically called when an object is going out of scope.  \n",
        "This is the time when the object will no longer be used and its occupied resources are returned back to the system, so that they can be reused as and when required.  \n",
        "\n",
        "Program to illustrate use of __del__() method.  \n",
        "\n",
        "\n",
        "\n"
      ]
    },
    {
      "cell_type": "code",
      "metadata": {
        "id": "l4NGOw0TaEpj",
        "colab_type": "code",
        "colab": {}
      },
      "source": [
        "class ABC():\n",
        "  class_var = 0 # class variable\n",
        "  def __init__(self,var)  \n",
        "  ABC.var = var += 1\n",
        "  self.var = var # object variable\n",
        "  print(\"The object value is :  \",var)\n",
        "  print(\"The value of the class variable is \", ABC.class_var)\n",
        "  def __del__(self):\n",
        "    ABC.class_var -= 1\n",
        "    print(\"Object with value %d is going out of scope\" %self.var)\n",
        "\n",
        "obj1 = ABC(20)\n",
        "obj2 = ABC(40)\n",
        "obj3 = ABC(50)\n",
        "del obj1\n",
        "del obj2\n",
        "del obj3\n",
        "\n",
        "\n",
        "  "
      ],
      "execution_count": 0,
      "outputs": []
    },
    {
      "cell_type": "markdown",
      "metadata": {
        "id": "1tKoP0cwbIvh",
        "colab_type": "text"
      },
      "source": [
        "Thus, we see that the __del__() method is invoked when the object is about to be destroyed.  \n",
        "\n",
        "This method is used to clean up any resources used by it.  \n",
        "\n",
        "\n",
        "\n",
        "**OTHER SPECIAL METHODS**\n",
        "The following functions have special meaning in Python.  \n",
        "\n",
        "__repr__():  This method has built-in function with syntax repr(object).  It returns a string representation of an object.  The function works on any object, not just class instance.\n",
        "\n",
        "__cmp__():  This method is used to compare two class objects. In fact, the function can even compare any two python objects by using the equality operator (==).  For class instances, the __cmp__() method can be defined to write the customized comparison logic.  \n",
        "\n",
        "\n",
        "Program to illustrate the use of special methods in Python classes. "
      ]
    },
    {
      "cell_type": "code",
      "metadata": {
        "id": "T6gmMgM8eJX0",
        "colab_type": "code",
        "colab": {}
      },
      "source": [
        "class ABC():\n",
        "  def __init__(self,name, var):\n",
        "    self.name = name\n",
        "    self.var = var\n",
        "  def __repr__(self):\n",
        "    return repr(self.var)\n",
        "  def __len__(self):\n",
        "    return len(self.name)\n",
        "  def __cmp__(self,obj):\n",
        "    return self.var - obj.var\n",
        "obj = ABC(\"abcdef\",20)\n",
        "print(\" The value stored in object is : \",repr(obj))\n",
        "print(\"The length of the name stored in object is \",len(obj))\n",
        "obj1 = ABC(\"ghijkl\",1)\n",
        "val = obj.__cmp__(obj1)\n",
        "if val ==0:\n",
        "  print(\"Both values are equal\")\n",
        "elif val == -1:\n",
        "  print(\"First value is less than second\")\n",
        "else:\n",
        "print(\"Second value is less than first\")\n",
        "  \n"
      ],
      "execution_count": 0,
      "outputs": []
    },
    {
      "cell_type": "markdown",
      "metadata": {
        "id": "J2WYrGTKg3i7",
        "colab_type": "text"
      },
      "source": [
        "Python has a lot of special methods that let classes act like numbers, so that you can perform arithmetic operaitons like ad, substract, on them.  \n",
        "\n",
        "the other special methods are : \n",
        "\n",
        "The __call__() method:  The method lets a class act like a function so that its instance can be called directly in obj(arg1,arg2)\n",
        "\n",
        "The __lt__(), __le__(),__ne__(),__gt__() and __ge__().  These methods are used to compare two object.  \n",
        "\n",
        "The __hash__() method : It is used to calculate a hash for the object.  The hash will decide a placing of objects in data structures such as sets and dictionaries. \n",
        "\n",
        "The __getitem__() method :  This method is used for indexing.  It can be declared as def __getitem__(self,key)\n",
        "\n",
        "The __setitem__() method:  This method is used to assign an item to indexed values.  It can be declared as def __setitem__(self,key,value).\n",
        "\n",
        "\n",
        "Program to demonstrate the use of __getitem__() and __setitem() methods. \n",
        "\n"
      ]
    },
    {
      "cell_type": "code",
      "metadata": {
        "id": "YSGsBOqXiA4Y",
        "colab_type": "code",
        "colab": {}
      },
      "source": [
        "class Numbers:\n",
        "  def __init__(self,myList):\n",
        "    self.myList = myList\n",
        "  \n",
        "  def __getitem__(self,index):\n",
        "    return self.myList[index]\n",
        "\n",
        "  def __setitem__(self,index,val):\n",
        "    self.myList[index] = val\n",
        "\n",
        "NumList = Numbers([10,9,8,7,6,5,4,3,2,1])\n",
        "print(NumList[5])\n",
        "Numlist[3]=20\n",
        "print(Numlist.myList)\n"
      ],
      "execution_count": 0,
      "outputs": []
    },
    {
      "cell_type": "markdown",
      "metadata": {
        "id": "mOZWarrf2GLL",
        "colab_type": "text"
      },
      "source": [
        "# PUBLIC & PRIVATE DATA MEMBERS. \n",
        "\n",
        "Public variables are those variables that are defined in the class and can be accessed from anywhere in the program, of course using the dot operator.  \n",
        "\n",
        "Anywhere from the program means that the public variables can be accessed from within the class as well as outside the class in which it is defined.  \n",
        "\n",
        "**PRIVATE VARIABLES** are those variables that are defined in the class with a double score prefix (__).  These variables can be accessed only from within the class and from nowhere outside the class. \n",
        "\n",
        "Program to illustrate the difference between public and private variables. \n"
      ]
    },
    {
      "cell_type": "code",
      "metadata": {
        "id": "ZFyDZanK3GSG",
        "colab_type": "code",
        "outputId": "e8b1ca8a-bb1f-4ec2-d37b-24475dbfd5b7",
        "colab": {
          "base_uri": "https://localhost:8080/",
          "height": 85
        }
      },
      "source": [
        "class ABC():\n",
        "  def __init__(self,var1, var2):\n",
        "    self.var1 = var1 \n",
        "    self.__var2 = var2\n",
        "\n",
        "  def display(self):\n",
        "    print(\"From class method, var1 = \",self.var1)\n",
        "    print(\"From class method, var2 = \",self.__var2)\n",
        "\n",
        "obj = ABC(20,40)\n",
        "obj.display()\n",
        "print(\"Fromm main Module, Var1 = \",obj.var1)\n",
        "print(\"Fromm main Module, Var2 = \",obj._ABC__var2)"
      ],
      "execution_count": 0,
      "outputs": [
        {
          "output_type": "stream",
          "text": [
            "From class method, var1 =  20\n",
            "From class method, var2 =  40\n",
            "Fromm main Module, Var1 =  20\n",
            "Fromm main Module, Var2 =  40\n"
          ],
          "name": "stdout"
        }
      ]
    },
    {
      "cell_type": "markdown",
      "metadata": {
        "id": "_3GIg56V4PDi",
        "colab_type": "text"
      },
      "source": [
        "## PRIVATE METHODS: \n",
        "\n",
        "Private attributes should not be accessed from anywhere outside the class.  \n",
        "We keep those methods as private which have implementation details.  \n",
        "\n",
        "**A private method can be accessed using the object name as well as the class name from outside the class.**\n",
        "\n",
        "The syntax for accessing the private method in such a case would be: \n",
        "\n",
        "** objectname._classname__privatemethodname**\n",
        "\n",
        "Program to illustrate the use of a private method.  "
      ]
    },
    {
      "cell_type": "code",
      "metadata": {
        "id": "o82j5wwA5Qdb",
        "colab_type": "code",
        "outputId": "d383ede0-62cb-49e7-ee41-a7c5b3cbda8e",
        "colab": {
          "base_uri": "https://localhost:8080/",
          "height": 34
        }
      },
      "source": [
        "class XYZ():\n",
        "  def __init__(self,var):\n",
        "    self.__var = var\n",
        "\n",
        "  def __display(self):\n",
        "    print(\"From class method,   Var =  \",  self.__var)\n",
        "\n",
        "obj = XYZ(20)\n",
        "obj._XYZ__display()"
      ],
      "execution_count": 0,
      "outputs": [
        {
          "output_type": "stream",
          "text": [
            "From class method,   Var =   20\n"
          ],
          "name": "stdout"
        }
      ]
    },
    {
      "cell_type": "markdown",
      "metadata": {
        "id": "Qaxh---V59_H",
        "colab_type": "text"
      },
      "source": [
        "# CALLING A CLASS METHOD FROM ANOTHER CLASS METHOD.\n",
        "You can call a class method from another class method by using the self.  \n",
        "\n",
        "Program to call a class method from another method of the same class. "
      ]
    },
    {
      "cell_type": "markdown",
      "metadata": {
        "id": "SXmzbvjl597K",
        "colab_type": "text"
      },
      "source": [
        ""
      ]
    },
    {
      "cell_type": "code",
      "metadata": {
        "id": "Obi4h3JD6jEd",
        "colab_type": "code",
        "outputId": "bb51f786-413d-4eef-9d5d-914aa0405730",
        "colab": {
          "base_uri": "https://localhost:8080/",
          "height": 34
        }
      },
      "source": [
        "class ABC():\n",
        "    def __init__(self,var):\n",
        "        self.var = var\n",
        "    def display(self):\n",
        "        print(\"Var is = \",self.var)\n",
        "    def add_2(self):\n",
        "        self.var +=2\n",
        "        self.display()\n",
        "obj = ABC(20)\n",
        "obj.add_2()\n"
      ],
      "execution_count": 0,
      "outputs": [
        {
          "output_type": "stream",
          "text": [
            "Var is =  22\n"
          ],
          "name": "stdout"
        }
      ]
    },
    {
      "cell_type": "markdown",
      "metadata": {
        "id": "1iBUIHvM6xD_",
        "colab_type": "text"
      },
      "source": [
        " Like functions and modules, class also has documentation string, which can be accessed using className.__doc__.\n",
        " The lines of code given below specifies the docstring.\n",
        "\n",
        "class ABC:\n",
        "    ''' This is a docstring.  I have created a new class'''\n",
        "    pass\n",
        "\n",
        "Program to show how class method calls a function defined in the global namespace."
      ]
    },
    {
      "cell_type": "code",
      "metadata": {
        "id": "9VHqang96-3u",
        "colab_type": "code",
        "outputId": "cb1b62e9-643d-4e0a-f95f-da505533441d",
        "colab": {
          "base_uri": "https://localhost:8080/",
          "height": 51
        }
      },
      "source": [
        "def scale_10(x):\n",
        "  return x*10\n",
        "\n",
        "class ABC():\n",
        "    def __init__(self,var):\n",
        "        self.var = var\n",
        "    def display(self):\n",
        "        print(\"Var is = \", self.var)\n",
        "    def modify(self):\n",
        "        self.var = scale_10(self.var)\n",
        "\n",
        "obj = ABC(30)\n",
        "obj.display()\n",
        "obj.modify()\n",
        "obj.display()"
      ],
      "execution_count": 0,
      "outputs": [
        {
          "output_type": "stream",
          "text": [
            "Var is =  30\n",
            "Var is =  300\n"
          ],
          "name": "stdout"
        }
      ]
    },
    {
      "cell_type": "markdown",
      "metadata": {
        "id": "bIAEUyPC7qtw",
        "colab_type": "text"
      },
      "source": [
        "Unlike in C++ and Java, Python allows programmers to add, remove or modify attributes of classes and objects at any time.\n",
        "\n",
        "Program to add variables to a class at run time.\n"
      ]
    },
    {
      "cell_type": "code",
      "metadata": {
        "id": "_Of6IbdQ742V",
        "colab_type": "code",
        "colab": {}
      },
      "source": [
        "class XYZ():\n",
        "  def __init__(self,var):\n",
        "    self.var = var\n",
        "\n",
        "  def display(self):\n",
        "    print(\"Var is = \",self.var)\n",
        "\n",
        "obj = XYZ(30)\n",
        "obj.display()\n",
        "obj.new_var = 45 # new variable added at runtime. \n",
        "print(\"New Var =  \",obj.new_var)\n",
        "obj.new_var = 55 # modifying newly added variable. \n",
        "print(\"New Var after modificaiton =   \", obj.new_var)\n",
        "del obj.new_var # newly created variable is deleted.\n",
        "print(\"New Var after deleting = \", obj.new_var)\n"
      ],
      "execution_count": 0,
      "outputs": []
    },
    {
      "cell_type": "markdown",
      "metadata": {
        "id": "829QFfl79NZd",
        "colab_type": "text"
      },
      "source": [
        "BUILT-IN FUNCTIONS TO CHECK, GET, SET, AND DELETE CLASS ATTRIBUTES.\n",
        "\n",
        "Python has some built-in functions that can also be used to work with attributes( variables defined in the class)\n",
        "You can use these functions to check whether a class has a particular attribute (variable) or not\n",
        "--> Get its value if it exists.\n",
        "--> Set a new value if its exits.\n",
        "--> Delete that attribute.\n",
        "\n",
        "These built-in functions include the following:\n",
        "**hasattr(obj,name)**:  The function is used to check if an object possesses the attribute or not.\n",
        "**getattr(obj,name[,default])**: The function is used to access or get the attribute of object.\n",
        "Since getattr() is a built-in function and not a method of a class, it is not called using the dot operator.\n",
        "\n",
        "Rather it takes object as its first parameter.\n",
        "The second parameter is the name of the variable as a string, and the optional third parameter is the default value to be returned if the attribute does not exists.\n",
        "If the attribute name does not exists in the objects namespace and the default value is also not specified, then an exception will be raised.\n",
        "Note that getattr(obj,'var') is same as writing obj.var However, you should always try to use the latter variant.\n",
        "\n",
        "**setattr(obj,name,value)** : The function is used to set an attribute of the object.   If attribute does not exists, then it would be created.\n",
        "The first parameter of the setattr() function is the object, the second parameter is the name of the attribute, and the third parameter is the\n",
        "value of the specified attribute.\n",
        "\n",
        "**delattr(obj,name)**:  The function deletes an attribute.  Once deleted, the variable is not longer a class or a object attribute.  \n",
        "\n",
        "Note that getattr(obj,'var') is same as writing obj.var\n",
        "\n",
        "\n"
      ]
    },
    {
      "cell_type": "code",
      "metadata": {
        "id": "ooZMvFav9uF2",
        "colab_type": "code",
        "outputId": "5532bf7d-8436-4fef-df51-71e6139c0a19",
        "colab": {
          "base_uri": "https://localhost:8080/",
          "height": 102
        }
      },
      "source": [
        "class ABC():\n",
        "    def __init__(self,var):\n",
        "        self.var = var\n",
        "    def display(self):\n",
        "        print(\"Var is = \", self.var)\n",
        "obj = ABC(20)\n",
        "obj.display()\n",
        "print(\"Check if the attribute var........\", hasattr(obj,'var'))\n",
        "getattr(obj,'var')\n",
        "setattr(obj,'var',50)\n",
        "print(\"After setting value, var is : \",obj.var)\n",
        "setattr(obj,'count',10)\n",
        "print(\"New variable count is created and its value is : \", obj.count)\n",
        "print(\"After deleting the attribute, var is : \", obj.var)\n"
      ],
      "execution_count": 0,
      "outputs": [
        {
          "output_type": "stream",
          "text": [
            "Var is =  20\n",
            "Check if the attribute var........ True\n",
            "After setting value, var is :  50\n",
            "New variable count is created and its value is :  10\n",
            "After deleting the attribute, var is :  50\n"
          ],
          "name": "stdout"
        }
      ]
    },
    {
      "cell_type": "markdown",
      "metadata": {
        "id": "m_OBoJHkNpTv",
        "colab_type": "text"
      },
      "source": [
        "# BUILT IN CLASS ATTRIBUTES :\n",
        "\n",
        "Every class defined in Python has some built-in attributes associated with it.\n",
        "Like other attributes, these attributes can also be accessed using dot operator.\n",
        "\n",
        "__dict__:  The attribute gives a dictionary containing the class or object (with whichever it is accessed)\n",
        "namespace.\n",
        "\n",
        "__doc__:  The attribute gives the class documentation string if specified.  In case the documentation string\n",
        "is not specified, then the attribute returns none.\n",
        "\n",
        "__name__: The attribute returns the name of the class.\n",
        "\n",
        "__module__:  The attribute gives the name of the module in which the class ( or the oject) is defined.\n",
        "\n",
        "__bases__:  The attribute is used in inheritence to return the base classes in the order of their occurences in the base class list.\n",
        "\n",
        "Program to demonstrate the use of built-in class attributes.  \n",
        "\n"
      ]
    },
    {
      "cell_type": "code",
      "metadata": {
        "id": "VH7Klp-gN3Vp",
        "colab_type": "code",
        "colab": {
          "base_uri": "https://localhost:8080/",
          "height": 136
        },
        "outputId": "dcf0c735-4acc-44fd-fdc9-9e2424c613a7"
      },
      "source": [
        "class ABC():\n",
        "    def __init__(self,var1,var2):\n",
        "        self.var1 = var1\n",
        "        self.var2 = var2\n",
        "    def display(self):\n",
        "        print(\"Var1 is = \", self.var1)\n",
        "        print(\"Var1 is = \", self.var2)\n",
        "obj = ABC(20,24.68)\n",
        "obj.display()\n",
        "print(\"object.__dict__ - \", obj.__dict__)\n",
        "print(\"object.__doc__ - \", obj.__doc__)\n",
        "print(\"class.__name__ - \", ABC.__name__)\n",
        "print(\"object.__module__ - \", obj.__module__)\n",
        "print(\"class.__bases__ - \", ABC.__bases__)"
      ],
      "execution_count": 9,
      "outputs": [
        {
          "output_type": "stream",
          "text": [
            "Var1 is =  20\n",
            "Var1 is =  24.68\n",
            "object.__dict__ -  {'var1': 20, 'var2': 24.68}\n",
            "object.__doc__ -  None\n",
            "class.__name__ -  ABC\n",
            "object.__module__ -  __main__\n",
            "class.__bases__ -  (<class 'object'>,)\n"
          ],
          "name": "stdout"
        }
      ]
    },
    {
      "cell_type": "markdown",
      "metadata": {
        "id": "kmahnZ1sORyv",
        "colab_type": "text"
      },
      "source": [
        "# GARBAGE COLLECTION (DESTROYING OBJECTS)\n",
        "\n",
        "Python performs automatic garbage collection.   This means that it deletes all the objects( built-in types or user defined like class objects)\n",
        "automatically that are no longer neeeded and that have gone out of scope to free the memory space.\n",
        "The process by which Python periodically reclaims unwanted memory is known as garbage collection.\n",
        "\n",
        "\n",
        "Pythons garbage collector runs in the background during program execution.\n",
        "It immediately takes action ( of reclaiming memory) as soon as an object reference count reaches zero.\n",
        "\n",
        "Recall objects reference count increases when we create aliases.\n",
        "When we assign an object a new name or place it with a list, tuple or dictionary.\n",
        "\n",
        "Similarly, the object reference count becomes zero when it is deleted with del statement.\n",
        "Moreover, each time the object reference is reassigned, or its reference goes out of scope,\n",
        "its reference count decreases.\n",
        "\n",
        "Note : When an object reference count reaches zero, python recollects memory used by it.\n",
        "\n",
        "Consider the following example, which illustrate the way in which reference count\n",
        "changes for a given object.\n",
        "\n",
        "Programming Tip : Object of a class can be deleted using del statement.\n",
        "\n",
        "var1 = 10  # creates an object var1\n",
        "var2 = var1 # increases reference count of var1 -- object assignment.\n",
        "var3 = [var2] # increases reference count of var1 -- object used in list. \n",
        "var2 = 50  # decreases reference count of var1-- reassignment. \n",
        "var3[0] = -1 # decreases reference count of var1 -- removal from list. \n",
        "del var1  # decreases ref. count of var1 -- object deleted.\n",
        "\n",
        "Program that uses class to store the name and marks of students.\n",
        "Use list to store the marks in three subject.\n",
        "\n",
        "\n"
      ]
    },
    {
      "cell_type": "code",
      "metadata": {
        "id": "TYhllxU8OhhZ",
        "colab_type": "code",
        "colab": {}
      },
      "source": [
        "class Students:\n",
        "    def __init__(self,name):\n",
        "        self.name = name\n",
        "        self.marks = []\n",
        "    def enterMarks(self):\n",
        "        for i in range(6):\n",
        "            m = int(input(\"Enter the marks of %s in subject %d : \"%(self.name,i+1)))\n",
        "            self.marks.append(m)\n",
        "    def display(self):\n",
        "        print(self.name, \"got\", self.marks)\n",
        "\n",
        "s1 = Students(\"Amanda\")\n",
        "s1.enterMarks()\n",
        "s2 = Students(\"Joseph\")\n",
        "s2.enterMarks()\n",
        "s1.display()\n",
        "s2.display()\n"
      ],
      "execution_count": 0,
      "outputs": []
    },
    {
      "cell_type": "markdown",
      "metadata": {
        "id": "EdXyokIfO4cM",
        "colab_type": "text"
      },
      "source": [
        "Write a program with class Employee that keeps a track of the number of employeees in\n",
        "an organization and also stores their names, designation and salary details.\n"
      ]
    },
    {
      "cell_type": "code",
      "metadata": {
        "id": "8YHMcheAO-TF",
        "colab_type": "code",
        "colab": {
          "base_uri": "https://localhost:8080/",
          "height": 85
        },
        "outputId": "dedb5f7f-9b9e-47c4-ebc9-a9763dc86127"
      },
      "source": [
        "class Employee:\n",
        "    empCount = 0\n",
        "    def __init__(self,name,desig,salary):\n",
        "        self.name = name\n",
        "        self.desig = desig\n",
        "        self.salary = salary\n",
        "        Employee.empCount += 1\n",
        "        \n",
        "    def displayCount(self):\n",
        "        print(\" There are %d employees\" % Employee.empCount)\n",
        "\n",
        "    def displayDetails(self):\n",
        "        print(\"Name: \", self.name, \", Designation : \", self.desig,\", Salary :\", self.salary)\n",
        "\n",
        "e1 = Employee(\"Victor\",\"Manager\",100000)\n",
        "e2 = Employee(\"Mike\",\"Team Leader\",90000)\n",
        "e3 = Employee (\"Nick\",\"Programmer\",8000)\n",
        "e4 = Employee(\"Oliver\",\"Paralegal\",6000)\n",
        "e4.displayCount()\n",
        "print(\"Details of the second employee -- \\n\")\n",
        "e2.displayDetails()\n"
      ],
      "execution_count": 11,
      "outputs": [
        {
          "output_type": "stream",
          "text": [
            " There are 4 employees\n",
            "Details of the second employee -- \n",
            "\n",
            "Name:  Mike , Designation :  Team Leader , Salary : 90000\n"
          ],
          "name": "stdout"
        }
      ]
    },
    {
      "cell_type": "markdown",
      "metadata": {
        "id": "MLi8FOB-PIdq",
        "colab_type": "text"
      },
      "source": [
        " Write a program that has a class Person storing name and date of birth\n",
        "of a person.  The program should substract the DOB from todays date to find\n",
        "out whether a person is eligible to vote or not.\n"
      ]
    },
    {
      "cell_type": "code",
      "metadata": {
        "id": "ZANJ1HCuPNp7",
        "colab_type": "code",
        "colab": {
          "base_uri": "https://localhost:8080/",
          "height": 34
        },
        "outputId": "de2645b9-aedd-4340-cde7-7258c54b11e0"
      },
      "source": [
        "import datetime\n",
        "class Person():\n",
        "\n",
        "    def __init__(self, name, dob):\n",
        "        self.name = name\n",
        "        self.dob = dob\n",
        "\n",
        "    def check(self):\n",
        "        today = datetime.date.today()\n",
        "        age = today.year - self.dob.year\n",
        "\n",
        "        if today < datetime.date(today.year, self.dob.month, self.dob.day):\n",
        "            age -= 1\n",
        "        if age>= 18:\n",
        "            print(self.name, \", Congratulations.... you are eligible to vote.\")\n",
        "        else:\n",
        "            print(self.name, \", Sorry ..... You should be at least 18 years of age to cast your vote.\")\n",
        "P = Person(\" Svetlana\", datetime.date(1996,11,10))\n",
        "P.check()\n"
      ],
      "execution_count": 12,
      "outputs": [
        {
          "output_type": "stream",
          "text": [
            " Svetlana , Congratulations.... you are eligible to vote.\n"
          ],
          "name": "stdout"
        }
      ]
    },
    {
      "cell_type": "markdown",
      "metadata": {
        "id": "RdrCf5V8PUQ7",
        "colab_type": "text"
      },
      "source": [
        "Write a program that has a class circle.  Use a class variable to define the value of constant pi.\n",
        "Use this class variable to calculate area and circumference of a circle with specified radius.\n"
      ]
    },
    {
      "cell_type": "code",
      "metadata": {
        "id": "1a9SHmu0PZyV",
        "colab_type": "code",
        "colab": {
          "base_uri": "https://localhost:8080/",
          "height": 51
        },
        "outputId": "5719bb72-9e7b-4164-f026-8cbbf1110003"
      },
      "source": [
        "class Circle:\n",
        "    PI = 3.14159\n",
        "\n",
        "    def __init__(self,radius):\n",
        "        self.radius = radius\n",
        "\n",
        "    def area(self):\n",
        "        return Circle.PI*self.radius*self.radius\n",
        "\n",
        "    def circumference(self):\n",
        "        return 2*Circle.PI*self.radius\n",
        "C = Circle(7.5)\n",
        "print(\"AREA = \", C.area())\n",
        "print(\"CIRCUMFERENCE = \", C.circumference())\n"
      ],
      "execution_count": 13,
      "outputs": [
        {
          "output_type": "stream",
          "text": [
            "AREA =  176.7144375\n",
            "CIRCUMFERENCE =  47.12385\n"
          ],
          "name": "stdout"
        }
      ]
    },
    {
      "cell_type": "markdown",
      "metadata": {
        "id": "_3iQZifMPolp",
        "colab_type": "text"
      },
      "source": [
        "write a program that has a class student that stores roll number, name and marks\n",
        "(in three subject) of the students.\n",
        "Display the information ( roll number, name, and total marks) stored about student.\n",
        "\n"
      ]
    },
    {
      "cell_type": "code",
      "metadata": {
        "id": "0hL-MX1VPyy7",
        "colab_type": "code",
        "colab": {}
      },
      "source": [
        "class Student():\n",
        "    __marks = []\n",
        "    def set_data(self,r,n,m1,m2,m3):\n",
        "        student.__rollno = r\n",
        "        student.__name = n\n",
        "        student.__marks.append(m1)\n",
        "        student.__marks.append(m2)\n",
        "        student.__marks.append(m3)\n",
        "\n",
        "    def display_data(self):\n",
        "        print(\"Student Details\")\n",
        "        print(\"Roll Number : \", student.__rollno)\n",
        "        print(\"Name : \", student.__name)\n",
        "        print(\"Marks :\", self.total())\n",
        "\n",
        "    def total(self):\n",
        "        m = student.__marks\n",
        "        return m[0]+m[1]+m[2]\n",
        "\n",
        "r = int(input(\"Enter the roll number : \"))\n",
        "n = input (\"Enter the name : \")\n",
        "m1 = int(input(\"Enter the marks in the first subject : \"))\n",
        "m2 = int(input(\"Enter the marks in the second subject : \"))\n",
        "m3 = int(input(\"Enter the marks in the third subject : \"))\n",
        "s1 = Student()\n",
        "s1.set_data(r,n,m1,m2,m3)\n",
        "s1.display_data()\n"
      ],
      "execution_count": 0,
      "outputs": []
    },
    {
      "cell_type": "markdown",
      "metadata": {
        "id": "09R58TJTQpNP",
        "colab_type": "text"
      },
      "source": [
        " Write a class Rectangle that has attributes Length and Breadth and a method area which returns the area of the rectangle.\n"
      ]
    },
    {
      "cell_type": "code",
      "metadata": {
        "id": "m0EYBqXfQsGG",
        "colab_type": "code",
        "colab": {
          "base_uri": "https://localhost:8080/",
          "height": 85
        },
        "outputId": "e8ece4aa-5199-4e08-c0c7-6b598ec5b8e8"
      },
      "source": [
        "class Rectangle:\n",
        "    def get_data(self):\n",
        "        Rectangle.length = int(input(\"Enter the length: \"))\n",
        "        Rectangle.breadth = int(input(\"Enter the breadth : \"))\n",
        "\n",
        "    def show_data(self):\n",
        "        print(\"Length = \", Rectangle.length, \"\\t Breadth =\",Rectangle.breadth)\n",
        "\n",
        "    def area(self):\n",
        "        print(\"Area = \", Rectangle.length*Rectangle.breadth)\n",
        "\n",
        "rect = Rectangle()\n",
        "rect.get_data()\n",
        "rect.show_data()\n",
        "rect.area()\n"
      ],
      "execution_count": 16,
      "outputs": [
        {
          "output_type": "stream",
          "text": [
            "Enter the length: 25\n",
            "Enter the breadth : 15\n",
            "Length =  25 \t Breadth = 15\n",
            "Area =  375\n"
          ],
          "name": "stdout"
        }
      ]
    },
    {
      "cell_type": "markdown",
      "metadata": {
        "id": "sgc_J0OkUaF-",
        "colab_type": "text"
      },
      "source": [
        " Write a program that has a class Fraction with attributes numerator and denominator.\n",
        " \n",
        " Enter the value of the attributes and print the fraction in siplified form.\n"
      ]
    },
    {
      "cell_type": "code",
      "metadata": {
        "id": "-_hB0NnfUgyu",
        "colab_type": "code",
        "colab": {
          "base_uri": "https://localhost:8080/",
          "height": 85
        },
        "outputId": "4dfc1b94-7239-484d-acf3-be4f33e7f168"
      },
      "source": [
        "class Fraction:\n",
        "    def get_data(self):\n",
        "        self.__num = int(input(\"Enter the numerator : \"))\n",
        "        self.__deno = int(input(\"Enter the denominator : \"))\n",
        "        if(self.__deno ==0):\n",
        "            print(\"Fraction not possible\")\n",
        "            exit()\n",
        "\n",
        "    def display_data(self):\n",
        "        self.__simplify()\n",
        "        print(self.__num, '/', self.__deno)\n",
        "\n",
        "    def __simplify(self):\n",
        "        print(\" The simplified fraction is : \")\n",
        "        common_divisor = self.__GCD(self.__num,self.__deno)\n",
        "        self.__num = self.__num/common_divisor\n",
        "        self.__deno = self.__deno/common_divisor\n",
        "\n",
        "    def __GCD(self,a,b):\n",
        "        if(b==0):\n",
        "            return a\n",
        "        else:\n",
        "            return self.__GCD(b,a%b)\n",
        "\n",
        "f = Fraction()\n",
        "f.get_data()\n",
        "f.display_data()\n"
      ],
      "execution_count": 17,
      "outputs": [
        {
          "output_type": "stream",
          "text": [
            "Enter the numerator : 40\n",
            "Enter the denominator : 250\n",
            " The simplified fraction is : \n",
            "4.0 / 25.0\n"
          ],
          "name": "stdout"
        }
      ]
    },
    {
      "cell_type": "markdown",
      "metadata": {
        "id": "aYdUXXq5U0pU",
        "colab_type": "text"
      },
      "source": [
        " Write a program that has a class store which keeps a record of code and price of each product.\n",
        " Display a menu of all products to the user and prompt him to enter the quantity of each  item required.  Generate bill and display the total amount.\n"
      ]
    },
    {
      "cell_type": "code",
      "metadata": {
        "id": "Tf0oyS6LVFE3",
        "colab_type": "code",
        "colab": {}
      },
      "source": [
        "class Store:\n",
        "    __item_code = []\n",
        "    __price = []\n",
        "\n",
        "    def get_data(self):\n",
        "        for i in range(5):\n",
        "            self.__item_code.append(int(input(\"Enter the code of item: \")))\n",
        "            self.__price.append(int(input(\"Enter the price : \")))\n",
        "\n",
        "    def display_data(self):\n",
        "        print(\"ITEM CODE \\t PRICE\")\n",
        "        for i in range(5):\n",
        "            print(self.__item_code[i],\"\\t\\t\",self.__price[i])\n",
        "\n",
        "    def calculate_bill(self,quant):\n",
        "        total_amount = 0\n",
        "        for i in range(5):\n",
        "            total_amount = total_amount+self.__price[i]*quant[i]\n",
        "        print(\"********************BILL********************\")\n",
        "        print(\"ITEM \\t  PRICE \\t  QUANTITY \\t  SUBTOTAL\")\n",
        "        for i in range(5):\n",
        "            print(self.__item_code[i],\"\\t\",self.__price[i],\"\\t\", quant[i], \"\\t\",quant[i]*self.__price[i])\n",
        "            print(\"**********************************************\")\n",
        "            print(\"Total = \", total_amount)\n",
        "s = Store()\n",
        "s.get_data()\n",
        "s.display_data()\n",
        "q = []\n",
        "print(\" Enter the quantity of each item: \")\n",
        "for i in range(5):\n",
        "    q.append(int(input()))\n",
        "s.calculate_bill(q)\n"
      ],
      "execution_count": 0,
      "outputs": []
    },
    {
      "cell_type": "markdown",
      "metadata": {
        "id": "UZfSCU_tVduY",
        "colab_type": "text"
      },
      "source": [
        "  Write a program that has a class Number with values stored in a list.\n",
        " Write a class method to find the largest value.\n"
      ]
    },
    {
      "cell_type": "code",
      "metadata": {
        "id": "CA4xC3fjVrKQ",
        "colab_type": "code",
        "colab": {}
      },
      "source": [
        "class Numbers:\n",
        "    def __init__(self):\n",
        "        self.value = []\n",
        "\n",
        "    def find_max(self):\n",
        "        max = ''\n",
        "        for i in self.values:\n",
        "            if(i> max):\n",
        "                max = i\n",
        "        print('Maximum element : %r' %max)\n",
        "\n",
        "    def insert_element(self):\n",
        "        value = input('Enter value :')\n",
        "        self.values.append(value)\n",
        "\n",
        "x = Numbers()\n",
        "ch = 'y'\n",
        "while(ch == 'y'):\n",
        "    x.insert_element()\n",
        "    ch = input('Do you wish to enter more elements?')\n",
        "x.find_max()\n"
      ],
      "execution_count": 0,
      "outputs": []
    },
    {
      "cell_type": "markdown",
      "metadata": {
        "id": "9fzP2P8LVdpR",
        "colab_type": "text"
      },
      "source": [
        "\n",
        " Using assert :\n",
        "\n",
        "Creating a set of simple cases, you can see how the assert language feature works.\n",
        "\n",
        "Demonstration the use of assert()\n"
      ]
    },
    {
      "cell_type": "code",
      "metadata": {
        "id": "0jLok-e4WOaf",
        "colab_type": "code",
        "colab": {}
      },
      "source": [
        "large = 1000\n",
        "string = \" This is string\"\n",
        "float = 2.0\n",
        "broken_int = \" This should be an int\"\n",
        "\n",
        "assert large > 500\n",
        "assert type(string) == type(\"\")\n",
        "assert type(float) != type(1)\n",
        "#assert type(broken_int) == type(4)\n"
      ],
      "execution_count": 0,
      "outputs": []
    },
    {
      "cell_type": "markdown",
      "metadata": {
        "id": "M2Q9xWi4WZBX",
        "colab_type": "text"
      },
      "source": [
        "write a class that stores a string and all its status details such as number of uppercases character, vowels, consonants, spaces.\n"
      ]
    },
    {
      "cell_type": "code",
      "metadata": {
        "id": "-tUuj6tYWgAB",
        "colab_type": "code",
        "colab": {}
      },
      "source": [
        "class String:\n",
        "    def __init__(self):\n",
        "        self.vowels = 0\n",
        "        self.spaces = 0\n",
        "        self.consonants = 0\n",
        "        self.uppercase = 0\n",
        "        self.lowercase = 0\n",
        "        self.string = str(input(\"Enter string: \"))\n",
        "\n",
        "    def count_uppercase(self):\n",
        "        for letter in self.string:\n",
        "            if(letter.isupper()):\n",
        "                self.uppercase+=1\n",
        "\n",
        "    def count_lowercase(self):\n",
        "        for letter in self.string:\n",
        "            if(letter.islower()):\n",
        "                self.lowercase+=1\n",
        "\n",
        "    def count_vowels(self):\n",
        "        for letter in self.string:\n",
        "            if(letter in ('a','e','i','o','u')):\n",
        "                self.vowels+=1\n",
        "            elif(letter in ('A','E','I','O','U')):\n",
        "                self.vowels+=1\n",
        "\n",
        "    def count_space(self):\n",
        "                 for letter in self.string:\n",
        "                     if(letter == ' '):\n",
        "                         self.spaces+=1\n",
        "\n",
        "    def count_consonants(self):\n",
        "                 for letter in self.string:\n",
        "                     if(letter not in ('a','e','i','o','u', 'A','E','I','O','U')):\n",
        "                         self.consonants+=1\n",
        "\n",
        "    def compute_stat(self):\n",
        "                 self.count_uppercase()\n",
        "                 self.count_lowercase()\n",
        "                 self.count_vowels()\n",
        "                 self.count_spaces()\n",
        "                 self.count_consonants()\n",
        "\n",
        "    def show_stat(self):\n",
        "                 print('Vowels : %d' %self.vowels)\n",
        "                 print('Consonants : %d' %self.consonants)\n",
        "                 print('spaces : %d' %self.spaces)\n",
        "                 print('Uppercase : %d' %self.uppercase)\n",
        "                 print('Vowels : %d' %self.lowercase)\n",
        "                 \n",
        "                 \n",
        "\n",
        "s = String()\n",
        "s.compute_stat()\n",
        "s.show_stat()    \n"
      ],
      "execution_count": 0,
      "outputs": []
    },
    {
      "cell_type": "markdown",
      "metadata": {
        "id": "WALYgD9QUaBh",
        "colab_type": "text"
      },
      "source": [
        " write a program that uses datetime module within a class.  Enter manufacturing date and expiry date of the product.\n",
        " The program must display the years, months and days that are left for expiry.\n"
      ]
    },
    {
      "cell_type": "code",
      "metadata": {
        "id": "CoompQ5KXBfv",
        "colab_type": "code",
        "colab": {}
      },
      "source": [
        "import datetime\n",
        "class Product:\n",
        "    def __init__(self):\n",
        "        self.manu = datetime.datetime.strptime(input(\"Enter manufacture date (mm/dd/yyyy):\"), '%m/%d/%y')\n",
        "\n",
        "    def time_to_expire(self):\n",
        "        today = datetime.datetime.now()\n",
        "        if(today > self.expiry):\n",
        "            print('Product has already expired.')\n",
        "        else:\n",
        "            time_left = self.expiry.date() - datetime.datetime.now().date()\n",
        "            print('Time left: ', time_left)\n",
        "\n",
        "    def show(self):\n",
        "        print('Expiry : ',self.expiry)\n",
        "        print('Manufacturing : ', self.manu)\n",
        "\n",
        "x = Product()\n",
        "x.time_to_expire()\n"
      ],
      "execution_count": 0,
      "outputs": []
    },
    {
      "cell_type": "markdown",
      "metadata": {
        "id": "-dbj828XXHau",
        "colab_type": "text"
      },
      "source": [
        "write a program to deposit or withdraw money in a bank account."
      ]
    },
    {
      "cell_type": "code",
      "metadata": {
        "id": "5ulah96sXQRj",
        "colab_type": "code",
        "colab": {}
      },
      "source": [
        "class Account:\n",
        "    def __init__(self):\n",
        "        self.balance = 0\n",
        "        print('New Account Created.')\n",
        "\n",
        "    def deposit(self):\n",
        "        amount = float(input('Enter amount to deposit:  '))\n",
        "        self.balance+=amount\n",
        "        print('New Balance : %f' %self.balance)\n",
        "\n",
        "    def withdraw(self):\n",
        "        amount = float(input('Enter amount to withdraw:' ))\n",
        "        if (amount > self.balance):\n",
        "            print('Insufficient balance')\n",
        "\n",
        "        else:\n",
        "            self.balance-=amount\n",
        "            print('New Balance : %f' %self.balance)\n",
        "\n",
        "    def enquiry(self):\n",
        "        print('New Balance : %f'  %self.balance)\n",
        "\n",
        "account = Account()\n",
        "account.deposit()\n",
        "account.withdraw()\n",
        "account.enquiry()\n"
      ],
      "execution_count": 0,
      "outputs": []
    },
    {
      "cell_type": "markdown",
      "metadata": {
        "id": "x9PFWHodXdrr",
        "colab_type": "text"
      },
      "source": [
        "write a menu driven program that keeps record of books and journals available in a library."
      ]
    },
    {
      "cell_type": "code",
      "metadata": {
        "id": "CFU1vhgxXfd5",
        "colab_type": "code",
        "colab": {}
      },
      "source": [
        "class Book:\n",
        "    def __init__(self):\n",
        "        self.title = \" \"\n",
        "        self.author = \" \"\n",
        "        self.price = 0\n",
        "\n",
        "    def read(self):\n",
        "        self.title = input(\"Enter Book Title: \")\n",
        "        self.author = input(\"Enter Book Author: \")\n",
        "        self.price = float(input(\"Enter Book Price: \"))\n",
        "\n",
        "    def display(self):\n",
        "        print(\" Title : \", self.title)\n",
        "        print(\" Author : \", self.author)\n",
        "        print(\" Price : \", self.price)\n",
        "        print(\"\\n\")\n",
        "\n",
        "my_books = []\n",
        "ch = 'y'\n",
        "while (ch=='y'):\n",
        "    print(''' 1. Add New Book 2. Display Books ''')\n",
        "    choice = int(input(\"Enter choice : \"))\n",
        "    if (choice ==1):\n",
        "        book = Book()\n",
        "        book.read()\n",
        "        my_books.append(book)\n",
        "        \n",
        "    elif (choice ==2):\n",
        "        for i in my_books:\n",
        "            i.display()\n",
        "\n",
        "    else:\n",
        "        print(\"Invalid Choice\")\n",
        "\n",
        "ch = input(\"Do you want to continue...\")\n",
        "print(\"Bye!\")\n"
      ],
      "execution_count": 0,
      "outputs": []
    },
    {
      "cell_type": "markdown",
      "metadata": {
        "id": "_iQ3txrLXz4r",
        "colab_type": "text"
      },
      "source": [
        " Programming Tip : The ideal way is to define the classes in a separate file, and then import them in the main program file using import statement. \n",
        "\n",
        "**CLASS METHODS**:\n",
        "\n",
        "The methods defined in a class are called by an instance of a class.  These methods automatically take self as the first argument.\n",
        "Class methods are little different from these ordinary methods.  First, they are called by a class ( not by an instance of a class)\n",
        "Second the first argument of the class method is cls, not the self.\n",
        "\n",
        "class methods are videly used for factory methods, which instantiate an instance of a class, using different parameters from those usually passed to the class constructor.\n",
        "The program code given in the following example illustrates this concept.\n",
        "\n",
        "Note : Class methods are marked with a classmethod decorator.\n",
        "\n"
      ]
    },
    {
      "cell_type": "code",
      "metadata": {
        "id": "XeGrBzBkYBh_",
        "colab_type": "code",
        "colab": {
          "base_uri": "https://localhost:8080/",
          "height": 34
        },
        "outputId": "0fd5b374-e276-4cf1-ffbc-2fb398ca8c19"
      },
      "source": [
        "class Rectangle:\n",
        "    def __init__(self,length,breadth):\n",
        "        self.length = length\n",
        "        self.breadth = breadth\n",
        "\n",
        "    def area(self):\n",
        "        return self.length * self.breadth\n",
        "\n",
        "    @classmethod\n",
        "    def Square(cls,side):\n",
        "        return cls(side,side)\n",
        "\n",
        "S = Rectangle.Square(10)\n",
        "print(\"AREA = \", S.area())\n"
      ],
      "execution_count": 26,
      "outputs": [
        {
          "output_type": "stream",
          "text": [
            "AREA =  100\n"
          ],
          "name": "stdout"
        }
      ]
    },
    {
      "cell_type": "markdown",
      "metadata": {
        "id": "wlz632bCYKKL",
        "colab_type": "text"
      },
      "source": [
        " Static Method :\n",
        "\n",
        "Static methods are a special case of methods.  Any functionality that belongs to a class, but that does not require the object is\n",
        "placed in the static method.  Static method are similar to the class methods.  The only difference is that a static method does\n",
        " not receive any additional arguments.  They are just like normal functions that belong to a class.\n",
        "\n",
        " A static method does not use the self variable and is defined using a built-in function named staticmethod.\n",
        " Python has a handy syntax, called a decorator, to make it easier to appy the staticmethod function to the\n",
        " method function definition.  The syntax for the using staticmethod decorator is given:\n",
        "\n",
        "@staticmethod\n",
        "def name(args.....):\n",
        "    statements\n",
        "\n",
        "A static method can be called either on the class or on an instance.  When it is called with an instance, then the instance is ignored except for its class.\n",
        "\n",
        " Program to illustrate static method.\n"
      ]
    },
    {
      "cell_type": "code",
      "metadata": {
        "id": "LVYzvwHCYSpW",
        "colab_type": "code",
        "colab": {}
      },
      "source": [
        "class Choice:\n",
        "    def __init__(self, subjects):\n",
        "        self.subjects = subjects\n",
        "        @staticmethod\n",
        "        def validate_subject(subjects):\n",
        "            if \"CSA\" in subjects:\n",
        "                print(\"this option is no longer available.\")\n",
        "            else:\n",
        "                return True\n",
        "subjects = [\"DS\", \"CSA\", \"FOC\", \"OS\", \"TOC\"]\n",
        "if all(Choice.validate_subject(i) for i in subjects):\n",
        "    ch = Choice(subjects)\n",
        "    print(\"You have been allotted the subjects: \", subjects)\n"
      ],
      "execution_count": 0,
      "outputs": []
    },
    {
      "cell_type": "markdown",
      "metadata": {
        "id": "69SUD8URYmAd",
        "colab_type": "text"
      },
      "source": [
        "__new__() Method :  This is a static method which is called to create a new instance of a class cls.  It takes the class of which an instance was requested as its first argument.\n",
        " The remaining arguments are those passed to the object constructor expression ( the call to the class).\n",
        " This method returns the new object instance of cls.\n",
        "\n",
        " The _new_() Method allows subclasses of immutable types (like integer, string or tuple) to customize instance creation.\n",
        " it is also commoly overridden in custom metaclasses in order to customize class creation.\n",
        "\n",
        " The __new__() and __init__() methods together are used for constructing objects.\n",
        "\n",
        "\n",
        "\n",
        " See the output:\n"
      ]
    },
    {
      "cell_type": "code",
      "metadata": {
        "id": "YRHYinpNYn2u",
        "colab_type": "code",
        "colab": {}
      },
      "source": [
        "class Car:\n",
        "    company = \"Maruti\"\n",
        "    def __init__(self,model,year = 2016):\n",
        "        self.model = model\n",
        "        self.year = year\n",
        "    def display(self):\n",
        "        print(\"Company = %s, Model - %s, Year - %d\" %(self.company,self.model,self.year))\n",
        "\n",
        "Dzire = Car('Swift Dzire ZX')\n",
        "Dzire.display()\n",
        "\n",
        "\n",
        "\n",
        "class Car:\n",
        "    def __init__(self,company,model):\n",
        "        self.company = company\n",
        "        self.model = model\n",
        "\n",
        "Dzire = Car('Maruti', 'Swift Dzire ZX')\n",
        "print(Dzire.model)\n",
        "\n",
        "\n",
        "class ABC():\n",
        "    def __init__(self,var):\n",
        "        self.__var = var\n",
        "\n",
        "    def display(self):\n",
        "        print(\"From class method, Var = \", self.__var)\n",
        "obj = ABC(25)\n",
        "obj.display()\n",
        "\n",
        "\n",
        "\n",
        "class Person():\n",
        "    def __init__(self,name):\n",
        "        self.__name = name\n",
        "\n",
        "    def __display(self):\n",
        "        print(\"Good Morning\", self.__name)\n",
        "\n",
        "    def greet(self):\n",
        "        self.__display()\n",
        "obj = Person(\"Roy\")\n",
        "obj.greet()\n",
        "\n",
        "\n",
        "\n",
        "    \n",
        "class ABC:\n",
        "    __var = 7\n",
        "    def display(self):\n",
        "        print(self.__var)\n",
        "a = ABC()\n",
        "a.display()\n",
        "print(a._ABC__var)\n",
        "\n",
        "\n",
        "class Car:\n",
        "    def __init__(self,company,model,mfg_years):\n",
        "        self.company = company\n",
        "        self.model = model\n",
        "        self.mfg_years = 2010\n",
        "\n",
        "Dzire = Car('Maruti', 'Swift Dzire ZX', 2010)\n",
        "print(Dzire.model)\n",
        "print(Dzire.mfg_years)\n",
        "\n",
        "    \n",
        "\n",
        "\n",
        "class Car:\n",
        "    def __init__(self,company, model):\n",
        "        self.company = company\n",
        "        self.model = model\n",
        "\n",
        "    def display(self):\n",
        "        print(\"Company - %s, Model - %s\" %(self.company,self.model))\n",
        "\n",
        "Dzire = Car('Maruti', 'Swift Dzire ZX')\n",
        "del (model)\n",
        "Dzire.display()\n",
        "\n",
        "class ABC():\n",
        "    def __init__(self,var):\n",
        "        self.__var = var\n",
        "\n",
        "    def display(self):\n",
        "        print(\"From class method, Var = \",self.var)\n",
        "obj = ABC(23)\n",
        "obj.display()\n",
        "print(\"From main module, Var = \",_ABC_.__var)\n"
      ],
      "execution_count": 0,
      "outputs": []
    },
    {
      "cell_type": "code",
      "metadata": {
        "id": "mpiUP6X0Y0fj",
        "colab_type": "code",
        "colab": {}
      },
      "source": [
        "class Fridge:\n",
        "    \n",
        "    def __init__(self,items={}):\n",
        "        if type(items) != type({}):\n",
        "            raise TypeError(\"Fridge requires a dicitonary but was given %s\" %type(items))\n",
        "        self.items = items\n",
        "        return\n",
        "\n",
        "    def __add_multi(self,food_name,quantity):\n",
        "        if (not food_name in self.items):\n",
        "            self.items[food_name] = 0\n",
        "        self.items[food_name] = self.items[food_name] + quantity\n",
        "\n",
        "    def add_one(self, food_name):\n",
        "        if type(food_name) != type(\" \"):\n",
        "            raise TypeError, \"add_one requires a string, given a %s\" % type(food_name)\n",
        "        else:\n",
        "            self.__add_multi(food_name,1)\n",
        "            return True\n",
        "        \n",
        "    def add_many(self, food_dict):\n",
        "        if type(food_dict)!= type({}):\n",
        "            raise TypeError(\"add_many requires a dictionary, got a %s\" % food_dict)\n",
        "        for item in food_dict.keys():\n",
        "            self.__add_multi(item, food_dict[item])\n",
        "            return\n",
        "        \n",
        "    def has(self, food_name, quantity=1):\n",
        "        return self.has_various({food_name:quantity})\n",
        "\n",
        "    def has_various(self, foods):\n",
        "        try:\n",
        "            for food in foods.keys():\n",
        "                if self.items[food] < foods[food]:\n",
        "                    return False\n",
        "            return True\n",
        "        except KeyError:\n",
        "            return False\n",
        "\n",
        "    def __get_multi(self, food_name, quantity):\n",
        "        try:\n",
        "            if (self.items[food_name] is None):\n",
        "                return False;\n",
        "            if (quantity > self.items[food_name]):\n",
        "                return False;\n",
        "            self.items[food_name] = self.items[food_name] - quantity\n",
        "        except KeyError:\n",
        "            return False\n",
        "        return quantity\n",
        "\n",
        "    def get_one(self, food_name):\n",
        "        if type(food_name) != type(\" \"):\n",
        "            raise TypeError (\"get_one requires a string, given a %s\" % type(food_name))\n",
        "        else:\n",
        "            result = self.__get_multi (food_name, 1)\n",
        "            return result\n",
        "\n",
        "    def get_many(self, food_dict):\n",
        "        if self.has_various(food_dict):\n",
        "            foods_removed = {}\n",
        "            for item in food_dict.keys():\n",
        "                foods_removed[item] = self.__get_multi(item, food_dict[item])\n",
        "                return foods_removed\n",
        "\n",
        "    def get_ingredients(self,food):\n",
        "        try:\n",
        "            ingredients = self.get_many(food.__ingredients__())\n",
        "        except AttributeError:\n",
        "                return False\n",
        "\n",
        "        if ingredients != False:\n",
        "            return ingredients\n",
        "    \n",
        "        \n",
        "        \n",
        "f = Fridge({\"eggs\" : 6, \"milk\" : 4, \"cheese\":3})\n",
        "f.add_many({\"mushroom\" :5, \"tomato\":3})\n",
        "f.add_one(\"grape\")\n",
        "if f.has(\"cheese\", 2):\n",
        "    print(\"It is time to make an omelet!\")\n",
        "print(f.items)\n",
        "\n",
        "\n",
        "##has(food_name [quantity])\n",
        "##has_various(foods)\n",
        "##add_one(food_name)\n",
        "##add_many(food_dict)\n",
        "##get_one(food_name)\n",
        "##get_many(food_dict)\n",
        "##get_ingredients(food)\n"
      ],
      "execution_count": 0,
      "outputs": []
    },
    {
      "cell_type": "code",
      "metadata": {
        "id": "Uv04pHAFZAFI",
        "colab_type": "code",
        "colab": {}
      },
      "source": [
        ""
      ],
      "execution_count": 0,
      "outputs": []
    },
    {
      "cell_type": "markdown",
      "metadata": {
        "id": "BS_vc16eZGMJ",
        "colab_type": "text"
      },
      "source": [
        "class Omelet:\n",
        "    \"\"\"This class creates an omelet object.  An omelet can be in one of two states: ingredients, or cooked.\n",
        "    An omelet object has the following interfaces:\n",
        "    get_kind()  -- returns a string with the type of omelet\n",
        "    set_kind(kind) -- sets the omelet to be the type named\n",
        "    set_new_kind(kind, ingredients) -- lets you create an omelet\n",
        "    mix() -- gets called after all the ingredient are gathered from the fridge.\n",
        "    cook()  -- cook the omelet\n",
        "    \"\"\"\n"
      ]
    },
    {
      "cell_type": "code",
      "metadata": {
        "id": "X0wghrsHZIF_",
        "colab_type": "code",
        "colab": {}
      },
      "source": [
        "    def __init__(self, kind=\"cheese\"):\n",
        "        #self.set_kind(kind)\n",
        "        #return\n",
        "        \"\"\" __init__(self, kind=\"cheese\")\n",
        "        This initializes the Omelet class to default to a cheese omelet.\n",
        "        Other methods.\n",
        "        \"\"\"\n",
        "          \n",
        "\n",
        "    def __ingredients__(self): # another state\n",
        "        \"\"\" Internal method to be called on by a fridge or other objects that need to act on ingredients. \"\"\"\n",
        "        return self.needed_ingredients\n",
        "\n",
        "    def get_kind(self,kind): # returns a string with the type of omelet.\n",
        "        possible_ingredients = self.__known_kinds(kind)\n",
        "        if possible_ingredients == False:\n",
        "            return False\n",
        "        else:\n",
        "            self.kind = kind\n",
        "            self.needed_ingredients = possible_ingredients\n",
        "\n",
        "    def set_new_kind(self,name,ingredients):\n",
        "        self.kind = name\n",
        "        self.needed_ingredients = ingredients\n",
        "        return\n",
        "\n",
        "    def __known_kinds(self,kind):\n",
        "        if kind == \"cheese\":\n",
        "            return {\"eggs\":2, \"milk\":1, \"cheese\":1}\n",
        "        elif kind == \"mushroom\":\n",
        "            return {\"eggs\":2, \"milk\":1, \"cheese\":1, \"mushroom\" :2}\n",
        "        elif kind == \"onion\":\n",
        "            {\"eggs\":2, \"milk\":1, \"cheese\":1, \"onion\":1}\n",
        "        else:\n",
        "            return False\n",
        "\n",
        "    def get_ingredients(self, fridge):\n",
        "        self.from_fridge = fridge.get_ingredients(self)\n",
        "\n",
        "    def mix(self):\n",
        "        for ingredient in self.from_fridge.keys():\n",
        "            print(\"Mixing %d %s for the %s omelet\" % self.from_fridge[ingredient], ingredient,self.kind)\n",
        "            self.mixed = True\n",
        "\n",
        "    def make(self):\n",
        "        if self.mixed == True:\n",
        "            print(\"Cooking the %s omelet!\" % self.kind)\n",
        "            self.cooked = True\n",
        "            \n",
        "\"\"\" Now you have an Omelet class that can create Omelet objects.  The Omelet class has the same features as the process for making omelets, but using it much easier because\n",
        "everything is combined and the presentation of the Omelet is confined to a few purposefully simpler interfaces. \"\"\"\n",
        "\n",
        "\"\"\"Now that you have two classes, you can make an omelet after loading everything.\"\"\"\n",
        "\n",
        "o = Omelet(\"cheese\")\n",
        "o.get_ingredients(f)\n",
        "o.mix()\n",
        "o.make()\n"
      ],
      "execution_count": 0,
      "outputs": []
    },
    {
      "cell_type": "markdown",
      "metadata": {
        "id": "_2xoSO3MZTRq",
        "colab_type": "text"
      },
      "source": [
        "\n",
        "\n",
        " Getters and setters methods are used in many object oriented programming languages to provide data encapsulation\n",
        " binding data and functions in a single entity.\n",
        "\n",
        " They are also known as mutators methods.\n",
        " while getter method is used for retrieving data,\n",
        " setter method is used to set a new value for the data\n",
        "\n",
        " In OOOP languages, the attributes of a class are made private to hide and protect them from other code.\n",
        "\n",
        " Program that uses get and set functions to retrieve and set a value.\n"
      ]
    },
    {
      "cell_type": "code",
      "metadata": {
        "id": "Dq8qlG1RZhRs",
        "colab_type": "code",
        "colab": {}
      },
      "source": [
        "import sys\n",
        "sys.modules.keys\n",
        "list(sys.modules.keys())\n",
        "for number in range(20):\n",
        "\tprint(\"Number is now %d\" % number)\n",
        "\t\n",
        "for number in range(5,55,4):\n",
        "    print(\"Number from 5 to 55, by four: %d\" % number)\n",
        "    \n"
      ],
      "execution_count": 0,
      "outputs": []
    },
    {
      "cell_type": "markdown",
      "metadata": {
        "id": "hujmIvEVZkWp",
        "colab_type": "text"
      },
      "source": [
        "class Sample:\n",
        "    def __init__(self,val):\n",
        "        self.val = val\n",
        "\n",
        "    def get_val(self):\n",
        "        return self.val\n",
        "\n",
        "    def set_val(self,val):\n",
        "        self.val = val\n",
        "S = Sample(30)\n",
        "S.set_val(20)\n",
        "print(S.get_val())\n"
      ]
    },
    {
      "cell_type": "markdown",
      "metadata": {
        "id": "f4EPZe-XZuU5",
        "colab_type": "text"
      },
      "source": [
        " To support encapsulation in the true sense, Python supports a class with a @property and @setter decorators.\n",
        " The program given below demonstrates the use of these decorators.\n",
        "\n",
        " Program to demonstrate @ property and @setter\n"
      ]
    },
    {
      "cell_type": "code",
      "metadata": {
        "id": "ynhsN1pgZzJB",
        "colab_type": "code",
        "colab": {}
      },
      "source": [
        "class Sample:\n",
        "\n",
        "    def __init__(self,val):\n",
        "        self.val = val\n",
        "\n",
        "    @property\n",
        "\n",
        "    def val(self):\n",
        "        return self.__val\n",
        "    @val.setter\n",
        "\n",
        "    def val(self,val):\n",
        "        self.__val = val\n",
        "S = Sample(30)\n",
        "S.val = 100\n"
      ],
      "execution_count": 0,
      "outputs": []
    },
    {
      "cell_type": "markdown",
      "metadata": {
        "id": "wRVmLxijZ0ys",
        "colab_type": "text"
      },
      "source": [
        "In the aforementioned program, note that a method which is used for getting a value is decorated with @property\n",
        " \n",
        "similarly the method which sets a value of an instance variable -- setter is decorated with @x.setter where x is the name of the function.\n",
        "\n",
        " However, there is another way of doing the same task but without using decorators to define the property.\n",
        "\n",
        " Program for getting and setting value by using getter and setter methods.\n"
      ]
    },
    {
      "cell_type": "code",
      "metadata": {
        "id": "Yih1sQfuaEDB",
        "colab_type": "code",
        "colab": {}
      },
      "source": [
        "class Sample:\n",
        "    def __init__(self,val):\n",
        "        self.__val = val\n",
        "\n",
        "    def __get_val(self):\n",
        "        return self.__val\n",
        "\n",
        "    def __set_val(self,val):\n",
        "        self.__val = val\n",
        "        val = property(__get_val,__set_val)\n",
        "\n",
        "S = Sample()\n",
        "S.val = 300\n",
        "print(S.val)\n"
      ],
      "execution_count": 0,
      "outputs": []
    },
    {
      "cell_type": "markdown",
      "metadata": {
        "id": "ugicJgaRbXj_",
        "colab_type": "text"
      },
      "source": [
        "From the above, we have seen that each attribute has or should have its own property (or getter-setter pair)\n",
        "Let us take another example,\n",
        "  Suppose we created a class Graduate with attributes cs_major and math_major, but later point of time we want to change  this class to have a combined name.\n",
        " for this we can write a method called name which returns the full name using @property decorator which lets  a method behave like an attribute.\n"
      ]
    },
    {
      "cell_type": "code",
      "metadata": {
        "id": "dmJG_feVbsvT",
        "colab_type": "code",
        "colab": {}
      },
      "source": [
        " Program to demonstrate a method behaving like attribute.\n",
        "\n",
        "class Graduate:\n",
        "    def __init(self,cs_major, math_major):\n",
        "        self.__cs_major = cs_major\n",
        "        self.__math_major = math_major\n",
        "    @property\n",
        "\n",
        "    def name(self):\n",
        "        return \"%s %s\" %(self.__cs_major,self.__math_major)\n",
        "S = Graduate()\n",
        "print(S.name)\n",
        "\n",
        " Finally, we have also a decorator deleter for our attribute.  The key role of a deleter is to delete the attribute from our object.\n",
        " However, note that the getter, setter, and deleter methods must all have the same name as shown in the following program.\n",
        "\n",
        "class Sample:\n",
        "    def __init(self,val):\n",
        "        self.val = val\n",
        "        @property\n",
        "        def val(self):\n",
        "            return self.__val\n",
        "        @val.setter\n",
        "\n",
        "        def val(self,val):\n",
        "            self.__val = val\n",
        "            @val.deleter\n",
        "            def val(self):\n",
        "                del self.val\n",
        "\n",
        "S = Sample()\n",
        "S.val = 100\n",
        "print(S.val)\n"
      ],
      "execution_count": 0,
      "outputs": []
    },
    {
      "cell_type": "code",
      "metadata": {
        "id": "5E9wGFyQb1KR",
        "colab_type": "code",
        "colab": {}
      },
      "source": [
        "# Program that implements a class Square having a getter function to return the area of a square.\n",
        "\n",
        "\n",
        "class Square:\n",
        "    def __init(self,side):\n",
        "        self.__side = side\n",
        "    @property\n",
        "\n",
        "    def area(self):\n",
        "        return self.__side * self.__side\n",
        "    \n",
        "S = Square(10)\n",
        "print(S.area) # area is a method which works like an attribute"
      ],
      "execution_count": 0,
      "outputs": []
    }
  ]
}