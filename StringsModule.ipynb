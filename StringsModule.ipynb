{
  "nbformat": 4,
  "nbformat_minor": 0,
  "metadata": {
    "colab": {
      "name": "StringsModule.ipynb",
      "provenance": [],
      "collapsed_sections": [],
      "authorship_tag": "ABX9TyPdBGSjikJ/eRQVqtzjwQni",
      "include_colab_link": true
    },
    "kernelspec": {
      "name": "python3",
      "display_name": "Python 3"
    }
  },
  "cells": [
    {
      "cell_type": "markdown",
      "metadata": {
        "id": "view-in-github",
        "colab_type": "text"
      },
      "source": [
        "<a href=\"https://colab.research.google.com/github/vijendranp/Hello-World/blob/master/StringsModule.ipynb\" target=\"_parent\"><img src=\"https://colab.research.google.com/assets/colab-badge.svg\" alt=\"Open In Colab\"/></a>"
      ]
    },
    {
      "cell_type": "code",
      "metadata": {
        "id": "zjC5uHPhSamc",
        "colab_type": "code",
        "colab": {}
      },
      "source": [
        ""
      ],
      "execution_count": 0,
      "outputs": []
    },
    {
      "cell_type": "markdown",
      "metadata": {
        "id": "2qVyIauF0ivu",
        "colab_type": "text"
      },
      "source": [
        "# STRING MODULE\n",
        "\n",
        "The string module conists of a number of useful constants, classes and functions.  \n",
        "These functions are used to manipulate strings. \n",
        "\n",
        "**String constants : Some constants are defined in the string module are:**\n",
        "\n",
        "\n",
        "\n",
        "string.ascii_letters : combination of ascii_lowercase and ascii_uppercase constants.\n",
        "\n",
        "string.ascii_lowercase: combination of lowercase letters from a-z.\n",
        "\n",
        "string.ascii_uppercase: Refers to all uppercase letters from A-Z.\n",
        "\n",
        "string.digits : Refers to digits from 0-9.\n",
        "\n",
        "string.hexadigits : Refers to hexadecimal digits 0-9,a-f, and A-F\n",
        "\n",
        "string.lowercase : A string that has all the characters that are considered lowercase. \n",
        "\n",
        "string.octdigits : Refers to octal digits 0-7,\n",
        "\n",
        "string.punctuation: String of ASCII characters that are considered to be punctuation characters.\n",
        "\n",
        "string.printable: String of printable characters which includes digits, letters, punctuation and whitespace. \n",
        "\n",
        "string.uppercase : A string that has all the characters that are considered uppercase letters. \n",
        "\n",
        "string.whitespace : A string that has all characters that are considered whitespace like space, tab, linefeed, return, and vertical tab. \n",
        "\n",
        "Program that uses different method (upper,lower,split,join,count, replace and find on string object. \n"
      ]
    },
    {
      "cell_type": "code",
      "metadata": {
        "id": "UbVWvyKpsj6h",
        "colab_type": "code",
        "colab": {
          "base_uri": "https://localhost:8080/",
          "height": 136
        },
        "outputId": "4ecb500a-8a79-4772-ce2d-18ce5e6b0cde"
      },
      "source": [
        "str= \"Welcome to the world of Python\"\n",
        "print(\"Uppercase - \",str.upper())\n",
        "print(\"Lowercase - \",str.lower())\n",
        "print(\"Split - \",str.split())\n",
        "print(\"Join-\",'-'.join(str.split()))\n",
        "print(\"Replace -\",str.replace(\"Python\", \"Java\"))\n",
        "print(\"Count of 0- \",str.count('o'))\n",
        "print(\"Find of- \",str.find(\"of\"))"
      ],
      "execution_count": 1,
      "outputs": [
        {
          "output_type": "stream",
          "text": [
            "Uppercase -  WELCOME TO THE WORLD OF PYTHON\n",
            "Lowercase -  welcome to the world of python\n",
            "Split -  ['Welcome', 'to', 'the', 'world', 'of', 'Python']\n",
            "Join- Welcome-to-the-world-of-Python\n",
            "Replace - Welcome to the world of Java\n",
            "Count of 0-  5\n",
            "Find of-  21\n"
          ],
          "name": "stdout"
        }
      ]
    },
    {
      "cell_type": "code",
      "metadata": {
        "id": "8uc_Dn0RuvWY",
        "colab_type": "code",
        "colab": {
          "base_uri": "https://localhost:8080/",
          "height": 51
        },
        "outputId": "8530f40b-2162-462d-98db-31e86d47d6e6"
      },
      "source": [
        "import string\n",
        "print(type(string.digits))\n",
        "print(type(string.ascii_letters))"
      ],
      "execution_count": 5,
      "outputs": [
        {
          "output_type": "stream",
          "text": [
            "<class 'str'>\n",
            "<class 'str'>\n"
          ],
          "name": "stdout"
        }
      ]
    },
    {
      "cell_type": "markdown",
      "metadata": {
        "id": "duHRw8ywSzct",
        "colab_type": "text"
      },
      "source": [
        "Program to print the docString of an item in the String Module\n"
      ]
    },
    {
      "cell_type": "code",
      "metadata": {
        "id": "LGg2oXTtTA_p",
        "colab_type": "code",
        "outputId": "b6e44f65-4ddb-42d5-a0ef-1de8b8ac3186",
        "colab": {
          "base_uri": "https://localhost:8080/",
          "height": 179
        }
      },
      "source": [
        "import string\n",
        "\n",
        "print(string.__builtins__.__doc__)"
      ],
      "execution_count": 0,
      "outputs": [
        {
          "output_type": "stream",
          "text": [
            "dict() -> new empty dictionary\n",
            "dict(mapping) -> new dictionary initialized from a mapping object's\n",
            "    (key, value) pairs\n",
            "dict(iterable) -> new dictionary initialized as if via:\n",
            "    d = {}\n",
            "    for k, v in iterable:\n",
            "        d[k] = v\n",
            "dict(**kwargs) -> new dictionary initialized with the name=value pairs\n",
            "    in the keyword argument list.  For example:  dict(one=1, two=2)\n"
          ],
          "name": "stdout"
        }
      ]
    },
    {
      "cell_type": "markdown",
      "metadata": {
        "id": "Hdthw1qOTX69",
        "colab_type": "text"
      },
      "source": [
        "Program Using Help\n"
      ]
    },
    {
      "cell_type": "code",
      "metadata": {
        "id": "pJkzLOF5TeHq",
        "colab_type": "code",
        "outputId": "143b9332-8f51-43cb-d3be-ef12607accd1",
        "colab": {
          "base_uri": "https://localhost:8080/",
          "height": 179
        }
      },
      "source": [
        "str  = \"Hello\"\n",
        "print(help(str.isalpha))"
      ],
      "execution_count": 0,
      "outputs": [
        {
          "output_type": "stream",
          "text": [
            "Help on built-in function isalpha:\n",
            "\n",
            "isalpha(...) method of builtins.str instance\n",
            "    S.isalpha() -> bool\n",
            "    \n",
            "    Return True if all characters in S are alphabetic\n",
            "    and there is at least one character in S, False otherwise.\n",
            "\n",
            "None\n"
          ],
          "name": "stdout"
        }
      ]
    },
    {
      "cell_type": "markdown",
      "metadata": {
        "id": "NESKJgxjTqHH",
        "colab_type": "text"
      },
      "source": [
        "*Working with constants in the String Module*\n",
        "\n",
        "You can use the constants defined the String Module along with the find() function to classify characters.  For example, if find(lowercase, ch) returns a value except -1, then it means that ch must be a lowercase character.  An alternate way to do the same job is to use the in operator or even the comparison operation. "
      ]
    },
    {
      "cell_type": "code",
      "metadata": {
        "id": "IEMsVLZeUZ5B",
        "colab_type": "code",
        "outputId": "0e727e4a-fc13-4c96-c0a1-f5a1364ddc77",
        "colab": {
          "base_uri": "https://localhost:8080/",
          "height": 35
        }
      },
      "source": [
        "import string\n",
        "\n",
        "ch = 'g'\n",
        "print('a' <=ch <= 'z')"
      ],
      "execution_count": 0,
      "outputs": [
        {
          "output_type": "stream",
          "text": [
            "True\n"
          ],
          "name": "stdout"
        }
      ]
    },
    {
      "cell_type": "markdown",
      "metadata": {
        "id": "knAPFNa0Vgkt",
        "colab_type": "text"
      },
      "source": [
        "**Type() shows the type of an object and the dir() shows the available methods.\n",
        "\n",
        "Another useful constant defined in the String Module is whitespace.  When you write, print(string, whitespace) then all the characters that moves the cursor ahead  without printing anything are displayed.\n",
        "\n",
        "You can even use the dir() with a string object or a string variable**"
      ]
    },
    {
      "cell_type": "code",
      "metadata": {
        "id": "moBIHH4QWEUs",
        "colab_type": "code",
        "outputId": "c22928ba-fcbb-499b-ae6e-a67ab5e131e4",
        "colab": {
          "base_uri": "https://localhost:8080/",
          "height": 55
        }
      },
      "source": [
        "str=\"Hello\"\n",
        "print(dir(str))"
      ],
      "execution_count": 0,
      "outputs": [
        {
          "output_type": "stream",
          "text": [
            "['__add__', '__class__', '__contains__', '__delattr__', '__dir__', '__doc__', '__eq__', '__format__', '__ge__', '__getattribute__', '__getitem__', '__getnewargs__', '__gt__', '__hash__', '__init__', '__init_subclass__', '__iter__', '__le__', '__len__', '__lt__', '__mod__', '__mul__', '__ne__', '__new__', '__reduce__', '__reduce_ex__', '__repr__', '__rmod__', '__rmul__', '__setattr__', '__sizeof__', '__str__', '__subclasshook__', 'capitalize', 'casefold', 'center', 'count', 'encode', 'endswith', 'expandtabs', 'find', 'format', 'format_map', 'index', 'isalnum', 'isalpha', 'isdecimal', 'isdigit', 'isidentifier', 'islower', 'isnumeric', 'isprintable', 'isspace', 'istitle', 'isupper', 'join', 'ljust', 'lower', 'lstrip', 'maketrans', 'partition', 'replace', 'rfind', 'rindex', 'rjust', 'rpartition', 'rsplit', 'rstrip', 'split', 'splitlines', 'startswith', 'strip', 'swapcase', 'title', 'translate', 'upper', 'zfill']\n"
          ],
          "name": "stdout"
        }
      ]
    },
    {
      "cell_type": "code",
      "metadata": {
        "id": "zSYjv-MwWS1o",
        "colab_type": "code",
        "colab": {}
      },
      "source": [
        ""
      ],
      "execution_count": 0,
      "outputs": []
    },
    {
      "cell_type": "markdown",
      "metadata": {
        "id": "YdtQCXFCWYI5",
        "colab_type": "text"
      },
      "source": [
        "*Copying and Pasting Strings with Pyperclip Module.*\n",
        "\n",
        "The Pyperclip module in python has copy() and paste() functions that can send text to and receive text from the computer clipboard.  copying the output of your program to the clipboard makes it easy to paste it to an email word processor, or some other software. "
      ]
    },
    {
      "cell_type": "code",
      "metadata": {
        "id": "RZs3kUjpW2CS",
        "colab_type": "code",
        "colab": {}
      },
      "source": [
        "import pyperclip\n",
        "pyperclip.copy('Welcome to the world of Python!!!')\n",
        "pyperclip.paste()"
      ],
      "execution_count": 0,
      "outputs": []
    },
    {
      "cell_type": "markdown",
      "metadata": {
        "id": "cpWq-iPzXwQe",
        "colab_type": "text"
      },
      "source": [
        "**REGULAR EXPRESSION**\n",
        "\n",
        "Regular Expressions are powerful tools for various kinds of string manipulation.  These are basically a special text string that is used for describing a search pattern to extract information from text such as code, files, spreadsheets or even documents. \n",
        "\n",
        "RE are domain specific langage(DSL) that is present as a library in most of the modern programming languages, besides python. \n",
        "\n",
        "A regular expression is a special sequence of characters that helps to match or find strings in another strings.  \n",
        "\n",
        "In python Regular Expressions can be accessed using the re module, which comes as a part of standard library. \n",
        "\n",
        "\n",
        "**The Match function() ** \n",
        "The function matches a pattern to a string with optional flags.  The syntax of the match() function is, \n",
        "\n",
        "re.match(pattern,string,flags=0)\n",
        "\n",
        "The function tries to match the pattern which specifies the regular expression to be matched with a string ( that will be searched for the pattern at the beginning of the string).\n",
        "\n",
        "The flag field is optional.  some values of the flags are specified below, to specify more than one flag you can use the bitwise OR operator as in re.I | re.M.  If the re.match() function finds a match, it returns the match object and None otherwise.   \n",
        "\n",
        "\n",
        "Flag        Description\n",
        "re.|        Case sensitive matching\n",
        "re.M      Matches  at the end of line\n",
        "re.X    Ignores whitespace characters\n",
        "re.U  Iterprets letters according to    Unicode character set.\n",
        "\n",
        "Program to demonstrate the use of match() function. "
      ]
    },
    {
      "cell_type": "code",
      "metadata": {
        "id": "CaMShRJPaVkA",
        "colab_type": "code",
        "outputId": "957f70fa-910a-494c-a3ba-082b3ddac406",
        "colab": {
          "base_uri": "https://localhost:8080/",
          "height": 53
        }
      },
      "source": [
        "import re\n",
        "string = \"She sells sea shells on the sea shore\"\n",
        "pattern1 = \"sells\"\n",
        "if re.match(pattern1, string):\n",
        "  print(\"Match Found\")\n",
        "else:\n",
        "  print(pattern1, \"is not present in string\")\n",
        "pattern2 = \"She\"\n",
        "if re.match(pattern2,string):\n",
        "  print(\"Match Found\")\n",
        "else:\n",
        "  print(pattern2, \"is not present in string\")"
      ],
      "execution_count": 0,
      "outputs": [
        {
          "output_type": "stream",
          "text": [
            "sells is not present in string\n",
            "Match Found\n"
          ],
          "name": "stdout"
        }
      ]
    },
    {
      "cell_type": "markdown",
      "metadata": {
        "id": "zgNgTDsceGy6",
        "colab_type": "text"
      },
      "source": [
        "In the above program sells is present in the string but still we got the output as match not found. \n",
        "\n",
        "This is because the re.match() function wasdone only at the beginning of the string.  Since the word 'sells' is present in the middle of the string, hence the result. \n",
        "\n",
        "**Note : On success, match() function returns an object representing the match, else returns none.**\n",
        "\n",
        "\n",
        "\n",
        "* While using regular expression always use raw string*\n",
        "**The search() Function: **\n",
        "The search in the re module that searches for the pattern anywhere in the string.  \n",
        "\n",
        "The syntax of the search() function can be given as \n",
        "\n",
        "re.search(pattern, string, flags=0)\n",
        "\n",
        "The syntax is similar to the match() function.  The function searches for the first occurence of pattern within a string with optional flags.  if the search is successful,  a match  object is returned none otherwise.  \n",
        "\n",
        "Program to demonstrate the use of search() function.\n"
      ]
    },
    {
      "cell_type": "code",
      "metadata": {
        "id": "SbxpTmaRfsRC",
        "colab_type": "code",
        "outputId": "f5a32226-8969-4f96-8977-ce14d4114bff",
        "colab": {
          "base_uri": "https://localhost:8080/",
          "height": 35
        }
      },
      "source": [
        "import re\n",
        "string = \"She sells sea shells on the sea shore\"\n",
        "pattern = \"shells\"\n",
        "if re.search(pattern,string):\n",
        "  print(\"Match  Found\")\n",
        "else:\n",
        "  print(pattern, \"is not present in the string\")"
      ],
      "execution_count": 0,
      "outputs": [
        {
          "output_type": "stream",
          "text": [
            "Match  Found\n"
          ],
          "name": "stdout"
        }
      ]
    },
    {
      "cell_type": "markdown",
      "metadata": {
        "id": "oNkqQVtugLLk",
        "colab_type": "text"
      },
      "source": [
        "# The sub() Function\n",
        "The sub() function in the re module can be used to search a pattern in the string and replace it with another pattern.  The syntax of the sub() function can be given as \n",
        "\n",
        "re.sub(pattern, repl, string, max=0)\n",
        "\n",
        "According to the syntax, the sub() function replaces all occurences of the pattern in string with repl,  substituting all occurences unless any max value is provided.\n",
        "\n",
        "Program to demonstrate the use of sub() function."
      ]
    },
    {
      "cell_type": "code",
      "metadata": {
        "id": "7vktxJ1Kgu1O",
        "colab_type": "code",
        "outputId": "579908c8-1d08-483b-eaf1-27ece9d82019",
        "colab": {
          "base_uri": "https://localhost:8080/",
          "height": 35
        }
      },
      "source": [
        "import re\n",
        "string = \" She sells sea shells on the sea shore\"\n",
        "pattern =\"sea\"\n",
        "repl =\"ocean\"\n",
        "new_string = re.sub(pattern,repl,string,1)\n",
        "print(new_string)"
      ],
      "execution_count": 0,
      "outputs": [
        {
          "output_type": "stream",
          "text": [
            " She sells ocean shells on the sea shore\n"
          ],
          "name": "stdout"
        }
      ]
    },
    {
      "cell_type": "markdown",
      "metadata": {
        "id": "lllvp9WthLYY",
        "colab_type": "text"
      },
      "source": [
        "In above program, only one occurenes was replaced and not all because we had provided 1 as the max value. \n",
        "\n",
        "\n",
        "**The findall() and finditer() functions**\n",
        "\n",
        "The findall() function is used to search a string and returns a list of matches of the pattern in the string.  If no match is found then the returned list is empty. \n",
        "\n",
        "The syntax of the match() function can be given as ,\n",
        "\n",
        "matchlist = re.findall(pattern,input_str,flags=0)\n",
        "\n",
        "Program to demonstrate the use of findall() function. "
      ]
    },
    {
      "cell_type": "code",
      "metadata": {
        "id": "YstppVkfh28d",
        "colab_type": "code",
        "outputId": "0f58a43c-b96a-4f0a-fd74-83ed6950727e",
        "colab": {
          "base_uri": "https://localhost:8080/",
          "height": 35
        }
      },
      "source": [
        "import re\n",
        "pattern = r\"[a-zA-Z]+ \\d\"\n",
        "# beging with one or more characters followed by space \n",
        "# and then followed by one or more digits.\n",
        "matches = re.findall(pattern, \"LXI 2013, VXI 2015, VDI 2015, Tesla  Motors in California\")\n",
        "for match in matches:\n",
        "  print(match, end= \" \")"
      ],
      "execution_count": 0,
      "outputs": [
        {
          "output_type": "stream",
          "text": [
            "LXI 2 VXI 2 VDI 2 "
          ],
          "name": "stdout"
        }
      ]
    },
    {
      "cell_type": "markdown",
      "metadata": {
        "id": "YlAFbuFziy6V",
        "colab_type": "text"
      },
      "source": [
        "Program to demonstrate the use of finditer() function \n",
        "\n",
        "import re\n",
        "pattern = r\"[a-zA-Z]+ \\d+\"\n",
        "matches = re.finditer(pattern,\"LXI 2013,  VXI 2015, VDI 20104, Tesla  Motor cars available with us\")\n",
        "for match in matches:\n",
        "print(\"Match Found at starting index : \", match.start())\n",
        "print(\"Match Found at ending index :\", match.end())\n",
        "print(\"Match Found at starting and ending index :\", match.span())\n",
        "\n",
        "\n",
        "\n"
      ]
    },
    {
      "cell_type": "code",
      "metadata": {
        "id": "rjTcj785kcvU",
        "colab_type": "code",
        "colab": {}
      },
      "source": [
        "import re\n",
        "pattern = r\"[a-zA-Z]+  \\d+\"\n",
        "matches = re.finditer(pattern,\" LXI 2013, VXI 2015, VDI 20104 Tesla Motor Cars available with us \")\n",
        "for match in matches:\n",
        "  print(\"Match found at starting index: \",match.start())\n",
        "  print(\"Match found at ending inded : \",match.end())\n",
        "  print(\"Match found at starting and ending index : \",match.span())"
      ],
      "execution_count": 0,
      "outputs": []
    },
    {
      "cell_type": "markdown",
      "metadata": {
        "id": "oQXPYkpCl0YZ",
        "colab_type": "text"
      },
      "source": [
        "Note **that** the start() function returns the starting index  of the first  match in the given string.  Similarly, we have end() function which returns the ending index of the first match.  Another method span() returns the starting and ending index of the first match  as a tuple.  \n",
        "\n",
        "**The match object returned by search(), match() and findall() function have start() and end() methods, that returns the starting and ending index of the first match. **\n",
        "\n",
        "\n",
        "Flag Options:\n",
        "\n",
        "The search(), findall() and match() function ofthe module takes options to modify the behaviour ofthe pattern match.  Some of the flags are : \n",
        "\n",
        "re.I or re.IGNORECARE -  Ignore case of characters, so \"Match\", \"MATCH\", mAtCH, etc are all same  \n",
        "\n",
        "re.S or re.DOTALL -  Enables dot(.) to match newline character.  By default, dot matches any character other than the newline character. \n",
        "\n",
        "re.M or re.MULTILINE -- Makes the ^ and $ to match the start andend of each line.  That is, it matches even after and before line breaks the string.  By default, ^ and $ matches  the start and end of the whole string. \n",
        "\n",
        "re.L or re.LOCALE -  Makes the flag \\w to match  all characters that are considered letters in the given current locale settings.  \n",
        "\n",
        "re.U or re.UNICODE -- Treats all letters from all scripts as word characters. \n",
        "\n",
        "\n",
        "**METACHARACTERS IN REGULAR EXPRESSION**\n",
        "\n",
        "Metacharacters make regular expression more powerful than normal string method.  They allow to create regular expression to represent concepts like \"one or more repetition of a vowel\". \n",
        "\n",
        "Python allows users to specify metacharacters (like +,?,.,*,^,$,(),[],{},|,\\ in regular expressions.  \n",
        "\n",
        "\n",
        "Metacharacter       Description \n",
        "^             Matches begin of line.\n",
        "$       Matches end of the line. \n",
        "'      Matches any single character \n",
        "[...] Matches any single character in brackets.\n",
        "[^...] Matches any single character not in brackets.\n",
        "re* Matches 0 or more occurences of regular expressions. \n",
        "\n",
        "re+ Matches 1 or more occurences of regular expression.\n",
        "\n",
        "re? Matches 0 or 1 occurences of regular expression.\n",
        "\n",
        "re{n}  Matches exactly n number of occurences of regular expression.\n",
        "\n",
        "re{n.}  Matches n or more occurences of regular expression.\n",
        "\n",
        "re{n,m}  matches at least n and at most m occurences of re. \n",
        "\n",
        "a|b   Matches either a or b \n",
        "\n",
        "\\w    Matches word characters. \n",
        "\n",
        "\\W   Matches non-word characters\n",
        "\n",
        "\\s   Matches whitespace, equivalent to [\\t\\n\\r\\f]\n",
        "\n",
        "\\S   Matches non-whitespace\n",
        "      equivalent to [^\\t\\n\\r\\f]\n",
        "\n",
        "\\d{n}  matches exactly n digits.\n",
        "\n",
        "\\d{n,} Matches n or more digits. \n",
        "\n",
        "\\d{n,m}  Matches n and at most m digits\n",
        "\n",
        "\\D   Matches non digits (\\D+\\d)\n",
        "\n",
        "\\A  Matches beginning of the string. \\AHi\n",
        "\n",
        "\\Z  Matches end of the string.  Hi\\Z\n",
        "\n",
        "\\G   Matches point where last matach finished. \n",
        "\n",
        "\\b   Matches word boundaries when outside brackets\n",
        "     Matches backspace when inside brackets. \n",
        "\n",
        "\\B   Matches non-word boundaries.  \\bHi\\B\n",
        "\n",
        "\n",
        "\\n,\\t etc Matches newlines, tabs etc. re.search(r'\\t','123\\t abc')\n",
        "\n",
        "**Tip : Placing a ^ at the start of a character class causes it to match any character other than ones included.**\n",
        "\n",
        "\n",
        "\n",
        "**CHARACTER CLASSES:**\n",
        "\n",
        "To be matched inside square brackets.  For example [aeiou] defines a character class that has a vowel character. \n",
        "\n",
        "\n",
        "**KEYPOINTS TO REMEMBER: \n",
        "\n",
        "\n",
        "*   Other metacharacters like $ and . have no meaning within character classes. Moreover, the Metacharacter ^ has no meaning unless it is the first character in a class. \n",
        "\n",
        "*   Metacharacters like *, +, ?, {, and } specify numbers of repetition.\n",
        "*matches 0 or more occurences of the regular expressions.  \n",
        "\n",
        "Program that checks if the string has at least one vowel. \n",
        "\n",
        "\n",
        "**\n",
        "\n",
        "\n"
      ]
    },
    {
      "cell_type": "code",
      "metadata": {
        "id": "39VjtQwYIiCg",
        "colab_type": "code",
        "outputId": "8acadaa9-250a-4d9c-9ae1-161acf787804",
        "colab": {
          "base_uri": "https://localhost:8080/",
          "height": 34
        }
      },
      "source": [
        "import re\n",
        "pattern= r\"[aeiou]\"\n",
        "if re.search(pattern,\"clue\"):\n",
        "  print(\"Match clue\")\n",
        "if re.search(pattern,\"bcdfg\"):\n",
        "  print(\"Matching bcdfg\")"
      ],
      "execution_count": 0,
      "outputs": [
        {
          "output_type": "stream",
          "text": [
            "Match clue\n"
          ],
          "name": "stdout"
        }
      ]
    },
    {
      "cell_type": "markdown",
      "metadata": {
        "id": "g8rn_YsuJD6-",
        "colab_type": "text"
      },
      "source": [
        "Program to demonstrate the use of metacharacter * \n"
      ]
    },
    {
      "cell_type": "code",
      "metadata": {
        "id": "nP1nzh9vJJ1g",
        "colab_type": "code",
        "outputId": "a1e9afb2-ddb0-4177-bd64-734a4742294a",
        "colab": {
          "base_uri": "https://localhost:8080/",
          "height": 51
        }
      },
      "source": [
        "import re\n",
        "pattern=r\"hi(de)*\"\n",
        "if re.search(pattern,\"hidededede\"):\n",
        "  print(\"Match hidedede\")\n",
        "if re.search(pattern, \"hi\"):\n",
        "  print(\"Match hi\")  # zero or more de match\n",
        "  "
      ],
      "execution_count": 0,
      "outputs": [
        {
          "output_type": "stream",
          "text": [
            "Match hidedede\n",
            "Match hi\n"
          ],
          "name": "stdout"
        }
      ]
    },
    {
      "cell_type": "markdown",
      "metadata": {
        "id": "iu1Wn-HcJnXM",
        "colab_type": "text"
      },
      "source": [
        "*+matches one or more occurences of the regular expression.*"
      ]
    },
    {
      "cell_type": "markdown",
      "metadata": {
        "id": "7yF_lDqLJ5c7",
        "colab_type": "text"
      },
      "source": [
        "Program to demonstrate the use of metacharacters + "
      ]
    },
    {
      "cell_type": "code",
      "metadata": {
        "id": "JRmjzwarKAh_",
        "colab_type": "code",
        "outputId": "81e2419c-b365-4e5b-f6ae-181e0b97f1a3",
        "colab": {
          "base_uri": "https://localhost:8080/",
          "height": 34
        }
      },
      "source": [
        "import re\n",
        "pattern=r\"hi(de)+\"  # the addition character is important over here.\n",
        "if re.search(pattern, \"hidededede\"):\n",
        "  print (\"Match hidededede\")\n",
        "if re.search(pattern, \"hi\"):\n",
        "  print (\"Match hi\")  # at least one de is required for match"
      ],
      "execution_count": 0,
      "outputs": [
        {
          "output_type": "stream",
          "text": [
            "Match hidededede\n"
          ],
          "name": "stdout"
        }
      ]
    },
    {
      "cell_type": "markdown",
      "metadata": {
        "id": "IkX0Uug0Kuiz",
        "colab_type": "text"
      },
      "source": [
        "Program to demonstrate the use of metacharacter? "
      ]
    },
    {
      "cell_type": "code",
      "metadata": {
        "id": "SAWY50ciK0Fm",
        "colab_type": "code",
        "outputId": "c8d998f7-c734-4e8a-ddd3-a466ef501682",
        "colab": {
          "base_uri": "https://localhost:8080/",
          "height": 51
        }
      },
      "source": [
        "import re\n",
        "pattern= r\"hi(de)?\"  #  the question mark character is important \n",
        "if re.search(pattern, \"hidededede\"):\n",
        "  print(\"Match hidededede\")\n",
        "if re.search(pattern, \"hi\"):\n",
        "  print(\"Match hi\") # matches  0 or 1 occurences. "
      ],
      "execution_count": 0,
      "outputs": [
        {
          "output_type": "stream",
          "text": [
            "Match hidededede\n",
            "Match hi\n"
          ],
          "name": "stdout"
        }
      ]
    },
    {
      "cell_type": "markdown",
      "metadata": {
        "id": "tbMxueHZLnFa",
        "colab_type": "text"
      },
      "source": [
        "CURLY BRACES represent the number of repetitions between two numbers.  The regular expression {m,n} means m to n repetition of the expression.  \n",
        "Hence {0,1} is the same as ?, if m is missing, then it is taken to be zero and if n is missing it is taken to be infinity. \n",
        "\n",
        "\n",
        "Program to demonstrate the use of {m,n} regular expression.\n",
        "\n",
        "Programming Tip : metacharacter '+' means {1,}."
      ]
    },
    {
      "cell_type": "code",
      "metadata": {
        "id": "_2Opkr2tMNij",
        "colab_type": "code",
        "outputId": "0301bf72-e12c-4601-d22f-44183fed14c4",
        "colab": {
          "base_uri": "https://localhost:8080/",
          "height": 51
        }
      },
      "source": [
        "import re\n",
        "pattern = r\"2{1,4}$\"\n",
        "if re.match(pattern,\"2\"):\n",
        "  print(\"Match 2\")\n",
        "if re.match(pattern,\"222\"):\n",
        "  print(\"Match 222\")\n",
        "if re.match(pattern, \"22222\"):\n",
        "  print(\"Match 22222\") # does not match because only 4 2's will match"
      ],
      "execution_count": 0,
      "outputs": [
        {
          "output_type": "stream",
          "text": [
            "Match 2\n",
            "Match 222\n"
          ],
          "name": "stdout"
        }
      ]
    },
    {
      "cell_type": "markdown",
      "metadata": {
        "id": "03CvJgCDP438",
        "colab_type": "text"
      },
      "source": [
        "**Additional Examples **\n",
        "*  The patter ^pr.y$ indicates that the string should start with pr, then follow with any single character, and end with y, so that the strinng could be prayer or prying.   \n",
        "*   The multiple ranges pattern = r\"[A-Z}[A-Z][0-9]\" will match all strings with length 3, where first and second characters are any uppercase characters and third is any digit. \n",
        "\n",
        "*   The metacharacter | means either of the two.  For example, \n",
        "pattern r\"(a|e)y\", will match both as prey as well as prying\n",
        "*   The expression match = re.search(r'\\d\\s*\\d', 'ab12  3cd') will be matched\n",
        "\n",
        "*   \\s( whitespace) includes newlines characters.  To match a run of whitespace \n",
        "  that may include a newline character, use \\s*.\n",
        "*   [^abc] means any character except \"a\", \"b\", or \"c\" but [a^bc] means an \"a\", \"b\", \"c\", or a \"^\" \n",
        "\n",
        "\n",
        "**Groups  :  A group is created by surrounding a part of the regular expression with parentheses.  You can even give group as an argument to the metacharacters as * and ?**\n",
        "\n",
        "\n",
        "Program to demonstrate the use of groups. \n",
        "\n",
        "\n",
        "\n",
        "\n",
        "\n"
      ]
    },
    {
      "cell_type": "code",
      "metadata": {
        "id": "0l012x_SUDRk",
        "colab_type": "code",
        "outputId": "7b18f3bc-0ca6-4fc3-87e8-02b014a78357",
        "colab": {
          "base_uri": "https://localhost:8080/",
          "height": 51
        }
      },
      "source": [
        "import re\n",
        "pattern = r\"gr(ea)*t\" # group of ea created\n",
        "if re.match(pattern,\"great\"):\n",
        "  print(\"Match ea\")\n",
        "if re.match(pattern,\"greaeaeaeaeaeaeat\"):\n",
        "  print(\"Match greaeaeaeaeaeaeat\")"
      ],
      "execution_count": 0,
      "outputs": [
        {
          "output_type": "stream",
          "text": [
            "Match ea\n",
            "Match greaeaeaeaeaeaeat\n"
          ],
          "name": "stdout"
        }
      ]
    },
    {
      "cell_type": "markdown",
      "metadata": {
        "id": "i4rqIRFzUyFt",
        "colab_type": "text"
      },
      "source": [
        "Program to demonstrate the use of various group functions.  "
      ]
    },
    {
      "cell_type": "code",
      "metadata": {
        "id": "3NjOfcllU3ya",
        "colab_type": "code",
        "outputId": "aa441d0b-e807-4c55-d77c-5e5d945d422c",
        "colab": {
          "base_uri": "https://localhost:8080/",
          "height": 102
        }
      },
      "source": [
        "import re\n",
        "pattern = r\"Go(od)Go(in)gPy(th)on\"\n",
        "match = re.match(pattern, \"GoodGoingPythongGoodGoingPythonGoodGoingPython\")\n",
        "if match:\n",
        "  print(match.group())\n",
        "  print(match.group(0))\n",
        "  print(match.group(1))\n",
        "  print(match.group(2))\n",
        "  print(match.group())\n"
      ],
      "execution_count": 0,
      "outputs": [
        {
          "output_type": "stream",
          "text": [
            "GoodGoingPython\n",
            "GoodGoingPython\n",
            "od\n",
            "in\n",
            "GoodGoingPython\n"
          ],
          "name": "stdout"
        }
      ]
    },
    {
      "cell_type": "markdown",
      "metadata": {
        "id": "OByb6_XVWuyY",
        "colab_type": "text"
      },
      "source": [
        "**Python allows you to even nest the group**\n",
        "\n",
        "Python supports two useful groups -- named group and non-capturing group.\n",
        "\n",
        "**Named Group** have the format (?P<name>....), where name is the name of the group and ..... is the content.\n",
        "\n",
        "**Non capturing Group** having the format (? :...) are not accessible by the group method, so they can be added to an existing regular expression without breaking the numbering.  \n",
        "\n",
        "\n",
        "Program to demonstrate the use of named and non-capturing groups "
      ]
    },
    {
      "cell_type": "code",
      "metadata": {
        "id": "HxaVTX8fksSC",
        "colab_type": "code",
        "outputId": "2ac4e7df-b346-4367-b50c-9b7195adb68b",
        "colab": {
          "base_uri": "https://localhost:8080/",
          "height": 85
        }
      },
      "source": [
        "import re\n",
        "pattern = r\"Go(?P<FIRST>od)Go(?:in)gPy(th)on\"\n",
        "match = re.match(pattern, \"GoodGoingPythongGoodGoingPythonGoodGoingPython\")\n",
        "if match:\n",
        "  print(match.group(\"FIRST\"))\n",
        "  print(match.group(1))\n",
        "  print(match.group(2))\n",
        "  print(match.group())   # (in) is not accessed by group method.\n"
      ],
      "execution_count": 0,
      "outputs": [
        {
          "output_type": "stream",
          "text": [
            "od\n",
            "od\n",
            "th\n",
            "GoodGoingPython\n"
          ],
          "name": "stdout"
        }
      ]
    },
    {
      "cell_type": "markdown",
      "metadata": {
        "id": "4ZjrL9fGl2Fw",
        "colab_type": "text"
      },
      "source": [
        "Program to demonstrate the use of metacharacters and group"
      ]
    },
    {
      "cell_type": "code",
      "metadata": {
        "id": "NAGjO_N3l6y4",
        "colab_type": "code",
        "outputId": "8f1243fb-c356-42fc-e4a0-7248c8f74404",
        "colab": {
          "base_uri": "https://localhost:8080/",
          "height": 85
        }
      },
      "source": [
        "import re\n",
        "match = re.search(\"([0-9]+).*:(.*)\", \"Phone number : 12345678, DOB: November 27, 2019\")\n",
        "print(match.group())\n",
        "print(match.group(1))\n",
        "print(match.group(2))\n",
        "print(match.group())"
      ],
      "execution_count": 0,
      "outputs": [
        {
          "output_type": "stream",
          "text": [
            "12345678, DOB: November 27, 2019\n",
            "12345678\n",
            " November 27, 2019\n",
            "12345678, DOB: November 27, 2019\n"
          ],
          "name": "stdout"
        }
      ]
    },
    {
      "cell_type": "markdown",
      "metadata": {
        "id": "fsMkupFrmkKx",
        "colab_type": "text"
      },
      "source": [
        "**Application of Regular Expression to Extract Email**\n",
        "\n",
        "We can use the regular expression to extract date, time, email address etc from the text. \n",
        "\n",
        "Email address has an email address has username, which consist of character and may include dots or dashes.  The username is followed by @sign and the domain name. \n",
        "The domain name may include characters, dashees and dots.  \n",
        "\n",
        "Inquiry-customercare@geemail-us.com\n",
        "\n",
        "The regular expression representing the structure of the email address can be given as, \n",
        "\n",
        "Pattern = r\"[\\w.-]+@[\\w.-]+\"\n",
        "where, [\\w.-]+ matches one or more occurences of characters(s) dot, or dash.\n",
        "\n",
        "\n"
      ]
    },
    {
      "cell_type": "code",
      "metadata": {
        "id": "-4gTmeMtoiO9",
        "colab_type": "code",
        "outputId": "9da65989-cbc7-4ce2-d582-fb43f8e3236a",
        "colab": {
          "base_uri": "https://localhost:8080/",
          "height": 34
        }
      },
      "source": [
        "import re\n",
        "pattern = r\"[\\w.-]+@[\\w.-]+\"  # word characters\n",
        "string = \"Please send your comments to Inquiry-customercare@geemail-us.com\"\n",
        "match=re.search(pattern,string)\n",
        "if match:\n",
        "  print(\"Email to :  \", match.group())\n",
        "else:\n",
        "  print(\"No Match\")\n",
        "\n",
        "\n",
        "\n",
        "\n"
      ],
      "execution_count": 0,
      "outputs": [
        {
          "output_type": "stream",
          "text": [
            "Email to :   Inquiry-customercare@geemail-us.com\n"
          ],
          "name": "stdout"
        }
      ]
    },
    {
      "cell_type": "markdown",
      "metadata": {
        "id": "RUCI7gvspIRf",
        "colab_type": "text"
      },
      "source": [
        "**Note : If the string has multiple addresses, use the re.findall() method instead of re.search() to extract all email address.**\n",
        "\n",
        "\n",
        "**Progrma that uses RE to match strings which starts with sequence of digits ( at least one followed by a blank and after this arbitary characters)**"
      ]
    },
    {
      "cell_type": "code",
      "metadata": {
        "id": "IWNr4RITpxad",
        "colab_type": "code",
        "outputId": "68dddf86-7487-499c-b288-f7dddab41795",
        "colab": {
          "base_uri": "https://localhost:8080/",
          "height": 34
        }
      },
      "source": [
        "import re\n",
        "pattern = r\"^[0-9]+ .*\"\n",
        "string = \"98 zyx\"\n",
        "match = re.search(pattern,string)\n",
        "if match:\n",
        "  print(\"Match\")"
      ],
      "execution_count": 0,
      "outputs": [
        {
          "output_type": "stream",
          "text": [
            "Match\n"
          ],
          "name": "stdout"
        }
      ]
    },
    {
      "cell_type": "markdown",
      "metadata": {
        "id": "1mBfEcJqqPo5",
        "colab_type": "text"
      },
      "source": [
        "Write a program to extract each character from a string using a regular expression. "
      ]
    },
    {
      "cell_type": "code",
      "metadata": {
        "id": "TaK95e-jqU1N",
        "colab_type": "code",
        "outputId": "adc5893c-b6c9-4b19-bdb4-ec5e1cb8dd72",
        "colab": {
          "base_uri": "https://localhost:8080/",
          "height": 34
        }
      },
      "source": [
        "import re\n",
        "result= re.findall(r'.','Goodwill Hunting')\n",
        "print(result)"
      ],
      "execution_count": 0,
      "outputs": [
        {
          "output_type": "stream",
          "text": [
            "['G', 'o', 'o', 'd', 'w', 'i', 'l', 'l', ' ', 'H', 'u', 'n', 't', 'i', 'n', 'g']\n"
          ],
          "name": "stdout"
        }
      ]
    },
    {
      "cell_type": "markdown",
      "metadata": {
        "id": "u7l3qBaAqxNN",
        "colab_type": "text"
      },
      "source": [
        "Write a program to extract each word from a string using regular expression. "
      ]
    },
    {
      "cell_type": "code",
      "metadata": {
        "id": "N7pk_3SGq13u",
        "colab_type": "code",
        "outputId": "3767c476-13ea-47eb-fccb-a6084fa40c7d",
        "colab": {
          "base_uri": "https://localhost:8080/",
          "height": 34
        }
      },
      "source": [
        "import re\n",
        "result=re.findall(r'\\w+', 'Ironman Hulk Thor')\n",
        "print(result)"
      ],
      "execution_count": 0,
      "outputs": [
        {
          "output_type": "stream",
          "text": [
            "['Ironman', 'Hulk', 'Thor']\n"
          ],
          "name": "stdout"
        }
      ]
    },
    {
      "cell_type": "markdown",
      "metadata": {
        "id": "E2u88eVarJ32",
        "colab_type": "text"
      },
      "source": [
        "Write a program to find the first word of the string. \n",
        "\n",
        "---\n",
        "\n"
      ]
    },
    {
      "cell_type": "markdown",
      "metadata": {
        "id": "RECdnq0TrjOn",
        "colab_type": "text"
      },
      "source": [
        "Write a program to find the first last of the string."
      ]
    },
    {
      "cell_type": "code",
      "metadata": {
        "id": "YSQHwlWrrmYR",
        "colab_type": "code",
        "outputId": "0829412a-af86-45c5-946c-108b6b8bb680",
        "colab": {
          "base_uri": "https://localhost:8080/",
          "height": 34
        }
      },
      "source": [
        "import re\n",
        "result=re.findall(r'\\w+$', 'Alice in Wonderland')\n",
        "print(result)"
      ],
      "execution_count": 0,
      "outputs": [
        {
          "output_type": "stream",
          "text": [
            "['Wonderland']\n"
          ],
          "name": "stdout"
        }
      ]
    },
    {
      "cell_type": "code",
      "metadata": {
        "id": "FwUzEfPUrNP0",
        "colab_type": "code",
        "outputId": "3d0b3a83-d680-4b1c-e4d6-ac11ebfbb5db",
        "colab": {
          "base_uri": "https://localhost:8080/",
          "height": 34
        }
      },
      "source": [
        "import re\n",
        "result=re.findall(r'^\\w+', 'Lala Lala Land')\n",
        "print(result)"
      ],
      "execution_count": 0,
      "outputs": [
        {
          "output_type": "stream",
          "text": [
            "['Lala']\n"
          ],
          "name": "stdout"
        }
      ]
    },
    {
      "cell_type": "markdown",
      "metadata": {
        "id": "PRG1MasZr-_O",
        "colab_type": "text"
      },
      "source": [
        "Write a program to print the characters in pairs. "
      ]
    },
    {
      "cell_type": "code",
      "metadata": {
        "id": "4pn_yM7UsC_s",
        "colab_type": "code",
        "outputId": "f7914a3f-9d56-4ff1-af39-8114f5a53763",
        "colab": {
          "base_uri": "https://localhost:8080/",
          "height": 34
        }
      },
      "source": [
        "import re\n",
        "result=re.findall(r'\\w\\w', 'The Lion King')\n",
        "print(result)"
      ],
      "execution_count": 0,
      "outputs": [
        {
          "output_type": "stream",
          "text": [
            "['Th', 'Li', 'on', 'Ki', 'ng']\n"
          ],
          "name": "stdout"
        }
      ]
    },
    {
      "cell_type": "markdown",
      "metadata": {
        "id": "I7Oh9NvasZI3",
        "colab_type": "text"
      },
      "source": [
        "Program to print only the first two characters of every word. "
      ]
    },
    {
      "cell_type": "code",
      "metadata": {
        "id": "5egmY-8jsdeO",
        "colab_type": "code",
        "outputId": "3f2faa11-70eb-4968-99f5-5284717c4f54",
        "colab": {
          "base_uri": "https://localhost:8080/",
          "height": 34
        }
      },
      "source": [
        "import re\n",
        "result = re.findall(r'\\b\\w\\w', ' The Dark Knight')\n",
        "print(result)"
      ],
      "execution_count": 0,
      "outputs": [
        {
          "output_type": "stream",
          "text": [
            "['Th', 'Da', 'Kn']\n"
          ],
          "name": "stdout"
        }
      ]
    },
    {
      "cell_type": "markdown",
      "metadata": {
        "id": "Hc6Fh5pKs1ho",
        "colab_type": "text"
      },
      "source": [
        "Program to extract a date from a given string."
      ]
    },
    {
      "cell_type": "code",
      "metadata": {
        "id": "pv4QHEzUs5PJ",
        "colab_type": "code",
        "outputId": "e9891160-30a1-4371-8e7b-8bc34339d48c",
        "colab": {
          "base_uri": "https://localhost:8080/",
          "height": 34
        }
      },
      "source": [
        "import re\n",
        "result = re.findall(r'\\d{2}-\\d{2}-\\d{4}','Hi There, I am Sammy and my Dog anniversary is on 12-10-2019 he will be 10 years old')\n",
        "print(\"Date of Anniversary is : \", result)"
      ],
      "execution_count": 0,
      "outputs": [
        {
          "output_type": "stream",
          "text": [
            "Date of Anniversary is :  ['12-10-2019']\n"
          ],
          "name": "stdout"
        }
      ]
    },
    {
      "cell_type": "markdown",
      "metadata": {
        "id": "C6QGQmZHuPLl",
        "colab_type": "text"
      },
      "source": [
        "Write a program to extract the year from a given string.  \n",
        "\n"
      ]
    },
    {
      "cell_type": "code",
      "metadata": {
        "id": "J9mxyWn-uUd9",
        "colab_type": "code",
        "outputId": "78c55f77-520b-4373-e550-98218b55fdf4",
        "colab": {
          "base_uri": "https://localhost:8080/",
          "height": 34
        }
      },
      "source": [
        "\n",
        "import re\n",
        "result = re.findall(r'\\d{2}-\\d{2}-(\\d{4})','Hi There, I am Sammy and my Dog anniversary is on 12-10-2019 he will be 10 years old')\n",
        "print(\"Date of Anniversary is : \", result)\n",
        "# (\\d{4})  for year"
      ],
      "execution_count": 0,
      "outputs": [
        {
          "output_type": "stream",
          "text": [
            "Date of Anniversary is :  ['2019']\n"
          ],
          "name": "stdout"
        }
      ]
    },
    {
      "cell_type": "markdown",
      "metadata": {
        "id": "4IL_-sIeu5NV",
        "colab_type": "text"
      },
      "source": [
        "Write a program that prints only those words that starts with vowel. "
      ]
    },
    {
      "cell_type": "code",
      "metadata": {
        "id": "ETTGGTrCu_iB",
        "colab_type": "code",
        "outputId": "e7f25930-35c8-4a46-c794-c5a22d13c4e5",
        "colab": {
          "base_uri": "https://localhost:8080/",
          "height": 34
        }
      },
      "source": [
        "import re\n",
        "result = re.findall(r'\\b[aeiouAEIOU]\\w+','Hi there, Welcome to the world of python programming and have an amazing experience')\n",
        "print(result)"
      ],
      "execution_count": 0,
      "outputs": [
        {
          "output_type": "stream",
          "text": [
            "['of', 'and', 'an', 'amazing', 'experience']\n"
          ],
          "name": "stdout"
        }
      ]
    },
    {
      "cell_type": "markdown",
      "metadata": {
        "id": "fRdbbqJCvuTa",
        "colab_type": "text"
      },
      "source": [
        "Write a program that validates a mobile phone number.  The number should start with 7,8, or 9 followed by 9 digits. "
      ]
    },
    {
      "cell_type": "code",
      "metadata": {
        "id": "BvEl4y0Pv4z2",
        "colab_type": "code",
        "outputId": "9c830de2-1814-4503-daae-c48f08e147ce",
        "colab": {
          "base_uri": "https://localhost:8080/",
          "height": 34
        }
      },
      "source": [
        "import re\n",
        "List = ['7838456789','1234567890','9876543210','8901234567','4567890123']\n",
        "for i in List:\n",
        "  result = re.findall(r'[7-9]{1}[0-9]{9}',i)\n",
        "  if result:\n",
        "    print(result, end= \"  \")\n",
        "    "
      ],
      "execution_count": 0,
      "outputs": [
        {
          "output_type": "stream",
          "text": [
            "['7838456789']  ['9876543210']  ['8901234567']  "
          ],
          "name": "stdout"
        }
      ]
    },
    {
      "cell_type": "markdown",
      "metadata": {
        "id": "FbhIFgmIwugk",
        "colab_type": "text"
      },
      "source": [
        "Write a program that replaces ,,,,- from a string with a blank space character."
      ]
    },
    {
      "cell_type": "code",
      "metadata": {
        "id": "qs26P4NHw0l0",
        "colab_type": "code",
        "outputId": "e4722d5a-d64c-4087-bd98-264bcceb1ecf",
        "colab": {
          "base_uri": "https://localhost:8080/",
          "height": 34
        }
      },
      "source": [
        "import re\n",
        "result = re.sub(r'[:,-]',' ','Hello!, I am Adrian Forrester.; I am from Tuscon my birthdate is 06-05-1985 and patriots is my favourite group;')\n",
        "print(result)"
      ],
      "execution_count": 0,
      "outputs": [
        {
          "output_type": "stream",
          "text": [
            "Hello!  I am Adrian Forrester.; I am from Tuscon my birthdate is 06 05 1985 and patriots is my favourite group;\n"
          ],
          "name": "stdout"
        }
      ]
    },
    {
      "cell_type": "markdown",
      "metadata": {
        "id": "haqnokiJx3CE",
        "colab_type": "text"
      },
      "source": [
        "Write a program that uses a regular expression to pluralize the word."
      ]
    },
    {
      "cell_type": "code",
      "metadata": {
        "id": "CqQhCV4Mx8gJ",
        "colab_type": "code",
        "outputId": "09a4db67-0312-4beb-a4c3-44b9a6e8b19b",
        "colab": {
          "base_uri": "https://localhost:8080/",
          "height": 85
        }
      },
      "source": [
        "import re\n",
        "def pluralize(noun):\n",
        "  if re.search('[szx]$', noun):\n",
        "    return re.sub('$','es', noun)\n",
        "  elif re.search('[^aeioudgkprt]h$',noun):\n",
        "    return re.sub('$','es',noun)\n",
        "  elif re.search('[^aeiou]y$',noun):\n",
        "    return re.sub('y$','ies',noun)\n",
        "  else:\n",
        "    return noun + 's'\n",
        "List = [\"bush\",\"fox\",\"toy\",\"cap\"]\n",
        "for i in List:\n",
        "  print(i, '-',pluralize(i))"
      ],
      "execution_count": 0,
      "outputs": [
        {
          "output_type": "stream",
          "text": [
            "bush - bushes\n",
            "fox - foxes\n",
            "toy - toys\n",
            "cap - caps\n"
          ],
          "name": "stdout"
        }
      ]
    },
    {
      "cell_type": "markdown",
      "metadata": {
        "id": "dh0DfF41WovK",
        "colab_type": "text"
      },
      "source": [
        ""
      ]
    },
    {
      "cell_type": "code",
      "metadata": {
        "id": "iYHhk6_AN8bd",
        "colab_type": "code",
        "colab": {}
      },
      "source": [
        "import smtplib\n",
        "\n",
        "Message1 =\"\"\" From: From Person <abc@yahoo.com>\n",
        "To : To Person <xyz@yahoo.com>\n",
        "MIME-Version: 1.0\n",
        "Content-type: text/html\n",
        "Subject : SMTP HTML e-mail test.\n",
        "\n",
        "This is an e-mail message to be sent in HTML format \n",
        "<b> This is HTML message.</b>\n",
        "<h1> This is headline.</h1>\n",
        "\"\"\"\n",
        "\n",
        "try: \n",
        "  smtpObj =smtplib.SMTP('localhost')\n",
        "  smtpObj.sendmail(sender,receivers,Message1)\n",
        "  print (\"Sucessfully sent mail\")\n",
        "except SMTPException:\n",
        "  print(\"Error: unable to send email\")"
      ],
      "execution_count": 0,
      "outputs": []
    }
  ]
}