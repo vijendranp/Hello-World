{
  "nbformat": 4,
  "nbformat_minor": 0,
  "metadata": {
    "colab": {
      "name": "Iterator&Generator.ipynb",
      "provenance": [],
      "collapsed_sections": [],
      "authorship_tag": "ABX9TyO48VphQRdGjQuNr9oEjrBL",
      "include_colab_link": true
    },
    "kernelspec": {
      "name": "python3",
      "display_name": "Python 3"
    }
  },
  "cells": [
    {
      "cell_type": "markdown",
      "metadata": {
        "id": "view-in-github",
        "colab_type": "text"
      },
      "source": [
        "<a href=\"https://colab.research.google.com/github/vijendranp/Hello-World/blob/master/Iterator%26Generator.ipynb\" target=\"_parent\"><img src=\"https://colab.research.google.com/assets/colab-badge.svg\" alt=\"Open In Colab\"/></a>"
      ]
    },
    {
      "cell_type": "code",
      "metadata": {
        "id": "IO6MnONSI-Dq",
        "colab_type": "code",
        "colab": {}
      },
      "source": [
        ""
      ],
      "execution_count": 0,
      "outputs": []
    },
    {
      "cell_type": "markdown",
      "metadata": {
        "id": "nqn272kpJBaB",
        "colab_type": "text"
      },
      "source": [
        "# ITERATOR, iter() AND __next__() \n",
        "\n",
        "In python iterator is an object which allows programmer to traverse through all the elements of a sequence (like string, list or tuple) \n",
        "\n",
        "An iterator object implements two methods iter() and __next__ (). \n",
        "\n",
        "Program that uses iter() to traverse through the elements of a list. "
      ]
    },
    {
      "cell_type": "code",
      "metadata": {
        "id": "GRYrJ7A4JhEn",
        "colab_type": "code",
        "colab": {
          "base_uri": "https://localhost:8080/",
          "height": 300
        },
        "outputId": "c57b9b1b-20a5-4405-8760-4e981299df29"
      },
      "source": [
        "list = [10,20,30,40,50,60]\n",
        "it = iter(list) # this builds an iterator object\n",
        "print(it.__next__()) # prints next available element in the iterator\n",
        "print(it.__next__()) # prints next available element in the iterator\n",
        "print(it.__next__()) # prints next available element in the iterator\n",
        "print(it.__next__()) # prints next available element in the iterator\n",
        "print(it.__next__()) # prints next available element in the iterator\n",
        "print(it.__next__()) # prints next available element in the iterator\n",
        "print(it.__next__()) # prints next available element in the iterator\n"
      ],
      "execution_count": 1,
      "outputs": [
        {
          "output_type": "stream",
          "text": [
            "10\n",
            "20\n",
            "30\n",
            "40\n",
            "50\n",
            "60\n"
          ],
          "name": "stdout"
        },
        {
          "output_type": "error",
          "ename": "StopIteration",
          "evalue": "ignored",
          "traceback": [
            "\u001b[0;31m---------------------------------------------------------------------------\u001b[0m",
            "\u001b[0;31mStopIteration\u001b[0m                             Traceback (most recent call last)",
            "\u001b[0;32m<ipython-input-1-de072bfe689a>\u001b[0m in \u001b[0;36m<module>\u001b[0;34m()\u001b[0m\n\u001b[1;32m      7\u001b[0m \u001b[0mprint\u001b[0m\u001b[0;34m(\u001b[0m\u001b[0mit\u001b[0m\u001b[0;34m.\u001b[0m\u001b[0m__next__\u001b[0m\u001b[0;34m(\u001b[0m\u001b[0;34m)\u001b[0m\u001b[0;34m)\u001b[0m \u001b[0;31m# prints next available element in the iterator\u001b[0m\u001b[0;34m\u001b[0m\u001b[0;34m\u001b[0m\u001b[0m\n\u001b[1;32m      8\u001b[0m \u001b[0mprint\u001b[0m\u001b[0;34m(\u001b[0m\u001b[0mit\u001b[0m\u001b[0;34m.\u001b[0m\u001b[0m__next__\u001b[0m\u001b[0;34m(\u001b[0m\u001b[0;34m)\u001b[0m\u001b[0;34m)\u001b[0m \u001b[0;31m# prints next available element in the iterator\u001b[0m\u001b[0;34m\u001b[0m\u001b[0;34m\u001b[0m\u001b[0m\n\u001b[0;32m----> 9\u001b[0;31m \u001b[0mprint\u001b[0m\u001b[0;34m(\u001b[0m\u001b[0mit\u001b[0m\u001b[0;34m.\u001b[0m\u001b[0m__next__\u001b[0m\u001b[0;34m(\u001b[0m\u001b[0;34m)\u001b[0m\u001b[0;34m)\u001b[0m \u001b[0;31m# prints next available element in the iterator\u001b[0m\u001b[0;34m\u001b[0m\u001b[0;34m\u001b[0m\u001b[0m\n\u001b[0m",
            "\u001b[0;31mStopIteration\u001b[0m: "
          ]
        }
      ]
    },
    {
      "cell_type": "markdown",
      "metadata": {
        "id": "5uCzt5ymKHeZ",
        "colab_type": "text"
      },
      "source": [
        "In the above program, if we exhaust all the elements and still try to access the next elements, a StopIteration exception is generated.  \n",
        "\n",
        "Program to traverse through the elements of a list using iter() and for loop. "
      ]
    },
    {
      "cell_type": "code",
      "metadata": {
        "id": "Hp1hSgzGKWQh",
        "colab_type": "code",
        "colab": {
          "base_uri": "https://localhost:8080/",
          "height": 34
        },
        "outputId": "f94d8ef7-06ef-4218-ee66-80c42ab747b4"
      },
      "source": [
        "list =[9,8,7,6,5,4,3,2]\n",
        "it = iter(list) # this builds an iterator object\n",
        "for i in it:\n",
        "  print(i, end= ' ')\n",
        "  "
      ],
      "execution_count": 2,
      "outputs": [
        {
          "output_type": "stream",
          "text": [
            "9 8 7 6 5 4 3 2 "
          ],
          "name": "stdout"
        }
      ]
    },
    {
      "cell_type": "markdown",
      "metadata": {
        "id": "DUKhDNseKsvl",
        "colab_type": "text"
      },
      "source": [
        "Program to traverse a list using next() "
      ]
    },
    {
      "cell_type": "code",
      "metadata": {
        "id": "yv7s1QB0KyXf",
        "colab_type": "code",
        "colab": {
          "base_uri": "https://localhost:8080/",
          "height": 181
        },
        "outputId": "5b70c78a-76d1-4aa9-e204-ea7131998d35"
      },
      "source": [
        "import sys \n",
        "list = [9,8,7,6,5,4,3,2]\n",
        "it = iter(list) # this builds an iterator object \n",
        "while True:\n",
        "  try:\n",
        "    print(next(it), end=' ')\n",
        "  except StopIteration:\n",
        "    print(\"\\n  All the elements have already been accessed.  No more elements\")\n",
        "    sys.exit()"
      ],
      "execution_count": 3,
      "outputs": [
        {
          "output_type": "stream",
          "text": [
            "9 8 7 6 5 4 3 2 \n",
            "  All the elements have already been accessed.  No more elements\n"
          ],
          "name": "stdout"
        },
        {
          "output_type": "error",
          "ename": "SystemExit",
          "evalue": "ignored",
          "traceback": [
            "An exception has occurred, use %tb to see the full traceback.\n",
            "\u001b[0;31mSystemExit\u001b[0m\n"
          ]
        },
        {
          "output_type": "stream",
          "text": [
            "/usr/local/lib/python3.6/dist-packages/IPython/core/interactiveshell.py:2890: UserWarning: To exit: use 'exit', 'quit', or Ctrl-D.\n",
            "  warn(\"To exit: use 'exit', 'quit', or Ctrl-D.\", stacklevel=1)\n"
          ],
          "name": "stderr"
        }
      ]
    },
    {
      "cell_type": "markdown",
      "metadata": {
        "id": "ueItynx5LhZu",
        "colab_type": "text"
      },
      "source": [
        "# Definitions:\n",
        "\n",
        "Iterable : An object is said to be an iterable if it has __iter__() method defined to return an itrerator object.  \n",
        "\n",
        "Iterator : An object is an iterator if it has both __iter__() and __next__() methods defined.  \n",
        "\n",
        "While the __iter__() will return the iterator object, the __next__() method on the other hand will return the next element in the iteration.  \n",
        "\n",
        "Note : List is an iterable object but not an iterator because it does not implement next().  The code given below illustrates the concept. \n",
        "\n",
        "Program to show that next() is not implemented on a list."
      ]
    },
    {
      "cell_type": "code",
      "metadata": {
        "id": "RaGwKZDZTzI8",
        "colab_type": "code",
        "colab": {}
      },
      "source": [
        "List = [9,8,7,6,5,4,3,2]\n",
        "next(List)"
      ],
      "execution_count": 0,
      "outputs": []
    },
    {
      "cell_type": "code",
      "metadata": {
        "id": "3PwWWaM-UNeU",
        "colab_type": "code",
        "colab": {}
      },
      "source": [
        "Program that creates an iterator that goes up indefinately"
      ],
      "execution_count": 0,
      "outputs": []
    },
    {
      "cell_type": "code",
      "metadata": {
        "id": "wzmWWoSyUTEP",
        "colab_type": "code",
        "colab": {
          "base_uri": "https://localhost:8080/",
          "height": 215
        },
        "outputId": "a9d1119e-1e16-4790-cb28-e7003e1d5f2b"
      },
      "source": [
        "class Counter():\n",
        "  val = 0\n",
        "def __iter__(self):\n",
        "  return self\n",
        "def __next__(self):\n",
        "  val = self.val\n",
        "  self.val += 1\n",
        "  return val\n",
        "c = Counter()\n",
        "while True:\n",
        "  print(next(c))\n",
        "\n"
      ],
      "execution_count": 9,
      "outputs": [
        {
          "output_type": "error",
          "ename": "TypeError",
          "evalue": "ignored",
          "traceback": [
            "\u001b[0;31m---------------------------------------------------------------------------\u001b[0m",
            "\u001b[0;31mTypeError\u001b[0m                                 Traceback (most recent call last)",
            "\u001b[0;32m<ipython-input-9-a0210d47b50c>\u001b[0m in \u001b[0;36m<module>\u001b[0;34m()\u001b[0m\n\u001b[1;32m      9\u001b[0m \u001b[0mc\u001b[0m \u001b[0;34m=\u001b[0m \u001b[0mCounter\u001b[0m\u001b[0;34m(\u001b[0m\u001b[0;34m)\u001b[0m\u001b[0;34m\u001b[0m\u001b[0;34m\u001b[0m\u001b[0m\n\u001b[1;32m     10\u001b[0m \u001b[0;32mwhile\u001b[0m \u001b[0;32mTrue\u001b[0m\u001b[0;34m:\u001b[0m\u001b[0;34m\u001b[0m\u001b[0;34m\u001b[0m\u001b[0m\n\u001b[0;32m---> 11\u001b[0;31m   \u001b[0mprint\u001b[0m\u001b[0;34m(\u001b[0m\u001b[0mnext\u001b[0m\u001b[0;34m(\u001b[0m\u001b[0mc\u001b[0m\u001b[0;34m)\u001b[0m\u001b[0;34m)\u001b[0m\u001b[0;34m\u001b[0m\u001b[0;34m\u001b[0m\u001b[0m\n\u001b[0m\u001b[1;32m     12\u001b[0m \u001b[0;34m\u001b[0m\u001b[0m\n",
            "\u001b[0;31mTypeError\u001b[0m: 'Counter' object is not an iterator"
          ]
        }
      ]
    },
    {
      "cell_type": "markdown",
      "metadata": {
        "id": "K0cEhW22VRSL",
        "colab_type": "text"
      },
      "source": [
        "**Creating own iterators using __iter__() and __next__() methods.**\n",
        "\n",
        "Program that creates an iterator to iterate over a string of letters. \n",
        "\n"
      ]
    },
    {
      "cell_type": "code",
      "metadata": {
        "id": "lHhOoJYPVhAF",
        "colab_type": "code",
        "colab": {
          "base_uri": "https://localhost:8080/",
          "height": 351
        },
        "outputId": "69a71a27-a19f-4a44-894e-65a407caa5df"
      },
      "source": [
        "class Iterator:\n",
        "  def __init__(self,string):\n",
        "    self.string = string\n",
        "    self.index = 0 # initialize an index variable to keep of position \n",
        "  def __iter__(self): # of where we are present in string. \n",
        "    return self \n",
        "  def __next__(self):\n",
        "    if self.index >= len(self.string):\n",
        "      raise StopIteration\n",
        "    string = self.string[self.index]\n",
        "    self.index += 1\n",
        "  it = Iterator('Hello World')\n",
        "  for char in it:\n",
        "    print(char, end=' ')\n",
        "\n",
        "      \n",
        "      \n",
        "# check index against the length of string and raise stopiteration if try to access string behond length.\n",
        "\n"
      ],
      "execution_count": 11,
      "outputs": [
        {
          "output_type": "error",
          "ename": "NameError",
          "evalue": "ignored",
          "traceback": [
            "\u001b[0;31m---------------------------------------------------------------------------\u001b[0m",
            "\u001b[0;31mNameError\u001b[0m                                 Traceback (most recent call last)",
            "\u001b[0;32m<ipython-input-11-68f260f0debc>\u001b[0m in \u001b[0;36m<module>\u001b[0;34m()\u001b[0m\n\u001b[0;32m----> 1\u001b[0;31m \u001b[0;32mclass\u001b[0m \u001b[0mIterator\u001b[0m\u001b[0;34m:\u001b[0m\u001b[0;34m\u001b[0m\u001b[0;34m\u001b[0m\u001b[0m\n\u001b[0m\u001b[1;32m      2\u001b[0m   \u001b[0;32mdef\u001b[0m \u001b[0m__init__\u001b[0m\u001b[0;34m(\u001b[0m\u001b[0mself\u001b[0m\u001b[0;34m,\u001b[0m\u001b[0mstring\u001b[0m\u001b[0;34m)\u001b[0m\u001b[0;34m:\u001b[0m\u001b[0;34m\u001b[0m\u001b[0;34m\u001b[0m\u001b[0m\n\u001b[1;32m      3\u001b[0m     \u001b[0mself\u001b[0m\u001b[0;34m.\u001b[0m\u001b[0mstring\u001b[0m \u001b[0;34m=\u001b[0m \u001b[0mstring\u001b[0m\u001b[0;34m\u001b[0m\u001b[0;34m\u001b[0m\u001b[0m\n\u001b[1;32m      4\u001b[0m     \u001b[0mself\u001b[0m\u001b[0;34m.\u001b[0m\u001b[0mindex\u001b[0m \u001b[0;34m=\u001b[0m \u001b[0;36m0\u001b[0m \u001b[0;31m# initialize an index variable to keep of position\u001b[0m\u001b[0;34m\u001b[0m\u001b[0;34m\u001b[0m\u001b[0m\n\u001b[1;32m      5\u001b[0m   \u001b[0;32mdef\u001b[0m \u001b[0m__iter__\u001b[0m\u001b[0;34m(\u001b[0m\u001b[0mself\u001b[0m\u001b[0;34m)\u001b[0m\u001b[0;34m:\u001b[0m \u001b[0;31m# of where we are present in string.\u001b[0m\u001b[0;34m\u001b[0m\u001b[0;34m\u001b[0m\u001b[0m\n",
            "\u001b[0;32m<ipython-input-11-68f260f0debc>\u001b[0m in \u001b[0;36mIterator\u001b[0;34m()\u001b[0m\n\u001b[1;32m     10\u001b[0m     \u001b[0mstring\u001b[0m \u001b[0;34m=\u001b[0m \u001b[0mself\u001b[0m\u001b[0;34m.\u001b[0m\u001b[0mstring\u001b[0m\u001b[0;34m[\u001b[0m\u001b[0mself\u001b[0m\u001b[0;34m.\u001b[0m\u001b[0mindex\u001b[0m\u001b[0;34m]\u001b[0m\u001b[0;34m\u001b[0m\u001b[0;34m\u001b[0m\u001b[0m\n\u001b[1;32m     11\u001b[0m     \u001b[0mself\u001b[0m\u001b[0;34m.\u001b[0m\u001b[0mindex\u001b[0m \u001b[0;34m+=\u001b[0m \u001b[0;36m1\u001b[0m\u001b[0;34m\u001b[0m\u001b[0;34m\u001b[0m\u001b[0m\n\u001b[0;32m---> 12\u001b[0;31m   \u001b[0mit\u001b[0m \u001b[0;34m=\u001b[0m \u001b[0mIterator\u001b[0m\u001b[0;34m(\u001b[0m\u001b[0;34m'Hello World'\u001b[0m\u001b[0;34m)\u001b[0m\u001b[0;34m\u001b[0m\u001b[0;34m\u001b[0m\u001b[0m\n\u001b[0m\u001b[1;32m     13\u001b[0m   \u001b[0;32mfor\u001b[0m \u001b[0mchar\u001b[0m \u001b[0;32min\u001b[0m \u001b[0mit\u001b[0m\u001b[0;34m:\u001b[0m\u001b[0;34m\u001b[0m\u001b[0;34m\u001b[0m\u001b[0m\n\u001b[1;32m     14\u001b[0m     \u001b[0mprint\u001b[0m\u001b[0;34m(\u001b[0m\u001b[0mchar\u001b[0m\u001b[0;34m,\u001b[0m \u001b[0mend\u001b[0m\u001b[0;34m=\u001b[0m\u001b[0;34m' '\u001b[0m\u001b[0;34m)\u001b[0m\u001b[0;34m\u001b[0m\u001b[0;34m\u001b[0m\u001b[0m\n",
            "\u001b[0;31mNameError\u001b[0m: name 'Iterator' is not defined"
          ]
        }
      ]
    },
    {
      "cell_type": "code",
      "metadata": {
        "id": "v1iU_LorfMRB",
        "colab_type": "code",
        "colab": {
          "base_uri": "https://localhost:8080/",
          "height": 357
        },
        "outputId": "7d60c90b-1bca-4447-ce39-daaadc5c3767"
      },
      "source": [
        "i = 10\n",
        "while i > 0 :\n",
        "  print(\"Lift off in:\")\n",
        "  print(i)\n",
        "  i = i -1\n",
        "\n"
      ],
      "execution_count": 13,
      "outputs": [
        {
          "output_type": "stream",
          "text": [
            "Lift off in:\n",
            "10\n",
            "Lift off in:\n",
            "9\n",
            "Lift off in:\n",
            "8\n",
            "Lift off in:\n",
            "7\n",
            "Lift off in:\n",
            "6\n",
            "Lift off in:\n",
            "5\n",
            "Lift off in:\n",
            "4\n",
            "Lift off in:\n",
            "3\n",
            "Lift off in:\n",
            "2\n",
            "Lift off in:\n",
            "1\n"
          ],
          "name": "stdout"
        }
      ]
    },
    {
      "cell_type": "code",
      "metadata": {
        "id": "HcCs-Wdwgid0",
        "colab_type": "code",
        "colab": {}
      },
      "source": [
        ""
      ],
      "execution_count": 0,
      "outputs": []
    },
    {
      "cell_type": "markdown",
      "metadata": {
        "id": "e34-o8vEgv_I",
        "colab_type": "text"
      },
      "source": [
        "Generating iterators for loops "
      ]
    },
    {
      "cell_type": "code",
      "metadata": {
        "id": "HNrDEbMGgzTd",
        "colab_type": "code",
        "colab": {
          "base_uri": "https://localhost:8080/",
          "height": 34
        },
        "outputId": "a13ca759-ca48-40d4-dd2d-7f7d8f9d4b44"
      },
      "source": [
        "f = range (20,30)\n",
        "print(*f)"
      ],
      "execution_count": 15,
      "outputs": [
        {
          "output_type": "stream",
          "text": [
            "20 21 22 23 24 25 26 27 28 29\n"
          ],
          "name": "stdout"
        }
      ]
    },
    {
      "cell_type": "code",
      "metadata": {
        "id": "yIEbNll9hD69",
        "colab_type": "code",
        "colab": {}
      },
      "source": [
        "xr = range(0,20)\n",
        "dir(xr)"
      ],
      "execution_count": 0,
      "outputs": []
    },
    {
      "cell_type": "markdown",
      "metadata": {
        "id": "Aj5zEKAthw6m",
        "colab_type": "text"
      },
      "source": [
        "Program that creates an iterator to print squares of numbers.  "
      ]
    },
    {
      "cell_type": "code",
      "metadata": {
        "id": "XnZU-5Lbh13b",
        "colab_type": "code",
        "colab": {
          "base_uri": "https://localhost:8080/",
          "height": 34
        },
        "outputId": "98960658-d14f-41e7-83c3-17ffc204a35e"
      },
      "source": [
        "class Square:\n",
        "  def __init__(self):\n",
        "    self.val = 0\n",
        "  def __iter__(self):\n",
        "    return self\n",
        "  def __next__(self):\n",
        "    self.val += 1\n",
        "    return self.val**2\n",
        "Sq = Square()\n",
        "count = 0\n",
        "for num in Sq:\n",
        "  print(num, end='  ')\n",
        "  if count == 10:\n",
        "    break\n",
        "  count+=1\n"
      ],
      "execution_count": 18,
      "outputs": [
        {
          "output_type": "stream",
          "text": [
            "1  4  9  16  25  36  49  64  81  100  121  "
          ],
          "name": "stdout"
        }
      ]
    },
    {
      "cell_type": "markdown",
      "metadata": {
        "id": "2_JCQDGh-KdE",
        "colab_type": "text"
      },
      "source": [
        "Program that generates an iterator to print odd numbers from 1-30"
      ]
    },
    {
      "cell_type": "code",
      "metadata": {
        "id": "L1lLe0K0-QPD",
        "colab_type": "code",
        "colab": {
          "base_uri": "https://localhost:8080/",
          "height": 34
        },
        "outputId": "28e0a1d2-23f0-49cb-f50e-1c75e1824167"
      },
      "source": [
        "class Odd:\n",
        "  def __iter__(self):\n",
        "    self.val =1\n",
        "    return self\n",
        "  def __next__(self):\n",
        "    val = self.val\n",
        "    self.val +=2\n",
        "    return val\n",
        "  \n",
        "o = Odd()\n",
        "for i in o:\n",
        "  print(next(o), end=\"  \")\n",
        "  if o.val ==21:\n",
        "    break\n"
      ],
      "execution_count": 3,
      "outputs": [
        {
          "output_type": "stream",
          "text": [
            "3  7  11  15  19  "
          ],
          "name": "stdout"
        }
      ]
    },
    {
      "cell_type": "markdown",
      "metadata": {
        "id": "EL2QqjXDAa9D",
        "colab_type": "text"
      },
      "source": [
        "**Advantages of Iterator**\n",
        "Implement cleaner code.\n",
        "Iterators can work with infinite sequence.\n",
        "Resources are efficiently used.  \n"
      ]
    },
    {
      "cell_type": "markdown",
      "metadata": {
        "id": "5emC_THiDvEw",
        "colab_type": "text"
      },
      "source": [
        "# GENERATOR\n",
        "\n",
        "A generator is a **function** that produces a sequence of values using yield statement.  \n",
        "when a generator function is called, the generator object is returned without even beginning execution of the function.  \n",
        "\n",
        "When next() method is called for the first time, the function starts executing until the yield statement is encountered that returns the yielded value.  \n",
        "\n",
        "The yield statement keeps a track of last execution. \n",
        "\n",
        "The second time next() is called, it continues from its previous value. \n",
        "\n",
        "**Note** Generators cannot return values, and instead yield results when they are ready.  The __iter__() method is automatically implemented in case of generators. This means generators can be used anywhere an iterator is needed.  \n",
        "\n",
        "A normal function in Python always returns a single value, be it a list, an iteger or some other object.   However, if you want to call a function to yield a series of values, then Generator is helpful. \n",
        "\n",
        "Program to illustrate use of generator: \n"
      ]
    },
    {
      "cell_type": "code",
      "metadata": {
        "id": "ZfCUnuwQFi9m",
        "colab_type": "code",
        "colab": {
          "base_uri": "https://localhost:8080/",
          "height": 153
        },
        "outputId": "bcfbef49-d700-4ac2-9094-3fecf2ee64e1"
      },
      "source": [
        "def Square():\n",
        "  number =2\n",
        "  while True:\n",
        "    yield number\n",
        "    number *= number # number into the number itself 2*2 = 4 = 4*4 =16.........\n",
        "Sq = Square()\n",
        "print(next(Sq))\n",
        "print(next(Sq))\n",
        "print(next(Sq))\n",
        "print(next(Sq))\n",
        "print(next(Sq))\n",
        "print(next(Sq))\n",
        "print(next(Sq))\n",
        "print(next(Sq))\n"
      ],
      "execution_count": 5,
      "outputs": [
        {
          "output_type": "stream",
          "text": [
            "2\n",
            "4\n",
            "16\n",
            "256\n",
            "65536\n",
            "4294967296\n",
            "18446744073709551616\n",
            "340282366920938463463374607431768211456\n"
          ],
          "name": "stdout"
        }
      ]
    },
    {
      "cell_type": "markdown",
      "metadata": {
        "id": "5Ct2k50gGL5U",
        "colab_type": "text"
      },
      "source": [
        "In above program, we have iterated over a generator by using the next method.\n",
        "You can think of yield as the return statement for a generator.  Whenever you call yield, the function stops and saves its state.  The value is then yielded or produced.  \n",
        "When we call next() again, the generator begins where we left off and yields the next value.  Note that if you never call next() again then the state will eventually be lost.  \n",
        "\n",
        "**Program that creates a generator and use a for loop to print elements** "
      ]
    },
    {
      "cell_type": "code",
      "metadata": {
        "id": "1mjQncoCHOd1",
        "colab_type": "code",
        "colab": {
          "base_uri": "https://localhost:8080/",
          "height": 34
        },
        "outputId": "8daf8554-4019-4cfb-8d74-3ec017030e54"
      },
      "source": [
        "def Dint_Msg():\n",
        "  yield \"Hello\"\n",
        "  yield \"World\"\n",
        "gen = Dint_Msg()\n",
        "for i in gen:\n",
        "  print(i,end= '  ')"
      ],
      "execution_count": 6,
      "outputs": [
        {
          "output_type": "stream",
          "text": [
            "Hello  World  "
          ],
          "name": "stdout"
        }
      ]
    },
    {
      "cell_type": "markdown",
      "metadata": {
        "id": "UmKU58uAHqZd",
        "colab_type": "text"
      },
      "source": [
        "In the above code, the for loop handles the StopIteration exception and just breaks out of the loop when the generator is exhausted.\n",
        "\n",
        "**The most important advantage of using a generator is that it can iterate over a large data sets and return them one piece at a time.**\n",
        "\n",
        "This happens when we open a file and return it line-by-line\n",
        "Therefore, when we write:\n",
        "\n",
        "with open(filename) as file:\n",
        "    for line in file:\n",
        "      # process the line. \n",
        "\n",
        "Python turns the file object into a generator and uses it to iterate over its contents.  This allows us to process files that are too large to load into memory.  \n",
        "\n",
        "Generators are useful for any large data set which you need to work with \n",
        "in chunks or on very large data sets because otherwise it will eat out your computers memory.\n",
        "\n",
        "Generator is great for memory efficient data processing.  \n",
        "\n",
        "Program to create a generator that starts counting from 0 and raises an exception when counter equals to 20 "
      ]
    },
    {
      "cell_type": "code",
      "metadata": {
        "id": "mb1SLVEWRdfA",
        "colab_type": "code",
        "colab": {
          "base_uri": "https://localhost:8080/",
          "height": 68
        },
        "outputId": "bbacdfaf-4430-4cbc-a7fb-8895e77ba2c7"
      },
      "source": [
        "def Counter():\n",
        "  val = 0\n",
        "  while True:\n",
        "    yield val\n",
        "    val += 1\n",
        "    if val == 20:\n",
        "      raise StopIteration\n",
        "c = Counter()\n",
        "try:\n",
        "  while True:\n",
        "    print(next(c),end = \" \")\n",
        "except StopIteration:\n",
        "  print(\"OVER\")"
      ],
      "execution_count": 7,
      "outputs": [
        {
          "output_type": "stream",
          "text": [
            "0 1 2 3 4 5 6 7 8 9 10 11 12 13 14 15 16 17 18 19 OVER\n"
          ],
          "name": "stdout"
        },
        {
          "output_type": "stream",
          "text": [
            "/usr/local/lib/python3.6/dist-packages/ipykernel_launcher.py:11: DeprecationWarning: generator 'Counter' raised StopIteration\n",
            "  # This is added back by InteractiveShellApp.init_path()\n"
          ],
          "name": "stderr"
        }
      ]
    },
    {
      "cell_type": "markdown",
      "metadata": {
        "id": "-WlTQjSlSLeQ",
        "colab_type": "text"
      },
      "source": [
        "Program to create a generator to print the Fibonacci numbers. \n"
      ]
    },
    {
      "cell_type": "code",
      "metadata": {
        "id": "SO3EUj2TSSw-",
        "colab_type": "code",
        "colab": {
          "base_uri": "https://localhost:8080/",
          "height": 34
        },
        "outputId": "f086b455-80f0-49de-cf4e-8be15a126c7e"
      },
      "source": [
        "def fib():\n",
        "  a, b = 0, 1\n",
        "  while a < 10 :\n",
        "    yield b\n",
        "    a, b = b, a + b\n",
        "iter = fib()\n",
        "for i in iter:\n",
        "  print(i, end = \"  \")"
      ],
      "execution_count": 8,
      "outputs": [
        {
          "output_type": "stream",
          "text": [
            "1  1  2  3  5  8  13  "
          ],
          "name": "stdout"
        }
      ]
    },
    {
      "cell_type": "markdown",
      "metadata": {
        "id": "TevgDwFES9wt",
        "colab_type": "text"
      },
      "source": [
        "Program to create a generator that reverses a string. "
      ]
    },
    {
      "cell_type": "code",
      "metadata": {
        "id": "_daX4UhuTS4f",
        "colab_type": "code",
        "colab": {
          "base_uri": "https://localhost:8080/",
          "height": 34
        },
        "outputId": "65572c3c-69c8-4da8-dd77-15f4dc22d0a0"
      },
      "source": [
        "def reverse(mes):\n",
        "  length = len(mes)\n",
        "  for i in range(length -1, -1,-1):\n",
        "    yield mes[i]\n",
        "mes = \"HITHERE\"\n",
        "for char in reverse(mes):\n",
        "  print(char, end=\" \")"
      ],
      "execution_count": 9,
      "outputs": [
        {
          "output_type": "stream",
          "text": [
            "E R E H T I H "
          ],
          "name": "stdout"
        }
      ]
    },
    {
      "cell_type": "markdown",
      "metadata": {
        "id": "iRqe51YAT3IJ",
        "colab_type": "text"
      },
      "source": [
        "**Difference between Generator funciton and Normal Function**\n",
        "\n",
        "Generator function has one or more yield statements. \n",
        "When called, it returns an iterator but does not start execution immediately. \n",
        "Methods like __iter__() and next() are implemented automatically to iterate through the items.  \n",
        "\n",
        "After the yield statement the function is paused and the control is transferred to the caller.  \n",
        "\n",
        "Local variables and their states are remembered between successive calls. \n",
        "\n",
        "\n",
        "**Python Generator Expression**\n",
        "\n",
        "While lambda function creates an anonymous function, generator expression on the other hand creats an anonymous generator function.  \n",
        "\n",
        "**The syntax for the generator is similar to the list comprehension, with the two difference that:**\n",
        "\n",
        "**square brackets are replaced with round parentheses.**\n",
        "\n",
        "**list comprehension produces the entire list and generator expression produces one item at a time.**  \n",
        "\n",
        "\n",
        "This means that generators produce item only when asked for, thereby making the code much more memory efficient.\n",
        "\n",
        "Program to illustrate the use of generator expression.  "
      ]
    },
    {
      "cell_type": "code",
      "metadata": {
        "id": "7LtdBCZMVGQf",
        "colab_type": "code",
        "colab": {
          "base_uri": "https://localhost:8080/",
          "height": 232
        },
        "outputId": "1716b24b-d0b1-4443-a2b0-7fae6c803113"
      },
      "source": [
        "List = [9,8,7,6]\n",
        "print([x**2 for x in List]) # list comprehension\n",
        "nList = (x**2 for x in List) # generator expression\n",
        "for i in range(20):\n",
        "  print(next(nList), end= \" \")"
      ],
      "execution_count": 10,
      "outputs": [
        {
          "output_type": "stream",
          "text": [
            "[81, 64, 49, 36]\n",
            "81 64 49 36 "
          ],
          "name": "stdout"
        },
        {
          "output_type": "error",
          "ename": "StopIteration",
          "evalue": "ignored",
          "traceback": [
            "\u001b[0;31m---------------------------------------------------------------------------\u001b[0m",
            "\u001b[0;31mStopIteration\u001b[0m                             Traceback (most recent call last)",
            "\u001b[0;32m<ipython-input-10-c5bef3a143aa>\u001b[0m in \u001b[0;36m<module>\u001b[0;34m()\u001b[0m\n\u001b[1;32m      3\u001b[0m \u001b[0mnList\u001b[0m \u001b[0;34m=\u001b[0m \u001b[0;34m(\u001b[0m\u001b[0mx\u001b[0m\u001b[0;34m**\u001b[0m\u001b[0;36m2\u001b[0m \u001b[0;32mfor\u001b[0m \u001b[0mx\u001b[0m \u001b[0;32min\u001b[0m \u001b[0mList\u001b[0m\u001b[0;34m)\u001b[0m \u001b[0;31m# generator expression\u001b[0m\u001b[0;34m\u001b[0m\u001b[0;34m\u001b[0m\u001b[0m\n\u001b[1;32m      4\u001b[0m \u001b[0;32mfor\u001b[0m \u001b[0mi\u001b[0m \u001b[0;32min\u001b[0m \u001b[0mrange\u001b[0m\u001b[0;34m(\u001b[0m\u001b[0;36m20\u001b[0m\u001b[0;34m)\u001b[0m\u001b[0;34m:\u001b[0m\u001b[0;34m\u001b[0m\u001b[0;34m\u001b[0m\u001b[0m\n\u001b[0;32m----> 5\u001b[0;31m   \u001b[0mprint\u001b[0m\u001b[0;34m(\u001b[0m\u001b[0mnext\u001b[0m\u001b[0;34m(\u001b[0m\u001b[0mnList\u001b[0m\u001b[0;34m)\u001b[0m\u001b[0;34m,\u001b[0m \u001b[0mend\u001b[0m\u001b[0;34m=\u001b[0m \u001b[0;34m\" \"\u001b[0m\u001b[0;34m)\u001b[0m\u001b[0;34m\u001b[0m\u001b[0;34m\u001b[0m\u001b[0m\n\u001b[0m",
            "\u001b[0;31mStopIteration\u001b[0m: "
          ]
        }
      ]
    },
    {
      "cell_type": "code",
      "metadata": {
        "id": "pazxVHRlQUiz",
        "colab_type": "code",
        "colab": {}
      },
      "source": [
        ""
      ],
      "execution_count": 0,
      "outputs": []
    },
    {
      "cell_type": "code",
      "metadata": {
        "id": "CkBHN_W7Fcxs",
        "colab_type": "code",
        "colab": {}
      },
      "source": [
        ""
      ],
      "execution_count": 0,
      "outputs": []
    },
    {
      "cell_type": "code",
      "metadata": {
        "id": "0aEfLyN2h9Zs",
        "colab_type": "code",
        "colab": {}
      },
      "source": [
        ""
      ],
      "execution_count": 0,
      "outputs": []
    }
  ]
}