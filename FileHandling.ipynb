{
  "nbformat": 4,
  "nbformat_minor": 0,
  "metadata": {
    "colab": {
      "name": "FileHandling.ipynb",
      "provenance": [],
      "collapsed_sections": [],
      "authorship_tag": "ABX9TyPRiT6H5d+j5R+p72UDg4sB",
      "include_colab_link": true
    },
    "kernelspec": {
      "name": "python3",
      "display_name": "Python 3"
    }
  },
  "cells": [
    {
      "cell_type": "markdown",
      "metadata": {
        "id": "view-in-github",
        "colab_type": "text"
      },
      "source": [
        "<a href=\"https://colab.research.google.com/github/vijendranp/Hello-World/blob/master/FileHandling.ipynb\" target=\"_parent\"><img src=\"https://colab.research.google.com/assets/colab-badge.svg\" alt=\"Open In Colab\"/></a>"
      ]
    },
    {
      "cell_type": "code",
      "metadata": {
        "id": "eb1uvFICz43K",
        "colab_type": "code",
        "colab": {}
      },
      "source": [
        ""
      ],
      "execution_count": 0,
      "outputs": []
    },
    {
      "cell_type": "markdown",
      "metadata": {
        "id": "kUrw09E70Gi-",
        "colab_type": "text"
      },
      "source": [
        "A file is a collection of data stored on a secondary storage device like hard disk. \n",
        "\n",
        "File path : A file path can be relative or absolute.\n",
        "\n",
        "An absolute file path always contains the root and the complete directory list to specify the exact location of the file.  \n",
        "\n",
        "A relative path is specified relative to the program's current working directory. \n",
        "\n",
        "\n",
        "If you use relative file path from the wrong directory, then either wrong file will be accessed or no file will be accessed if no file of the specified name exists in the given path.  \n",
        "\n",
        "Types of File : \n",
        "ASCII Text File: In python text stream is treated as special file. \n",
        "In text file, each line of  data ends with a new line character. \n",
        "Each file ends with a special character called the end of file line (EOF) marker\n",
        "\n",
        "Binary File : A Binary file is a file which contains any type of data, encoded in binary form for computer storage and processing purposes. The Binary file is also referred to as a character stream.\n",
        "\n",
        "While text files can be processed sequentially, binary files, on the other hand can be processed sequentially or randomly depending on the needs of the applications.  \n",
        "\n",
        "Binary files store data in the internal representation format.  Therefore, an integer value will be stored in binary form as 2 byte value.  The same format is used to store data in memory as well as in file.  Binary file also ends with an EOF marker. \n",
        "\n",
        "In a text file, an integer value 123 will be stored as sequence of three characters- 1,2, and 3.  As each character take 1 byte, therefore, to store the integer value 123, we need 3 bytes.  \n",
        "\n",
        "However, in a binary file, the integer value will be stored in 2 bytes in the binary form. \n",
        "\n",
        "Binary Files are mainly used to store data beyond text such as images, executables etc. \n",
        "\n",
        "**Opening & Closing Files** : Python has many built-in functions and methods to manipulate files. \n",
        "\n",
        "The open() function: \n",
        "Before reading from or writing to a file, you must open it using Python's built in open() function.  This function creates a file object, which will be used to invoke methods associated with it.  \n",
        "\n",
        "The syntax of open() is : \n",
        "\n",
        "fileObj = open(file_name [,access_mode])\n",
        "\n",
        "Here, file_name is a string value that specifies the name of the file that you want to access.  access_mode indicates the mode in which the file has to be opened i.e read, write, append. \n",
        "\n",
        "The File Object Attributes : \n",
        "\n",
        "Once a file is successfully opened, a file object is returned.  \n",
        "Using this object, you can easily access different types of information related to that file.  This information can be obtained by reading values of the specific attributes of the file.  \n",
        "\n",
        "fileObj.closed : Return true if the file is closed and False otherwise. \n",
        "fileObj.mode : Return access mode with which file has been opened. \n",
        "fileObj.name : Returns the name of the file.  \n",
        "\n",
        "\n",
        "Program to open a file and print its attribute values.\n",
        "\n",
        "\n",
        "\n"
      ]
    },
    {
      "cell_type": "code",
      "metadata": {
        "id": "JXIopDQm7f9F",
        "colab_type": "code",
        "colab": {}
      },
      "source": [
        "file = open(\"File1.txt\",\"wb\")\n",
        "print(\"Name of the file: \", file.name)\n",
        "print(\"File is closed.\",file.closed)\n",
        "print(\"File has been opened in \",file.mode, \"mode\")"
      ],
      "execution_count": 0,
      "outputs": []
    },
    {
      "cell_type": "markdown",
      "metadata": {
        "id": "1vb9eBMC8TxE",
        "colab_type": "text"
      },
      "source": [
        "('Name of the file: ', 'D:\\\\R-Python-Java\\\\practice-python\\\\comprehension.py')\n",
        "('File is closed.', False)*italicized text*\n",
        "('File has been opened in ', 'wb', 'mode')"
      ]
    },
    {
      "cell_type": "markdown",
      "metadata": {
        "id": "IioEmNeI8bnm",
        "colab_type": "text"
      },
      "source": [
        "**READING AND WRITING FILES**\n",
        "The read() and write() are used to read data from file and write data to files respectively. \n",
        "\n",
        "write() and writelines() methods.  \n",
        "\n",
        "\n",
        "\n",
        "Program that writes a message in the file, file1.txt\n",
        "\n"
      ]
    },
    {
      "cell_type": "code",
      "metadata": {
        "id": "P3HCiUNM4XLi",
        "colab_type": "code",
        "colab": {}
      },
      "source": [
        "file = open(\"File1.py\",\"w\")\n",
        "file.write(\"Hello All, hope you are enjoying learning this language\")\n",
        "file.close()\n",
        "print(\"Data Written into the file......\")"
      ],
      "execution_count": 0,
      "outputs": []
    },
    {
      "cell_type": "code",
      "metadata": {
        "id": "tkTUjK2K9pMr",
        "colab_type": "code",
        "colab": {}
      },
      "source": [
        "# Program to write to a file using writelines() method. \n",
        "\n",
        "\n",
        "file = open(File1.py\",\"w\")\n",
        "lines = [\"Hello World,\", \"Welcome to the world of Python\", \"Enjoy Learning Python\"] \n",
        "file.writelines(lines)\n",
        "file.close()\n",
        "print(\"Data Written into the file......\")"
      ],
      "execution_count": 0,
      "outputs": []
    },
    {
      "cell_type": "markdown",
      "metadata": {
        "id": "zcmnGa8w_DZa",
        "colab_type": "text"
      },
      "source": [
        "Append Method () :  Once you have stored some data in a file, you can always open that file againn to write more data or append data to it.  \n",
        "\n",
        "To append a file, you must open it using 'a' or 'ab' mode depending on whether it is a text file or a binary file.  "
      ]
    },
    {
      "cell_type": "code",
      "metadata": {
        "id": "hncv9bgMApEx",
        "colab_type": "code",
        "colab": {}
      },
      "source": [
        "file = open(\"File1.py\",\"a\")\n",
        "file.write(\"\\n Python is very simple yet powerful language\")\n",
        "file.close()\n",
        "print(\"Data Written into the file....\")"
      ],
      "execution_count": 0,
      "outputs": []
    },
    {
      "cell_type": "markdown",
      "metadata": {
        "id": "dcrjfivnESNx",
        "colab_type": "text"
      },
      "source": [
        "The read() and readline() methods.  \n",
        "\n",
        "The read() method is used to read a string from an already opened file.  \n",
        "\n",
        "The syntax of the read() is given as \n",
        "\n",
        "fileObj.read([cout])\n",
        "\n",
        "In the above syntax, count is an optional parameter which if passed to the read() method specifies the number of bytes to be read from the opened file.  \n",
        "\n",
        "The read() method starts to reading from the beginning of the file and if count is missing or has a negative value, then it reads the entire contents of the file.\n",
        "\n",
        "Program to print the first 10 characters of the File1.txt"
      ]
    },
    {
      "cell_type": "code",
      "metadata": {
        "id": "dsdRC1GtHGPJ",
        "colab_type": "code",
        "colab": {}
      },
      "source": [
        "file1 = open(\"File1.py\",\"r\")\n",
        "print(\"First Line : \",file1.readline())\n",
        "print(\"Second Line : \",file1.readline())\n",
        "print(\"Third Line : \",file1.readline())\n",
        "file1.close()"
      ],
      "execution_count": 0,
      "outputs": []
    },
    {
      "cell_type": "markdown",
      "metadata": {
        "id": "9b0BjEwQHSJD",
        "colab_type": "text"
      },
      "source": [
        "Program to display the contents of a file1.txt using the list() methods. "
      ]
    },
    {
      "cell_type": "code",
      "metadata": {
        "id": "GsyEGPgZH7D3",
        "colab_type": "code",
        "colab": {}
      },
      "source": [
        "file1 = open(\"File1.py\",\"r\")\n",
        "print(list(file1))\n",
        "file1.close()"
      ],
      "execution_count": 0,
      "outputs": []
    },
    {
      "cell_type": "code",
      "metadata": {
        "id": "fHOgjt3BIA5N",
        "colab_type": "code",
        "colab": {}
      },
      "source": [
        "#  program to display the contents of a file.  \n",
        "\n",
        "file1 = open(\"File1.py\",\"r\")\n",
        "for line in file1:\n",
        "    print(line)\n",
        "file1.close()"
      ],
      "execution_count": 0,
      "outputs": []
    },
    {
      "cell_type": "code",
      "metadata": {
        "id": "qWGvmchPIk7o",
        "colab_type": "code",
        "colab": {}
      },
      "source": [
        "# opening files using with keyword \n",
        "\n",
        "with open (\"File1.py\",\"r\") as file:\n",
        "    for line in file:\n",
        "        print(line)\n",
        "print(\"Let's check if the file is closed: \", file.close())"
      ],
      "execution_count": 0,
      "outputs": []
    },
    {
      "cell_type": "markdown",
      "metadata": {
        "id": "MxWAT37nKnFj",
        "colab_type": "text"
      },
      "source": [
        "Splitting Words : \n",
        "\n",
        "Program to split the line into a series of words and use space to perform the split operation.  \n",
        "\n",
        "\n"
      ]
    },
    {
      "cell_type": "code",
      "metadata": {
        "id": "8Irpge5ILgsQ",
        "colab_type": "code",
        "colab": {}
      },
      "source": [
        "##with open (\"File1.py\",\"r\") as file:\n",
        "    ##line = file.readline()\n",
        "    ##words = line.split()\n",
        "    ##print(words)"
      ],
      "execution_count": 0,
      "outputs": []
    },
    {
      "cell_type": "markdown",
      "metadata": {
        "id": "4zIoWO7ZLpfg",
        "colab_type": "text"
      },
      "source": [
        "Useful File Methods.\n",
        "\n",
        "\n",
        "fileno()  :  Returns the file number of the file which is integer descriptor\n",
        "\n",
        "flush() :  Flushes the write buffer of the file stream. \n",
        "\n",
        "isatty() :  Returns True if the file stream is interactive and False otherwise\n",
        "\n",
        "readline(n) : Reads and returns one line from file, n is optional.  If n is \n",
        "              specified then at most n bytes are read.  \n",
        "\n",
        "truncate(n) : Resizes the file to n bytes. \n",
        "\n",
        "\n",
        "rstrip()     Strips off whitespaces including newline characters from the right \n",
        "            side of the string read from the file.  \n",
        "\n",
        "\n",
        "**FILE POSITION**\n",
        "The file management system associates a pointer often known as file pointer that facilitates the movement across the file for reading and/or writing data.  \n",
        "\n",
        "The file pointer specifies the location from where the current read or write operations are initiated.   Once the read/ write operation is completed, the pointer is automatically updated.  \n",
        "\n",
        "The seek(offset[,from]) method is used to set the position of the file pointer or in simpler terms move the file pointer to a new location.  The offset argument indicates a number of bytes to be moved  and from argument specifies the reference position from where the bytes are to be moved.  \n",
        "\n",
        "From                    Reference Position \n",
        "0                       From the beginning of the file. \n",
        "\n",
        "1                       From the current position of the file. \n",
        "\n",
        "\n",
        "2                       From the end of the file.  \n",
        "\n",
        "Program that tells and sets the position of the file pointer. "
      ]
    },
    {
      "cell_type": "code",
      "metadata": {
        "id": "ngkmtfpSQfpF",
        "colab_type": "code",
        "colab": {}
      },
      "source": [
        "file = open(\"File1.py\",\"rb\")\n",
        "print(\"Position of the file pointer before reading is : \", file.tell())\n",
        "print(file.read(10))\n",
        "print(\"Position of the file pointer after reading is : \", file.tell())\n",
        "print(\"Setting 3 bytes from the current position of file pointer\")\n",
        "file.seek(3,1)\n",
        "print(file.read())\n",
        "file.close()"
      ],
      "execution_count": 0,
      "outputs": []
    },
    {
      "cell_type": "markdown",
      "metadata": {
        "id": "5zEThiBLQlSr",
        "colab_type": "text"
      },
      "source": [
        "Write a program that copies the first 10 bytes of a binary file into another.  "
      ]
    },
    {
      "cell_type": "code",
      "metadata": {
        "id": "BBxhIWtbVFyX",
        "colab_type": "code",
        "colab": {}
      },
      "source": [
        "# with open (\"File1.py\",\"rb\") as file:\n",
        "    with open(\"File2.py\", \"wb\") as file2:\n",
        "        buf = file.read(10)\n",
        "        file2.write(buf)\n",
        "print(\"File Copied\")"
      ],
      "execution_count": 0,
      "outputs": []
    },
    {
      "cell_type": "markdown",
      "metadata": {
        "id": "Z40NiXyCVSGZ",
        "colab_type": "text"
      },
      "source": [
        "Write a program that copies one Python script into another in such a way that all comments lines are skipped and not copied in the destination file. "
      ]
    },
    {
      "cell_type": "code",
      "metadata": {
        "id": "5-62GxS5YE5p",
        "colab_type": "code",
        "colab": {}
      },
      "source": [
        "with open (\"file1.py\",\"rb\") as file1:\n",
        "    with open(\"file1.py\", \"wb\") as file2:\n",
        "        while True:\n",
        "            buf = file1.readline()\n",
        "            if len(buf)!=0:\n",
        "                if buf[0] == '#':\n",
        "                    continue\n",
        "                else:\n",
        "                    file2.write(buf)\n",
        "            else:\n",
        "                break\n",
        "print(\"File Copied\")"
      ],
      "execution_count": 0,
      "outputs": []
    },
    {
      "cell_type": "markdown",
      "metadata": {
        "id": "CRrZaZK4YV9d",
        "colab_type": "text"
      },
      "source": [
        "Write a program that accepts a filename as an input from the user.  Open the file and count the number of times a character appears in the file.  \n",
        "\n"
      ]
    },
    {
      "cell_type": "code",
      "metadata": {
        "id": "GBLsYaePZifi",
        "colab_type": "code",
        "colab": {}
      },
      "source": [
        "filename = input(\"Enter the filename : \")\n",
        "with open (filename)as file:\n",
        "    text = file.read()\n",
        "    letter = input(\"Enter the character to be searched:     \")\n",
        "    count = 0\n",
        "    for char in text:\n",
        "        if char == letter:\n",
        "            count += 1\n",
        "print(letter,\"appears\", count, \"times in a file\")"
      ],
      "execution_count": 0,
      "outputs": []
    },
    {
      "cell_type": "markdown",
      "metadata": {
        "id": "APX1pRAcZk_9",
        "colab_type": "text"
      },
      "source": [
        "Write a program that reads data from a file and calculates the percentage of vowels and consonants in the file.  "
      ]
    },
    {
      "cell_type": "code",
      "metadata": {
        "id": "PFXwDrl_cgcX",
        "colab_type": "code",
        "colab": {}
      },
      "source": [
        "filename = input(\"Enter the filename : \")\n",
        "with open (filename)as file:\n",
        "    text = file.read()\n",
        "    count_vowels = 0\n",
        "    count_consonants = 0\n",
        "    for char in text:\n",
        "        if char == \"aeiou\":\n",
        "            count_vowels += 1\n",
        "        else:\n",
        "            count_consonants += 1\n",
        "print(\"Number of vowels =\", count_vowels)\n",
        "print(\"Number of consonantss = \", count_consonants)\n",
        "print(\"Total length of the file = \", len(tex))"
      ],
      "execution_count": 0,
      "outputs": []
    },
    {
      "cell_type": "code",
      "metadata": {
        "id": "pNfTFk-caGje",
        "colab_type": "code",
        "colab": {}
      },
      "source": [
        "filename = input(\"Enter the filename : \")\n",
        "with open (filename)as file:\n",
        "    text = file.read()\n",
        "    letter = input(\"Enter the character to be searched:     \")\n",
        "    count = 0\n",
        "    for char in text:\n",
        "        if char == letter:\n",
        "            count += 1\n",
        "print(letter,\"appears\", count, \"times in a file\")"
      ],
      "execution_count": 0,
      "outputs": []
    },
    {
      "cell_type": "markdown",
      "metadata": {
        "id": "ldVyq27pcqmg",
        "colab_type": "text"
      },
      "source": [
        "# RENAMING AND DELETING FILES  (OS MODULE)\n",
        "\n",
        "The OS module in Python has various methods that can be used to perform file-processing operations like renaming and deleting files.  \n",
        "\n",
        "The rename() method takes two arguments, the current file name and the new file name.  The syntax is: \n",
        "\n",
        "os.rename(old_file_name, new_file_name)\n",
        "\n",
        "Program to rename \"File1.txt to Student.txt.\n",
        "\n"
      ]
    },
    {
      "cell_type": "code",
      "metadata": {
        "id": "aK5F-xp-dW3F",
        "colab_type": "code",
        "colab": {}
      },
      "source": [
        "import os\n",
        "os.rename(\"File1.txt\", \"Student.txt\")\n",
        "print(\"File Renamed\")\n",
        "\n",
        "# Syntax to remove file name: \n",
        "import os\n",
        "os.remove(file1.txt)\n",
        "print(\"File Deleted\")"
      ],
      "execution_count": 0,
      "outputs": []
    },
    {
      "cell_type": "markdown",
      "metadata": {
        "id": "spaogAwceJJD",
        "colab_type": "text"
      },
      "source": [
        "# DIRECTORY METHODS \n",
        "\n",
        "A directory is a collection of files where each file may be of a different format.\n",
        "\n",
        "Python has various methods in the os module to create, remove and change directories.  \n",
        "\n",
        "The mkdir() Method : It is used to create directories in the current directory.  The method takes the name of the directory (the one to be created) as an argument.  The syntax of the mkdir() is, \n",
        "\n",
        "os.mkdir(\"new_dir_name\")\n",
        "\n",
        "\n",
        "Program to create a new directory New Dir in the current directory."
      ]
    },
    {
      "cell_type": "code",
      "metadata": {
        "id": "2h2WZv36e0vB",
        "colab_type": "code",
        "colab": {}
      },
      "source": [
        "import os\n",
        "os.mkdir(\"New Dir\")\n",
        "print(\"Directory Created\")\n",
        "\n",
        "\n",
        "#  The getcwd() Method : The getcwd() is used to display the current working directory (cwd)\n",
        "#  The chdir() method is used to change the current directory.  \n",
        "#This method takes the name of the directory which you want to make the \n",
        "# current directory as an argument. \n",
        "\n",
        "# The syntax is : \n",
        "os.chdir(\"dir_name\")"
      ],
      "execution_count": 0,
      "outputs": []
    },
    {
      "cell_type": "code",
      "metadata": {
        "id": "-C0C1zNThVZG",
        "colab_type": "code",
        "colab": {}
      },
      "source": [
        ""
      ],
      "execution_count": 0,
      "outputs": []
    },
    {
      "cell_type": "code",
      "metadata": {
        "id": "fGcf7Bm5fK_M",
        "colab_type": "code",
        "colab": {
          "base_uri": "https://localhost:8080/",
          "height": 34
        },
        "outputId": "35e910ee-e7cd-41f7-b460-7d655b2f54d3"
      },
      "source": [
        "import os\n",
        "os.getcwd()"
      ],
      "execution_count": 1,
      "outputs": [
        {
          "output_type": "execute_result",
          "data": {
            "text/plain": [
              "'/content'"
            ]
          },
          "metadata": {
            "tags": []
          },
          "execution_count": 1
        }
      ]
    },
    {
      "cell_type": "markdown",
      "metadata": {
        "id": "kdV3-RaFhX44",
        "colab_type": "text"
      },
      "source": [
        "# Write a program that changes the current directory to newly created directory -- New Dir"
      ]
    },
    {
      "cell_type": "code",
      "metadata": {
        "id": "oZE5wG2Whm8T",
        "colab_type": "code",
        "colab": {}
      },
      "source": [
        "import os\n",
        "print(\"Current Working Directory is :\", os.getcwd())\n",
        "os.chdir(\"New Dir\")\n",
        "print(\"After chdir, the current Directory is now........\", end = ' ')\n",
        "print(os.getcwd())\n",
        "\n",
        "# The rmdir() Method.  \n",
        "# The rmdir() is used to remove or delete a directory.\n",
        "# For this it accepts the name of the directory to be deleted as \n",
        "# argument.  \n",
        "\n",
        "os.rmdir(\"dir_name\")\n",
        "\n",
        "\n",
        "#  If you want to remove a non-empty directory use the rmtree() \n",
        "# method defined in the shutil module\n",
        "\n",
        "import shutil\n",
        "shutil.rmtree(\"Dir1\")\n",
        "\n",
        "\n",
        "\n",
        "#  The makedirs() Method : \n",
        "#  The method mkdirs() is used to create more than one folder. \n",
        "The implementation of makedirs() is shown in the code given below: \n",
        "\n",
        "import os\n",
        "os.makedirs\n"
      ],
      "execution_count": 0,
      "outputs": []
    },
    {
      "cell_type": "markdown",
      "metadata": {
        "id": "W08Sxfspo9Qh",
        "colab_type": "text"
      },
      "source": [
        "The os.path.join() method: \n",
        "**os.path.join()**  The join method to represent file path.  When you pass a string value of file and folder names that makes up the path, then os.path.join() method will return a string with a file path that has correct path separators.  \n",
        "\n",
        "\n",
        "import os\n",
        "print(os.path.join)(\"c:\", \"University\", \"Graduate\", \"Post Graduate\", \"SampleResearch.docx\"))\n",
        "\n",
        "OUTPUT \n",
        "c:\\university\\Graduate\\SampleResearch.docx"
      ]
    },
    {
      "cell_type": "code",
      "metadata": {
        "id": "ghdzv68Wrq7g",
        "colab_type": "code",
        "colab": {}
      },
      "source": [
        "import os\n",
        "path = \"d:\\\\\"\n",
        "filename =\"file1.py\"\n",
        "abs_path = os.path.join(path,filename)\n",
        "print(\"ABSOLUTE FILE PATH = \", abs_path)\n",
        "file = open(abs_path, \"w\")\n",
        "file.write(\"Hurray\")\n",
        "file.close()\n",
        "file =open(abs_path,\"r\")\n",
        "print(file.read())"
      ],
      "execution_count": 0,
      "outputs": []
    },
    {
      "cell_type": "markdown",
      "metadata": {
        "id": "Hm1h_1Z0tMVl",
        "colab_type": "text"
      },
      "source": [
        "Program to demonstrate the use of os.path.isabs() ,method"
      ]
    },
    {
      "cell_type": "code",
      "metadata": {
        "id": "Mw4vVwkJtV5X",
        "colab_type": "code",
        "colab": {}
      },
      "source": [
        "import os\n",
        "print(\"os.path.isabs(\\\"PYFOLDER\\\\Test.py\\\") = \", os.path.isabs(\"PYFOLDER\\\\Sample.txt\")\n",
        "print(\"os.path.isabs(\\\"D:\\\\PYFOLDER\\\\Test.py\\\") = \", os.path.isabs(\\\"D:\\\\PYFOLDER\\\\Test.py\"))"
      ],
      "execution_count": 0,
      "outputs": []
    },
    {
      "cell_type": "markdown",
      "metadata": {
        "id": "Hm5D0qdPxlf5",
        "colab_type": "text"
      },
      "source": [
        "Program to demonstrate use of os.path.relpath() method. "
      ]
    },
    {
      "cell_type": "code",
      "metadata": {
        "id": "vgY0N4bYxsH8",
        "colab_type": "code",
        "colab": {}
      },
      "source": [
        "import os\n",
        "print(\"os.path.relpath(\\\"D:\\\\Python\\\\Bookflare.net.txt\\\") = \", os.path.relpath(\"D:\\\\Python\\\\Important Well-Known Port Number Mnemonic.pdf\",\"D:\\Books\"))"
      ],
      "execution_count": 0,
      "outputs": []
    },
    {
      "cell_type": "markdown",
      "metadata": {
        "id": "1WaIZQCVx9BI",
        "colab_type": "text"
      },
      "source": [
        "## OTHER METHODS\n",
        "\n",
        "**The os.path.dirname(path) Method** : Returns a string that includes everything specified in the path(passed as argument to the method) that comes before the last slash.  \n",
        "\n",
        "**os.path.basename(path) Method**  : Returns a single string that includes everything specified in the path (passed as argument to the method) that comes after the last slash.  \n",
        "\n",
        "**Tip** : Use the os.path.join() method to combine path using string concatenation. \n",
        "\n",
        "**The os.path.split(path) Method** Accepts a file path and returns its directory name as well as the basename.  So it is equivalent to use two separate methods, os.path.dirname() and os.path.basename().  \n",
        "\n",
        "**The os.path.getsize(path) Method** : Returns the size of the file specified in the path arguments. \n",
        "\n",
        "**The os.listdir.(path) Method** : Returns a list of filenames in the specified path. \n",
        "\n",
        "**The os.path.exists(path) Method** : Accepts a path as argument and returns True if the file or folder specified in the path exists, false otherwise. \n",
        "\n",
        "**The os.path.isfile(path) Method** : Accepts a path as an argument and returns true if the path specifies an existing directory and false otherwise.  \n",
        "\n",
        "**The os.path.isdir(path) Method** : Accepts a path as an argument and return true if the path specifies an existing directory and False otherwise.  \n",
        "\n",
        "\n",
        "Program to demonstrate use of os.path.getsize() and os.listdir() method.  \n",
        "\n",
        "\n"
      ]
    },
    {
      "cell_type": "code",
      "metadata": {
        "id": "yc46eYQp9PZe",
        "colab_type": "code",
        "colab": {}
      },
      "source": [
        "import os\n",
        "print(\"os.listdir(\\\"D:\\\\Python\\\") = \",os.listdir(\"D:\\Python\"))             \n",
        "\n"
      ],
      "execution_count": 0,
      "outputs": []
    },
    {
      "cell_type": "code",
      "metadata": {
        "id": "YrppW9sKJ29_",
        "colab_type": "code",
        "colab": {}
      },
      "source": [
        "help(\"Modules\")"
      ],
      "execution_count": 0,
      "outputs": []
    },
    {
      "cell_type": "markdown",
      "metadata": {
        "id": "0BiQ5gRWKU6s",
        "colab_type": "text"
      },
      "source": [
        "Program to demonstrate the use of methods in the os module. "
      ]
    },
    {
      "cell_type": "code",
      "metadata": {
        "id": "1GluwMQqKdm6",
        "colab_type": "code",
        "colab": {}
      },
      "source": [
        "#import os\n",
        "# print(\"os.path.exists(\\\"D:\\\\Python\\\\New folder\\\") = \", os.path.exists(\"D:\\Python\\New folder\"))\n",
        "                                                                            \n",
        "#print(\"os.path.isfile(\\\"D:\\\\Python\\\\New folder\\\") = \", os.path.isfile(\"D:\\Python\\New folder\"))\n",
        "\n",
        "# print(\"os.path.isdir(\\\"D:\\\\Python\\\\New folder\\\") = \", os.path.isdir(\"D:\\Python-\\New folder\"))"
      ],
      "execution_count": 0,
      "outputs": []
    },
    {
      "cell_type": "code",
      "metadata": {
        "id": "oR3kRBwOKsP2",
        "colab_type": "code",
        "colab": {}
      },
      "source": [
        "# Write a program that counts the number of tabs, spaces and newline characters. \n",
        "\n",
        "\n",
        "filename = input(\"Enter the filename :  \")\n",
        "with open(filename) as file:\n",
        "    text = file.read()\n",
        "    count_tab = 0\n",
        "    count_space = 0\n",
        "    count_nl = 0\n",
        "    for char in text:\n",
        "        if char == '\\t':\n",
        "            count_tab +=1\n",
        "        if char == ' ':\n",
        "            count_space += 1\n",
        "        if char == '\\n':\n",
        "            count_nl += 1\n",
        "print(\"TABS = \", count_tab)\n",
        "print(\"SPACES = \", count_space)\n",
        "print(\"NEWLINES = \", count_nl)\n"
      ],
      "execution_count": 0,
      "outputs": []
    },
    {
      "cell_type": "markdown",
      "metadata": {
        "id": "8_TNeUUbLAEN",
        "colab_type": "text"
      },
      "source": [
        "write a program that computes the total size of all the files in the D: folder."
      ]
    },
    {
      "cell_type": "code",
      "metadata": {
        "id": "yR5LrBO6LMdO",
        "colab_type": "code",
        "colab": {}
      },
      "source": [
        "import os\n",
        "totalSize = 0\n",
        "for file in os.listdir(\"D:\\Python\"):\n",
        "    totalSize += os.path.getsize(os.path.join(\"D:\\Python\",R-Numbers.docx))\n",
        "print(\"Total size of all the files in D:\\Python folder =\", totalSize)"
      ],
      "execution_count": 0,
      "outputs": []
    },
    {
      "cell_type": "markdown",
      "metadata": {
        "id": "sQexwFKoLbcT",
        "colab_type": "text"
      },
      "source": [
        "Write a program that reads a file line by line.  Each line read from the file is copied to another file with line numbers at the beginning of the line.  "
      ]
    },
    {
      "cell_type": "code",
      "metadata": {
        "id": "Mu87clBgLmMg",
        "colab_type": "code",
        "colab": {}
      },
      "source": [
        "file1 = open(\"D:\\\\Python\\Exercise1_algo.txt\",\"r\")\n",
        "file2 = open(\"D:\\\\Python\\Exercise2_algo.txt\",\"w\")\n",
        "num = 1\n",
        "for line in file1:\n",
        "    file2.write(str(num) + \" : \" +line)\n",
        "    num = num + 1\n",
        "file1.close()\n",
        "file2.close()\n"
      ],
      "execution_count": 0,
      "outputs": []
    },
    {
      "cell_type": "markdown",
      "metadata": {
        "id": "cs_vB39SLzkh",
        "colab_type": "text"
      },
      "source": [
        "Write a program to check if flash drive is connected to the computer."
      ]
    },
    {
      "cell_type": "code",
      "metadata": {
        "id": "dw9I7QGTL4W2",
        "colab_type": "code",
        "colab": {}
      },
      "source": [
        "import os\n",
        "print(\"os.path.exists(\\\"G:\\\\\") = \", os.path.exists(\"G:\\\\\"))"
      ],
      "execution_count": 0,
      "outputs": []
    },
    {
      "cell_type": "markdown",
      "metadata": {
        "id": "1S89HR05MR-u",
        "colab_type": "text"
      },
      "source": [
        "Write a program that generates a quiz that uses two files-- Questions.txt and Answers.txt.  The program opens Questions.txt and read a question and displays the question with options on the screen.  The program then opens the answers.txt and displays the correct answers."
      ]
    },
    {
      "cell_type": "code",
      "metadata": {
        "id": "kk7sGR08Mg6Q",
        "colab_type": "code",
        "colab": {}
      },
      "source": [
        "file1 = open(\"D:\\\\Python\\Exercise1_algo.txt\",\"r\")\n",
        "file2 = open(\"D:\\\\Python\\Exercise2_algo.txt\",\"r\")\n",
        "ques = file1.read()\n",
        "qlines = ques.split('\\n')\n",
        "for lines in qlines:\n",
        "    print(lines)\n",
        "ans = file2.read()\n",
        "alines = ans.split('\\n')\n",
        "print(\"CORRECT ANSWERS\")\n",
        "for lines in alines:\n",
        "    print(lines)\n"
      ],
      "execution_count": 0,
      "outputs": []
    },
    {
      "cell_type": "markdown",
      "metadata": {
        "id": "7xCLFa9jMvNb",
        "colab_type": "text"
      },
      "source": [
        "write a program that fetches the data from specified url and writes it in a file.  "
      ]
    },
    {
      "cell_type": "code",
      "metadata": {
        "id": "GHe2ORZdM3lu",
        "colab_type": "code",
        "colab": {}
      },
      "source": [
        "import urllib\n",
        "import urllib.request\n",
        "url = 'https://www.google.com/search?q=python'\n",
        "headers = {}\n",
        "headers['User-Agent'] = \"Mozilla/5.0 (X11; Linux i686) AppleWebKit/537.17(KHTML, like Gecko)  Chrome/24.0.1312.27 Safari/537.17\"\n",
        "Request = urllib.request.Request(url, headers=headers)\n",
        "Response = urllib.request.urlopen(Request)\n",
        "Data =Response.read()\n",
        "File = open('URL_File.txt','w')\n",
        "File.write(str(Data))\n",
        "File.close()\n",
        "print(\"Contents written in the file....\")"
      ],
      "execution_count": 0,
      "outputs": []
    }
  ]
}