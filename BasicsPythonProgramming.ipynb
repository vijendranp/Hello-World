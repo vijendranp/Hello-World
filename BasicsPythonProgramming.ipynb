{
  "nbformat": 4,
  "nbformat_minor": 0,
  "metadata": {
    "colab": {
      "name": "PythonML-Practice.ipynb",
      "provenance": [],
      "authorship_tag": "ABX9TyNgwcdaOBu7mIXCcfsR7Cz3",
      "include_colab_link": true
    },
    "kernelspec": {
      "name": "python3",
      "display_name": "Python 3"
    }
  },
  "cells": [
    {
      "cell_type": "markdown",
      "metadata": {
        "id": "view-in-github",
        "colab_type": "text"
      },
      "source": [
        "<a href=\"https://colab.research.google.com/github/vijendranp/Hello-World/blob/master/BasicsPythonProgramming.ipynb\" target=\"_parent\"><img src=\"https://colab.research.google.com/assets/colab-badge.svg\" alt=\"Open In Colab\"/></a>"
      ]
    },
    {
      "cell_type": "markdown",
      "metadata": {
        "id": "s0M15YMlb6us",
        "colab_type": "text"
      },
      "source": [
        "**Unary Operators**\n"
      ]
    },
    {
      "cell_type": "markdown",
      "metadata": {
        "id": "OIcc0lIYb6rA",
        "colab_type": "text"
      },
      "source": [
        ""
      ]
    },
    {
      "cell_type": "code",
      "metadata": {
        "id": "3TeXv5t2Y3ZC",
        "colab_type": "code",
        "colab": {}
      },
      "source": [
        ""
      ],
      "execution_count": 0,
      "outputs": []
    },
    {
      "cell_type": "markdown",
      "metadata": {
        "id": "sahO93fsBA-O",
        "colab_type": "text"
      },
      "source": [
        "# write a program to print the fibonacci series \n"
      ]
    },
    {
      "cell_type": "code",
      "metadata": {
        "id": "-Td6cdSbBHDk",
        "colab_type": "code",
        "colab": {}
      },
      "source": [
        "def fibonacci(n):\n",
        "  if(n<2):\n",
        "    return 1\n",
        "  else:\n",
        "    return (fibonacci(n-1)+fibonacci(n-2))\n",
        "\n",
        "n = int(input(\"Enter the number of terms: \"))\n",
        "for i in range(n):\n",
        "  print(\"Fibonacci(\",i,\") = \",fibonacci(i))\n"
      ],
      "execution_count": 0,
      "outputs": []
    },
    {
      "cell_type": "code",
      "metadata": {
        "id": "euvBHjVdBHHI",
        "colab_type": "code",
        "colab": {}
      },
      "source": [
        "from math import pi\n",
        "print(\"PI =  \",pi)"
      ],
      "execution_count": 0,
      "outputs": []
    },
    {
      "cell_type": "code",
      "metadata": {
        "id": "KnCtimjyC48_",
        "colab_type": "code",
        "colab": {}
      },
      "source": [
        "import math\n",
        "from math import sqrt as square_root\n",
        "print(square_root(81))"
      ],
      "execution_count": 0,
      "outputs": []
    },
    {
      "cell_type": "code",
      "metadata": {
        "id": "YZ2NXQOFPAjy",
        "colab_type": "code",
        "colab": {}
      },
      "source": [
        ""
      ],
      "execution_count": 0,
      "outputs": []
    },
    {
      "cell_type": "markdown",
      "metadata": {
        "id": "Zn6CecpRPB8V",
        "colab_type": "text"
      },
      "source": [
        "\n"
      ]
    },
    {
      "cell_type": "code",
      "metadata": {
        "id": "H4cxZ-GPPDAQ",
        "colab_type": "code",
        "colab": {}
      },
      "source": [
        "format(3**50, '.5e')\n"
      ],
      "execution_count": 0,
      "outputs": []
    },
    {
      "cell_type": "code",
      "metadata": {
        "id": "tyM-tujbPtL2",
        "colab_type": "code",
        "colab": {}
      },
      "source": [
        "float(16/(float(3)))"
      ],
      "execution_count": 0,
      "outputs": []
    },
    {
      "cell_type": "code",
      "metadata": {
        "id": "3PLxDB0fP8Pb",
        "colab_type": "code",
        "colab": {}
      },
      "source": [
        "format (float(16/(float(3))), '.2f')\n"
      ],
      "execution_count": 0,
      "outputs": []
    },
    {
      "cell_type": "markdown",
      "metadata": {
        "id": "O6OEg3kfSefK",
        "colab_type": "text"
      },
      "source": [
        "Display data of different type using variable and literal constant"
      ]
    },
    {
      "cell_type": "code",
      "metadata": {
        "id": "LjGc6VlcTSEX",
        "colab_type": "code",
        "colab": {}
      },
      "source": [
        "num = 7\n",
        "amt = 124.55\n",
        "code = 'A'\n",
        "pi = 3.1415926536\n",
        "population_of_india = 1000000000\n",
        "msg = \"Hi\"\n",
        "\n",
        "print(\"NUM = \"+str(num))\n",
        "print(\"\\n AMT = \" + str(amt))\n",
        "print(\"\\n CODE =\" +str(code))\n",
        "print(\"\\n POPULATION OF INDIA = \"+ str(population_of_india))\n",
        "print(\"\\n MESSAGE = \"+str(msg))\n"
      ],
      "execution_count": 0,
      "outputs": []
    },
    {
      "cell_type": "markdown",
      "metadata": {
        "id": "BzcXaMVHUykt",
        "colab_type": "text"
      },
      "source": [
        "Program to reassign values to variable"
      ]
    },
    {
      "cell_type": "code",
      "metadata": {
        "id": "VEqsNtpAU2YI",
        "colab_type": "code",
        "colab": {}
      },
      "source": [
        "val = 'Hello'\n",
        "print(val)\n",
        "val = 100\n",
        "print(val)\n",
        "val = 12.34\n",
        "print(val)\n",
        "x = 5\n",
        "y = 10\n",
        "print('Hello')\n",
        "print(x+y)"
      ],
      "execution_count": 0,
      "outputs": []
    },
    {
      "cell_type": "code",
      "metadata": {
        "id": "EZlEA8KDX0es",
        "colab_type": "code",
        "colab": {
          "base_uri": "https://localhost:8080/",
          "height": 34
        },
        "outputId": "0a1deed5-ee96-4d0c-b7c2-a7680504c59f"
      },
      "source": [
        "mesg = \"Helo\"\n",
        "print(mesg)"
      ],
      "execution_count": 28,
      "outputs": [
        {
          "output_type": "stream",
          "text": [
            "Helo\n"
          ],
          "name": "stdout"
        }
      ]
    },
    {
      "cell_type": "code",
      "metadata": {
        "id": "digcLH9WX68V",
        "colab_type": "code",
        "colab": {
          "base_uri": "https://localhost:8080/",
          "height": 34
        },
        "outputId": "2d953cc0-f2dd-41bf-b83e-27a5796c331e"
      },
      "source": [
        "mesg = \"Hello\";\n",
        "print(mesg);"
      ],
      "execution_count": 30,
      "outputs": [
        {
          "output_type": "stream",
          "text": [
            "Hello\n"
          ],
          "name": "stdout"
        }
      ]
    },
    {
      "cell_type": "code",
      "metadata": {
        "id": "1lLb58yDYCyC",
        "colab_type": "code",
        "colab": {
          "base_uri": "https://localhost:8080/",
          "height": 34
        },
        "outputId": "404be8e9-3c3a-4a37-a8f7-f74114117f2c"
      },
      "source": [
        "mesg = \"Hello\";\n",
        "print(mesg)"
      ],
      "execution_count": 32,
      "outputs": [
        {
          "output_type": "stream",
          "text": [
            "Hello\n"
          ],
          "name": "stdout"
        }
      ]
    },
    {
      "cell_type": "code",
      "metadata": {
        "id": "A98oDHrCYMyl",
        "colab_type": "code",
        "colab": {}
      },
      "source": [
        "name = input(\"What is your name?\")\n",
        "age = input(\" Enter your age :\")\n",
        "print ( name + \", you are \" + age + \" years old\")"
      ],
      "execution_count": 0,
      "outputs": []
    },
    {
      "cell_type": "code",
      "metadata": {
        "id": "nC_C3lCiYsaM",
        "colab_type": "code",
        "colab": {}
      },
      "source": [
        ""
      ],
      "execution_count": 0,
      "outputs": []
    },
    {
      "cell_type": "markdown",
      "metadata": {
        "id": "2Qjlee38Y2w9",
        "colab_type": "text"
      },
      "source": [
        "# In Python indentation is used to associate and group statements.  "
      ]
    },
    {
      "cell_type": "code",
      "metadata": {
        "id": "PkBD6oBHY_9R",
        "colab_type": "code",
        "colab": {}
      },
      "source": [
        "a = 100\n",
        "b = 200\n",
        "\n",
        "print (a+b)\n",
        "print(a-b)\n",
        "print(a*b)\n",
        "print(b/a)\n",
        "print(b%a)\n",
        "print(12//5)\n",
        "print(12.0//5.0)\n",
        "print(-19//5)\n",
        "print(-20.0//3)\n",
        "print(a**b)\n"
      ],
      "execution_count": 0,
      "outputs": []
    },
    {
      "cell_type": "markdown",
      "metadata": {
        "id": "CQ0o_4Yca2ka",
        "colab_type": "text"
      },
      "source": [
        "Operator Description : \n",
        "\n",
        "=  c = a ,  assigns value of a to c \n",
        "a += is same as a = a + b\n",
        "a -=  is same as a = a-b\n",
        "\n",
        "a *=  is same as a = a * b\n",
        "\n",
        "a /b is same as a = a / b\n",
        "\n",
        "a % b is same as a = a % b\n",
        "\n",
        "a//=b is same as a = a // b\n",
        "\n",
        "a**b = b is same as a = a**b\n",
        "\n"
      ]
    },
    {
      "cell_type": "code",
      "metadata": {
        "id": "_UT-e2Xrbf7_",
        "colab_type": "code",
        "outputId": "f8bd301d-be58-4d5b-f377-28ab075050b6",
        "colab": {
          "base_uri": "https://localhost:8080/",
          "height": 34
        }
      },
      "source": [
        "str1 = \"Good\"\n",
        "str2 = \"Morning\"\n",
        "str1 += str2\n",
        "print(str1)"
      ],
      "execution_count": 0,
      "outputs": [
        {
          "output_type": "stream",
          "text": [
            "GoodMorning\n"
          ],
          "name": "stdout"
        }
      ]
    },
    {
      "cell_type": "markdown",
      "metadata": {
        "id": "rHPVl2kBa2hP",
        "colab_type": "text"
      },
      "source": [
        "b = 10\n",
        "a = -(b);\n"
      ]
    },
    {
      "cell_type": "code",
      "metadata": {
        "id": "4KvAm2hUcpEh",
        "colab_type": "code",
        "colab": {
          "base_uri": "https://localhost:8080/",
          "height": 51
        },
        "outputId": "f9535d98-d5ce-4bb1-f0c1-766ac9969bef"
      },
      "source": [
        "b = 10\n",
        "a = -(b)\n",
        "print(b)\n",
        "print(a)"
      ],
      "execution_count": 42,
      "outputs": [
        {
          "output_type": "stream",
          "text": [
            "10\n",
            "-10\n"
          ],
          "name": "stdout"
        }
      ]
    },
    {
      "cell_type": "code",
      "metadata": {
        "id": "_38rYBNvcpCT",
        "colab_type": "code",
        "colab": {
          "base_uri": "https://localhost:8080/",
          "height": 51
        },
        "outputId": "04b315ee-edfc-4437-e489-dcfebb564f84"
      },
      "source": [
        "print (\" Hello\"  * 5)\n",
        "print ( 5      *      \"Hello\")"
      ],
      "execution_count": 46,
      "outputs": [
        {
          "output_type": "stream",
          "text": [
            " Hello Hello Hello Hello Hello\n",
            "HelloHelloHelloHelloHello\n"
          ],
          "name": "stdout"
        }
      ]
    },
    {
      "cell_type": "markdown",
      "metadata": {
        "id": "DfswypkXdvb1",
        "colab_type": "text"
      },
      "source": [
        "# **String operation**  "
      ]
    },
    {
      "cell_type": "code",
      "metadata": {
        "id": "PIruQRgMd_cp",
        "colab_type": "code",
        "colab": {
          "base_uri": "https://localhost:8080/",
          "height": 170
        },
        "outputId": "eefd4852-ccb5-4574-9571-269aea4991f0"
      },
      "source": [
        "str = ' Python is easy !!!'\n",
        "print(str)\n",
        "print(str[0])\n",
        "print(str[3:9])\n",
        "print(str[4:])\n",
        "print(str[-1])\n",
        "print(str[:5])\n",
        "print(str * 2)\n",
        "print(str +  \"ISNT'T IT?\")\n",
        "print(str + \"ISNT'T IT?\")"
      ],
      "execution_count": 47,
      "outputs": [
        {
          "output_type": "stream",
          "text": [
            " Python is easy !!!\n",
            " \n",
            "thon i\n",
            "hon is easy !!!\n",
            "!\n",
            " Pyth\n",
            " Python is easy !!! Python is easy !!!\n",
            " Python is easy !!!ISNT'T IT?\n",
            " Python is easy !!!ISNT'T IT?\n"
          ],
          "name": "stdout"
        }
      ]
    },
    {
      "cell_type": "markdown",
      "metadata": {
        "id": "ly9E21die101",
        "colab_type": "text"
      },
      "source": [
        "#                                  **OTHER DATA TYPES**\n",
        "**TUPLES**\n",
        "A tuple is similar to a list as it also contains a number of values separate by commas and enclosed within a parentheses\n",
        "\n",
        "Program to demonstrate operations on a tuple"
      ]
    },
    {
      "cell_type": "code",
      "metadata": {
        "id": "jkXf9AD5fA3x",
        "colab_type": "code",
        "colab": {}
      },
      "source": [
        "Tup = ('a', 'bc', 78, 1.23)\n",
        "Tup2 = ('d', 78)\n",
        "print(Tup)\n",
        "print(Tup[0]) # Prints the first element of the Tuple\n",
        "print(Tup[1:3]) # Prints elements starting from 2nd till 3rd\n",
        "print(Tup[2:]) # Prints elements starting from 3rd element.\n",
        "print(Tup * 2) #  Repeats the tuple \n",
        "print (Tup + Tup2) # concatenates two tuples"
      ],
      "execution_count": 0,
      "outputs": []
    },
    {
      "cell_type": "markdown",
      "metadata": {
        "id": "M0QeI0S5gLPF",
        "colab_type": "text"
      },
      "source": [
        "# LIST\n",
        "A list consist of items separated by commas and enclosed within square brackets\n",
        "One important distinction between array and the list is that, while array contains value of same data type, a list on the other hand, can have values belonging to different data types. \n",
        "\n",
        "The values stored in the list are accessed using indexes.  The index of the first element is 0 and that of the last element is n-1.\n",
        "\n"
      ]
    },
    {
      "cell_type": "markdown",
      "metadata": {
        "id": "mw2Oer86hCH6",
        "colab_type": "text"
      },
      "source": [
        "Program to demonstrate operations on list"
      ]
    },
    {
      "cell_type": "code",
      "metadata": {
        "id": "lBOZID7vhGO9",
        "colab_type": "code",
        "colab": {}
      },
      "source": [
        "list = ['a','bc', 78, 1.23 ]\n",
        "list1 = ['d', 88]\n",
        "print(list)\n",
        "print(list[0])\n",
        "print(list[1:3])\n",
        "print(list[2:])\n",
        "print(list *2)\n",
        "print(list + list1)"
      ],
      "execution_count": 0,
      "outputs": []
    },
    {
      "cell_type": "markdown",
      "metadata": {
        "id": "wFtrVJTPgLKA",
        "colab_type": "text"
      },
      "source": [
        "# **DICTIONARY**\n",
        "Stores Data in Key : Value pairs.  Key value is usually of string, value can be of any data type.  Each key value pair is separated from the other using** (:)** \n",
        "To access any value in the dictionary, you just need to specify its key in square braces ([]).  \n",
        "**NOTE:** List and Dictionary are mutable data types meaning their values can be altered. \n",
        "\n",
        "Program to demonstrate use of a dictionary: \n"
      ]
    },
    {
      "cell_type": "code",
      "metadata": {
        "id": "r4AyzlVAiyBC",
        "colab_type": "code",
        "colab": {}
      },
      "source": [
        "Dict = { \"Item\" : \"Chocolate\", \"Price\" : 100}\n",
        "print(Dict[\"Item\"])\n",
        "print(Dict[\"Price\"])"
      ],
      "execution_count": 0,
      "outputs": []
    },
    {
      "cell_type": "markdown",
      "metadata": {
        "id": "SNS5wDwGjfQJ",
        "colab_type": "text"
      },
      "source": [
        "# TYPE CONVERSION\n",
        "In python, it is just not possible to complete certain operations that involves different types of data. For example, it is not possible to perform \"2\" + 4 since one operand is an integer and other is of string type. \n",
        "\n",
        "Anothher situation in which type conversion is a must is whhen you want to accept a non string value ( int or float) as input.  "
      ]
    },
    {
      "cell_type": "code",
      "metadata": {
        "id": "czIxBEGTke-m",
        "colab_type": "code",
        "colab": {}
      },
      "source": [
        "x = int(input(\"Enter the first number :\"))\n",
        "y = int(input(\"Ennter the second number: \"))\n",
        "print(x + y)"
      ],
      "execution_count": 0,
      "outputs": []
    },
    {
      "cell_type": "markdown",
      "metadata": {
        "id": "MTCo2QRbk0_1",
        "colab_type": "text"
      },
      "source": [
        "Functions for Type Conversions: "
      ]
    },
    {
      "cell_type": "markdown",
      "metadata": {
        "id": "XcnVcAPojfIt",
        "colab_type": "text"
      },
      "source": [
        ""
      ]
    }
  ]
}