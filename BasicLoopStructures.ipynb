{
  "nbformat": 4,
  "nbformat_minor": 0,
  "metadata": {
    "colab": {
      "name": "BasicLoopStructures.ipynb",
      "provenance": [],
      "authorship_tag": "ABX9TyPX/ok0l465gJHB7AHNlTla",
      "include_colab_link": true
    },
    "kernelspec": {
      "name": "python3",
      "display_name": "Python 3"
    }
  },
  "cells": [
    {
      "cell_type": "markdown",
      "metadata": {
        "id": "view-in-github",
        "colab_type": "text"
      },
      "source": [
        "<a href=\"https://colab.research.google.com/github/vijendranp/Hello-World/blob/master/BasicLoopStructures.ipynb\" target=\"_parent\"><img src=\"https://colab.research.google.com/assets/colab-badge.svg\" alt=\"Open In Colab\"/></a>"
      ]
    },
    {
      "cell_type": "code",
      "metadata": {
        "id": "oIoNMz_W23Qi",
        "colab_type": "code",
        "colab": {}
      },
      "source": [
        ""
      ],
      "execution_count": 0,
      "outputs": []
    },
    {
      "cell_type": "markdown",
      "metadata": {
        "id": "vc9gX_LIzzqE",
        "colab_type": "text"
      },
      "source": [
        ""
      ]
    },
    {
      "cell_type": "markdown",
      "metadata": {
        "id": "FtIUg_rEz4G4",
        "colab_type": "text"
      },
      "source": [
        ""
      ]
    },
    {
      "cell_type": "code",
      "metadata": {
        "id": "kbDenkQ40CJ2",
        "colab_type": "code",
        "outputId": "a5a2035f-9e31-446a-c636-14ad4f32ff06",
        "colab": {
          "base_uri": "https://localhost:8080/",
          "height": 371
        }
      },
      "source": [
        ""
      ],
      "execution_count": 0,
      "outputs": [
        {
          "output_type": "stream",
          "text": [
            "Enter the decimal number:  7\n"
          ],
          "name": "stdout"
        },
        {
          "output_type": "error",
          "ename": "OverflowError",
          "evalue": "ignored",
          "traceback": [
            "\u001b[0;31m---------------------------------------------------------------------------\u001b[0m",
            "\u001b[0;31mOverflowError\u001b[0m                             Traceback (most recent call last)",
            "\u001b[0;32m<ipython-input-4-df51fa2c0eb2>\u001b[0m in \u001b[0;36m<module>\u001b[0;34m()\u001b[0m\n\u001b[1;32m      6\u001b[0m \u001b[0;32mwhile\u001b[0m\u001b[0;34m(\u001b[0m\u001b[0mdecimal_num\u001b[0m\u001b[0;34m!=\u001b[0m\u001b[0;36m0\u001b[0m\u001b[0;34m)\u001b[0m\u001b[0;34m:\u001b[0m\u001b[0;34m\u001b[0m\u001b[0;34m\u001b[0m\u001b[0m\n\u001b[1;32m      7\u001b[0m   \u001b[0mremainder\u001b[0m \u001b[0;34m=\u001b[0m \u001b[0mdecimal_num\u001b[0m\u001b[0;34m%\u001b[0m\u001b[0;36m2\u001b[0m\u001b[0;34m\u001b[0m\u001b[0;34m\u001b[0m\u001b[0m\n\u001b[0;32m----> 8\u001b[0;31m   \u001b[0mbinary_num\u001b[0m \u001b[0;34m=\u001b[0m \u001b[0mbinary_num\u001b[0m\u001b[0;34m+\u001b[0m\u001b[0mremainder\u001b[0m\u001b[0;34m*\u001b[0m\u001b[0;34m(\u001b[0m\u001b[0;36m10\u001b[0m\u001b[0;34m**\u001b[0m\u001b[0mi\u001b[0m\u001b[0;34m)\u001b[0m\u001b[0;34m\u001b[0m\u001b[0;34m\u001b[0m\u001b[0m\n\u001b[0m\u001b[1;32m      9\u001b[0m   \u001b[0mdecimal_num\u001b[0m \u001b[0;34m=\u001b[0m \u001b[0mdecimal_num\u001b[0m\u001b[0;34m/\u001b[0m\u001b[0;36m2\u001b[0m\u001b[0;34m\u001b[0m\u001b[0;34m\u001b[0m\u001b[0m\n\u001b[1;32m     10\u001b[0m   \u001b[0mi\u001b[0m \u001b[0;34m=\u001b[0m \u001b[0mi\u001b[0m\u001b[0;34m+\u001b[0m\u001b[0;36m1\u001b[0m\u001b[0;34m\u001b[0m\u001b[0;34m\u001b[0m\u001b[0m\n",
            "\u001b[0;31mOverflowError\u001b[0m: int too large to convert to float"
          ]
        }
      ]
    },
    {
      "cell_type": "markdown",
      "metadata": {
        "id": "G_f6eFPg2486",
        "colab_type": "text"
      },
      "source": [
        "# BASIC LOOP STRUCTURES / ITERATIVE STATEMENTS \n",
        "\n",
        "Python supports loop structures through iterative statements.  Iterative statements are decision control statements that are used to repeat execution of a list of statement.  \n",
        "\n",
        "**While loop**\n",
        "The while loop provides a mechanism to repeat one or more statements while a particular condition is true. \n",
        "\n",
        "*Syntax*: \n",
        "statement x\n",
        "while (condition):\n",
        "      statement block \n",
        "statement y \n",
        "\n",
        "Program to print first 10 numbers using a while  loop "
      ]
    },
    {
      "cell_type": "code",
      "metadata": {
        "id": "T412TRtU4BLR",
        "colab_type": "code",
        "colab": {}
      },
      "source": [
        "i = 0 \n",
        "while (i<=10):\n",
        "  print(i,end=\"  \")\n",
        "  i = i+1\n",
        "  "
      ],
      "execution_count": 0,
      "outputs": []
    },
    {
      "cell_type": "markdown",
      "metadata": {
        "id": "yFDciB2C4X8f",
        "colab_type": "text"
      },
      "source": [
        "Program to separate two values printed on the same line using tab"
      ]
    },
    {
      "cell_type": "code",
      "metadata": {
        "id": "gQ45QPvN4rYC",
        "colab_type": "code",
        "colab": {}
      },
      "source": [
        "i = 0 \n",
        "while (i <=20):\n",
        "  print(i, end = '\\t')\n",
        "  i+=1"
      ],
      "execution_count": 0,
      "outputs": []
    },
    {
      "cell_type": "markdown",
      "metadata": {
        "id": "CAd4hbet4_9G",
        "colab_type": "text"
      },
      "source": [
        "**NOTE** : If you use end =  \"  \",  then there will be no space between two values.\n",
        "\n",
        "\n",
        "write a program to calculate the sum and average of the first 10 numbers"
      ]
    },
    {
      "cell_type": "code",
      "metadata": {
        "id": "daWsCm2I5SHx",
        "colab_type": "code",
        "outputId": "7ee5c65b-29bf-49f6-c9b9-4a030893fd0c",
        "colab": {
          "base_uri": "https://localhost:8080/",
          "height": 51
        }
      },
      "source": [
        "i = 0\n",
        "s = 0\n",
        "\n",
        "while(i<=10):\n",
        "  s = s+i\n",
        "  i=i+1\n",
        "\n",
        "avg = float(s)/10\n",
        "print(\"The sum of first 10 numbers is : \",s)\n",
        "print(\"The average of the first 10 numbers is :  \",avg)"
      ],
      "execution_count": 0,
      "outputs": [
        {
          "output_type": "stream",
          "text": [
            "The sum of first 10 numbers is :  55\n",
            "The average of the first 10 numbers is :   5.5\n"
          ],
          "name": "stdout"
        }
      ]
    },
    {
      "cell_type": "markdown",
      "metadata": {
        "id": "vwved0i66dRw",
        "colab_type": "text"
      },
      "source": [
        "Write a program to calculate the sum of numbers from m to n "
      ]
    },
    {
      "cell_type": "code",
      "metadata": {
        "id": "K2QqENMu6jLM",
        "colab_type": "code",
        "outputId": "fc744843-b51e-4531-e05e-ef5a94f43000",
        "colab": {
          "base_uri": "https://localhost:8080/",
          "height": 68
        }
      },
      "source": [
        "m = int(input (\" Enter the value of m :    \"))\n",
        "n = int(input(\"Enter the value of n :     \"))\n",
        "\n",
        "s = 0 \n",
        "while (m<=n):\n",
        "  s = s+m\n",
        "  m = m+1\n",
        "print(\"SUM=  \",s)"
      ],
      "execution_count": 0,
      "outputs": [
        {
          "output_type": "stream",
          "text": [
            " Enter the value of m :    5\n",
            "Enter the value of n :     8\n",
            "SUM=   26\n"
          ],
          "name": "stdout"
        }
      ]
    },
    {
      "cell_type": "markdown",
      "metadata": {
        "id": "VTMwgvIK7X5h",
        "colab_type": "text"
      },
      "source": [
        "Write a program to read the numbers until -1 is encountered.  Also count negative, positive and zeroes entered by the user."
      ]
    },
    {
      "cell_type": "code",
      "metadata": {
        "id": "GJV3OvOP7gdt",
        "colab_type": "code",
        "colab": {}
      },
      "source": [
        "\n",
        "negative = positive = zero = 0\n",
        "print(\"Enter -1 to exit. ......\")\n",
        "while(1):\n",
        "  num = int(input(\"Enter any number: \"))\n",
        "  if (num==-1):\n",
        "    break\n",
        "  if(num==0):\n",
        "    zero = zero +1\n",
        "  elif(num>0):\n",
        "    positive = positive + 1\n",
        "  else:\n",
        "    negative = negative + 1\n",
        "\n",
        "print(\"Count of positive numbers entered :  \", positive)\n",
        "print(\"Count of negative numbers entered :  \", negative)\n",
        "print(\"Count of zero numbers entered :      \", zero)\n"
      ],
      "execution_count": 0,
      "outputs": []
    },
    {
      "cell_type": "markdown",
      "metadata": {
        "id": "YSwxqUy09BRY",
        "colab_type": "text"
      },
      "source": [
        "Write a program to read the numbers until -1 is encountered.  Find the average of positive number and negative number entered by the user. \n",
        "\n",
        "**If statement is rune once if condition is True, and never if it is False**\n",
        "**A while statement is similar, except that it can be run more than once.**"
      ]
    },
    {
      "cell_type": "code",
      "metadata": {
        "id": "oXjcx-z99LFR",
        "colab_type": "code",
        "outputId": "db6eb7e3-3a2a-4f1f-a796-f9663c43e792",
        "colab": {
          "base_uri": "https://localhost:8080/",
          "height": 238
        }
      },
      "source": [
        "neg_count = 0 \n",
        "neg_s = 0\n",
        "pos_count = 0\n",
        "pos_s =0 \n",
        "print(\"Enter -1 to exit......\")\n",
        "num = int(input(\"Enter the number:  \"))\n",
        "while(num!=-1):\n",
        "  if(num<0):\n",
        "    neg_count = neg_count+1\n",
        "    neg_s=neg_s+num\n",
        "  else:\n",
        "    pos_count=pos_count+1\n",
        "    pos_s=pos_s+num\n",
        "  num = int(input(\"Enter the number :   \"))\n",
        "\n",
        "neg_avg = float(neg_s)/neg_count\n",
        "pos_avg = float(pos_s)/pos_count\n",
        "\n",
        "print(\"The average of negative number is :  \",neg_avg)\n",
        "print(\"The average of positive number is :  \",pos_avg)"
      ],
      "execution_count": 0,
      "outputs": [
        {
          "output_type": "stream",
          "text": [
            "Enter -1 to exit......\n",
            "Enter the number:  5\n",
            "Enter the number :   -3\n",
            "Enter the number :   7\n",
            "Enter the number :   -7\n",
            "Enter the number :   -4\n",
            "Enter the number :   -3\n",
            "Enter the number :   10\n",
            "Enter the number :   8\n",
            "Enter the number :   -2\n",
            "Enter the number :   -1\n",
            "The average of negative number is :   -3.8\n",
            "The average of positive number is :   7.5\n"
          ],
          "name": "stdout"
        }
      ]
    },
    {
      "cell_type": "markdown",
      "metadata": {
        "id": "t8h1j7FpAYkL",
        "colab_type": "text"
      },
      "source": [
        ""
      ]
    },
    {
      "cell_type": "markdown",
      "metadata": {
        "id": "LsWCUAvyA1a5",
        "colab_type": "text"
      },
      "source": [
        "write a program to find whether the number is an Armstrong number or not.\n",
        "**Hint : ** An Armstrong number of three digit is an integer such that all the sum of its cubes of its digit is equal to the number itself.  \n",
        "\n",
        "For Example:  371 is an armstrong number  ( 3**3) + (7**3) + (1**3) = 371\n"
      ]
    },
    {
      "cell_type": "code",
      "metadata": {
        "id": "urnRnyzgA8X_",
        "colab_type": "code",
        "colab": {}
      },
      "source": [
        "# 3**3 + 7**3 + 1**3 = 371\n",
        "\n",
        "n = int(input(\"Enter the number     \"))\n",
        "s = 0\n",
        "num = n\n",
        " \n",
        "while(n>0):\n",
        "  r = n%10\n",
        "  s = s+(r**3)\n",
        "  n = n/10\n",
        "\n",
        "if(s==num):\n",
        "  print(\"The number is Armstrong\")\n",
        "else:\n",
        "  print(\" The number is not Armstrong\")\n"
      ],
      "execution_count": 0,
      "outputs": []
    },
    {
      "cell_type": "code",
      "metadata": {
        "id": "E-tU5cw6ErwT",
        "colab_type": "code",
        "colab": {}
      },
      "source": [
        "num = 0 \n",
        "originalNum = 0\n",
        "remainder = 0\n",
        "result = 0\n",
        "\n",
        "n = int(input(\"Enter the number :   \"))\n",
        "\n",
        "num = n\n",
        "\n",
        "while(originalNum !=0):\n",
        "  remainder = originalNum %10\n",
        "  result += remainder * remainder * remainder\n",
        "  originalNum /= 10\n",
        "\n",
        "if(result==num):\n",
        "  print(\"%num is an Armstrong number.\",num)\n",
        "else:\n",
        "  print(\"%num is not an Armstrong number.\",num)\n",
        "\n"
      ],
      "execution_count": 0,
      "outputs": []
    },
    {
      "cell_type": "code",
      "metadata": {
        "id": "DXB1Nw_8P009",
        "colab_type": "code",
        "outputId": "45972f12-5488-4783-dd22-2aa0d39652bc",
        "colab": {
          "base_uri": "https://localhost:8080/",
          "height": 51
        }
      },
      "source": [
        "i = int(input(\"Enter Number to check for Armstrong\"))\n",
        "\n",
        "orig=i\n",
        "sum = 0 \n",
        "\n",
        "while(i>0):\n",
        "  sum = sum+(i%10)*(i%10)*(i%10)\n",
        "\n",
        "  i = i//10\n",
        "\n",
        "if orig == sum:\n",
        "  print(\"Number is Armstrong\")\n",
        "\n",
        "else:\n",
        "  print(\"Number is not Armstrong\")\n"
      ],
      "execution_count": 0,
      "outputs": [
        {
          "output_type": "stream",
          "text": [
            "Enter Number to check for Armstrong144\n",
            "Number is not Armstrong\n"
          ],
          "name": "stdout"
        }
      ]
    },
    {
      "cell_type": "code",
      "metadata": {
        "id": "nB6Y9fohPwxI",
        "colab_type": "code",
        "colab": {}
      },
      "source": [
        "\n"
      ],
      "execution_count": 0,
      "outputs": []
    },
    {
      "cell_type": "markdown",
      "metadata": {
        "id": "WPvynU-8IN0X",
        "colab_type": "text"
      },
      "source": [
        "Write a Program to enter a decimal number.  Calculate and display the binary equivalent of this number. "
      ]
    },
    {
      "cell_type": "code",
      "metadata": {
        "id": "9DFUvT_iITJZ",
        "colab_type": "code",
        "colab": {}
      },
      "source": [
        "import math\n",
        "decimal_num = int(input(\"Enter the decimal number:  \"))\n",
        "binary_num = 0\n",
        " \n",
        "i = 0\n",
        "while(decimal_num!=0):\n",
        "  remainder = decimal_num%2\n",
        "  binary_num = binary_num+remainder*(10**i)\n",
        "  decimal_num = decimal_num/2\n",
        "  i = i+1\n",
        "print(\"The binary equivalent =\",binary_num)"
      ],
      "execution_count": 0,
      "outputs": []
    },
    {
      "cell_type": "code",
      "metadata": {
        "id": "u8u2ySCmJxLo",
        "colab_type": "code",
        "colab": {}
      },
      "source": [
        ""
      ],
      "execution_count": 0,
      "outputs": []
    },
    {
      "cell_type": "markdown",
      "metadata": {
        "id": "aiOCTaMWJzsz",
        "colab_type": "text"
      },
      "source": [
        "\n",
        "\n",
        "```\n",
        "# Write a program to enter a binary number and convert it in to decimal.\n",
        "```\n",
        "\n"
      ]
    },
    {
      "cell_type": "code",
      "metadata": {
        "id": "3fgBsFaXKBuy",
        "colab_type": "code",
        "colab": {
          "base_uri": "https://localhost:8080/",
          "height": 51
        },
        "outputId": "da0a7ca3-5fcb-4feb-88da-43a253e9670c"
      },
      "source": [
        "binary_num = int(input(\"Enter the binary number   \"))\n",
        "decimal_num = 0\n",
        "i = 0\n",
        "while(binary_num!=0):\n",
        "  remainder = binary_num%10\n",
        "  decimal_num = decimal_num+remainder*(2**i)\n",
        "  binary_num = binary_num/10\n",
        "  i = i+1\n",
        "print(\"The decimal equivalent is \",decimal_num)"
      ],
      "execution_count": 7,
      "outputs": [
        {
          "output_type": "stream",
          "text": [
            "Enter the binary number   1101\n",
            "The decimal equivalent is  16.249999999999993\n"
          ],
          "name": "stdout"
        }
      ]
    },
    {
      "cell_type": "code",
      "metadata": {
        "id": "t_Fgm-J5LKOq",
        "colab_type": "code",
        "colab": {}
      },
      "source": [
        ""
      ],
      "execution_count": 0,
      "outputs": []
    },
    {
      "cell_type": "markdown",
      "metadata": {
        "id": "dGkuaierK5CP",
        "colab_type": "text"
      },
      "source": [
        "Write a program to read a character until a * is encountered.  Also count the number of uppercase, lowercase, and numbers entered by users. \n",
        "\n",
        "**Programming Tip: ** Statement inside the while loop are repeatedly executed until condition is true.  Once it becomes false, the next section of the code is executed. "
      ]
    },
    {
      "cell_type": "code",
      "metadata": {
        "id": "CFvjO-fxLkip",
        "colab_type": "code",
        "colab": {}
      },
      "source": [
        "ch = input(\"Enter any character:  \")\n",
        "num_count = 0\n",
        "up_count = 0\n",
        "low_count = 0\n",
        "if(ch>='0' and ch<= '9'):\n",
        "  num = num+1\n",
        "elif(ch>='a' and ch<='z'):\n",
        "  low_count = low_count+1\n",
        "\n",
        "elif(ch>='A' and ch<='Z'):\n",
        "  up_count = up_count+1\n",
        "\n",
        "while(ch!='*'):\n",
        "  ch = input(\"Enter any character: \")\n",
        "  if(ch>='0' and ch<='9'):\n",
        "    num_count = num_count+1\n",
        "  elif(ch>='a' and ch<='z'):\n",
        "    low_count = low_count+1\n",
        "  elif(ch>='A' and ch<='Z'):\n",
        "    up_count = up_count+1\n",
        "  \n",
        "  print(\"Number of lowercase characters are : \", low_count)\n",
        "  print(\"Number of uppercase characters are : \", up_count)\n",
        "  print(\"Number of numerals are :             \", num_count)\n"
      ],
      "execution_count": 0,
      "outputs": []
    },
    {
      "cell_type": "markdown",
      "metadata": {
        "id": "izYD_ubtOnVY",
        "colab_type": "text"
      },
      "source": [
        "**Programming Tip** : Placing a semicolon after the while and for loop is not a syntax error and will not be reported by the compiler.  It is considered to be a logical error as it changes outuput of the program.\n",
        "\n",
        "\n",
        "Write a program to enter a number and then calculate the sum of its digit. "
      ]
    },
    {
      "cell_type": "code",
      "metadata": {
        "id": "D8E1JK9jPPt4",
        "colab_type": "code",
        "colab": {}
      },
      "source": [
        "sumOfDigits=0 \n",
        "num = int(input(\"Enter the number: \"))\n",
        "while (num!=0):\n",
        "  temp=num%10\n",
        "  sumOfDigits = sumOfDigits+temp \n",
        "  num = num/10\n",
        "\n",
        "print(\" The sum of digits is \", sumOfDigits)"
      ],
      "execution_count": 0,
      "outputs": []
    },
    {
      "cell_type": "code",
      "metadata": {
        "id": "4eDeXLt_QEbw",
        "colab_type": "code",
        "colab": {}
      },
      "source": [
        ""
      ],
      "execution_count": 0,
      "outputs": []
    },
    {
      "cell_type": "markdown",
      "metadata": {
        "id": "9dtDFiSHQHsO",
        "colab_type": "text"
      },
      "source": [
        "Write a program to calculate the GCD of two numbers. "
      ]
    },
    {
      "cell_type": "code",
      "metadata": {
        "id": "kCSHSSHwQMhk",
        "colab_type": "code",
        "colab": {
          "base_uri": "https://localhost:8080/",
          "height": 68
        },
        "outputId": "d24390e9-301b-4a8c-96ff-5f865753f57a"
      },
      "source": [
        "num1 = int(input(\"Enter the two numbers:  \"))\n",
        "num2 = int(input(\"Enter the two numbers : \"))\n",
        "if(num1>num2):\n",
        "  dividend = num1\n",
        "  divisor = num2\n",
        "else:\n",
        "  dividend = num2\n",
        "  divisor = num1\n",
        "\n",
        "while(divisor!=0):\n",
        "  remainder = dividend%divisor\n",
        "  dividend = divisor\n",
        "  divisor = remainder\n",
        "print(\"GCD of\",num1,\"and\",num2,\"is\",dividend)"
      ],
      "execution_count": 12,
      "outputs": [
        {
          "output_type": "stream",
          "text": [
            "Enter the two numbers:  24\n",
            "Enter the two numbers : 18\n",
            "GCD of 24 and 18 is 6\n"
          ],
          "name": "stdout"
        }
      ]
    },
    {
      "cell_type": "markdown",
      "metadata": {
        "id": "K9jnsED7RVol",
        "colab_type": "text"
      },
      "source": [
        "Write a program to print the reverse of a number. "
      ]
    },
    {
      "cell_type": "code",
      "metadata": {
        "id": "7z4RQCntRe-f",
        "colab_type": "code",
        "colab": {
          "base_uri": "https://localhost:8080/",
          "height": 88
        },
        "outputId": "5699c3f5-d847-4680-fbe5-b52c30d9cc32"
      },
      "source": [
        "import sys\n",
        "\n",
        "\n",
        "num = int(input(\"Enter the number : \"))\n",
        "print(\" The reversed number is :\",)\n",
        "while(num!=0):\n",
        "  temp = num%10\n",
        "  print(temp, end=\" \")\n",
        "  num = num/10"
      ],
      "execution_count": 14,
      "outputs": [
        {
          "output_type": "stream",
          "text": [
            "Enter the number : 123\n",
            " The reversed number is :\n",
            "3 2.3000000000000007 1.23 0.123 0.0123 0.00123 0.000123 1.23e-05 1.23e-06 1.23e-07 1.2300000000000001e-08 1.23e-09 1.2300000000000001e-10 1.2300000000000002e-11 1.2300000000000002e-12 1.2300000000000003e-13 1.2300000000000003e-14 1.2300000000000003e-15 1.2300000000000003e-16 1.2300000000000002e-17 1.2300000000000002e-18 1.2300000000000001e-19 1.2300000000000002e-20 1.2300000000000002e-21 1.2300000000000003e-22 1.2300000000000003e-23 1.2300000000000002e-24 1.2300000000000002e-25 1.2300000000000002e-26 1.2300000000000002e-27 1.2300000000000002e-28 1.2300000000000001e-29 1.23e-30 1.23e-31 1.23e-32 1.23e-33 1.23e-34 1.23e-35 1.23e-36 1.23e-37 1.23e-38 1.23e-39 1.2299999999999999e-40 1.2299999999999998e-41 1.2299999999999998e-42 1.2299999999999998e-43 1.2299999999999997e-44 1.2299999999999997e-45 1.2299999999999997e-46 1.2299999999999996e-47 1.2299999999999996e-48 1.2299999999999996e-49 1.2299999999999996e-50 1.2299999999999996e-51 1.2299999999999996e-52 1.2299999999999996e-53 1.2299999999999995e-54 1.2299999999999995e-55 1.2299999999999996e-56 1.2299999999999996e-57 1.2299999999999995e-58 1.2299999999999994e-59 1.2299999999999994e-60 1.2299999999999993e-61 1.2299999999999994e-62 1.2299999999999993e-63 1.2299999999999994e-64 1.2299999999999994e-65 1.2299999999999995e-66 1.2299999999999995e-67 1.2299999999999994e-68 1.2299999999999994e-69 1.2299999999999994e-70 1.2299999999999995e-71 1.2299999999999994e-72 1.2299999999999994e-73 1.2299999999999995e-74 1.2299999999999996e-75 1.2299999999999995e-76 1.2299999999999995e-77 1.2299999999999996e-78 1.2299999999999995e-79 1.2299999999999995e-80 1.2299999999999996e-81 1.2299999999999995e-82 1.2299999999999995e-83 1.2299999999999995e-84 1.2299999999999994e-85 1.2299999999999995e-86 1.2299999999999995e-87 1.2299999999999995e-88 1.2299999999999995e-89 1.2299999999999996e-90 1.2299999999999995e-91 1.2299999999999995e-92 1.2299999999999994e-93 1.2299999999999995e-94 1.2299999999999995e-95 1.2299999999999994e-96 1.2299999999999994e-97 1.2299999999999994e-98 1.2299999999999994e-99 1.2299999999999993e-100 1.2299999999999993e-101 1.2299999999999992e-102 1.2299999999999991e-103 1.2299999999999991e-104 1.229999999999999e-105 1.229999999999999e-106 1.229999999999999e-107 1.229999999999999e-108 1.229999999999999e-109 1.2299999999999991e-110 1.229999999999999e-111 1.229999999999999e-112 1.229999999999999e-113 1.229999999999999e-114 1.229999999999999e-115 1.2299999999999989e-116 1.2299999999999989e-117 1.229999999999999e-118 1.229999999999999e-119 1.229999999999999e-120 1.229999999999999e-121 1.229999999999999e-122 1.229999999999999e-123 1.229999999999999e-124 1.229999999999999e-125 1.229999999999999e-126 1.2299999999999989e-127 1.229999999999999e-128 1.2299999999999989e-129 1.2299999999999989e-130 1.229999999999999e-131 1.2299999999999989e-132 1.2299999999999989e-133 1.229999999999999e-134 1.229999999999999e-135 1.229999999999999e-136 1.229999999999999e-137 1.229999999999999e-138 1.2299999999999991e-139 1.229999999999999e-140 1.229999999999999e-141 1.229999999999999e-142 1.2299999999999989e-143 1.2299999999999989e-144 1.2299999999999989e-145 1.2299999999999988e-146 1.2299999999999988e-147 1.2299999999999989e-148 1.229999999999999e-149 1.229999999999999e-150 1.229999999999999e-151 1.229999999999999e-152 1.229999999999999e-153 1.229999999999999e-154 1.229999999999999e-155 1.229999999999999e-156 1.229999999999999e-157 1.2299999999999989e-158 1.229999999999999e-159 1.229999999999999e-160 1.229999999999999e-161 1.229999999999999e-162 1.229999999999999e-163 1.2299999999999991e-164 1.2299999999999992e-165 1.2299999999999992e-166 1.2299999999999992e-167 1.2299999999999992e-168 1.2299999999999992e-169 1.2299999999999993e-170 1.2299999999999993e-171 1.2299999999999993e-172 1.2299999999999993e-173 1.2299999999999993e-174 1.2299999999999992e-175 1.2299999999999993e-176 1.2299999999999993e-177 1.2299999999999993e-178 1.2299999999999993e-179 1.2299999999999993e-180 1.2299999999999992e-181 1.2299999999999993e-182 1.2299999999999993e-183 1.2299999999999992e-184 1.2299999999999992e-185 1.2299999999999991e-186 1.2299999999999992e-187 1.2299999999999992e-188 1.2299999999999992e-189 1.2299999999999993e-190 1.2299999999999994e-191 1.2299999999999994e-192 1.2299999999999995e-193 1.2299999999999995e-194 1.2299999999999995e-195 1.2299999999999996e-196 1.2299999999999997e-197 1.2299999999999997e-198 1.2299999999999998e-199 1.2299999999999998e-200 1.2299999999999998e-201 1.2299999999999997e-202 1.2299999999999996e-203 1.2299999999999996e-204 1.2299999999999995e-205 1.2299999999999995e-206 1.2299999999999996e-207 1.2299999999999997e-208 1.2299999999999998e-209 1.2299999999999997e-210 1.2299999999999998e-211 1.2299999999999997e-212 1.2299999999999998e-213 1.2299999999999998e-214 1.2299999999999997e-215 1.2299999999999997e-216 1.2299999999999997e-217 1.2299999999999997e-218 1.2299999999999997e-219 1.2299999999999997e-220 1.2299999999999996e-221 1.2299999999999997e-222 1.2299999999999996e-223 1.2299999999999995e-224 1.2299999999999996e-225 1.2299999999999995e-226 1.2299999999999995e-227 1.2299999999999994e-228 1.2299999999999994e-229 1.2299999999999994e-230 1.2299999999999994e-231 1.2299999999999994e-232 1.2299999999999994e-233 1.2299999999999994e-234 1.2299999999999994e-235 1.2299999999999995e-236 1.2299999999999995e-237 1.2299999999999996e-238 1.2299999999999995e-239 1.2299999999999996e-240 1.2299999999999995e-241 1.2299999999999996e-242 1.2299999999999995e-243 1.2299999999999995e-244 1.2299999999999995e-245 1.2299999999999994e-246 1.2299999999999994e-247 1.2299999999999995e-248 1.2299999999999994e-249 1.2299999999999993e-250 1.2299999999999994e-251 1.2299999999999995e-252 1.2299999999999995e-253 1.2299999999999995e-254 1.2299999999999995e-255 1.2299999999999995e-256 1.2299999999999995e-257 1.2299999999999994e-258 1.2299999999999993e-259 1.2299999999999994e-260 1.2299999999999995e-261 1.2299999999999995e-262 1.2299999999999995e-263 1.2299999999999995e-264 1.2299999999999994e-265 1.2299999999999994e-266 1.2299999999999994e-267 1.2299999999999995e-268 1.2299999999999996e-269 1.2299999999999996e-270 1.2299999999999997e-271 1.2299999999999996e-272 1.2299999999999997e-273 1.2299999999999996e-274 1.2299999999999996e-275 1.2299999999999997e-276 1.2299999999999998e-277 1.2299999999999998e-278 1.2299999999999999e-279 1.2299999999999999e-280 1.2299999999999999e-281 1.2299999999999998e-282 1.2299999999999998e-283 1.2299999999999998e-284 1.2299999999999998e-285 1.2299999999999997e-286 1.2299999999999997e-287 1.2299999999999996e-288 1.2299999999999996e-289 1.2299999999999996e-290 1.2299999999999997e-291 1.2299999999999997e-292 1.2299999999999997e-293 1.2299999999999998e-294 1.2299999999999997e-295 1.2299999999999997e-296 1.2299999999999996e-297 1.2299999999999997e-298 1.2299999999999998e-299 1.2299999999999998e-300 1.2299999999999998e-301 1.2299999999999997e-302 1.2299999999999998e-303 1.2299999999999998e-304 1.2299999999999998e-305 1.2299999999999997e-306 1.2299999999999997e-307 1.2299999999999997e-308 1.23e-309 1.23e-310 1.23e-311 1.23e-312 1.23e-313 1.23e-314 1.23e-315 1.23e-316 1.23e-317 1.23e-318 1.23003e-319 1.23e-320 1.23e-321 1.24e-322 1e-323 "
          ],
          "name": "stdout"
        }
      ]
    },
    {
      "cell_type": "markdown",
      "metadata": {
        "id": "cm4d37-VSRwT",
        "colab_type": "text"
      },
      "source": [
        "Write a program using a while loop that asks the useer  for a number and prints a countdown from that number to zero."
      ]
    },
    {
      "cell_type": "code",
      "metadata": {
        "id": "MuWehGdjSchj",
        "colab_type": "code",
        "colab": {
          "base_uri": "https://localhost:8080/",
          "height": 51
        },
        "outputId": "a56d8a51-3ce6-4c81-fafb-1c874c72fb9c"
      },
      "source": [
        "n = int(input(\"Enter the value of n : \"))\n",
        "while n>0:\n",
        "  print(n, end = '  ')\n",
        "  n = n-1\n",
        "  "
      ],
      "execution_count": 15,
      "outputs": [
        {
          "output_type": "stream",
          "text": [
            "Enter the value of n : 15\n",
            "15  14  13  12  11  10  9  8  7  6  5  4  3  2  1  "
          ],
          "name": "stdout"
        }
      ]
    }
  ]
}