{
  "nbformat": 4,
  "nbformat_minor": 0,
  "metadata": {
    "colab": {
      "name": "BasicLoopStructures.ipynb",
      "provenance": [],
      "authorship_tag": "ABX9TyOKdgMzluG1eExSltysnDS9",
      "include_colab_link": true
    },
    "kernelspec": {
      "name": "python3",
      "display_name": "Python 3"
    }
  },
  "cells": [
    {
      "cell_type": "markdown",
      "metadata": {
        "id": "view-in-github",
        "colab_type": "text"
      },
      "source": [
        "<a href=\"https://colab.research.google.com/github/vijendranp/Hello-World/blob/master/BasicLoopStructures.ipynb\" target=\"_parent\"><img src=\"https://colab.research.google.com/assets/colab-badge.svg\" alt=\"Open In Colab\"/></a>"
      ]
    },
    {
      "cell_type": "code",
      "metadata": {
        "id": "oIoNMz_W23Qi",
        "colab_type": "code",
        "colab": {}
      },
      "source": [
        ""
      ],
      "execution_count": 0,
      "outputs": []
    },
    {
      "cell_type": "markdown",
      "metadata": {
        "id": "G_f6eFPg2486",
        "colab_type": "text"
      },
      "source": [
        "# BASIC LOOP STRUCTURES / ITERATIVE STATEMENTS \n",
        "\n",
        "Python supports loop structures through iterative statements.  Iterative statements are decision control statements that are used to repeat execution of a list of statement.  \n",
        "\n",
        "**While loop**\n",
        "The while loop provides a mechanism to repeat one or more statements while a particular condition is true. \n",
        "\n",
        "*Syntax*: \n",
        "statement x\n",
        "while (condition):\n",
        "      statement block \n",
        "statement y \n",
        "\n",
        "Program to print first 10 numbers using a while  loop "
      ]
    },
    {
      "cell_type": "code",
      "metadata": {
        "id": "T412TRtU4BLR",
        "colab_type": "code",
        "colab": {}
      },
      "source": [
        "i = 0 \n",
        "while (i<=10):\n",
        "  print(i,end=\"  \")\n",
        "  i = i+1\n",
        "  "
      ],
      "execution_count": 0,
      "outputs": []
    },
    {
      "cell_type": "markdown",
      "metadata": {
        "id": "yFDciB2C4X8f",
        "colab_type": "text"
      },
      "source": [
        "Program to separate two values printed on the same line using tab"
      ]
    },
    {
      "cell_type": "code",
      "metadata": {
        "id": "gQ45QPvN4rYC",
        "colab_type": "code",
        "colab": {}
      },
      "source": [
        "i = 0 \n",
        "while (i <=20):\n",
        "  print(i, end = '\\t')\n",
        "  i+=1"
      ],
      "execution_count": 0,
      "outputs": []
    },
    {
      "cell_type": "markdown",
      "metadata": {
        "id": "CAd4hbet4_9G",
        "colab_type": "text"
      },
      "source": [
        "**NOTE** : If you use end =  \"  \",  then there will be no space between two values.\n",
        "\n",
        "\n",
        "write a program to calculate the sum and average of the first 10 numbers"
      ]
    },
    {
      "cell_type": "code",
      "metadata": {
        "id": "daWsCm2I5SHx",
        "colab_type": "code",
        "colab": {
          "base_uri": "https://localhost:8080/",
          "height": 51
        },
        "outputId": "7ee5c65b-29bf-49f6-c9b9-4a030893fd0c"
      },
      "source": [
        "i = 0\n",
        "s = 0\n",
        "\n",
        "while(i<=10):\n",
        "  s = s+i\n",
        "  i=i+1\n",
        "\n",
        "avg = float(s)/10\n",
        "print(\"The sum of first 10 numbers is : \",s)\n",
        "print(\"The average of the first 10 numbers is :  \",avg)"
      ],
      "execution_count": 4,
      "outputs": [
        {
          "output_type": "stream",
          "text": [
            "The sum of first 10 numbers is :  55\n",
            "The average of the first 10 numbers is :   5.5\n"
          ],
          "name": "stdout"
        }
      ]
    },
    {
      "cell_type": "markdown",
      "metadata": {
        "id": "vwved0i66dRw",
        "colab_type": "text"
      },
      "source": [
        "Write a program to calculate the sum of numbers from m to n "
      ]
    },
    {
      "cell_type": "code",
      "metadata": {
        "id": "K2QqENMu6jLM",
        "colab_type": "code",
        "colab": {
          "base_uri": "https://localhost:8080/",
          "height": 68
        },
        "outputId": "fc744843-b51e-4531-e05e-ef5a94f43000"
      },
      "source": [
        "m = int(input (\" Enter the value of m :    \"))\n",
        "n = int(input(\"Enter the value of n :     \"))\n",
        "\n",
        "s = 0 \n",
        "while (m<=n):\n",
        "  s = s+m\n",
        "  m = m+1\n",
        "print(\"SUM=  \",s)"
      ],
      "execution_count": 7,
      "outputs": [
        {
          "output_type": "stream",
          "text": [
            " Enter the value of m :    5\n",
            "Enter the value of n :     8\n",
            "SUM=   26\n"
          ],
          "name": "stdout"
        }
      ]
    },
    {
      "cell_type": "markdown",
      "metadata": {
        "id": "VTMwgvIK7X5h",
        "colab_type": "text"
      },
      "source": [
        "Write a program to read the numbers until -1 is encountered.  Also count negative, positive and zeroes entered by the user."
      ]
    },
    {
      "cell_type": "code",
      "metadata": {
        "id": "GJV3OvOP7gdt",
        "colab_type": "code",
        "colab": {}
      },
      "source": [
        "\n",
        "negative = positive = zero = 0\n",
        "print(\"Enter -1 to exit. ......\")\n",
        "while(1):\n",
        "  num = int(input(\"Enter any number: \"))\n",
        "  if (num==-1):\n",
        "    break\n",
        "  if(num==0):\n",
        "    zero = zero +1\n",
        "  elif(num>0):\n",
        "    positive = positive + 1\n",
        "  else:\n",
        "    negative = negative + 1\n",
        "\n",
        "print(\"Count of positive numbers entered :  \", positive)\n",
        "print(\"Count of negative numbers entered :  \", negative)\n",
        "print(\"Count of zero numbers entered :      \", zero)\n"
      ],
      "execution_count": 0,
      "outputs": []
    },
    {
      "cell_type": "markdown",
      "metadata": {
        "id": "YSwxqUy09BRY",
        "colab_type": "text"
      },
      "source": [
        "Write a program to read the numbers until -1 is encountered.  Find the average of positive number and negative number entered by the user. \n",
        "\n",
        "**If statement is rune once if condition is True, and never if it is False**\n",
        "**A while statement is similar, except that it can be run more than once.**"
      ]
    },
    {
      "cell_type": "code",
      "metadata": {
        "id": "oXjcx-z99LFR",
        "colab_type": "code",
        "colab": {
          "base_uri": "https://localhost:8080/",
          "height": 238
        },
        "outputId": "db6eb7e3-3a2a-4f1f-a796-f9663c43e792"
      },
      "source": [
        "neg_count = 0 \n",
        "neg_s = 0\n",
        "pos_count = 0\n",
        "pos_s =0 \n",
        "print(\"Enter -1 to exit......\")\n",
        "num = int(input(\"Enter the number:  \"))\n",
        "while(num!=-1):\n",
        "  if(num<0):\n",
        "    neg_count = neg_count+1\n",
        "    neg_s=neg_s+num\n",
        "  else:\n",
        "    pos_count=pos_count+1\n",
        "    pos_s=pos_s+num\n",
        "  num = int(input(\"Enter the number :   \"))\n",
        "\n",
        "neg_avg = float(neg_s)/neg_count\n",
        "pos_avg = float(pos_s)/pos_count\n",
        "\n",
        "print(\"The average of negative number is :  \",neg_avg)\n",
        "print(\"The average of positive number is :  \",pos_avg)"
      ],
      "execution_count": 9,
      "outputs": [
        {
          "output_type": "stream",
          "text": [
            "Enter -1 to exit......\n",
            "Enter the number:  5\n",
            "Enter the number :   -3\n",
            "Enter the number :   7\n",
            "Enter the number :   -7\n",
            "Enter the number :   -4\n",
            "Enter the number :   -3\n",
            "Enter the number :   10\n",
            "Enter the number :   8\n",
            "Enter the number :   -2\n",
            "Enter the number :   -1\n",
            "The average of negative number is :   -3.8\n",
            "The average of positive number is :   7.5\n"
          ],
          "name": "stdout"
        }
      ]
    },
    {
      "cell_type": "markdown",
      "metadata": {
        "id": "t8h1j7FpAYkL",
        "colab_type": "text"
      },
      "source": [
        ""
      ]
    },
    {
      "cell_type": "markdown",
      "metadata": {
        "id": "LsWCUAvyA1a5",
        "colab_type": "text"
      },
      "source": [
        "write a program to find whether the number is an Armstrong number or not.\n",
        "**Hint : ** An Armstrong number of three digit is an integer such that all the sum of its cubes of its digit is equal to the number itself.  \n",
        "\n",
        "For Example:  371 is an armstrong number  ( 3**3) + (7**3) + (1**3) = 371\n"
      ]
    },
    {
      "cell_type": "code",
      "metadata": {
        "id": "urnRnyzgA8X_",
        "colab_type": "code",
        "colab": {}
      },
      "source": [
        "# 3**3 + 7**3 + 1**3 = 371\n",
        "\n",
        "n = int(input(\"Enter the number     \"))\n",
        "s = 0\n",
        "num = n\n",
        " \n",
        "while(n>0):\n",
        "  r = n%10\n",
        "  s = s+(r**3)\n",
        "  n = n/10\n",
        "\n",
        "if(s==num):\n",
        "  print(\"The number is Armstrong\")\n",
        "else:\n",
        "  print(\" The number is not Armstrong\")\n"
      ],
      "execution_count": 0,
      "outputs": []
    },
    {
      "cell_type": "code",
      "metadata": {
        "id": "E-tU5cw6ErwT",
        "colab_type": "code",
        "colab": {
          "base_uri": "https://localhost:8080/",
          "height": 548
        },
        "outputId": "9bf63ad1-5849-4c64-ca39-75fd3cf69997"
      },
      "source": [
        "num = 0 \n",
        "originalNum = 0\n",
        "remainder = 0\n",
        "result = 0\n",
        "\n",
        "n = int(input(\"Enter the number :   \"))\n",
        "\n",
        "num = n\n",
        "\n",
        "while(originalNum !=0):\n",
        "  remainder = originalNum %10\n",
        "  result += remainder * remainder * remainder\n",
        "  originalNum /= 10\n",
        "\n",
        "if(result==num):\n",
        "  print(\"%num is an Armstrong number.\",num)\n",
        "else:\n",
        "  print(\"%num is not an Armstrong number.\",num)\n",
        "\n"
      ],
      "execution_count": 18,
      "outputs": [
        {
          "output_type": "error",
          "ename": "KeyboardInterrupt",
          "evalue": "ignored",
          "traceback": [
            "\u001b[0;31m---------------------------------------------------------------------------\u001b[0m",
            "\u001b[0;31mKeyboardInterrupt\u001b[0m                         Traceback (most recent call last)",
            "\u001b[0;32m/usr/local/lib/python3.6/dist-packages/ipykernel/kernelbase.py\u001b[0m in \u001b[0;36m_input_request\u001b[0;34m(self, prompt, ident, parent, password)\u001b[0m\n\u001b[1;32m    728\u001b[0m             \u001b[0;32mtry\u001b[0m\u001b[0;34m:\u001b[0m\u001b[0;34m\u001b[0m\u001b[0;34m\u001b[0m\u001b[0m\n\u001b[0;32m--> 729\u001b[0;31m                 \u001b[0mident\u001b[0m\u001b[0;34m,\u001b[0m \u001b[0mreply\u001b[0m \u001b[0;34m=\u001b[0m \u001b[0mself\u001b[0m\u001b[0;34m.\u001b[0m\u001b[0msession\u001b[0m\u001b[0;34m.\u001b[0m\u001b[0mrecv\u001b[0m\u001b[0;34m(\u001b[0m\u001b[0mself\u001b[0m\u001b[0;34m.\u001b[0m\u001b[0mstdin_socket\u001b[0m\u001b[0;34m,\u001b[0m \u001b[0;36m0\u001b[0m\u001b[0;34m)\u001b[0m\u001b[0;34m\u001b[0m\u001b[0;34m\u001b[0m\u001b[0m\n\u001b[0m\u001b[1;32m    730\u001b[0m             \u001b[0;32mexcept\u001b[0m \u001b[0mException\u001b[0m\u001b[0;34m:\u001b[0m\u001b[0;34m\u001b[0m\u001b[0;34m\u001b[0m\u001b[0m\n",
            "\u001b[0;32m/usr/local/lib/python3.6/dist-packages/jupyter_client/session.py\u001b[0m in \u001b[0;36mrecv\u001b[0;34m(self, socket, mode, content, copy)\u001b[0m\n\u001b[1;32m    802\u001b[0m         \u001b[0;32mtry\u001b[0m\u001b[0;34m:\u001b[0m\u001b[0;34m\u001b[0m\u001b[0;34m\u001b[0m\u001b[0m\n\u001b[0;32m--> 803\u001b[0;31m             \u001b[0mmsg_list\u001b[0m \u001b[0;34m=\u001b[0m \u001b[0msocket\u001b[0m\u001b[0;34m.\u001b[0m\u001b[0mrecv_multipart\u001b[0m\u001b[0;34m(\u001b[0m\u001b[0mmode\u001b[0m\u001b[0;34m,\u001b[0m \u001b[0mcopy\u001b[0m\u001b[0;34m=\u001b[0m\u001b[0mcopy\u001b[0m\u001b[0;34m)\u001b[0m\u001b[0;34m\u001b[0m\u001b[0;34m\u001b[0m\u001b[0m\n\u001b[0m\u001b[1;32m    804\u001b[0m         \u001b[0;32mexcept\u001b[0m \u001b[0mzmq\u001b[0m\u001b[0;34m.\u001b[0m\u001b[0mZMQError\u001b[0m \u001b[0;32mas\u001b[0m \u001b[0me\u001b[0m\u001b[0;34m:\u001b[0m\u001b[0;34m\u001b[0m\u001b[0;34m\u001b[0m\u001b[0m\n",
            "\u001b[0;32m/usr/local/lib/python3.6/dist-packages/zmq/sugar/socket.py\u001b[0m in \u001b[0;36mrecv_multipart\u001b[0;34m(self, flags, copy, track)\u001b[0m\n\u001b[1;32m    474\u001b[0m         \"\"\"\n\u001b[0;32m--> 475\u001b[0;31m         \u001b[0mparts\u001b[0m \u001b[0;34m=\u001b[0m \u001b[0;34m[\u001b[0m\u001b[0mself\u001b[0m\u001b[0;34m.\u001b[0m\u001b[0mrecv\u001b[0m\u001b[0;34m(\u001b[0m\u001b[0mflags\u001b[0m\u001b[0;34m,\u001b[0m \u001b[0mcopy\u001b[0m\u001b[0;34m=\u001b[0m\u001b[0mcopy\u001b[0m\u001b[0;34m,\u001b[0m \u001b[0mtrack\u001b[0m\u001b[0;34m=\u001b[0m\u001b[0mtrack\u001b[0m\u001b[0;34m)\u001b[0m\u001b[0;34m]\u001b[0m\u001b[0;34m\u001b[0m\u001b[0;34m\u001b[0m\u001b[0m\n\u001b[0m\u001b[1;32m    476\u001b[0m         \u001b[0;31m# have first part already, only loop while more to receive\u001b[0m\u001b[0;34m\u001b[0m\u001b[0;34m\u001b[0m\u001b[0;34m\u001b[0m\u001b[0m\n",
            "\u001b[0;32mzmq/backend/cython/socket.pyx\u001b[0m in \u001b[0;36mzmq.backend.cython.socket.Socket.recv\u001b[0;34m()\u001b[0m\n",
            "\u001b[0;32mzmq/backend/cython/socket.pyx\u001b[0m in \u001b[0;36mzmq.backend.cython.socket.Socket.recv\u001b[0;34m()\u001b[0m\n",
            "\u001b[0;32mzmq/backend/cython/socket.pyx\u001b[0m in \u001b[0;36mzmq.backend.cython.socket._recv_copy\u001b[0;34m()\u001b[0m\n",
            "\u001b[0;32m/usr/local/lib/python3.6/dist-packages/zmq/backend/cython/checkrc.pxd\u001b[0m in \u001b[0;36mzmq.backend.cython.checkrc._check_rc\u001b[0;34m()\u001b[0m\n",
            "\u001b[0;31mKeyboardInterrupt\u001b[0m: ",
            "\nDuring handling of the above exception, another exception occurred:\n",
            "\u001b[0;31mKeyboardInterrupt\u001b[0m                         Traceback (most recent call last)",
            "\u001b[0;32m<ipython-input-18-f1167b8d5965>\u001b[0m in \u001b[0;36m<module>\u001b[0;34m()\u001b[0m\n\u001b[1;32m      4\u001b[0m \u001b[0mresult\u001b[0m \u001b[0;34m=\u001b[0m \u001b[0;36m0\u001b[0m\u001b[0;34m\u001b[0m\u001b[0;34m\u001b[0m\u001b[0m\n\u001b[1;32m      5\u001b[0m \u001b[0;34m\u001b[0m\u001b[0m\n\u001b[0;32m----> 6\u001b[0;31m \u001b[0mn\u001b[0m \u001b[0;34m=\u001b[0m \u001b[0mint\u001b[0m\u001b[0;34m(\u001b[0m\u001b[0minput\u001b[0m\u001b[0;34m(\u001b[0m\u001b[0;34m\"Enter the number :   \"\u001b[0m\u001b[0;34m)\u001b[0m\u001b[0;34m)\u001b[0m\u001b[0;34m\u001b[0m\u001b[0;34m\u001b[0m\u001b[0m\n\u001b[0m\u001b[1;32m      7\u001b[0m \u001b[0;34m\u001b[0m\u001b[0m\n\u001b[1;32m      8\u001b[0m \u001b[0mnum\u001b[0m \u001b[0;34m=\u001b[0m \u001b[0mn\u001b[0m\u001b[0;34m\u001b[0m\u001b[0;34m\u001b[0m\u001b[0m\n",
            "\u001b[0;32m/usr/local/lib/python3.6/dist-packages/ipykernel/kernelbase.py\u001b[0m in \u001b[0;36mraw_input\u001b[0;34m(self, prompt)\u001b[0m\n\u001b[1;32m    702\u001b[0m             \u001b[0mself\u001b[0m\u001b[0;34m.\u001b[0m\u001b[0m_parent_ident\u001b[0m\u001b[0;34m,\u001b[0m\u001b[0;34m\u001b[0m\u001b[0;34m\u001b[0m\u001b[0m\n\u001b[1;32m    703\u001b[0m             \u001b[0mself\u001b[0m\u001b[0;34m.\u001b[0m\u001b[0m_parent_header\u001b[0m\u001b[0;34m,\u001b[0m\u001b[0;34m\u001b[0m\u001b[0;34m\u001b[0m\u001b[0m\n\u001b[0;32m--> 704\u001b[0;31m             \u001b[0mpassword\u001b[0m\u001b[0;34m=\u001b[0m\u001b[0;32mFalse\u001b[0m\u001b[0;34m,\u001b[0m\u001b[0;34m\u001b[0m\u001b[0;34m\u001b[0m\u001b[0m\n\u001b[0m\u001b[1;32m    705\u001b[0m         )\n\u001b[1;32m    706\u001b[0m \u001b[0;34m\u001b[0m\u001b[0m\n",
            "\u001b[0;32m/usr/local/lib/python3.6/dist-packages/ipykernel/kernelbase.py\u001b[0m in \u001b[0;36m_input_request\u001b[0;34m(self, prompt, ident, parent, password)\u001b[0m\n\u001b[1;32m    732\u001b[0m             \u001b[0;32mexcept\u001b[0m \u001b[0mKeyboardInterrupt\u001b[0m\u001b[0;34m:\u001b[0m\u001b[0;34m\u001b[0m\u001b[0;34m\u001b[0m\u001b[0m\n\u001b[1;32m    733\u001b[0m                 \u001b[0;31m# re-raise KeyboardInterrupt, to truncate traceback\u001b[0m\u001b[0;34m\u001b[0m\u001b[0;34m\u001b[0m\u001b[0;34m\u001b[0m\u001b[0m\n\u001b[0;32m--> 734\u001b[0;31m                 \u001b[0;32mraise\u001b[0m \u001b[0mKeyboardInterrupt\u001b[0m\u001b[0;34m\u001b[0m\u001b[0;34m\u001b[0m\u001b[0m\n\u001b[0m\u001b[1;32m    735\u001b[0m             \u001b[0;32melse\u001b[0m\u001b[0;34m:\u001b[0m\u001b[0;34m\u001b[0m\u001b[0;34m\u001b[0m\u001b[0m\n\u001b[1;32m    736\u001b[0m                 \u001b[0;32mbreak\u001b[0m\u001b[0;34m\u001b[0m\u001b[0;34m\u001b[0m\u001b[0m\n",
            "\u001b[0;31mKeyboardInterrupt\u001b[0m: "
          ]
        }
      ]
    },
    {
      "cell_type": "code",
      "metadata": {
        "id": "DXB1Nw_8P009",
        "colab_type": "code",
        "colab": {
          "base_uri": "https://localhost:8080/",
          "height": 51
        },
        "outputId": "7ec9b4c5-54cc-4221-baa7-786ad97a4d55"
      },
      "source": [
        "i = int(input(\"Enter Number to check for Armstrong\"))\n",
        "\n",
        "orig=i\n",
        "sum = 0 \n",
        "\n",
        "while(i>0):\n",
        "  sum = sum+(i%10)*(i%10)*(i%10)\n",
        "\n",
        "  i = i//10\n",
        "\n",
        "if orig == sum:\n",
        "  print(\"Number is Armstrong\")\n",
        "\n",
        "else:\n",
        "  print(\"Number is not Armstrong\")\n"
      ],
      "execution_count": 19,
      "outputs": [
        {
          "output_type": "stream",
          "text": [
            "Enter Number to check for Armstrong153\n",
            "Number is Armstrong\n"
          ],
          "name": "stdout"
        }
      ]
    },
    {
      "cell_type": "code",
      "metadata": {
        "id": "nB6Y9fohPwxI",
        "colab_type": "code",
        "colab": {}
      },
      "source": [
        ""
      ],
      "execution_count": 0,
      "outputs": []
    }
  ]
}