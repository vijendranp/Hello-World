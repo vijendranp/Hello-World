{
  "nbformat": 4,
  "nbformat_minor": 0,
  "metadata": {
    "colab": {
      "name": "DataStructureContinued.ipynb",
      "provenance": [],
      "collapsed_sections": [],
      "authorship_tag": "ABX9TyOYappm8QG3JNZu3tzCIMFi",
      "include_colab_link": true
    },
    "kernelspec": {
      "name": "python3",
      "display_name": "Python 3"
    }
  },
  "cells": [
    {
      "cell_type": "markdown",
      "metadata": {
        "id": "view-in-github",
        "colab_type": "text"
      },
      "source": [
        "<a href=\"https://colab.research.google.com/github/vijendranp/Hello-World/blob/master/DataStructureContinued.ipynb\" target=\"_parent\"><img src=\"https://colab.research.google.com/assets/colab-badge.svg\" alt=\"Open In Colab\"/></a>"
      ]
    },
    {
      "cell_type": "code",
      "metadata": {
        "id": "H3nCM6HHNWRY",
        "colab_type": "code",
        "colab": {}
      },
      "source": [
        ""
      ],
      "execution_count": 0,
      "outputs": []
    },
    {
      "cell_type": "markdown",
      "metadata": {
        "id": "JsRouIkYNa33",
        "colab_type": "text"
      },
      "source": [
        "# TUPLE: \n",
        "Tuple is another data structure supported by Python.  It differs from list in two sense: \n",
        "A tuple is a sequence of immutable objects.  This means that while you can change the value of one or more items in a list, you cannot change the value in a tuple.  \n",
        "\n",
        "Tuple uses the parentheses to define its elements whereas list uses a square bracket.\n",
        "\n",
        "Creating the different types of tuples. "
      ]
    },
    {
      "cell_type": "code",
      "metadata": {
        "id": "ZFJwYjRVaPNl",
        "colab_type": "code",
        "outputId": "2be63109-0976-43dc-bb6d-4b3061a8d42c",
        "colab": {
          "base_uri": "https://localhost:8080/",
          "height": 170
        }
      },
      "source": [
        "Tup1 = () # creates an empty tuple\n",
        "print(Tup1)\n",
        "\n",
        "Tup1 =(15) # creates a tuple with single element. \n",
        "print(Tup1)\n",
        "\n",
        "Tup1 =(1,2,3,4,5)  # creates a tuple of integers. \n",
        "print(Tup1)\n",
        "\n",
        "Tup2 = ('a','b','c','d') # creates a tuple of characters.\n",
        "print(Tup2)\n",
        "\n",
        "Tup3 =(\"zyx\",\"wvut\",\"srq\", \"pon\",\"mlj\")\n",
        "print(Tup3)\n",
        "\n",
        "Tup4 = (1.2,2.3,3.4,4.5)# creates a tuple of floating numbers.\n",
        "print(Tup4)\n",
        "\n",
        "Tup5 = (1,\"zyx\",3.2,'q')\n",
        "print(Tup5)\n",
        "\n",
        "\n",
        "# Tuple with parentheses \n",
        "print('a',\"zyx\",2 ,4.6)\n",
        "a,b,c = 30,20,10\n",
        "print(a,b,c)"
      ],
      "execution_count": 0,
      "outputs": [
        {
          "output_type": "stream",
          "text": [
            "()\n",
            "15\n",
            "(1, 2, 3, 4, 5)\n",
            "('a', 'b', 'c', 'd')\n",
            "('zyx', 'wvut', 'srq', 'pon', 'mlj')\n",
            "(1.2, 2.3, 3.4, 4.5)\n",
            "(1, 'zyx', 3.2, 'q')\n",
            "a zyx 2 4.6\n",
            "30 20 10\n"
          ],
          "name": "stdout"
        }
      ]
    },
    {
      "cell_type": "markdown",
      "metadata": {
        "id": "UCs1nQYXcOOd",
        "colab_type": "text"
      },
      "source": [
        "**Important** Any set of multiple, comma separated values written without an identifying symbol like brackets [] because it specifies a list and parentheses() for tuples. are treated as tuples by default.  If you want to create a tuple with single element, then you must add a comma after the element.  In the absence of a comma, python treats the element as an ordinary data type.  \n",
        "\n",
        "Program to demonstrate the necessity of having a comma in the tuple.  \n",
        "\n",
        "These tuples stores related information about a subject together.  The information belongs to different data types.  "
      ]
    },
    {
      "cell_type": "code",
      "metadata": {
        "id": "uJZzBbAGdyUL",
        "colab_type": "code",
        "outputId": "888c05de-d5db-4599-9705-8012fb843aad",
        "colab": {
          "base_uri": "https://localhost:8080/",
          "height": 34
        }
      },
      "source": [
        "Tup = (10,) # comma after first element\n",
        "print(type(Tup))"
      ],
      "execution_count": 0,
      "outputs": [
        {
          "output_type": "stream",
          "text": [
            "<class 'tuple'>\n"
          ],
          "name": "stdout"
        }
      ]
    },
    {
      "cell_type": "markdown",
      "metadata": {
        "id": "VwPpDEEwjAg6",
        "colab_type": "text"
      },
      "source": [
        "Some built in functions return a tuple.  For example, the divmod() function returns two values - quotient as well as the remainder after performing the divide operation.  \n",
        "\n",
        "Program to illustrate the use of divmod() function.  \n",
        "\n"
      ]
    },
    {
      "cell_type": "code",
      "metadata": {
        "id": "Q9NTwMtejZ9N",
        "colab_type": "code",
        "outputId": "8d18312a-3e7a-4fc6-989e-b947fcd44110",
        "colab": {
          "base_uri": "https://localhost:8080/",
          "height": 51
        }
      },
      "source": [
        "quo, rem = divmod(100,3)\n",
        "print(\"Quotient = \",quo)\n",
        "print(\"Remainder =  \",rem)"
      ],
      "execution_count": 0,
      "outputs": [
        {
          "output_type": "stream",
          "text": [
            "Quotient =  33\n",
            "Remainder =   1\n"
          ],
          "name": "stdout"
        }
      ]
    },
    {
      "cell_type": "markdown",
      "metadata": {
        "id": "Zq0E-UuflbAe",
        "colab_type": "text"
      },
      "source": [
        "Accessing Values in a Tuple. \n",
        "Indices in a tuple also starts at 0.  You can perform operations like slice, concatenate,.  \n",
        "To access values in a tuple, slice operation is used along with the index or indices to obtain value stored at that index.  \n",
        "\n",
        "Program to illustrate the use of slice operation to retrieve value(s) stored in a tuple.  "
      ]
    },
    {
      "cell_type": "code",
      "metadata": {
        "id": "ZGTc8SP9l8j8",
        "colab_type": "code",
        "outputId": "191f1257-dd58-4d80-b0fb-4749e47a55bd",
        "colab": {
          "base_uri": "https://localhost:8080/",
          "height": 85
        }
      },
      "source": [
        "Tup1 = (10,9,8,7,6,5,4,3,2,1)\n",
        "print(\"Tup[3:6]=  \",Tup1[3:6])\n",
        "print(\"Tup[:8] =  \", Tup1[:4])\n",
        "print(\"Tup[4:] =  \", Tup1[4:])\n",
        "print(\"Tup[:]=    \", Tup1[:])"
      ],
      "execution_count": 0,
      "outputs": [
        {
          "output_type": "stream",
          "text": [
            "Tup[3:6]=   (7, 6, 5)\n",
            "Tup[:8] =   (10, 9, 8, 7)\n",
            "Tup[4:] =   (6, 5, 4, 3, 2, 1)\n",
            "Tup[:]=     (10, 9, 8, 7, 6, 5, 4, 3, 2, 1)\n"
          ],
          "name": "stdout"
        }
      ]
    },
    {
      "cell_type": "markdown",
      "metadata": {
        "id": "cR2Gvg-xCfiz",
        "colab_type": "text"
      },
      "source": [
        "# Updating Tuple \n",
        "Tuple is immutable and so, the values in the tuple cannot be changed.  You can only extract values from a tuple to form another tuple.  \n"
      ]
    },
    {
      "cell_type": "code",
      "metadata": {
        "id": "EYgfgTjGC040",
        "colab_type": "code",
        "outputId": "216b1d5a-6e6f-4249-953c-50da1c12dea0",
        "colab": {
          "base_uri": "https://localhost:8080/",
          "height": 34
        }
      },
      "source": [
        "Tup1 = (10,9,8,7,6)\n",
        "Tup2 = (5,4,3,2,1)\n",
        "Tup3 = Tup2 + Tup1\n",
        "print(Tup3)"
      ],
      "execution_count": 0,
      "outputs": [
        {
          "output_type": "stream",
          "text": [
            "(5, 4, 3, 2, 1, 10, 9, 8, 7, 6)\n"
          ],
          "name": "stdout"
        }
      ]
    },
    {
      "cell_type": "markdown",
      "metadata": {
        "id": "3guQ0xE8DLSB",
        "colab_type": "text"
      },
      "source": [
        "**Basic Tuple Operation**\n",
        "You can perform operations like concatenation, repetition on tuples.  \n",
        "The only difference is that a new tuple should be created when a change is required in an existing tuple.  \n",
        "\n",
        "\n",
        "Operation                     Expression \n",
        "\n",
        "Length                        len(1,2,3,4,5,6)\n",
        "\n",
        "Concatenation                 (1,2,3) + (4,5,6)  \n",
        "\n",
        "Repetition                   ('Good...')*3 \n",
        "\n",
        "Membership             5 in (1,2,3,4,5,6,7,8,9)             True \n",
        "\n",
        "Iteration           for i in (1,2,3,4,5,6,7,8,9,10):\n",
        "                    print(i, end='')\n",
        "\n",
        "Comparison (Use>,<,==)  Tup1 = (1,2,3,4,5)\n",
        "                        Tup2 = (1,2,3,4,5) \n",
        "                        Print(Tup1>Tup2) \n",
        "\n",
        "Maximum               Max(1,0,3,8,2,9)                    9\n",
        "\n",
        "Minimum               Min(1,0,3,8,2,9)                    0\n",
        "\n",
        "Convert to tuple            tuple(\"Hello\")    ('H', 'e', 'l','l''o')\n",
        "convert a sequence into tuple  tuple ([1,2,3,4,5])   (1,2,3,4,5) \n",
        "\n",
        "\n",
        "**Tuple Assignment**\n",
        "Tuple assignment is a very powerful feature in python.  \n",
        "It allows a tuple of variables on the left hand side of the assignment operator to be assigned value from a tuple given on the right hand side of the assignment operator.  Each value is assignment to its respective variable. \n",
        "\n",
        "In case, an expression is specified on the right hand side of the assignment operator, first that expression is evaluated and then assignment is done.  \n",
        "This feature makes tuple assignment quite versatile.  \n",
        "\n",
        "Program to show the different way of tuple assignment. \n"
      ]
    },
    {
      "cell_type": "code",
      "metadata": {
        "id": "AT7fGBFbG2n2",
        "colab_type": "code",
        "outputId": "82039441-5f6d-46ef-96ba-c4a59a77f940",
        "colab": {
          "base_uri": "https://localhost:8080/",
          "height": 68
        }
      },
      "source": [
        "# an unnamed tuple of values assigned to values of another unnamed tuple \n",
        "(val1, val2,val3) = (1,2,3)\n",
        "print(val1,val2,val3)\n",
        "Tup1 = (400,500,600)\n",
        "(val1,val2,val3) = Tup1  # tuple assigned to another tuple. \n",
        "print(val1, val2, val3)\n",
        "# expressions are evaluated before assignment.  \n",
        "\n",
        "(val1,val2,val3) =(2+4, 5/3 +4, 9%6)\n",
        "print(val1,val2,val3)"
      ],
      "execution_count": 0,
      "outputs": [
        {
          "output_type": "stream",
          "text": [
            "1 2 3\n",
            "400 500 600\n",
            "6 5.666666666666667 3\n"
          ],
          "name": "stdout"
        }
      ]
    },
    {
      "cell_type": "markdown",
      "metadata": {
        "id": "DXiJ01ScIaVN",
        "colab_type": "text"
      },
      "source": [
        "Tuples for returning multiple values.  \n",
        "A function can return only a single value.  But at time, we need to return more than one value from function, in such case, it is preferable to group together multiple values and return them together.  \n",
        "\n",
        "Program to return the highest as well as the lowest value in list.  "
      ]
    },
    {
      "cell_type": "code",
      "metadata": {
        "id": "u7PyIrBMI2E7",
        "colab_type": "code",
        "outputId": "50a50586-16d2-4a00-a240-bf626f033423",
        "colab": {
          "base_uri": "https://localhost:8080/",
          "height": 51
        }
      },
      "source": [
        "def max_min(vals):\n",
        "  x = max(vals)\n",
        "  y = min(vals)\n",
        "  return (x,y)\n",
        "vals = (99,98,90,97,89,86,93,82)\n",
        "(max_marks, min_marks) = max_min(vals)\n",
        "print(\"Highest Marks =  \",max_marks)\n",
        "print(\"Lowest Marks = \",min_marks)\n"
      ],
      "execution_count": 0,
      "outputs": [
        {
          "output_type": "stream",
          "text": [
            "Highest Marks =   99\n",
            "Lowest Marks =  82\n"
          ],
          "name": "stdout"
        }
      ]
    },
    {
      "cell_type": "markdown",
      "metadata": {
        "id": "k9Z9h0aANxE_",
        "colab_type": "text"
      },
      "source": [
        "**Note :  Unlike list, tuples do not support remove(), pop(),append(),sort(), reverse() and insert() methods.**\n",
        "\n",
        "**Nested Tuples** \n",
        "Python allows you to define a tuple innside another tuple, called nested tuple.  \n",
        "\n",
        "Consider a program having list of students have topped in courses, store the name of the course and aggregate of three student as tuples inside the tuple Toppers.  \n",
        "\n",
        "Program to demonstrate the use of nested tuple.  "
      ]
    },
    {
      "cell_type": "code",
      "metadata": {
        "id": "LtZh97DZOrPT",
        "colab_type": "code",
        "outputId": "63dda346-0f65-4398-81ed-b11f5368b835",
        "colab": {
          "base_uri": "https://localhost:8080/",
          "height": 68
        }
      },
      "source": [
        "Toppers = ((\"Anthony\", \"Statistics\",82.5), (\"Chris\", \"Algorithm\", 95.4), (\"David\", \"Data Science\",87))\n",
        "for i in Toppers:\n",
        "  print(i)"
      ],
      "execution_count": 0,
      "outputs": [
        {
          "output_type": "stream",
          "text": [
            "('Anthony', 'Statistics', 82.5)\n",
            "('Chris', 'Algorithm', 95.4)\n",
            "('David', 'Data Science', 87)\n"
          ],
          "name": "stdout"
        }
      ]
    },
    {
      "cell_type": "markdown",
      "metadata": {
        "id": "kDiLRCaDPrpC",
        "colab_type": "text"
      },
      "source": [
        "Program to print the name of the topper and her marks in 4 subjects wherein the marks are specified as a list in the tuple Topper."
      ]
    },
    {
      "cell_type": "code",
      "metadata": {
        "id": "UBpp5c4lP110",
        "colab_type": "code",
        "outputId": "fc89e311-3fa2-48b6-d247-dfab384a16e6",
        "colab": {
          "base_uri": "https://localhost:8080/",
          "height": 51
        }
      },
      "source": [
        "Topper = (\"Joseph\", [84,68,90,67])\n",
        "print(\"Class Topper : \", Topper[0])\n",
        "print(\"Highest Scores in 4 Subjects : \", Topper[1:])"
      ],
      "execution_count": 0,
      "outputs": [
        {
          "output_type": "stream",
          "text": [
            "Class Topper :  Joseph\n",
            "Highest Scores in 4 Subjects :  ([84, 68, 90, 67],)\n"
          ],
          "name": "stdout"
        }
      ]
    },
    {
      "cell_type": "markdown",
      "metadata": {
        "id": "lEiGWdrlQ-JI",
        "colab_type": "text"
      },
      "source": [
        "**Checking the Index: index() method**\n",
        "The index of an element in the tuple can be obtained by using the index().  If the element being searched is not present in the list, then error is generated.  The syntax is as under:- \n",
        "list.index(obj)\n",
        "\n",
        "where, obj is the object to be found out.  \n",
        "\n",
        "Program to demonstrate the use of index() method. "
      ]
    },
    {
      "cell_type": "code",
      "metadata": {
        "id": "mi78xmaARmDZ",
        "colab_type": "code",
        "outputId": "e4a15453-2c8e-4b48-8b0a-cab9478eca83",
        "colab": {
          "base_uri": "https://localhost:8080/",
          "height": 34
        }
      },
      "source": [
        "Tup = (1,2,3,4,5,6,7,8)\n",
        "print(Tup.index(4))"
      ],
      "execution_count": 0,
      "outputs": [
        {
          "output_type": "stream",
          "text": [
            "3\n"
          ],
          "name": "stdout"
        }
      ]
    },
    {
      "cell_type": "markdown",
      "metadata": {
        "id": "Dbpw2Ea4Sbfx",
        "colab_type": "text"
      },
      "source": [
        "**Counting the Elements: count() Methods**\n",
        "\n",
        "The count() is used to return the number of elements with a specific value in a tuple.  \n",
        "\n",
        "\n",
        "Program to count the number of times letter 'x' appears in the specified string.  "
      ]
    },
    {
      "cell_type": "code",
      "metadata": {
        "id": "OKqEFtfFSu2n",
        "colab_type": "code",
        "outputId": "d1504eee-242f-423b-cb36-bdab73c3af80",
        "colab": {
          "base_uri": "https://localhost:8080/",
          "height": 34
        }
      },
      "source": [
        "tup = \"abcdxxxabcdxxxabcdxxx\"\n",
        "print(\"x appears\", tup.count('x'), \"times in\",tup)"
      ],
      "execution_count": 0,
      "outputs": [
        {
          "output_type": "stream",
          "text": [
            "x appears 9 times in abcdxxxabcdxxxabcdxxx\n"
          ],
          "name": "stdout"
        }
      ]
    },
    {
      "cell_type": "markdown",
      "metadata": {
        "id": "h4hjs1DyTH2Y",
        "colab_type": "text"
      },
      "source": [
        "**List Comprehension and Tuples**\n",
        "Consider the program given below passes a tuple as an argument to a function double().  \n",
        "The function scales each value in the tuple by a factor of two and places the scaled values in another tuple.  \n",
        "\n"
      ]
    },
    {
      "cell_type": "code",
      "metadata": {
        "id": "-sGftVT5Tm-c",
        "colab_type": "code",
        "outputId": "0962242c-07ca-4c96-e91d-47dfc30b68a7",
        "colab": {
          "base_uri": "https://localhost:8080/",
          "height": 51
        }
      },
      "source": [
        "def double(T):\n",
        "  return ([i**2 for i in T])\n",
        "Tup = 1,2,3,4,5\n",
        "print(\"Original Tuple : \", Tup)\n",
        "print(\"Double Values : \",double(Tup))"
      ],
      "execution_count": 0,
      "outputs": [
        {
          "output_type": "stream",
          "text": [
            "Original Tuple :  (1, 2, 3, 4, 5)\n",
            "Double Values :  [1, 4, 9, 16, 25]\n"
          ],
          "name": "stdout"
        }
      ]
    },
    {
      "cell_type": "markdown",
      "metadata": {
        "id": "P644V7ByUvxH",
        "colab_type": "text"
      },
      "source": [
        "Note : If a sequence is specified without parentheses, it is treated to be a tuple by default.  \n",
        "\n",
        "**Variable length Argument Tuples **\n",
        "Many built in functions like max(), min(), sum() etc use variable length arguments since these functions themselves do not know how many arguments will be passed to them.  \n",
        "\n",
        "Variable length argument tuple is a striking feature in Python.  It allows a function to accept a variable number of arguments.   This is especially useful in defining functions that are applicable to a large variety of arguments. \n",
        "\n",
        "\n",
        "If you have a function that displays all the parameters passed to it, then even the function does not know how many values it will be passed.  In such cases, we use a variable-length argument that begins with a '*' symbol. \n",
        "\n",
        "Any argument that starts with a'*' symbol is known as gather and specifies a variable length argument.  \n",
        "\n",
        "\n",
        "Program to manipulate efficiently each value that is passed to the tuple using variable length arguments.  "
      ]
    },
    {
      "cell_type": "code",
      "metadata": {
        "id": "BS2fr5cqWUaP",
        "colab_type": "code",
        "outputId": "0d20034c-80cb-4db9-82f7-fc6e8e7faeb7",
        "colab": {
          "base_uri": "https://localhost:8080/",
          "height": 34
        }
      },
      "source": [
        "def display(*args):\n",
        "  print(args)\n",
        "Tup = (10,20,30,40,50,60)\n",
        "display(Tup)\n",
        "        "
      ],
      "execution_count": 0,
      "outputs": [
        {
          "output_type": "stream",
          "text": [
            "((10, 20, 30, 40, 50, 60),)\n"
          ],
          "name": "stdout"
        }
      ]
    },
    {
      "cell_type": "markdown",
      "metadata": {
        "id": "K0ZyPXmoWnsP",
        "colab_type": "text"
      },
      "source": [
        "The opposite of gather is scatter.  So in case you have a function that accepts multiple argument but not a tuple, then the tuple is scattered to pass individual elements. \n",
        "\n",
        "Programs to illustrate scatter in terms of Tuple"
      ]
    },
    {
      "cell_type": "code",
      "metadata": {
        "id": "DVurPoNMW20E",
        "colab_type": "code",
        "outputId": "d3d3cb4b-a16f-4092-fe4d-764270a0840a",
        "colab": {
          "base_uri": "https://localhost:8080/",
          "height": 34
        }
      },
      "source": [
        "Tup = (56,3)\n",
        "quo, rem = divmod(*Tup)\n",
        "print(quo, rem)"
      ],
      "execution_count": 0,
      "outputs": [
        {
          "output_type": "stream",
          "text": [
            "18 2\n"
          ],
          "name": "stdout"
        }
      ]
    },
    {
      "cell_type": "markdown",
      "metadata": {
        "id": "TQx7d_zJXM8M",
        "colab_type": "text"
      },
      "source": [
        "The symbol * denotes that there may be more than one argument, so python extracts the value (scatters them) to obtain two values on which the operation can be applied.  \n",
        "\n",
        "\n",
        "**zip() Function**\n",
        "The zip() is a built-in function that takes two or more sequences and \"zips\" them into a list of tuples.  The tuple thus, formed has one element from each sequence.  The code given below illustrates this concept.  \n",
        "\n",
        "Program to show the use of zip() function.  "
      ]
    },
    {
      "cell_type": "code",
      "metadata": {
        "id": "Nxmky_AVX87h",
        "colab_type": "code",
        "outputId": "bc78aa00-e3d4-49bc-8069-dce2f708ceb9",
        "colab": {
          "base_uri": "https://localhost:8080/",
          "height": 34
        }
      },
      "source": [
        "Tup = (10,20,30,40,50)\n",
        "List1 = ['a','b','c','d','e']\n",
        "print(list((zip(Tup,List1))))"
      ],
      "execution_count": 0,
      "outputs": [
        {
          "output_type": "stream",
          "text": [
            "[(10, 'a'), (20, 'b'), (30, 'c'), (40, 'd'), (50, 'e')]\n"
          ],
          "name": "stdout"
        }
      ]
    },
    {
      "cell_type": "markdown",
      "metadata": {
        "id": "8avANTebYQnQ",
        "colab_type": "text"
      },
      "source": [
        "From the above output, we see that the zip function is a list of tuple, where each tuple contains character from the list and an integer from the tuple.  \n",
        "\n",
        "In the above example, there are equal number of values in the list and tuple.  But if the two sequences have different length, then the result has the length of the shorter one. "
      ]
    },
    {
      "cell_type": "markdown",
      "metadata": {
        "id": "k2Gs_cCSeV6P",
        "colab_type": "text"
      },
      "source": [
        "Program to use zip() function on variable-length sequences. "
      ]
    },
    {
      "cell_type": "code",
      "metadata": {
        "id": "T6CSYsdXecHa",
        "colab_type": "code",
        "outputId": "ed1b7e87-e236-4967-c1ff-11782960d135",
        "colab": {
          "base_uri": "https://localhost:8080/",
          "height": 34
        }
      },
      "source": [
        "Tup = (1,2,3)\n",
        "List1 = ['a','b','c','d','e']\n",
        "print(list(zip(Tup,List1)))"
      ],
      "execution_count": 0,
      "outputs": [
        {
          "output_type": "stream",
          "text": [
            "[(1, 'a'), (2, 'b'), (3, 'c')]\n"
          ],
          "name": "stdout"
        }
      ]
    },
    {
      "cell_type": "markdown",
      "metadata": {
        "id": "U6r4rHxZeym6",
        "colab_type": "text"
      },
      "source": [
        "You can even print the elements in a tuple using the for statement. \n",
        "\n",
        "Program to print elements in a tuple using for loop. "
      ]
    },
    {
      "cell_type": "code",
      "metadata": {
        "id": "CmZiNZg9e7te",
        "colab_type": "code",
        "outputId": "5d2e2c95-3664-43ba-8b72-65ed6a15dbed",
        "colab": {
          "base_uri": "https://localhost:8080/",
          "height": 68
        }
      },
      "source": [
        "Tup = ((1,'a'),(2,'b'), (3,'c'))\n",
        "for i, char in Tup: \n",
        "  print(i,char)"
      ],
      "execution_count": 0,
      "outputs": [
        {
          "output_type": "stream",
          "text": [
            "1 a\n",
            "2 b\n",
            "3 c\n"
          ],
          "name": "stdout"
        }
      ]
    },
    {
      "cell_type": "markdown",
      "metadata": {
        "id": "kas0CcVYfQrr",
        "colab_type": "text"
      },
      "source": [
        "To traverse the elements of a sequence and also print their indices, use the built-in function enumerate()."
      ]
    },
    {
      "cell_type": "code",
      "metadata": {
        "id": "5bgOHx2MfaT4",
        "colab_type": "code",
        "outputId": "682d09ad-451a-4bc1-e449-f623e5c52552",
        "colab": {
          "base_uri": "https://localhost:8080/",
          "height": 459
        }
      },
      "source": [
        "for index, element in enumerate('ZYXWVUTSRQPONMLKJIHGFEDCBA'):\n",
        "  print(index,element)"
      ],
      "execution_count": 0,
      "outputs": [
        {
          "output_type": "stream",
          "text": [
            "0 Z\n",
            "1 Y\n",
            "2 X\n",
            "3 W\n",
            "4 V\n",
            "5 U\n",
            "6 T\n",
            "7 S\n",
            "8 R\n",
            "9 Q\n",
            "10 P\n",
            "11 O\n",
            "12 N\n",
            "13 M\n",
            "14 L\n",
            "15 K\n",
            "16 J\n",
            "17 I\n",
            "18 H\n",
            "19 G\n",
            "20 F\n",
            "21 E\n",
            "22 D\n",
            "23 C\n",
            "24 B\n",
            "25 A\n"
          ],
          "name": "stdout"
        }
      ]
    },
    {
      "cell_type": "markdown",
      "metadata": {
        "id": "yU_nFeXhtOtY",
        "colab_type": "text"
      },
      "source": [
        "**Key points to remember:**\n",
        "Tuples can be converted into lists, and vice versa using the built-in tuple() function that takes a list and returns a tuple with the same elements.  \n",
        "\n",
        "A list() function takes a tuple and returns a list.  \n",
        "You cannot divide or substract tuples.  If you try to do so you will get a Typeerror with unsupported operand type.  \n",
        "\n",
        "Tuples are faster than lists, but they cannot be changed.  \n",
        "\n",
        "Since tuples are immutable they do not support methods like sort() and reverse(), as these methods modify existing lists.  \n",
        "Python has built-in function sorted() which takes any sequence as a parameter and returns a new list with the same elements but in a different order.  "
      ]
    },
    {
      "cell_type": "code",
      "metadata": {
        "id": "oTQZw7LeuvuZ",
        "colab_type": "code",
        "outputId": "ed472e4e-184a-4804-9339-78b8bbcc10fa",
        "colab": {
          "base_uri": "https://localhost:8080/",
          "height": 34
        }
      },
      "source": [
        "Tup = (10,2,1,9,4,9)\n",
        "print(sorted(Tup))"
      ],
      "execution_count": 0,
      "outputs": [
        {
          "output_type": "stream",
          "text": [
            "[1, 2, 4, 9, 9, 10]\n"
          ],
          "name": "stdout"
        }
      ]
    },
    {
      "cell_type": "markdown",
      "metadata": {
        "id": "bbK8sVvtvEva",
        "colab_type": "text"
      },
      "source": [
        "Program to illustrate string formatting function with tuple.  \n",
        "\n",
        "Reassigning a value in a tuple cases a TypeError.  \n",
        "\n"
      ]
    },
    {
      "cell_type": "code",
      "metadata": {
        "id": "KuG-OUt7vRmO",
        "colab_type": "code",
        "outputId": "ecc517df-7a1c-499f-b64d-278a4810e89f",
        "colab": {
          "base_uri": "https://localhost:8080/",
          "height": 34
        }
      },
      "source": [
        "Tup = (\" Juanita\", 98,28,5)\n",
        "print(\"%s got %d marks in CSA and her aggregate was %.2f\" %(Tup[0], Tup[1],Tup[2]))"
      ],
      "execution_count": 0,
      "outputs": [
        {
          "output_type": "stream",
          "text": [
            " Juanita got 98 marks in CSA and her aggregate was 28.00\n"
          ],
          "name": "stdout"
        }
      ]
    },
    {
      "cell_type": "markdown",
      "metadata": {
        "id": "L-EpzFNYirgD",
        "colab_type": "text"
      },
      "source": [
        "Program to create a hash file"
      ]
    },
    {
      "cell_type": "code",
      "metadata": {
        "id": "MRa3J31SiwZW",
        "colab_type": "code",
        "colab": {}
      },
      "source": [
        "import hashlib\n",
        "def hash_file(filename):\n",
        "  hash = hashlib.sha1() # make a hash object. \n",
        "  with open(filename,'rb') as file:\n",
        "    chunk = 0\n",
        "    while chunk !=b:\n",
        "      chunk = file.read(1024)\n",
        "      hash.update(chunk)\n",
        "    return hash.hexdigest()\n",
        "    text = hash_file(\"Body.txt\")\n",
        "    print(\"Hash of file is \",text)\n"
      ],
      "execution_count": 0,
      "outputs": []
    },
    {
      "cell_type": "code",
      "metadata": {
        "id": "sabj6RmXGwVI",
        "colab_type": "code",
        "colab": {}
      },
      "source": [
        ""
      ],
      "execution_count": 0,
      "outputs": []
    },
    {
      "cell_type": "markdown",
      "metadata": {
        "id": "7Dpx1v7h_5L5",
        "colab_type": "text"
      },
      "source": [
        "**Advantage of Tuple over list: **\n",
        "Tuples are used to store values of different data types.  \n",
        "Since tuples are immutable, iterating through tuples is faster than \n",
        "iterating over list.  \n",
        "\n",
        "Tuples can be used as Key for a dictionary but list cannot be used as keys. \n",
        "Tuples are best suited for storing data that is write protected.\n",
        "Tuples can be used in place of list where the number of values is known and small.  \n",
        "\n",
        "Multiple values from a function can be returned using a tuple.  \n",
        "\n",
        "Tuples are used to format strings.  \n",
        "\n",
        "Write a program to swap two values using tuple assignment. \n",
        "\n"
      ]
    },
    {
      "cell_type": "code",
      "metadata": {
        "id": "U9AvOm2XATHY",
        "colab_type": "code",
        "outputId": "47029ea8-4bad-417a-85f5-7a92b8deb39f",
        "colab": {
          "base_uri": "https://localhost:8080/",
          "height": 51
        }
      },
      "source": [
        "val1 = 20\n",
        "val2 = 30\n",
        "print (\"val1 =   \",val1, \"val2=  \", val2)\n",
        "(val1,val2) = (val2,val1)\n",
        "print(\"val1=  \", val1, \" val2=  \",val2)"
      ],
      "execution_count": 0,
      "outputs": [
        {
          "output_type": "stream",
          "text": [
            "val1 =    20 val2=   30\n",
            "val1=   30  val2=   20\n"
          ],
          "name": "stdout"
        }
      ]
    },
    {
      "cell_type": "code",
      "metadata": {
        "id": "amcocb8jBTTF",
        "colab_type": "code",
        "colab": {}
      },
      "source": [
        ""
      ],
      "execution_count": 0,
      "outputs": []
    },
    {
      "cell_type": "markdown",
      "metadata": {
        "id": "-HJ7QD1kBUa7",
        "colab_type": "text"
      },
      "source": [
        "Write a program using a function that returns the area and circumference of a circle whose radius is passed as an argument.  "
      ]
    },
    {
      "cell_type": "code",
      "metadata": {
        "id": "QVhDAMK3Bam7",
        "colab_type": "code",
        "outputId": "b26f5d41-ff92-4f54-ad4f-330a6ebceda3",
        "colab": {
          "base_uri": "https://localhost:8080/",
          "height": 68
        }
      },
      "source": [
        "PI = 3.14\n",
        "def cal_a_r(r):\n",
        "  return (PI*r*r, 2*PI*r)\n",
        "radius = float(input(\"Enter the radius :  \"))\n",
        "(area, circumference) = cal_a_r(radius)\n",
        "print(\"Area of the circle with radius\", radius, \"= \",area)\n",
        "print(\"Circumference of the circle with radius \", radius, \"=\",circumference)"
      ],
      "execution_count": 0,
      "outputs": [
        {
          "output_type": "stream",
          "text": [
            "Enter the radius :  14\n",
            "Area of the circle with radius 14.0 =  615.44\n",
            "Circumference of the circle with radius  14.0 = 87.92\n"
          ],
          "name": "stdout"
        }
      ]
    },
    {
      "cell_type": "code",
      "metadata": {
        "id": "J0W49SnACke_",
        "colab_type": "code",
        "colab": {}
      },
      "source": [
        ""
      ],
      "execution_count": 0,
      "outputs": []
    },
    {
      "cell_type": "markdown",
      "metadata": {
        "id": "JkqoVUgmClrZ",
        "colab_type": "text"
      },
      "source": [
        "Write a program that has a nested list to store topper detail.  Edit the details and reprint the details.  \n",
        "\n"
      ]
    },
    {
      "cell_type": "code",
      "metadata": {
        "id": "A-bwQ7_1C2nx",
        "colab_type": "code",
        "outputId": "289ad1c7-7ac6-4782-f2d4-4cf963fd8222",
        "colab": {
          "base_uri": "https://localhost:8080/",
          "height": 170
        }
      },
      "source": [
        "Toppers = ((\" Anthony\", \"Python Programming\", 95.4), (\"Chris\", \"Java Programming\", 94.8), (\"Dave\", \"Javascript Programming\",79.6))\n",
        "for i in Toppers:\n",
        "  print(i)\n",
        "choice = input(\"Do you want to edit the details:  \")\n",
        "if choice == 'y':\n",
        "  name = input(\"Enter the name of the student whose details are to be edited: \")\n",
        "  new_name = input(\"Enter the correct name :  \")\n",
        "  new_course = input(\"Enter the correct course:   \")\n",
        "  new_aggr = input(\"Enter the correct aggregate:  \")\n",
        "  i = 0\n",
        "  new_Toppers = () \n",
        "  while i<len(Toppers):\n",
        "    if Toppers[i][0] == name:\n",
        "      new_Toppers += (new_name, new_course,new_aggr)\n",
        "    else:\n",
        "      new_Toppers += Toppers[i]\n",
        "    i+= 1\n",
        "for i in new_Toppers:\n",
        "  print(i,end= '  ')"
      ],
      "execution_count": 0,
      "outputs": [
        {
          "output_type": "stream",
          "text": [
            "(' Anthony', 'Python Programming', 95.4)\n",
            "('Chris', 'Java Programming', 94.8)\n",
            "('Dave', 'Javascript Programming', 79.6)\n",
            "Do you want to edit the details:  y\n",
            "Enter the name of the student whose details are to be edited: Dave\n",
            "Enter the correct name :  David\n",
            "Enter the correct course:   C Programming\n",
            "Enter the correct aggregate:  83.5\n",
            " Anthony  Python Programming  95.4  Chris  Java Programming  94.8  David  C Programming  83.5  "
          ],
          "name": "stdout"
        }
      ]
    },
    {
      "cell_type": "code",
      "metadata": {
        "id": "oAi9lBesGaCV",
        "colab_type": "code",
        "colab": {}
      },
      "source": [
        ""
      ],
      "execution_count": 0,
      "outputs": []
    },
    {
      "cell_type": "markdown",
      "metadata": {
        "id": "rfkCoVcLGbN9",
        "colab_type": "text"
      },
      "source": [
        "Write a program that scans an email address and forms a tuple of user name and domain.  "
      ]
    },
    {
      "cell_type": "code",
      "metadata": {
        "id": "RCiveVozGgXj",
        "colab_type": "code",
        "outputId": "f9cd374d-58da-4b4f-baa4-f74b2708bdf1",
        "colab": {
          "base_uri": "https://localhost:8080/",
          "height": 51
        }
      },
      "source": [
        "addr = 'zyxvut@gmail.com'\n",
        "user_name, domain_name = addr.split('@')\n",
        "print(\"User Name :  \", user_name)\n",
        "print(\"Domain Name :  \", domain_name)"
      ],
      "execution_count": 0,
      "outputs": [
        {
          "output_type": "stream",
          "text": [
            "User Name :   zyxvut\n",
            "Domain Name :   gmail.com\n"
          ],
          "name": "stdout"
        }
      ]
    },
    {
      "cell_type": "markdown",
      "metadata": {
        "id": "OLP2hHLCG-bM",
        "colab_type": "text"
      },
      "source": [
        "Write a program that has a list of numbers both positive and negative.  Make a new tuple that has only negative values from this list.  "
      ]
    },
    {
      "cell_type": "code",
      "metadata": {
        "id": "t5rZghzKG2YY",
        "colab_type": "code",
        "outputId": "c8335901-bb72-4698-9372-4c85addf53e2",
        "colab": {
          "base_uri": "https://localhost:8080/",
          "height": 34
        }
      },
      "source": [
        "Tup = (-20,2,4,-18,6,8,-16,10,12)\n",
        "newTup= ()\n",
        "for i in Tup:\n",
        "  if i<0:\n",
        "    newTup +=(i,)\n",
        "print(newTup)"
      ],
      "execution_count": 0,
      "outputs": [
        {
          "output_type": "stream",
          "text": [
            "(-20, -18, -16)\n"
          ],
          "name": "stdout"
        }
      ]
    },
    {
      "cell_type": "markdown",
      "metadata": {
        "id": "vi1austxHsKb",
        "colab_type": "text"
      },
      "source": [
        "Write a program that accepts different number of arguments and returns sum of only the positive values passed to it.  "
      ]
    },
    {
      "cell_type": "code",
      "metadata": {
        "id": "87EPe1RuHzJ-",
        "colab_type": "code",
        "outputId": "06f77a33-4ff2-445f-9266-e83c99260a30",
        "colab": {
          "base_uri": "https://localhost:8080/",
          "height": 34
        }
      },
      "source": [
        "def sum_pos(*args):\n",
        "  tot = 0 \n",
        "  for i in args:\n",
        "    if i>0:\n",
        "      tot += i\n",
        "    return tot\n",
        "print(\"sum_pos(1,-9,2,-8,3,-7,4,-6,5)  =   \", sum_pos(1,-9,2,-8,3,-7,4,-6,5))"
      ],
      "execution_count": 0,
      "outputs": [
        {
          "output_type": "stream",
          "text": [
            "sum_pos(1,-9,2,-8,3,-7,4,-6,5)  =    1\n"
          ],
          "name": "stdout"
        }
      ]
    },
    {
      "cell_type": "markdown",
      "metadata": {
        "id": "xb4xqTkGImkb",
        "colab_type": "text"
      },
      "source": [
        "Write a program that has two sequences.  First which stores some questions and second stores the corresponding answers.  \n",
        "Use the zip() funciton to form a valid question answer series. \n",
        "\n"
      ]
    },
    {
      "cell_type": "code",
      "metadata": {
        "id": "Ql_bVsh-IzDo",
        "colab_type": "code",
        "outputId": "160a9c04-26c6-4238-df2e-87249cba3d67",
        "colab": {
          "base_uri": "https://localhost:8080/",
          "height": 119
        }
      },
      "source": [
        "Ques = [\"Roll_No\", \"Name\", \"Course\"]\n",
        "Ans = [7, \"Svetlana\", \"Compiler Designing\"]\n",
        "for q,a in zip(Ques, Ans):\n",
        "  print(\"What is your\", q, \"?\")\n",
        "  print(\"My\", q, \"is :  \",a)"
      ],
      "execution_count": 0,
      "outputs": [
        {
          "output_type": "stream",
          "text": [
            "What is your Roll_No ?\n",
            "My Roll_No is :   7\n",
            "What is your Name ?\n",
            "My Name is :   Svetlana\n",
            "What is your Course ?\n",
            "My Course is :   Compiler Designing\n"
          ],
          "name": "stdout"
        }
      ]
    },
    {
      "cell_type": "markdown",
      "metadata": {
        "id": "buoWStQUqQN6",
        "colab_type": "text"
      },
      "source": [
        "# SET :\n",
        "Set is another data structure supported by Python.  Basically sets are same as lists but with a differences that sets are lists with no duplicate element entries.  \n",
        "\n",
        "Set is mutable and unordered collection of items and we can perform addition, deletion of items.  \n",
        "\n",
        "**Creating a Set:**\n",
        "A set is created by placing all the elements inside curly brackets {}, separated by comma or by using the built in set().  \n",
        "**Syntax:**\n",
        "set_variable = {val1, val2.....}\n",
        "\n",
        "to create a set you can write,  \n",
        "\n",
        "p = {2,4.0,\"zyx\"}\n",
        "print(p)\n"
      ]
    },
    {
      "cell_type": "code",
      "metadata": {
        "id": "A9NR25ThrWFg",
        "colab_type": "code",
        "outputId": "42507758-0359-4e46-9985-94907771c014",
        "colab": {
          "base_uri": "https://localhost:8080/",
          "height": 34
        }
      },
      "source": [
        "p = {2,4.0,\"zyx\"}\n",
        "print(p)\n"
      ],
      "execution_count": 0,
      "outputs": [
        {
          "output_type": "stream",
          "text": [
            "{2, 4.0, 'zyx'}\n"
          ],
          "name": "stdout"
        }
      ]
    },
    {
      "cell_type": "markdown",
      "metadata": {
        "id": "Ex1nnIaKrgbr",
        "colab_type": "text"
      },
      "source": [
        "Program to convert a list of values in a set."
      ]
    },
    {
      "cell_type": "code",
      "metadata": {
        "id": "8DIJHdorrjBh",
        "colab_type": "code",
        "outputId": "c4353407-2011-46fc-baf0-7f1541ed153e",
        "colab": {
          "base_uri": "https://localhost:8080/",
          "height": 34
        }
      },
      "source": [
        "s = set([2,4,'z','x',\"pqr\",8.02])\n",
        "print(s)"
      ],
      "execution_count": 0,
      "outputs": [
        {
          "output_type": "stream",
          "text": [
            "{2, 4, 8.02, 'z', 'pqr', 'x'}\n"
          ],
          "name": "stdout"
        }
      ]
    },
    {
      "cell_type": "markdown",
      "metadata": {
        "id": "yYepu1W6r0GU",
        "colab_type": "text"
      },
      "source": [
        "The following programs demonstrates different ways of creating sets by using:\n",
        "A list\n",
        "A tuples\n",
        "A string."
      ]
    },
    {
      "cell_type": "code",
      "metadata": {
        "id": "Gc9w5-96r8rx",
        "colab_type": "code",
        "outputId": "6e5532b4-67f1-4b3d-dda0-fb73641bcf6a",
        "colab": {
          "base_uri": "https://localhost:8080/",
          "height": 85
        }
      },
      "source": [
        "List1 = [2,4,6,8,10,12,14,16]\n",
        "Tup1 = ('z','y''x','w','v','u','t','s','r','q','p')\n",
        "str = \"abcdefabcdefg\"\n",
        "\n",
        "print(set(\"She sells sea shells on the sea shore\".split()))\n",
        "\n",
        "print(set(str))\n",
        "\n",
        "print(set(Tup1))\n",
        "\n",
        "print(set(List1))"
      ],
      "execution_count": 0,
      "outputs": [
        {
          "output_type": "stream",
          "text": [
            "{'sells', 'shore', 'shells', 'the', 'on', 'She', 'sea'}\n",
            "{'e', 'f', 'a', 'd', 'c', 'b', 'g'}\n",
            "{'yx', 'w', 's', 't', 'z', 'u', 'r', 'q', 'v', 'p'}\n",
            "{2, 4, 6, 8, 10, 12, 14, 16}\n"
          ],
          "name": "stdout"
        }
      ]
    },
    {
      "cell_type": "markdown",
      "metadata": {
        "id": "kuMBvQNRwU_U",
        "colab_type": "text"
      },
      "source": [
        "# Mathematical Operations : \n",
        "\n",
        "Python sets are also a powerful tools as they have the ability to calculate difference and intersections between other sets.  \n",
        "\n",
        "\n",
        "Program to find union, intersection and symmetric difference between two sets.\n"
      ]
    },
    {
      "cell_type": "code",
      "metadata": {
        "id": "7y9dCD3GwtdS",
        "colab_type": "code",
        "outputId": "e401e636-1cc2-4e8c-a2f0-af383e55a5c3",
        "colab": {
          "base_uri": "https://localhost:8080/",
          "height": 119
        }
      },
      "source": [
        "Coders = set([\"Anthony\", \"Gwen\", \"Max\", \" Paul\"])\n",
        "Analysts = set([\"Kris\", \"Maggie\", \"Samantha\", \"George\", \"Max\"])\n",
        "print(\"Coderrs :  \",Coders)\n",
        "print(\"Analysts : \",Analysts)\n",
        "print(\"People working as Coders as well as Analysts:  \", Coders.intersection(Analysts))\n",
        "print(\"People working as Coders but not Analysts: \", Coders.difference(Analysts))\n",
        "print(\"People working as Analysts but not coders :  \", Analysts.difference(Coders))\n",
        "print(\"People working in only one of the groups : \", Coders.symmetric_difference(Analysts))"
      ],
      "execution_count": 0,
      "outputs": [
        {
          "output_type": "stream",
          "text": [
            "Coderrs :   {' Paul', 'Anthony', 'Max', 'Gwen'}\n",
            "Analysts :  {'Maggie', 'Samantha', 'George', 'Kris', 'Max'}\n",
            "People working as Coders as well as Analysts:   {'Max'}\n",
            "People working as Coders but not Analysts:  {' Paul', 'Anthony', 'Gwen'}\n",
            "People working as Analysts but not coders :   {'Samantha', 'George', 'Kris', 'Maggie'}\n",
            "People working in only one of the groups :  {'Samantha', 'George', 'Maggie', ' Paul', 'Anthony', 'Kris', 'Gwen'}\n"
          ],
          "name": "stdout"
        }
      ]
    },
    {
      "cell_type": "markdown",
      "metadata": {
        "id": "fWII44QfypT3",
        "colab_type": "text"
      },
      "source": [
        "**Tip**  The update method can take tuples, lists, strings, or other sets as its argument. \n",
        "\n",
        "**set operations**\n",
        "\n",
        "**Operation**                                  **Description**\n",
        "\n",
        "s.update(t)                   Adds elements of set t in the set s \n",
        "                              provided that all duplicates are avoided.\n",
        "\n",
        "s.add(x)                   Adds element x to theh set s provided that all \n",
        "                           duplicates are avoided.  \n",
        "\n",
        "s.remove(x)               Removes element x from set s.  Return Keyerror \n",
        "                          if x is not present.  \n",
        "\n",
        "s.discard(x)              Same as remove() but does not give an error\n",
        "                        if x is not present in the set.  \n",
        "\n",
        "s.pop()                Removes and returns any arbitrary element from s.\n",
        "                      Keyerror is raised if s is empty \n",
        "\n",
        "s.clear()              Removes all elements from the set.  \n",
        "\n",
        "len(s)                 Returns the length of the set.\n",
        "\n",
        "x in s               Returns True if x is present in set s false otherwise.\n",
        "\n",
        "x not in s     Returns True if x is not present in set s false otherwise.\n",
        "\n",
        "\n",
        "s.issubset(t)      Returns True if every element in set is present in set t\n",
        "or s<=t             and false otherwise.  \n",
        "\n",
        "s.issuperset(t)    Returns true if every element is present in t is present \n",
        "                  in set s and False otherwise.  \n",
        "\n",
        "s.union(t) or s|t  Returns a set s that has elements from both sets s and t\n",
        "\n",
        "s.intersection(t)      Returns a new set that has elements which are common\n",
        "or s&t                to both the set s and set t \n",
        "\n",
        "s.intersection_update(t) Returns a set that has elements which are commmon\n",
        "                         to both the set s and t \n",
        "\n",
        "s.difference(t) \n",
        "or s-t              Returns a new set that has elements in a set s but not in t \n",
        "\n",
        "s.difference_update(t) Removes all elements of another set from this set. \n",
        "            "
      ]
    },
    {
      "cell_type": "code",
      "metadata": {
        "id": "WYSE7KJU2Qi9",
        "colab_type": "code",
        "outputId": "d11d3e61-4880-4602-e721-911b217b3b29",
        "colab": {
          "base_uri": "https://localhost:8080/",
          "height": 34
        }
      },
      "source": [
        "s = set([1,2,10,12])\n",
        "t = set([1,2,3,4,5,6,7,8,9,10])\n",
        "s.difference_update(t)\n",
        "print(s)\n",
        "            "
      ],
      "execution_count": 0,
      "outputs": [
        {
          "output_type": "stream",
          "text": [
            "{12}\n"
          ],
          "name": "stdout"
        }
      ]
    },
    {
      "cell_type": "markdown",
      "metadata": {
        "id": "o1zQwUnH2fch",
        "colab_type": "text"
      },
      "source": [
        "Symmetric_difference. or s^t \n",
        "\n"
      ]
    },
    {
      "cell_type": "code",
      "metadata": {
        "id": "DOwj5J2T2l3U",
        "colab_type": "code",
        "outputId": "de1b251e-56f2-4fb8-c753-845d0aef973e",
        "colab": {
          "base_uri": "https://localhost:8080/",
          "height": 34
        }
      },
      "source": [
        "s = set([1,2,10,12])\n",
        "t = set([1,2,3,4,5,6,7,8,9,10])\n",
        "z = s^t\n",
        "print(z)"
      ],
      "execution_count": 0,
      "outputs": [
        {
          "output_type": "stream",
          "text": [
            "{3, 4, 5, 6, 7, 8, 9, 12}\n"
          ],
          "name": "stdout"
        }
      ]
    },
    {
      "cell_type": "markdown",
      "metadata": {
        "id": "pk60MCeS25vj",
        "colab_type": "text"
      },
      "source": [
        "s.copy() \n",
        "Returns a copy of set s \n",
        "\n"
      ]
    },
    {
      "cell_type": "code",
      "metadata": {
        "id": "RXqqrJNH2_Vt",
        "colab_type": "code",
        "outputId": "8e9c9433-35f4-42a3-ab6b-79b190b0f9f7",
        "colab": {
          "base_uri": "https://localhost:8080/",
          "height": 34
        }
      },
      "source": [
        "s = set([1,2,10,12])\n",
        "t = ([1,2,3,4,5,6,7,8,9,10])\n",
        "print(s.copy())"
      ],
      "execution_count": 0,
      "outputs": [
        {
          "output_type": "stream",
          "text": [
            "{1, 2, 10, 12}\n"
          ],
          "name": "stdout"
        }
      ]
    },
    {
      "cell_type": "markdown",
      "metadata": {
        "id": "ig2-f8SE3U_s",
        "colab_type": "text"
      },
      "source": [
        "**isdisjoint** : Returns true if two sets have a null intersection.  [link text](https://)"
      ]
    },
    {
      "cell_type": "code",
      "metadata": {
        "id": "LdQT1My33gXx",
        "colab_type": "code",
        "outputId": "fc6dd8f5-dda5-4a2f-8af3-3a566b867368",
        "colab": {
          "base_uri": "https://localhost:8080/",
          "height": 34
        }
      },
      "source": [
        "s = set([1,2,3])\n",
        "t = set([4,5,6])\n",
        "print(s.isdisjoint(t))\n",
        "# returns true if two sets hae null intersection. "
      ],
      "execution_count": 0,
      "outputs": [
        {
          "output_type": "stream",
          "text": [
            "True\n"
          ],
          "name": "stdout"
        }
      ]
    },
    {
      "cell_type": "markdown",
      "metadata": {
        "id": "4uvU8nmA4BCI",
        "colab_type": "text"
      },
      "source": [
        "all(s)\n",
        "Returns true if all elements in the set are True and False otherwise. \n",
        "\n"
      ]
    },
    {
      "cell_type": "code",
      "metadata": {
        "id": "O4KAAoXY4HXN",
        "colab_type": "code",
        "outputId": "550003f3-3dea-4f0a-85bd-dff94e2ee9c4",
        "colab": {
          "base_uri": "https://localhost:8080/",
          "height": 34
        }
      },
      "source": [
        "s = set([0,1,2,3,4])\n",
        "print(any(s))\n"
      ],
      "execution_count": 0,
      "outputs": [
        {
          "output_type": "stream",
          "text": [
            "True\n"
          ],
          "name": "stdout"
        }
      ]
    },
    {
      "cell_type": "markdown",
      "metadata": {
        "id": "YByHBnRZ4UQA",
        "colab_type": "text"
      },
      "source": [
        "enumerate(s) \n",
        "\n",
        "**Returns an enumerate object which contains index as well as values of all the items of set as a pair.**  "
      ]
    },
    {
      "cell_type": "code",
      "metadata": {
        "id": "7PPeoJQC4a0d",
        "colab_type": "code",
        "outputId": "b33e50bd-a608-4d22-8b31-2cdc583e7947",
        "colab": {
          "base_uri": "https://localhost:8080/",
          "height": 34
        }
      },
      "source": [
        "s = set(['a','b','c','d'])\n",
        "for i in enumerate(s):\n",
        "  print(i, end= ' ')"
      ],
      "execution_count": 0,
      "outputs": [
        {
          "output_type": "stream",
          "text": [
            "(0, 'c') (1, 'b') (2, 'a') (3, 'd') "
          ],
          "name": "stdout"
        }
      ]
    },
    {
      "cell_type": "markdown",
      "metadata": {
        "id": "9X4FCw7U410T",
        "colab_type": "text"
      },
      "source": [
        "max(s), min(s), sum(s)"
      ]
    },
    {
      "cell_type": "code",
      "metadata": {
        "id": "pyQb7GA-47e4",
        "colab_type": "code",
        "outputId": "998f76a2-3ead-402f-cb04-c99bec9e044a",
        "colab": {
          "base_uri": "https://localhost:8080/",
          "height": 68
        }
      },
      "source": [
        "s = set([0,1,2,3,4,5,6])\n",
        "print(max(s))\n",
        "print(min(s))\n",
        "print(sum(s))\n"
      ],
      "execution_count": 0,
      "outputs": [
        {
          "output_type": "stream",
          "text": [
            "6\n",
            "0\n",
            "21\n"
          ],
          "name": "stdout"
        }
      ]
    },
    {
      "cell_type": "markdown",
      "metadata": {
        "id": "rxHEu4BS5Lzk",
        "colab_type": "text"
      },
      "source": [
        "sorted()  Returns a new sorted list from elements in the set.  It does not sort the set as sets are immutable.  "
      ]
    },
    {
      "cell_type": "code",
      "metadata": {
        "id": "pSR__ah55Ryb",
        "colab_type": "code",
        "outputId": "eff69557-b1ea-4042-8ed9-22a48be05275",
        "colab": {
          "base_uri": "https://localhost:8080/",
          "height": 34
        }
      },
      "source": [
        "s = set([9,8,7,6,5,4,3,2])\n",
        "print(sorted(s))"
      ],
      "execution_count": 0,
      "outputs": [
        {
          "output_type": "stream",
          "text": [
            "[2, 3, 4, 5, 6, 7, 8, 9]\n"
          ],
          "name": "stdout"
        }
      ]
    },
    {
      "cell_type": "markdown",
      "metadata": {
        "id": "epW0emWp5lsv",
        "colab_type": "text"
      },
      "source": [
        "s == t & s != t\n",
        "\n",
        "Returns true if two sets are equivalent and False otherwise.  \n",
        "s!=t returns True if both sets are not equivalent and False otherwise. "
      ]
    },
    {
      "cell_type": "code",
      "metadata": {
        "id": "OoovKYgd51bV",
        "colab_type": "code",
        "outputId": "d0192827-27dc-48ea-a14e-48b3c978eb02",
        "colab": {
          "base_uri": "https://localhost:8080/",
          "height": 51
        }
      },
      "source": [
        "s = set (['a','b','c'])\n",
        "t = set(\"abc\")\n",
        "z = set(tuple('abc'))\n",
        "print(s ==t)\n",
        "print(s!=z)"
      ],
      "execution_count": 0,
      "outputs": [
        {
          "output_type": "stream",
          "text": [
            "True\n",
            "False\n"
          ],
          "name": "stdout"
        }
      ]
    },
    {
      "cell_type": "markdown",
      "metadata": {
        "id": "gQ2vEiAX6OOM",
        "colab_type": "text"
      },
      "source": [
        "**key-points**\n",
        "A set cannot contain another mutable object (like list), and doing so will throw error. \n",
        "\n",
        "To make an empty list the following code :\n",
        "List = [] \n",
        "Tup = () \n",
        "empty set \n",
        "s = {} #  **python treats this as Dictionary**\n",
        "since sets are unordered, indexing have no meaning. \n",
        "set operations do not allow users to access or change an element using indexing or slicing. \n",
        "\n",
        "Program to illustrate the updating of a set.  "
      ]
    },
    {
      "cell_type": "code",
      "metadata": {
        "id": "LbYcbjke7Cvh",
        "colab_type": "code",
        "colab": {}
      },
      "source": [
        "s = {1,2,3,4,5}\n",
        "print(s[0])"
      ],
      "execution_count": 0,
      "outputs": []
    },
    {
      "cell_type": "markdown",
      "metadata": {
        "id": "0eWK_Bnj796Q",
        "colab_type": "text"
      },
      "source": [
        "**A set can be created from a list but a set cannot contain a list. **\n",
        "one can iterate through each item in a set using a for loop. "
      ]
    },
    {
      "cell_type": "code",
      "metadata": {
        "id": "hJ2twqwQ8N_T",
        "colab_type": "code",
        "outputId": "88c62c2f-6bd9-4321-9ba5-6f88c4609e3b",
        "colab": {
          "base_uri": "https://localhost:8080/",
          "height": 34
        }
      },
      "source": [
        "s = set(\"Hi there, How are you doing today!\")\n",
        "for i in s:\n",
        "  print(i, end= ' ')"
      ],
      "execution_count": 0,
      "outputs": [
        {
          "output_type": "stream",
          "text": [
            "h e H i w , a o d t n y ! r u   g "
          ],
          "name": "stdout"
        }
      ]
    },
    {
      "cell_type": "markdown",
      "metadata": {
        "id": "nDssLh1r_BHY",
        "colab_type": "text"
      },
      "source": [
        "Write a program that generates a set of prime numbers and another set of odd numbers.  \n",
        "\n",
        "Demonstrate the result of union, intersection, difference, symmetric difference operation."
      ]
    },
    {
      "cell_type": "code",
      "metadata": {
        "id": "PvmKL1T7_SgG",
        "colab_type": "code",
        "outputId": "f782f7ca-a0a3-4bce-b143-96d869ddce5f",
        "colab": {
          "base_uri": "https://localhost:8080/",
          "height": 119
        }
      },
      "source": [
        "odds = set([x*2+1 for x in range(1,10)])\n",
        "print(odds)\n",
        "primes = set()\n",
        "for i in range (2,20):\n",
        "  j = 2\n",
        "  flag = 0\n",
        "  while j<i/2:\n",
        "    if i%j == 0:\n",
        "      flag =1\n",
        "    j+=1\n",
        "\n",
        "  if flag == 0:\n",
        "    primes.add(i)\n",
        "\n",
        "print(primes)\n",
        "print(\"UNION: \", odds.union(primes))\n",
        "print(\"INTERSECTION :   \", odds.intersection(primes))\n",
        "print(\"SYMMETRIC DIFFERENCE:  \", odds.symmetric_difference(primes))\n",
        "print(\"DIFFERENCE : \", odds.difference(primes))\n"
      ],
      "execution_count": 0,
      "outputs": [
        {
          "output_type": "stream",
          "text": [
            "{3, 5, 7, 9, 11, 13, 15, 17, 19}\n",
            "{2, 3, 4, 5, 7, 11, 13, 17, 19}\n",
            "UNION:  {2, 3, 4, 5, 7, 9, 11, 13, 15, 17, 19}\n",
            "INTERSECTION :    {3, 5, 7, 11, 13, 17, 19}\n",
            "SYMMETRIC DIFFERENCE:   {2, 4, 9, 15}\n",
            "DIFFERENCE :  {9, 15}\n"
          ],
          "name": "stdout"
        }
      ]
    },
    {
      "cell_type": "markdown",
      "metadata": {
        "id": "w2MXzgjoDvaR",
        "colab_type": "text"
      },
      "source": [
        "Write a program that creates two sets, one of even number in range 1-20 and the other has all composite numbers in the range 1-30.\n",
        "\n",
        "Also demonstrate the use of all(), issuperset(), len(), and sum() functions. \n",
        "\n"
      ]
    },
    {
      "cell_type": "code",
      "metadata": {
        "id": "Al7CNQcBED_p",
        "colab_type": "code",
        "outputId": "6de3b68d-1fa5-413c-9c79-4ffcfa528d84",
        "colab": {
          "base_uri": "https://localhost:8080/",
          "height": 119
        }
      },
      "source": [
        "evens = set([x*2 for x in range(1,20)])\n",
        "print(\"EVENS:   \",evens)\n",
        "composites = set()\n",
        "for i in range(2,30):\n",
        "  j = 2\n",
        "  flag = 0 \n",
        "  while j<=i/2:\n",
        "    if i%j == 0:\n",
        "      composites.add(i)\n",
        "    j+=1\n",
        "print(\"COMPOSITES : \", composites)\n",
        "print(\"SUPERSET:  \", evens.issuperset(composites))\n",
        "print(\"ALL :  \",all(evens))\n",
        "print(\"LENGTH OF COMPOSITES SETS :  \",len(composites))\n",
        "print(\"SUM OF ALL NUMBERS IN EVENS SET :  \",sum(evens))"
      ],
      "execution_count": 0,
      "outputs": [
        {
          "output_type": "stream",
          "text": [
            "EVENS:    {32, 2, 34, 4, 36, 6, 38, 8, 10, 12, 14, 16, 18, 20, 22, 24, 26, 28, 30}\n",
            "COMPOSITES :  {4, 6, 8, 9, 10, 12, 14, 15, 16, 18, 20, 21, 22, 24, 25, 26, 27, 28}\n",
            "SUPERSET:   False\n",
            "ALL :   True\n",
            "LENGTH OF COMPOSITES SETS :   18\n",
            "SUM OF ALL NUMBERS IN EVENS SET :   380\n"
          ],
          "name": "stdout"
        }
      ]
    },
    {
      "cell_type": "markdown",
      "metadata": {
        "id": "zxRi4o3zGuh6",
        "colab_type": "text"
      },
      "source": [
        "Write a program that creates two sets.  -- squares and cubes in range 1-10.  Demonstrate the use of update(), pop(), remove(), add(), and clear() functions.  \n",
        "\n"
      ]
    },
    {
      "cell_type": "code",
      "metadata": {
        "id": "7Pb_0B_8HmFZ",
        "colab_type": "code",
        "outputId": "8471a158-9fec-47c1-88a4-6130862bd8f5",
        "colab": {
          "base_uri": "https://localhost:8080/",
          "height": 136
        }
      },
      "source": [
        "squares = set ([x**2 for x in range (1,10)])\n",
        "cubes = set ([ x**3 for x in range (1,10)])\n",
        "print(\"SQUARES  \",squares)\n",
        "print(\"CUBES  \",cubes)\n",
        "squares.update(cubes)  # adds element of squares to cubes provided duplicates are avoided.\n",
        "print(\" UPDATE: \",squares)\n",
        "squares.add(11*11)\n",
        "squares.add(11*11*11)\n",
        "print(\"ADD :  \",squares)\n",
        "print(\"POP:   \",squares.pop())\n",
        "squares.remove(1331)\n",
        "print(\"REMOVE : \",squares)\n",
        "squares.clear()\n",
        "print(\"CLEAR :  \",squares)"
      ],
      "execution_count": 0,
      "outputs": [
        {
          "output_type": "stream",
          "text": [
            "SQUARES   {64, 1, 4, 36, 9, 16, 49, 81, 25}\n",
            "CUBES   {64, 1, 512, 8, 343, 216, 729, 27, 125}\n",
            " UPDATE:  {64, 1, 512, 4, 36, 8, 9, 16, 49, 81, 729, 343, 216, 25, 27, 125}\n",
            "ADD :   {64, 1, 512, 121, 4, 36, 8, 9, 16, 49, 81, 1331, 729, 343, 216, 25, 27, 125}\n",
            "POP:    64\n",
            "REMOVE :  {1, 512, 121, 4, 36, 8, 9, 16, 49, 81, 729, 343, 216, 25, 27, 125}\n",
            "CLEAR :   set()\n"
          ],
          "name": "stdout"
        }
      ]
    },
    {
      "cell_type": "markdown",
      "metadata": {
        "id": "OoE1kbi0KObM",
        "colab_type": "text"
      },
      "source": [
        "Write program that has a list of countries.  Create the set of countries and print their names in sorted order.  "
      ]
    },
    {
      "cell_type": "code",
      "metadata": {
        "id": "A5wlNX_pKXFG",
        "colab_type": "code",
        "outputId": "f18d7e5c-c4a1-46ee-e85a-ca4592d94128",
        "colab": {
          "base_uri": "https://localhost:8080/",
          "height": 34
        }
      },
      "source": [
        "countries = ['America', 'Japan', 'China', 'Brazil', 'England', 'Dominican Republic']\n",
        "S_set = sorted(set(countries))\n",
        "print(S_set)"
      ],
      "execution_count": 0,
      "outputs": [
        {
          "output_type": "stream",
          "text": [
            "['America', 'Brazil', 'China', 'Dominican Republic', 'England', 'Japan']\n"
          ],
          "name": "stdout"
        }
      ]
    },
    {
      "cell_type": "markdown",
      "metadata": {
        "id": "e2ywe9v0OrdU",
        "colab_type": "text"
      },
      "source": [
        "# DICTIONARIES : \n",
        "\n",
        "Dictionary is a data structure which stores values as a pair of key and value. \n",
        "\n",
        "\n",
        "Each key is separated from its value by a colon : and consecutive items are separated by commas.  \n",
        "\n",
        "The entire itesm in a dictionary are enclosed in curly brackets {} \n",
        "\n",
        "The syntax:\n",
        "** dictionary_name = { key_1: value_1, key_2:value_2, key_3 : value_3}**\n",
        "\n",
        "**Keys in the dictionary must be unique and be of any immutable data type like string, numbers or tuples, the value of a key can be of any type. \n",
        "Dictionaries are not sequences, rather they are mappings.\n",
        "Mappings are collection of objects that store objects by key instead of by relative position.\n",
        "\n",
        "Creating a Dictionary \n",
        "\n",
        "The syntax to create an empty dictionary can be given as :-  \n",
        "\n",
        "dictionary_variable = [] \n",
        "\n",
        "The syntax to create a dictionary with key-value pairs is : \n",
        "\n",
        "dictionary_variable = { key1:val1, key2: val2, .....}"
      ]
    },
    {
      "cell_type": "code",
      "metadata": {
        "id": "ElBAR1F3tRaM",
        "colab_type": "code",
        "colab": {
          "base_uri": "https://localhost:8080/",
          "height": 34
        },
        "outputId": "fea3dbe8-c4cc-4532-a5e7-469c06722ef5"
      },
      "source": [
        "Dict = {}\n",
        "\n",
        "Dict = { 'ID_No' : '1500/001', 'Name' : 'Aron', ' Course' : 'Python Programming'}\n",
        "print(Dict)\n"
      ],
      "execution_count": 2,
      "outputs": [
        {
          "output_type": "stream",
          "text": [
            "{'ID_No': '1500/001', 'Name': 'Aron', ' Course': 'Python Programming'}\n"
          ],
          "name": "stdout"
        }
      ]
    },
    {
      "cell_type": "markdown",
      "metadata": {
        "id": "bkIJk8n0t12_",
        "colab_type": "text"
      },
      "source": [
        "To create a dictionary with one or more key value pairs use the dict() function.  \n",
        "\n",
        "The dict() creates a dictionary directly from a sequence of key value pairs.  "
      ]
    },
    {
      "cell_type": "code",
      "metadata": {
        "id": "HehiKnJ3uBz7",
        "colab_type": "code",
        "colab": {
          "base_uri": "https://localhost:8080/",
          "height": 34
        },
        "outputId": "7ae5b4a7-44ed-4cce-9dd6-78d2b355022e"
      },
      "source": [
        "print(dict([('Image_No', '1800/001'), ('Name', 'Aron'), ('Course', 'Computer Programming')]))"
      ],
      "execution_count": 7,
      "outputs": [
        {
          "output_type": "stream",
          "text": [
            "{'Image_No': '1800/001', 'Name': 'Aron', 'Course': 'Computer Programming'}\n"
          ],
          "name": "stdout"
        }
      ]
    },
    {
      "cell_type": "markdown",
      "metadata": {
        "id": "eZtx0AK5ycFV",
        "colab_type": "text"
      },
      "source": [
        "Program to create 10 key- value pairs where key is a number in the range of 1-10 and the value is twice the number."
      ]
    },
    {
      "cell_type": "code",
      "metadata": {
        "id": "EeUrijGVykul",
        "colab_type": "code",
        "colab": {
          "base_uri": "https://localhost:8080/",
          "height": 34
        },
        "outputId": "7dae14fc-7992-42f5-db1a-75239109a969"
      },
      "source": [
        "Dict = {x : 2*x for x in range (1,10)}\n",
        "print(Dict)"
      ],
      "execution_count": 8,
      "outputs": [
        {
          "output_type": "stream",
          "text": [
            "{1: 2, 2: 4, 3: 6, 4: 8, 5: 10, 6: 12, 7: 14, 8: 16, 9: 18}\n"
          ],
          "name": "stdout"
        }
      ]
    },
    {
      "cell_type": "markdown",
      "metadata": {
        "id": "xJy8gqGAy7TE",
        "colab_type": "text"
      },
      "source": [
        "Accessing Values : \n",
        "\n",
        "Program to access values stored in a dictionary."
      ]
    },
    {
      "cell_type": "code",
      "metadata": {
        "id": "uhBp1WY1zAQa",
        "colab_type": "code",
        "colab": {
          "base_uri": "https://localhost:8080/",
          "height": 68
        },
        "outputId": "1e0a701b-9d1e-49bf-9b5a-cd6d0aed7583"
      },
      "source": [
        "Dict = {'Student_No' : '1500/001', 'Name' : 'Aron', 'Course' : 'Python Programming'}\n",
        "print(\"Dict[STUDENT_NO]=  \", Dict['Student_No'])\n",
        "print(\"Dict[NAME]= \", Dict['Name'])\n",
        "print(\"Dict[COURSE] = \", Dict['Course'])"
      ],
      "execution_count": 10,
      "outputs": [
        {
          "output_type": "stream",
          "text": [
            "Dict[STUDENT_NO]=   1500/001\n",
            "Dict[NAME]=  Aron\n",
            "Dict[COURSE] =  Python Programming\n"
          ],
          "name": "stdout"
        }
      ]
    },
    {
      "cell_type": "markdown",
      "metadata": {
        "id": "_3_Ggcvf0bL3",
        "colab_type": "text"
      },
      "source": [
        "**Adding and Modifying an Item in a Dictionary**\n",
        "\n",
        "To add a new entry or a key-value pair in a dictionary, just specify the key-value pair as you had done for the existing pairs.  The syntax to add an item in a dictionary is given as : \n",
        "\n",
        "\n",
        "dictionary_varaible[key] = val1\n",
        "\n",
        "Program to add a new item in the dictionary. "
      ]
    },
    {
      "cell_type": "code",
      "metadata": {
        "id": "KFI4nVUO0zJl",
        "colab_type": "code",
        "colab": {
          "base_uri": "https://localhost:8080/",
          "height": 85
        },
        "outputId": "9049f39e-a08d-4da3-e750-0579f72fe826"
      },
      "source": [
        "Dict = {'Student_No' : '1200/001', 'Name' : 'Benson', 'Course' : 'Java Programming'}\n",
        "print(\"Dict[STUDENT_NO]=  \", Dict['Student_No'])\n",
        "print(\"Dict[NAME]= \", Dict['Name'])\n",
        "print(\"Dict[COURSE] = \", Dict['Course'])\n",
        "Dict['Marks'] = 86\n",
        "print(\"Dict[MARKS] = \", Dict['Marks'])"
      ],
      "execution_count": 11,
      "outputs": [
        {
          "output_type": "stream",
          "text": [
            "Dict[STUDENT_NO]=   1200/001\n",
            "Dict[NAME]=  Benson\n",
            "Dict[COURSE] =  Java Programming\n",
            "Dict[MARKS] =  86\n"
          ],
          "name": "stdout"
        }
      ]
    },
    {
      "cell_type": "markdown",
      "metadata": {
        "id": "_cwkhhGy1aaR",
        "colab_type": "text"
      },
      "source": [
        "Modifying an Entry in a dictionary. \n",
        "\n",
        "\n",
        "Program to modify an item in the dictionary.  "
      ]
    },
    {
      "cell_type": "code",
      "metadata": {
        "id": "ardfPrtH1gX0",
        "colab_type": "code",
        "colab": {
          "base_uri": "https://localhost:8080/",
          "height": 102
        },
        "outputId": "c457290f-2123-4dc7-9cd7-47afb8699edc"
      },
      "source": [
        "Dict = {'Student_No' : '1300/002', 'Name' : 'Julie', 'Course' : 'C Programming'}\n",
        "print(\"Dict[STUDENT_NO]=  \", Dict['Student_No'])\n",
        "print(\"Dict[NAME]= \", Dict['Name'])\n",
        "print(\"Dict[COURSE] = \", Dict['Course'])\n",
        "Dict['Marks'] = 89 \n",
        "print(\"Dict[MARKS] =  \", Dict['Marks'])\n",
        "Dict['Course'] = 'C# Programming'\n",
        "print(\"Dict[COURSE]=  \", Dict ['Course']) # entry updated\n"
      ],
      "execution_count": 12,
      "outputs": [
        {
          "output_type": "stream",
          "text": [
            "Dict[STUDENT_NO]=   1300/002\n",
            "Dict[NAME]=  Julie\n",
            "Dict[COURSE] =  C Programming\n",
            "Dict[MARKS] =   89\n",
            "Dict[COURSE]=   C# Programming\n"
          ],
          "name": "stdout"
        }
      ]
    },
    {
      "cell_type": "markdown",
      "metadata": {
        "id": "PQVRN_Jt7sXH",
        "colab_type": "text"
      },
      "source": [
        "**Deleting Items** \n",
        "\n",
        "clear() removes all the items in just one statement.  \n",
        "del keyword deletes one or more items. \n",
        "\n",
        "The syntax to use del statement can be given as : \n",
        "\n",
        "del dictionary_variable[key]\n",
        "\n",
        "Program to demonstrate the use of del statement and clear() function."
      ]
    },
    {
      "cell_type": "code",
      "metadata": {
        "id": "Ez96zgBjxAIb",
        "colab_type": "code",
        "colab": {
          "base_uri": "https://localhost:8080/",
          "height": 102
        },
        "outputId": "61fe881f-72d2-44bb-abf6-1769efd67e92"
      },
      "source": [
        "Dict = {'Student_No' : '1900/010', 'Name' : 'Sam', 'Course' : 'SQL Programming'}\n",
        "print(\"Dict[STUDENT_NO]=  \", Dict['Student_No'])\n",
        "print(\"Dict[NAME]= \", Dict['Name'])\n",
        "print(\"Dict[COURSE] = \", Dict['Course'])\n",
        "del Dict['Course'] # deletes a key-value pair. \n",
        "print(\"After deleting course : \",Dict)\n",
        "Dict.clear() # deletes all entries \n",
        "print(\"After clear(), Dictionary has no items : \", Dict)"
      ],
      "execution_count": 2,
      "outputs": [
        {
          "output_type": "stream",
          "text": [
            "Dict[STUDENT_NO]=   1900/010\n",
            "Dict[NAME]=  Sam\n",
            "Dict[COURSE] =  SQL Programming\n",
            "After deleting course :  {'Student_No': '1900/010', 'Name': 'Sam'}\n",
            "After clear(), Dictionary has no items :  {}\n"
          ],
          "name": "stdout"
        }
      ]
    },
    {
      "cell_type": "markdown",
      "metadata": {
        "id": "b2Wu9NtEyGsS",
        "colab_type": "text"
      },
      "source": [
        "YOu can also use the pop() to delete a particular key from the dictionary.  \n",
        "The syntax of the Pop method is given as under;  \n",
        "\n",
        "dict.pop(key [,default])\n",
        "\n",
        "As the name suggests, the pop() removes an item from the dictionary and returns its value.  If the specified key is not present in the dictionary, then the default value is returned.  Since the default value is optional if you do not specify the default value and the key is also not present in the dictionary, then a keyError is generated.  \n",
        "\n",
        "Another method dict.popitem() randomly pops and returns an item from the dictionary.  \n",
        "\n",
        "\n",
        "Program to randomly pop() or remove an element from a dictionary "
      ]
    },
    {
      "cell_type": "code",
      "metadata": {
        "id": "0LFB9BRozGiE",
        "colab_type": "code",
        "colab": {
          "base_uri": "https://localhost:8080/",
          "height": 300
        },
        "outputId": "2642b592-6133-4d2d-e143-baa219f6ccba"
      },
      "source": [
        "Dict = {'Student_No' : '1700/001', 'Name' : 'Jack', 'Course' : 'Perl Programming'}\n",
        "print(\"Name is :  \", Dict.pop('Name'))\n",
        "print(\"Dictionary after popping name is :\", Dict)\n",
        "print(\"Mark is : \", Dict.pop('Marks', -1)) \n",
        "print(\"Dictionary after popping marks is \", Dict)\n",
        "print(\"Randomly popping any item :  \", Dict.popitem())\n",
        "print(\"Aggregate is : \", Dict.pop('Aggr'))\n",
        "print(\"Dictionary after popping Aggregate is \", Dict)\n"
      ],
      "execution_count": 5,
      "outputs": [
        {
          "output_type": "stream",
          "text": [
            "Name is :   Jack\n",
            "Dictionary after popping name is : {'Student_No': '1700/001', 'Course': 'Perl Programming'}\n",
            "Mark is :  -1\n",
            "Dictionary after popping marks is  {'Student_No': '1700/001', 'Course': 'Perl Programming'}\n",
            "Randomly popping any item :   ('Course', 'Perl Programming')\n"
          ],
          "name": "stdout"
        },
        {
          "output_type": "error",
          "ename": "KeyError",
          "evalue": "ignored",
          "traceback": [
            "\u001b[0;31m---------------------------------------------------------------------------\u001b[0m",
            "\u001b[0;31mKeyError\u001b[0m                                  Traceback (most recent call last)",
            "\u001b[0;32m<ipython-input-5-a21f0fc5b4ed>\u001b[0m in \u001b[0;36m<module>\u001b[0;34m()\u001b[0m\n\u001b[1;32m      5\u001b[0m \u001b[0mprint\u001b[0m\u001b[0;34m(\u001b[0m\u001b[0;34m\"Dictionary after popping marks is \"\u001b[0m\u001b[0;34m,\u001b[0m \u001b[0mDict\u001b[0m\u001b[0;34m)\u001b[0m\u001b[0;34m\u001b[0m\u001b[0;34m\u001b[0m\u001b[0m\n\u001b[1;32m      6\u001b[0m \u001b[0mprint\u001b[0m\u001b[0;34m(\u001b[0m\u001b[0;34m\"Randomly popping any item :  \"\u001b[0m\u001b[0;34m,\u001b[0m \u001b[0mDict\u001b[0m\u001b[0;34m.\u001b[0m\u001b[0mpopitem\u001b[0m\u001b[0;34m(\u001b[0m\u001b[0;34m)\u001b[0m\u001b[0;34m)\u001b[0m\u001b[0;34m\u001b[0m\u001b[0;34m\u001b[0m\u001b[0m\n\u001b[0;32m----> 7\u001b[0;31m \u001b[0mprint\u001b[0m\u001b[0;34m(\u001b[0m\u001b[0;34m\"Aggregate is : \"\u001b[0m\u001b[0;34m,\u001b[0m \u001b[0mDict\u001b[0m\u001b[0;34m.\u001b[0m\u001b[0mpop\u001b[0m\u001b[0;34m(\u001b[0m\u001b[0;34m'Aggr'\u001b[0m\u001b[0;34m)\u001b[0m\u001b[0;34m)\u001b[0m\u001b[0;34m\u001b[0m\u001b[0;34m\u001b[0m\u001b[0m\n\u001b[0m\u001b[1;32m      8\u001b[0m \u001b[0mprint\u001b[0m\u001b[0;34m(\u001b[0m\u001b[0;34m\"Dictionary after popping Aggregate is \"\u001b[0m\u001b[0;34m,\u001b[0m \u001b[0mDict\u001b[0m\u001b[0;34m)\u001b[0m\u001b[0;34m\u001b[0m\u001b[0;34m\u001b[0m\u001b[0m\n",
            "\u001b[0;31mKeyError\u001b[0m: 'Aggr'"
          ]
        }
      ]
    },
    {
      "cell_type": "markdown",
      "metadata": {
        "id": "6fXa4CPI3Bpq",
        "colab_type": "text"
      },
      "source": [
        "**key points** Keys must have unique values.  Not even a single key can be duplicated in a dictionary.  If you try to add a duplicate key, then the last assignment is retained.  "
      ]
    },
    {
      "cell_type": "code",
      "metadata": {
        "id": "3HtKuTys9INu",
        "colab_type": "code",
        "colab": {
          "base_uri": "https://localhost:8080/",
          "height": 68
        },
        "outputId": "db653e14-84d7-45fe-996d-0907da3ba1f0"
      },
      "source": [
        "Dict = {'Student_No' : '2100/010', 'Name' : 'Kevin', 'Course' : 'Perl Programming', 'Name' : 'Alex'}\n",
        "print(\"Dict[ROLL_NO]= \",Dict['Student_No'])\n",
        "print(\"Dict[NAME] =   \",Dict ['Name'])\n",
        "print(\"Dict[COURSE] = \",Dict['Course'])"
      ],
      "execution_count": 6,
      "outputs": [
        {
          "output_type": "stream",
          "text": [
            "Dict[ROLL_NO]=  2100/010\n",
            "Dict[NAME] =    Alex\n",
            "Dict[COURSE] =  Perl Programming\n"
          ],
          "name": "stdout"
        }
      ]
    },
    {
      "cell_type": "markdown",
      "metadata": {
        "id": "_ljvk_T4-MRs",
        "colab_type": "text"
      },
      "source": [
        "In a dictionary, keys should be strictly of a type that is immutable.  This means that a key can be of string number, or tuple type, but it cannot be a list which is mutable.  In case you try to make your key of a mutable type, then a TypeError will be generated as shown below. \n",
        "\n",
        "Program to illustrate the use of a multiple key in a dictionary"
      ]
    },
    {
      "cell_type": "code",
      "metadata": {
        "id": "NfGfIaP5-qDh",
        "colab_type": "code",
        "colab": {}
      },
      "source": [
        "Dict = {'Student_No' : '2000/100', 'Name' : 'Donald', 'Course' : 'Ruby Programming'}\n",
        "print(\"Dict[ROLL_NO] =  \", Dict['Student_No'])\n",
        "print(\"Dict[NAME] =   \", Dict['Name'])\n",
        "print(\"Dict[COURSE] =   \", Dict['Course'])\n"
      ],
      "execution_count": 0,
      "outputs": []
    },
    {
      "cell_type": "markdown",
      "metadata": {
        "id": "qrBO_cPn_9qV",
        "colab_type": "text"
      },
      "source": [
        "Tuples can be used as keys only if they contain immutable object like string, numbers or other tuples.  If a tuple used as key contains any mutable object either directly or indirectly, then an error is generated.\n",
        "\n",
        "Program to use tuple as keys "
      ]
    },
    {
      "cell_type": "code",
      "metadata": {
        "id": "se7pH5-1ATdd",
        "colab_type": "code",
        "colab": {}
      },
      "source": [
        "Dict = {(1,2), ([4,5,6])}\n",
        "print(Dict)"
      ],
      "execution_count": 0,
      "outputs": []
    },
    {
      "cell_type": "markdown",
      "metadata": {
        "id": "jl9kLv-MAdkz",
        "colab_type": "text"
      },
      "source": [
        "The in keyword can be used to check whether a single key is present in the dictionary.  "
      ]
    },
    {
      "cell_type": "code",
      "metadata": {
        "id": "FzBdgA88AjOE",
        "colab_type": "code",
        "colab": {
          "base_uri": "https://localhost:8080/",
          "height": 34
        },
        "outputId": "3fd76180-dddc-4759-fce1-a07882ed50cc"
      },
      "source": [
        "Dict = {'Student_No' : '2100/010', 'Name' : 'Cathy', 'Course' : 'VB Script Programming'}\n",
        "if 'Course' in Dict:\n",
        "  print(Dict['Course'])"
      ],
      "execution_count": 8,
      "outputs": [
        {
          "output_type": "stream",
          "text": [
            "VB Script Programming\n"
          ],
          "name": "stdout"
        }
      ]
    },
    {
      "cell_type": "markdown",
      "metadata": {
        "id": "N0iUMe0zA8X4",
        "colab_type": "text"
      },
      "source": [
        "Sorting Items in Dictionary\n",
        "\n",
        "The keys() method of dictionary returns a list of all the keys used in the dictionary in an arbitrary order.  \n",
        "\n",
        "The sorted() function is used to sort the keys. \n",
        "\n",
        "\n",
        "Program to sort keys of a dictionary"
      ]
    },
    {
      "cell_type": "code",
      "metadata": {
        "id": "q_7RPp_FBQHQ",
        "colab_type": "code",
        "colab": {
          "base_uri": "https://localhost:8080/",
          "height": 34
        },
        "outputId": "73ad113a-d2e1-4418-fa14-e4debec70379"
      },
      "source": [
        "Dict = {'Student_No' : '1700/002', 'Name' : 'Mathew', 'Course' : 'Julia Programming'}\n",
        "print(sorted(Dict.keys()))"
      ],
      "execution_count": 7,
      "outputs": [
        {
          "output_type": "stream",
          "text": [
            "['Course', 'Name', 'Student_No']\n"
          ],
          "name": "stdout"
        }
      ]
    },
    {
      "cell_type": "markdown",
      "metadata": {
        "id": "s7gugd7sBpeP",
        "colab_type": "text"
      },
      "source": [
        "Looping over a Dictionary : \n",
        "\n",
        "For looping over a dictionary to access only values, only keys and both using the for loop.\n",
        "\n",
        "Program to access items in a dictionary using for loop "
      ]
    },
    {
      "cell_type": "code",
      "metadata": {
        "id": "NcTyyDKgB6qx",
        "colab_type": "code",
        "colab": {
          "base_uri": "https://localhost:8080/",
          "height": 68
        },
        "outputId": "f7612cac-d2b6-4af2-d6dc-2133860495d9"
      },
      "source": [
        "Dict = {'Student_No' : '2200/001', 'Name' : 'Ryan', 'Course' : 'PowerShell Programming'}\n",
        "print(\"KEYS :   \",  end = ' ')\n",
        "for key in Dict: \n",
        "  print(key, end = '  ')\n",
        "print(\"\\nVALUES :   \", end = '  ')\n",
        "for val in Dict.values():\n",
        "  print(val, end = '  ')\n",
        "print(\"\\nDICTIONARY :   \",  end = ' ')\n",
        "for key, val in Dict.items():  # returns a list of tuples (key-value pair)\n",
        "  print(key,val, \"\\t\", end = '  ')"
      ],
      "execution_count": 9,
      "outputs": [
        {
          "output_type": "stream",
          "text": [
            "KEYS :    Student_No  Name  Course  \n",
            "VALUES :     2200/001  Ryan  PowerShell Programming  \n",
            "DICTIONARY :    Student_No 2200/001 \t  Name Ryan \t  Course PowerShell Programming \t  "
          ],
          "name": "stdout"
        }
      ]
    },
    {
      "cell_type": "markdown",
      "metadata": {
        "id": "A090TLyrC_FC",
        "colab_type": "text"
      },
      "source": [
        "Nested Dictionary :\n",
        "\n",
        "You can define a dictionary inside another dictionary. "
      ]
    },
    {
      "cell_type": "code",
      "metadata": {
        "id": "49mN6bupDBMw",
        "colab_type": "code",
        "colab": {
          "base_uri": "https://localhost:8080/",
          "height": 68
        },
        "outputId": "4e710f21-f633-468a-ef25-8bfebc6a9e41"
      },
      "source": [
        "Graduates = {'Smith' : {'CS' : 90, 'DS' : 98, 'CSA' : 93},\n",
        "             'Sally' : {'CS' : 87, 'DS' : 83, 'CSA' : 90},\n",
        "             'kevin' : {'CS' : 89, 'DS' : 88, 'CSA' : 91}}\n",
        "for key, val in Graduates.items():\n",
        "  print(key,val)"
      ],
      "execution_count": 13,
      "outputs": [
        {
          "output_type": "stream",
          "text": [
            "Smith {'CS': 90, 'DS': 98, 'CSA': 93}\n",
            "Sally {'CS': 87, 'DS': 83, 'CSA': 90}\n",
            "kevin {'CS': 89, 'DS': 88, 'CSA': 91}\n"
          ],
          "name": "stdout"
        }
      ]
    },
    {
      "cell_type": "markdown",
      "metadata": {
        "id": "D98l6AzfGML3",
        "colab_type": "text"
      },
      "source": [
        "**Built-in Dictionary Functions & Methods : **\n",
        "len(Dict)   Returns the length of dictionary. \n",
        "            That is, number of item (key-value pairs) "
      ]
    },
    {
      "cell_type": "code",
      "metadata": {
        "id": "VP3KxF5RHnfb",
        "colab_type": "code",
        "colab": {
          "base_uri": "https://localhost:8080/",
          "height": 34
        },
        "outputId": "ef8bb2d5-cd3a-4a2b-b7d3-59e86fb1313b"
      },
      "source": [
        "Dict1 = {'Student_ No.' : '16/001', 'Name' : 'Thomas', 'Course' : 'Mechanical'}\n",
        "print(len(Dict1))"
      ],
      "execution_count": 14,
      "outputs": [
        {
          "output_type": "stream",
          "text": [
            "3\n"
          ],
          "name": "stdout"
        }
      ]
    },
    {
      "cell_type": "markdown",
      "metadata": {
        "id": "HfgwSpJsIZ8w",
        "colab_type": "text"
      },
      "source": [
        "str(Dict)   Returns a string representation of the dictionary. "
      ]
    },
    {
      "cell_type": "code",
      "metadata": {
        "id": "86dtdAW3IfPp",
        "colab_type": "code",
        "colab": {
          "base_uri": "https://localhost:8080/",
          "height": 34
        },
        "outputId": "8d2d47fc-8c31-4e72-d14c-dc57171247ef"
      },
      "source": [
        "Dict1 = {'Student_ No.' : '15/111', 'Name' : 'Jared', 'Course' : 'History'}\n",
        "print(str(Dict1))"
      ],
      "execution_count": 15,
      "outputs": [
        {
          "output_type": "stream",
          "text": [
            "{'Student_ No.': '15/111', 'Name': 'Jared', 'Course': 'History'}\n"
          ],
          "name": "stdout"
        }
      ]
    },
    {
      "cell_type": "markdown",
      "metadata": {
        "id": "DC0HP7DMIzgJ",
        "colab_type": "text"
      },
      "source": [
        "Dict.clear()   Deletes all entries in the dictionary. "
      ]
    },
    {
      "cell_type": "code",
      "metadata": {
        "id": "IHt6QHqeSbA2",
        "colab_type": "code",
        "colab": {
          "base_uri": "https://localhost:8080/",
          "height": 34
        },
        "outputId": "9dc78d9e-1c56-4f21-da02-9aa824514105"
      },
      "source": [
        "Dict1 = {'Student_ No.' : '16/001', 'Name' : 'Thomas', 'Course' : 'Mechanical'}\n",
        "Dict1.clear()\n",
        "print(Dict1)"
      ],
      "execution_count": 16,
      "outputs": [
        {
          "output_type": "stream",
          "text": [
            "{}\n"
          ],
          "name": "stdout"
        }
      ]
    },
    {
      "cell_type": "markdown",
      "metadata": {
        "id": "7dcJkHpkSr5f",
        "colab_type": "text"
      },
      "source": [
        "Dict.copy() \n",
        "\n",
        "Returns a shallow copy of the dictionary i.e. the dictionary returned will not have a duplicate copy of the Dict but will have same reference.  \n"
      ]
    },
    {
      "cell_type": "code",
      "metadata": {
        "id": "k1HXlG7US3ug",
        "colab_type": "code",
        "colab": {
          "base_uri": "https://localhost:8080/",
          "height": 68
        },
        "outputId": "c169d129-f348-4c82-99a2-2540a5c9055b"
      },
      "source": [
        "Dict1 = {'Student_ No.' : '17/001', 'Name' : 'Gregory', 'Course' : 'Object Oriented Programming'}\n",
        "Dict2 = Dict1.copy()\n",
        "print(\"dict2 : \", Dict2)\n",
        "Dict2['Name'] = 'Sasha'\n",
        "print(\"Dict1 after modification : \",Dict1)\n",
        "print(\"Dict2 after modificaiton :   \", Dict2)"
      ],
      "execution_count": 17,
      "outputs": [
        {
          "output_type": "stream",
          "text": [
            "dict2 :  {'Student_ No.': '17/001', 'Name': 'Gregory', 'Course': 'Object Oriented Programming'}\n",
            "Dict1 after modification :  {'Student_ No.': '17/001', 'Name': 'Gregory', 'Course': 'Object Oriented Programming'}\n",
            "Dict2 after modificaiton :    {'Student_ No.': '17/001', 'Name': 'Sasha', 'Course': 'Object Oriented Programming'}\n"
          ],
          "name": "stdout"
        }
      ]
    },
    {
      "cell_type": "markdown",
      "metadata": {
        "id": "jxHA-B00VFMZ",
        "colab_type": "text"
      },
      "source": [
        "Dict.fromkeys(seq[,val])  : Create a new dictionary with keys from seq and values set to val.  If no val is specified then, None is assigned as default value.  "
      ]
    },
    {
      "cell_type": "code",
      "metadata": {
        "id": "qKbh8n1GVUGe",
        "colab_type": "code",
        "colab": {
          "base_uri": "https://localhost:8080/",
          "height": 34
        },
        "outputId": "737f5632-b742-422e-8355-0c3cf27b9636"
      },
      "source": [
        "Subjects = ['CSA', 'C++', 'DS', 'OS']\n",
        "Marks = dict.fromkeys(Subjects, -1)\n",
        "print(Marks)"
      ],
      "execution_count": 18,
      "outputs": [
        {
          "output_type": "stream",
          "text": [
            "{'CSA': -1, 'C++': -1, 'DS': -1, 'OS': -1}\n"
          ],
          "name": "stdout"
        }
      ]
    },
    {
      "cell_type": "markdown",
      "metadata": {
        "id": "U9-kKhLVVvoR",
        "colab_type": "text"
      },
      "source": [
        "Dict.get(key)\n",
        "\n",
        "Returns the value for the key passed as argument.  IF the key is not present in dictionary, it will return the default value.  If no default value is specified then it will return None.  "
      ]
    },
    {
      "cell_type": "code",
      "metadata": {
        "id": "3Cb4OTPBV9qE",
        "colab_type": "code",
        "colab": {
          "base_uri": "https://localhost:8080/",
          "height": 34
        },
        "outputId": "4acccd10-53c9-4efd-b6bd-eac3fa4908e5"
      },
      "source": [
        "Dict1 = {'Student_ No.' : '16/001', 'Name' : 'Thomas', 'Course' : 'Mechanical'}\n",
        "print(Dict1.get('Name'))"
      ],
      "execution_count": 19,
      "outputs": [
        {
          "output_type": "stream",
          "text": [
            "Thomas\n"
          ],
          "name": "stdout"
        }
      ]
    },
    {
      "cell_type": "markdown",
      "metadata": {
        "id": "PDSAbHFeWKGR",
        "colab_type": "text"
      },
      "source": [
        "Dict.has_key(key)\n",
        "Returns True if the key is present in the dictionary and False otherwise.  \n",
        "\n"
      ]
    },
    {
      "cell_type": "code",
      "metadata": {
        "id": "yubIWX8ohff2",
        "colab_type": "code",
        "colab": {
          "base_uri": "https://localhost:8080/",
          "height": 34
        },
        "outputId": "a469dde7-382d-4806-f200-6c6865cd196b"
      },
      "source": [
        "Dict1 = {'Student_ No.' : '20/001', 'Name' : 'Scott', 'Course' : 'Electrical'}\n",
        "print('Marks' in Dict1)"
      ],
      "execution_count": 20,
      "outputs": [
        {
          "output_type": "stream",
          "text": [
            "False\n"
          ],
          "name": "stdout"
        }
      ]
    },
    {
      "cell_type": "markdown",
      "metadata": {
        "id": "slxuZT1jhx7e",
        "colab_type": "text"
      },
      "source": [
        "Dict.items() \n",
        "\n",
        "Returns a list of tuples (key-value pair) "
      ]
    },
    {
      "cell_type": "code",
      "metadata": {
        "id": "M6oZ0Zayh3aZ",
        "colab_type": "code",
        "colab": {
          "base_uri": "https://localhost:8080/",
          "height": 34
        },
        "outputId": "5a2f10c8-62e5-4dd6-c487-a8d28dfbe8b6"
      },
      "source": [
        "Dict1 = {'Student_ No.' : '21/002', 'Name' : 'Renny', 'Course' : 'Statistical'}\n",
        "print(Dict1.items())"
      ],
      "execution_count": 21,
      "outputs": [
        {
          "output_type": "stream",
          "text": [
            "dict_items([('Student_ No.', '21/002'), ('Name', 'Renny'), ('Course', 'Statistical')])\n"
          ],
          "name": "stdout"
        }
      ]
    },
    {
      "cell_type": "markdown",
      "metadata": {
        "id": "HAvnLso_iHBs",
        "colab_type": "text"
      },
      "source": [
        "Dict.keys() \n",
        "\n",
        "Returns a list of keys in the dictionary. "
      ]
    },
    {
      "cell_type": "code",
      "metadata": {
        "id": "IsOyAurIiMS5",
        "colab_type": "code",
        "colab": {
          "base_uri": "https://localhost:8080/",
          "height": 34
        },
        "outputId": "ab7d32c5-65ee-4395-a8ba-9134a2079d9d"
      },
      "source": [
        "Dict1 = {'Student_ No.' : '23/003', 'Name' : 'Osborne', 'Course' : 'Mathematics'}\n",
        "print(Dict1.keys())"
      ],
      "execution_count": 22,
      "outputs": [
        {
          "output_type": "stream",
          "text": [
            "dict_keys(['Student_ No.', 'Name', 'Course'])\n"
          ],
          "name": "stdout"
        }
      ]
    },
    {
      "cell_type": "markdown",
      "metadata": {
        "id": "V_3VrLOzifnk",
        "colab_type": "text"
      },
      "source": [
        "Dict. setdefault(key,value)\n",
        "\n",
        "Sets a default value for a key that is not present in the dictionary. \n",
        "\n"
      ]
    },
    {
      "cell_type": "code",
      "metadata": {
        "id": "Cia2feA8kXDF",
        "colab_type": "code",
        "colab": {
          "base_uri": "https://localhost:8080/",
          "height": 34
        },
        "outputId": "05392e43-7da1-4048-f7e6-5efd604e035d"
      },
      "source": [
        "Dict1 = {'Student_ No.' : '24/004', 'Name' : 'Margaret', 'Course' : 'Physics'}\n",
        "Dict1.setdefault('Marks', 0)\n",
        "print(Dict1['Name'], \"has got marks =   \",Dict1.get('Marks'))"
      ],
      "execution_count": 23,
      "outputs": [
        {
          "output_type": "stream",
          "text": [
            "Margaret has got marks =    0\n"
          ],
          "name": "stdout"
        }
      ]
    },
    {
      "cell_type": "markdown",
      "metadata": {
        "id": "37fWH6AQk46N",
        "colab_type": "text"
      },
      "source": [
        "**operations**\n",
        "\n",
        "Dict1.update(Dict2) : Adds the key-value pair of Dict2 to the key-value pair of Dict1."
      ]
    },
    {
      "cell_type": "code",
      "metadata": {
        "id": "oDQC8b-dlPWE",
        "colab_type": "code",
        "colab": {
          "base_uri": "https://localhost:8080/",
          "height": 34
        },
        "outputId": "445c98df-889a-4a64-af22-65477b3a63e9"
      },
      "source": [
        "Dict1 = {'Student_ No.' : '25/005', 'Name' : 'Jemma', 'Course' : 'Aeronautical'}\n",
        "Dict2 = {'Marks' :   96, 'Grade' : 'O'}\n",
        "Dict1.update(Dict2)\n",
        "print(Dict1)"
      ],
      "execution_count": 24,
      "outputs": [
        {
          "output_type": "stream",
          "text": [
            "{'Student_ No.': '25/005', 'Name': 'Jemma', 'Course': 'Aeronautical', 'Marks': 96, 'Grade': 'O'}\n"
          ],
          "name": "stdout"
        }
      ]
    },
    {
      "cell_type": "markdown",
      "metadata": {
        "id": "M_CerJDWl2kr",
        "colab_type": "text"
      },
      "source": [
        "Dict.values()   Returns a list of values inn dictionary. "
      ]
    },
    {
      "cell_type": "code",
      "metadata": {
        "id": "ee74c1nyl6uS",
        "colab_type": "code",
        "colab": {
          "base_uri": "https://localhost:8080/",
          "height": 34
        },
        "outputId": "612d86f0-656a-46fd-8a16-af436fef15e3"
      },
      "source": [
        "Dict1 = {'Student_ No.' : '26/006', 'Name' : 'Angie', 'Course' : 'Geological'}\n",
        "print(Dict1.values())"
      ],
      "execution_count": 25,
      "outputs": [
        {
          "output_type": "stream",
          "text": [
            "dict_values(['26/006', 'Angie', 'Geological'])\n"
          ],
          "name": "stdout"
        }
      ]
    },
    {
      "cell_type": "markdown",
      "metadata": {
        "id": "bM6-HS5emR2F",
        "colab_type": "text"
      },
      "source": [
        "Dict.iteritems() \n",
        "\n",
        "Used to iterate through items in the dictionary. "
      ]
    },
    {
      "cell_type": "code",
      "metadata": {
        "id": "uOgvO4T6mXeG",
        "colab_type": "code",
        "colab": {}
      },
      "source": [
        "Dict1 = {'Student_ No.' : '27/007', 'Name' : 'Karl', 'Course' : 'Geospatial'}\n",
        "for i, j in Dict1.iteritems():\n",
        "  print(i,j)"
      ],
      "execution_count": 0,
      "outputs": []
    },
    {
      "cell_type": "markdown",
      "metadata": {
        "id": "TwDuLyAHo92Y",
        "colab_type": "text"
      },
      "source": [
        "# Difference between List & Dictionary : \n",
        "\n",
        "A list is an ordered set of items.  But a dictionary is a data structure that is used for matching one item (key) with another (value) \n",
        "\n",
        "In List idexing is used to access the particular item.  But these indexes should be number. \n",
        "\n",
        "In dictionaries uses any type (immutable) of value as an index.  Dict ['Course'] the course acts as an index, but it is not a number but a string.  \n",
        "\n",
        "List is used to look up a value, whereas dictionary, which is also known as lookup table, is used to take one value and look up another value.  \n",
        "\n",
        "The key value pair may not be displayed in the order in which it was specified while defining the dictionary.   Python uses complex algorithms ( called hashing) to provide fast access to the items stored in the dictionary.  This also makes dictionary preferable to use over list of tuples.  \n",
        "\n",
        "** String Formatting with Dictionaries** \n",
        "Python allows you to use string formatting feature with dictionaries. \n",
        "You can use %s, %d, %f etc to represent string, integer and float value. \n",
        "\n",
        "Program that using string formatting feature to print the key-value pairs stored in the dictionary. \n"
      ]
    },
    {
      "cell_type": "code",
      "metadata": {
        "id": "NrHB3T4W0akk",
        "colab_type": "code",
        "colab": {
          "base_uri": "https://localhost:8080/",
          "height": 51
        },
        "outputId": "1d8e923f-016c-4aef-edeb-b4810bd40c7f"
      },
      "source": [
        "Dict = {'Samantha' : 'Machine Learning', 'Malcolm' : ' Artificial Intelligence'}\n",
        "for key, val in Dict.items():\n",
        "  print(\"%s is studying %s\"  % (key,val))"
      ],
      "execution_count": 33,
      "outputs": [
        {
          "output_type": "stream",
          "text": [
            "Samantha is studying Machine Learning\n",
            "Malcolm is studying  Artificial Intelligence\n"
          ],
          "name": "stdout"
        }
      ]
    },
    {
      "cell_type": "markdown",
      "metadata": {
        "id": "hsUjnUD-0-i3",
        "colab_type": "text"
      },
      "source": [
        "# WHICH DATASTRUCTURE TO USE : \n",
        "If random access not required, use list \n",
        "If frequent modification required use list. \n",
        "For ensuring that every element in the data structure is unique, use set.\n",
        "To prevent alteration of data, use tuples. \n",
        "\n",
        "**List vs Tuples vs Dictionary vs Set\n",
        "\n",
        "Tuples are list which cannot be modified. Tuples have a fixed size, preventing addition or deletion of items from it.  \n",
        "\n",
        "Due to mutability difference, tuples are easier on memory and processor in comparison to list.  \n",
        "\n",
        "Performance optimization can be achieved through use of tuples.  \n",
        "\n",
        "Tuples are used as heterogeneous collections, while lists are homogeneous collections.  \n",
        "\n",
        "To store unordered values that do not have index sets are used. \n",
        "\n",
        "Sets do not have duplicate data and functions such as add() and update() can be used to edit the elements in the set.  \n",
        "\n",
        "Program to add an item in a set.  "
      ]
    },
    {
      "cell_type": "code",
      "metadata": {
        "id": "zMbdxJ0y2w4I",
        "colab_type": "code",
        "colab": {
          "base_uri": "https://localhost:8080/",
          "height": 51
        },
        "outputId": "85a7bf0a-3cd1-4c0b-b513-ff04d6938deb"
      },
      "source": [
        "Game = set(['Baseball', 'Basketball'])\n",
        "print(Game)\n",
        "Game.add('Ice Hockey')\n",
        "print(Game)"
      ],
      "execution_count": 34,
      "outputs": [
        {
          "output_type": "stream",
          "text": [
            "{'Baseball', 'Basketball'}\n",
            "{'Baseball', 'Ice Hockey', 'Basketball'}\n"
          ],
          "name": "stdout"
        }
      ]
    },
    {
      "cell_type": "markdown",
      "metadata": {
        "id": "VLG8Etkk3HhD",
        "colab_type": "text"
      },
      "source": [
        "# Dictionary is used to store key-value pair, its underlying usage is entirely different from that of List, Tuple or Set. Dictionaries serve as best Data Structures for frequent lookup operations.  \n",
        "\n",
        "\n",
        "Program to return the name of an employee when his project name is given "
      ]
    },
    {
      "cell_type": "code",
      "metadata": {
        "id": "lNF0z0rw3iml",
        "colab_type": "code",
        "colab": {
          "base_uri": "https://localhost:8080/",
          "height": 34
        },
        "outputId": "9379e039-1714-4ea9-95b4-1ad43945ef47"
      },
      "source": [
        "Dict = { 'ProjectApple' : ' Marie', 'ProjectAmazon' : 'Richard', 'ProjectGoogle' : ' Harris', 'ProjectMicrosoft' : 'Victor'}\n",
        "print(Dict['ProjectMicrosoft'])"
      ],
      "execution_count": 35,
      "outputs": [
        {
          "output_type": "stream",
          "text": [
            "Victor\n"
          ],
          "name": "stdout"
        }
      ]
    },
    {
      "cell_type": "markdown",
      "metadata": {
        "id": "yPLnD1pX4V4b",
        "colab_type": "text"
      },
      "source": [
        "Write a program that has dictionary of States and their codes.  Add another state in the pre-defined dictionary, print all the items in the dictionary and try to print code for a state that does not exists.  Set a default value prior to printing the dictionary.  "
      ]
    },
    {
      "cell_type": "code",
      "metadata": {
        "id": "iu1eNdLr4m7-",
        "colab_type": "code",
        "colab": {
          "base_uri": "https://localhost:8080/",
          "height": 187
        },
        "outputId": "ff6d8ae9-4812-438e-fb21-25b69e4bb8fb"
      },
      "source": [
        "States = {'Alabama' : 'AB', 'Alaska' : 'AL', 'California' : 'CL', 'Delaware' : 'DL', 'Florida' : 'FL' }\n",
        "States ['Iowa'] = 'IW' \n",
        "States.setdefault('Kansas', 'Oops, not found')\n",
        "print(\"Code for Delaware is : \", States['Delaware'])\n",
        "print(\"-\" * 5, \"CODES\", \"-\" * 5)\n",
        "for i in States.items():\n",
        "  print(i)\n",
        "print(\"Code for Kansas :  \", States.get('Kansas'))"
      ],
      "execution_count": 36,
      "outputs": [
        {
          "output_type": "stream",
          "text": [
            "Code for Delaware is :  DL\n",
            "----- CODES -----\n",
            "('Alabama', 'AB')\n",
            "('Alaska', 'AL')\n",
            "('California', 'CL')\n",
            "('Delaware', 'DL')\n",
            "('Florida', 'FL')\n",
            "('Iowa', 'IW')\n",
            "('Kansas', 'Oops, not found')\n",
            "Code for Kansas :   Oops, not found\n"
          ],
          "name": "stdout"
        }
      ]
    },
    {
      "cell_type": "markdown",
      "metadata": {
        "id": "ReLFAPx46kuz",
        "colab_type": "text"
      },
      "source": [
        "Program that creates a dictionary of radius of circle and its circumference. "
      ]
    },
    {
      "cell_type": "code",
      "metadata": {
        "id": "GQTpDK0D6w9s",
        "colab_type": "code",
        "colab": {
          "base_uri": "https://localhost:8080/",
          "height": 119
        },
        "outputId": "c17ae3e5-1703-4a81-b951-39029c8365b4"
      },
      "source": [
        "print(\"Enter -1 to exit.......\")\n",
        "Circumference = {}\n",
        "while True:\n",
        "  r = float(input(\"Enter radius :   \"))\n",
        "  if r == -1:\n",
        "    break\n",
        "\n",
        "  else:\n",
        "    Dict = {r:2*3.14*r} \n",
        "    Circumference.update(Dict)  # adds key value pairs of Dict to Circumference  \n",
        "print(Circumference)"
      ],
      "execution_count": 40,
      "outputs": [
        {
          "output_type": "stream",
          "text": [
            "Enter -1 to exit.......\n",
            "Enter radius :   9\n",
            "Enter radius :   4\n",
            "Enter radius :   1\n",
            "Enter radius :   -1\n",
            "{9.0: 56.52, 4.0: 25.12, 1.0: 6.28}\n"
          ],
          "name": "stdout"
        }
      ]
    },
    {
      "cell_type": "markdown",
      "metadata": {
        "id": "hKaf8omZ73c1",
        "colab_type": "text"
      },
      "source": [
        "Write a program that creates two dictionaries.  One that stores conversion values from meters to centimeters and other that stores values from centimeters to meters.  "
      ]
    },
    {
      "cell_type": "code",
      "metadata": {
        "id": "ggu7pE2R8D3g",
        "colab_type": "code",
        "colab": {
          "base_uri": "https://localhost:8080/",
          "height": 51
        },
        "outputId": "e22eed90-dde2-46ba-c19b-02ac2a074102"
      },
      "source": [
        "m_cm = {x : x*100 for x in range (1,11)}\n",
        "temp = m_cm.values()  # return a list of values in dictionary\n",
        "cm_m = {x : x/100 for x in temp}\n",
        "print(\"Meters : Centimeters\", m_cm)\n",
        "print(\"Centimeters : Meters \",cm_m)"
      ],
      "execution_count": 41,
      "outputs": [
        {
          "output_type": "stream",
          "text": [
            "Meters : Centimeters {1: 100, 2: 200, 3: 300, 4: 400, 5: 500, 6: 600, 7: 700, 8: 800, 9: 900, 10: 1000}\n",
            "Centimeters : Meters  {100: 1.0, 200: 2.0, 300: 3.0, 400: 4.0, 500: 5.0, 600: 6.0, 700: 7.0, 800: 8.0, 900: 9.0, 1000: 10.0}\n"
          ],
          "name": "stdout"
        }
      ]
    },
    {
      "cell_type": "markdown",
      "metadata": {
        "id": "2irVzx3M9FGr",
        "colab_type": "text"
      },
      "source": [
        "Write a program that has a set of words in English Language and their corresponding words in Spanish.  Define another dictionary that has list of words in Spanish and thier corresponding words in Italian.  Take all words from English and display their meaning in both the language.   "
      ]
    },
    {
      "cell_type": "code",
      "metadata": {
        "id": "aYSgnJQi9biB",
        "colab_type": "code",
        "colab": {
          "base_uri": "https://localhost:8080/",
          "height": 68
        },
        "outputId": "f08fb3d6-7603-41e8-9616-5b640943def7"
      },
      "source": [
        "E_S = {'Enemy' : 'Enemigo', 'Professor' : 'Profesora', 'Magazine' : 'Revista'}\n",
        "S_I = { 'Enemigo' : 'Nemico', 'Profesora' : 'Docente', 'Revista' : 'Rivista'}\n",
        "\n",
        "for i in E_S:\n",
        "  print(i, \"in Spanish means\", E_S[i], \"and in Italian means\", S_I[E_S[i]])\n"
      ],
      "execution_count": 43,
      "outputs": [
        {
          "output_type": "stream",
          "text": [
            "Enemy in Spanish means Enemigo and in Italian means Nemico\n",
            "Professor in Spanish means Profesora and in Italian means Docente\n",
            "Magazine in Spanish means Revista and in Italian means Rivista\n"
          ],
          "name": "stdout"
        }
      ]
    },
    {
      "cell_type": "markdown",
      "metadata": {
        "id": "f7MiTkQF_rLT",
        "colab_type": "text"
      },
      "source": [
        "Write a program that calculates fin(n) using dictionary.  "
      ]
    },
    {
      "cell_type": "code",
      "metadata": {
        "id": "GiS6bbwo63TP",
        "colab_type": "code",
        "colab": {}
      },
      "source": [
        ""
      ],
      "execution_count": 0,
      "outputs": []
    },
    {
      "cell_type": "code",
      "metadata": {
        "id": "0dMzgFff_vfK",
        "colab_type": "code",
        "colab": {
          "base_uri": "https://localhost:8080/",
          "height": 51
        },
        "outputId": "9c753455-03c8-4bdd-dd94-4abc0752acd4"
      },
      "source": [
        "Dict = {0: 0, 1: 1}\n",
        "def fib(n):\n",
        "  if n not in Dict:  # checks whether a given key is present in dictionary or not\n",
        "    val = fib(n-1) + fib(n-2)\n",
        "    Dict[n] = val \n",
        "  return Dict[n]\n",
        "n = int(input(\"Enter the value of n :   \"))\n",
        "print(\"Fib(\",n,\") = \",fib(n))"
      ],
      "execution_count": 44,
      "outputs": [
        {
          "output_type": "stream",
          "text": [
            "Enter the value of n :   10\n",
            "Fib( 10 ) =  55\n"
          ],
          "name": "stdout"
        }
      ]
    },
    {
      "cell_type": "markdown",
      "metadata": {
        "id": "iDaA72EjA0S1",
        "colab_type": "text"
      },
      "source": [
        "Write a program that creates a dictionary of cubes of odd numbers in the range of 1-15.  "
      ]
    },
    {
      "cell_type": "code",
      "metadata": {
        "id": "armX0b5eB08N",
        "colab_type": "code",
        "colab": {
          "base_uri": "https://localhost:8080/",
          "height": 34
        },
        "outputId": "de38f8cf-027f-45ec-d77e-840d13e2abbf"
      },
      "source": [
        "Dict = { x: x**3 for x in range (1,15) if x%2==1}\n",
        "print(Dict)"
      ],
      "execution_count": 46,
      "outputs": [
        {
          "output_type": "stream",
          "text": [
            "{1: 1, 3: 27, 5: 125, 7: 343, 9: 729, 11: 1331, 13: 2197}\n"
          ],
          "name": "stdout"
        }
      ]
    },
    {
      "cell_type": "markdown",
      "metadata": {
        "id": "TL7YwRkGCR27",
        "colab_type": "text"
      },
      "source": [
        "Write a program that prompts the user to enter a message.  Count and print the number of occurence of each character.  "
      ]
    },
    {
      "cell_type": "code",
      "metadata": {
        "id": "mFNvh8VWCZJb",
        "colab_type": "code",
        "colab": {
          "base_uri": "https://localhost:8080/",
          "height": 51
        },
        "outputId": "ba6d64d9-d6f1-4494-fbd0-c7f5722605b3"
      },
      "source": [
        "def count(message):\n",
        "  letter_counts = {}\n",
        "  for letter in message: \n",
        "    letter_counts[letter] = letter_counts.get(letter,0) +1\n",
        "  print(letter_counts)\n",
        "message = input(\"Enter a message : \")\n",
        "count(message)"
      ],
      "execution_count": 47,
      "outputs": [
        {
          "output_type": "stream",
          "text": [
            "Enter a message : Hi there how are you\n",
            "{'H': 1, 'i': 1, ' ': 4, 't': 1, 'h': 2, 'e': 3, 'r': 2, 'o': 2, 'w': 1, 'a': 1, 'y': 1, 'u': 1}\n"
          ],
          "name": "stdout"
        }
      ]
    },
    {
      "cell_type": "markdown",
      "metadata": {
        "id": "_fyJwHHJDUtG",
        "colab_type": "text"
      },
      "source": [
        "Write a program to store sparse matrix as a dictionary. "
      ]
    },
    {
      "cell_type": "code",
      "metadata": {
        "id": "6sc-bysMCFKi",
        "colab_type": "code",
        "colab": {}
      },
      "source": [
        "matrix = [[0,0,0,1,0],\n",
        "          [2,0,0,0,3],\n",
        "          [0,0,0,4,0]]\n",
        "Dict = {} \n",
        "print(\"Sparse Matrix\")\n",
        "for i in range(len(matrix)):\n",
        "  print(\"\\n\")\n",
        "  for j in range(len(matrix[i][j])):\n",
        "    print(matrix[i][j], end = ' ')\n",
        "    if matrix[i][j]!=0:\n",
        "      Dict[(i,j)] = matrix[i][j]\n",
        "print(\"\\n\\nSparse Matrix can be efficiently represented as Dictionary:  \")\n",
        "print(Dict)"
      ],
      "execution_count": 0,
      "outputs": []
    },
    {
      "cell_type": "markdown",
      "metadata": {
        "id": "c-8SLFQpFshr",
        "colab_type": "text"
      },
      "source": [
        "Write a program that inverts a dictionary.  It makes key of one dictionary value of another and vice versa. "
      ]
    },
    {
      "cell_type": "code",
      "metadata": {
        "id": "Ve2K_L2bF17X",
        "colab_type": "code",
        "colab": {
          "base_uri": "https://localhost:8080/",
          "height": 51
        },
        "outputId": "8dccb8d3-7972-4833-a576-5325c5bb2b7e"
      },
      "source": [
        "Dict = {'Samantha' : 'Machine Learning', 'Malcolm' : ' Artificial Intelligence'}\n",
        "inverted = {} \n",
        "for key, val in Dict.items():\n",
        "  inverted[val] = key\n",
        "print(\"Dict :   \",Dict)\n",
        "print(\"Inverted Dict :  \", inverted)"
      ],
      "execution_count": 50,
      "outputs": [
        {
          "output_type": "stream",
          "text": [
            "Dict :    {'Samantha': 'Machine Learning', 'Malcolm': ' Artificial Intelligence'}\n",
            "Inverted Dict :   {'Machine Learning': 'Samantha', ' Artificial Intelligence': 'Malcolm'}\n"
          ],
          "name": "stdout"
        }
      ]
    },
    {
      "cell_type": "markdown",
      "metadata": {
        "id": "1q7KjcYfGxF8",
        "colab_type": "text"
      },
      "source": [
        "Write a program that has dictionary of names of students and a list of their names in 5 subjects.  \n",
        "\n",
        "Create another dictionary from this dictionary that has names of the student and their marks.  \n",
        "\n",
        "Find the top scoring student. \n"
      ]
    },
    {
      "cell_type": "code",
      "metadata": {
        "id": "LrVnj2VjHEmw",
        "colab_type": "code",
        "colab": {}
      },
      "source": [
        "Marks = {'Neil' : [87,88,82,80,91], 'Micheal' :[78,86,83,81,71], ' Samantha' : [77,68,83,86,81] }\n",
        "tot = 0\n",
        "Tot_Marks = Marks.copy() # return a shallow copy of dictionary it will not have duplicate, \n",
        "for key,val in Marks.items(): # return a list of tuples (key value pair) \n",
        "  tot = sum(val)\n",
        "print(Tot_Marks)\n",
        "max= 0\n",
        "for key, val in Tot_Marks.items():\n",
        "  if val > max:\n",
        "    max = val\n",
        "    Topper = key \n",
        "print(\"Topper is :  \", Topper, \" with marks = \",max)\n"
      ],
      "execution_count": 0,
      "outputs": []
    },
    {
      "cell_type": "markdown",
      "metadata": {
        "id": "FCW8XFPcJaPA",
        "colab_type": "text"
      },
      "source": [
        "Write a program that print a histogram of frequencies of characters occuring in a message.  "
      ]
    },
    {
      "cell_type": "code",
      "metadata": {
        "id": "zdbyF-vUJiva",
        "colab_type": "code",
        "colab": {}
      },
      "source": [
        "message = 'Hi there, How are you doing!...... Welcome to Python Programming'\n",
        "message.lower()\n",
        "Dict = dict()\n",
        "for word in message:\n",
        "  if word not in Dict: \n",
        "    Dict[word] =1\n",
        "  else:\n",
        "    Dict[word] = Dict[word]  +1\n",
        "print(Dict)\n",
        "for key, val in Dict.items():\n",
        "  print(key, '\\t','*' * val)\n"
      ],
      "execution_count": 0,
      "outputs": []
    },
    {
      "cell_type": "markdown",
      "metadata": {
        "id": "GqhJ_Y1iKqJp",
        "colab_type": "text"
      },
      "source": [
        "Write a program that prompts the user to enter a filename.  Open the filename and print the frequency of each word in it.  "
      ]
    },
    {
      "cell_type": "code",
      "metadata": {
        "id": "fa_tHKgxKx3E",
        "colab_type": "code",
        "colab": {}
      },
      "source": [
        "filename = input('Enter the file name:  ')\n",
        "file = open(filename)\n",
        "counts = dict()\n",
        "for line in file: \n",
        "  words = line.split()\n",
        "  for words in words: \n",
        "    if word not in counts:\n",
        "      counts[word] =1\n",
        "    else:\n",
        "      counts[word] += 1\n",
        "print(counts)"
      ],
      "execution_count": 0,
      "outputs": []
    },
    {
      "cell_type": "markdown",
      "metadata": {
        "id": "7p1KAl_6LcjY",
        "colab_type": "text"
      },
      "source": [
        "Write a program to count the number of characters in the string and store them in dictionary data structure. "
      ]
    },
    {
      "cell_type": "code",
      "metadata": {
        "id": "_uLIaNl9LifD",
        "colab_type": "code",
        "colab": {}
      },
      "source": [
        "str = \"Hi there, how are you doing..... welcome to python programming\"\n",
        "len(str)\n",
        "Dict = {str:len}\n",
        "print(Dict)"
      ],
      "execution_count": 0,
      "outputs": []
    },
    {
      "cell_type": "markdown",
      "metadata": {
        "id": "4P9ZcH_XL8dr",
        "colab_type": "text"
      },
      "source": [
        "Write a program that combines the list to a dictionary. "
      ]
    },
    {
      "cell_type": "code",
      "metadata": {
        "id": "5jt4SKIkMCKn",
        "colab_type": "code",
        "colab": {
          "base_uri": "https://localhost:8080/",
          "height": 34
        },
        "outputId": "94330ad5-8866-4adc-c373-508c2e90a582"
      },
      "source": [
        "keys = ['Name', 'Age', 'Marital Status']\n",
        "values = [\"Omar\", 45, \"Single\"]\n",
        "details = zip(keys,values) # built in function takes two or more sequences and zips them into a list of tuples. \n",
        "Dict = dict(details)\n",
        "print(Dict)"
      ],
      "execution_count": 57,
      "outputs": [
        {
          "output_type": "stream",
          "text": [
            "{'Name': 'Omar', 'Age': 45, 'Marital Status': 'Single'}\n"
          ],
          "name": "stdout"
        }
      ]
    }
  ]
}