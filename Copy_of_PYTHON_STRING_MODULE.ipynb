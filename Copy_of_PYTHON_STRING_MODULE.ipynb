{
  "nbformat": 4,
  "nbformat_minor": 0,
  "metadata": {
    "colab": {
      "name": "Copy of PYTHON-STRING-MODULE.ipynb",
      "provenance": [],
      "collapsed_sections": [],
      "authorship_tag": "ABX9TyOiIo4u2yJLX07rQUnBqXH6",
      "include_colab_link": true
    },
    "kernelspec": {
      "name": "python3",
      "display_name": "Python 3"
    }
  },
  "cells": [
    {
      "cell_type": "markdown",
      "metadata": {
        "id": "view-in-github",
        "colab_type": "text"
      },
      "source": [
        "<a href=\"https://colab.research.google.com/github/vijendranp/Hello-World/blob/master/Copy_of_PYTHON_STRING_MODULE.ipynb\" target=\"_parent\"><img src=\"https://colab.research.google.com/assets/colab-badge.svg\" alt=\"Open In Colab\"/></a>"
      ]
    },
    {
      "cell_type": "markdown",
      "metadata": {
        "id": "fj6RDOYI2Vc2",
        "colab_type": "text"
      },
      "source": [
        "**Functions as Objects**\n",
        "\n",
        "Python treats functions as objects,  this means you can manipulate a function as any other object.  \n",
        "This makes python strikingly different from other OOP languages like Java, C#.\n",
        "\n",
        "Program to demonstrate that function is an object. "
      ]
    },
    {
      "cell_type": "code",
      "metadata": {
        "id": "FHFNpT722wWd",
        "colab_type": "code",
        "outputId": "7fc8a252-d86b-406c-9bb6-0e0e0fc6c3ca",
        "colab": {
          "base_uri": "https://localhost:8080/",
          "height": 102
        }
      },
      "source": [
        "def func():\n",
        "  \"\"\" The function prints HELLO WORLD ON screen\"\"\" \n",
        "print(\"HELLO WORLD\")\n",
        "print(\"Func is an instance of Object : \",isinstance(func,object))\n",
        "print(\"ID(func): \", id(func))\n",
        "print(\"Functions Docstring : \", func.__doc__) # prints docstring\n",
        "print(\"Function Name :  \", func.__name__) # prints function name\n",
        "\n",
        "\n",
        "# Note in above program isinstance() checks whether the function is an instance \n",
        "# of object.  \n",
        "\n",
        "# The function id() goes a step ahead and returns the object's id.\n"
      ],
      "execution_count": 0,
      "outputs": [
        {
          "output_type": "stream",
          "text": [
            "HELLO WORLD\n",
            "Func is an instance of Object :  True\n",
            "ID(func):  140661047624976\n",
            "Functions Docstring :   The function prints HELLO WORLD ON screen\n",
            "Function Name :   func\n"
          ],
          "name": "stdout"
        }
      ]
    },
    {
      "cell_type": "markdown",
      "metadata": {
        "id": "7SA55Ep536OG",
        "colab_type": "text"
      },
      "source": [
        ""
      ]
    },
    {
      "cell_type": "markdown",
      "metadata": {
        "id": "XqJlUSkE36Rd",
        "colab_type": "text"
      },
      "source": [
        "Program to demonstrate that functions can be used as an argument to a function and can be stored in collection. "
      ]
    },
    {
      "cell_type": "code",
      "metadata": {
        "id": "mJ_MBLga4NPE",
        "colab_type": "code",
        "outputId": "4b03bd27-d644-461d-dc0f-113de0dc4e87",
        "colab": {
          "base_uri": "https://localhost:8080/",
          "height": 153
        }
      },
      "source": [
        "def func1():\n",
        "  pass \n",
        "\n",
        "def func2():\n",
        "  pass\n",
        "\n",
        "def func3():\n",
        "  pass\n",
        "\n",
        "def func4(func):\n",
        "  print(\"ID(Func) = \",id(func)) # prints object id of function\n",
        "\n",
        "Funcs = (func1, func2, func3, func4) # func is a tuple of functions.\n",
        "\n",
        "for i in Funcs:\n",
        "  print(i)\n",
        "  func4(i) # function as argument"
      ],
      "execution_count": 0,
      "outputs": [
        {
          "output_type": "stream",
          "text": [
            "<function func1 at 0x7fee33411730>\n",
            "ID(Func) =  140661038847792\n",
            "<function func2 at 0x7fee33411598>\n",
            "ID(Func) =  140661038847384\n",
            "<function func3 at 0x7fee33411840>\n",
            "ID(Func) =  140661038848064\n",
            "<function func4 at 0x7fee334118c8>\n",
            "ID(Func) =  140661038848200\n"
          ],
          "name": "stdout"
        }
      ]
    },
    {
      "cell_type": "markdown",
      "metadata": {
        "id": "TxPuJNmD5dsN",
        "colab_type": "text"
      },
      "source": [
        "**TOWER OF HANOI**\n",
        "\n",
        "Base case: if n=1\n",
        "Move the ring from A to C using B as spare. \n",
        "\n",
        "Recursive case :\n",
        "Move n -1 rings from A to B using C as spare. \n",
        "Move the one ring left on A to C using B as spare.  \n",
        "Move n - 1 rings from B to C using A as spare. \n",
        "\n",
        "The following code implements the solution of the tower of Hanoi problem. "
      ]
    },
    {
      "cell_type": "code",
      "metadata": {
        "id": "zGfRJ_iL7jCK",
        "colab_type": "code",
        "outputId": "5addbd0e-1b31-4e36-eeb8-77338dfe2991",
        "colab": {
          "base_uri": "https://localhost:8080/",
          "height": 34
        }
      },
      "source": [
        "def hanoi (n,A,B,C):\n",
        "  if n>0:\n",
        "    hanoi(n-1, A,C,B)\n",
        "    if A:\n",
        "      C.append(A.pop())\n",
        "    hanoi(n-1, B,A,C)\n",
        "  \n",
        "A =[1,2,3,4]\n",
        "C= []\n",
        "B =[]\n",
        "hanoi(len(A),A,B,C)\n",
        "print(A,B,C)\n",
        "\n"
      ],
      "execution_count": 0,
      "outputs": [
        {
          "output_type": "stream",
          "text": [
            "[] [] [1, 2, 3, 4]\n"
          ],
          "name": "stdout"
        }
      ]
    },
    {
      "cell_type": "markdown",
      "metadata": {
        "id": "gAvBH2Rl8uQg",
        "colab_type": "text"
      },
      "source": [
        "**Shuffling a Deck of Cards**\n",
        "\n",
        "In this program, we will use the product() contained in the itertools module \n",
        "to create a deck of cards. \n",
        "\n",
        "The product function performs the cartesian product of the two sequences.\n",
        "\n",
        "Sequences are 1 to 13 and four suites. \n",
        "\n",
        "Each combination that forms a card is stored as a tuple.  \n",
        "For example, deck[0] = (1,'Spade')\n",
        "\n",
        "Once the deck is formed, it is shuffled using the shuffle() function \n",
        "in the random module and then five cards are drawn and their combination is displayed to the user.  "
      ]
    },
    {
      "cell_type": "code",
      "metadata": {
        "id": "3rKQyNKK_Gpl",
        "colab_type": "code",
        "outputId": "5c5236b1-abf3-481b-c8cd-0dc51c9547df",
        "colab": {
          "base_uri": "https://localhost:8080/",
          "height": 102
        }
      },
      "source": [
        "import itertools, random\n",
        "# Form a deck of cards\n",
        "\n",
        "deck = list(itertools.product(range(1,14),['Spade','Heart','Diamond','Club']))\n",
        "# shuffle the cards\n",
        "\n",
        "random.shuffle(deck)\n",
        "\n",
        "# Draw the five cards \n",
        "\n",
        "print(\"Your combination of cards is : \")\n",
        "\n",
        "for i in range(4):\n",
        "  print(deck[i][0],   \"of\",     deck[i],[1])\n"
      ],
      "execution_count": 0,
      "outputs": [
        {
          "output_type": "stream",
          "text": [
            "Your combination of cards is : \n",
            "4 of (4, 'Diamond') [1]\n",
            "1 of (1, 'Club') [1]\n",
            "11 of (11, 'Diamond') [1]\n",
            "1 of (1, 'Heart') [1]\n"
          ],
          "name": "stdout"
        }
      ]
    },
    {
      "cell_type": "markdown",
      "metadata": {
        "id": "8u_vcv-x4l8P",
        "colab_type": "text"
      },
      "source": [
        "# KEY CONCEPTS\n",
        "**Appending, Concatenation, Multiplying String, String Formatting Operator\n",
        "Built-in String Methods and Functions, Slice, subscript in and not in operators Comparing and Iterating Strings and The String Module. **\n",
        "\n",
        "String data type is a sequence made up of one or more individual character, where a character culd be letter, digit, whitespace, or any other symbol.  \n",
        "\n",
        "Python treats  string as contiguous series of characters delimited by a single, double or even triple quotes.  \n",
        "\n",
        "Python has a built-in string class named \"str\" that has many useful features.  \n",
        "\n",
        "name = \"India\"\n",
        "country = name \n",
        "\n",
        "graduate = 'N'\n",
        "\n",
        "nationality = str(\"Indian\")\n",
        "\n",
        "name, nationality, graduate are all string variable. \n",
        "\n",
        "String literals can be enclosed by either triple, double or single quotes.\n",
        "\n",
        "A multiple line text within quotes must have a backslash \\ at the end of each line to esape the new line. \n",
        "\n",
        "Indexing : Individual characters in a string are accessed using the subscript[] operators. The expressions in the bracket is called an index.  \n",
        "\n",
        "The index specifies a member of an ordered set and in this case it specifies the character we want to access from the given set of characters in the string.  \n",
        "\n",
        "Traversing a String : A string can be traversed by accessing characters from one index to another.  For example, the following uses indexing to traverse a string from the first character to the last.  \n",
        "\n",
        "Program to demonstrate string traversal using indexing. "
      ]
    },
    {
      "cell_type": "code",
      "metadata": {
        "id": "NqsSA98L7oR_",
        "colab_type": "code",
        "outputId": "252fe48e-c980-4350-fc2e-94539246ba09",
        "colab": {
          "base_uri": "https://localhost:8080/",
          "height": 119
        }
      },
      "source": [
        "message = \"Hello!\"\n",
        "index = 0\n",
        "for i in message:\n",
        "  print(\"message[\",index, \"] =  \",i)\n",
        "index += 1"
      ],
      "execution_count": 0,
      "outputs": [
        {
          "output_type": "stream",
          "text": [
            "message[ 0 ] =   H\n",
            "message[ 0 ] =   e\n",
            "message[ 0 ] =   l\n",
            "message[ 0 ] =   l\n",
            "message[ 0 ] =   o\n",
            "message[ 0 ] =   !\n"
          ],
          "name": "stdout"
        }
      ]
    },
    {
      "cell_type": "markdown",
      "metadata": {
        "id": "Xp2aQ5xI8Ttp",
        "colab_type": "text"
      },
      "source": [
        "Program to demonstrate an expression used as an index of a string."
      ]
    },
    {
      "cell_type": "code",
      "metadata": {
        "id": "r6w7q1h-8ZPF",
        "colab_type": "code",
        "outputId": "ecf1d636-8b2b-43f2-a66c-d5ceea27c49a",
        "colab": {
          "base_uri": "https://localhost:8080/",
          "height": 51
        }
      },
      "source": [
        "str = \"Hello, welcome to the world of Python\"\n",
        "i = 2\n",
        "print(str[i]) # index is an integer\n",
        "print(str[i*3+1]) # index is an expression that evaluates to an integer"
      ],
      "execution_count": 0,
      "outputs": [
        {
          "output_type": "stream",
          "text": [
            "l\n",
            "w\n"
          ],
          "name": "stdout"
        }
      ]
    },
    {
      "cell_type": "markdown",
      "metadata": {
        "id": "9Hooc_Y0802r",
        "colab_type": "text"
      },
      "source": [
        "**NOTE : even whitespace characters, exclamation marks and any other symbol (like ?,<,>, *, @, #, etc) that forms a part of the string would be assigned its own index number.**\n",
        "\n",
        "\n",
        "CONCATENATING, APPENDING AND MULTIPLYING STRINGS"
      ]
    },
    {
      "cell_type": "code",
      "metadata": {
        "id": "CREeCleO9YJs",
        "colab_type": "code",
        "outputId": "a5c88f7a-dafb-43ef-abe7-a5ab0a604756",
        "colab": {
          "base_uri": "https://localhost:8080/",
          "height": 34
        }
      },
      "source": [
        "str1 = \"Hello\"\n",
        "str2 = \" World\"\n",
        "str3 = str1 + str2 \n",
        "print(\"The concatenation string is : \", str3)"
      ],
      "execution_count": 0,
      "outputs": [
        {
          "output_type": "stream",
          "text": [
            "The concatenation string is :  Hello World\n"
          ],
          "name": "stdout"
        }
      ]
    },
    {
      "cell_type": "markdown",
      "metadata": {
        "id": "OZipM2_n9zkq",
        "colab_type": "text"
      },
      "source": [
        "Append means to add something at the end.  \n",
        "**In python you can add one string at the end of another string using the += operator as shown as under**"
      ]
    },
    {
      "cell_type": "code",
      "metadata": {
        "id": "xCnfO3lj-G6p",
        "colab_type": "code",
        "outputId": "250cf4bc-ab43-4f96-864a-9de4c70014f2",
        "colab": {
          "base_uri": "https://localhost:8080/",
          "height": 68
        }
      },
      "source": [
        "str = \"Hello,\"\n",
        "name = input(\"\\n Enter your name \")\n",
        "str += name \n",
        "str += \"    Welcome to the Python Programming\"\n",
        "print(str)"
      ],
      "execution_count": 0,
      "outputs": [
        {
          "output_type": "stream",
          "text": [
            "\n",
            " Enter your name Robbie\n",
            "Hello,Robbie    Welcome to the Python Programming\n"
          ],
          "name": "stdout"
        }
      ]
    },
    {
      "cell_type": "markdown",
      "metadata": {
        "id": "WvdvvhGC-iDy",
        "colab_type": "text"
      },
      "source": [
        "You can use the repeat a string using * operator. \n"
      ]
    },
    {
      "cell_type": "code",
      "metadata": {
        "id": "bpen1Xh4-p7B",
        "colab_type": "code",
        "outputId": "f862d703-7d85-456b-aecc-2a8260c0f9f6",
        "colab": {
          "base_uri": "https://localhost:8080/",
          "height": 34
        }
      },
      "source": [
        "str = \" Hello\"\n",
        "print(str * 3)"
      ],
      "execution_count": 0,
      "outputs": [
        {
          "output_type": "stream",
          "text": [
            " Hello Hello Hello\n"
          ],
          "name": "stdout"
        }
      ]
    },
    {
      "cell_type": "markdown",
      "metadata": {
        "id": "Sm-tzAcF-xXa",
        "colab_type": "text"
      },
      "source": [
        "**The str() function is used to convert values of any other type into string type.  This helps the programmer to concatenate a string with any other data which is otherwise not allowed**"
      ]
    },
    {
      "cell_type": "code",
      "metadata": {
        "id": "8s9dQ1xU_CUl",
        "colab_type": "code",
        "outputId": "a1a68a74-9f9e-428b-8de4-b0ed10eaaea1",
        "colab": {
          "base_uri": "https://localhost:8080/",
          "height": 232
        }
      },
      "source": [
        "import string\n",
        "def __call__(self):\n",
        "  str1 = \"PythonisFun\"\n",
        "  bus = 8\n",
        "str2 = str1 + str(bus)\n",
        "\n",
        "print(str2)"
      ],
      "execution_count": 0,
      "outputs": [
        {
          "output_type": "error",
          "ename": "TypeError",
          "evalue": "ignored",
          "traceback": [
            "\u001b[0;31m---------------------------------------------------------------------------\u001b[0m",
            "\u001b[0;31mTypeError\u001b[0m                                 Traceback (most recent call last)",
            "\u001b[0;32m<ipython-input-40-e3b052efdc9e>\u001b[0m in \u001b[0;36m<module>\u001b[0;34m()\u001b[0m\n\u001b[1;32m      3\u001b[0m   \u001b[0mstr1\u001b[0m \u001b[0;34m=\u001b[0m \u001b[0;34m\"PythonisFun\"\u001b[0m\u001b[0;34m\u001b[0m\u001b[0;34m\u001b[0m\u001b[0m\n\u001b[1;32m      4\u001b[0m   \u001b[0mbus\u001b[0m \u001b[0;34m=\u001b[0m \u001b[0;36m8\u001b[0m\u001b[0;34m\u001b[0m\u001b[0;34m\u001b[0m\u001b[0m\n\u001b[0;32m----> 5\u001b[0;31m \u001b[0mstr2\u001b[0m \u001b[0;34m=\u001b[0m \u001b[0mstr1\u001b[0m \u001b[0;34m+\u001b[0m \u001b[0mstr\u001b[0m\u001b[0;34m(\u001b[0m\u001b[0mbus\u001b[0m\u001b[0;34m)\u001b[0m\u001b[0;34m\u001b[0m\u001b[0;34m\u001b[0m\u001b[0m\n\u001b[0m\u001b[1;32m      6\u001b[0m \u001b[0;34m\u001b[0m\u001b[0m\n\u001b[1;32m      7\u001b[0m \u001b[0mprint\u001b[0m\u001b[0;34m(\u001b[0m\u001b[0mstr2\u001b[0m\u001b[0;34m)\u001b[0m\u001b[0;34m\u001b[0m\u001b[0;34m\u001b[0m\u001b[0m\n",
            "\u001b[0;31mTypeError\u001b[0m: 'str' object is not callable"
          ]
        }
      ]
    },
    {
      "cell_type": "code",
      "metadata": {
        "id": "r081xtrDFn1C",
        "colab_type": "code",
        "outputId": "24b763ff-ec0e-4872-f95f-2dd6623ae58f",
        "colab": {
          "base_uri": "https://localhost:8080/",
          "height": 34
        }
      },
      "source": [
        "print (\"Hello\", end = ' ')\n",
        "print(\"World\")"
      ],
      "execution_count": 0,
      "outputs": [
        {
          "output_type": "stream",
          "text": [
            "Hello World\n"
          ],
          "name": "stdout"
        }
      ]
    },
    {
      "cell_type": "markdown",
      "metadata": {
        "id": "lT8LhdihF0pA",
        "colab_type": "text"
      },
      "source": [
        "Program to print raw string."
      ]
    },
    {
      "cell_type": "code",
      "metadata": {
        "id": "ttz0W-N0F3ga",
        "colab_type": "code",
        "outputId": "a3ab0a1d-74ad-4653-f2ba-5fb667fde92f",
        "colab": {
          "base_uri": "https://localhost:8080/",
          "height": 85
        }
      },
      "source": [
        "print(\"\\n Hello\")\n",
        "print(u\"\\n World\")\n",
        "\n",
        "# u prefix is used to write Unicode string literals. "
      ],
      "execution_count": 0,
      "outputs": [
        {
          "output_type": "stream",
          "text": [
            "\n",
            " Hello\n",
            "\n",
            " World\n"
          ],
          "name": "stdout"
        }
      ]
    },
    {
      "cell_type": "markdown",
      "metadata": {
        "id": "VdpGSv3iGM_T",
        "colab_type": "text"
      },
      "source": [
        "**Strings are immutable**\n",
        "\n",
        "Strings are immutable, which means that once created they cannot be changed. \n",
        "Every object in python is stored in memory.  We can find out whether two variables are referring to the same object or not by using the id().  \n",
        "\n",
        "\n",
        "**Program to demonstrate string references using id() function.**"
      ]
    },
    {
      "cell_type": "code",
      "metadata": {
        "id": "a7x3cjODGtk3",
        "colab_type": "code",
        "outputId": "ba9577c4-740d-414b-f804-4e99f47d9281",
        "colab": {
          "base_uri": "https://localhost:8080/",
          "height": 153
        }
      },
      "source": [
        "str1 = \"Hello\"\n",
        "print(\"Str1 is :  \", str1)\n",
        "print(\"ID of str1 is :  \", id(str1))\n",
        "\n",
        "\n",
        "str2 = \"World\"\n",
        "print(\"Str2 is :  \",str2)\n",
        "print(\"ID of str1 is \", id(str2))\n",
        "\n",
        "str1 += str2\n",
        "print(\"Str1 after concatenation is :  \", str1)\n",
        "print(\"ID of str1 is :  \",id(str1))\n",
        "\n",
        "str3 = str1\n",
        "print(\"str3 = \",str3)\n",
        "print(\"ID of str3 is :  \",id(str3))"
      ],
      "execution_count": 0,
      "outputs": [
        {
          "output_type": "stream",
          "text": [
            "Str1 is :   Hello\n",
            "ID of str1 is :   140000597515544\n",
            "Str2 is :   World\n",
            "ID of str1 is  140000597516104\n",
            "Str1 after concatenation is :   HelloWorld\n",
            "ID of str1 is :   140000597583152\n",
            "str3 =  HelloWorld\n",
            "ID of str3 is :   140000597583152\n"
          ],
          "name": "stdout"
        }
      ]
    },
    {
      "cell_type": "markdown",
      "metadata": {
        "id": "sGsrcmCiNJmg",
        "colab_type": "text"
      },
      "source": [
        "** From the above it is very clear that str1 and str2 are two different string objects with different values and have a different memory address.  When we concatenate str1 and str2, a new string is created because strings are immutable in nature. **\n",
        "\n",
        "**We create a new string variable str3 and initialize it with str1. **  Since they both point to the same value, their address is exactly the same.  "
      ]
    },
    {
      "cell_type": "code",
      "metadata": {
        "id": "1aLc3KMmN6rt",
        "colab_type": "code",
        "outputId": "8a930c3d-c82a-49f9-c095-53eefd1a1e60",
        "colab": {
          "base_uri": "https://localhost:8080/",
          "height": 198
        }
      },
      "source": [
        "str = \"hi\"\n",
        "str[0] = 'B'\n",
        "print(str)"
      ],
      "execution_count": 0,
      "outputs": [
        {
          "output_type": "error",
          "ename": "TypeError",
          "evalue": "ignored",
          "traceback": [
            "\u001b[0;31m---------------------------------------------------------------------------\u001b[0m",
            "\u001b[0;31mTypeError\u001b[0m                                 Traceback (most recent call last)",
            "\u001b[0;32m<ipython-input-26-d4f1284f7e80>\u001b[0m in \u001b[0;36m<module>\u001b[0;34m()\u001b[0m\n\u001b[1;32m      1\u001b[0m \u001b[0mstr\u001b[0m \u001b[0;34m=\u001b[0m \u001b[0;34m\"hi\"\u001b[0m\u001b[0;34m\u001b[0m\u001b[0;34m\u001b[0m\u001b[0m\n\u001b[0;32m----> 2\u001b[0;31m \u001b[0mstr\u001b[0m\u001b[0;34m[\u001b[0m\u001b[0;36m0\u001b[0m\u001b[0;34m]\u001b[0m \u001b[0;34m=\u001b[0m \u001b[0;34m'B'\u001b[0m\u001b[0;34m\u001b[0m\u001b[0;34m\u001b[0m\u001b[0m\n\u001b[0m\u001b[1;32m      3\u001b[0m \u001b[0mprint\u001b[0m\u001b[0;34m(\u001b[0m\u001b[0mstr\u001b[0m\u001b[0;34m)\u001b[0m\u001b[0;34m\u001b[0m\u001b[0;34m\u001b[0m\u001b[0m\n",
            "\u001b[0;31mTypeError\u001b[0m: 'str' object does not support item assignment"
          ]
        }
      ]
    },
    {
      "cell_type": "code",
      "metadata": {
        "id": "wFV8HJ_CODNv",
        "colab_type": "code",
        "outputId": "020f2e9a-4c4d-4a82-def6-8c11ca500a53",
        "colab": {
          "base_uri": "https://localhost:8080/",
          "height": 51
        }
      },
      "source": [
        "str = \" Hi\"\n",
        "new_str = \"Bi\"\n",
        "print(\"Old String = \",str)\n",
        "print(\"New String = \",new_str)"
      ],
      "execution_count": 0,
      "outputs": [
        {
          "output_type": "stream",
          "text": [
            "Old String =   Hi\n",
            "New String =  Bi\n"
          ],
          "name": "stdout"
        }
      ]
    },
    {
      "cell_type": "markdown",
      "metadata": {
        "id": "Rdcl495XOW_r",
        "colab_type": "text"
      },
      "source": [
        "**STRING FORMATTING OPERATOR**\n",
        "\n",
        "The % operator takes a format string on the left ( that has %d, %s etc.) and the corresponding values in a tuple on the right.  \n",
        "\n",
        "The format operator, % allows users to construct strings, replacing parts of the string with the data stored in variables.  \n",
        "\n",
        "The syntax of the string formatting operation is : \n",
        "\n",
        "\"<FORMAT>\" % (<VALUES>)\n",
        "\n",
        "\n",
        "The statement begins with a format string consisting of a sequence of characters and conversion specifications.  Conversion specification starts with a % operator and can appear anywhere within the string.\n",
        "\n",
        "Following the format string is a % sign and then a set of values, one per conversion specification, separated by commas, and enclosed in parenthesis.  \n",
        "\n",
        "If there is a single value then parenthesis is optional.  \n",
        "\n",
        "**Program to use format sequence while printing a string**"
      ]
    },
    {
      "cell_type": "code",
      "metadata": {
        "id": "DsjAezefPpFs",
        "colab_type": "code",
        "outputId": "0e0f0da9-b8d7-4a69-fa21-16f09e3cd3fa",
        "colab": {
          "base_uri": "https://localhost:8080/",
          "height": 51
        }
      },
      "source": [
        "name = \"Aarish\"\n",
        "age = 8\n",
        "print(\"Name is %s and Age = %d\" %(name,age))\n",
        "print(\"Name is %s and Age = %d\" %(\"Anika\",6))\n"
      ],
      "execution_count": 0,
      "outputs": [
        {
          "output_type": "stream",
          "text": [
            "Name is Aarish and Age = 8\n",
            "Name is Anika and Age = 6\n"
          ],
          "name": "stdout"
        }
      ]
    },
    {
      "cell_type": "markdown",
      "metadata": {
        "id": "FRqSegFlQDow",
        "colab_type": "text"
      },
      "source": [
        "In the output, we can see that %s has been replaced by a string and %d has been replaced by an integer value.  \n",
        "\n",
        "The values to be substituted are provided at the end of the line -- in brackets, prefixed by %. \n",
        "\n",
        "\n",
        "**Formatting Symbols**\n",
        "\n",
        "%c        character\n",
        "%d or %i  signed decimal integer\n",
        "%s        string\n",
        "%u        Unsigned decimal integer\n",
        "%o        Octal integer\n",
        "%x or %X  Hexadecimal integer (x for lower case character a-f and \n",
        "          X for uppercase character A-F)\n",
        "%e or % E  Exponential notation \n",
        "%f         Floating point number \n",
        "%g or %G   Short numbers in floating point or exponential notation. \n",
        "\n",
        "Program to display power of a number without using formatting character.\n",
        "\n",
        "\n",
        "\n"
      ]
    },
    {
      "cell_type": "markdown",
      "metadata": {
        "id": "87hWN0rxTvVG",
        "colab_type": "text"
      },
      "source": [
        ""
      ]
    },
    {
      "cell_type": "code",
      "metadata": {
        "id": "W5juR5e7R13Z",
        "colab_type": "code",
        "outputId": "a6c0b2d6-00f6-4a97-faef-b4c100c90c45",
        "colab": {
          "base_uri": "https://localhost:8080/",
          "height": 204
        }
      },
      "source": [
        "i = 1\n",
        "print(\"i\\ti**2\\ti**3\\ti**4\\ti**5\\ti**6\\ti**7\\ti**8\\ti**9\\ti**10\")\n",
        "while i<=10:\n",
        "  print(i, '\\t', i**2,'\\t', i**3,'\\t', i**4, '\\t', i**5, end = '  ')\n",
        "  print('\\t',i**6,'\\t',i**7,'\\t',i**8,'\\t',i**9,'\\t',i**10)\n",
        "  i +=1\n"
      ],
      "execution_count": 0,
      "outputs": [
        {
          "output_type": "stream",
          "text": [
            "i\ti**2\ti**3\ti**4\ti**5\ti**6\ti**7\ti**8\ti**9\ti**10\n",
            "1 \t 1 \t 1 \t 1 \t 1  \t 1 \t 1 \t 1 \t 1 \t 1\n",
            "2 \t 4 \t 8 \t 16 \t 32  \t 64 \t 128 \t 256 \t 512 \t 1024\n",
            "3 \t 9 \t 27 \t 81 \t 243  \t 729 \t 2187 \t 6561 \t 19683 \t 59049\n",
            "4 \t 16 \t 64 \t 256 \t 1024  \t 4096 \t 16384 \t 65536 \t 262144 \t 1048576\n",
            "5 \t 25 \t 125 \t 625 \t 3125  \t 15625 \t 78125 \t 390625 \t 1953125 \t 9765625\n",
            "6 \t 36 \t 216 \t 1296 \t 7776  \t 46656 \t 279936 \t 1679616 \t 10077696 \t 60466176\n",
            "7 \t 49 \t 343 \t 2401 \t 16807  \t 117649 \t 823543 \t 5764801 \t 40353607 \t 282475249\n",
            "8 \t 64 \t 512 \t 4096 \t 32768  \t 262144 \t 2097152 \t 16777216 \t 134217728 \t 1073741824\n",
            "9 \t 81 \t 729 \t 6561 \t 59049  \t 531441 \t 4782969 \t 43046721 \t 387420489 \t 3486784401\n",
            "10 \t 100 \t 1000 \t 10000 \t 100000  \t 1000000 \t 10000000 \t 100000000 \t 1000000000 \t 10000000000\n"
          ],
          "name": "stdout"
        }
      ]
    },
    {
      "cell_type": "markdown",
      "metadata": {
        "id": "ry2EkwXzTyF0",
        "colab_type": "text"
      },
      "source": [
        "Program to display power of a number using formatting character."
      ]
    },
    {
      "cell_type": "code",
      "metadata": {
        "id": "q-yyuIuET7pg",
        "colab_type": "code",
        "colab": {}
      },
      "source": [
        "i = 1\n",
        "print (\"%-4s%-5%-6s%-8s%-9s%-12s%-15s%-17s%-19s%-21s%-23s%\" \\\n",
        "       ('i','i**2','i**3','i**4','i**5','i**6','i**7','i**8','i**9','i**10'))\n",
        "while i <= 10:\n",
        "  print(\"%-4d%-5d%-6d%-8d%-9d%-12d%-15d%-17d%-19d%-21d%-23d%\" %(i, i**2, i**3, i**4, i**5, i**6, i**7, i**8, i**9,i**10))\n",
        "  i +=1\n"
      ],
      "execution_count": 0,
      "outputs": []
    },
    {
      "cell_type": "markdown",
      "metadata": {
        "id": "I_3UYrc-ZAci",
        "colab_type": "text"
      },
      "source": [
        "Strings are an example of Python objects. An object is an entity that contain both data (the actual string itself) as well as function to manipulate that data.\n",
        "\n",
        "These functions are available to any instance(variable) of the object. \n",
        "\n",
        "Python supports many built-in methods to manipulate string.  A method is just like a function.\n",
        "\n",
        "The only difference between a function and method is that a method is invoked or called on an object. \n",
        "\n",
        "For example, if the variable str is a string, then you can call the upper() method as str.upper() to convert all the characters of str in uppercase.\n",
        "\n",
        "\n",
        "strip() : Removes all leading whitespace in string.\n",
        "\n",
        "\n",
        "\n",
        "\n"
      ]
    },
    {
      "cell_type": "code",
      "metadata": {
        "id": "v5RU4fWcZm44",
        "colab_type": "code",
        "outputId": "db7e21fa-4137-43f2-cf34-26828678e62e",
        "colab": {
          "base_uri": "https://localhost:8080/",
          "height": 34
        }
      },
      "source": [
        "message = \"JamesBond007\"\n",
        "print(message.isalnum())\n"
      ],
      "execution_count": 0,
      "outputs": [
        {
          "output_type": "stream",
          "text": [
            "True\n"
          ],
          "name": "stdout"
        }
      ]
    },
    {
      "cell_type": "markdown",
      "metadata": {
        "id": "fb5s4cBhZ4l1",
        "colab_type": "text"
      },
      "source": [
        "ljust(width[,fillchar]) returns a string left justified to a total of width of columns.\n",
        "\n",
        "Columns without characters are padded with the character specified in the fillchar argument.\n",
        "\n"
      ]
    },
    {
      "cell_type": "code",
      "metadata": {
        "id": "w_QYkrSlaBKw",
        "colab_type": "code",
        "outputId": "8657da4c-911b-4c19-8add-4cfcbeb8b138",
        "colab": {
          "base_uri": "https://localhost:8080/",
          "height": 34
        }
      },
      "source": [
        "str = \"Hello\"\n",
        "print(str.ljust(10,'*'))"
      ],
      "execution_count": 0,
      "outputs": [
        {
          "output_type": "stream",
          "text": [
            "Hello*****\n"
          ],
          "name": "stdout"
        }
      ]
    },
    {
      "cell_type": "markdown",
      "metadata": {
        "id": "dI0-v3C8aO_F",
        "colab_type": "text"
      },
      "source": [
        "zfill(width)\n",
        "\n",
        "Usage Returns string left padded with zeros to a total of width characters.\n",
        "It is used with numbers and also retains its sign(+ or-)\n",
        "\n"
      ]
    },
    {
      "cell_type": "markdown",
      "metadata": {
        "id": "h2q5yV9catRG",
        "colab_type": "text"
      },
      "source": [
        ""
      ]
    },
    {
      "cell_type": "code",
      "metadata": {
        "id": "PphzmI5baVOv",
        "colab_type": "code",
        "outputId": "7da8172a-4a4c-47e4-a4bc-b5f96e5377bd",
        "colab": {
          "base_uri": "https://localhost:8080/",
          "height": 34
        }
      },
      "source": [
        "str =\"1234567\"\n",
        "print(str.zfill(15))\n"
      ],
      "execution_count": 0,
      "outputs": [
        {
          "output_type": "stream",
          "text": [
            "000000001234567\n"
          ],
          "name": "stdout"
        }
      ]
    },
    {
      "cell_type": "markdown",
      "metadata": {
        "id": "3BtvbzQddHvT",
        "colab_type": "text"
      },
      "source": [
        ""
      ]
    },
    {
      "cell_type": "markdown",
      "metadata": {
        "id": "w57gXk18dJvo",
        "colab_type": "text"
      },
      "source": [
        ""
      ]
    },
    {
      "cell_type": "markdown",
      "metadata": {
        "id": "doY9MDQRavdd",
        "colab_type": "text"
      },
      "source": [
        "##replace(old,new[,max] replaces all or max (if given) occurences of an old in string with a new.\n"
      ]
    },
    {
      "cell_type": "code",
      "metadata": {
        "id": "AvcHoukaa3s6",
        "colab_type": "code",
        "outputId": "c0b44f16-ae12-4e90-f6e6-c0156c5f58dd",
        "colab": {
          "base_uri": "https://localhost:8080/",
          "height": 34
        }
      },
      "source": [
        "str = \"hello hello hello\"\n",
        "print(str.replace(\"hel\", \"FOL\"))"
      ],
      "execution_count": 0,
      "outputs": [
        {
          "output_type": "stream",
          "text": [
            "FOLlo FOLlo FOLlo\n"
          ],
          "name": "stdout"
        }
      ]
    },
    {
      "cell_type": "markdown",
      "metadata": {
        "id": "YB-b_mWHbpLL",
        "colab_type": "text"
      },
      "source": [
        "## swapcase()  : Toggles the case of every character (upper character becomes lowercase and viceversa)\n",
        "\n"
      ]
    },
    {
      "cell_type": "code",
      "metadata": {
        "id": "UCJL8InTbtuP",
        "colab_type": "code",
        "outputId": "e09ce7cd-50db-41bc-d331-f9af28acb814",
        "colab": {
          "base_uri": "https://localhost:8080/",
          "height": 34
        }
      },
      "source": [
        "str = \" Python Programming is Fun and Easy\"\n",
        "print(str.swapcase())\n"
      ],
      "execution_count": 0,
      "outputs": [
        {
          "output_type": "stream",
          "text": [
            " pYTHON pROGRAMMING IS fUN AND eASY\n"
          ],
          "name": "stdout"
        }
      ]
    },
    {
      "cell_type": "markdown",
      "metadata": {
        "id": "pE47PeYBcJOk",
        "colab_type": "text"
      },
      "source": [
        "## split(delim)  Returns a *list* of substrings separated by the specified delimiter. If no delimiter is specified then by default it splits strings on all whitespace characters.\n",
        "\n"
      ]
    },
    {
      "cell_type": "code",
      "metadata": {
        "id": "VFMqVHYccRY2",
        "colab_type": "code",
        "outputId": "11067d0d-1b43-40ba-d741-d2639e016ed5",
        "colab": {
          "base_uri": "https://localhost:8080/",
          "height": 34
        }
      },
      "source": [
        "str = \"zyx,wvu,tsr,qpo,nml,kjg,hfe,dcba\"\n",
        "print(str.split(','))\n"
      ],
      "execution_count": 0,
      "outputs": [
        {
          "output_type": "stream",
          "text": [
            "['zyx', 'wvu', 'tsr', 'qpo', 'nml', 'kjg', 'hfe', 'dcba']\n"
          ],
          "name": "stdout"
        }
      ]
    },
    {
      "cell_type": "markdown",
      "metadata": {
        "id": "pT4Sc3cfcr4x",
        "colab_type": "text"
      },
      "source": [
        "identifier() Returns True if the string is a valid identifier.  \n",
        "\n"
      ]
    },
    {
      "cell_type": "code",
      "metadata": {
        "id": "wB_CN35Oczur",
        "colab_type": "code",
        "outputId": "b02323d4-17c3-4cba-e2d0-5fc4228972d2",
        "colab": {
          "base_uri": "https://localhost:8080/",
          "height": 34
        }
      },
      "source": [
        "import string\n",
        "str = \"Hello\"\n",
        "print(str.isidentifier())"
      ],
      "execution_count": 0,
      "outputs": [
        {
          "output_type": "stream",
          "text": [
            "True\n"
          ],
          "name": "stdout"
        }
      ]
    },
    {
      "cell_type": "markdown",
      "metadata": {
        "id": "Xw_F87f9dL8C",
        "colab_type": "text"
      },
      "source": [
        "##enumerate(str) Returns an enumerate object that lists the index and value\n",
        "##of all the characters in the string as pairs.\n"
      ]
    },
    {
      "cell_type": "code",
      "metadata": {
        "id": "zfhulxV2dPwF",
        "colab_type": "code",
        "outputId": "8ed0200e-df18-4ff0-edcd-f250d1d7ad2d",
        "colab": {
          "base_uri": "https://localhost:8080/",
          "height": 34
        }
      },
      "source": [
        "\n",
        "str = \"Hello World\"\n",
        "print(list(enumerate(str)))"
      ],
      "execution_count": 0,
      "outputs": [
        {
          "output_type": "stream",
          "text": [
            "[(0, 'H'), (1, 'e'), (2, 'l'), (3, 'l'), (4, 'o'), (5, ' '), (6, 'W'), (7, 'o'), (8, 'r'), (9, 'l'), (10, 'd')]\n"
          ],
          "name": "stdout"
        }
      ]
    },
    {
      "cell_type": "markdown",
      "metadata": {
        "id": "vLChldDSdiaq",
        "colab_type": "text"
      },
      "source": [
        "# Program to demonstrate strip method on a string object.\n",
        "\n"
      ]
    },
    {
      "cell_type": "code",
      "metadata": {
        "id": "T6mn87TJdlHs",
        "colab_type": "code",
        "outputId": "af9b751b-7ca4-4d88-eaf1-daf40466343b",
        "colab": {
          "base_uri": "https://localhost:8080/",
          "height": 34
        }
      },
      "source": [
        "str = \"abcdcbabcdcbabcdabcdbcabcdcba\"\n",
        "print(str.strip('abc'))\n"
      ],
      "execution_count": 0,
      "outputs": [
        {
          "output_type": "stream",
          "text": [
            "dcbabcdcbabcdabcdbcabcd\n"
          ],
          "name": "stdout"
        }
      ]
    },
    {
      "cell_type": "markdown",
      "metadata": {
        "id": "wvFWtjX7dn4T",
        "colab_type": "text"
      },
      "source": [
        "The format function used with string is a very versatile and powerful function used for formatting string.\n",
        "\n",
        "\n",
        "Format strings have curly braces {} as placeholders or replacement fields which gets replaced.\n",
        "\n",
        "We can even use positional arguments or keyword arguments to specify the order\n",
        "of fields that have to be replaced.\n",
        "\n",
        "Program to demonstrate the format() function.\n",
        "\n"
      ]
    },
    {
      "cell_type": "code",
      "metadata": {
        "id": "iZTITb14dlDs",
        "colab_type": "code",
        "outputId": "3f164a70-de95-4801-a810-1abc861f7eee",
        "colab": {
          "base_uri": "https://localhost:8080/",
          "height": 85
        }
      },
      "source": [
        "str1 = \" {}, {} and {}\".format('Sun','Moon','Stars')\n",
        "print(\"\\n The default sequence of argument is : \"  + str1)\n",
        "str2 = \" {1}, {0}   and   {2}\".format('Sun','Moon','Stars')\n",
        "print(\"\\n The positional sequence of arguments (1,0 and 2) is : \" + str2)\n",
        "#str3 = (\"{c}, {b} and {a}\".format(a='Sun', b= 'Moon', c = 'Stars')\n",
        "#print(\"\\n The keyword sequence of argument is:  \" + str3)"
      ],
      "execution_count": 0,
      "outputs": [
        {
          "output_type": "stream",
          "text": [
            "\n",
            " The default sequence of argument is :  Sun, Moon and Stars\n",
            "\n",
            " The positional sequence of arguments (1,0 and 2) is :  Moon, Sun   and   Stars\n"
          ],
          "name": "stdout"
        }
      ]
    },
    {
      "cell_type": "markdown",
      "metadata": {
        "id": "qOk2jDVUeov4",
        "colab_type": "text"
      },
      "source": [
        "The splitlines() returns a list of the lines in the string.  This method uses the new character like \\r or \\n to split lines.  \n",
        "\n",
        "Line breaks are not included in the resulting list unless keepends is given as True.\n",
        "\n",
        "The syntax of splitlines() is given as : \n",
        "\n",
        "str.splitlines([keepends])\n",
        "\n",
        "\n",
        "In the syntax, keepends is optional.  Look at the code given below and observe its output,  both when keepends is specified as True and when keepends is not specified at all. \n",
        "\n"
      ]
    },
    {
      "cell_type": "code",
      "metadata": {
        "id": "Wl7u-vNpfd3-",
        "colab_type": "code",
        "colab": {}
      },
      "source": [
        ""
      ],
      "execution_count": 0,
      "outputs": []
    },
    {
      "cell_type": "markdown",
      "metadata": {
        "id": "TgUNK-KXlj2l",
        "colab_type": "text"
      },
      "source": [
        "A substring of a string is called a slice.  The slice operation is used to refer\n",
        "to sub part of sequences and strings.\n",
        "\n",
        "You can take a subset of a string from the original string by using [] operator\n",
        "also known as slicing operator.\n",
        "\n",
        "\n",
        "The syntax of slice operation is s[start:end], where start specifies the\n",
        "beginning index of the substring and end-1 is the index of the last character.\n",
        "\n",
        "Programming Tip : Calling a method is also known as method invocation.\n",
        "\n",
        "Note : Omitting either start or end index by default takes start or end of the string.\n",
        "\n",
        "Omitting both the means the entire string.  \n",
        "\n",
        "Program to demonstrate slice operation on string objects."
      ]
    },
    {
      "cell_type": "code",
      "metadata": {
        "id": "tEn-yCPrdPs4",
        "colab_type": "code",
        "outputId": "5eb097b9-5655-45ee-d844-d8e18288dc4c",
        "colab": {
          "base_uri": "https://localhost:8080/",
          "height": 102
        }
      },
      "source": [
        "str = \"MARGOTROBBIE\"\n",
        "print(\"str[1:5] = \", str[1:5]) # characters starting at index 1 and extending up\n",
        "# to but not including index 5\n",
        "\n",
        "print(\"str[:6] = \", str[:6]) # defaults to the start of the string\n",
        "print(\"str[1:] = \", str[1:]) # defaults to the end of the string\n",
        "print(\"str[:] = \", str[:]) # defaults to the entire string\n",
        "print(\"str[1:20] = \", str[1:20]) # an index that is too big to be trucated down\n",
        "# to the length of the string."
      ],
      "execution_count": 0,
      "outputs": [
        {
          "output_type": "stream",
          "text": [
            "str[1:5] =  ARGO\n",
            "str[:6] =  MARGOT\n",
            "str[1:] =  ARGOTROBBIE\n",
            "str[:] =  MARGOTROBBIE\n",
            "str[1:20] =  ARGOTROBBIE\n"
          ],
          "name": "stdout"
        }
      ]
    },
    {
      "cell_type": "markdown",
      "metadata": {
        "id": "qBLAVZUgmTLx",
        "colab_type": "text"
      },
      "source": [
        "Python gives the flexibility to either access a string from the first character or from the last character.  \n",
        "**   If we access the string from the first character then we use a zero based index, but when doing it backward the index starts with -1**\n",
        "\n",
        "Python uses negative numbers to access the characters at the end of the string.  Negative index numbers count back from the end of the string. \n",
        "\n",
        "Program to understand how characters in a string are accessed using negative indexes. "
      ]
    },
    {
      "cell_type": "code",
      "metadata": {
        "id": "VoKQijq5nFW1",
        "colab_type": "code",
        "outputId": "79796c0a-08d9-4784-9552-c5e69fcad50d",
        "colab": {
          "base_uri": "https://localhost:8080/",
          "height": 85
        }
      },
      "source": [
        "str = \"IRONMAN\"\n",
        "print(\"str[-1]  = \", str[-1]) # last character is accessed\n",
        "print(\"str[-6]  = \", str[-6]) # last character is accessed\n",
        "print(\"str[-2]  = \", str[-2])\n",
        "print(\"str[-5:-2]  = \", str[-5:-2])\n"
      ],
      "execution_count": 0,
      "outputs": [
        {
          "output_type": "stream",
          "text": [
            "str[-1]  =  N\n",
            "str[-6]  =  R\n",
            "str[-2]  =  A\n",
            "str[-5:-2]  =  ONM\n"
          ],
          "name": "stdout"
        }
      ]
    },
    {
      "cell_type": "markdown",
      "metadata": {
        "id": "4v7MsUiKoxbP",
        "colab_type": "text"
      },
      "source": [
        "**Specifying Stride While Slicing String **\n",
        "\n",
        "In the slice operation, you can specify a third argument as the stride, which refers to the number of characters to move forward after the first character is retrieved from the string.  The default value of stride is 1. \n",
        "\n",
        "Where the value of the stride is not specified its default value of 1 is used which means that every character between two index number is retrieved.  \n",
        "\n",
        "Program to use the slice operation with stride.  \n"
      ]
    },
    {
      "cell_type": "code",
      "metadata": {
        "id": "K4IS3Ul2qd_0",
        "colab_type": "code",
        "outputId": "6edc23f2-b116-4d02-efe2-aab29dfa3e65",
        "colab": {
          "base_uri": "https://localhost:8080/",
          "height": 85
        }
      },
      "source": [
        "\n",
        "str = \"Welcome to the world of Programming\" \n",
        "print(\"str[2:10]  = \", str[2:10]) # default stride is one\n",
        "print(\"str[2:10:1]  = \", str[2:10:1]) # same as stride one\n",
        "print(\"str[2:10:2]  = \", str[2:10:2]) # skips every alternate character\n",
        "print(\"str[2:13:4]  = \", str[2:10:4]) # skips every fourth character \n"
      ],
      "execution_count": 0,
      "outputs": [
        {
          "output_type": "stream",
          "text": [
            "str[2:10]  =  lcome to\n",
            "str[2:10:1]  =  lcome to\n",
            "str[2:10:2]  =  loet\n",
            "str[2:13:4]  =  le\n"
          ],
          "name": "stdout"
        }
      ]
    },
    {
      "cell_type": "markdown",
      "metadata": {
        "id": "4dSthQx2rlhD",
        "colab_type": "text"
      },
      "source": [
        "** Note : That even the whitespace characters are skipped, as they are part of string.**\n",
        "\n",
        "If you omit the first two arguments and only specify the third one, then the entire string is used in steps\n",
        "\n",
        "**Program to demonstrate splice operation with just last (positive) argument **"
      ]
    },
    {
      "cell_type": "code",
      "metadata": {
        "id": "fPKj86SusLkt",
        "colab_type": "code",
        "outputId": "41df8bd7-db3a-42ee-869b-39560a66641b",
        "colab": {
          "base_uri": "https://localhost:8080/",
          "height": 34
        }
      },
      "source": [
        "str = \" Hi! Welcome to the world of programming in Python\"\n",
        "print(\"str[::3] = \",str[::3])"
      ],
      "execution_count": 0,
      "outputs": [
        {
          "output_type": "stream",
          "text": [
            "str[::3] =   !eo  eodfrrmgnyo\n"
          ],
          "name": "stdout"
        }
      ]
    },
    {
      "cell_type": "markdown",
      "metadata": {
        "id": "okklgA2Tshwz",
        "colab_type": "text"
      },
      "source": [
        "Program to demonstrate splice operation with just last (negative) argument."
      ]
    },
    {
      "cell_type": "code",
      "metadata": {
        "id": "pKvOkIeJsojC",
        "colab_type": "code",
        "outputId": "69a12c8c-a4e8-41a8-f65b-ce44299cadb7",
        "colab": {
          "base_uri": "https://localhost:8080/",
          "height": 34
        }
      },
      "source": [
        "str = \"Hi! Welcome to the world of programming in Python\"\n",
        "print(\"str[::1] =  \", str[::-1])"
      ],
      "execution_count": 0,
      "outputs": [
        {
          "output_type": "stream",
          "text": [
            "str[::1] =   nohtyP ni gnimmargorp fo dlrow eht ot emocleW !iH\n"
          ],
          "name": "stdout"
        }
      ]
    },
    {
      "cell_type": "markdown",
      "metadata": {
        "id": "oGC9dazFtED_",
        "colab_type": "text"
      },
      "source": [
        "In the above example we have considered the entire original string, reversed it through the negative stride and with a stride of -3, we have skipped every third letter of the reversed string.  \n",
        "\n",
        "Program to print the string in reverse thereby skipping every third character."
      ]
    },
    {
      "cell_type": "code",
      "metadata": {
        "id": "6B_eO9r5ta-K",
        "colab_type": "code",
        "outputId": "a8c90428-5946-430c-fa57-36711fbdadb7",
        "colab": {
          "base_uri": "https://localhost:8080/",
          "height": 34
        }
      },
      "source": [
        "str = \"Hi! Welcome to the world of programming in Python\"\n",
        "print(\"str[::-3] =  \", str[::-1])"
      ],
      "execution_count": 0,
      "outputs": [
        {
          "output_type": "stream",
          "text": [
            "str[::-3] =   nohtyP ni gnimmargorp fo dlrow eht ot emocleW !iH\n"
          ],
          "name": "stdout"
        }
      ]
    },
    {
      "cell_type": "markdown",
      "metadata": {
        "id": "JuziY2zqwDGl",
        "colab_type": "text"
      },
      "source": [
        "## **ord() AND chr() FUNCTIONS**\n",
        "\n",
        "The ord() functions returns the ASCII code of the character and the chr() function returns character represented by a ASCII number.  Consider the following examples: "
      ]
    },
    {
      "cell_type": "code",
      "metadata": {
        "id": "Csze79Eowgwg",
        "colab_type": "code",
        "outputId": "3519c89e-eb87-4ad4-9cbd-51c23d9d3ee6",
        "colab": {
          "base_uri": "https://localhost:8080/",
          "height": 85
        }
      },
      "source": [
        "ch = 'R'\n",
        "print(ord(ch))\n",
        "\n",
        "print(chr(82))\n",
        "\n",
        "print(chr(112))\n",
        "\n",
        "print(ord('p'))\n"
      ],
      "execution_count": 0,
      "outputs": [
        {
          "output_type": "stream",
          "text": [
            "82\n",
            "R\n",
            "p\n",
            "112\n"
          ],
          "name": "stdout"
        }
      ]
    },
    {
      "cell_type": "markdown",
      "metadata": {
        "id": "lAw8SPHYw1y2",
        "colab_type": "text"
      },
      "source": [
        "**in AND not in OPERATORS**\n",
        "\n",
        "in and not in operators can be used with string to determine whether a string is present in another string.  \n",
        "\n",
        "Therefore, the in and not in operator are also known as **membership operators**"
      ]
    },
    {
      "cell_type": "markdown",
      "metadata": {
        "id": "3Kb-mGGgwDBU",
        "colab_type": "text"
      },
      "source": [
        ""
      ]
    },
    {
      "cell_type": "code",
      "metadata": {
        "id": "yl_m9jXwta5n",
        "colab_type": "code",
        "outputId": "efebb4ea-9e29-4c6a-a83e-4a694de968cb",
        "colab": {
          "base_uri": "https://localhost:8080/",
          "height": 34
        }
      },
      "source": [
        "str1 = \"Welcome to the world of Python Programming\"\n",
        "str2 = \"the\"\n",
        "\n",
        "if str2 in str1:\n",
        "  print('Found')\n",
        "else:\n",
        "  print('Not Found')"
      ],
      "execution_count": 0,
      "outputs": [
        {
          "output_type": "stream",
          "text": [
            "Found\n"
          ],
          "name": "stdout"
        }
      ]
    },
    {
      "cell_type": "code",
      "metadata": {
        "id": "MegtEPcVxuSW",
        "colab_type": "code",
        "outputId": "16ba93e3-cbcd-4ffb-f2fa-33d4b8ea6a5f",
        "colab": {
          "base_uri": "https://localhost:8080/",
          "height": 34
        }
      },
      "source": [
        "str1 = \" This is a very good book\"\n",
        "str2 = \"best\"\n",
        "if str2 not in str1:\n",
        "  print(\"The book is very good but it may not be the best one.\")\n",
        "else:\n",
        "  print(\"It is the best book.\")"
      ],
      "execution_count": 0,
      "outputs": [
        {
          "output_type": "stream",
          "text": [
            "The book is very good but it may not be the best one.\n"
          ],
          "name": "stdout"
        }
      ]
    },
    {
      "cell_type": "markdown",
      "metadata": {
        "id": "fw90lr70yVgt",
        "colab_type": "text"
      },
      "source": [
        "**COMPARING STRINGS**\n",
        "\n",
        "Python allows you to compare strings using relational operators such as >, <, <=, etc.  \n",
        "\n",
        "**These operators compare the strings by using the lexicographical order i.e. using ASCII value of the characters.  The ASCII values of A-Z is 65-90 and ASCII code for a-z is 97-122. This means that book is greater than Book because the ASCII value of 'b' is 98 and 'B' is 68**\n",
        "\n",
        "**NOTE: String values are ordered using lexicographical (dictionary) ordering.  The lexicographical order is similar to the alphabetical order that is used with a dictionary, except that all the upper case letters come before the lower case letters. For example, Andy is less than Ben, as the ASCII value for 'A' is 65 and 'B' is 66**\n",
        "\n",
        "\n",
        "# ITERATING STRING\n",
        "\n",
        "String is a sequence type (sequence of characters).  You can iterate through the string using for loop as shown in the code given below: \n",
        "\n"
      ]
    },
    {
      "cell_type": "code",
      "metadata": {
        "id": "yKp9IsBVEiOq",
        "colab_type": "code",
        "outputId": "aa928760-0875-48d5-8b50-f53f9fd7ff79",
        "colab": {
          "base_uri": "https://localhost:8080/",
          "height": 34
        }
      },
      "source": [
        "str = \" Hi Programming is Fun\"\n",
        "for i in str:\n",
        "  print(i, end= '   ')"
      ],
      "execution_count": 0,
      "outputs": [
        {
          "output_type": "stream",
          "text": [
            "    H   i       P   r   o   g   r   a   m   m   i   n   g       i   s       F   u   n   "
          ],
          "name": "stdout"
        }
      ]
    },
    {
      "cell_type": "markdown",
      "metadata": {
        "id": "UFT_Ei2OE1Q1",
        "colab_type": "text"
      },
      "source": [
        "Program to iterate a given string using while loop.  "
      ]
    },
    {
      "cell_type": "code",
      "metadata": {
        "id": "Rc1588dN1ULJ",
        "colab_type": "code",
        "outputId": "c95d2e02-ac5c-48f5-cf9b-9d26d6fe6904",
        "colab": {
          "base_uri": "https://localhost:8080/",
          "height": 34
        }
      },
      "source": [
        "message = \" Hi There Python Programming is Fun\"\n",
        "index = 0\n",
        "while index < len(message):\n",
        "  letter = message[index]\n",
        "  print(letter, end=' ')\n",
        "  index += 1"
      ],
      "execution_count": 0,
      "outputs": [
        {
          "output_type": "stream",
          "text": [
            "  H i   T h e r e   P y t h o n   P r o g r a m m i n g   i s   F u n "
          ],
          "name": "stdout"
        }
      ]
    },
    {
      "cell_type": "markdown",
      "metadata": {
        "id": "jgKpUm1GFoDE",
        "colab_type": "text"
      },
      "source": [
        "In the above program the loop traverses the string and displays each letter.  \n",
        "The loop condition index < len(message), so the moment index becomes equal to the length of the string, the condition evaluates to False, and as the body of the loop is not executed.  The index of the last character is len(message)-1.\n",
        "\n",
        "**You can iterate through a string either using an index or by using each character in the string.\n",
        "\n",
        "\n",
        "# Uses character to iterate: \n",
        "\n",
        "\n",
        "\n"
      ]
    },
    {
      "cell_type": "code",
      "metadata": {
        "id": "QNeSmthxGn6O",
        "colab_type": "code",
        "outputId": "28b811e4-ed94-4260-f02f-6a8dd61d74b9",
        "colab": {
          "base_uri": "https://localhost:8080/",
          "height": 85
        }
      },
      "source": [
        "def copy(str):\n",
        "  new_str = ' '\n",
        "  for i in str:\n",
        "    new_str += i\n",
        "  return new_str\n",
        "\n",
        "str = input(\"\\n Enter the string : \")\n",
        "print(\"\\n  The copied string is :   \", copy(str))"
      ],
      "execution_count": 0,
      "outputs": [
        {
          "output_type": "stream",
          "text": [
            "\n",
            " Enter the string : Kangaroo\n",
            "\n",
            "  The copied string is :     Kangaroo\n"
          ],
          "name": "stdout"
        }
      ]
    },
    {
      "cell_type": "markdown",
      "metadata": {
        "id": "rPmKNCz7HRE-",
        "colab_type": "text"
      },
      "source": [
        "# Uses index of character to iterate "
      ]
    },
    {
      "cell_type": "code",
      "metadata": {
        "id": "wksPGq-5HW4_",
        "colab_type": "code",
        "colab": {}
      },
      "source": [
        "def copy(str):\n",
        "  new_str = ' '\n",
        "  for i in range(len(str)):\n",
        "    new_str += str[i]\n",
        "  return new_str\n",
        "\n",
        "str = input(\"\\n Enter a string : \")\n",
        "print(\"\\ The copied string is : \", copy(str))"
      ],
      "execution_count": 0,
      "outputs": []
    },
    {
      "cell_type": "markdown",
      "metadata": {
        "id": "4VhkMcqQIEQT",
        "colab_type": "text"
      },
      "source": [
        "**=Write a program to print the following **"
      ]
    },
    {
      "cell_type": "code",
      "metadata": {
        "id": "NkjWfeSPINca",
        "colab_type": "code",
        "outputId": "52a32ff1-5076-4dbd-b0e0-3f9969b56901",
        "colab": {
          "base_uri": "https://localhost:8080/",
          "height": 136
        }
      },
      "source": [
        "for i in range(1,7):\n",
        "  ch = 'A'\n",
        "  print()\n",
        "  for j in range(1,i+1):\n",
        "    print(ch, end=' ')\n",
        "    ch = chr(ord(ch)+1)"
      ],
      "execution_count": 0,
      "outputs": [
        {
          "output_type": "stream",
          "text": [
            "\n",
            "A \n",
            "A B \n",
            "A B C \n",
            "A B C D \n",
            "A B C D E \n",
            "A B C D E F "
          ],
          "name": "stdout"
        }
      ]
    },
    {
      "cell_type": "markdown",
      "metadata": {
        "id": "jMxsel65Ir6H",
        "colab_type": "text"
      },
      "source": [
        "Write a program that take user's name and SOCIAL SECURITY NUMBER number as input.  \n",
        "\n",
        "Validate the information using isX function and print the details. \n",
        "\n",
        "*   List item\n",
        "*   List item\n",
        "\n"
      ]
    },
    {
      "cell_type": "code",
      "metadata": {
        "id": "nbCunv_4INWZ",
        "colab_type": "code",
        "colab": {}
      },
      "source": [
        "while(1):\n",
        "  name = input(\"\\n Enter your name: \")\n",
        "  if name.isalpha() == False:\n",
        "    print(\"Invalid Name, Sorry you cannot proceed.\")\n",
        "    break\n",
        "  else:\n",
        "    soc_sec_no = input(\"\\n Enter your SOCIAL SECURITY Number:   \")\n",
        "    if soc_sec_no.isalnum() == False:\n",
        "      print(\"Invalid SOCIAL SECURITY NUMBER, Sorry you cannot proceed\")\n",
        "      break\n",
        "  print(\"Please check,   \"+name+\", your SOCIAL SECURITY number is : \"+soc_sec_no)\n",
        "  break"
      ],
      "execution_count": 0,
      "outputs": []
    },
    {
      "cell_type": "markdown",
      "metadata": {
        "id": "SblDT91zM5gm",
        "colab_type": "text"
      },
      "source": [
        "**Write a program that encrypts a message by adding a key value to every character.  (Caesar Cipher)**\n",
        "\n",
        "Hint : Say, if key = 3, then add 3 to every character.  \n"
      ]
    },
    {
      "cell_type": "code",
      "metadata": {
        "id": "wOjcEZ67NTFx",
        "colab_type": "code",
        "outputId": "ddc8b209-26a4-4c55-d863-e15238842138",
        "colab": {
          "base_uri": "https://localhost:8080/",
          "height": 34
        }
      },
      "source": [
        "message = \"HelloWorld\"\n",
        "index = 0 \n",
        "while index < len(message):\n",
        "  letter = message[index]\n",
        "  print(chr(ord(letter) + 3), end= '  ')\n",
        "  index += 1"
      ],
      "execution_count": 0,
      "outputs": [
        {
          "output_type": "stream",
          "text": [
            "K  h  o  o  r  Z  r  u  o  g  "
          ],
          "name": "stdout"
        }
      ]
    },
    {
      "cell_type": "markdown",
      "metadata": {
        "id": "PTLRvSwvN1Zn",
        "colab_type": "text"
      },
      "source": [
        "Write a program that uses split() to split a multiline string.  \n"
      ]
    },
    {
      "cell_type": "markdown",
      "metadata": {
        "id": "rfklnFZLZ6KX",
        "colab_type": "text"
      },
      "source": [
        ""
      ]
    },
    {
      "cell_type": "code",
      "metadata": {
        "id": "8ifut62ON--H",
        "colab_type": "code",
        "outputId": "c3f6514d-fc3a-43f1-bd37-ac22654820b2",
        "colab": {
          "base_uri": "https://localhost:8080/",
          "height": 54
        }
      },
      "source": [
        "letter = ''' Dear Student,\n",
        "I am pleased to inform you that, \n",
        "there is a workshop on Python in college tomorrow.\n",
        "Everyone should come and \n",
        "there will also be a quiz in Python, whosoever wins\n",
        "will win a Gold Medal...'''\n",
        "\n",
        "print(letter.split('\\n'))"
      ],
      "execution_count": 0,
      "outputs": [
        {
          "output_type": "stream",
          "text": [
            "[' Dear Student,', 'I am pleased to inform you that, ', 'there is a workshop on Python in college tomorrow.', 'Everyone should come and ', 'there will also be a quiz in Python, whosoever wins', 'will win a Gold Medal...']\n"
          ],
          "name": "stdout"
        }
      ]
    },
    {
      "cell_type": "markdown",
      "metadata": {
        "id": "qr_mF8R1Z9ns",
        "colab_type": "text"
      },
      "source": [
        "Write a program to generate an Abecedarian series. \n",
        "\n",
        "Hint : Abecedarian series refers to a series or list in which the elements appear in alphabetical order.  "
      ]
    },
    {
      "cell_type": "code",
      "metadata": {
        "id": "Z0jbFOaiaPmN",
        "colab_type": "code",
        "outputId": "3d52846a-2fc6-4119-f8ef-9d9644edb1a9",
        "colab": {
          "base_uri": "https://localhost:8080/",
          "height": 34
        }
      },
      "source": [
        "str1 = 'ABCDEFGH'\n",
        "str2 = 'ate'\n",
        "for letter in str1:\n",
        "  print((letter + str2), end='  ')"
      ],
      "execution_count": 0,
      "outputs": [
        {
          "output_type": "stream",
          "text": [
            "Aate  Bate  Cate  Date  Eate  Fate  Gate  Hate  "
          ],
          "name": "stdout"
        }
      ]
    },
    {
      "cell_type": "markdown",
      "metadata": {
        "id": "WC6lg3ibZ9j-",
        "colab_type": "text"
      },
      "source": [
        "Write a program that accepts a string from user and redisplays the same string after removing vowels from it. "
      ]
    },
    {
      "cell_type": "code",
      "metadata": {
        "id": "0vXrzWBKav5J",
        "colab_type": "code",
        "colab": {}
      },
      "source": [
        "def remove_vowels(s):\n",
        "  new_str = \" \"\n",
        "  for i in s:\n",
        "    if i in \"aeiouAEIOU\":\n",
        "      pass\n",
        "    else:\n",
        "      new_str += i\n",
        "  print(\" The string without vowels is :  \", new_str)\n",
        "str = input(\"\\n Enter a string :  \")\n",
        "remove_vowels(str)"
      ],
      "execution_count": 0,
      "outputs": []
    },
    {
      "cell_type": "markdown",
      "metadata": {
        "id": "2YGEm0lZcf_i",
        "colab_type": "text"
      },
      "source": [
        "Write a program that finds whether a given character is present in a string or not.  In case it is present it prints the index at which it is present.  Do not use built-in find functions to search the character.  "
      ]
    },
    {
      "cell_type": "code",
      "metadata": {
        "id": "LiMUSitecxvE",
        "colab_type": "code",
        "outputId": "be83c2ac-2d2e-4f9b-fdcd-860145626f26",
        "colab": {
          "base_uri": "https://localhost:8080/",
          "height": 102
        }
      },
      "source": [
        "def find_ch(s,c):\n",
        "  index = 0\n",
        "  while (index < len(s)):\n",
        "    if s[index] == c:\n",
        "      print(c, \"found in string at index:   \",index)\n",
        "      return\n",
        "    else:\n",
        "      pass\n",
        "    index += 1\n",
        "  print(c,\" is not present in the string\")\n",
        "\n",
        "str = input(\"\\n Enter a string\")\n",
        "ch = input(\"\\n Enter the character to be searched:  \")\n",
        "find_ch(str,ch)"
      ],
      "execution_count": 0,
      "outputs": [
        {
          "output_type": "stream",
          "text": [
            "\n",
            " Enter a stringIndex numbers allows us to access\n",
            "\n",
            " Enter the character to be searched:  s\n",
            "s found in string at index:    12\n"
          ],
          "name": "stdout"
        }
      ]
    },
    {
      "cell_type": "markdown",
      "metadata": {
        "id": "2jKviXg_Fn8k",
        "colab_type": "text"
      },
      "source": [
        "Write a program that emulates the rfind function.  "
      ]
    },
    {
      "cell_type": "code",
      "metadata": {
        "id": "Vd5hfH80fH4i",
        "colab_type": "code",
        "outputId": "077598a0-ea0a-43d1-baca-b1161d095a60",
        "colab": {
          "base_uri": "https://localhost:8080/",
          "height": 102
        }
      },
      "source": [
        "def rfind_ch(s,c):\n",
        "  index = len(s)-1\n",
        "  while index>=0:\n",
        "    if s[index] ==c:\n",
        "      return index\n",
        "    index = index -1\n",
        "    return -1\n",
        "str = input(\"\\n Enter a string:   \")\n",
        "ch = input(\"\\n Enter the character to be searched:  \")\n",
        "index = rfind_ch(str,ch)\n",
        "if index != -1:\n",
        "  print(ch, \" is found at location\", index)\n",
        "else:\n",
        "  print(ch, \"is not present in the string\")\n"
      ],
      "execution_count": 0,
      "outputs": [
        {
          "output_type": "stream",
          "text": [
            "\n",
            " Enter a string:   Let us study python\n",
            "\n",
            " Enter the character to be searched:  s\n",
            "s is not present in the string\n"
          ],
          "name": "stdout"
        }
      ]
    },
    {
      "cell_type": "code",
      "metadata": {
        "id": "4auNGUQ5mrfi",
        "colab_type": "code",
        "outputId": "149cdfeb-af26-4dbd-de8c-0cf6ffe2146d",
        "colab": {
          "base_uri": "https://localhost:8080/",
          "height": 34
        }
      },
      "source": [
        "import math\n",
        "math.pi * (5 **2)\n",
        "math.hypot(5,12)\n",
        "math.modf(13.743)"
      ],
      "execution_count": 0,
      "outputs": [
        {
          "output_type": "execute_result",
          "data": {
            "text/plain": [
              "(0.7430000000000003, 13.0)"
            ]
          },
          "metadata": {
            "tags": []
          },
          "execution_count": 49
        }
      ]
    },
    {
      "cell_type": "code",
      "metadata": {
        "id": "qizSsv7mnK-A",
        "colab_type": "code",
        "outputId": "2b5f821e-82cc-4b27-fb86-b52e482f169e",
        "colab": {
          "base_uri": "https://localhost:8080/",
          "height": 34
        }
      },
      "source": [
        "import decimal \n",
        "a = decimal.Decimal(9876)\n",
        "b = decimal.Decimal(\"54321.012345678987654321\")\n",
        "c = a+b\n",
        "print(c)"
      ],
      "execution_count": 0,
      "outputs": [
        {
          "output_type": "stream",
          "text": [
            "64197.012345678987654321\n"
          ],
          "name": "stdout"
        }
      ]
    },
    {
      "cell_type": "markdown",
      "metadata": {
        "id": "lgJYbghfoiwJ",
        "colab_type": "text"
      },
      "source": [
        "Write a program that counts the occurence of a character in a string.  Do not use built-in count function.\n",
        " "
      ]
    },
    {
      "cell_type": "code",
      "metadata": {
        "id": "6iUAqhXRrcqF",
        "colab_type": "code",
        "outputId": "75dd38ce-c83b-41fd-e84a-e3db3b015413",
        "colab": {
          "base_uri": "https://localhost:8080/",
          "height": 102
        }
      },
      "source": [
        "def count_ch(s,c):\n",
        "  count = 0\n",
        "  for i in s:\n",
        "    if i == c:\n",
        "      count += 1\n",
        "  return count\n",
        "\n",
        "str = input(\"\\n Enter a string : \")\n",
        "ch = input(\"\\n Enter the character to be searched : \")\n",
        "count = count_ch(str,ch)\n",
        "print(\"In\",str,ch,\"occurs\",count, \"times\")"
      ],
      "execution_count": 0,
      "outputs": [
        {
          "output_type": "stream",
          "text": [
            "\n",
            " Enter a string : Beautiful Fruits\n",
            "\n",
            " Enter the character to be searched : a\n",
            "In Beautiful Fruits a occurs 1 times\n"
          ],
          "name": "stdout"
        }
      ]
    },
    {
      "cell_type": "markdown",
      "metadata": {
        "id": "TEsKN8f6wUbU",
        "colab_type": "text"
      },
      "source": [
        "\n",
        "\n"
      ]
    },
    {
      "cell_type": "code",
      "metadata": {
        "id": "LQviEl3QwuBl",
        "colab_type": "code",
        "colab": {}
      },
      "source": [
        "def count_ch(s, c, beg=0):\n",
        "  count = 0\n",
        "  index = beg \n",
        "  while index < len(s):\n",
        "    if s[index] ==c:\n",
        "      count += 1\n",
        "    index += 1\n",
        "  return count\n",
        "str = input(\"\\Enter a string: \")\n",
        "ch = input(\"\\n Enter the character to be searched :   \")\n",
        "count = count_ch(str,ch)\n",
        "print(\"In\", str, ch, \"occurs\",count, \"times from the beginning to end\")\n",
        "loc = int(input(\"\\n From which position do you want to start counting:  \"))\n",
        "count = count_ch(str,ch,loc)\n",
        "print(\"In\",str,ch,\"occurs\",count,\"times from position\",loc,\" to end\")\n",
        "\n"
      ],
      "execution_count": 0,
      "outputs": []
    },
    {
      "cell_type": "markdown",
      "metadata": {
        "id": "7bEnSEmw3LJK",
        "colab_type": "text"
      },
      "source": [
        "Write a program to reverse a string."
      ]
    },
    {
      "cell_type": "code",
      "metadata": {
        "id": "mZwSbcdc3OIf",
        "colab_type": "code",
        "outputId": "454ff65b-4a91-4cfd-e439-e0ce4a53c045",
        "colab": {
          "base_uri": "https://localhost:8080/",
          "height": 85
        }
      },
      "source": [
        "def reverse(str):\n",
        "  new_str = ' '\n",
        "  i = len(str)-1\n",
        "  while i >=0:\n",
        "    new_str += str[i]\n",
        "    i -= 1\n",
        "  return new_str\n",
        "\n",
        "str = input(\"\\n Enter a String : \")\n",
        "print(\"\\n The reversed string is : \",reverse(str))"
      ],
      "execution_count": 0,
      "outputs": [
        {
          "output_type": "stream",
          "text": [
            "\n",
            " Enter a String : computerscience\n",
            "\n",
            " The reversed string is :   ecneicsretupmoc\n"
          ],
          "name": "stdout"
        }
      ]
    },
    {
      "cell_type": "markdown",
      "metadata": {
        "id": "0QFnD4g54SW-",
        "colab_type": "text"
      },
      "source": [
        "write a program to parse an email id to print from which email server it was sent and when "
      ]
    },
    {
      "cell_type": "code",
      "metadata": {
        "id": "pTeicjH24aml",
        "colab_type": "code",
        "outputId": "9e366b03-606a-4418-bba6-d74fbc2f5ec7",
        "colab": {
          "base_uri": "https://localhost:8080/",
          "height": 51
        }
      },
      "source": [
        "info = 'From rajesh.pai@gmail.com Sun Nov 26 18:39:38 2018'\n",
        "\n",
        "start = info.find('@') + 1 # Extract characters after @ symbols\n",
        "end = info.find(\".com\") + 4 # Extract till m, find return index of m. \n",
        "mailserver = info[start:end] # extract characters\n",
        "\n",
        "start = end + 1   # Ignore whitespace\n",
        "end = len(info) -1 # Extract till last character\n",
        "date_time = info[start:end]\n",
        "\n",
        "print(\"The email has been sent through \"+ mailserver)\n",
        "print(\" It was sent on \"+date_time)\n"
      ],
      "execution_count": 0,
      "outputs": [
        {
          "output_type": "stream",
          "text": [
            "The email has been sent through gmail.com\n",
            " It was sent on Sun Nov 26 18:39:38 201\n"
          ],
          "name": "stdout"
        }
      ]
    },
    {
      "cell_type": "code",
      "metadata": {
        "id": "pzol-MRn55Mr",
        "colab_type": "code",
        "outputId": "863e5fe7-fddd-4e9f-c0d5-0e7890a49a4f",
        "colab": {
          "base_uri": "https://localhost:8080/",
          "height": 34
        }
      },
      "source": [
        "import string\n",
        "print(type(string.digits))"
      ],
      "execution_count": 0,
      "outputs": [
        {
          "output_type": "stream",
          "text": [
            "<class 'str'>\n"
          ],
          "name": "stdout"
        }
      ]
    },
    {
      "cell_type": "code",
      "metadata": {
        "id": "JZKQC0IP6IQP",
        "colab_type": "code",
        "outputId": "8f3efeb9-1442-4c99-f5f4-00bccfe7dd95",
        "colab": {
          "base_uri": "https://localhost:8080/",
          "height": 34
        }
      },
      "source": [
        "import string\n",
        "print(string.ascii_letters)"
      ],
      "execution_count": 0,
      "outputs": [
        {
          "output_type": "stream",
          "text": [
            "abcdefghijklmnopqrstuvwxyzABCDEFGHIJKLMNOPQRSTUVWXYZ\n"
          ],
          "name": "stdout"
        }
      ]
    },
    {
      "cell_type": "code",
      "metadata": {
        "id": "fqDiCULL6RBh",
        "colab_type": "code",
        "outputId": "e9030f99-e7a9-4ced-a8c5-fd6f4e6d86e1",
        "colab": {
          "base_uri": "https://localhost:8080/",
          "height": 34
        }
      },
      "source": [
        "import string\n",
        "print(string.digits)"
      ],
      "execution_count": 0,
      "outputs": [
        {
          "output_type": "stream",
          "text": [
            "0123456789\n"
          ],
          "name": "stdout"
        }
      ]
    },
    {
      "cell_type": "markdown",
      "metadata": {
        "id": "W8VJ-jBr3LAw",
        "colab_type": "text"
      },
      "source": [
        ""
      ]
    }
  ]
}