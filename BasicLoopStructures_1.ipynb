{
  "nbformat": 4,
  "nbformat_minor": 0,
  "metadata": {
    "colab": {
      "name": "BasicLoopStructures-1.ipynb",
      "provenance": [],
      "authorship_tag": "ABX9TyPX/ok0l465gJHB7AHNlTla",
      "include_colab_link": true
    },
    "kernelspec": {
      "name": "python3",
      "display_name": "Python 3"
    }
  },
  "cells": [
    {
      "cell_type": "markdown",
      "metadata": {
        "id": "view-in-github",
        "colab_type": "text"
      },
      "source": [
        "<a href=\"https://colab.research.google.com/github/vijendranp/Hello-World/blob/master/BasicLoopStructures_1.ipynb\" target=\"_parent\"><img src=\"https://colab.research.google.com/assets/colab-badge.svg\" alt=\"Open In Colab\"/></a>"
      ]
    },
    {
      "cell_type": "code",
      "metadata": {
        "id": "oIoNMz_W23Qi",
        "colab_type": "code",
        "colab": {}
      },
      "source": [
        ""
      ],
      "execution_count": 0,
      "outputs": []
    },
    {
      "cell_type": "markdown",
      "metadata": {
        "id": "vc9gX_LIzzqE",
        "colab_type": "text"
      },
      "source": [
        ""
      ]
    },
    {
      "cell_type": "markdown",
      "metadata": {
        "id": "FtIUg_rEz4G4",
        "colab_type": "text"
      },
      "source": [
        ""
      ]
    },
    {
      "cell_type": "code",
      "metadata": {
        "id": "kbDenkQ40CJ2",
        "colab_type": "code",
        "colab": {}
      },
      "source": [
        ""
      ],
      "execution_count": 0,
      "outputs": []
    },
    {
      "cell_type": "markdown",
      "metadata": {
        "id": "G_f6eFPg2486",
        "colab_type": "text"
      },
      "source": [
        "# BASIC LOOP STRUCTURES / ITERATIVE STATEMENTS \n",
        "\n",
        "Python supports loop structures through iterative statements.  Iterative statements are decision control statements that are used to repeat execution of a list of statement.  \n",
        "\n",
        "**While loop**\n",
        "The while loop provides a mechanism to repeat one or more statements while a particular condition is true. \n",
        "\n",
        "*Syntax*: \n",
        "statement x\n",
        "while (condition):\n",
        "      statement block \n",
        "statement y \n",
        "\n",
        "Program to print first 10 numbers using a while  loop "
      ]
    },
    {
      "cell_type": "code",
      "metadata": {
        "id": "T412TRtU4BLR",
        "colab_type": "code",
        "colab": {}
      },
      "source": [
        "i = 0 \n",
        "while (i<=10):\n",
        "  print(i,end=\"  \")\n",
        "  i = i+1\n",
        "  "
      ],
      "execution_count": 0,
      "outputs": []
    },
    {
      "cell_type": "markdown",
      "metadata": {
        "id": "yFDciB2C4X8f",
        "colab_type": "text"
      },
      "source": [
        "Program to separate two values printed on the same line using tab"
      ]
    },
    {
      "cell_type": "code",
      "metadata": {
        "id": "gQ45QPvN4rYC",
        "colab_type": "code",
        "colab": {}
      },
      "source": [
        "i = 0 \n",
        "while (i <=20):\n",
        "  print(i, end = '\\t')\n",
        "  i+=1"
      ],
      "execution_count": 0,
      "outputs": []
    },
    {
      "cell_type": "markdown",
      "metadata": {
        "id": "CAd4hbet4_9G",
        "colab_type": "text"
      },
      "source": [
        "**NOTE** : If you use end =  \"  \",  then there will be no space between two values.\n",
        "\n",
        "\n",
        "write a program to calculate the sum and average of the first 10 numbers"
      ]
    },
    {
      "cell_type": "code",
      "metadata": {
        "id": "daWsCm2I5SHx",
        "colab_type": "code",
        "outputId": "7ee5c65b-29bf-49f6-c9b9-4a030893fd0c",
        "colab": {
          "base_uri": "https://localhost:8080/",
          "height": 51
        }
      },
      "source": [
        "i = 0\n",
        "s = 0\n",
        "\n",
        "while(i<=10):\n",
        "  s = s+i\n",
        "  i=i+1\n",
        "\n",
        "avg = float(s)/10\n",
        "print(\"The sum of first 10 numbers is : \",s)\n",
        "print(\"The average of the first 10 numbers is :  \",avg)"
      ],
      "execution_count": 0,
      "outputs": [
        {
          "output_type": "stream",
          "text": [
            "The sum of first 10 numbers is :  55\n",
            "The average of the first 10 numbers is :   5.5\n"
          ],
          "name": "stdout"
        }
      ]
    },
    {
      "cell_type": "markdown",
      "metadata": {
        "id": "vwved0i66dRw",
        "colab_type": "text"
      },
      "source": [
        "Write a program to calculate the sum of numbers from m to n "
      ]
    },
    {
      "cell_type": "code",
      "metadata": {
        "id": "K2QqENMu6jLM",
        "colab_type": "code",
        "outputId": "fc744843-b51e-4531-e05e-ef5a94f43000",
        "colab": {
          "base_uri": "https://localhost:8080/",
          "height": 68
        }
      },
      "source": [
        "m = int(input (\" Enter the value of m :    \"))\n",
        "n = int(input(\"Enter the value of n :     \"))\n",
        "\n",
        "s = 0 \n",
        "while (m<=n):\n",
        "  s = s+m\n",
        "  m = m+1\n",
        "print(\"SUM=  \",s)"
      ],
      "execution_count": 0,
      "outputs": [
        {
          "output_type": "stream",
          "text": [
            " Enter the value of m :    5\n",
            "Enter the value of n :     8\n",
            "SUM=   26\n"
          ],
          "name": "stdout"
        }
      ]
    },
    {
      "cell_type": "markdown",
      "metadata": {
        "id": "VTMwgvIK7X5h",
        "colab_type": "text"
      },
      "source": [
        "Write a program to read the numbers until -1 is encountered.  Also count negative, positive and zeroes entered by the user."
      ]
    },
    {
      "cell_type": "code",
      "metadata": {
        "id": "GJV3OvOP7gdt",
        "colab_type": "code",
        "colab": {}
      },
      "source": [
        "\n",
        "negative = positive = zero = 0\n",
        "print(\"Enter -1 to exit. ......\")\n",
        "while(1):\n",
        "  num = int(input(\"Enter any number: \"))\n",
        "  if (num==-1):\n",
        "    break\n",
        "  if(num==0):\n",
        "    zero = zero +1\n",
        "  elif(num>0):\n",
        "    positive = positive + 1\n",
        "  else:\n",
        "    negative = negative + 1\n",
        "\n",
        "print(\"Count of positive numbers entered :  \", positive)\n",
        "print(\"Count of negative numbers entered :  \", negative)\n",
        "print(\"Count of zero numbers entered :      \", zero)\n"
      ],
      "execution_count": 0,
      "outputs": []
    },
    {
      "cell_type": "markdown",
      "metadata": {
        "id": "YSwxqUy09BRY",
        "colab_type": "text"
      },
      "source": [
        "Write a program to read the numbers until -1 is encountered.  Find the average of positive number and negative number entered by the user. \n",
        "\n",
        "**If statement is rune once if condition is True, and never if it is False**\n",
        "**A while statement is similar, except that it can be run more than once.**"
      ]
    },
    {
      "cell_type": "code",
      "metadata": {
        "id": "oXjcx-z99LFR",
        "colab_type": "code",
        "outputId": "db6eb7e3-3a2a-4f1f-a796-f9663c43e792",
        "colab": {
          "base_uri": "https://localhost:8080/",
          "height": 238
        }
      },
      "source": [
        "neg_count = 0 \n",
        "neg_s = 0\n",
        "pos_count = 0\n",
        "pos_s =0 \n",
        "print(\"Enter -1 to exit......\")\n",
        "num = int(input(\"Enter the number:  \"))\n",
        "while(num!=-1):\n",
        "  if(num<0):\n",
        "    neg_count = neg_count+1\n",
        "    neg_s=neg_s+num\n",
        "  else:\n",
        "    pos_count=pos_count+1\n",
        "    pos_s=pos_s+num\n",
        "  num = int(input(\"Enter the number :   \"))\n",
        "\n",
        "neg_avg = float(neg_s)/neg_count\n",
        "pos_avg = float(pos_s)/pos_count\n",
        "\n",
        "print(\"The average of negative number is :  \",neg_avg)\n",
        "print(\"The average of positive number is :  \",pos_avg)"
      ],
      "execution_count": 0,
      "outputs": [
        {
          "output_type": "stream",
          "text": [
            "Enter -1 to exit......\n",
            "Enter the number:  5\n",
            "Enter the number :   -3\n",
            "Enter the number :   7\n",
            "Enter the number :   -7\n",
            "Enter the number :   -4\n",
            "Enter the number :   -3\n",
            "Enter the number :   10\n",
            "Enter the number :   8\n",
            "Enter the number :   -2\n",
            "Enter the number :   -1\n",
            "The average of negative number is :   -3.8\n",
            "The average of positive number is :   7.5\n"
          ],
          "name": "stdout"
        }
      ]
    },
    {
      "cell_type": "markdown",
      "metadata": {
        "id": "t8h1j7FpAYkL",
        "colab_type": "text"
      },
      "source": [
        ""
      ]
    },
    {
      "cell_type": "markdown",
      "metadata": {
        "id": "LsWCUAvyA1a5",
        "colab_type": "text"
      },
      "source": [
        "write a program to find whether the number is an Armstrong number or not.\n",
        "**Hint : ** An Armstrong number of three digit is an integer such that all the sum of its cubes of its digit is equal to the number itself.  \n",
        "\n",
        "For Example:  371 is an armstrong number  ( 3**3) + (7**3) + (1**3) = 371\n"
      ]
    },
    {
      "cell_type": "code",
      "metadata": {
        "id": "urnRnyzgA8X_",
        "colab_type": "code",
        "colab": {}
      },
      "source": [
        "# 3**3 + 7**3 + 1**3 = 371\n",
        "\n",
        "n = int(input(\"Enter the number     \"))\n",
        "s = 0\n",
        "num = n\n",
        " \n",
        "while(n>0):\n",
        "  r = n%10\n",
        "  s = s+(r**3)\n",
        "  n = n/10\n",
        "\n",
        "if(s==num):\n",
        "  print(\"The number is Armstrong\")\n",
        "else:\n",
        "  print(\" The number is not Armstrong\")\n"
      ],
      "execution_count": 0,
      "outputs": []
    },
    {
      "cell_type": "code",
      "metadata": {
        "id": "E-tU5cw6ErwT",
        "colab_type": "code",
        "colab": {}
      },
      "source": [
        "num = 0 \n",
        "originalNum = 0\n",
        "remainder = 0\n",
        "result = 0\n",
        "\n",
        "n = int(input(\"Enter the number :   \"))\n",
        "\n",
        "num = n\n",
        "\n",
        "while(originalNum !=0):\n",
        "  remainder = originalNum %10\n",
        "  result += remainder * remainder * remainder\n",
        "  originalNum /= 10\n",
        "\n",
        "if(result==num):\n",
        "  print(\"%num is an Armstrong number.\",num)\n",
        "else:\n",
        "  print(\"%num is not an Armstrong number.\",num)\n",
        "\n"
      ],
      "execution_count": 0,
      "outputs": []
    },
    {
      "cell_type": "code",
      "metadata": {
        "id": "DXB1Nw_8P009",
        "colab_type": "code",
        "outputId": "45972f12-5488-4783-dd22-2aa0d39652bc",
        "colab": {
          "base_uri": "https://localhost:8080/",
          "height": 51
        }
      },
      "source": [
        "i = int(input(\"Enter Number to check for Armstrong\"))\n",
        "\n",
        "orig=i\n",
        "sum = 0 \n",
        "\n",
        "while(i>0):\n",
        "  sum = sum+(i%10)*(i%10)*(i%10)\n",
        "\n",
        "  i = i//10\n",
        "\n",
        "if orig == sum:\n",
        "  print(\"Number is Armstrong\")\n",
        "\n",
        "else:\n",
        "  print(\"Number is not Armstrong\")\n"
      ],
      "execution_count": 0,
      "outputs": [
        {
          "output_type": "stream",
          "text": [
            "Enter Number to check for Armstrong144\n",
            "Number is not Armstrong\n"
          ],
          "name": "stdout"
        }
      ]
    },
    {
      "cell_type": "code",
      "metadata": {
        "id": "nB6Y9fohPwxI",
        "colab_type": "code",
        "colab": {}
      },
      "source": [
        "\n"
      ],
      "execution_count": 0,
      "outputs": []
    },
    {
      "cell_type": "markdown",
      "metadata": {
        "id": "WPvynU-8IN0X",
        "colab_type": "text"
      },
      "source": [
        "Write a Program to enter a decimal number.  Calculate and display the binary equivalent of this number. "
      ]
    },
    {
      "cell_type": "code",
      "metadata": {
        "id": "9DFUvT_iITJZ",
        "colab_type": "code",
        "colab": {}
      },
      "source": [
        "import math\n",
        "decimal_num = int(input(\"Enter the decimal number:  \"))\n",
        "binary_num = 0\n",
        " \n",
        "i = 0\n",
        "while(decimal_num!=0):\n",
        "  remainder = decimal_num%2\n",
        "  binary_num = binary_num+remainder*(10**i)\n",
        "  decimal_num = decimal_num/2\n",
        "  i = i+1\n",
        "print(\"The binary equivalent =\",binary_num)"
      ],
      "execution_count": 0,
      "outputs": []
    },
    {
      "cell_type": "code",
      "metadata": {
        "id": "u8u2ySCmJxLo",
        "colab_type": "code",
        "colab": {}
      },
      "source": [
        ""
      ],
      "execution_count": 0,
      "outputs": []
    },
    {
      "cell_type": "markdown",
      "metadata": {
        "id": "aiOCTaMWJzsz",
        "colab_type": "text"
      },
      "source": [
        "\n",
        "\n",
        "```\n",
        "# Write a program to enter a binary number and convert it in to decimal.\n",
        "```\n",
        "\n"
      ]
    },
    {
      "cell_type": "code",
      "metadata": {
        "id": "3fgBsFaXKBuy",
        "colab_type": "code",
        "colab": {
          "base_uri": "https://localhost:8080/",
          "height": 51
        },
        "outputId": "da0a7ca3-5fcb-4feb-88da-43a253e9670c"
      },
      "source": [
        "binary_num = int(input(\"Enter the binary number   \"))\n",
        "decimal_num = 0\n",
        "i = 0\n",
        "while(binary_num!=0):\n",
        "  remainder = binary_num%10\n",
        "  decimal_num = decimal_num+remainder*(2**i)\n",
        "  binary_num = binary_num/10\n",
        "  i = i+1\n",
        "print(\"The decimal equivalent is \",decimal_num)"
      ],
      "execution_count": 7,
      "outputs": [
        {
          "output_type": "stream",
          "text": [
            "Enter the binary number   1101\n",
            "The decimal equivalent is  16.249999999999993\n"
          ],
          "name": "stdout"
        }
      ]
    },
    {
      "cell_type": "code",
      "metadata": {
        "id": "t_Fgm-J5LKOq",
        "colab_type": "code",
        "colab": {}
      },
      "source": [
        ""
      ],
      "execution_count": 0,
      "outputs": []
    },
    {
      "cell_type": "markdown",
      "metadata": {
        "id": "dGkuaierK5CP",
        "colab_type": "text"
      },
      "source": [
        "Write a program to read a character until a * is encountered.  Also count the number of uppercase, lowercase, and numbers entered by users. \n",
        "\n",
        "**Programming Tip: ** Statement inside the while loop are repeatedly executed until condition is true.  Once it becomes false, the next section of the code is executed. "
      ]
    },
    {
      "cell_type": "code",
      "metadata": {
        "id": "CFvjO-fxLkip",
        "colab_type": "code",
        "colab": {}
      },
      "source": [
        "ch = input(\"Enter any character:  \")\n",
        "num_count = 0\n",
        "up_count = 0\n",
        "low_count = 0\n",
        "if(ch>='0' and ch<= '9'):\n",
        "  num = num+1\n",
        "elif(ch>='a' and ch<='z'):\n",
        "  low_count = low_count+1\n",
        "\n",
        "elif(ch>='A' and ch<='Z'):\n",
        "  up_count = up_count+1\n",
        "\n",
        "while(ch!='*'):\n",
        "  ch = input(\"Enter any character: \")\n",
        "  if(ch>='0' and ch<='9'):\n",
        "    num_count = num_count+1\n",
        "  elif(ch>='a' and ch<='z'):\n",
        "    low_count = low_count+1\n",
        "  elif(ch>='A' and ch<='Z'):\n",
        "    up_count = up_count+1\n",
        "  \n",
        "  print(\"Number of lowercase characters are : \", low_count)\n",
        "  print(\"Number of uppercase characters are : \", up_count)\n",
        "  print(\"Number of numerals are :             \", num_count)\n"
      ],
      "execution_count": 0,
      "outputs": []
    },
    {
      "cell_type": "markdown",
      "metadata": {
        "id": "izYD_ubtOnVY",
        "colab_type": "text"
      },
      "source": [
        "**Programming Tip** : Placing a semicolon after the while and for loop is not a syntax error and will not be reported by the compiler.  It is considered to be a logical error as it changes outuput of the program.\n",
        "\n",
        "\n",
        "Write a program to enter a number and then calculate the sum of its digit. "
      ]
    },
    {
      "cell_type": "code",
      "metadata": {
        "id": "D8E1JK9jPPt4",
        "colab_type": "code",
        "colab": {}
      },
      "source": [
        "sumOfDigits=0 \n",
        "num = int(input(\"Enter the number: \"))\n",
        "while (num!=0):\n",
        "  temp=num%10\n",
        "  sumOfDigits = sumOfDigits+temp \n",
        "  num = num/10\n",
        "\n",
        "print(\" The sum of digits is \", sumOfDigits)"
      ],
      "execution_count": 0,
      "outputs": []
    },
    {
      "cell_type": "code",
      "metadata": {
        "id": "4eDeXLt_QEbw",
        "colab_type": "code",
        "colab": {}
      },
      "source": [
        ""
      ],
      "execution_count": 0,
      "outputs": []
    },
    {
      "cell_type": "markdown",
      "metadata": {
        "id": "9dtDFiSHQHsO",
        "colab_type": "text"
      },
      "source": [
        "Write a program to calculate the GCD of two numbers. "
      ]
    },
    {
      "cell_type": "code",
      "metadata": {
        "id": "kCSHSSHwQMhk",
        "colab_type": "code",
        "colab": {
          "base_uri": "https://localhost:8080/",
          "height": 68
        },
        "outputId": "d24390e9-301b-4a8c-96ff-5f865753f57a"
      },
      "source": [
        "num1 = int(input(\"Enter the two numbers:  \"))\n",
        "num2 = int(input(\"Enter the two numbers : \"))\n",
        "if(num1>num2):\n",
        "  dividend = num1\n",
        "  divisor = num2\n",
        "else:\n",
        "  dividend = num2\n",
        "  divisor = num1\n",
        "\n",
        "while(divisor!=0):\n",
        "  remainder = dividend%divisor\n",
        "  dividend = divisor\n",
        "  divisor = remainder\n",
        "print(\"GCD of\",num1,\"and\",num2,\"is\",dividend)"
      ],
      "execution_count": 12,
      "outputs": [
        {
          "output_type": "stream",
          "text": [
            "Enter the two numbers:  24\n",
            "Enter the two numbers : 18\n",
            "GCD of 24 and 18 is 6\n"
          ],
          "name": "stdout"
        }
      ]
    },
    {
      "cell_type": "markdown",
      "metadata": {
        "id": "K9jnsED7RVol",
        "colab_type": "text"
      },
      "source": [
        "Write a program to print the reverse of a number. "
      ]
    },
    {
      "cell_type": "code",
      "metadata": {
        "id": "7z4RQCntRe-f",
        "colab_type": "code",
        "colab": {}
      },
      "source": [
        "import sys\n",
        "\n",
        "\n",
        "num = int(input(\"Enter the number : \"))\n",
        "print(\" The reversed number is :\",)\n",
        "while(num!=0):\n",
        "  temp = num%10\n",
        "  print(temp, end=\" \")\n",
        "  num = num/10"
      ],
      "execution_count": 0,
      "outputs": []
    },
    {
      "cell_type": "markdown",
      "metadata": {
        "id": "cm4d37-VSRwT",
        "colab_type": "text"
      },
      "source": [
        "Write a program using a while loop that asks the useer  for a number and prints a countdown from that number to zero."
      ]
    },
    {
      "cell_type": "code",
      "metadata": {
        "id": "MuWehGdjSchj",
        "colab_type": "code",
        "colab": {
          "base_uri": "https://localhost:8080/",
          "height": 51
        },
        "outputId": "a56d8a51-3ce6-4c81-fafb-1c874c72fb9c"
      },
      "source": [
        "n = int(input(\"Enter the value of n : \"))\n",
        "while n>0:\n",
        "  print(n, end = '  ')\n",
        "  n = n-1\n",
        "  "
      ],
      "execution_count": 15,
      "outputs": [
        {
          "output_type": "stream",
          "text": [
            "Enter the value of n : 15\n",
            "15  14  13  12  11  10  9  8  7  6  5  4  3  2  1  "
          ],
          "name": "stdout"
        }
      ]
    }
  ]
}