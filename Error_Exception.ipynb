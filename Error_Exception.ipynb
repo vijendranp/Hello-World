{
  "nbformat": 4,
  "nbformat_minor": 0,
  "metadata": {
    "colab": {
      "name": "Error-Exception.ipynb",
      "provenance": [],
      "collapsed_sections": [],
      "authorship_tag": "ABX9TyP6nQDmLlIAP0qrHvRSY/D/",
      "include_colab_link": true
    },
    "kernelspec": {
      "name": "python3",
      "display_name": "Python 3"
    }
  },
  "cells": [
    {
      "cell_type": "markdown",
      "metadata": {
        "id": "view-in-github",
        "colab_type": "text"
      },
      "source": [
        "<a href=\"https://colab.research.google.com/github/vijendranp/Python--Computational-Approach/blob/master/Error_Exception.ipynb\" target=\"_parent\"><img src=\"https://colab.research.google.com/assets/colab-badge.svg\" alt=\"Open In Colab\"/></a>"
      ]
    },
    {
      "cell_type": "code",
      "metadata": {
        "id": "yYoWQgcyF84X",
        "colab_type": "code",
        "colab": {}
      },
      "source": [
        ""
      ],
      "execution_count": 0,
      "outputs": []
    },
    {
      "cell_type": "markdown",
      "metadata": {
        "id": "ClB8wBr8GFyE",
        "colab_type": "text"
      },
      "source": [
        "# ERROR AND EXCEPTION HANDLING\n",
        "\n",
        "Introduction to Error & Exception: \n",
        "\n",
        "**Syntax Error & Exceptions** \n",
        "\n",
        "**Errors ** Logical Errors & Syntactic errors \n",
        "\n",
        "**Exception** Synchronous and Asynchronous \n",
        "\n",
        "**Logic error occurs due to poor understanding of the problem and its solution.**\n",
        "All those type of errors in which the program executes but gives incorrect results.  Logical error may occur due to wrong algorithm or logic to solve a particular program.  \n",
        "\n",
        "Many programmers may think of exception as a fatal run time error.  But programming language provide an elegant way to deal with these errors so that the program terminates elegantly, not abruptly.  \n",
        "\n",
        "\n",
        "**Syntax Error** arises due to poor understanding of the language, such errors can be detected by exhaustive debugging and testing of procedure.\n",
        "\n",
        "When we violate the rules of Python, they are the most common kind of error that we get while learning a new language.  \n",
        "\n",
        "**Exceptions** are run-time anomalies or unusual conditions (such as divide by zero, accessing arrays out of its bounds, running out of memory or disk space, overflow, underflow) that a program may encounter during execution.  \n",
        "\n",
        "Exception can be categorised as **synchronous & asynchronous** \n",
        "**Synchronous Exception** like divide by zero, array index out of bound can be controlled by the program.\n",
        "**Asynchronous exception** **Like interrupt from keyboard**, hardware malfunction, or disk failure, are caused by events that are beyond the control of the program.  \n",
        "\n",
        "Even if a statement is syntactically correct, it may still cause an error when executed.  Such errors that occur at run-time are known as exceptions.  \n",
        "\n",
        "An exception is an event which occurs during the execution of a program and disrupts the normal flow of program instructions.  \n",
        "\n",
        "**When a program encounters a situation which it cannot deal with it raises an exception.**\n",
        "\n",
        "When a program raises an exception, it must handle the exception or the program will be immediately terminated.  You can handle exception in program to end it gracefully, otherwise, if exception are not handled by programs, then error messages are generated.  \n",
        "\n",
        "**Standard exceptions names are built-in identifiers and not reserved keywords**\n",
        "\n",
        "The string printed as exception type (like TypeError) is the name of the built-in exception that occured.  \n",
        "\n",
        "# HANDLING EXCEPTIONS: \n",
        "\n",
        "By using the try block and except block, a programmer can handle exceptions.  \n",
        "A critical operation which can raise exception is placed inside the try block and the code that handles the exception is written in except block.  \n",
        "\n",
        "The syntax for try-except block can be given as ;\n",
        "\n",
        "try: \n",
        "  statements\n",
        "except ExceptionName:\n",
        "  statements\n",
        "\n",
        "try statement works as follows;\n",
        "\n",
        "Try block (statement between the try and the except keywords is executed.  \n",
        "\n",
        "Step2a : If no exception occurs, the except block is skipped.  \n",
        "\n",
        "Step2b : If an exception occurs, during the execution of any statement in the try block, then \n",
        "i. Rest of the statement in the try block are skipped. \n",
        "ii. If the exception type matches the exception named after the except keyword, the except block is executed and then execution continues after the try statement.  \n",
        "\n",
        "iii.  If an exceptioin occurs which does not match the exception named in the except block, then it is passed on to outer try block (in case of nested try block). If no exception handler is found in the program, then it is an unhandled exception and the program is terminated with an error message.  \n",
        "\n",
        "\n",
        "Program to handle the divide by zero exception: \n",
        "\n"
      ]
    },
    {
      "cell_type": "code",
      "metadata": {
        "id": "IXbNpl_OcvEe",
        "colab_type": "code",
        "outputId": "3c161212-5f93-4880-8bff-59ba74a533f7",
        "colab": {
          "base_uri": "https://localhost:8080/",
          "height": 68
        }
      },
      "source": [
        "num = int(input(\"Enter the numerator : \"))\n",
        "deno = int(input(\"Enter the denominator: \")) \n",
        "\n",
        "try:\n",
        "  quo = num/deno\n",
        "  print(\"QUOTIENT :  \", quo)\n",
        "except ZeroDivisionError:\n",
        "  print(\"Denominator cannot be zero\")\n"
      ],
      "execution_count": 0,
      "outputs": [
        {
          "output_type": "stream",
          "text": [
            "Enter the numerator : 100\n",
            "Enter the denominator: 0\n",
            "Denominator cannot be zero\n"
          ],
          "name": "stdout"
        }
      ]
    },
    {
      "cell_type": "markdown",
      "metadata": {
        "id": "YuLHgtqXdW_T",
        "colab_type": "text"
      },
      "source": [
        "**Notes** Exceptions gives you information like what, why and how something went wrong.  \n",
        "\n",
        "# MULTIPLE EXCEPT BLOCKS.\n",
        "\n",
        "The block which matches with the exception generated will get executed.  A try block can be associated with more than one except block to specify handlers for different exceptions.   However, only one handler will be executed.  \n",
        "\n",
        "Exception handlers only handle exceptions that occur in the corresponding try block.  \n",
        "\n",
        "We can write program that handle selected exceptions, the syntax is as under; \n",
        "\n",
        "try: \n",
        "operations are done in this block \n",
        "\n",
        "except Exception1: \n",
        "if there is Exception1, then execute this block. \n",
        "except Exception2: \n",
        "If there is Exception2, then execute this block.\n",
        "\n",
        "else:\n",
        "If there is no exception then execute this block.  \n",
        "\n",
        "\n",
        "\n",
        "The program below prompts the user to enter a number, then squares the number and prints its result.  However, if we do not specify any number or enter a non number, then an exception will be generated.   We have two except blocks.  The one matching the case will finally execute.  This is very much evident from the output. \n",
        "\n"
      ]
    },
    {
      "cell_type": "code",
      "metadata": {
        "id": "Ph1SPCxvfrZX",
        "colab_type": "code",
        "outputId": "359b58ee-e035-4a26-bb97-3283acfe53f7",
        "colab": {
          "base_uri": "https://localhost:8080/",
          "height": 68
        }
      },
      "source": [
        "try:\n",
        "  num = int(input(\"Enter the number :   \"))\n",
        "  print(num**2)\n",
        "except (KeyboardInterrupt):\n",
        "  print(\"You should have entered a number ...... Program Terminating\")\n",
        "except (ValueError):\n",
        "  print(\"Please check before you enter........ Program Terminating\")\n",
        "print(\"Bye\")"
      ],
      "execution_count": 0,
      "outputs": [
        {
          "output_type": "stream",
          "text": [
            "Enter the number :   zyx\n",
            "Please check before you enter........ Program Terminating\n",
            "Bye\n"
          ],
          "name": "stdout"
        }
      ]
    },
    {
      "cell_type": "markdown",
      "metadata": {
        "id": "9iysp9legVaY",
        "colab_type": "text"
      },
      "source": [
        "**Note** The except block without an exception can also be used to print an error message and then re-raise the exception.  \n",
        "\n",
        "# MULTIPLE EXCEPTION IN A SINGLE BLOCK:\n",
        "\n",
        "An except clause may name multiple exceptions as parenthesized tuple, so whatever exception is raised, out of the three exceptions specified, the same except block will be executed.  \n",
        "\n",
        "Program having an except clause handling multiple exceptions simultaneously. "
      ]
    },
    {
      "cell_type": "code",
      "metadata": {
        "id": "1z8jzu0mgfGH",
        "colab_type": "code",
        "outputId": "0ef277c6-a6bb-4462-aaa9-e0d85e73716f",
        "colab": {
          "base_uri": "https://localhost:8080/",
          "height": 68
        }
      },
      "source": [
        "try:\n",
        "  num = int(input(\"Enter the number : \"))\n",
        "  print(num**2)\n",
        "\n",
        "except(KeyboardInterrupt,ValueError,TypeError):\n",
        "  print(\"Please check before you enter ..... Program terminating...\")\n",
        "print(\"Bye\")"
      ],
      "execution_count": 0,
      "outputs": [
        {
          "output_type": "stream",
          "text": [
            "Enter the number : tac\n",
            "Please check before you enter ..... Program terminating...\n",
            "Bye\n"
          ],
          "name": "stdout"
        }
      ]
    },
    {
      "cell_type": "markdown",
      "metadata": {
        "id": "IgSRLyCHhujq",
        "colab_type": "text"
      },
      "source": [
        "# EXCEPT BLOCK WITHOUT EXCEPTION: \n",
        "\n",
        "The programmer can even specify except block without mentioning any exception.  This type of except block if present should be the last one that can serve as a wild card ( when multiple except blocks are present) \n",
        "\n",
        "In large program,s it is a better idea to write a **handler** that would catch all types of individual exception.  In such situations, a better idea is to write a handler that would catch all type of exceptions.  \n",
        "\n",
        "The syntax to define a handler that would catch every possible exception from the try block is : \n",
        "\n",
        "try: \n",
        "Write the operations here\n",
        "..............................\n",
        "except:\n",
        "If there is any exception, then execute this block. \n",
        "\n",
        "else:\n",
        "If there is no exception, then execute this block.  \n",
        "\n",
        "The except block can be used along with other exception handlers which handle some specific types of exceptions but those exceptions that are not handled by these specific handlers can be handeled by the except: block.  \n",
        "\n",
        "However, the default handler must be placed after all other except blocks because otherwise it would prevent any specific handler to be executed.  \n",
        "\n",
        "\n",
        "Program to demonstrate the use of except: block. \n"
      ]
    },
    {
      "cell_type": "code",
      "metadata": {
        "id": "dI0NDIgejOsr",
        "colab_type": "code",
        "colab": {}
      },
      "source": [
        "try:\n",
        "  file = open('File1.txt')\n",
        "  str =f.readline()\n",
        "  print(str)\n",
        "except IOError:\n",
        "  print(\" Error occured during Input  ....... Program Terminating\")\n",
        "\n",
        "except ValueError:\n",
        "  print(\"Could not convert data to an integer..\")\n",
        "\n",
        "except:\n",
        "  print(\"Unexpected error..... Program Terminating\")\n",
        "\n",
        "  "
      ],
      "execution_count": 0,
      "outputs": []
    },
    {
      "cell_type": "markdown",
      "metadata": {
        "id": "TNuVNk4-j25Z",
        "colab_type": "text"
      },
      "source": [
        "# THE else CLAUSE \n",
        "\n",
        "The try .... except block can optionally have an else clause, which, when present, must follow all except blocks.  "
      ]
    },
    {
      "cell_type": "code",
      "metadata": {
        "id": "hkR6uOhZlB23",
        "colab_type": "code",
        "colab": {}
      },
      "source": [
        "try:\n",
        "  file = open('File1.txt')\n",
        "  str = file.readline()\n",
        "  print(str)\n",
        "\n",
        "except IOError:\n",
        "  print(\"Error occured during Input...... program terminating\")\n",
        "\n",
        "else:\n",
        "  print(\"Program Terminating Successfully\")\n",
        "\n",
        "\n",
        "try: \n",
        "  file = open('File1.txt')\n",
        "  str = f.readline()\n",
        "  print(str)\n",
        "except:\n",
        "  print(\"Error occured ..... Program terminating\")\n",
        "\n",
        "else:\n",
        "  print(\"Program Terminating Successfully\")\n",
        "\n",
        "  "
      ],
      "execution_count": 0,
      "outputs": []
    },
    {
      "cell_type": "markdown",
      "metadata": {
        "id": "XwJ8wz9tl6re",
        "colab_type": "text"
      },
      "source": [
        "# RAISING EXCEPTIONS: \n",
        "You can deliberately raise an exception using the raise keyword.  The general syntax for the raise statement is \n",
        "\n",
        "**raise [Exception [, args [, traceback]]]\n",
        "\n",
        "Here, Exception is the name of the exception to be raised (example TypeError).  args is optional and specifies a value for the exception argument.  \n",
        "\n",
        "If args is not specified, then the exception argument is None.  \n",
        "The final argument, traceback, is also optional and if present, is the traceback object used for the exception.  \n",
        "\n",
        "The program below creates a variable and prints its value.  There was no error in the code but we have deliberately raised an exception.  "
      ]
    },
    {
      "cell_type": "code",
      "metadata": {
        "id": "FP2QDWY3mv0B",
        "colab_type": "code",
        "outputId": "0ec2b16e-70fd-449e-9e2c-3f3edb6807e0",
        "colab": {
          "base_uri": "https://localhost:8080/",
          "height": 51
        }
      },
      "source": [
        "try:\n",
        "  num = 10\n",
        "  print(num)\n",
        "  raise ValueError\n",
        "except:\n",
        "  print(\"Exception occurred ..... Program Terminating\")\n",
        "\n"
      ],
      "execution_count": 0,
      "outputs": [
        {
          "output_type": "stream",
          "text": [
            "10\n",
            "Exception occurred ..... Program Terminating\n"
          ],
          "name": "stdout"
        }
      ]
    },
    {
      "cell_type": "markdown",
      "metadata": {
        "id": "AQEQFMpMnQbD",
        "colab_type": "text"
      },
      "source": [
        "The only argument to the raise keyword specifies the exception to be raised.  \n",
        "We can re-raise exception in the except:block \n",
        "\n",
        "This is especially important when we want to determine whether an exception was raised but dont intend to handle it.  The code given below is used to re-raise an exception from the except: block.  \n",
        "\n",
        "Program to re-raise an exception: "
      ]
    },
    {
      "cell_type": "code",
      "metadata": {
        "id": "vg_p0UQwnsbM",
        "colab_type": "code",
        "outputId": "6cf61774-f749-4a51-e997-cd414fd45ae7",
        "colab": {
          "base_uri": "https://localhost:8080/",
          "height": 249
        }
      },
      "source": [
        "try:\n",
        "  raise NameError\n",
        "\n",
        "except:\n",
        "  print(\"Re-raising the exception\")\n",
        "  raise\n",
        "# Avoid using the except block without any exception."
      ],
      "execution_count": 0,
      "outputs": [
        {
          "output_type": "stream",
          "text": [
            "Re-raising the exception\n"
          ],
          "name": "stdout"
        },
        {
          "output_type": "error",
          "ename": "NameError",
          "evalue": "ignored",
          "traceback": [
            "\u001b[0;31m---------------------------------------------------------------------------\u001b[0m",
            "\u001b[0;31mNameError\u001b[0m                                 Traceback (most recent call last)",
            "\u001b[0;32m<ipython-input-9-eeedc96507d1>\u001b[0m in \u001b[0;36m<module>\u001b[0;34m()\u001b[0m\n\u001b[1;32m      1\u001b[0m \u001b[0;32mtry\u001b[0m\u001b[0;34m:\u001b[0m\u001b[0;34m\u001b[0m\u001b[0;34m\u001b[0m\u001b[0m\n\u001b[0;32m----> 2\u001b[0;31m   \u001b[0;32mraise\u001b[0m \u001b[0mNameError\u001b[0m\u001b[0;34m\u001b[0m\u001b[0;34m\u001b[0m\u001b[0m\n\u001b[0m\u001b[1;32m      3\u001b[0m \u001b[0;34m\u001b[0m\u001b[0m\n\u001b[1;32m      4\u001b[0m \u001b[0;32mexcept\u001b[0m\u001b[0;34m:\u001b[0m\u001b[0;34m\u001b[0m\u001b[0;34m\u001b[0m\u001b[0m\n\u001b[1;32m      5\u001b[0m   \u001b[0mprint\u001b[0m\u001b[0;34m(\u001b[0m\u001b[0;34m\"Re-raising the exception\"\u001b[0m\u001b[0;34m)\u001b[0m\u001b[0;34m\u001b[0m\u001b[0;34m\u001b[0m\u001b[0m\n",
            "\u001b[0;31mNameError\u001b[0m: "
          ]
        }
      ]
    },
    {
      "cell_type": "markdown",
      "metadata": {
        "id": "hLNbv8bNoOXR",
        "colab_type": "text"
      },
      "source": [
        "# INSTANTIATING EXCEPTIONS: \n",
        "\n",
        "Python allows the programmer to instantiate an exception first before raising it and add any attributes (or arguments) to it as desired.  \n",
        "\n",
        "These attributes can be used to give additional information about the error.  \n",
        "To instantiate the exception, the except block may specify a variable after the exception name.  \n",
        "\n",
        "The variable then becomes an exception instance with the arguments stored in instance.args.  \n",
        "\n",
        "The exception instance also has the __str__() method defined so that the argument can be printed directly without using instance.args. \n",
        "\n",
        "Program to understand the process of instantiating an exception.  "
      ]
    },
    {
      "cell_type": "code",
      "metadata": {
        "id": "Ttk-ZrWpoxe3",
        "colab_type": "code",
        "outputId": "66b3efc7-0001-4338-9f84-a73e9b559e04",
        "colab": {
          "base_uri": "https://localhost:8080/",
          "height": 102
        }
      },
      "source": [
        "try:\n",
        "  raise Exception('Hi', 'There')\n",
        "\n",
        "except Exception as errorObj:\n",
        "  print(type(errorObj))  # the exception instance\n",
        "  print(errorObj.args)  # the arguments stored in .args\n",
        "  print(errorObj)       # __str__ allows args to be printed directly \n",
        "\n",
        "  arg1, arg2 = errorObj.args\n",
        "  print('Argument1 =  ',arg1)\n",
        "  print('Argument2 =  ',arg2)"
      ],
      "execution_count": 0,
      "outputs": [
        {
          "output_type": "stream",
          "text": [
            "<class 'Exception'>\n",
            "('Hi', 'There')\n",
            "('Hi', 'There')\n",
            "Argument1 =   Hi\n",
            "Argument2 =   There\n"
          ],
          "name": "stdout"
        }
      ]
    },
    {
      "cell_type": "markdown",
      "metadata": {
        "id": "be7Xf38XqAEF",
        "colab_type": "text"
      },
      "source": [
        "**Note** If you raise an exception with arguments but do not handle it, then the name of the exception is printed along with its arguments.  \n",
        "\n",
        "Program to raise an exception with arguments.  "
      ]
    },
    {
      "cell_type": "code",
      "metadata": {
        "id": "RERLuDc_qLKi",
        "colab_type": "code",
        "colab": {}
      },
      "source": [
        "try:\n",
        "  raise Exception('Welcome', 'Python Programming')\n",
        "\n",
        "except ValueError:\n",
        "  print(\"Program Terminating.....\")\n"
      ],
      "execution_count": 0,
      "outputs": []
    },
    {
      "cell_type": "markdown",
      "metadata": {
        "id": "4Vy5DA1YqquS",
        "colab_type": "text"
      },
      "source": [
        "# HANDLING EXCEPTIONS IN INVOKED FUNCTIONS.\n",
        "\n",
        "Exceptions can be handled inside functions that are called in the try block.\n",
        "\n",
        "Program to handle exceptions from an invoked function. "
      ]
    },
    {
      "cell_type": "code",
      "metadata": {
        "id": "yXlVKaT_q7Mp",
        "colab_type": "code",
        "outputId": "d6f7ea2b-c5a3-42ab-dd1e-55cec4616dfe",
        "colab": {
          "base_uri": "https://localhost:8080/",
          "height": 34
        }
      },
      "source": [
        "def Divide(num,deno):\n",
        "  try:\n",
        "    quo = num/deno \n",
        "  except ZeroDivisionError:\n",
        "    print(\" You cannot divide a number by zero.. Program Terminating\")\n",
        "Divide(10,0)"
      ],
      "execution_count": 0,
      "outputs": [
        {
          "output_type": "stream",
          "text": [
            " You cannot divide a number by zero.. Program Terminating\n"
          ],
          "name": "stdout"
        }
      ]
    },
    {
      "cell_type": "markdown",
      "metadata": {
        "id": "TkPykztirY8X",
        "colab_type": "text"
      },
      "source": [
        "A large program is usually divided into n number of functions.  The possibility that the invoked function may generate an exceptional condition cannot be ignored.  \n",
        "\n",
        "The code below shows the scenario when the function invoked by the try block throws an exception which is handled by the except block in the calling function.  The syntax for such a situation can be given as : \n",
        "\n",
        "\n",
        "function name (arg list): \n",
        "--------------------\n",
        "--------------------\n",
        "\n",
        "try \n",
        "-------------------\n",
        "------------------\n",
        "function_name()   // function call \n",
        "-------------------\n",
        "\n",
        "except ExceptioName: \n",
        "-------------------\n",
        "\n",
        "// Code to handle exception \n",
        "-------------------------\n",
        "\n",
        "Throw Point \n",
        "\n",
        "Invoked function that \n",
        "generates an exception \n",
        "\n",
        "\n",
        "Try Block \n",
        "Invokes a function \n",
        "\n",
        "Except Block \n",
        "Catches and handles exception. \n",
        "**Note** Irrespective of the location of the exception, the try block is always immediately followed by the catch block.  \n",
        "\n",
        "\n",
        "The program given in the following example generates a divide by zero exception from a called function.  The main module has a try block from which a function Divide() is invoked.  In Divide(), the exception occurs which is thrown and is handled by the except block defined in the main module immediately followed by the try block.  \n",
        "\n",
        "Program to handle exception in the calling function.  \n",
        "\n"
      ]
    },
    {
      "cell_type": "code",
      "metadata": {
        "id": "v9d3X-x5srLk",
        "colab_type": "code",
        "outputId": "773a4a99-0752-4ced-c82a-cb2656bdb244",
        "colab": {
          "base_uri": "https://localhost:8080/",
          "height": 34
        }
      },
      "source": [
        "def Divide(num, deno):\n",
        "  return num/deno \n",
        "try:\n",
        "  Divide(10,0)\n",
        "except ZeroDivisionError:\n",
        "  print(\" You cannot divide a number by zero... Program terminating\")"
      ],
      "execution_count": 0,
      "outputs": [
        {
          "output_type": "stream",
          "text": [
            " You cannot divide a number by zero... Program terminating\n"
          ],
          "name": "stdout"
        }
      ]
    },
    {
      "cell_type": "markdown",
      "metadata": {
        "id": "pA4gZoin8uBQ",
        "colab_type": "text"
      },
      "source": [
        "**Note ** The program execution creates a stack as one function calls another.  When a funciton at the bottom of the stack raises an exception, it is propogated up through the call stack so that the funciton may handle it.  \n",
        "\n",
        "If no function handles it while moving towards top of the stack, the program terminates and a traceback is printed on the screen.  The traceback helps the programmer to identify what went wrong in the code.  \n",
        "\n",
        "# BUILT IN AND USER DEFINED EXCEPTION:\n",
        "\n",
        "Program to define a user-defined exception.  \n",
        "Python allows programmers to create their own exceptions by creating a new exception class.  The new exception class is derived from the base class Exception, which is pre-defined in Python.  The program given below explainns this concept. "
      ]
    },
    {
      "cell_type": "code",
      "metadata": {
        "id": "FJIInnHK-Tnj",
        "colab_type": "code",
        "outputId": "8f40304a-15e9-4c8c-927e-5fa4eaa03905",
        "colab": {
          "base_uri": "https://localhost:8080/",
          "height": 34
        }
      },
      "source": [
        "class myError(Exception):\n",
        "  def __init__(self,val):\n",
        "    self.val = val\n",
        "  \n",
        "  def __str__(self):\n",
        "    return repr(self.val)\n",
        "\n",
        "try:\n",
        "  raise myError(20)\n",
        "\n",
        "except myError as e:\n",
        "  print('User Defined Exception Generated with value',e.val)\n"
      ],
      "execution_count": 0,
      "outputs": [
        {
          "output_type": "stream",
          "text": [
            "User Defined Exception Generated with value 20\n"
          ],
          "name": "stdout"
        }
      ]
    },
    {
      "cell_type": "markdown",
      "metadata": {
        "id": "7ySRS1DQ_DTA",
        "colab_type": "text"
      },
      "source": [
        "In the above program, the __init__ method of exception class has been overridden by the new class.  The customized exception class can be used to perform any task. \n",
        "\n",
        "However, these classes are usually kept simple and have only limited attributes to provide information about the error to be extracted by handlers for the exception.\n",
        "\n",
        " Note that creating your own exception class or defining a user defined exception is known as custom exception.  \n",
        "\n",
        " **Note** An exception can be a string, a class or an object.  Most of the exception raised by python are classes, with an argument that is an instance of the class.  \n",
        "\n",
        " **Note** 'as' is a keyword that allows programmers to name a variable within an except statement.  \n",
        "\n",
        " Program to create sub-classes of Exception class to handle exception in a better customized way.  \n",
        "\n",
        " "
      ]
    },
    {
      "cell_type": "code",
      "metadata": {
        "id": "fC1Sxc91_8Mx",
        "colab_type": "code",
        "outputId": "abd2f207-6f3a-4e7d-f671-945aecfdb5c1",
        "colab": {
          "base_uri": "https://localhost:8080/",
          "height": 68
        }
      },
      "source": [
        "class Error(Exception):\n",
        "  def message(self):\n",
        "    raise NotImplementedError()  # raised when an abstract method that needs to be implemented in an inherited clas is not implemented. \n",
        "\n",
        "class InputError(Error):\n",
        "  def __init__(self, expr, msg):\n",
        "    self.expr = expr \n",
        "    self.msg = msg\n",
        "  \n",
        "  def message(self):\n",
        "    print(\"Error in input in expression\")\n",
        "    print(self.expr)\n",
        "\n",
        "try:\n",
        "  a = input(\"Enter a :  \")\n",
        "  raise InputError(\"input (\\\"Enter a : s \\\")\", \"Input Error\")\n",
        "except InputError as ie:\n",
        "  ie.message()"
      ],
      "execution_count": 0,
      "outputs": [
        {
          "output_type": "stream",
          "text": [
            "Enter a :  20\n",
            "Error in input in expression\n",
            "input (\"Enter a : s \")\n"
          ],
          "name": "stdout"
        }
      ]
    },
    {
      "cell_type": "markdown",
      "metadata": {
        "id": "KZFBQBXTBfgW",
        "colab_type": "text"
      },
      "source": [
        "Although there is no naming convention for naming a user-defined exception, it is better to define exceptions with names that end in \"Error\" to make it consistent with the naming of the standard exception.  \n",
        "\n",
        "**Note** Many standard modules define their own exceptions to report errors that may occur in functions they define.  "
      ]
    },
    {
      "cell_type": "markdown",
      "metadata": {
        "id": "4N7_qX37MF--",
        "colab_type": "text"
      },
      "source": [
        "# The finally BLOCK \n",
        "\n",
        "The try block has another optional block called finally which is used to define clean up action that must be executed under all circumstances.  \n",
        "\n",
        "The finally block is always executed before leaving the try block.  This means that the statements written in finally block are executed irrespective of whether an exception has occured or not.  \n",
        "\n",
        "The syntax of finally block can be given as :\n",
        "\n",
        "try:\n",
        "write your operations here\n",
        ".................................\n",
        "\n",
        "Due to any exception, operations written here will be skipped \n",
        "finally:\n",
        "This would always be executed.  \n",
        "\n",
        "Program with finally block that leaves the exception unhandled. \n"
      ]
    },
    {
      "cell_type": "code",
      "metadata": {
        "id": "bzCJ_tBfRcFP",
        "colab_type": "code",
        "outputId": "de4da533-30bb-4807-f094-d8e765c1bab2",
        "colab": {
          "base_uri": "https://localhost:8080/",
          "height": 266
        }
      },
      "source": [
        "try:\n",
        "  print(\"Raising Exceptions.........\")\n",
        "  raise ValueError \n",
        "finally:\n",
        "  print(\"Performing clean up in Finally......\")\n",
        "  "
      ],
      "execution_count": 0,
      "outputs": [
        {
          "output_type": "stream",
          "text": [
            "Raising Exceptions.........\n",
            "Performing clean up in Finally......\n"
          ],
          "name": "stdout"
        },
        {
          "output_type": "error",
          "ename": "ValueError",
          "evalue": "ignored",
          "traceback": [
            "\u001b[0;31m---------------------------------------------------------------------------\u001b[0m",
            "\u001b[0;31mValueError\u001b[0m                                Traceback (most recent call last)",
            "\u001b[0;32m<ipython-input-19-d910546231b5>\u001b[0m in \u001b[0;36m<module>\u001b[0;34m()\u001b[0m\n\u001b[1;32m      1\u001b[0m \u001b[0;32mtry\u001b[0m\u001b[0;34m:\u001b[0m\u001b[0;34m\u001b[0m\u001b[0;34m\u001b[0m\u001b[0m\n\u001b[1;32m      2\u001b[0m   \u001b[0mprint\u001b[0m\u001b[0;34m(\u001b[0m\u001b[0;34m\"Raising Exceptions.........\"\u001b[0m\u001b[0;34m)\u001b[0m\u001b[0;34m\u001b[0m\u001b[0;34m\u001b[0m\u001b[0m\n\u001b[0;32m----> 3\u001b[0;31m   \u001b[0;32mraise\u001b[0m \u001b[0mValueError\u001b[0m\u001b[0;34m\u001b[0m\u001b[0;34m\u001b[0m\u001b[0m\n\u001b[0m\u001b[1;32m      4\u001b[0m \u001b[0;32mfinally\u001b[0m\u001b[0;34m:\u001b[0m\u001b[0;34m\u001b[0m\u001b[0;34m\u001b[0m\u001b[0m\n\u001b[1;32m      5\u001b[0m   \u001b[0mprint\u001b[0m\u001b[0;34m(\u001b[0m\u001b[0;34m\"Performing clean up in Finally......\"\u001b[0m\u001b[0;34m)\u001b[0m\u001b[0;34m\u001b[0m\u001b[0;34m\u001b[0m\u001b[0m\n",
            "\u001b[0;31mValueError\u001b[0m: "
          ]
        }
      ]
    },
    {
      "cell_type": "markdown",
      "metadata": {
        "id": "BLn2_69dR00R",
        "colab_type": "text"
      },
      "source": [
        "From the above code, we can conclude that when an exception occurs in the try block and is not handled by an except block or if the exception occurs in the except or else block, then it is re-raised after executing the finally block.  \n",
        "\n",
        "The finally block is also executed when any block of the try block is exited via a break, continue or return statement.  \n",
        "\n",
        "Program to illustrate the use of try, except and finally block. "
      ]
    },
    {
      "cell_type": "code",
      "metadata": {
        "id": "3eGA7ns4SMyX",
        "colab_type": "code",
        "outputId": "902e36cd-8769-4b22-aa29-67911cd61165",
        "colab": {
          "base_uri": "https://localhost:8080/",
          "height": 68
        }
      },
      "source": [
        "try: \n",
        "  print(\"Raising Exception.......\")\n",
        "  raise ValueError\n",
        "\n",
        "except:\n",
        "  print(\"Exception caught. .....\")\n",
        "\n",
        "finally:                            # is executed when exception occurs/ not occurs\n",
        "  print(\"Performing clean up in Finally....\")"
      ],
      "execution_count": 0,
      "outputs": [
        {
          "output_type": "stream",
          "text": [
            "Raising Exception.......\n",
            "Exception caught. .....\n",
            "Performing clean up in Finally....\n"
          ],
          "name": "stdout"
        }
      ]
    },
    {
      "cell_type": "markdown",
      "metadata": {
        "id": "kPk_1WRvSm4T",
        "colab_type": "text"
      },
      "source": [
        "From the output, observe that the finally block is executed when exception occurs and also when an exception does not occur.\n",
        "\n",
        "In real world applications, the finally clause is useful for releasing external resources like file handles, network connections, memory resources, regardless of whether the use of the resource was successful.  \n",
        "\n",
        "**Note** You cannot have an else block with a finally block.  \n",
        "If you place the finally block immediately after the try block and followed by the execute block( may be in case of nested try block), then if an exception is raised in teh try block, the code in finally will be executed first.  \n",
        "\n",
        "The finally block will perform the operation written in it then re-raise the exception.  This exception will be handled by the except block if present in the next higher layer of the try-except block.  \n",
        "\n",
        "Program having finally block to re-raise the exception that will be handed by an outer try-except block.  "
      ]
    },
    {
      "cell_type": "code",
      "metadata": {
        "id": "iq5_a011Wic8",
        "colab_type": "code",
        "outputId": "9b13d1cb-de33-4e44-b595-8592e513ff41",
        "colab": {
          "base_uri": "https://localhost:8080/",
          "height": 68
        }
      },
      "source": [
        "try: \n",
        "  print(\"Dividing Strings......\")\n",
        "  try:\n",
        "    quo = \"abc\" / \"def\"\n",
        "  finally:\n",
        "    print(\"In finally block...........\")\n",
        "\n",
        "except TypeError:\n",
        "  print(\" In except block.... handling TypeError......\")\n",
        "  "
      ],
      "execution_count": 0,
      "outputs": [
        {
          "output_type": "stream",
          "text": [
            "Dividing Strings......\n",
            "In finally block...........\n",
            " In except block.... handling TypeError......\n"
          ],
          "name": "stdout"
        }
      ]
    },
    {
      "cell_type": "markdown",
      "metadata": {
        "id": "BnuUso5jYiqg",
        "colab_type": "text"
      },
      "source": [
        "# PRE-DEFINED CLEAN UP ACTION. \n",
        "\n",
        "In python some objects define standard clean up actions that are automatically performed when the object is no longer needed.  \n",
        "The default clean up action is performed irrespective of whether the operation using the object succeeded or failed.  \n",
        "\n",
        "Consider the code given below, which opens a file to print its contents on the screen: \n",
        "\n",
        "file = open('File1.txt')\n",
        "str = file.readline()\n",
        "print(str)\n",
        "\n",
        "The code is perfectly alright except for one thing that it does not close the file after use.  So the file is opened for an indeterminate amount of time after the code has finished executing.  \n",
        "\n",
        "The with statement allows object like files to be cleaned up when not in use.  \n",
        "\n",
        "The better version of the code given is \n",
        "\n",
        "with open ('File1.txt) as file:\n",
        "for line in file:\n",
        "print(line)\n",
        "\n",
        "OUTPUT\n",
        "\n",
        "Hello\n",
        "# Welcome to the world of Python Programming. Python is a very simple and iteresting language. \n",
        "\n",
        "Happy Reading.  \n",
        "\n",
        "After printing the contents of the file there are no more statements to execute.  So just, before the program completes its execution, the file is closed.  \n",
        "\n",
        "**Many Standard modules define exception in a separate file known as exceptions.py or errors.py** \n",
        "\n"
      ]
    },
    {
      "cell_type": "markdown",
      "metadata": {
        "id": "nshXDc4KaUyp",
        "colab_type": "text"
      },
      "source": [
        "# RE-RAISING EXCEPTION\n",
        "\n",
        "Python allows programmers to re-raise an exception.  For example an exception thrown from the try block can be handled as well as re-raise in the except block using the keyword raise.  \n",
        "\n",
        "The code below illustrates this: "
      ]
    },
    {
      "cell_type": "code",
      "metadata": {
        "id": "XYi5D77Vankw",
        "colab_type": "code",
        "outputId": "dfd70baf-37ac-4a49-bcc5-811c6eb20cdd",
        "colab": {
          "base_uri": "https://localhost:8080/",
          "height": 249
        }
      },
      "source": [
        "try:\n",
        "  f = open(\"Xyz098.txt\")  # opening a non-existent file.\n",
        "except:\n",
        "  print(\"File does not exists\")\n",
        "  raise   #  re-raise the caught exception "
      ],
      "execution_count": 0,
      "outputs": [
        {
          "output_type": "stream",
          "text": [
            "File does not exists\n"
          ],
          "name": "stdout"
        },
        {
          "output_type": "error",
          "ename": "FileNotFoundError",
          "evalue": "ignored",
          "traceback": [
            "\u001b[0;31m---------------------------------------------------------------------------\u001b[0m",
            "\u001b[0;31mFileNotFoundError\u001b[0m                         Traceback (most recent call last)",
            "\u001b[0;32m<ipython-input-22-78a9e8fa0f5c>\u001b[0m in \u001b[0;36m<module>\u001b[0;34m()\u001b[0m\n\u001b[1;32m      1\u001b[0m \u001b[0;32mtry\u001b[0m\u001b[0;34m:\u001b[0m\u001b[0;34m\u001b[0m\u001b[0;34m\u001b[0m\u001b[0m\n\u001b[0;32m----> 2\u001b[0;31m   \u001b[0mf\u001b[0m \u001b[0;34m=\u001b[0m \u001b[0mopen\u001b[0m\u001b[0;34m(\u001b[0m\u001b[0;34m\"Xyz098.txt\"\u001b[0m\u001b[0;34m)\u001b[0m  \u001b[0;31m# opening a non-existent file.\u001b[0m\u001b[0;34m\u001b[0m\u001b[0;34m\u001b[0m\u001b[0m\n\u001b[0m\u001b[1;32m      3\u001b[0m \u001b[0;32mexcept\u001b[0m\u001b[0;34m:\u001b[0m\u001b[0;34m\u001b[0m\u001b[0;34m\u001b[0m\u001b[0m\n\u001b[1;32m      4\u001b[0m   \u001b[0mprint\u001b[0m\u001b[0;34m(\u001b[0m\u001b[0;34m\"File does not exists\"\u001b[0m\u001b[0;34m)\u001b[0m\u001b[0;34m\u001b[0m\u001b[0;34m\u001b[0m\u001b[0m\n\u001b[1;32m      5\u001b[0m   \u001b[0;32mraise\u001b[0m   \u001b[0;31m#  re-raise the caught exception\u001b[0m\u001b[0;34m\u001b[0m\u001b[0;34m\u001b[0m\u001b[0m\n",
            "\u001b[0;31mFileNotFoundError\u001b[0m: [Errno 2] No such file or directory: 'Xyz098.txt'"
          ]
        }
      ]
    },
    {
      "cell_type": "markdown",
      "metadata": {
        "id": "yqs36K-BbIe0",
        "colab_type": "text"
      },
      "source": [
        "** Note** To re-raise use the raise keyword without any arguments.  \n",
        "\n",
        "# ASSERTIONS:\n",
        "\n",
        "An assertion is a basic check that can be turned on or off when the program is being tested.  \n",
        "\n",
        "You can imagine assert as raise-if statement ( or a raise-if not statement)\n",
        "\n",
        "Using assert statement, an expression is tested, and if the result of the expression is False then an exception is raised.  \n",
        "\n",
        "The assert statement is intended for debugging statement.  It can be seen as an abbreviated notation for a conditional raise statement.  \n",
        "\n",
        "In Python, assertion are implemented using assert keyword.  **Assertions are usually placed at the start of the funciton to check for valid input,  and after a funciton call to check for the valid input**.  \n",
        "\n",
        "When Python encounters an assert statement, the expression associated with it is calculated and if the expression if False, an AssertionError is raised.  The syntax for assert statement is: \n",
        "\n",
        "** assert expression [, arguments]** \n",
        "\n",
        "If the expression is False (also known as assertion fails).  \n",
        "Python uses ArgumentExpression as the argumkent for the AssertionError.  \n",
        "\n",
        "AssertionError exception can be caught and handled like any other exception using the try-except block.  \n",
        "\n",
        "However, if the AssertionError is not handled by the program, the program will be terminated and an error message will be displayed.  Assert statement is semantically equivalent to writing.  \n",
        "\n",
        "assert <expression>, <message> \n",
        "\n",
        "The above statement means if the expression evaluates to False, an exception is raised and <message> will be printed on the screen.  \n",
        "\n",
        "Consider the program given below.  The program prompts a user the temperature in Celsius.  If the temperature is greater than 32 degree Fahreheit, then AssertionError is raised.  Since the exception is not handled, the program is abruptly terminated with an error message.\n",
        "\n",
        "**Note** assert statement should be used for trapping user defined constraints.  \n",
        "\n",
        "\n",
        "Program to use assert statement.  \n",
        "\n",
        "\n"
      ]
    },
    {
      "cell_type": "code",
      "metadata": {
        "id": "JXyd6REtfVm8",
        "colab_type": "code",
        "colab": {}
      },
      "source": [
        "c = int(input(\"Enter the temperature in Celsius : \"))\n",
        "f = ( c * 9/5) + 32 \n",
        "assert(f<=32), \"Its freezing\"\n",
        "print(\"Temperature in Fahrenheit =    \",f)"
      ],
      "execution_count": 0,
      "outputs": []
    },
    {
      "cell_type": "markdown",
      "metadata": {
        "id": "0Na4nRl0f5Dx",
        "colab_type": "text"
      },
      "source": [
        "Progammers should not catch exception that you cannot handle.  \n",
        "User defined exceptions can be very useful if some complex or specific information has to be stored in exception instances. \n",
        "\n",
        "Do not create new exceptions classes when the built-in exception already have all the functionality you need.  \n",
        "\n",
        "Programming Examples: \n",
        "\n",
        "Write a program that prompts the user to enter a number and prints its square.  IF no number is entered (Control + C is pressed), then a KeyboardInterrupt is generated.   "
      ]
    },
    {
      "cell_type": "code",
      "metadata": {
        "id": "TFQzNxALNepO",
        "colab_type": "code",
        "outputId": "64362084-9e5a-4cbc-8849-47bd79a7b435",
        "colab": {
          "base_uri": "https://localhost:8080/",
          "height": 68
        }
      },
      "source": [
        "num = int(input(\"Enter the numerator:   \"))\n",
        "deno = int(input(\"Enter the denominator :   \"))\n",
        "try:\n",
        "  quo = num/deno \n",
        "  print(\"QUOTIENT :   \", quo)\n",
        "except ZeroDivisionError:\n",
        "  print(\"Denominator cannot be zero\")"
      ],
      "execution_count": 0,
      "outputs": [
        {
          "output_type": "stream",
          "text": [
            "Enter the numerator:   300\n",
            "Enter the denominator :   0\n",
            "Denominator cannot be zero\n"
          ],
          "name": "stdout"
        }
      ]
    },
    {
      "cell_type": "markdown",
      "metadata": {
        "id": "ipoD15nXN_2A",
        "colab_type": "text"
      },
      "source": [
        "Write a program that opens a file and writes data to it.  Handle exceptions that can be generated duringthe I/O operations. \n",
        "\n",
        "\n",
        "Assert should not be used to catch divide by zero errors because python traps such programming errors as well. "
      ]
    },
    {
      "cell_type": "code",
      "metadata": {
        "id": "bzqapOehOGOt",
        "colab_type": "code",
        "outputId": "1b29e509-8636-4ba0-c8d7-3eda24071ebc",
        "colab": {
          "base_uri": "https://localhost:8080/",
          "height": 34
        }
      },
      "source": [
        "try:\n",
        "  with open('myfile.txt', 'w') as file:\n",
        "    file.write(\"Hello, Good Morning !!!\")\n",
        "except IOError:\n",
        "  print(\"Error working with this file\")\n",
        "else:\n",
        "  print(\"File Writing is Successful\")"
      ],
      "execution_count": 0,
      "outputs": [
        {
          "output_type": "stream",
          "text": [
            "File Writing is Successful\n"
          ],
          "name": "stdout"
        }
      ]
    },
    {
      "cell_type": "markdown",
      "metadata": {
        "id": "_FCRp_Q5Oz1e",
        "colab_type": "text"
      },
      "source": [
        "Write a program that deliberately raises a user-defined SocketError with any number of arguments and derived from class Runtime.  "
      ]
    },
    {
      "cell_type": "code",
      "metadata": {
        "id": "sQL58YCRO8t-",
        "colab_type": "code",
        "outputId": "05e3bb68-f64f-45cc-84bd-7cae964b3bd0",
        "colab": {
          "base_uri": "https://localhost:8080/",
          "height": 34
        }
      },
      "source": [
        "class SocketError(RuntimeError):\n",
        "  def __init__(self,*arg):  # * because any number of arguments may be passed\n",
        "    self.args = arg\n",
        "\n",
        "try:\n",
        "  raise SocketError('Socket', 'Establishment', 'Error')\n",
        "except SocketError as e:\n",
        "  print(e.args)\n",
        "     \n"
      ],
      "execution_count": 0,
      "outputs": [
        {
          "output_type": "stream",
          "text": [
            "('Socket', 'Establishment', 'Error')\n"
          ],
          "name": "stdout"
        }
      ]
    },
    {
      "cell_type": "markdown",
      "metadata": {
        "id": "TfvN8ZffP5Hy",
        "colab_type": "text"
      },
      "source": [
        "Write a program that prompts the user to enter a number.  If the number is positive or zero print it, otherwise raise an exception. "
      ]
    },
    {
      "cell_type": "code",
      "metadata": {
        "id": "CVbigcnuQAy2",
        "colab_type": "code",
        "outputId": "ef5926a9-accf-40a0-fc80-fc7d4a4be97e",
        "colab": {
          "base_uri": "https://localhost:8080/",
          "height": 51
        }
      },
      "source": [
        "try:\n",
        "  num = int(input(\"Enter the number :   \"))\n",
        "  if num >=0:\n",
        "    print(num)\n",
        "  else:\n",
        "    raise ValueError(\"Negative number not allowed\")\n",
        "except ValueError as e:\n",
        "  print(e)"
      ],
      "execution_count": 0,
      "outputs": [
        {
          "output_type": "stream",
          "text": [
            "Enter the number :   -11\n",
            "Negative number not allowed\n"
          ],
          "name": "stdout"
        }
      ]
    },
    {
      "cell_type": "markdown",
      "metadata": {
        "id": "BoSAhkgFQbO6",
        "colab_type": "text"
      },
      "source": [
        "Write a number game program.  Ask the user to enter a number.  If the number is greater than to be guessed, raise a ValueTooLarge exception.\n",
        "If the value is small the number to be guessed then, raise a ValueTooSmall exception and prompt the user to enter again.  \n",
        "\n",
        "Quit the program only when the user enters the correct number.  \n",
        "\n"
      ]
    },
    {
      "cell_type": "code",
      "metadata": {
        "id": "TFpfec79QvT3",
        "colab_type": "code",
        "outputId": "318d843f-7292-4471-d25c-ef1bea37be10",
        "colab": {
          "base_uri": "https://localhost:8080/",
          "height": 119
        }
      },
      "source": [
        "class ValueTooSmallError(Exception):\n",
        "  def display(self):\n",
        "    print(\"Input value is too small\")\n",
        "\n",
        "class ValueTooLargeError(Exception):\n",
        "  def display(self):\n",
        "    print(\"Input value too large\")\n",
        "\n",
        "max = 100\n",
        "while 1:\n",
        "  try:\n",
        "    num = int(input(\"Enter a number:  \"))\n",
        "    if num == max:\n",
        "      print(\"Great you succeeded\")\n",
        "      break\n",
        "    if num < max:\n",
        "      raise ValueTooSmallError\n",
        "\n",
        "    elif num > max :\n",
        "      raise ValueTooLargeError\n",
        "\n",
        "  except ValueTooSmallError as s:\n",
        "    s.display()\n",
        "  except ValueTooLargeError as l:\n",
        "    l.display()"
      ],
      "execution_count": 0,
      "outputs": [
        {
          "output_type": "stream",
          "text": [
            "Enter a number:  23\n",
            "Input value is too small\n",
            "Enter a number:  102\n",
            "Input value too large\n",
            "Enter a number:  100\n",
            "Great you succeeded\n"
          ],
          "name": "stdout"
        }
      ]
    },
    {
      "cell_type": "markdown",
      "metadata": {
        "id": "2MSoJ0Z2SmZa",
        "colab_type": "text"
      },
      "source": [
        "Write a program that prints the first 30 numbers.  Each number should be printed after a fixed short interval of time.  \n",
        "\n",
        "Make use of a timer which prints each number when the timer goes off and exception is generated.  "
      ]
    },
    {
      "cell_type": "code",
      "metadata": {
        "id": "oOab3AVsSxy6",
        "colab_type": "code",
        "outputId": "debfdf8a-d97c-47c0-b06b-335be07b017e",
        "colab": {
          "base_uri": "https://localhost:8080/",
          "height": 34
        }
      },
      "source": [
        "class TimeUp(Exception):\n",
        "  pass \n",
        "\n",
        "def message(c):\n",
        "  start_timer = 0 \n",
        "  stop_timer = 10000000\n",
        "  count = start_timer\n",
        "  try:\n",
        "    while True:\n",
        "      count += 1\n",
        "      if count == stop_timer:\n",
        "        raise TimeUp\n",
        "  except TimeUp as t:\n",
        "    print(c, end = \"  \")\n",
        "\n",
        "for i in range(51):\n",
        "  message(i)"
      ],
      "execution_count": 0,
      "outputs": [
        {
          "output_type": "stream",
          "text": [
            "0  1  2  3  4  5  6  7  8  9  10  11  12  13  14  15  16  17  18  19  20  21  22  23  24  25  26  27  28  29  30  31  32  33  34  35  36  37  38  39  40  41  42  43  44  45  46  47  48  49  50  "
          ],
          "name": "stdout"
        }
      ]
    },
    {
      "cell_type": "markdown",
      "metadata": {
        "id": "bdtDSiX4UGbk",
        "colab_type": "text"
      },
      "source": [
        "Write a program which infinitely prints natural numbers.\n",
        "Raise the stopIteration exception after displaying first 20 numbers to exit from the program. "
      ]
    },
    {
      "cell_type": "code",
      "metadata": {
        "id": "R36ke4czUR13",
        "colab_type": "code",
        "colab": {}
      },
      "source": [
        "def display(n):\n",
        "  while True:\n",
        "    try:\n",
        "      n = n+1\n",
        "      if n == 21:\n",
        "        raise StopIteration\n",
        "    except StopIteration:\n",
        "      break\n",
        "    else:\n",
        "      print(n, end = \"  \")\n",
        "i = 0\n",
        "display(i)"
      ],
      "execution_count": 0,
      "outputs": []
    },
    {
      "cell_type": "markdown",
      "metadata": {
        "id": "BOsiinKQVFmw",
        "colab_type": "text"
      },
      "source": [
        "Write a program that randomly generates a number.  Raise a user-defined exception if the number is below 0.1"
      ]
    },
    {
      "cell_type": "code",
      "metadata": {
        "id": "Q8tdT5qWVNGN",
        "colab_type": "code",
        "outputId": "01ffde72-c6ad-4899-a687-200736bf800e",
        "colab": {
          "base_uri": "https://localhost:8080/",
          "height": 34
        }
      },
      "source": [
        "import random\n",
        "class RandomError(Exception):\n",
        "  pass\n",
        "\n",
        "try:\n",
        "  num = random.random()\n",
        "  if num < 0.1:\n",
        "    raise RandomError\n",
        "except RandomError as e:\n",
        "  print(\"Random Error Generated......\")\n",
        "else:\n",
        "  print(\"%.f\"%num)"
      ],
      "execution_count": 0,
      "outputs": [
        {
          "output_type": "stream",
          "text": [
            "Random Error Generated......\n"
          ],
          "name": "stdout"
        }
      ]
    },
    {
      "cell_type": "markdown",
      "metadata": {
        "id": "mwRJ1Vj_WA5K",
        "colab_type": "text"
      },
      "source": [
        "**Note**  Code in else block is executed if no exception was raised in the try block.  \n",
        "\n",
        "\n",
        "Write a program that validdates name and age as entered by the user to determine whether the person can cast vote or not.  "
      ]
    },
    {
      "cell_type": "code",
      "metadata": {
        "id": "1WAwDxbHWIIR",
        "colab_type": "code",
        "outputId": "a1f3a9b1-b4aa-479f-db3d-4c1d37adc17b",
        "colab": {
          "base_uri": "https://localhost:8080/",
          "height": 68
        }
      },
      "source": [
        "class invalidAge(Exception):\n",
        "  def display(self):\n",
        "    print(\"Sorry !!!  Age cannot be below 18....... You cannot vote....\")\n",
        "\n",
        "class invalidName(Exception):\n",
        "  def display(self):\n",
        "    print(\" Please enter a valid name...........\")\n",
        "\n",
        "try:\n",
        "  name = input(\"Enter the name :    \")\n",
        "  if len(name) == 0:\n",
        "    raise invalidName\n",
        "  \n",
        "  age = int(input(\"Enter the age :    \"))\n",
        "  if age < 18 :\n",
        "    raise invalidAge\n",
        "\n",
        "except invalidName as n:\n",
        "  n.display()\n",
        "\n",
        "except invalidAge as e:\n",
        "  e.display()\n",
        "\n",
        "else:\n",
        "  print(name, \"Congratulations !!! you can vote\")"
      ],
      "execution_count": 0,
      "outputs": [
        {
          "output_type": "stream",
          "text": [
            "Enter the name :    Gabriel\n",
            "Enter the age :    13\n",
            "Sorry !!!  Age cannot be below 18....... You cannot vote....\n"
          ],
          "name": "stdout"
        }
      ]
    }
  ]
}