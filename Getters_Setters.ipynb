{
  "nbformat": 4,
  "nbformat_minor": 0,
  "metadata": {
    "colab": {
      "name": "Getters-Setters.ipynb",
      "provenance": [],
      "authorship_tag": "ABX9TyM09TSAkbJN5w6zbriZAIPX",
      "include_colab_link": true
    },
    "kernelspec": {
      "name": "python3",
      "display_name": "Python 3"
    }
  },
  "cells": [
    {
      "cell_type": "markdown",
      "metadata": {
        "id": "view-in-github",
        "colab_type": "text"
      },
      "source": [
        "<a href=\"https://colab.research.google.com/github/vijendranp/Python--Computational-Approach/blob/master/Getters_Setters.ipynb\" target=\"_parent\"><img src=\"https://colab.research.google.com/assets/colab-badge.svg\" alt=\"Open In Colab\"/></a>"
      ]
    },
    {
      "cell_type": "code",
      "metadata": {
        "id": "nGBmktnf0ZwM",
        "colab_type": "code",
        "colab": {}
      },
      "source": [
        ""
      ],
      "execution_count": 0,
      "outputs": []
    },
    {
      "cell_type": "markdown",
      "metadata": {
        "id": "CAfHCFZf0euD",
        "colab_type": "text"
      },
      "source": [
        "# GETTERS, SETTERS, @ PROPERTY AND @ DELETER\n",
        "\n",
        "The getters and setters methods are used in many object oriented programming language to provide data encapsulation (binding data and functions in a single entity).  They are also known as **Mutator** methods.  \n",
        "\n",
        "While getter method is used for retrieving data, setter method, on the other hand, is used to set a new value for thet data ( for changing the data)  \n",
        "\n",
        "Program that uses get and set functions to retrieve and set a value.  "
      ]
    },
    {
      "cell_type": "code",
      "metadata": {
        "id": "x3RWmtOE1OO6",
        "colab_type": "code",
        "colab": {
          "base_uri": "https://localhost:8080/",
          "height": 34
        },
        "outputId": "32483832-37db-4017-d0bc-eb390e429ab9"
      },
      "source": [
        "class Sample:\n",
        "  def __init__(self,val):\n",
        "    self.val = val \n",
        "\n",
        "  def get_val(self):\n",
        "    return self.val\n",
        "\n",
        "  def set_val(self,val):\n",
        "    self.val = val\n",
        "\n",
        "S = Sample(20)\n",
        "S.set_val(30)\n",
        "print(S.get_val())\n",
        "\n",
        "\n"
      ],
      "execution_count": 6,
      "outputs": [
        {
          "output_type": "stream",
          "text": [
            "30\n"
          ],
          "name": "stdout"
        }
      ]
    },
    {
      "cell_type": "markdown",
      "metadata": {
        "id": "yygqBvcxCXCG",
        "colab_type": "text"
      },
      "source": [
        "Program to demonstrate @property and @setter "
      ]
    },
    {
      "cell_type": "code",
      "metadata": {
        "id": "N6QYohVcCCWp",
        "colab_type": "code",
        "colab": {}
      },
      "source": [
        "class Sample:\n",
        "  def __init__(self,val):\n",
        "    self.val = val\n",
        "    @property\n",
        "    \n",
        "  def val(self):\n",
        "    return self.__val\n",
        "    @val.setter\n",
        "    \n",
        "  def val(self,val):\n",
        "    self.__val = val\n",
        "S = Sample(30)\n",
        "S.val = 200\n",
        "print(S.val)\n"
      ],
      "execution_count": 0,
      "outputs": []
    },
    {
      "cell_type": "markdown",
      "metadata": {
        "id": "SjnVt3jPEQyb",
        "colab_type": "text"
      },
      "source": [
        "Program for getting and setting values by using getter and setter methods. "
      ]
    },
    {
      "cell_type": "code",
      "metadata": {
        "id": "PXRJSksXEWS6",
        "colab_type": "code",
        "colab": {
          "base_uri": "https://localhost:8080/",
          "height": 34
        },
        "outputId": "676542af-8668-48b4-956c-e339d99b0d68"
      },
      "source": [
        "class Sample:\n",
        "  def __init__(self,val):\n",
        "    self.val = val\n",
        "\n",
        "  def get_val(self):\n",
        "    return self.__val\n",
        "\n",
        "  def set_val(self,val):\n",
        "    self.__val = val\n",
        "\n",
        "    val = property(get_val,set_val)\n",
        "\n",
        "S = Sample(40)\n",
        "S.val = 300\n",
        "print(S.val)"
      ],
      "execution_count": 14,
      "outputs": [
        {
          "output_type": "stream",
          "text": [
            "300\n"
          ],
          "name": "stdout"
        }
      ]
    },
    {
      "cell_type": "markdown",
      "metadata": {
        "id": "hCxE7SooFWVl",
        "colab_type": "text"
      },
      "source": [
        "Program to demonstrate private getter and setter methods. "
      ]
    },
    {
      "cell_type": "code",
      "metadata": {
        "id": "OVDam-5qFaQ7",
        "colab_type": "code",
        "colab": {
          "base_uri": "https://localhost:8080/",
          "height": 34
        },
        "outputId": "4185e2db-7311-483f-ec04-590c8df125d8"
      },
      "source": [
        "class Sample:\n",
        "  def __init__(self,val):\n",
        "    self.__val = val\n",
        "\n",
        "  def __get_val(self):  # double underscore means private method\n",
        "    return self.__val\n",
        "\n",
        "  def __set_val(self,val):\n",
        "    self.__val = val\n",
        "  val = property(__get_val,__set_val)\n",
        "\n",
        "\n",
        "S = Sample(45)\n",
        "S.val = 345\n",
        "print(S.val)"
      ],
      "execution_count": 15,
      "outputs": [
        {
          "output_type": "stream",
          "text": [
            "345\n"
          ],
          "name": "stdout"
        }
      ]
    },
    {
      "cell_type": "markdown",
      "metadata": {
        "id": "wVGWFcc1GYTT",
        "colab_type": "text"
      },
      "source": [
        "Suppose we created a class with student attributes -- first_name and last_name, but at a later point of time, we want to change the class to have a combined name.\n",
        "\n",
        "For this we can write a method called name, which returns the full name using @property decorator which lets a method behaves like an attribute.  The code illustrating this concept is given below: \n"
      ]
    },
    {
      "cell_type": "code",
      "metadata": {
        "id": "5yNa3LY5G4Fb",
        "colab_type": "code",
        "colab": {
          "base_uri": "https://localhost:8080/",
          "height": 34
        },
        "outputId": "3b6263fb-b4db-4baf-92c3-94656290798a"
      },
      "source": [
        "class Student:\n",
        "  def __init__(self,first_name,last_name):\n",
        "    self.__first_name = first_name\n",
        "    self.__last_name = last_name \n",
        "  @property\n",
        "\n",
        "  def name(self): method using property decorator\n",
        "    return \"%s  %s\" %(self.__first_name,self.__last_name)\n",
        "S = Student(\"Vincent\", \"Gabriel\")\n",
        "print(S.name)"
      ],
      "execution_count": 16,
      "outputs": [
        {
          "output_type": "stream",
          "text": [
            "Vincent  Gabriel\n"
          ],
          "name": "stdout"
        }
      ]
    },
    {
      "cell_type": "markdown",
      "metadata": {
        "id": "Yh_2JIbnH5VC",
        "colab_type": "text"
      },
      "source": [
        "Program to demonstrate deleter method. "
      ]
    },
    {
      "cell_type": "code",
      "metadata": {
        "id": "UJydeLddH9om",
        "colab_type": "code",
        "colab": {
          "base_uri": "https://localhost:8080/",
          "height": 34
        },
        "outputId": "78f1fafd-e456-4578-b349-604e97e96921"
      },
      "source": [
        "class Sample:\n",
        "  def __builtin__(self,val):\n",
        "    self.val = val \n",
        "  @property\n",
        "  \n",
        "  def val(self):\n",
        "    return self.__val\n",
        "  @val.setter\n",
        "\n",
        "  def val(self,val):\n",
        "    self.__val = val\n",
        "  @val.deleter\n",
        "  \n",
        "  def val(self):\n",
        "    del self.val\n",
        "\n",
        "S = Sample()\n",
        "S.val= 300\n",
        "print(S.val)"
      ],
      "execution_count": 26,
      "outputs": [
        {
          "output_type": "stream",
          "text": [
            "300\n"
          ],
          "name": "stdout"
        }
      ]
    },
    {
      "cell_type": "markdown",
      "metadata": {
        "id": "XfEUhQUvJcH0",
        "colab_type": "text"
      },
      "source": [
        "Program that implements a class Square having a getter function to return the area of a square."
      ]
    },
    {
      "cell_type": "code",
      "metadata": {
        "id": "YulWnZfdJkFr",
        "colab_type": "code",
        "colab": {}
      },
      "source": [
        "class Square:\n",
        "  def __builtin__(self,side):\n",
        "    self.__side = side \n",
        "  @property \n",
        "\n",
        "  def area(self):  # area method acts as getter\n",
        "    return self.__side * self.__side\n",
        "S = Square()\n",
        "print(S.area)"
      ],
      "execution_count": 0,
      "outputs": []
    },
    {
      "cell_type": "code",
      "metadata": {
        "id": "ohoDHfqEDjTP",
        "colab_type": "code",
        "colab": {}
      },
      "source": [
        ""
      ],
      "execution_count": 0,
      "outputs": []
    }
  ]
}