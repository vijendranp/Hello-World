{
  "nbformat": 4,
  "nbformat_minor": 0,
  "metadata": {
    "colab": {
      "name": "Copy of PythonML-Practice.ipynb",
      "provenance": [],
      "authorship_tag": "ABX9TyMIDxnuUsQi1h2vBzs+IWML",
      "include_colab_link": true
    },
    "kernelspec": {
      "name": "python3",
      "display_name": "Python 3"
    }
  },
  "cells": [
    {
      "cell_type": "markdown",
      "metadata": {
        "id": "view-in-github",
        "colab_type": "text"
      },
      "source": [
        "<a href=\"https://colab.research.google.com/github/vijendranp/Hello-World/blob/master/Copy_of_PythonML_Practice.ipynb\" target=\"_parent\"><img src=\"https://colab.research.google.com/assets/colab-badge.svg\" alt=\"Open In Colab\"/></a>"
      ]
    },
    {
      "cell_type": "code",
      "metadata": {
        "id": "3TeXv5t2Y3ZC",
        "colab_type": "code",
        "colab": {}
      },
      "source": [
        "# program students \n",
        "\n",
        "\n",
        "class student:\n",
        "  __marks = []\n",
        "\n",
        "  def set_data(self,r,n,m1,m2,m3):\n",
        "    student.__rollno = r\n",
        "    student.__name = n\n",
        "    student.__marks.append(m1)\n",
        "    student.__marks.append(m2)\n",
        "    student.__marks.append(m3)\n",
        "  \n",
        "  def display_data(self):\n",
        "    print(\"Student Details\")\n",
        "    print(\"Roll Number : \",student.__rollno)\n",
        "    print(\"Name : \",student.__name)\n",
        "    print(\"Marks : \", self.total())\n",
        "  \n",
        "  def total(self):\n",
        "    m = student.__marks\n",
        "    return m[0]+m[1]+m[2]\n",
        "\n",
        "r = int(input(\"Enter the roll number:  \"))\n",
        "n = (input(\"Enter the name:  \"))\n",
        "m1 = int(input(\"Enter the marks in first subject:  \"))\n",
        "m2 = int(input(\"Enter the marks in second subject:  \"))\n",
        "m3 = int(input(\"Enter the marks in first subject:  \"))\n",
        "s1 = student()\n",
        "s1.set_data(r,n,m1,m2,m3)\n",
        "s1.display_data()"
      ],
      "execution_count": 0,
      "outputs": []
    },
    {
      "cell_type": "code",
      "metadata": {
        "id": "BjZN20nRcpLm",
        "colab_type": "code",
        "outputId": "f8e71ed1-c5b1-44b5-f94d-655acb6f9ec9",
        "colab": {
          "base_uri": "https://localhost:8080/",
          "height": 119
        }
      },
      "source": [
        "class ABC():\n",
        "  class_var = 0 # class variable\n",
        "  \n",
        "  def __init__(self,var):\n",
        "    ABC.class_var += 1\n",
        "    self.var = var # object variable\n",
        "    print(\" The object value is \",  var)\n",
        "    print(\" The value of the class variable is \", ABC.class_var)\n",
        "  \n",
        "obj1 = ABC(10)\n",
        "obj2 = ABC(20)\n",
        "obj3 = ABC(30)\n"
      ],
      "execution_count": 0,
      "outputs": [
        {
          "output_type": "stream",
          "text": [
            " The object value is  10\n",
            " The value of the class variable is  1\n",
            " The object value is  20\n",
            " The value of the class variable is  2\n",
            " The object value is  30\n",
            " The value of the class variable is  3\n"
          ],
          "name": "stdout"
        }
      ]
    },
    {
      "cell_type": "code",
      "metadata": {
        "id": "hKxJRQyvhr6f",
        "colab_type": "code",
        "outputId": "b5eaa7d0-4fe3-4504-ed88-97ad268febd7",
        "colab": {
          "base_uri": "https://localhost:8080/",
          "height": 34
        }
      },
      "source": [
        "class Number:\n",
        "  even =  0 # class variable & default value\n",
        "\n",
        "  def check(self,num): # num is object variable (method)\n",
        "    if num%2 == 0:\n",
        "      self.even = 1  # object variable which has same name as class object \n",
        "\n",
        "  def Even_Odd(self,num):\n",
        "    self.check(num)\n",
        "    if self.even == 1:\n",
        "      print(num, \"is even\")\n",
        "    else:\n",
        "      print(num, \"is odd\")\n",
        "\n",
        "n = Number()\n",
        "n.Even_Odd(21)\n",
        "\n",
        "\n",
        "# Name clashes : Note that in the above program, we had a class variable \n",
        "# even with value 0.  \n",
        "# we have set an attribute of the object which has same name as the \n",
        "# class attribute.  So here, we are actually overriding the \n",
        "# class attribute.  \n",
        "\n",
        "# If we create two objects of Number, then both the objects will have their \n",
        "# own copy of even.  Changes made in one object will not be reflected in the \n",
        "# other.  But this is not true for a mutable type attribute.  \n",
        "#  Remember that if you modify a mutable object in one place, \n",
        "# the change will be reflected in all other places, as well.  \n",
        "\n",
        "\n"
      ],
      "execution_count": 0,
      "outputs": [
        {
          "output_type": "stream",
          "text": [
            "21 is odd\n"
          ],
          "name": "stdout"
        }
      ]
    },
    {
      "cell_type": "code",
      "metadata": {
        "id": "VODECVUJmWsr",
        "colab_type": "code",
        "outputId": "5834c967-276a-410f-dabd-c2042ddece6d",
        "colab": {
          "base_uri": "https://localhost:8080/",
          "height": 51
        }
      },
      "source": [
        "class Number:\n",
        "  evens = []\n",
        "  odds =  []\n",
        "\n",
        "  def __init__(self,num):\n",
        "    self.num = num\n",
        "    if num%2 == 0:\n",
        "      Number.evens.append(num)\n",
        "    else: \n",
        "      Number.odds.append(num)\n",
        "\n",
        "N1 = Number(21)\n",
        "N2 = Number(32)\n",
        "N3 = Number(43)\n",
        "N4 = Number(54)\n",
        "N5 = Number(65)\n",
        "\n",
        "print(\"Even Numbers are : \", Number.evens)\n",
        "print(\"Odd Numbers are :  \", Number.odds)\n",
        "\n",
        "#  In the above program we have defined two list as class variables, which are of \n",
        "# mutable types.  The class variable is shared among all objects \n",
        "# So any changes made by any of the object will be reflected in the final list\n",
        "# So whether you write Number.evens. self.evens, N1.evens, N2.evens, N3.evens\n",
        "# N4.evens, N5.evens, all will print the smae list.  \n",
        "\n"
      ],
      "execution_count": 0,
      "outputs": [
        {
          "output_type": "stream",
          "text": [
            "Even Numbers are :  [32, 54]\n",
            "Odd Numbers are :   [21, 43, 65]\n"
          ],
          "name": "stdout"
        }
      ]
    },
    {
      "cell_type": "code",
      "metadata": {
        "id": "zxgBiId8peZp",
        "colab_type": "code",
        "outputId": "3465adf4-67f3-424a-caae-a74b9de74004",
        "colab": {
          "base_uri": "https://localhost:8080/",
          "height": 170
        }
      },
      "source": [
        "# The del method is analogous to destructor in java\n",
        "\n",
        "# the __del__ method is automatically called when the object is going out of scope\n",
        "# this is the time when an object will no longer be used and is occupied \n",
        "# resources are returned back to the system, so that they can be reused \n",
        "# as and when required.  You can also explicitly do the same using del keyword\n",
        "\n",
        "\n",
        "class ABC():\n",
        "  class_var = 0  # class variable\n",
        "  def __init__(self,var):\n",
        "    ABC.class_var += 1\n",
        "    self.var = var # object variable \n",
        "    print(\" The object value is :  \", var)\n",
        "    print(\" The value of the class variable is :\", ABC.class_var)\n",
        "\n",
        "  def __del__(self):\n",
        "    ABC.class_var -= 1\n",
        "    print(\"Object with value %d is going out of scope\" %self.var)\n",
        "\n",
        "obj1 = ABC(10)\n",
        "obj2 = ABC(20)\n",
        "obj3 = ABC(30)\n",
        "del obj1\n",
        "del obj2\n",
        "del obj3\n",
        "\n"
      ],
      "execution_count": 0,
      "outputs": [
        {
          "output_type": "stream",
          "text": [
            " The object value is :   10\n",
            " The value of the class variable is : 1\n",
            " The object value is :   20\n",
            " The value of the class variable is : 2\n",
            " The object value is :   30\n",
            " The value of the class variable is : 3\n",
            "Object with value 10 is going out of scope\n",
            "Object with value 20 is going out of scope\n",
            "Object with value 30 is going out of scope\n"
          ],
          "name": "stdout"
        }
      ]
    },
    {
      "cell_type": "code",
      "metadata": {
        "id": "UrQ82K5JwKYy",
        "colab_type": "code",
        "outputId": "8fca4ac4-6a7f-4c61-f34f-143837b3675f",
        "colab": {
          "base_uri": "https://localhost:8080/",
          "height": 68
        }
      },
      "source": [
        "# other special methods\n",
        "# other functions which have special meaning in python. \n",
        "\n",
        "# __repr__(), __cmp__() & __len__() represents string representation, compare two \n",
        "# class object and third returns length of an object.  \n",
        "\n",
        "class ABC():\n",
        "      # object variable initialized\n",
        "  def __init__(self,name,var): \n",
        "    self.name = name\n",
        "    self.var = var\n",
        "  \n",
        "  def __repr__(self):\n",
        "    return repr(self.var)\n",
        "  \n",
        "  def __len__(self):\n",
        "    return len(self.name)\n",
        "  \n",
        "  def __cmp__(self, obj):  #\n",
        "    return self.var - obj.var\n",
        "  \n",
        "obj = ABC(\"abcdef\", 10)\n",
        "print(\" The value stored in object is : \", repr(obj))\n",
        "print(\" The length of name stored in object is : \", len(obj))\n",
        "\n",
        "obj1 = ABC(\"ghijk\", 1)\n",
        "val = obj.__cmp__(obj1)\n",
        "if val == 0:\n",
        "  print(\"Both values are equal\")\n",
        "elif val == -1:\n",
        "  print(\"First value is less than second\")\n",
        "else: \n",
        "  print(\"Second value is less than first\")\n",
        "\n",
        "\n",
        "\n",
        "\n"
      ],
      "execution_count": 0,
      "outputs": [
        {
          "output_type": "stream",
          "text": [
            " The value stored in object is :  10\n",
            " The length of name stored in object is :  6\n",
            "Second value is less than first\n"
          ],
          "name": "stdout"
        }
      ]
    },
    {
      "cell_type": "code",
      "metadata": {
        "id": "60FdBg2Ezpzu",
        "colab_type": "code",
        "outputId": "f956bf28-2fed-4ad2-8e9d-f3356eec8dcb",
        "colab": {
          "base_uri": "https://localhost:8080/",
          "height": 130
        }
      },
      "source": [
        "# program to demonstrate the use of __getitem() and __setitem() methods\n",
        "\n",
        "class Numbers:\n",
        "  def __init__(self,myList):\n",
        "    self.myList = myList\n",
        "  # object variable initialized\n",
        "\n",
        "  def __getitem__(self,index):\n",
        "    return self.myList[index]\n",
        "\n",
        "  def __setitem__(self,index,val):\n",
        "    self.myList[index] = val\n",
        "\n",
        "NumList = Numbers([1,2,3,4,5,6,7,8,9]\n",
        "#print(NumList[5])\n",
        "\n",
        "NumList [3] = 10\n",
        "print(NumList.myList)\n",
        "\n"
      ],
      "execution_count": 0,
      "outputs": [
        {
          "output_type": "error",
          "ename": "SyntaxError",
          "evalue": "ignored",
          "traceback": [
            "\u001b[0;36m  File \u001b[0;32m\"<ipython-input-30-d882043e4213>\"\u001b[0;36m, line \u001b[0;32m17\u001b[0m\n\u001b[0;31m    NumList[3] = 10\u001b[0m\n\u001b[0m          ^\u001b[0m\n\u001b[0;31mSyntaxError\u001b[0m\u001b[0;31m:\u001b[0m invalid syntax\n"
          ]
        }
      ]
    },
    {
      "cell_type": "code",
      "metadata": {
        "id": "adpFC1GU1-U-",
        "colab_type": "code",
        "colab": {}
      },
      "source": [
        ""
      ],
      "execution_count": 0,
      "outputs": []
    }
  ]
}