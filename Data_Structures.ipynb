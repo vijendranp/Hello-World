{
  "nbformat": 4,
  "nbformat_minor": 0,
  "metadata": {
    "colab": {
      "name": "Data-Structures.ipynb",
      "provenance": [],
      "collapsed_sections": [],
      "authorship_tag": "ABX9TyM0LrNpXH644b+8XJKpJ312",
      "include_colab_link": true
    },
    "kernelspec": {
      "name": "python3",
      "display_name": "Python 3"
    }
  },
  "cells": [
    {
      "cell_type": "markdown",
      "metadata": {
        "id": "view-in-github",
        "colab_type": "text"
      },
      "source": [
        "<a href=\"https://colab.research.google.com/github/vijendranp/Hello-World/blob/master/Data_Structures.ipynb\" target=\"_parent\"><img src=\"https://colab.research.google.com/assets/colab-badge.svg\" alt=\"Open In Colab\"/></a>"
      ]
    },
    {
      "cell_type": "code",
      "metadata": {
        "id": "vU-auN8UyLjN",
        "colab_type": "code",
        "colab": {}
      },
      "source": [
        ""
      ],
      "execution_count": 0,
      "outputs": []
    },
    {
      "cell_type": "markdown",
      "metadata": {
        "id": "6_hrlllxzATm",
        "colab_type": "text"
      },
      "source": [
        "**CREATING, ACCESSING, UPDATING & CLONING LISTS**\n",
        "**CREATING, ACCESSING, UPDATING & DELETING TUPLES**\n",
        "**WORKIG WITH SETS & DICTIONARIES**\n",
        "** LISTS & DICTIONARY COMPREHENSIONS**\n",
        "**NESTED LISTS, SETS, TUPLES & DICTIONARIES**\n",
        "\n",
        "**DATA STRUCTURE : ** A datastructure is a group of data elements that are put together under one name.\n",
        "\n",
        "A data structure defines a particular way of storing & organizing data in a computer for efficient retrieval. \n",
        "\n",
        "The Data structures are compound data structures, as they are made of simple elements.  \n",
        "\n",
        "\n",
        "**SEQUENCE:** is the most basic data structure in Python, where each element has a specifix index, whose value starts from zero and automatically incremented for next element in the sequence.  \n",
        "\n",
        "**Python has some basic built-in functions that help programmers manipulate elements that form a part of sequence.  These include : \n",
        "*   Finding length of the sequence, \n",
        "*   Finding largest and smallest element\n",
        "*   operations such as indexing, slicing, adding, multiplying and checking    \n",
        "    # for membership. \n",
        "\n",
        "\n",
        "**SEQUENCE:** is a versatile data-type in Python.  It is a sequence in which elements are written as a list of comma separated values (items) between square brackets.  **The key feature is that it can have elements that belongs to different data types. **\n",
        "\n",
        "**SYNTAX:\n",
        "List_variable = [val1,val2,......]\n",
        "**\n",
        "\n",
        "Access values in a list."
      ]
    },
    {
      "cell_type": "code",
      "metadata": {
        "id": "Z3NAtn-z2Rsy",
        "colab_type": "code",
        "colab": {}
      },
      "source": [
        "seq = List[start:stop:step]\n",
        "seq = List[::2] # get every other element, starting with index 0\n",
        "seq = List[1::2] # get every other element, starting with index 1"
      ],
      "execution_count": 0,
      "outputs": []
    },
    {
      "cell_type": "markdown",
      "metadata": {
        "id": "RsE0T1M-24Ry",
        "colab_type": "text"
      },
      "source": [
        "Program to demonstrate the slice operations used to access the elements of the list. "
      ]
    },
    {
      "cell_type": "code",
      "metadata": {
        "id": "xttk-sxv2_NY",
        "colab_type": "code",
        "outputId": "9627d2a4-1944-4c54-fd1c-20dc96aa8d5e",
        "colab": {
          "base_uri": "https://localhost:8080/",
          "height": 102
        }
      },
      "source": [
        "num_list = [1,2,3,4,5,6,7,8,9,10]\n",
        "print(\"num_list is :  \", num_list)\n",
        "print(\"The first element in the num_list is :  \", num_list[0])\n",
        "print(\"num_list is [2:5] :  \", num_list[2:5])\n",
        "print(\"num_list is :[::2]  \", num_list[::2])\n",
        "print(\"num_list is [1::3]:  \", num_list[1::3])"
      ],
      "execution_count": 0,
      "outputs": [
        {
          "output_type": "stream",
          "text": [
            "num_list is :   [1, 2, 3, 4, 5, 6, 7, 8, 9, 10]\n",
            "The first element in the num_list is :   1\n",
            "num_list is [2:5] :   [3, 4, 5]\n",
            "num_list is :[::2]   [1, 3, 5, 7, 9]\n",
            "num_list is [1::3]:   [2, 5, 8]\n"
          ],
          "name": "stdout"
        }
      ]
    },
    {
      "cell_type": "markdown",
      "metadata": {
        "id": "MrKZtZ9230MJ",
        "colab_type": "text"
      },
      "source": [
        "**Updating the value in the list:**\n",
        "Once created, one or more elements of a list can be easily updated by giving the slice on the left-hand-side of the assignment operator and also by appending new values in the list and removing existing values(s) from the list append() method and del statement respectively. "
      ]
    },
    {
      "cell_type": "code",
      "metadata": {
        "id": "_22HVjHG35AG",
        "colab_type": "code",
        "outputId": "a307b378-30bf-431a-8c3b-a9e24f4ea102",
        "colab": {
          "base_uri": "https://localhost:8080/",
          "height": 85
        }
      },
      "source": [
        "num_list = [1,2,3,4,5,6,7,8,9,10]\n",
        "print(\"num_list is :  \", num_list)\n",
        "num_list[5] = 140\n",
        "print(\"num_list after updating is:  \", num_list)\n",
        "num_list.append(400)\n",
        "print(\"num_list after appending is\", num_list)\n",
        "del num_list[3]\n",
        "print(\"List after deleting the value is \", num_list)"
      ],
      "execution_count": 0,
      "outputs": [
        {
          "output_type": "stream",
          "text": [
            "num_list is :   [1, 2, 3, 4, 5, 6, 7, 8, 9, 10]\n",
            "num_list after updating is:   [1, 2, 3, 4, 5, 140, 7, 8, 9, 10]\n",
            "num_list after appending is [1, 2, 3, 4, 5, 140, 7, 8, 9, 10, 400]\n",
            "List after deleting the value is  [1, 2, 3, 5, 140, 7, 8, 9, 10, 400]\n"
          ],
          "name": "stdout"
        }
      ]
    },
    {
      "cell_type": "markdown",
      "metadata": {
        "id": "7xI4zjnU5M_W",
        "colab_type": "text"
      },
      "source": [
        "Program to illustrate deletion of numbers from a list using del statement. "
      ]
    },
    {
      "cell_type": "code",
      "metadata": {
        "id": "xyins2iA5Uon",
        "colab_type": "code",
        "outputId": "ff241d16-4c78-447d-ca59-c69db4623296",
        "colab": {
          "base_uri": "https://localhost:8080/",
          "height": 34
        }
      },
      "source": [
        "num_list = [1,2,3,4,5,6,7,8,9,10]\n",
        "del num_list[2:4] # deletes numbers at index 2 & 3 \n",
        "print(num_list)\n"
      ],
      "execution_count": 0,
      "outputs": [
        {
          "output_type": "stream",
          "text": [
            "[1, 2, 5, 6, 7, 8, 9, 10]\n"
          ],
          "name": "stdout"
        }
      ]
    },
    {
      "cell_type": "markdown",
      "metadata": {
        "id": "JfD9E0c85n3f",
        "colab_type": "text"
      },
      "source": [
        "**Program to insert a list in another list using the slice operation**"
      ]
    },
    {
      "cell_type": "code",
      "metadata": {
        "id": "NUthv9vWWBN2",
        "colab_type": "code",
        "outputId": "d53824fc-d820-47f6-e7f9-3cf72a6b5356",
        "colab": {
          "base_uri": "https://localhost:8080/",
          "height": 51
        }
      },
      "source": [
        "num_list = [2,10,12,14,16]\n",
        "print(\"Original list is :  \", num_list)\n",
        "num_list[2] = [4,6,8]\n",
        "print(\"After inserting another list, the updated num_list is :  \", num_list)\n"
      ],
      "execution_count": 0,
      "outputs": [
        {
          "output_type": "stream",
          "text": [
            "Original list is :   [2, 10, 12, 14, 16]\n",
            "After inserting another list, the updated num_list is :   [2, 10, [4, 6, 8], 14, 16]\n"
          ],
          "name": "stdout"
        }
      ]
    },
    {
      "cell_type": "markdown",
      "metadata": {
        "id": "BJfbBMFDW0gN",
        "colab_type": "text"
      },
      "source": [
        "**Nested Numlist** Means list within another list. In following code list1 has another list at index 4.\n",
        "\n",
        "**Hint** You can specify an element in the nested list by using set of indices. "
      ]
    },
    {
      "cell_type": "code",
      "metadata": {
        "id": "clQ9YIveXF6K",
        "colab_type": "code",
        "outputId": "9fc5de86-1f04-4d86-8dcc-f13f7ab14302",
        "colab": {
          "base_uri": "https://localhost:8080/",
          "height": 102
        }
      },
      "source": [
        "list1 = [2, 'b',\"xyz\", [3,4,5,6], 9.9]\n",
        "i = 0\n",
        "while i <(len(list1)):\n",
        "  print(\"List[\",i,\"] = \", list1[i])\n",
        "  i+=1\n",
        "  "
      ],
      "execution_count": 0,
      "outputs": [
        {
          "output_type": "stream",
          "text": [
            "List[ 0 ] =  2\n",
            "List[ 1 ] =  b\n",
            "List[ 2 ] =  xyz\n",
            "List[ 3 ] =  [3, 4, 5, 6]\n",
            "List[ 4 ] =  9.9\n"
          ],
          "name": "stdout"
        }
      ]
    },
    {
      "cell_type": "markdown",
      "metadata": {
        "id": "6vsznGgFYOal",
        "colab_type": "text"
      },
      "source": [
        "Program to create a copy as well as the clone of the original list."
      ]
    },
    {
      "cell_type": "code",
      "metadata": {
        "id": "VTHa91CgYVa_",
        "colab_type": "code",
        "outputId": "83664dc3-d0ae-48a6-cc16-05c98a1a7352",
        "colab": {
          "base_uri": "https://localhost:8080/",
          "height": 68
        }
      },
      "source": [
        "list1= [2,4,6,8,10,12,14,16]\n",
        "list2 = list1\n",
        "print(\"List1 =  \",list1)\n",
        "print(\"List2 =  \",list2)\n",
        "list3 = list1[3:7]\n",
        "print(\"List 3 =   \",list3)"
      ],
      "execution_count": 0,
      "outputs": [
        {
          "output_type": "stream",
          "text": [
            "List1 =   [2, 4, 6, 8, 10, 12, 14, 16]\n",
            "List2 =   [2, 4, 6, 8, 10, 12, 14, 16]\n",
            "List 3 =    [8, 10, 12, 14]\n"
          ],
          "name": "stdout"
        }
      ]
    },
    {
      "cell_type": "code",
      "metadata": {
        "id": "XAtNzsQ4Zkx6",
        "colab_type": "code",
        "colab": {}
      },
      "source": [
        "import sys\n",
        "list = [2,4,6,8,10,12,14,16,18,20]\n",
        "it = iter(list) # builds an iter object \n",
        "while True:\n",
        "  try:\n",
        "    print(next(it), end=' ')\n",
        "  except StopIteration:\n",
        "    print(\"\\t All the elements have been accessed...... no more elements\")\n",
        "    sys.exit()"
      ],
      "execution_count": 0,
      "outputs": []
    },
    {
      "cell_type": "markdown",
      "metadata": {
        "id": "NTrRzlZpax_G",
        "colab_type": "text"
      },
      "source": [
        "**Basic List Operation**\n",
        "**Operation**            **Description**\n",
        "\n",
        "len :-->  Returns the length of the list. \n",
        "\n",
        "concatenation :-->  Repeats the elements in the list\n",
        "\n",
        "in \"-->  check if the value is present in the list. \n",
        "\n",
        "not in :-->  Check if the value is not present in the list. \n",
        "\n",
        "max :-->  Returns maximum value in the list. \n",
        "\n",
        "min :-->  Returns minimum value in the list.  \n",
        "\n",
        "sum :-->  Adds the values in the list that has numbers.  \n",
        "\n",
        "all :-->  Returns true if all elements of the list are true.  \n",
        "\n",
        "any :-->  Returns true if any element of the list is true. If empty returns false.\n",
        "\n",
        "**list :-->  converts an iterable (tuple, string, set, dictionary) to a list.**\n",
        "\n",
        "sorted :-->  Returns a sorted list.  The original list is not sorted.  \n",
        "\n",
        "\n",
        "\n",
        "\n",
        "**Program to demonstrate indexing, slicing and other operations** \n"
      ]
    },
    {
      "cell_type": "code",
      "metadata": {
        "id": "oSA9ryyVcPjZ",
        "colab_type": "code",
        "outputId": "965959e1-cb64-4eb0-f79b-dc2dadda9bfb",
        "colab": {
          "base_uri": "https://localhost:8080/",
          "height": 68
        }
      },
      "source": [
        "list_A = [\"Hello\", \"Hi\", \"There\", \"Welcome\", \"To\", \"World\", \"Of\", \"Python\"]\n",
        "print(list_A[2])\n",
        "print(list_A[-4])\n",
        "print(list_A[1:])\n"
      ],
      "execution_count": 0,
      "outputs": [
        {
          "output_type": "stream",
          "text": [
            "There\n",
            "To\n",
            "['Hi', 'There', 'Welcome', 'To', 'World', 'Of', 'Python']\n"
          ],
          "name": "stdout"
        }
      ]
    },
    {
      "cell_type": "markdown",
      "metadata": {
        "id": "7Y1wiIMfc8sZ",
        "colab_type": "text"
      },
      "source": [
        "**List Methods**\n",
        "\n",
        "**Method**    **Description** \n",
        "\n",
        "append() :  Appends an element to the list.  In insert(), if the index is 0, then element is inserted as *the* first element and if we write, list.insert(len(list), then it inserts obj as the last element in the list. \n",
        "\n",
        "That is if index= len(list) then insert() method behaves exactly same as append() method. \n",
        "\n",
        "**Syntax: list.append(obj)*\n",
        "\n"
      ]
    },
    {
      "cell_type": "code",
      "metadata": {
        "id": "RTB-UWN8eawH",
        "colab_type": "code",
        "outputId": "f9a24cb7-6fc8-4b9e-a60a-f47b97ab80d2",
        "colab": {
          "base_uri": "https://localhost:8080/",
          "height": 34
        }
      },
      "source": [
        "num_list = [6,3,7,0,2,4,8,7]\n",
        "num_list.append(14)\n",
        "print(num_list)"
      ],
      "execution_count": 0,
      "outputs": [
        {
          "output_type": "stream",
          "text": [
            "[6, 3, 7, 0, 2, 4, 8, 7, 14]\n"
          ],
          "name": "stdout"
        }
      ]
    },
    {
      "cell_type": "markdown",
      "metadata": {
        "id": "XYSgh-wHezu1",
        "colab_type": "text"
      },
      "source": [
        "**List Methods**\n",
        "**COUNT** Counts the number of times an element appears in the list. \n",
        "\n",
        "**Syntax: list.count(obj)**"
      ]
    },
    {
      "cell_type": "markdown",
      "metadata": {
        "id": "bzE6QYw7fny8",
        "colab_type": "text"
      },
      "source": [
        "**List Methods**\n",
        "**INDEX** Counts the number of times an element appears in the list. \n",
        "\n",
        "**index(): list.index(obj)**\n",
        "\n",
        "---\n",
        "\n"
      ]
    },
    {
      "cell_type": "code",
      "metadata": {
        "id": "JXU9XYoKfItp",
        "colab_type": "code",
        "outputId": "51563d4c-92bc-4e12-c6a2-3c6e0714faa5",
        "colab": {
          "base_uri": "https://localhost:8080/",
          "height": 34
        }
      },
      "source": [
        "num_list = [6,3,7,0,2,4,8,6,4,7]\n",
        "print(num_list.index(8))  # it return the value of the object. \n"
      ],
      "execution_count": 0,
      "outputs": [
        {
          "output_type": "stream",
          "text": [
            "6\n"
          ],
          "name": "stdout"
        }
      ]
    },
    {
      "cell_type": "markdown",
      "metadata": {
        "id": "cHQKX7TmgTz9",
        "colab_type": "text"
      },
      "source": [
        "**List Methods**\n",
        "**INSERT** Counts the number of times an element appears in the list. \n",
        "\n",
        "**insert(): list.insert(index,obj)**, \n",
        "\n",
        "**remove() : removes or deletes the object from list. list.remove(obj) **\n",
        "\n",
        "**sort() : Sorts the elements in the list** **list.sort()**\n",
        "\n",
        "** Key point**: insert, remove and sort methods only modify the list and do not return any value."
      ]
    },
    {
      "cell_type": "code",
      "metadata": {
        "id": "yrL22jwMgnLj",
        "colab_type": "code",
        "outputId": "45f70832-2869-4d16-8370-d887e3718245",
        "colab": {
          "base_uri": "https://localhost:8080/",
          "height": 34
        }
      },
      "source": [
        "num_list = [6,3,7,0,2,4,8,6,4,7]\n",
        "num_list.insert(4,200)\n",
        "num_list.remove(0)\n",
        "num_list.sort()\n",
        "print(num_list)\n",
        "\n",
        "\n",
        "\n"
      ],
      "execution_count": 0,
      "outputs": [
        {
          "output_type": "stream",
          "text": [
            "[2, 3, 4, 4, 6, 6, 7, 7, 8, 200]\n"
          ],
          "name": "stdout"
        }
      ]
    },
    {
      "cell_type": "markdown",
      "metadata": {
        "id": "B5PZa6PRiQGa",
        "colab_type": "text"
      },
      "source": [
        "**List Methods**\n",
        "\n",
        "**pop():** Removes the element at the specified index from the list.  Index is optional parameter.  If no index is specified, then removes the last object or element from the list \n",
        "\n",
        "**Syntax : list.remove(obj)** \n",
        "\n",
        "**reverse() : reverses the elements from list.\n",
        "\n",
        "**Syntax :  list.reverse()**\n",
        "\n",
        "**extend()** : Adds the elements in the list to the end of another list.\n",
        "\n",
        "**Syntax:   list1.extend(list2)**\n",
        "\n",
        "**Key point: insert, remove and sort methods only modify the list and do not return any value**."
      ]
    },
    {
      "cell_type": "code",
      "metadata": {
        "id": "MpNnWF5dj_6U",
        "colab_type": "code",
        "outputId": "20e7a907-59ae-4a0d-8f62-c193d247f166",
        "colab": {
          "base_uri": "https://localhost:8080/",
          "height": 34
        }
      },
      "source": [
        "num_list = [6,3,7,0,2,4,8,6,4,7] # since no parameter is specified removes last.\n",
        "# num_list.pop()\n",
        "#num_list.sort()\n",
        "num_list.reverse()\n",
        "print(num_list)"
      ],
      "execution_count": 0,
      "outputs": [
        {
          "output_type": "stream",
          "text": [
            "[7, 4, 6, 8, 4, 2, 0, 7, 3, 6]\n"
          ],
          "name": "stdout"
        }
      ]
    },
    {
      "cell_type": "code",
      "metadata": {
        "id": "jXB3xowTk5Nb",
        "colab_type": "code",
        "outputId": "e8a2d030-59b1-409c-cd37-888f77551869",
        "colab": {
          "base_uri": "https://localhost:8080/",
          "height": 34
        }
      },
      "source": [
        "num_list1 = [11,12,13,14,15,16,17,18,19]\n",
        "num_list2 = [1,2,3,4,5,6,7,8,9,10]\n",
        "num_list2.extend(num_list1)\n",
        "print(num_list2)"
      ],
      "execution_count": 0,
      "outputs": [
        {
          "output_type": "stream",
          "text": [
            "[1, 2, 3, 4, 5, 6, 7, 8, 9, 10, 11, 12, 13, 14, 15, 16, 17, 18, 19]\n"
          ],
          "name": "stdout"
        }
      ]
    },
    {
      "cell_type": "markdown",
      "metadata": {
        "id": "Ehqr7MbhURSo",
        "colab_type": "text"
      },
      "source": [
        "To print the return values:"
      ]
    },
    {
      "cell_type": "code",
      "metadata": {
        "id": "LD54VtkaUUNK",
        "colab_type": "code",
        "outputId": "5c3f4bd2-dde3-4dee-8aa6-cff97d465895",
        "colab": {
          "base_uri": "https://localhost:8080/",
          "height": 34
        }
      },
      "source": [
        "num_list = [11,12,13,14,15,16,17,18,19]\n",
        "print(num_list.insert(3,455))"
      ],
      "execution_count": 0,
      "outputs": [
        {
          "output_type": "stream",
          "text": [
            "None\n"
          ],
          "name": "stdout"
        }
      ]
    },
    {
      "cell_type": "markdown",
      "metadata": {
        "id": "SOrfaSenUxkc",
        "colab_type": "text"
      },
      "source": [
        "**When one list is assigned to another list using the assignment operator(=) then a new copy of the list is not made.  Instead assignment makes the two variable point to the one in list memory. This is also known as Aliasing**\n",
        "\n",
        "It is always safer to avoid aliasing when working with mutable objects.\n",
        "\n",
        "Program that uses the assignment operator to assign one list to another list variable.  "
      ]
    },
    {
      "cell_type": "code",
      "metadata": {
        "id": "omOrfky5VpCD",
        "colab_type": "code",
        "outputId": "2b0c4496-19b5-4b20-d77f-6aa8794f517c",
        "colab": {
          "base_uri": "https://localhost:8080/",
          "height": 34
        }
      },
      "source": [
        "num_list1 = [11,12,13,14,15,16,17,18,19]\n",
        "num_list2 = num_list1\n",
        "print(num_list2)"
      ],
      "execution_count": 0,
      "outputs": [
        {
          "output_type": "stream",
          "text": [
            "[11, 12, 13, 14, 15, 16, 17, 18, 19]\n"
          ],
          "name": "stdout"
        }
      ]
    },
    {
      "cell_type": "markdown",
      "metadata": {
        "id": "zjKrnX5QV07M",
        "colab_type": "text"
      },
      "source": [
        "In above code, two lists point to the same memory location but are identified using two different names.  This means that two lists are aliased.  \n",
        "\n",
        "**Note: An alias is a second name for a piece of data.  In python, aliasing happens whenever one variable value is assigned to another variable. **\n",
        "\n",
        "\n",
        "**Note: The sort() method uses ASCII values to sort the values in the list.  This means that the uppercase letters comes before the lower case letter The functionality of the sort() method is clearly from the given below code.**"
      ]
    },
    {
      "cell_type": "code",
      "metadata": {
        "id": "FaP8JLnkVhIQ",
        "colab_type": "code",
        "outputId": "43e0e6da-ed25-4a39-9036-c9ff2f48fd04",
        "colab": {
          "base_uri": "https://localhost:8080/",
          "height": 34
        }
      },
      "source": [
        "list1 = ['1', 'a', \"abc\", '2', 'B', \"Def\"]\n",
        "list1.sort()\n",
        "print(list1)"
      ],
      "execution_count": 0,
      "outputs": [
        {
          "output_type": "stream",
          "text": [
            "['1', '2', 'B', 'Def', 'a', 'abc']\n"
          ],
          "name": "stdout"
        }
      ]
    },
    {
      "cell_type": "markdown",
      "metadata": {
        "id": "dAx_DJXRW9BV",
        "colab_type": "text"
      },
      "source": [
        "Items in list can also be deleted by assigning an empty list to slice of elements. "
      ]
    },
    {
      "cell_type": "code",
      "metadata": {
        "id": "lPLbbCjdXCrH",
        "colab_type": "code",
        "outputId": "9c7f7bc6-24b1-4721-a736-0bba417af044",
        "colab": {
          "base_uri": "https://localhost:8080/",
          "height": 34
        }
      },
      "source": [
        "list = ['p','r','o','g','r','a','m']\n",
        "list[2:5]=[]\n",
        "print(list)"
      ],
      "execution_count": 0,
      "outputs": [
        {
          "output_type": "stream",
          "text": [
            "['p', 'r', 'a', 'm']\n"
          ],
          "name": "stdout"
        }
      ]
    },
    {
      "cell_type": "markdown",
      "metadata": {
        "id": "f2hO30SEXdpI",
        "colab_type": "text"
      },
      "source": [
        "**STACK: is an important data structure which stores elements in an ordered manner.**\n",
        "\n",
        "**Stack is a linear data structure, which uses the principle Last in First Out**\n",
        "\n",
        "Program to illustrate operations on a stack.\n"
      ]
    },
    {
      "cell_type": "code",
      "metadata": {
        "id": "1ExhkKYsX-my",
        "colab_type": "code",
        "outputId": "5bc6301b-17e3-4df5-80ff-6226ec19596c",
        "colab": {
          "base_uri": "https://localhost:8080/",
          "height": 85
        }
      },
      "source": [
        "stack = [7,8,9,5,4,3,2]\n",
        "print(\"Original stack is : \",stack)\n",
        "stack.append(12)\n",
        "print(\"Stack after push operation is \",stack)\n",
        "stack.pop()\n",
        "print(\"Stack after pop operation is \",stack)\n",
        "last_element_index = len(stack)-1\n",
        "print(\"Value obtained after peep operation is: \",stack[last_element_index])"
      ],
      "execution_count": 0,
      "outputs": [
        {
          "output_type": "stream",
          "text": [
            "Original stack is :  [7, 8, 9, 5, 4, 3, 2]\n",
            "Stack after push operation is  [7, 8, 9, 5, 4, 3, 2, 12]\n",
            "Stack after pop operation is  [7, 8, 9, 5, 4, 3, 2]\n",
            "Value obtained after peep operation is:  2\n"
          ],
          "name": "stdout"
        }
      ]
    },
    {
      "cell_type": "markdown",
      "metadata": {
        "id": "l-G4V_qTZBoZ",
        "colab_type": "text"
      },
      "source": [
        "**Using Lists as Queues**\n",
        "\n",
        "Queue is an important data structure which stores its elements in an ordered manner.  People waiting for bus, people moving in escalator, cars lined at toll\n",
        "\n",
        "A queue is a First in First out data structure in which the elements that is inserted first is the first one to be taken out.  \n",
        "\n",
        "\n",
        "\n",
        "**Program to show implementation of a Queue using list data structure**\n",
        "\n"
      ]
    },
    {
      "cell_type": "code",
      "metadata": {
        "id": "UBCTE9ZRZ0AL",
        "colab_type": "code",
        "outputId": "15e588a0-7b73-4c93-c540-bf9078894dc9",
        "colab": {
          "base_uri": "https://localhost:8080/",
          "height": 85
        }
      },
      "source": [
        "queue = [5,6,7,8,9,10]\n",
        "print(\"Original queue is :\", queue)\n",
        "queue.append(13)\n",
        "print(\"Original queue after appending is :\", queue)\n",
        "queue.pop(0)\n",
        "print(\"Queue after deletion is :\", queue)\n",
        "print(\"Value obtained after peep operation is :\",queue[(len(queue)-1)])\n"
      ],
      "execution_count": 0,
      "outputs": [
        {
          "output_type": "stream",
          "text": [
            "Original queue is : [5, 6, 7, 8, 9, 10]\n",
            "Original queue after appending is : [5, 6, 7, 8, 9, 10, 13]\n",
            "Queue after deletion is : [6, 7, 8, 9, 10, 13]\n",
            "Value obtained after peep operation is : 13\n"
          ],
          "name": "stdout"
        }
      ]
    },
    {
      "cell_type": "markdown",
      "metadata": {
        "id": "WeI5zr0vbD1M",
        "colab_type": "text"
      },
      "source": [
        "**List Comprehension**\n",
        "Program to make a list of cubes using comprehension: \n",
        "\n",
        "Python supports computed list called list comprehensions having the following syntax: \n",
        "\n",
        "List = [expression for variable in sequence] \n",
        "List comprhension help programmers to crease lists in a concise way.  \n",
        "This is mainly beneficial to make new list where each element is obtained by applying some operations to each member of another sequence or iterable.  List comprehensions is also used to create a subsequence of those elements that satisfy certain condition.  \n",
        "\n",
        "\n",
        "**Note : An iterable is an object that can be used repeatedly in subsequence loops statements for example for loop**\n"
      ]
    },
    {
      "cell_type": "code",
      "metadata": {
        "id": "ODf5X_uVcg9L",
        "colab_type": "code",
        "outputId": "f7f114de-79c8-4a50-dc40-e7d2bb657130",
        "colab": {
          "base_uri": "https://localhost:8080/",
          "height": 34
        }
      },
      "source": [
        "cubes = [i**3 for i in range(11)]\n",
        "print(cubes)"
      ],
      "execution_count": 0,
      "outputs": [
        {
          "output_type": "stream",
          "text": [
            "[0, 1, 8, 27, 64, 125, 216, 343, 512, 729, 1000]\n"
          ],
          "name": "stdout"
        }
      ]
    },
    {
      "cell_type": "markdown",
      "metadata": {
        "id": "ep4fm1UxdGGh",
        "colab_type": "text"
      },
      "source": [
        "program to combine and print elements of two lists using the list comprehension"
      ]
    },
    {
      "cell_type": "code",
      "metadata": {
        "id": "TBLdvSWodLU1",
        "colab_type": "code",
        "outputId": "bcac6279-95b5-4f91-c6d1-2fffd466f3e4",
        "colab": {
          "base_uri": "https://localhost:8080/",
          "height": 34
        }
      },
      "source": [
        "print([(x,y) for x in [10,20,30] for y in [30,10,40] if x !=y])"
      ],
      "execution_count": 0,
      "outputs": [
        {
          "output_type": "stream",
          "text": [
            "[(10, 30), (10, 40), (20, 30), (20, 10), (20, 40), (30, 10), (30, 40)]\n"
          ],
          "name": "stdout"
        }
      ]
    },
    {
      "cell_type": "markdown",
      "metadata": {
        "id": "reJ-3xkFdy7s",
        "colab_type": "text"
      },
      "source": [
        "In the above code, two values, one from each list is used to reate a new list only if two values are not same.  \n",
        "\n",
        "\n",
        "**Looping in List :**\n",
        "** Python for and in constructs** are extremely useful when working with lists.  The for var in list statement is an easy way to access each element in a list ( or for any other sequence).  \n",
        "\n",
        "the following code, the for loop is used to access each item in list. \n",
        "\n",
        "for i in list:\n",
        "  print(i)\n",
        "\n",
        "\n",
        "program to find the sum and mean of elements in a list."
      ]
    },
    {
      "cell_type": "code",
      "metadata": {
        "id": "NvV1urVtg0e0",
        "colab_type": "code",
        "outputId": "be686ba9-ba40-4891-af57-44b8a40f2949",
        "colab": {
          "base_uri": "https://localhost:8080/",
          "height": 51
        }
      },
      "source": [
        "queue = [1,2,3,4,5,6,7,8,9,10]\n",
        "sum = 0 \n",
        "for i in queue:\n",
        "  sum+= i\n",
        "print(\"Sum of elements in the  queue is :\", sum)\n",
        "print(\"Average of elements in the list = \",float(sum/float(len(queue))))"
      ],
      "execution_count": 0,
      "outputs": [
        {
          "output_type": "stream",
          "text": [
            "Sum of elements in the  queue is : 55\n",
            "Average of elements in the list =  5.5\n"
          ],
          "name": "stdout"
        }
      ]
    },
    {
      "cell_type": "markdown",
      "metadata": {
        "id": "sTykahNkbrLg",
        "colab_type": "text"
      },
      "source": [
        "Program to make a list of cubes.  "
      ]
    },
    {
      "cell_type": "code",
      "metadata": {
        "id": "0M2STXHRbOHZ",
        "colab_type": "code",
        "outputId": "e972476b-8a0b-448c-9efa-cb1ff241ee54",
        "colab": {
          "base_uri": "https://localhost:8080/",
          "height": 34
        }
      },
      "source": [
        "cubes = [] # en empty list\n",
        "for i in range(11):\n",
        "  cubes.append(i**3)\n",
        "print(\"Cubes of numbers from 1-10: \",cubes)"
      ],
      "execution_count": 0,
      "outputs": [
        {
          "output_type": "stream",
          "text": [
            "Cubes of numbers from 1-10:  [0, 1, 8, 27, 64, 125, 216, 343, 512, 729, 1000]\n"
          ],
          "name": "stdout"
        }
      ]
    },
    {
      "cell_type": "markdown",
      "metadata": {
        "id": "Zo9Px7Iqh_ws",
        "colab_type": "text"
      },
      "source": [
        "Program to illustrate the user of enumerator() to print an individual item and its index in the list.  "
      ]
    },
    {
      "cell_type": "code",
      "metadata": {
        "id": "mXE0Okr1iHpV",
        "colab_type": "code",
        "outputId": "05f46d72-8f51-41da-feb8-4a2e372fbe08",
        "colab": {
          "base_uri": "https://localhost:8080/",
          "height": 119
        }
      },
      "source": [
        "queue = [5,6,7,8,9,10]\n",
        "for index, i in enumerate(queue):\n",
        "  print(i,\"is at index:\", index)"
      ],
      "execution_count": 0,
      "outputs": [
        {
          "output_type": "stream",
          "text": [
            "5 is at index: 0\n",
            "6 is at index: 1\n",
            "7 is at index: 2\n",
            "8 is at index: 3\n",
            "9 is at index: 4\n",
            "10 is at index: 5\n"
          ],
          "name": "stdout"
        }
      ]
    },
    {
      "cell_type": "markdown",
      "metadata": {
        "id": "eVgAdH1oinZw",
        "colab_type": "text"
      },
      "source": [
        "**Using the range() function:  If you need to print index, then you can use the range() function **"
      ]
    },
    {
      "cell_type": "code",
      "metadata": {
        "id": "oWU8VTPQiwwE",
        "colab_type": "code",
        "outputId": "4a0e163a-63b1-42f5-f6f8-414d8044cdf5",
        "colab": {
          "base_uri": "https://localhost:8080/",
          "height": 119
        }
      },
      "source": [
        "queue = [5,6,7,8,9,10]\n",
        "for i in range(len(queue)):\n",
        "  print(\"index :\", i)"
      ],
      "execution_count": 0,
      "outputs": [
        {
          "output_type": "stream",
          "text": [
            "index : 0\n",
            "index : 1\n",
            "index : 2\n",
            "index : 3\n",
            "index : 4\n",
            "index : 5\n"
          ],
          "name": "stdout"
        }
      ]
    },
    {
      "cell_type": "markdown",
      "metadata": {
        "id": "km_EUBfjjAXk",
        "colab_type": "text"
      },
      "source": [
        "**Using an iterator: **\n",
        "You can create an iterator using the built-in iter() function.  The iterator is used to loop over the elements of the list.  \n",
        "\n",
        "For this, the iterator fetches the value and then automatically points to the next element in the list when it is used with the next () method\n",
        "\n",
        "Program to prinnt the elements in the list using an iterator.  \n"
      ]
    },
    {
      "cell_type": "code",
      "metadata": {
        "id": "QZ3N3c_Yjs6y",
        "colab_type": "code",
        "outputId": "c998cb1e-c98b-45a8-9cea-120cee2ffb8c",
        "colab": {
          "base_uri": "https://localhost:8080/",
          "height": 119
        }
      },
      "source": [
        "queue = [5,6,7,8,9,10]\n",
        "it = iter(queue)\n",
        "for i in range(len(queue)):\n",
        "  print(\"Element at index is: \" , i, \"is : \",next(it))"
      ],
      "execution_count": 0,
      "outputs": [
        {
          "output_type": "stream",
          "text": [
            "Element at index is:  0 is :  5\n",
            "Element at index is:  1 is :  6\n",
            "Element at index is:  2 is :  7\n",
            "Element at index is:  3 is :  8\n",
            "Element at index is:  4 is :  9\n",
            "Element at index is:  5 is :  10\n"
          ],
          "name": "stdout"
        }
      ]
    },
    {
      "cell_type": "markdown",
      "metadata": {
        "id": "aFTEhYr-kMka",
        "colab_type": "text"
      },
      "source": [
        "**Note: An iterator is often used to wrap an iterable and return each item of interest.  All iterators are iterable, but all iterables are not iterators.\n",
        "\n",
        "An iterator can only be used in a single for loop, whereas an iterable can be used repeatedly in subsequent loops.**\n",
        "\n",
        "\n"
      ]
    },
    {
      "cell_type": "markdown",
      "metadata": {
        "id": "M8TTWXCzopwp",
        "colab_type": "text"
      },
      "source": [
        "**Functional Programming:**\n",
        "Functional programming decomposes a problem into a set of functions.  The map(), filter() and reduce() function forms a part of functional programming that work on all list items.  \n",
        "\n",
        "**filter() function**\n",
        "The filter() functioni constructs a list from those elements of the list for which a function returns true.  \n",
        "**Syntax** \n",
        "**filter(function,sequence)**\n",
        "\n",
        "**Tip** Do not add or remove elements from the list during iteration.\n",
        "\n",
        "As per the syntax, the filter() function returns a sequence that contains items from the sequence for which the function is True.  If sequence is a string, Unicode or a tuple, then the result will be of the same type; otherwise it is always a list: \n",
        "\n",
        "\n",
        "Program to create a list of number divisible by 4 & 8 using list comprehension \n",
        "\n"
      ]
    },
    {
      "cell_type": "code",
      "metadata": {
        "id": "ocyH7amAq2e9",
        "colab_type": "code",
        "colab": {}
      },
      "source": [
        "def check(x):\n",
        "    if (x % 4 == 0 or x % 8 ==0):\n",
        "        return 1\n",
        "evens = list(filter(check, range(2,48)))\n",
        "print(evens)"
      ],
      "execution_count": 0,
      "outputs": []
    },
    {
      "cell_type": "markdown",
      "metadata": {
        "id": "J6xmdjKp4odO",
        "colab_type": "text"
      },
      "source": [
        "**The map() function:**\n",
        "\n",
        "The map function applies a particular function to every element of a list.  Its syntax is th same as filter function. \n",
        "\n",
        "**map (function, sequence)**\n",
        "After applying the specified function on the sequence, the map() function returns the modified list.  The map() function calls function(item) for each item and returns a list of the return values.  \n",
        "\n",
        "**Program that adds 2 to every value in the list** \n",
        "\n",
        "\n",
        "\n"
      ]
    },
    {
      "cell_type": "code",
      "metadata": {
        "id": "MEjGyYFK5VIN",
        "colab_type": "code",
        "colab": {}
      },
      "source": [
        "def add_2(x):\n",
        "  x+=2\n",
        "  return x\n",
        "num_list = [8,9,10,11,12,13,14]\n",
        "print(\"Original List is : \",num_list)\n",
        "new_list = list(map(add_2, num_list))\n",
        "print(\"Modified List is \", new_list)"
      ],
      "execution_count": 0,
      "outputs": []
    },
    {
      "cell_type": "markdown",
      "metadata": {
        "id": "0GZH6oB96RvW",
        "colab_type": "text"
      },
      "source": [
        "('Original List is : ', [8, 9, 10, 11, 12, 13, 14])\n",
        "('Modified List is ', [10, 11, 12, 13, 14, 15, 16])"
      ]
    },
    {
      "cell_type": "markdown",
      "metadata": {
        "id": "dLUuRPkn6Tpw",
        "colab_type": "text"
      },
      "source": [
        "In the above code, the map() function calls add_2() which adds 2 to every value in the list.  You can even pass more than one sequence in the map() function.  But in this case, remember two things: \n",
        "\n",
        "First, the function must have as many arguments as there are sequences.\n",
        "Second, each argument is called with the corresponding item from each sequence\n",
        "\n",
        "\n",
        "**Program to pass more than one sequence to the map() function** \n",
        "\n"
      ]
    },
    {
      "cell_type": "code",
      "metadata": {
        "id": "8Z5WnQYT6-19",
        "colab_type": "code",
        "colab": {}
      },
      "source": [
        "def add(x,y):\n",
        "  return x+y\n",
        "list1 = [6,7,8,9,10]\n",
        "list2 =[11,12,13,14,15]\n",
        "list3 =list(map(add,list1,list2))\n",
        "print(\"Sum of   \", list1, \"and \", list2, \" =  \",list3)\n"
      ],
      "execution_count": 0,
      "outputs": []
    },
    {
      "cell_type": "markdown",
      "metadata": {
        "id": "8u57dEF6-VWw",
        "colab_type": "text"
      },
      "source": [
        "('Sum of   ', [6, 7, 8, 9, 10], 'and ', [11, 12, 13, 14, 15], ' =  ', [17, 19, 21, 23, 25])"
      ]
    },
    {
      "cell_type": "markdown",
      "metadata": {
        "id": "Ed1gZMpYBWPz",
        "colab_type": "text"
      },
      "source": [
        "**Reduce() function** \n",
        "\n",
        "The reduce function returns a single value generated by calling the function on the first two items of the sequence, then on the result and the next item, and so on.  **Syntax**:\n",
        "\n",
        "reduce(function, sequence)\n",
        "\n",
        "Calculate the sum of values in a list using the reduce() function"
      ]
    },
    {
      "cell_type": "code",
      "metadata": {
        "id": "QF9rQ9dfB2SH",
        "colab_type": "code",
        "colab": {
          "base_uri": "https://localhost:8080/",
          "height": 51
        },
        "outputId": "6a6e8fbb-742f-457a-a4d8-da6ee43c106a"
      },
      "source": [
        "import functools\n",
        "def add(x,y):\n",
        "  return x+y\n",
        "num_list = [6,7,8,9,10]\n",
        "print(\"Sum of values in list =  \")\n",
        "print(functools.reduce(add, num_list))"
      ],
      "execution_count": 23,
      "outputs": [
        {
          "output_type": "stream",
          "text": [
            "Sum of values in list =  \n",
            "40\n"
          ],
          "name": "stdout"
        }
      ]
    },
    {
      "cell_type": "markdown",
      "metadata": {
        "id": "YayoBz5kCp75",
        "colab_type": "text"
      },
      "source": [
        "**Important points: **\n",
        "*   If there is only one item in the sequence, then its value is returned. \n",
        "*   If the sequence is empty, an exception is raised.\n",
        "*   Creating a list in a very extensive range will generate a Memory Error or OverflowError.  \n",
        "*   List = [5*i for i in range(100**100) \n",
        "\n",
        "\n",
        "**Programming Examples**\n",
        "\n",
        "Write a program that creates a list of numbers from 1-20 that are either divisible by 4 or 8 without using the filter function.\n",
        "\n",
        "\n",
        "\n"
      ]
    },
    {
      "cell_type": "code",
      "metadata": {
        "id": "nDwyPt9RDmxF",
        "colab_type": "code",
        "colab": {
          "base_uri": "https://localhost:8080/",
          "height": 34
        },
        "outputId": "eb05739c-9114-4089-cf72-895f311515c1"
      },
      "source": [
        "div_4_8 = []\n",
        "for i in range(2,44):\n",
        "  if(i%4 ==0 or i%8==0):\n",
        "    div_4_8.append(i)\n",
        "print(div_4_8)"
      ],
      "execution_count": 24,
      "outputs": [
        {
          "output_type": "stream",
          "text": [
            "[4, 8, 12, 16, 20, 24, 28, 32, 36, 40]\n"
          ],
          "name": "stdout"
        }
      ]
    },
    {
      "cell_type": "markdown",
      "metadata": {
        "id": "_9CDa4wnEYYG",
        "colab_type": "text"
      },
      "source": [
        "Write a program using filter function to a list of squares of numbers from 1-15.  Then use the for  ..... in construct to sum the elements in the list generated.  "
      ]
    },
    {
      "cell_type": "code",
      "metadata": {
        "id": "R-hAW67qElzx",
        "colab_type": "code",
        "colab": {}
      },
      "source": [
        "def square(x):\n",
        "  return(x**2)\n",
        "square =[]\n",
        "square =list(filter(square,range(1,16)))\n",
        "#  the filter () constructs a list from those elements of the list for which a function returns True. \n",
        "print(\"List of squares in the range  of 1-15 :\",square)\n",
        "sum = 0 \n",
        "for i in square:\n",
        "  sum += i\n",
        "print(\"Sum of squares in the range of 1-15\",sum)"
      ],
      "execution_count": 0,
      "outputs": []
    },
    {
      "cell_type": "markdown",
      "metadata": {
        "id": "bRRGV48QL9PZ",
        "colab_type": "text"
      },
      "source": [
        "Write a program to create a list of numbers in the range of 1-20.  Then delete all the even numbers from the list and print final list."
      ]
    },
    {
      "cell_type": "code",
      "metadata": {
        "id": "fJgnALujTiNl",
        "colab_type": "code",
        "colab": {
          "base_uri": "https://localhost:8080/",
          "height": 51
        },
        "outputId": "6ff84038-3367-4800-e458-b1ef69ec1050"
      },
      "source": [
        "num_list = [] \n",
        "for i in range (1,21):\n",
        "  num_list.append(i)\n",
        "print(\"Original List : \", num_list)\n",
        "for index, i in enumerate(num_list): # The enumerate function is used when you \n",
        "  if(i%2==0):       # want to print both index as well as item in list.\n",
        "    del num_list[index]\n",
        "print(\"List after deleting even numbers : \",num_list)"
      ],
      "execution_count": 30,
      "outputs": [
        {
          "output_type": "stream",
          "text": [
            "Original List :  [1, 2, 3, 4, 5, 6, 7, 8, 9, 10, 11, 12, 13, 14, 15, 16, 17, 18, 19, 20]\n",
            "List after deleting even numbers :  [1, 3, 5, 7, 9, 11, 13, 15, 17, 19]\n"
          ],
          "name": "stdout"
        }
      ]
    },
    {
      "cell_type": "markdown",
      "metadata": {
        "id": "hkrIli6fUx5L",
        "colab_type": "text"
      },
      "source": [
        "**Using the range () function**\n",
        "If you need to print index, then you can use the range() function.\n",
        "\n",
        "Program to print the index of values in a list. "
      ]
    },
    {
      "cell_type": "code",
      "metadata": {
        "id": "1pdgb13xVF6r",
        "colab_type": "code",
        "colab": {
          "base_uri": "https://localhost:8080/",
          "height": 119
        },
        "outputId": "a3a3e140-4076-4713-b43c-53798b7859d1"
      },
      "source": [
        "num_list = [6,7,8,9,10,11]\n",
        "for i in range(len(num_list)):\n",
        "  print(\"index :  \",i)"
      ],
      "execution_count": 31,
      "outputs": [
        {
          "output_type": "stream",
          "text": [
            "index :   0\n",
            "index :   1\n",
            "index :   2\n",
            "index :   3\n",
            "index :   4\n",
            "index :   5\n"
          ],
          "name": "stdout"
        }
      ]
    },
    {
      "cell_type": "markdown",
      "metadata": {
        "id": "_sdIilWJVrih",
        "colab_type": "text"
      },
      "source": [
        "**Write a program to print index at which a particular value exists.  If the value exists at multiple location in the list, then print all the indices.  Also count the number of times that value is repeated in the list.**\n",
        "\n"
      ]
    },
    {
      "cell_type": "code",
      "metadata": {
        "id": "z6-kwKofV_aQ",
        "colab_type": "code",
        "colab": {
          "base_uri": "https://localhost:8080/",
          "height": 85
        },
        "outputId": "c1e6802f-e040-4f9c-d565-4aa49e6ecd21"
      },
      "source": [
        "num_list =[11,12,13,14,15,16,15,14,13,12,11]\n",
        "num =int(input(\"Enter the value to be searched: : \"))\n",
        "i = 0\n",
        "count = 0\n",
        "while i<len(num_list):\n",
        "  if num == num_list[i]:  # if no is found in the list with index.\n",
        "    print(num, \" found at location\",i)\n",
        "    count += 1\n",
        "  i += 1\n",
        "print(num, \" appears\", count, \"times in the list\")\n",
        "\n"
      ],
      "execution_count": 33,
      "outputs": [
        {
          "output_type": "stream",
          "text": [
            "Enter the value to be searched: : 13\n",
            "13  found at location 2\n",
            "13  found at location 8\n",
            "13  appears 2 times in the list\n"
          ],
          "name": "stdout"
        }
      ]
    },
    {
      "cell_type": "markdown",
      "metadata": {
        "id": "JkFzkXoSYKed",
        "colab_type": "text"
      },
      "source": [
        "Write a program that creates a list of words by combining the words in two individual list."
      ]
    },
    {
      "cell_type": "code",
      "metadata": {
        "id": "StN9E3RSbvhj",
        "colab_type": "code",
        "colab": {
          "base_uri": "https://localhost:8080/",
          "height": 34
        },
        "outputId": "4be8bda0-e8b1-4bb9-d1f7-c83a148d2c01"
      },
      "source": [
        "list_words = [] \n",
        "for x in [\"Hello  \", \"World   \"]:\n",
        "  for y in [\"Python   \", \"Programming   \"]:\n",
        "    word = x + y\n",
        "    list_words.append(word)\n",
        "print(\"List combining the words in two individuals list is :  \",list_words)"
      ],
      "execution_count": 36,
      "outputs": [
        {
          "output_type": "stream",
          "text": [
            "List combining the words in two individuals list is :   ['Hello  Python   ', 'Hello  Programming   ', 'World   Python   ', 'World   Programming   ']\n"
          ],
          "name": "stdout"
        }
      ]
    },
    {
      "cell_type": "markdown",
      "metadata": {
        "id": "-G1yx3AXcfX4",
        "colab_type": "text"
      },
      "source": [
        "Write a program that forms a list of first character of every word in another list. "
      ]
    },
    {
      "cell_type": "code",
      "metadata": {
        "id": "9TtFuzfwcjmb",
        "colab_type": "code",
        "colab": {
          "base_uri": "https://localhost:8080/",
          "height": 34
        },
        "outputId": "45cee96b-fd93-4f8f-fe3c-ca4493d0ddff"
      },
      "source": [
        "list1 = [\"Hello\", \"Hi\", \"There\", \"Welcome\", \"To\", \"World\", \"Of\", \"Programming\"]\n",
        "letters=[]\n",
        "for word in list1:\n",
        "  letters.append(word[0])\n",
        "print(letters)"
      ],
      "execution_count": 40,
      "outputs": [
        {
          "output_type": "stream",
          "text": [
            "['H', 'H', 'T', 'W', 'T', 'W', 'O', 'P']\n"
          ],
          "name": "stdout"
        }
      ]
    },
    {
      "cell_type": "markdown",
      "metadata": {
        "id": "_tR3Ko2beRo_",
        "colab_type": "text"
      },
      "source": [
        "write a program to remove all duplicates from a list. "
      ]
    },
    {
      "cell_type": "code",
      "metadata": {
        "id": "9u9gUguzeVJw",
        "colab_type": "code",
        "colab": {
          "base_uri": "https://localhost:8080/",
          "height": 51
        },
        "outputId": "0e2ee7c0-2db5-4f30-fee4-e3667e96b622"
      },
      "source": [
        "num_list =[11,12,13,14,15,16,15,14,13,12,11]\n",
        "print(\"Original List: \",num_list)\n",
        "i =0  # next use of while and for loop\n",
        "while i<len(num_list): # two lists num_list[i] & [j]\n",
        "  num = num_list[i]\n",
        "  for j in range(i+1, len(num_list)):\n",
        "    val = num_list[j]\n",
        "    if val == num:\n",
        "      num_list.pop(j)\n",
        "  i = i +1\n",
        "\n",
        "print(\" List after removing duplicates :\", num_list)\n",
        "\n",
        "# while loop is to iterate over the elements of  i \n",
        "# for loop is to iterate over the already found i plus one \n",
        "# if is used to compare num [i] and val [j] and delete duplicate element [j]  "
      ],
      "execution_count": 41,
      "outputs": [
        {
          "output_type": "stream",
          "text": [
            "Original List:  [11, 12, 13, 14, 15, 16, 15, 14, 13, 12, 11]\n",
            " List after removing duplicates : [11, 12, 13, 14, 15, 16]\n"
          ],
          "name": "stdout"
        }
      ]
    },
    {
      "cell_type": "markdown",
      "metadata": {
        "id": "H-X73mHgg4hC",
        "colab_type": "text"
      },
      "source": [
        "Write a program to create a list of numbers in the specified range in particular steps.  Reverse the list and print its value.  "
      ]
    },
    {
      "cell_type": "code",
      "metadata": {
        "id": "KF5ZxQQhhASd",
        "colab_type": "code",
        "colab": {
          "base_uri": "https://localhost:8080/",
          "height": 102
        },
        "outputId": "dc6da325-6982-44a7-e6fb-3cd605d5b669"
      },
      "source": [
        "num_list =[]\n",
        "m = int(input(\"Enter the starting of the range :  \"))\n",
        "n = int(input(\"Enter the ending of the range :  \"))\n",
        "o = int(input(\"Enter the steps of the range :  \"))\n",
        "for i in range(m,n,o):\n",
        "  num_list.append(i)\n",
        "print(\"Original List : \", num_list)\n",
        "num_list.reverse()\n",
        "print(\"Reversed List : \",num_list)"
      ],
      "execution_count": 42,
      "outputs": [
        {
          "output_type": "stream",
          "text": [
            "Enter the starting of the range :  10\n",
            "Enter the ending of the range :  100\n",
            "Enter the steps of the range :  6\n",
            "Original List :  [10, 16, 22, 28, 34, 40, 46, 52, 58, 64, 70, 76, 82, 88, 94]\n",
            "Reversed List :  [94, 88, 82, 76, 70, 64, 58, 52, 46, 40, 34, 28, 22, 16, 10]\n"
          ],
          "name": "stdout"
        }
      ]
    },
    {
      "cell_type": "markdown",
      "metadata": {
        "id": "75KzAPH5iLXz",
        "colab_type": "text"
      },
      "source": [
        "Write a program that creates a list of 20 random integers.  Then creates two list.  Odd list and Even list that has all and even values in the list respectively. "
      ]
    },
    {
      "cell_type": "code",
      "metadata": {
        "id": "lNdLcmLLiWh1",
        "colab_type": "code",
        "colab": {
          "base_uri": "https://localhost:8080/",
          "height": 68
        },
        "outputId": "41c3d92d-d397-46b7-9a7b-82ef700a6408"
      },
      "source": [
        "import random\n",
        "num_list=[]\n",
        "for i in range(20):\n",
        "  val = random.randint(1,200)\n",
        "  num_list.append(val)\n",
        "print(\"Original List : \", num_list)\n",
        "even_list = []\n",
        "odd_list = [] \n",
        "for i in range(len(num_list)):\n",
        "  if(num_list[i] % 2 == 0):\n",
        "    even_list.append(num_list[i])\n",
        "  else:\n",
        "    odd_list.append(num_list[i])\n",
        "print(\"Even Numbers List =  \",even_list)\n",
        "print(\"Odd Numbers List =  \",odd_list)"
      ],
      "execution_count": 43,
      "outputs": [
        {
          "output_type": "stream",
          "text": [
            "Original List :  [30, 104, 36, 178, 41, 30, 146, 104, 38, 199, 134, 181, 125, 199, 170, 70, 132, 110, 86, 44]\n",
            "Even Numbers List =   [30, 104, 36, 178, 30, 146, 104, 38, 134, 170, 70, 132, 110, 86, 44]\n",
            "Odd Numbers List =   [41, 199, 181, 125, 199]\n"
          ],
          "name": "stdout"
        }
      ]
    },
    {
      "cell_type": "markdown",
      "metadata": {
        "id": "9dQEOOUumyHE",
        "colab_type": "text"
      },
      "source": [
        "Write a program to create a list of first 30 odd numbers using the shortcut method.  "
      ]
    },
    {
      "cell_type": "code",
      "metadata": {
        "id": "xMxB0v4wm5B7",
        "colab_type": "code",
        "colab": {
          "base_uri": "https://localhost:8080/",
          "height": 54
        },
        "outputId": "855e7ed1-c1b1-4ebe-c788-47acccdcfc2e"
      },
      "source": [
        "odd = [2*i + 1 for i in range(50)]\n",
        "print(odd)"
      ],
      "execution_count": 45,
      "outputs": [
        {
          "output_type": "stream",
          "text": [
            "[1, 3, 5, 7, 9, 11, 13, 15, 17, 19, 21, 23, 25, 27, 29, 31, 33, 35, 37, 39, 41, 43, 45, 47, 49, 51, 53, 55, 57, 59, 61, 63, 65, 67, 69, 71, 73, 75, 77, 79, 81, 83, 85, 87, 89, 91, 93, 95, 97, 99]\n"
          ],
          "name": "stdout"
        }
      ]
    },
    {
      "cell_type": "markdown",
      "metadata": {
        "id": "8MAb-hounk4b",
        "colab_type": "text"
      },
      "source": [
        "Write a program that passes a list to a function that scales each elements in the list by a factor of 10.   \n",
        "Print the list values at different stages to show that changes made to one list is automatically reflected in other list.  \n",
        "\n"
      ]
    },
    {
      "cell_type": "code",
      "metadata": {
        "id": "j0PNkgGOoD9Y",
        "colab_type": "code",
        "colab": {
          "base_uri": "https://localhost:8080/",
          "height": 68
        },
        "outputId": "b52a7a24-8c8f-4e3a-927e-d1b595ca6106"
      },
      "source": [
        "def change(list1): # program passes a list to a function.\n",
        "  for i in range(len(list1)):\n",
        "    list1[i] = list1[i] * 10\n",
        "  print(\"After change in function, List is \",list1)\n",
        "num_list=[1,2,3,4,5,6]\n",
        "print(\"Original List is \",num_list)\n",
        "change(num_list)\n",
        "print(\"List after change is : \",num_list)  \n"
      ],
      "execution_count": 47,
      "outputs": [
        {
          "output_type": "stream",
          "text": [
            "Original List is  [1, 2, 3, 4, 5, 6]\n",
            "After change in function, List is  [10, 20, 30, 40, 50, 60]\n",
            "List after change is :  [10, 20, 30, 40, 50, 60]\n"
          ],
          "name": "stdout"
        }
      ]
    },
    {
      "cell_type": "markdown",
      "metadata": {
        "id": "Xi4CPbayqG3H",
        "colab_type": "text"
      },
      "source": [
        "Write a program that has a list of both positive and negative numbers.\n",
        "Create another list using filter() that has only positive value.  "
      ]
    },
    {
      "cell_type": "code",
      "metadata": {
        "id": "mm2I23sDq9G2",
        "colab_type": "code",
        "colab": {}
      },
      "source": [
        "def is_positive(x):\n",
        "  if x>0:\n",
        "    return x\n",
        "num_list = [10,-20,30,-40,50,-60,70,-80,90,-100]\n",
        "List = [] \n",
        "List = list(filter(is_positive, num_list))\n",
        "print(\"Positive Values List = \",List)\n"
      ],
      "execution_count": 0,
      "outputs": []
    },
    {
      "cell_type": "markdown",
      "metadata": {
        "id": "JCdvCQF7qGwv",
        "colab_type": "text"
      },
      "source": [
        "('Positive Values List = ', [10, 30, 50, 70, 90])"
      ]
    },
    {
      "cell_type": "markdown",
      "metadata": {
        "id": "28dPYXSmsjht",
        "colab_type": "text"
      },
      "source": [
        "Write a program that converts string of all uppercase characters into strings of all lowercase characters using map() function.\n",
        "syntax map(function,sequence) "
      ]
    },
    {
      "cell_type": "code",
      "metadata": {
        "id": "3duNtakx0ILm",
        "colab_type": "code",
        "colab": {}
      },
      "source": [
        "def squares (x):\n",
        "  return x*x\n",
        "sq_list = list(map(squares, range(1,11)))\n",
        "print(\"List of squares from 1-10 : \",sq_list)"
      ],
      "execution_count": 0,
      "outputs": []
    },
    {
      "cell_type": "markdown",
      "metadata": {
        "id": "S8JrBOog0w8Q",
        "colab_type": "text"
      },
      "source": [
        "('List of squares from 1-10 : ', [1, 4, 9, 16, 25, 36, 49, 64, 81, 100])\n"
      ]
    },
    {
      "cell_type": "markdown",
      "metadata": {
        "id": "CA5s8AerICoe",
        "colab_type": "text"
      },
      "source": [
        "Write a program to combine values in two list using list comprehension.\n",
        "Combine only those values of a list that are multiples of value in the first list.  "
      ]
    },
    {
      "cell_type": "code",
      "metadata": {
        "id": "g8Sx9zwVINpw",
        "colab_type": "code",
        "colab": {
          "base_uri": "https://localhost:8080/",
          "height": 34
        },
        "outputId": "95f9e305-9c62-4484-bf8b-ed4834ff25fe"
      },
      "source": [
        "print ([(x,y) for x in [10,20,30,50] for y in [35,40,55,60] if y % x == 0 or x%y ==0])"
      ],
      "execution_count": 52,
      "outputs": [
        {
          "output_type": "stream",
          "text": [
            "[(10, 40), (10, 60), (20, 40), (20, 60), (30, 60)]\n"
          ],
          "name": "stdout"
        }
      ]
    },
    {
      "cell_type": "markdown",
      "metadata": {
        "id": "kZ7IIDrGJ10r",
        "colab_type": "text"
      },
      "source": [
        "Write a program that converts a list of temperature in Celsius into Fahrenheit."
      ]
    },
    {
      "cell_type": "code",
      "metadata": {
        "id": "bZYy2sCTJ9o4",
        "colab_type": "code",
        "colab": {}
      },
      "source": [
        "def convert_to_F(Temp_C):\n",
        "  return ((float(9)/5) * Temp_C + 32)\n",
        "Temp_in_C = (36.5, 37,37.5, 39)\n",
        "Temp_in_F = list(map(convert_to_F, Temp_in_C))\n",
        "print(\"List of temperatures in Celsius : \", Temp_in_C)\n",
        "print(\"List of temperatures in Fahrenheir : \", Temp_in_F)"
      ],
      "execution_count": 0,
      "outputs": []
    },
    {
      "cell_type": "markdown",
      "metadata": {
        "id": "e17N5WD7MU7-",
        "colab_type": "text"
      },
      "source": [
        "('List of temperatures in Celsius : ', (36.5, 37, 37.5, 39))\n",
        "('List of temperatures in Fahrenheir : ', [97.7, 98.60000000000001, 99.5, 102.2])\n",
        "\n",
        "\n",
        "Write a program to find largest value in a list using reduce () function."
      ]
    },
    {
      "cell_type": "code",
      "metadata": {
        "id": "p3ZgFhAfMcTG",
        "colab_type": "code",
        "colab": {
          "base_uri": "https://localhost:8080/",
          "height": 34
        },
        "outputId": "26ef7c3c-d1f4-42a4-dde1-6e51291d53ba"
      },
      "source": [
        "import functools\n",
        "def max_ele(x,y):\n",
        "  return x>y\n",
        "num_list = [4,1,8,2,9,3,0]\n",
        "print(\"Largest value in the list is : \", functools.reduce(max,num_list))\n"
      ],
      "execution_count": 56,
      "outputs": [
        {
          "output_type": "stream",
          "text": [
            "Largest value in the list is :  9\n"
          ],
          "name": "stdout"
        }
      ]
    },
    {
      "cell_type": "markdown",
      "metadata": {
        "id": "C37fynvkM6iV",
        "colab_type": "text"
      },
      "source": [
        "Write a program that has a list of functions that scales a number by a factory of 2,3 & 4.  Call each function in the list on a given number.  "
      ]
    },
    {
      "cell_type": "code",
      "metadata": {
        "id": "0KzfZu1VND-U",
        "colab_type": "code",
        "colab": {
          "base_uri": "https://localhost:8080/",
          "height": 102
        },
        "outputId": "389218d1-e124-4464-a371-c9990398361f"
      },
      "source": [
        "L = [lambda x: x*2, lambda x: x*3, lambda x:x*4]\n",
        "for f in L:\n",
        "  print(f(5))   # element 5 is inserted in \n",
        "print(\"\\n Multiplying the value of 100 by 2 we get : \", (L[0](100)))"
      ],
      "execution_count": 57,
      "outputs": [
        {
          "output_type": "stream",
          "text": [
            "10\n",
            "15\n",
            "20\n",
            "\n",
            " Multiplying the value of 100 by 2 we get :  200\n"
          ],
          "name": "stdout"
        }
      ]
    },
    {
      "cell_type": "markdown",
      "metadata": {
        "id": "jJei-CY1sjaR",
        "colab_type": "text"
      },
      "source": [
        ""
      ]
    },
    {
      "cell_type": "markdown",
      "metadata": {
        "id": "cTJaGm3QN5Xd",
        "colab_type": "text"
      },
      "source": [
        "Write a program to generate in the Fibonacci sequence and store it in a list.\n",
        "Then filed the sum of the even-valued terms.  "
      ]
    },
    {
      "cell_type": "code",
      "metadata": {
        "id": "jApk6XBAOBBf",
        "colab_type": "code",
        "colab": {
          "base_uri": "https://localhost:8080/",
          "height": 68
        },
        "outputId": "8f0c1b28-c2c5-4849-b5fe-e3075d1f9b77"
      },
      "source": [
        "a = 0 \n",
        "b = 1\n",
        "n = int(input(\"Enter the number of terms :  \")) \n",
        "i = 2\n",
        "List = [a,b]\n",
        "while i<n:\n",
        "  s = a + b\n",
        "  List.append(s)\n",
        "  a = b\n",
        "  b = s\n",
        "  i += 1\n",
        "print(List)\n",
        "i=0 \n",
        "sum = 0\n",
        "while i<n:\n",
        "  sum += List[i]\n",
        "  i += 2  # is same as i = i + 2 \n",
        "print(\"SUM =  \",sum)"
      ],
      "execution_count": 59,
      "outputs": [
        {
          "output_type": "stream",
          "text": [
            "Enter the number of terms :  10\n",
            "[0, 1, 1, 2, 3, 5, 8, 13, 21, 34]\n",
            "SUM =   33\n"
          ],
          "name": "stdout"
        }
      ]
    },
    {
      "cell_type": "markdown",
      "metadata": {
        "id": "1JxuAm_NZB9I",
        "colab_type": "text"
      },
      "source": [
        "Write a program to find the median of a list of numbers."
      ]
    },
    {
      "cell_type": "code",
      "metadata": {
        "id": "-ZT1elHxZIFf",
        "colab_type": "code",
        "colab": {
          "base_uri": "https://localhost:8080/",
          "height": 340
        },
        "outputId": "263304dd-27ab-42b7-b1d3-e375495963ef"
      },
      "source": [
        "List = [] \n",
        "n = int(input(\"Enter the number of elements to be inserted in the list:\"))\n",
        "for i in range(n):\n",
        "  print(\"Enter number\" , i + 1, \" : \")\n",
        "  num = int(input())\n",
        "  List.append(num)\n",
        "print(\"Sorted List is .............\")\n",
        "List = sorted(List)\n",
        "i = len(List)-1\n",
        "if n%2 !=0:\n",
        "  print(\"MEDIAN = \", List[i//2])\n",
        "else:\n",
        "  print(\"MEDIAN = \", (List[i//2] + List[i+1//2])/2)\n"
      ],
      "execution_count": 60,
      "outputs": [
        {
          "output_type": "stream",
          "text": [
            "Enter the number of elements to be inserted in the list:8\n",
            "Enter number 1  : \n",
            "3\n",
            "Enter number 2  : \n",
            "8\n",
            "Enter number 3  : \n",
            "2\n",
            "Enter number 4  : \n",
            "6\n",
            "Enter number 5  : \n",
            "5\n",
            "Enter number 6  : \n",
            "7\n",
            "Enter number 7  : \n",
            "4\n",
            "Enter number 8  : \n",
            "9\n",
            "Sorted List is .............\n",
            "MEDIAN =  7.0\n"
          ],
          "name": "stdout"
        }
      ]
    },
    {
      "cell_type": "markdown",
      "metadata": {
        "id": "V0mHLYzqa80u",
        "colab_type": "text"
      },
      "source": [
        "Write a program to add two matrices ( using nested list)\n"
      ]
    },
    {
      "cell_type": "code",
      "metadata": {
        "id": "IIt7Fui8bBzu",
        "colab_type": "code",
        "colab": {
          "base_uri": "https://localhost:8080/",
          "height": 68
        },
        "outputId": "2abb2dd5-446d-498a-be07-f308b151ad0d"
      },
      "source": [
        "X = [[2,5,4],[1,3,9],[7,6,2]]\n",
        "Y = [[1,8,5],[7,3,6],[4,0,9]]\n",
        "result = [[0,0,0],[0,0,0],[0,0,0]]\n",
        "for i in range(len(X)):\n",
        "  for j in range(len(X[0])):\n",
        "    result[i][j] = X[i][j] + Y[i][j]\n",
        "for r in result:\n",
        "  print(r)\n"
      ],
      "execution_count": 61,
      "outputs": [
        {
          "output_type": "stream",
          "text": [
            "[3, 13, 9]\n",
            "[8, 6, 15]\n",
            "[11, 6, 11]\n"
          ],
          "name": "stdout"
        }
      ]
    },
    {
      "cell_type": "markdown",
      "metadata": {
        "id": "LJckhAUCcFz9",
        "colab_type": "text"
      },
      "source": [
        "Write a program to calculate the distance between two points. "
      ]
    },
    {
      "cell_type": "code",
      "metadata": {
        "id": "0JPFUTi8cKzX",
        "colab_type": "code",
        "colab": {}
      },
      "source": [
        "import math\n",
        "p1 =[]\n",
        "p2 =[]\n",
        "x1 = int(input(\"Enter the x co-ordinate of starting point:  \"))\n",
        "y1 = int(input(\"Enter the y co-ordinate of starting point:  \"))\n",
        "x2 = int(input(\"Enter the x co-ordinate of ending point:  \"))\n",
        "y2 = int(input(\"Enter the x co-ordinate of ending point:  \"))\n",
        "p1.append(x1)\n",
        "p1.append(x2)\n",
        "p2.append(y1)\n",
        "p2.append(y2)\n",
        "\n",
        "distance = math.sqrt((p1[0]-p2[0]**2)+ ((p1[1]-p2[1]**2))\n",
        "print(\"DISTANCE = %f\" %distance)"
      ],
      "execution_count": 0,
      "outputs": []
    }
  ]
}