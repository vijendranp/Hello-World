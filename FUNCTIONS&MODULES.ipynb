{
  "nbformat": 4,
  "nbformat_minor": 0,
  "metadata": {
    "colab": {
      "name": "FUNCTIONS&MODULES.ipynb",
      "provenance": [],
      "collapsed_sections": [],
      "authorship_tag": "ABX9TyMuzzlPdX6NZgNZ/Jo5r8ec",
      "include_colab_link": true
    },
    "kernelspec": {
      "name": "python3",
      "display_name": "Python 3"
    }
  },
  "cells": [
    {
      "cell_type": "markdown",
      "metadata": {
        "id": "view-in-github",
        "colab_type": "text"
      },
      "source": [
        "<a href=\"https://colab.research.google.com/github/vijendranp/Hello-World/blob/master/FUNCTIONS%26MODULES.ipynb\" target=\"_parent\"><img src=\"https://colab.research.google.com/assets/colab-badge.svg\" alt=\"Open In Colab\"/></a>"
      ]
    },
    {
      "cell_type": "code",
      "metadata": {
        "id": "FodZR5c5nSio",
        "colab_type": "code",
        "colab": {}
      },
      "source": [
        ""
      ],
      "execution_count": 0,
      "outputs": []
    },
    {
      "cell_type": "markdown",
      "metadata": {
        "id": "zOaxgLRvnUBD",
        "colab_type": "text"
      },
      "source": [
        "# FUNCTIONS AND MODULES.\n",
        "\n",
        "A function is a block of organized and reusable program code that performs a single, specific and well defined task.  \n",
        "\n",
        "All the libraries in python contain pre-defined and pre-tested functions, which the programmers are free to use directly in their programs, without worrying about the details of the code. \n",
        "\n",
        "Code reuse is one of the most prominent reason to use functions. \n",
        "\n",
        "Large programs usually follow the **DRY** principle, that is Dont Repeat Yourself.\n",
        "\n",
        "Correspondingly, a bad repetitive code abides by the **WET** principle.  We enjoy typing.  \n",
        "\n",
        "\n",
        "** Function Declaration and Definition **\n",
        "\n",
        "A function can be compared to a black box that takes in input, processes it and then spits out the result.  \n",
        "\n",
        "A function x that uses another function y, is known as calling function, and y is known as the called function.  The inputs that the function takes are known as arguments/ parameter.  \n",
        "\n",
        "when a called function returns some result back to the calling function, it is said to return that result.  \n",
        "\n",
        "***Function Declaration*** is a declaration statement that identifies the funtion with its name, list of arguments that it accepts, and type of data it returns.  \n",
        "\n",
        "***Function Definition*** consists of a function header that identifies the function, followed by the body of the function containing the executable code for that function.  \n",
        "\n",
        "**bold text**\n",
        "\n",
        "Tip : Function naming follows the same rules of writing identifiers in Python.  \n",
        "\n",
        "\n",
        "The function definition starts with the keyword def. \n",
        "The keyword is followed by the function name and the parentheses().\n",
        "After the parentheses : is placed.  \n",
        "The first statement of a function can be an optional statement -- the documentation string of the function describe what function does.  \n",
        "\n",
        "The code block within the function is properly indented to form the block code.  \n",
        "\n",
        "A function may have a return statement.  That is, the return statement is optional. If it exists it passes back an expression to the caller. \n",
        "\n",
        "You can assign the function name to a variable.  \n",
        "\n",
        "\n",
        "Program that substracts two numbers using a function."
      ]
    },
    {
      "cell_type": "code",
      "metadata": {
        "id": "fwKd3jnEr5FV",
        "colab_type": "code",
        "colab": {}
      },
      "source": [
        "# function to substract two numbers.\n",
        "\n",
        "\n",
        "def diff (x,y):\n",
        "  return x-y\n",
        "\n",
        "a = 20\n",
        "b = 10\n",
        "\n",
        "operation = diff # function name assigned to a variable \n",
        "print(operation(a,b)) # function called using the variable name.\n",
        "    \n",
        "\n"
      ],
      "execution_count": 0,
      "outputs": []
    },
    {
      "cell_type": "markdown",
      "metadata": {
        "id": "78ylJCW8s-yK",
        "colab_type": "text"
      },
      "source": [
        "**Note** The words before parenthese specifies the function name, and the comma separated values inside the parentheses are function arguments.  \n",
        "\n",
        "\n",
        "Syntax of a Function : \n",
        "\n",
        "When a function is defined space is allocated for that function in the memory.  A function definition comprises two parts; \n",
        "\n",
        "Function header \n",
        "Function body \n",
        "\n",
        "**Fun header ** def func-name (variable1, variable2) \n",
        "**Fun body ** documentation string\n",
        "              statement block \n",
        "              return expression. \n",
        "\n",
        "  To write a function that displays a string repeatedly \n",
        "\n",
        "  "
      ]
    },
    {
      "cell_type": "code",
      "metadata": {
        "id": "DyCcmjvsugWI",
        "colab_type": "code",
        "colab": {
          "base_uri": "https://localhost:8080/",
          "height": 85
        },
        "outputId": "d5b9562b-cec4-4035-db3c-0a63090c996f"
      },
      "source": [
        "def func():\n",
        "  for i in range(4):\n",
        "    print(\"Hello World\")\n",
        "\n",
        "func()"
      ],
      "execution_count": 2,
      "outputs": [
        {
          "output_type": "stream",
          "text": [
            "Hello World\n",
            "Hello World\n",
            "Hello World\n",
            "Hello World\n"
          ],
          "name": "stdout"
        }
      ]
    },
    {
      "cell_type": "markdown",
      "metadata": {
        "id": "mw1-dqmFuy2M",
        "colab_type": "text"
      },
      "source": [
        "**The indented statement forms the body of the function**\n",
        "**The parameter list in the definition as well as declaration must match with each other.**\n",
        "\n",
        "The function is first defined before being called, the statement in the function are executed only when the function is called.  \n",
        "\n",
        "**Note: ** When the function is called the interpreter checks that the correct number and types of arguments are used in the function call.  It also checks the type of the returned value ( if it returns a value to the calling function) \n",
        "\n",
        "**Note**  Listof variable used in function call is also known as actual parameter list.  The actual parameter list may be variable names, expression or constants.  \n",
        "\n",
        "Parameters are specified within the pair of parentheses in function definition and are separated by commas.  \n",
        "\n",
        "**Key Points to Remember**\n",
        "\n",
        "The function name adn the number of arguments in the function call must be same as that given in the function definition.  \n",
        "\n",
        "Program to demonstrate that arguments may be passed in the form of expression to the called function. "
      ]
    },
    {
      "cell_type": "code",
      "metadata": {
        "id": "iLusH7-xxE11",
        "colab_type": "code",
        "colab": {
          "base_uri": "https://localhost:8080/",
          "height": 34
        },
        "outputId": "0a29c9e7-ffbf-4e8c-93cc-d65e3bb7c88c"
      },
      "source": [
        "def func(i):\n",
        "  print(\"Hello World\", i)\n",
        "func(10+4*6)\n",
        "\n",
        "\n"
      ],
      "execution_count": 9,
      "outputs": [
        {
          "output_type": "stream",
          "text": [
            "Hello World 34\n"
          ],
          "name": "stdout"
        }
      ]
    },
    {
      "cell_type": "markdown",
      "metadata": {
        "id": "md9g2OOIzlPj",
        "colab_type": "text"
      },
      "source": [
        "**Program to add two integers using functions**\n",
        "\n"
      ]
    },
    {
      "cell_type": "code",
      "metadata": {
        "id": "ZM2DEtTIzx4c",
        "colab_type": "code",
        "colab": {
          "base_uri": "https://localhost:8080/",
          "height": 68
        },
        "outputId": "2ee86c86-133c-4b11-f888-e1d8cdac3021"
      },
      "source": [
        "def total(a,b):  # def & declaration \n",
        "  result = a+b\n",
        "  print(\"Sum of\",a, \"and\",b, \"=\", result)\n",
        "\n",
        "a = int(input(\"Enter the first number:  \"))  # variable decl\n",
        "b = int(input(\"Enter the second number:   \"))\n",
        "\n",
        "total(a,b)                                  # func call\n",
        "  \n",
        "   # function call with two arguments"
      ],
      "execution_count": 15,
      "outputs": [
        {
          "output_type": "stream",
          "text": [
            "Enter the first number:  32\n",
            "Enter the second number:   23\n",
            "Sum of 32 and 23 = 55\n"
          ],
          "name": "stdout"
        }
      ]
    },
    {
      "cell_type": "markdown",
      "metadata": {
        "id": "h-mqzS2N1ada",
        "colab_type": "text"
      },
      "source": [
        "**LOCAL & GLOBAL VARIABLE**\n",
        "\n",
        "Global variables are defined in main body of program. \n",
        "\n",
        "A variable which is defined within a function is local to that function.  \n",
        "Function parameters behave like local variables in the function.  \n",
        "\n",
        "Whenever we use the assignment operator (=) inside a function, a new local variable is created provided a variable with same name is not defined in the local scope.  \n",
        "\n",
        "Program to demonstrate the difference between local and global variables."
      ]
    },
    {
      "cell_type": "code",
      "metadata": {
        "id": "Bu6wn4IF3JxF",
        "colab_type": "code",
        "colab": {}
      },
      "source": [
        "num1 = 10  # global variable\n",
        "print(\"Global variable num1 =\",num1)\n",
        "\n",
        "# num2 is a function parameter\n",
        "def func(num2):\n",
        "  print(\"In function -- Local variable num2=\",num2)\n",
        "  num3= 30  # num3 is a local variable\n",
        "  print(\"In function -- Local variable num3=\",num3)\n",
        "\n",
        "func(20) # 20 is passed as an argument to the function. \n",
        "print(\"num1 again = \", num1) # global variable is being accessed. \n",
        "print(\"num3 outside function =   \", num3)    \n"
      ],
      "execution_count": 0,
      "outputs": []
    },
    {
      "cell_type": "code",
      "metadata": {
        "id": "0kfw8bF04-JU",
        "colab_type": "code",
        "colab": {}
      },
      "source": [
        ""
      ],
      "execution_count": 0,
      "outputs": []
    },
    {
      "cell_type": "markdown",
      "metadata": {
        "id": "BJvyWic96B0k",
        "colab_type": "text"
      },
      "source": [
        "Program to demonstrate the use of a global variable"
      ]
    },
    {
      "cell_type": "code",
      "metadata": {
        "id": "rS28p6WQ6Fuq",
        "colab_type": "code",
        "colab": {
          "base_uri": "https://localhost:8080/",
          "height": 68
        },
        "outputId": "9791df02-182f-46d2-c8a7-4790c1f312ba"
      },
      "source": [
        "var = \"Good\"\n",
        "def show():\n",
        "  global var1\n",
        "  var1 = \"Morning\"\n",
        "  print(\" In function var is -\", var)\n",
        "\n",
        "show()\n",
        "print(\"Outside function, var1 is -\",var1)\n",
        "print(\"var is \", var)\n"
      ],
      "execution_count": 19,
      "outputs": [
        {
          "output_type": "stream",
          "text": [
            " In function var is - Good\n",
            "Outside funciton, var1 is - Morning\n",
            "var is  Good\n"
          ],
          "name": "stdout"
        }
      ]
    },
    {
      "cell_type": "markdown",
      "metadata": {
        "id": "somaxvhR60oh",
        "colab_type": "text"
      },
      "source": [
        "**Keypoints to Remember**\n",
        "You can have a variable with the same name as that of a global variable in the program.  In such case, a new local variable of that name is created which is different from global variable. \n",
        "\n",
        "\n",
        "Program that demonstrates clash of global and local variable."
      ]
    },
    {
      "cell_type": "code",
      "metadata": {
        "id": "_eW5fD5z7Ohk",
        "colab_type": "code",
        "colab": {
          "base_uri": "https://localhost:8080/",
          "height": 51
        },
        "outputId": "14aaa735-3527-4db9-89c8-859cae558230"
      },
      "source": [
        "var = \"Good\"\n",
        "def show():\n",
        "  var = \"Morning\"\n",
        "  print(\" In function var is \", var)\n",
        "\n",
        "show()\n",
        "print(\"Outside function var is\", var)"
      ],
      "execution_count": 21,
      "outputs": [
        {
          "output_type": "stream",
          "text": [
            " In function var is  Morning\n",
            "Outside function var is Good\n"
          ],
          "name": "stdout"
        }
      ]
    },
    {
      "cell_type": "markdown",
      "metadata": {
        "id": "3RgN9eYM6Bw5",
        "colab_type": "text"
      },
      "source": [
        "program to demonstrate modifying global variable"
      ]
    },
    {
      "cell_type": "code",
      "metadata": {
        "id": "WlDT5EqM7516",
        "colab_type": "code",
        "colab": {
          "base_uri": "https://localhost:8080/",
          "height": 68
        },
        "outputId": "66179c88-61c6-4d13-f1ba-39239284f47b"
      },
      "source": [
        "var = \"Good\"\n",
        "def show():\n",
        "  var = \"Morning\"\n",
        "  print(\" In function var is \", var)\n",
        "\n",
        "show()\n",
        "print(\"Outside function var is\", var)\n",
        "var = \"Fantastic\"\n",
        "print(\"Outside function, after modification, var is \",var)"
      ],
      "execution_count": 22,
      "outputs": [
        {
          "output_type": "stream",
          "text": [
            " In function var is  Morning\n",
            "Outside function var is Good\n",
            "Outside function, after modification, var is  Fantastic\n"
          ],
          "name": "stdout"
        }
      ]
    },
    {
      "cell_type": "markdown",
      "metadata": {
        "id": "Z3Q78XuAzlLT",
        "colab_type": "text"
      },
      "source": [
        "**Arguments are specified within parentheses.  If there is more than one argument, then they are separated using comma**\n",
        "\n",
        "\n",
        "Program to demonstrate access of variables in inner and outer functions. \n"
      ]
    },
    {
      "cell_type": "code",
      "metadata": {
        "id": "Lhi27J2jJxfo",
        "colab_type": "code",
        "colab": {}
      },
      "source": [
        "def outer_func():\n",
        "  outer_var = 10\n",
        "  def inner_func():\n",
        "    inner_var = 20\n",
        "    print(\"Outer Variable = \",outer_var)\n",
        "    print(\"Inner Variable =\", inner_var)\n",
        "  inner_func()\n",
        "\n",
        "print(\"Outer Variable\",outer_var)\n",
        "print(\"Inner Variable\",inner_var)\n",
        "outer_func()"
      ],
      "execution_count": 0,
      "outputs": []
    },
    {
      "cell_type": "markdown",
      "metadata": {
        "id": "ew2HJsR5Lw2O",
        "colab_type": "text"
      },
      "source": [
        "If a variable in the inner function is defined with same name as that of a variable defined in the outer function, then a new variable is created in the inner function. \n",
        "\n",
        "\n",
        "Program to demonstrate name clash variables in case of nested function."
      ]
    },
    {
      "cell_type": "code",
      "metadata": {
        "id": "w5huJL7cMAP1",
        "colab_type": "code",
        "colab": {}
      },
      "source": [
        "def outer_func():\n",
        "  var = 10\n",
        "  def inner_func():\n",
        "    var = 20\n",
        "    print(\"Inner Variable =\", var)\n",
        "  inner_func()\n",
        "  print(\"Outer Variable=  \", var)\n",
        "\n",
        "outer_func()"
      ],
      "execution_count": 0,
      "outputs": []
    },
    {
      "cell_type": "markdown",
      "metadata": {
        "id": "jkZVGb3LMqM4",
        "colab_type": "text"
      },
      "source": [
        "**Resolution of Names**\n",
        "Scope defines the visibility of a name within a block. \n",
        "If a local variable is defined in a block, its scope is that particular block.\n",
        "If it is defined in a function, then its scope is all block within that function.  \n",
        "\n",
        "\n",
        "Program that demonstrates using a variable defined in global namespace\n",
        "\n"
      ]
    },
    {
      "cell_type": "code",
      "metadata": {
        "id": "NGe30hu8NRhp",
        "colab_type": "code",
        "colab": {
          "base_uri": "https://localhost:8080/",
          "height": 34
        },
        "outputId": "5998dd5f-d460-4535-f86a-6c543e5d303d"
      },
      "source": [
        "def func():\n",
        "  print(str)\n",
        "str = \"Hello World !!!\"\n",
        "func()"
      ],
      "execution_count": 27,
      "outputs": [
        {
          "output_type": "stream",
          "text": [
            "Hello World !!!\n"
          ],
          "name": "stdout"
        }
      ]
    },
    {
      "cell_type": "markdown",
      "metadata": {
        "id": "3PqYG64nNgZ9",
        "colab_type": "text"
      },
      "source": [
        "Program that demonstrates using a local variable with same name as that of global."
      ]
    },
    {
      "cell_type": "markdown",
      "metadata": {
        "id": "oKKr8agQOAl3",
        "colab_type": "text"
      },
      "source": [
        ""
      ]
    },
    {
      "cell_type": "code",
      "metadata": {
        "id": "-f5t6b-gNm6Q",
        "colab_type": "code",
        "colab": {}
      },
      "source": [
        "def f():\n",
        "  global str\n",
        "  print(str)\n",
        "  str = \"Hello World\"\n",
        "  print(str)\n",
        "\n",
        "str=\"Hi Welcome to Python Programming\"\n",
        "f()"
      ],
      "execution_count": 0,
      "outputs": []
    },
    {
      "cell_type": "markdown",
      "metadata": {
        "id": "mnxQLp6bOCS7",
        "colab_type": "text"
      },
      "source": [
        "## The Return Statement \n",
        "\n",
        "Every function has an implicit return statement as the last instruction in the function body.  \n",
        "\n",
        "This implicit return statement returns nothing to its caller, so it is said to return None, where None means nothing.  \n",
        "\n",
        "Syntax of return statement is: \n",
        "return [expression]\n",
        "\n",
        "\n",
        "The expression is written in brackets because it is optional.  If the expression is present, it is evaluated and the resultant value is returned to the calling function.  \n",
        "\n",
        "**Note** : A function may or may not return a value \n",
        "\n",
        "The return statement is used for two things: \n",
        "\n",
        "Return a value to the caller. \n",
        "To end and exit a function and go back to its caller.  \n",
        "\n",
        "Points to Remember: \n",
        "\n",
        "The Return statement must appear within the function. \n",
        "Once you return a value from a function, it immediately exits that function.  Therefore, any code written after the return statement is never executed.  \n",
        "\n",
        "**Note :** A return function cannot be used outside of a function definition.\n",
        "\n",
        "\n",
        "Program to demonstrate writing of another function which returns integer to the caller.  \n"
      ]
    },
    {
      "cell_type": "code",
      "metadata": {
        "id": "j4m4oLbWPeK5",
        "colab_type": "code",
        "colab": {
          "base_uri": "https://localhost:8080/",
          "height": 34
        },
        "outputId": "44f06f7c-8fbd-460e-ddc9-521fb2b9d5f7"
      },
      "source": [
        "def cube(x):\n",
        "  return(x*x*x)\n",
        "  \n",
        "num = 10\n",
        "result = cube(num)\n",
        "print('Cube of', num, ' = ',result)\n",
        "\n"
      ],
      "execution_count": 30,
      "outputs": [
        {
          "output_type": "stream",
          "text": [
            "Cube of 10  =  1000\n"
          ],
          "name": "stdout"
        }
      ]
    },
    {
      "cell_type": "markdown",
      "metadata": {
        "id": "rSx-0oltQmAh",
        "colab_type": "text"
      },
      "source": [
        "Program to demonstrate flow of control after the return statement. "
      ]
    },
    {
      "cell_type": "code",
      "metadata": {
        "id": "5Dj03k7QQsJT",
        "colab_type": "code",
        "colab": {
          "base_uri": "https://localhost:8080/",
          "height": 68
        },
        "outputId": "3c889fba-a4c4-480d-c52e-1501efd9b4ae"
      },
      "source": [
        "def display():\n",
        "  print(\"In function\")\n",
        "  print(\"About to execute return statement\")\n",
        "  return \n",
        "  print(\"This line will never be displayed\")\n",
        "\n",
        "display()\n",
        "print(\"Back to the caller\")"
      ],
      "execution_count": 31,
      "outputs": [
        {
          "output_type": "stream",
          "text": [
            "In function\n",
            "About to execute return statement\n",
            "Back to the caller\n"
          ],
          "name": "stdout"
        }
      ]
    },
    {
      "cell_type": "markdown",
      "metadata": {
        "id": "dQf34nE_RdCy",
        "colab_type": "text"
      },
      "source": [
        "# More way of defining a function: \n",
        "\n",
        "1.   Required arguments\n",
        "In this the arguments are passed to a function in correct positional order.\n",
        "2.   Keyword arguments\n",
        "  helps the function to identify the argument by the parameter name.\n",
        "3.   Default arguments \n",
        "  The default value to an argument is provided by using the assignment operator(=)\n",
        "4.   Variable length arguments\n",
        "  In some situations, it is not known in advance, how many arguments will be passed to a funciton, in such cases, programmers can make function calls with arbitary or (any number of arguments.  The syntax is as under;  \n",
        "\n",
        "  def functionname([arg1, arg2,......] *var_args_tuple):\n",
        "      function statements\n",
        "      return[expression]\n",
        "\n",
        "\n",
        "# **program to display various TYPEERRORS: **\n",
        "\n",
        "\n",
        "\n"
      ]
    },
    {
      "cell_type": "code",
      "metadata": {
        "id": "wcpUi2OlTjbx",
        "colab_type": "code",
        "colab": {
          "base_uri": "https://localhost:8080/",
          "height": 215
        },
        "outputId": "913d3f6a-17ac-497f-d3fe-3a71d740caab"
      },
      "source": [
        "def display():\n",
        "  print(\"Hello\")\n",
        "display(\"Hi\")\n",
        "\n"
      ],
      "execution_count": 32,
      "outputs": [
        {
          "output_type": "error",
          "ename": "TypeError",
          "evalue": "ignored",
          "traceback": [
            "\u001b[0;31m---------------------------------------------------------------------------\u001b[0m",
            "\u001b[0;31mTypeError\u001b[0m                                 Traceback (most recent call last)",
            "\u001b[0;32m<ipython-input-32-818fd6774404>\u001b[0m in \u001b[0;36m<module>\u001b[0;34m()\u001b[0m\n\u001b[1;32m      1\u001b[0m \u001b[0;32mdef\u001b[0m \u001b[0mdisplay\u001b[0m\u001b[0;34m(\u001b[0m\u001b[0;34m)\u001b[0m\u001b[0;34m:\u001b[0m\u001b[0;34m\u001b[0m\u001b[0;34m\u001b[0m\u001b[0m\n\u001b[1;32m      2\u001b[0m   \u001b[0mprint\u001b[0m\u001b[0;34m(\u001b[0m\u001b[0;34m\"Hello\"\u001b[0m\u001b[0;34m)\u001b[0m\u001b[0;34m\u001b[0m\u001b[0;34m\u001b[0m\u001b[0m\n\u001b[0;32m----> 3\u001b[0;31m \u001b[0mdisplay\u001b[0m\u001b[0;34m(\u001b[0m\u001b[0;34m\"Hi\"\u001b[0m\u001b[0;34m)\u001b[0m\u001b[0;34m\u001b[0m\u001b[0;34m\u001b[0m\u001b[0m\n\u001b[0m\u001b[1;32m      4\u001b[0m \u001b[0;34m\u001b[0m\u001b[0m\n",
            "\u001b[0;31mTypeError\u001b[0m: display() takes 0 positional arguments but 1 was given"
          ]
        }
      ]
    },
    {
      "cell_type": "code",
      "metadata": {
        "id": "XqejkBj7Tvk7",
        "colab_type": "code",
        "colab": {
          "base_uri": "https://localhost:8080/",
          "height": 198
        },
        "outputId": "18cbc5b8-1e1e-474c-88e1-1d1d9c476573"
      },
      "source": [
        "def display(str):\n",
        "  print (str)\n",
        "display()"
      ],
      "execution_count": 34,
      "outputs": [
        {
          "output_type": "error",
          "ename": "TypeError",
          "evalue": "ignored",
          "traceback": [
            "\u001b[0;31m---------------------------------------------------------------------------\u001b[0m",
            "\u001b[0;31mTypeError\u001b[0m                                 Traceback (most recent call last)",
            "\u001b[0;32m<ipython-input-34-bd5acc4d165e>\u001b[0m in \u001b[0;36m<module>\u001b[0;34m()\u001b[0m\n\u001b[1;32m      1\u001b[0m \u001b[0;32mdef\u001b[0m \u001b[0mdisplay\u001b[0m\u001b[0;34m(\u001b[0m\u001b[0mstr\u001b[0m\u001b[0;34m)\u001b[0m\u001b[0;34m:\u001b[0m\u001b[0;34m\u001b[0m\u001b[0;34m\u001b[0m\u001b[0m\n\u001b[1;32m      2\u001b[0m   \u001b[0mprint\u001b[0m \u001b[0;34m(\u001b[0m\u001b[0mstr\u001b[0m\u001b[0;34m)\u001b[0m\u001b[0;34m\u001b[0m\u001b[0;34m\u001b[0m\u001b[0m\n\u001b[0;32m----> 3\u001b[0;31m \u001b[0mdisplay\u001b[0m\u001b[0;34m(\u001b[0m\u001b[0;34m)\u001b[0m\u001b[0;34m\u001b[0m\u001b[0;34m\u001b[0m\u001b[0m\n\u001b[0m",
            "\u001b[0;31mTypeError\u001b[0m: display() missing 1 required positional argument: 'str'"
          ]
        }
      ]
    },
    {
      "cell_type": "code",
      "metadata": {
        "id": "VjgnldPNUGsZ",
        "colab_type": "code",
        "colab": {
          "base_uri": "https://localhost:8080/",
          "height": 34
        },
        "outputId": "8606c258-09d0-49da-b53b-ac63be0f9f68"
      },
      "source": [
        "def display(str):\n",
        "  print (str)\n",
        "str =\"Hello\"\n",
        "display(str)"
      ],
      "execution_count": 36,
      "outputs": [
        {
          "output_type": "stream",
          "text": [
            "Hello\n"
          ],
          "name": "stdout"
        }
      ]
    },
    {
      "cell_type": "markdown",
      "metadata": {
        "id": "Mk78MiJjUUoB",
        "colab_type": "text"
      },
      "source": [
        "Program to demonstrate keyword argument."
      ]
    },
    {
      "cell_type": "code",
      "metadata": {
        "id": "-NHKAdkKUZhR",
        "colab_type": "code",
        "colab": {
          "base_uri": "https://localhost:8080/",
          "height": 68
        },
        "outputId": "d32de008-605c-43e5-dcd3-d4d301a06398"
      },
      "source": [
        "def display(str, int_x, float_y):\n",
        "  print(\" The string is :\",str)\n",
        "  print(\" The integer value is : \",int_x)\n",
        "  print(\" The floating point value is :\",float_y)\n",
        "\n",
        "display(float_y = 9876.54, str = \"Hi Welcome\", int_x = 775544)"
      ],
      "execution_count": 37,
      "outputs": [
        {
          "output_type": "stream",
          "text": [
            " The string is : Hi Welcome\n",
            " The integer value is :  775544\n",
            " The floating point value is : 9876.54\n"
          ],
          "name": "stdout"
        }
      ]
    },
    {
      "cell_type": "markdown",
      "metadata": {
        "id": "C6nZj27rVXbk",
        "colab_type": "text"
      },
      "source": [
        "Program for keyword argument in which during function call, we use assignment operator to assign values to function parameters using other variables instead of values."
      ]
    },
    {
      "cell_type": "code",
      "metadata": {
        "id": "xJpHh-hOVku6",
        "colab_type": "code",
        "colab": {
          "base_uri": "https://localhost:8080/",
          "height": 68
        },
        "outputId": "c62a42d2-b23b-471a-81d6-29da57f16ac3"
      },
      "source": [
        "def display(name, age, salary):\n",
        "  print(\"Name:  \",name)\n",
        "  print(\"Age:  \",age)\n",
        "  print(\"Salary:  \",salary)\n",
        "\n",
        "n = \"Ricco\"\n",
        "\n",
        "a = 53\n",
        "\n",
        "s = 9876\n",
        "\n",
        "display(salary =s, name = n, age =a)"
      ],
      "execution_count": 46,
      "outputs": [
        {
          "output_type": "stream",
          "text": [
            "Name:   Ricco\n",
            "Age:   53\n",
            "Salary:   9876\n"
          ],
          "name": "stdout"
        }
      ]
    },
    {
      "cell_type": "markdown",
      "metadata": {
        "id": "uuc2C9Z9W8Zt",
        "colab_type": "text"
      },
      "source": [
        "Program that demonstrates default arguments."
      ]
    },
    {
      "cell_type": "code",
      "metadata": {
        "id": "hVqOv_S8W_6v",
        "colab_type": "code",
        "colab": {
          "base_uri": "https://localhost:8080/",
          "height": 85
        },
        "outputId": "611c6899-3b94-4073-92d7-15cc35c9cd17"
      },
      "source": [
        "def display(name, course =\"Computer Science\"):\n",
        "  print(\"Name:  \",name)\n",
        "  print(\"Course:  \",course)\n",
        "\n",
        "display(course =\"Electrical Engineering\",  name =\"Thomas\") # keyword argument\n",
        "\n",
        "display(name = \"Ryan\")"
      ],
      "execution_count": 50,
      "outputs": [
        {
          "output_type": "stream",
          "text": [
            "Name:   Thomas\n",
            "Course:   Electrical Engineering\n",
            "Name:   Ryan\n",
            "Course:   Computer Science\n"
          ],
          "name": "stdout"
        }
      ]
    },
    {
      "cell_type": "markdown",
      "metadata": {
        "id": "fseI90rHVXXS",
        "colab_type": "text"
      },
      "source": [
        "Program to demonstrate variable-length arguments."
      ]
    },
    {
      "cell_type": "code",
      "metadata": {
        "id": "OZqIBfo_nhyB",
        "colab_type": "code",
        "colab": {
          "base_uri": "https://localhost:8080/",
          "height": 204
        },
        "outputId": "d8d3a197-bdad-4efe-d1d8-638d4a622d0a"
      },
      "source": [
        "def func(name, *fav_subjects):\n",
        "  print(\"\\n\", name, \"likes to read\")\n",
        "  for subjects in fav_subjects:\n",
        "    print(subjects)\n",
        "\n",
        "func(\"George\", \"Mathematics\", \"Android Programming\")\n",
        "func(\"Rita\", \"Computer Science\", \"Compiler Design\", \"Artificial Intelligence\")\n",
        "func(\"Kris\")"
      ],
      "execution_count": 58,
      "outputs": [
        {
          "output_type": "stream",
          "text": [
            "\n",
            " George likes to read\n",
            "Mathematics\n",
            "Android Programming\n",
            "\n",
            " Rita likes to read\n",
            "Computer Science\n",
            "Compiler Design\n",
            "Artificial Intelligence\n",
            "\n",
            " Kris likes to read\n"
          ],
          "name": "stdout"
        }
      ]
    },
    {
      "cell_type": "markdown",
      "metadata": {
        "id": "IgUvZnYqojjR",
        "colab_type": "text"
      },
      "source": [
        "**Key Points to Remember:**  The arbitary number of arguments passed to the function basically forms a tuple. \n",
        "\n",
        "Inside the called function, for loop is used to access the arguments. \n",
        "\n",
        "The variable length argument should be the last in the list of formal parameters. \n",
        "\n",
        "**Note:** A function cannot be used on the right hand side of an assignment statement.  therefore, writing sum(x,y) = c is invalid. "
      ]
    },
    {
      "cell_type": "markdown",
      "metadata": {
        "id": "qB5nbqMAZ-YE",
        "colab_type": "text"
      },
      "source": [
        "# LAMBDA OR ANONYMOUS FUNCTION\n",
        "\n",
        "Lambda functions have no name. \n",
        "\n",
        "Lambda function can take any number of arguments.  \n",
        "\n",
        "Lambda function can return just one value in the form of an expression.  \n",
        "\n",
        "Lambda function definition does not have an explicit return statement but it always contain an expression which is returned.  \n",
        "\n",
        "Program to find small of two numbers using lambda function."
      ]
    },
    {
      "cell_type": "code",
      "metadata": {
        "id": "ih07MCZO0BOm",
        "colab_type": "code",
        "colab": {
          "base_uri": "https://localhost:8080/",
          "height": 34
        },
        "outputId": "2c64b6cb-d1ad-4355-85b9-aeac7a62cf4a"
      },
      "source": [
        "def small(a,b):\n",
        "  if(a<b):\n",
        "    return a\n",
        "  else:\n",
        "    return b\n",
        "\n",
        "add = lambda x, y : x + y #lambda function to substract two numbers\n",
        "diff = lambda x, y : x - y #lambda function to substract two numbers\n",
        "# pass  lambda function as arguments to the regular function \n",
        "print(\"Smaller of the two numbers : = \", small(add(-3,-2), diff(-1,2)))"
      ],
      "execution_count": 63,
      "outputs": [
        {
          "output_type": "stream",
          "text": [
            "Smaller of the two numbers : =  -5\n"
          ],
          "name": "stdout"
        }
      ]
    },
    {
      "cell_type": "markdown",
      "metadata": {
        "id": "jOjAWoc215o3",
        "colab_type": "text"
      },
      "source": [
        "Lambda functions are used alongwith built-in function like filter(), map(), reduce(), etc.\n",
        "\n",
        "Program to use a lambda function with an ordinary function."
      ]
    },
    {
      "cell_type": "code",
      "metadata": {
        "id": "VWAbhT8P2GXJ",
        "colab_type": "code",
        "colab": {
          "base_uri": "https://localhost:8080/",
          "height": 68
        },
        "outputId": "89a74006-4b2b-494b-a6a7-20089a07c738"
      },
      "source": [
        "def increment(y):\n",
        "  return (lambda x: x+1)(y)\n",
        "\n",
        "a = 100\n",
        "print(\"a = \", a)\n",
        "print(\"a after incrementing  = \")\n",
        "b = increment(a)\n",
        "print(b)\n",
        "\n",
        "# in the above code, the regular function increment accepts a value in y.  It then passes y to a lambda function. \n",
        "# The lambda function increment its value and finally the regular function \n",
        "# returns the increment value to the caller. "
      ],
      "execution_count": 66,
      "outputs": [
        {
          "output_type": "stream",
          "text": [
            "a =  100\n",
            "a after incrementing  = \n",
            "101\n"
          ],
          "name": "stdout"
        }
      ]
    },
    {
      "cell_type": "code",
      "metadata": {
        "id": "CIQXGype3MEq",
        "colab_type": "code",
        "colab": {
          "base_uri": "https://localhost:8080/",
          "height": 34
        },
        "outputId": "718ee3d8-6f2a-4edf-ba13-d3c6001ade96"
      },
      "source": [
        "twice = lambda x: x*2\n",
        "print(twice(9))"
      ],
      "execution_count": 67,
      "outputs": [
        {
          "output_type": "stream",
          "text": [
            "18\n"
          ],
          "name": "stdout"
        }
      ]
    },
    {
      "cell_type": "code",
      "metadata": {
        "id": "V3lznYqb3VeE",
        "colab_type": "code",
        "colab": {
          "base_uri": "https://localhost:8080/",
          "height": 51
        },
        "outputId": "cee5c4c8-5aba-474c-c8e1-16554ea53405"
      },
      "source": [
        "print((lambda x: x*2 (9)))\n",
        "(twice(9))"
      ],
      "execution_count": 70,
      "outputs": [
        {
          "output_type": "stream",
          "text": [
            "<function <lambda> at 0x7f7aeee07048>\n"
          ],
          "name": "stdout"
        },
        {
          "output_type": "execute_result",
          "data": {
            "text/plain": [
              "18"
            ]
          },
          "metadata": {
            "tags": []
          },
          "execution_count": 70
        }
      ]
    },
    {
      "cell_type": "code",
      "metadata": {
        "id": "j8QdITNz5QGx",
        "colab_type": "code",
        "colab": {
          "base_uri": "https://localhost:8080/",
          "height": 51
        },
        "outputId": "b60f6dae-2ced-40c3-ba43-f3d25afadeee"
      },
      "source": [
        "def func(f,n):\n",
        "  print(f(n))\n",
        "\n",
        "twice = lambda x: x * 2\n",
        "thrice = lambda x : x * 3\n",
        "\n",
        "func(twice, 4)\n",
        "func(thrice, 3)"
      ],
      "execution_count": 71,
      "outputs": [
        {
          "output_type": "stream",
          "text": [
            "8\n",
            "9\n"
          ],
          "name": "stdout"
        }
      ]
    },
    {
      "cell_type": "code",
      "metadata": {
        "id": "nLDHRbcC5qZz",
        "colab_type": "code",
        "colab": {
          "base_uri": "https://localhost:8080/",
          "height": 34
        },
        "outputId": "eda01c7f-e515-4f1a-d0c0-41569c45f514"
      },
      "source": [
        "x = lambda: sum(range(1,21))\n",
        "print(x())"
      ],
      "execution_count": 72,
      "outputs": [
        {
          "output_type": "stream",
          "text": [
            "210\n"
          ],
          "name": "stdout"
        }
      ]
    },
    {
      "cell_type": "code",
      "metadata": {
        "id": "4tYHyuaL59hY",
        "colab_type": "code",
        "colab": {
          "base_uri": "https://localhost:8080/",
          "height": 34
        },
        "outputId": "fceb8918-6d70-4c58-d7e5-0a0338a6a200"
      },
      "source": [
        "add = lambda x, y: x + y\n",
        "# lambda function that calls another lambda function to generate the result. \n",
        "multiply_and_add = lambda x, y, z: x * add(y,z)\n",
        "print(multiply_and_add(6,7,8))"
      ],
      "execution_count": 74,
      "outputs": [
        {
          "output_type": "stream",
          "text": [
            "90\n"
          ],
          "name": "stdout"
        }
      ]
    },
    {
      "cell_type": "markdown",
      "metadata": {
        "id": "fe9HQ9er6tz0",
        "colab_type": "text"
      },
      "source": [
        "# PROGRAMMING EXAMPLES \n",
        "Function should be defined before it is called. \n",
        "Write a program using functions to check whether two numbers are equal or not."
      ]
    },
    {
      "cell_type": "code",
      "metadata": {
        "id": "1-7_45C862oU",
        "colab_type": "code",
        "colab": {
          "base_uri": "https://localhost:8080/",
          "height": 34
        },
        "outputId": "094d28a5-d64d-462e-f3bf-db13181a1e99"
      },
      "source": [
        "def check_relation(a,b):\n",
        "  if(a==b):\n",
        "    return 0\n",
        "  if(a>b):\n",
        "    return 1\n",
        "  if(a<b):\n",
        "    return -1\n",
        "a = 3\n",
        "b = 5\n",
        "\n",
        "res = check_relation(a,b)\n",
        "if(res==0):\n",
        "  print(\"a is equal to b\")\n",
        "if(res==1):\n",
        "  print(\"a is greater than to b\")\n",
        "if(res==-1):\n",
        "  print(\"a is less to b\")\n",
        "\n",
        "\n"
      ],
      "execution_count": 75,
      "outputs": [
        {
          "output_type": "stream",
          "text": [
            "a is less to b\n"
          ],
          "name": "stdout"
        }
      ]
    },
    {
      "cell_type": "markdown",
      "metadata": {
        "id": "k4JK8_em719t",
        "colab_type": "text"
      },
      "source": [
        "Write a program using function to swap two numbers. "
      ]
    },
    {
      "cell_type": "code",
      "metadata": {
        "id": "_tI6lEDq76DI",
        "colab_type": "code",
        "colab": {}
      },
      "source": [
        "def swap(a,b):\n",
        "  a,b = b,a\n",
        "  print(\"After swap : \")\n",
        "  print(\"First number = \",a)\n",
        "  print(\"Second number =  \",b)\n",
        "\n",
        "a = input(\"\\n Enter the first number: \")\n",
        "b = input(\"\\n Enter the second number: \")\n",
        "\n",
        "print(\"Before swap: \")\n",
        "print(\"First number:  \",a)\n",
        "print(\"Second number:  \",b)\n",
        "swap(a,b)"
      ],
      "execution_count": 0,
      "outputs": []
    },
    {
      "cell_type": "markdown",
      "metadata": {
        "id": "8Lb52kSH9KP-",
        "colab_type": "text"
      },
      "source": [
        "Write a program to retun the full name of a person. "
      ]
    },
    {
      "cell_type": "code",
      "metadata": {
        "id": "ut-jOFlW9PZM",
        "colab_type": "code",
        "colab": {
          "base_uri": "https://localhost:8080/",
          "height": 34
        },
        "outputId": "6ad09448-ebd7-4da8-d725-6093c548e743"
      },
      "source": [
        "def name(firstName, lastName):\n",
        "  separator = ' '\n",
        "  n = firstName + separator + lastName\n",
        "  return n\n",
        "\n",
        "print(name('Jenny', 'Rex'))"
      ],
      "execution_count": 78,
      "outputs": [
        {
          "output_type": "stream",
          "text": [
            "Jenny Rex\n"
          ],
          "name": "stdout"
        }
      ]
    },
    {
      "cell_type": "markdown",
      "metadata": {
        "id": "-hGka8Ut9wfn",
        "colab_type": "text"
      },
      "source": [
        "Write a program to return the average of its arguments.  \n",
        "\n",
        "---\n",
        "\n"
      ]
    },
    {
      "cell_type": "markdown",
      "metadata": {
        "id": "bTEIJFar-c41",
        "colab_type": "text"
      },
      "source": [
        ""
      ]
    },
    {
      "cell_type": "markdown",
      "metadata": {
        "id": "pQ9mlSVv-eDX",
        "colab_type": "text"
      },
      "source": [
        ""
      ]
    },
    {
      "cell_type": "code",
      "metadata": {
        "id": "uez5FUbw92Ip",
        "colab_type": "code",
        "colab": {
          "base_uri": "https://localhost:8080/",
          "height": 68
        },
        "outputId": "19d6781f-add9-479f-f782-18e3cf590c31"
      },
      "source": [
        "def avg(n1, n2):\n",
        "  return (n1+n2)/2.0\n",
        "\n",
        "n1 = int(input(\"Enter the first number:   \"))\n",
        "n2 = int(input(\"Enter the second number:   \"))\n",
        "print(\"AVERAGE =  \", avg(n1,n2))"
      ],
      "execution_count": 79,
      "outputs": [
        {
          "output_type": "stream",
          "text": [
            "Enter the first number:   57\n",
            "Enter the second number:   76\n",
            "AVERAGE =   66.5\n"
          ],
          "name": "stdout"
        }
      ]
    },
    {
      "cell_type": "markdown",
      "metadata": {
        "id": "lGtgOmb4-gGX",
        "colab_type": "text"
      },
      "source": [
        "Write a program using functions and return statements to check whether a number is even or odd. "
      ]
    },
    {
      "cell_type": "code",
      "metadata": {
        "id": "onkdva6E-pZA",
        "colab_type": "code",
        "colab": {
          "base_uri": "https://localhost:8080/",
          "height": 51
        },
        "outputId": "4d77242a-c4c9-4fcf-f8ee-26ea3563ef51"
      },
      "source": [
        "\n",
        "# Flag variable is used as a signal in programming to let the program know that a certain condition has met.\n",
        "#It usually acts as a boolean variable indicating a condition to be either true or false.\n",
        "\n",
        "\n",
        "def evenodd(a):\n",
        "  if(a%2==0):\n",
        "    return 1\n",
        "  else:\n",
        "    return -1\n",
        "\n",
        "a = int(input(\"Enter the number :   \"))\n",
        "flag = evenodd(a)\n",
        "if(flag ==1):\n",
        "  print(\"Number is even\")\n",
        "if(flag==-1):\n",
        "  print(\"Number is odd\")"
      ],
      "execution_count": 80,
      "outputs": [
        {
          "output_type": "stream",
          "text": [
            "Enter the number :   2902\n",
            "Number is even\n"
          ],
          "name": "stdout"
        }
      ]
    },
    {
      "cell_type": "markdown",
      "metadata": {
        "id": "yWgz5K06CXLn",
        "colab_type": "text"
      },
      "source": [
        "Write a program to convert time into minutes.  "
      ]
    },
    {
      "cell_type": "code",
      "metadata": {
        "id": "yr2oDQPjCdRI",
        "colab_type": "code",
        "colab": {
          "base_uri": "https://localhost:8080/",
          "height": 68
        },
        "outputId": "50e1e53f-7f74-400f-c6b5-a807a945dcf1"
      },
      "source": [
        "def convert_time_in_min(hrs,minute):\n",
        "  minute = hrs*60+minute\n",
        "  return minute\n",
        "\n",
        "h = int(input(\"Enter the hours:     \"))\n",
        "m = int(input(\"Enter the minutes :  \"))\n",
        "m = convert_time_in_min(h,m)\n",
        "print(\"Minutes= \",m)"
      ],
      "execution_count": 81,
      "outputs": [
        {
          "output_type": "stream",
          "text": [
            "Enter the hours:     5\n",
            "Enter the minutes :  25\n",
            "Minutes=  325\n"
          ],
          "name": "stdout"
        }
      ]
    },
    {
      "cell_type": "markdown",
      "metadata": {
        "id": "mIE4uSnhDsb4",
        "colab_type": "text"
      },
      "source": [
        "Write a program to calculate simple interest.  Senior citizen offered 14  per cent roi for all other it is 12 per cent."
      ]
    },
    {
      "cell_type": "code",
      "metadata": {
        "id": "sKNF20QmD_9a",
        "colab_type": "code",
        "colab": {
          "base_uri": "https://localhost:8080/",
          "height": 85
        },
        "outputId": "e248b0af-83cd-4980-e3fc-3c17d376c71b"
      },
      "source": [
        "def interest (p,y,s):\n",
        "  if (s=='y'):\n",
        "    SI = float((p*y*14)/100)\n",
        "  else:\n",
        "    SI = float((p*y*12)/100)\n",
        "  return SI\n",
        "\n",
        "p = float(input(\"Enter the principle amount:  \"))\n",
        "y = float(input(\"Enter the number of years    \"))\n",
        "\n",
        "senior = input(\"Is the customer senior citizen (y/n) : \")\n",
        "print(\"Interest :   \", interest(p,y,senior))\n"
      ],
      "execution_count": 83,
      "outputs": [
        {
          "output_type": "stream",
          "text": [
            "Enter the principle amount:  25000\n",
            "Enter the number of years    4\n",
            "Is the customer senior citizen (y/n) : y\n",
            "Interest :    14000.0\n"
          ],
          "name": "stdout"
        }
      ]
    },
    {
      "cell_type": "markdown",
      "metadata": {
        "id": "H4rzpusnFp3t",
        "colab_type": "text"
      },
      "source": [
        "Write a program to calculate the volume of a cuboid using default arguments. "
      ]
    },
    {
      "cell_type": "code",
      "metadata": {
        "id": "6-dzGXEdFvqf",
        "colab_type": "code",
        "colab": {
          "base_uri": "https://localhost:8080/",
          "height": 119
        },
        "outputId": "32391512-2f16-4259-9f4f-6dda801a8e75"
      },
      "source": [
        "def volume(l,w=3,h=4):\n",
        "  print(\"Length : \",l,\"\\tWidth : \",w,\"\\tHeight : \",h)\n",
        "  return l*w*h\n",
        "\n",
        "print(\"Volume :   \",volume(4,6,2))\n",
        "print(\"Volume :   \",volume(4,6))\n",
        "print(\"Volume :   \",volume(4))"
      ],
      "execution_count": 84,
      "outputs": [
        {
          "output_type": "stream",
          "text": [
            "Length :  4 \tWidth :  6 \tHeight :  2\n",
            "Volume :    48\n",
            "Length :  4 \tWidth :  6 \tHeight :  4\n",
            "Volume :    96\n",
            "Length :  4 \tWidth :  3 \tHeight :  4\n",
            "Volume :    48\n"
          ],
          "name": "stdout"
        }
      ]
    },
    {
      "cell_type": "markdown",
      "metadata": {
        "id": "1_qkvNhaGqSV",
        "colab_type": "text"
      },
      "source": [
        "# Write a program that computes P(n,r)\n"
      ]
    },
    {
      "cell_type": "code",
      "metadata": {
        "id": "XD7dFdjeG9ZZ",
        "colab_type": "code",
        "colab": {}
      },
      "source": [
        "import string\n",
        "\n",
        "\n",
        "def fact(n):\n",
        "  f = 1\n",
        "  if(n==0 or n==1):\n",
        "    return 1\n",
        "  else:\n",
        "    for i in range(1,int(n+1)):\n",
        "      f = f*i\n",
        "  return f\n",
        "\n",
        "n = int(input(\"Enter the value of n :   \"))\n",
        "r = int(input(\"Enter the value of r :   \"))\n",
        "result = float(fact(n))/float(fact(r))\n",
        "print(\"P(\",str(n),\"/\",str(r),\") = \",str(result))\n",
        "\n"
      ],
      "execution_count": 0,
      "outputs": []
    },
    {
      "cell_type": "markdown",
      "metadata": {
        "id": "h0ZXu7ajIZoL",
        "colab_type": "text"
      },
      "source": [
        "Write a program using function to sum the series 1/1! + 4/2! + 27/3!"
      ]
    },
    {
      "cell_type": "code",
      "metadata": {
        "id": "MZ5ULjl9Ihu_",
        "colab_type": "code",
        "colab": {
          "base_uri": "https://localhost:8080/",
          "height": 153
        },
        "outputId": "0c697fc2-5262-4e72-853c-1363bf240246"
      },
      "source": [
        "def fact(n):\n",
        "  f = 1\n",
        "  if(n==0 or n==1):\n",
        "    return 1\n",
        "  else:\n",
        "    for i in range(1,int(n+1)):\n",
        "      f = f*i\n",
        "  return f\n",
        "\n",
        "n = int(input(\"Enter the value of n :   \"))\n",
        "s = 0.0\n",
        "for i in range(1,n+1):\n",
        "  s = s+(float(i**i)/fact(i))\n",
        "  print(\"Result:  \",s)"
      ],
      "execution_count": 89,
      "outputs": [
        {
          "output_type": "stream",
          "text": [
            "Enter the value of n :   7\n",
            "Result:   1.0\n",
            "Result:   3.0\n",
            "Result:   7.5\n",
            "Result:   18.166666666666664\n",
            "Result:   44.20833333333333\n",
            "Result:   109.00833333333333\n",
            "Result:   272.40972222222223\n"
          ],
          "name": "stdout"
        }
      ]
    },
    {
      "cell_type": "markdown",
      "metadata": {
        "id": "DM7HQzgcJ4tW",
        "colab_type": "text"
      },
      "source": [
        "Write a program that uses docstrings and variable length arguments to add the value passed to the function.  "
      ]
    },
    {
      "cell_type": "code",
      "metadata": {
        "id": "7Q9mTIj9J_1B",
        "colab_type": "code",
        "colab": {
          "base_uri": "https://localhost:8080/",
          "height": 51
        },
        "outputId": "26dcf105-19d7-412d-8453-42b68d36c011"
      },
      "source": [
        "def add(*args):\n",
        "  ''' Function returns the sum of values passed to it '''\n",
        "  sum = 0 \n",
        "  for i in args:\n",
        "    sum += i\n",
        "  return sum \n",
        "\n",
        "print(add.__doc__)\n",
        "print(\"SUM =  \",add(35,45,55,65,75,85,95))"
      ],
      "execution_count": 91,
      "outputs": [
        {
          "output_type": "stream",
          "text": [
            " Function returns the sum of values passed to it \n",
            "SUM =   455\n"
          ],
          "name": "stdout"
        }
      ]
    },
    {
      "cell_type": "markdown",
      "metadata": {
        "id": "sRGXi-hrKwEx",
        "colab_type": "text"
      },
      "source": [
        "Write a program that greets a person using function docstring"
      ]
    },
    {
      "cell_type": "code",
      "metadata": {
        "id": "78GHH5O8K-To",
        "colab_type": "code",
        "colab": {
          "base_uri": "https://localhost:8080/",
          "height": 68
        },
        "outputId": "e45595da-ea54-4c6c-c9fc-78db36507e0e"
      },
      "source": [
        "def greet(name, mesg):\n",
        "  \"\"\"This function welcomes the person passed whose name is passed as a parameter\"\"\"\n",
        "  print(\"Welcome,   \" + name + \".\"+ mesg)\n",
        "\n",
        "mesg = \"Happy Reading.  Python programming is fun \"\n",
        "name = input(\"\\n Enter your name: \")\n",
        "greet(name, mesg)\n"
      ],
      "execution_count": 98,
      "outputs": [
        {
          "output_type": "stream",
          "text": [
            "\n",
            " Enter your name: Garry\n",
            "Welcome,   Garry.Happy Reading.  Python programming is fun \n"
          ],
          "name": "stdout"
        }
      ]
    },
    {
      "cell_type": "markdown",
      "metadata": {
        "id": "QqtYA2y-M52G",
        "colab_type": "text"
      },
      "source": [
        "Write a program to print the following pattern using default arguments.  "
      ]
    },
    {
      "cell_type": "code",
      "metadata": {
        "id": "rSwmawgKNDQE",
        "colab_type": "code",
        "colab": {
          "base_uri": "https://localhost:8080/",
          "height": 272
        },
        "outputId": "79260c41-c808-4886-d041-79aa210a8cc2"
      },
      "source": [
        "def pattern(c='%',n=6,r=1):\n",
        "  for i in range(r):\n",
        "    print()\n",
        "    for j in range(n):\n",
        "      print(c, end = '  ')\n",
        "\n",
        "c = input(\"Enter the character to be displayed\")\n",
        "\n",
        "n = int(input(\"Enter the number of rows : \"))\n",
        "m = int(input(\"Enter the number of columns: \"))\n",
        "\n",
        "pattern()\n",
        "pattern(c)\n",
        "pattern(c,n)\n",
        "pattern(c,n,m)"
      ],
      "execution_count": 99,
      "outputs": [
        {
          "output_type": "stream",
          "text": [
            "Enter the character to be displayed$\n",
            "Enter the number of rows : 6\n",
            "Enter the number of columns: 8\n",
            "\n",
            "%  %  %  %  %  %  \n",
            "$  $  $  $  $  $  \n",
            "$  $  $  $  $  $  \n",
            "$  $  $  $  $  $  \n",
            "$  $  $  $  $  $  \n",
            "$  $  $  $  $  $  \n",
            "$  $  $  $  $  $  \n",
            "$  $  $  $  $  $  \n",
            "$  $  $  $  $  $  \n",
            "$  $  $  $  $  $  \n",
            "$  $  $  $  $  $  "
          ],
          "name": "stdout"
        }
      ]
    }
  ]
}