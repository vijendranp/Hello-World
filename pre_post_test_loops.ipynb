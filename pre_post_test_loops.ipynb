{
  "nbformat": 4,
  "nbformat_minor": 0,
  "metadata": {
    "colab": {
      "name": "pre-post-test-loops.ipynb",
      "provenance": [],
      "collapsed_sections": [],
      "authorship_tag": "ABX9TyNF18VcpqsIpgC4r8G+O+dT",
      "include_colab_link": true
    },
    "kernelspec": {
      "name": "python3",
      "display_name": "Python 3"
    }
  },
  "cells": [
    {
      "cell_type": "markdown",
      "metadata": {
        "id": "view-in-github",
        "colab_type": "text"
      },
      "source": [
        "<a href=\"https://colab.research.google.com/github/vijendranp/Hello-World/blob/master/pre_post_test_loops.ipynb\" target=\"_parent\"><img src=\"https://colab.research.google.com/assets/colab-badge.svg\" alt=\"Open In Colab\"/></a>"
      ]
    },
    {
      "cell_type": "code",
      "metadata": {
        "id": "6G7bInmby_s8",
        "colab_type": "code",
        "colab": {}
      },
      "source": [
        ""
      ],
      "execution_count": 0,
      "outputs": []
    },
    {
      "cell_type": "markdown",
      "metadata": {
        "id": "NvLDOrxTzNZG",
        "colab_type": "text"
      },
      "source": [
        "# FOR LOOP\n",
        "\n",
        "The for loop provides a mechanism to repeat a task until a particular condition is True.  \n",
        "\n",
        "The for loop is usually known as a determinate or definite loop because the programmer knows exactly how many times the loop will be repeated.  \n",
        "\n",
        "**Syntax** for loop_control_var in sequence:\n",
        "    statement block\n",
        "Here sequence means just an ordered collection of items.  \n",
        "\n",
        "*Every iteration of the loop must make the loop control variable closer to teh end of the range.  so with every iteration, the loop variable must be updated. Updating th loop variable makes it point to the  next item in the sequence.*\n",
        "\n",
        "Note : The for loop is widely used to execute a single or a group of statement a limited number of times.  "
      ]
    },
    {
      "cell_type": "markdown",
      "metadata": {
        "id": "h-UmtRif0p2k",
        "colab_type": "text"
      },
      "source": [
        "# The range() Function\n",
        "\n",
        "The range() is a built-in function in Python that is used to iterate over a sequence of numbers.   \n",
        "\n",
        "**The syntax of the range is :\n",
        "range(beg, end, [step])\n",
        "\n",
        "The range() produces a sequence of numbers starting with beg (inclusive) and ending with one less than the number end.  The step argument is optional that is why it is placed in brackets.  By default, every number in the range is incremented by 1 and we can specify a different increment using step. It can be both negative and positive, but not zero. \n",
        "\n",
        "\n",
        "Key Points to Remember: \n",
        "\n",
        "\n",
        "*   If range function is a single argument, it produces an object with values from 0 to argument-1.  For example: range (10) is equal to writing (0,10)\n",
        "\n",
        "*   If range() is called with two arguments, it produces values from the first to the second.  For example, range (0,10)\n",
        "\n",
        "\n",
        "*   If range() has three arguments, then the third argument specifies the interval of the sequence produced.  In this case, the third argument must be an integer.  (1,20,3)\n",
        "\n",
        "\n",
        "\n",
        "Selecting an appropriate loop : \n",
        "\n",
        "**Entry Control Loop aka Pre-test** (condition tested before loop starts (For loop) \n",
        "\n",
        "**Exit Control Loop aka Post-test** ( body of the loop is executed unconditionally for the first time ) while loop)\n",
        "\n",
        "**Counter-controlled loops**:\n",
        "\n",
        "When we know in advance the number of times the loop should be executed,  we use a counter controlled loop.  \n",
        "The counter is a variable that must be initialized, tested and updated for performing the loop operations.  \n",
        "\n",
        "Such a counter controlled loop in which the counter is assigned a constant or a value is also known as a definite repetition loop. \n",
        "\n",
        "When we do not know in advance the number of times the loop will be executed, we use a condition controlled ( or sentinel-controlled or indefinite loop) \n",
        "\n",
        "In such a loop a special value called the sentinel value is used to change the loop control expression from true or False. \n",
        "\n",
        "**Condition controlled loops (Sentinel control loops)**\n",
        "\n"
      ]
    },
    {
      "cell_type": "markdown",
      "metadata": {
        "id": "31xaiVyzAtE4",
        "colab_type": "text"
      },
      "source": [
        "Write a program using for loop to calculate the average of the first n natural numbers.  "
      ]
    },
    {
      "cell_type": "code",
      "metadata": {
        "id": "CmN6waYTA8N7",
        "colab_type": "code",
        "colab": {}
      },
      "source": [
        "n = int(input(\"Enter the value of n : \"))\n",
        "avg = 0.0\n",
        "s = 0 \n",
        "\n",
        "for i in range(1,n+1):\n",
        "  s = s+i\n",
        "avg = s/i\n",
        "\n",
        "print(\" The sum of first\", n, \"natural numbers is\",s)\n",
        "print(\" The average of first\", n, \"natural numbers is\", avg)\n"
      ],
      "execution_count": 0,
      "outputs": []
    },
    {
      "cell_type": "markdown",
      "metadata": {
        "id": "MejWlJLNB86E",
        "colab_type": "text"
      },
      "source": [
        "Write a program to print the multiplication table of n, where n is entered by the user.  \n",
        "\n"
      ]
    },
    {
      "cell_type": "code",
      "metadata": {
        "id": "qWzmLz1qCWA7",
        "colab_type": "code",
        "colab": {}
      },
      "source": [
        "n = int(input(\"Enter any number : \"))\n",
        "print(\"Multiplicaiton table of\", n)\n",
        "\n",
        "for i in range(1,11):\n",
        "  print(n, \"X\", i, \"=\", n*i)\n"
      ],
      "execution_count": 0,
      "outputs": []
    },
    {
      "cell_type": "markdown",
      "metadata": {
        "id": "Ra_VHtkSCyqK",
        "colab_type": "text"
      },
      "source": [
        "Write a program using for loop to print all the numbers from m-n thereby classifying them as even or odd. \n",
        "\n"
      ]
    },
    {
      "cell_type": "code",
      "metadata": {
        "id": "KdX-PTcOC8-K",
        "colab_type": "code",
        "colab": {}
      },
      "source": [
        "m = int(input(\"Enter the value of m:  \"))\n",
        "n = int(input(\"Enter the value of n:  \"))\n",
        "for i in range(m,n+1):\n",
        "  if(i%2==0):\n",
        "    print(i,\"is even number\")\n",
        "  else:\n",
        "    print(i,\"is odd number\")\n",
        "    "
      ],
      "execution_count": 0,
      "outputs": []
    },
    {
      "cell_type": "markdown",
      "metadata": {
        "id": "vqD0hxU8E-sr",
        "colab_type": "text"
      },
      "source": [
        "Write a program using for loop to calculate the factorial of a number.  "
      ]
    },
    {
      "cell_type": "markdown",
      "metadata": {
        "id": "zT44pd8gFu3j",
        "colab_type": "text"
      },
      "source": [
        ""
      ]
    },
    {
      "cell_type": "code",
      "metadata": {
        "id": "neGoza-HFD-3",
        "colab_type": "code",
        "colab": {}
      },
      "source": [
        "num = int(input(\"Enter the number\"))\n",
        "if(num==0):\n",
        "  fact = 1\n",
        "fact = 1\n",
        "\n",
        "for i in range(1,num+1):\n",
        "  fact = fact*i\n",
        "\n",
        "print(\"Factorial of\", fact)"
      ],
      "execution_count": 0,
      "outputs": []
    },
    {
      "cell_type": "markdown",
      "metadata": {
        "id": "Wher-ChoF0XY",
        "colab_type": "text"
      },
      "source": [
        "Write a program using to classify a given number as prime or composite. "
      ]
    },
    {
      "cell_type": "code",
      "metadata": {
        "id": "0xSYH9nyF9ri",
        "colab_type": "code",
        "colab": {}
      },
      "source": [
        "num = int(input('Enter the number :   '))\n",
        "isComposite = 0\n",
        "for i in range(2,num):\n",
        "  if(num%i== 0):\n",
        "    isComposite= 1\n",
        "    break\n",
        "if(isComposite == 1):\n",
        "  print(\"Number is Composite\")\n",
        "else: \n",
        "  print(\"Number is prime\")\n"
      ],
      "execution_count": 0,
      "outputs": []
    },
    {
      "cell_type": "code",
      "metadata": {
        "id": "1LfyPxAJI5Iq",
        "colab_type": "code",
        "colab": {}
      },
      "source": [
        "num = int(input(\"Enter Number:    \"))\n",
        "\n",
        "if num > 1:\n",
        "  for i in range(2,num):\n",
        "    if num % i == 0:\n",
        "      print(num, \"is NOT a prime number\")\n",
        "      break\n",
        "  else:\n",
        "    print(num, \"is a PRIME number\")\n",
        "elif num == 0 or num ==1 :\n",
        "  print(num, \"is NEITHER prime nor composite number.\")\n"
      ],
      "execution_count": 0,
      "outputs": []
    },
    {
      "cell_type": "markdown",
      "metadata": {
        "id": "AgkvYFYfKtfw",
        "colab_type": "text"
      },
      "source": [
        "Write a program using while loop to read the numbers until -1 is encountered.  Also, count the numbers of prime and composite numbers entered by the user.  \n"
      ]
    },
    {
      "cell_type": "code",
      "metadata": {
        "id": "Mgg98KoPK8x7",
        "colab_type": "code",
        "colab": {}
      },
      "source": [
        "total_prime = 0\n",
        "total_composite = 0\n",
        "\n",
        "while(1):\n",
        "  num = int(input (\"Enter number \"))\n",
        "  if (num==-1):\n",
        "    break\n",
        "  is_Composite = 0\n",
        "  for i in range(2,num):\n",
        "    if(num%i==0):\n",
        "      is_Composite =1\n",
        "      break \n",
        "  if(is_Composite):\n",
        "    total_composite+=1\n",
        "  else:\n",
        "    total_prime+=1\n",
        "\n",
        "print(\"total composite : \", total_composite)\n",
        "print(\"total prime :\", total_prime) "
      ],
      "execution_count": 0,
      "outputs": []
    },
    {
      "cell_type": "markdown",
      "metadata": {
        "id": "lilkpQyO3R6w",
        "colab_type": "text"
      },
      "source": [
        "Write a program to calculate pow(x,n)"
      ]
    },
    {
      "cell_type": "code",
      "metadata": {
        "id": "XrSaeXjA3W2r",
        "colab_type": "code",
        "colab": {}
      },
      "source": [
        "num = int(input(\"Enter Number:    \"))\n",
        "n = int(input(\"Till which power to calculate?\"))\n",
        "\n",
        "result =1\n",
        "\n",
        "for i in range(n):\n",
        "  result = result*num\n",
        "print(num,\"raised to the power\",n,\"is\",result)"
      ],
      "execution_count": 0,
      "outputs": []
    },
    {
      "cell_type": "markdown",
      "metadata": {
        "id": "p33dgOHg51mK",
        "colab_type": "text"
      },
      "source": [
        "Write a program that displays all leap years from 1900 - 2101"
      ]
    },
    {
      "cell_type": "code",
      "metadata": {
        "id": "I6HAWewv59zt",
        "colab_type": "code",
        "colab": {}
      },
      "source": [
        "print('Leap years from 1900-2101 are : ')\n",
        "for i in range(1900,2101):\n",
        "  if(i%4==0):\n",
        "    print(i,end=' ')"
      ],
      "execution_count": 0,
      "outputs": []
    },
    {
      "cell_type": "markdown",
      "metadata": {
        "id": "IIfPftOH6fei",
        "colab_type": "text"
      },
      "source": [
        "Write a program to sum the series --- 1+ 1/2 + ......1/n "
      ]
    },
    {
      "cell_type": "code",
      "metadata": {
        "id": "jjy8ZTcm6l_c",
        "colab_type": "code",
        "colab": {}
      },
      "source": [
        "n = int(input(\"Enter the number:  \"))\n",
        "s = 0.0 \n",
        "for i in range(1,n+1):\n",
        "  a = 1.0/i\n",
        "  s = s+a\n",
        "print(\"The sum of 1,1/2,..... 1\"+ str(n)+\"  is \"+str(s))"
      ],
      "execution_count": 0,
      "outputs": []
    },
    {
      "cell_type": "code",
      "metadata": {
        "id": "AFxUuHRr_RwR",
        "colab_type": "code",
        "colab": {}
      },
      "source": [
        ""
      ],
      "execution_count": 0,
      "outputs": []
    },
    {
      "cell_type": "markdown",
      "metadata": {
        "id": "xoUOrNvO_TxV",
        "colab_type": "text"
      },
      "source": [
        "write a program to sum the series --1/1square + 1/nsquare"
      ]
    },
    {
      "cell_type": "code",
      "metadata": {
        "id": "PstHjxA4_WWH",
        "colab_type": "code",
        "colab": {}
      },
      "source": [
        "n = int(input(\"Enter the Number:\"))\n",
        "s = 0.0\n",
        "for i in range(1,n+1):\n",
        "  a = 1.0/(i**2)\n",
        "  s = s+a\n",
        "            \n",
        "print(\"The sum of series is\",s)\n"
      ],
      "execution_count": 0,
      "outputs": []
    },
    {
      "cell_type": "markdown",
      "metadata": {
        "id": "PunXD2z2_rpC",
        "colab_type": "text"
      },
      "source": [
        "# WRITE A PROGRAM TO PRINT THE FIBONACCI SERIES \n",
        "\n",
        "\n",
        "1.   Using while loop \n",
        "\n",
        "1.   Using variables \n",
        "\n",
        "2.    Using recursive function\n",
        "\n"
      ]
    },
    {
      "cell_type": "code",
      "metadata": {
        "id": "olWpd3ODBa1o",
        "colab_type": "code",
        "colab": {}
      },
      "source": [
        "n = int(input(\"Enter Number:  \"))\n",
        "\n",
        "x=0\n",
        "y=1\n",
        "z=0\n",
        "\n",
        "while(z<=n):\n",
        "  print(z)\n",
        "  x=y\n",
        "  y=z\n",
        "  z=x+y"
      ],
      "execution_count": 0,
      "outputs": []
    },
    {
      "cell_type": "code",
      "metadata": {
        "id": "pvSyWSxdFgzn",
        "colab_type": "code",
        "colab": {}
      },
      "source": [
        "n = int(input(\"Enter how many numbers you want in this series :\"))\n",
        "first = 0 # because each number in fib ser is sum of previous numbers\n",
        "second = 1\n",
        "for i in range(n):\n",
        "  print(first)\n",
        "  temp = first # take temporary variable and store value of first  \n",
        "  first = second # because we are printing value of first\n",
        "  second = temp + second \n",
        "  \n",
        "\n"
      ],
      "execution_count": 0,
      "outputs": []
    },
    {
      "cell_type": "code",
      "metadata": {
        "id": "GtQ_h9C6IaJX",
        "colab_type": "code",
        "colab": {}
      },
      "source": [
        "def fibonacci(n):\n",
        "  if(n<2):\n",
        "    return 1\n",
        "  return (fibonacci(n-1)+fibonacci(n-2))\n",
        "\n",
        "n = int(input(\"Enter the number of terms: \"))\n",
        "for i in range(n):\n",
        "  print(\"Fibonacci(\",i,\") = \",fibonacci(i))"
      ],
      "execution_count": 0,
      "outputs": []
    },
    {
      "cell_type": "markdown",
      "metadata": {
        "id": "bVsu1F7QJu4r",
        "colab_type": "text"
      },
      "source": [
        "Write a program to calculate sum of cubes of numbers from 1-n \n"
      ]
    },
    {
      "cell_type": "code",
      "metadata": {
        "id": "6oalNkNvJ16h",
        "colab_type": "code",
        "colab": {}
      },
      "source": [
        "n = int(input(\"Enter the value of n : \"))\n",
        "s = 0 \n",
        "for i in range(1, n+1):\n",
        "  a = i**3\n",
        "  s = s+a\n",
        "print(\" The sum of cubes is\",s)"
      ],
      "execution_count": 0,
      "outputs": []
    },
    {
      "cell_type": "markdown",
      "metadata": {
        "id": "GvOv8pizKbN4",
        "colab_type": "text"
      },
      "source": [
        "Write a program to sum of squares of even numbers "
      ]
    },
    {
      "cell_type": "code",
      "metadata": {
        "id": "1SuDT-4KKhP0",
        "colab_type": "code",
        "colab": {}
      },
      "source": [
        "n = int(input(\"Enter the number:    \"))\n",
        "s = 0 \n",
        "for i in range(1,n+1):\n",
        "  if(i%2==0):\n",
        "    term = i**2\n",
        "  else:\n",
        "    term = 0\n",
        "  s = s+term \n",
        "print(\"The sum of squares of even number less than \",n, \"is\",s)"
      ],
      "execution_count": 0,
      "outputs": []
    },
    {
      "cell_type": "markdown",
      "metadata": {
        "id": "oTSVQeoxMTz2",
        "colab_type": "text"
      },
      "source": [
        "Write a program using for loop to calculate the value of an investment.\n",
        "\n",
        "Input an initial value of investment and annual interest, and calculat the value of investment over time. "
      ]
    },
    {
      "cell_type": "code",
      "metadata": {
        "id": "Lmia54anMfNE",
        "colab_type": "code",
        "colab": {}
      },
      "source": [
        "initVal = float(input(\"Enter the initial value:\"))\n",
        "ROI = float(input(\"Enter the rate of interest:  \"))\n",
        "yrs = int(input(\"Enter the number of years for which investment has to be done: \"))\n",
        "futureVal = initVal \n",
        "print(\"\\tYear \\t\\t Value\")\n",
        "print(\"------------------\")\n",
        "for i in range(1,yrs+1):\n",
        "  futureVal = futureVal * (1+ROI/100.0)\n",
        "  print(i, \" \\t\\t\", futureVal)\n"
      ],
      "execution_count": 0,
      "outputs": []
    },
    {
      "cell_type": "markdown",
      "metadata": {
        "id": "Ch-ADP6aXtBD",
        "colab_type": "text"
      },
      "source": [
        "Write a program to generate calendar of a month given the start day and the number of days in that month.  "
      ]
    },
    {
      "cell_type": "code",
      "metadata": {
        "id": "1Zc5JasrXzuH",
        "colab_type": "code",
        "colab": {}
      },
      "source": [
        "startDay = int(input(\"Enter the start day of the month (1-7\"))\n",
        "num_of_days = int(input(\"Enter number of days:    \"))\n",
        "print(\"SUN MON TUES WED THURS FRI SAT\")\n",
        "print(\"================================================\")\n",
        "for i in range(startDay-1):\n",
        "  print(end = \"    \")\n",
        "  i = startDay -1\n",
        "  for j in range(1, num_of_days+1):\n",
        "    if(i>6):\n",
        "      print()\n",
        "      i =1\n",
        "    else:\n",
        "      i = i+1\n",
        "    print(str(j)+  \" \", end = \" \")"
      ],
      "execution_count": 0,
      "outputs": []
    },
    {
      "cell_type": "markdown",
      "metadata": {
        "id": "8evFi-W8aCPe",
        "colab_type": "text"
      },
      "source": [
        "NESTED LOOPS \n",
        "Are the loops that can be placed inside other loops.  This feature will work with while as well as for loop. Invariably, it is used with for loop since it is easiest to control.  \n",
        "\n",
        "Write a program to generate the following pattern.  "
      ]
    },
    {
      "cell_type": "code",
      "metadata": {
        "id": "OsF6qGPnakTb",
        "colab_type": "code",
        "colab": {}
      },
      "source": [
        "for i in range(1,6):\n",
        "  print(\"Pass\",i,\"-\",end='  ')\n",
        "  for j in range(1,6):\n",
        "    print(j,end=' ')\n",
        "  print()"
      ],
      "execution_count": 0,
      "outputs": []
    },
    {
      "cell_type": "markdown",
      "metadata": {
        "id": "-I9UU91CbN6d",
        "colab_type": "text"
      },
      "source": [
        "write a program to print the following pattern."
      ]
    },
    {
      "cell_type": "code",
      "metadata": {
        "id": "NM6jPgMdbRg0",
        "colab_type": "code",
        "colab": {}
      },
      "source": [
        "for i in range(1,6):\n",
        "  print()\n",
        "  for j in range(i):\n",
        "    print(\"*\", end='  ')"
      ],
      "execution_count": 0,
      "outputs": []
    },
    {
      "cell_type": "markdown",
      "metadata": {
        "id": "2NAv2J0abrvV",
        "colab_type": "text"
      },
      "source": [
        "Write a program to print the following pattern. "
      ]
    },
    {
      "cell_type": "code",
      "metadata": {
        "id": "4ewqloaYbw4-",
        "colab_type": "code",
        "colab": {}
      },
      "source": [
        "for i in range(1,6):\n",
        "  print()\n",
        "  for j in range(1,i+1):\n",
        "    print(j,end ='  ')"
      ],
      "execution_count": 0,
      "outputs": []
    },
    {
      "cell_type": "markdown",
      "metadata": {
        "id": "WmXmb_RbcCti",
        "colab_type": "text"
      },
      "source": [
        "write a program to print the following pattern. "
      ]
    },
    {
      "cell_type": "code",
      "metadata": {
        "id": "Rw9enF32cHFf",
        "colab_type": "code",
        "colab": {}
      },
      "source": [
        "count = 0\n",
        "for i in range (1,10):\n",
        "  print()\n",
        "  for j in range(1,i+1):\n",
        "    print(count, end='  ')\n",
        "    count = count+1"
      ],
      "execution_count": 0,
      "outputs": []
    },
    {
      "cell_type": "markdown",
      "metadata": {
        "id": "m-xsfBSVcwrW",
        "colab_type": "text"
      },
      "source": [
        "Write a program to print the following pattern. "
      ]
    },
    {
      "cell_type": "code",
      "metadata": {
        "id": "KDyE68dzc0kC",
        "colab_type": "code",
        "colab": {}
      },
      "source": [
        "N = 5\n",
        "\n",
        "for i in range(i,N+1):\n",
        "  for k in range(N,i,-1):\n",
        "    print(\" \", end=' ')\n",
        "  for j in range(1,i+1):\n",
        "    print(j, end='  ')\n",
        "  print()"
      ],
      "execution_count": 0,
      "outputs": []
    },
    {
      "cell_type": "markdown",
      "metadata": {
        "id": "xaduuu3cd4H6",
        "colab_type": "text"
      },
      "source": [
        "# The break STATEMENT \n",
        "\n",
        "The break statement is used to terminate the execution of the nearest enclosing loop in which it appears.  The break statement is widely used with for loop and while loop.  \n",
        "\n",
        "When the compiler encounters a break statement, the control passes to the statement that follows the loop in which the break statement appears.  \n",
        "\n",
        "**Syntax **\n",
        "**break **\n",
        "\n",
        "Program to demonstrate the break statement.  "
      ]
    },
    {
      "cell_type": "code",
      "metadata": {
        "id": "qnFKlQZneevP",
        "colab_type": "code",
        "colab": {}
      },
      "source": [
        "i = 1\n",
        "while i <= 10:\n",
        "  print(i, end=\"  \")\n",
        "  if i ==7:\n",
        "    break\n",
        "  i = i+1  # break statement terminates the loop and transfer execution to the statement immediately following loop.\n",
        "print(\"\\n Done\")"
      ],
      "execution_count": 0,
      "outputs": []
    },
    {
      "cell_type": "markdown",
      "metadata": {
        "id": "exvDAHO5izCC",
        "colab_type": "text"
      },
      "source": [
        "# CONTINUE STATEMENT \n",
        "The continue statement can only appear in the body of a loop.  \n",
        "\n",
        "When the compiler encounters a continue statement, then the rest of the statements in the loop are skipped and the control is unconditionally transferred to the loop-continuation portion of the nearest enclosing loop. \n",
        "\n",
        "Syntax** **continue**\n",
        "\n",
        "* *The continue statement is used to stop the current iteration of the loop and continues with the next one. *\n",
        "\n",
        "program to demonstrate the continue statement.  "
      ]
    },
    {
      "cell_type": "code",
      "metadata": {
        "id": "zFCwMrK5jcpO",
        "colab_type": "code",
        "colab": {}
      },
      "source": [
        "for i in range(1,11):\n",
        "  if(i==5):\n",
        "    continue\n",
        "  print(i,end=\" \")\n",
        "print(\"\\n Done\")"
      ],
      "execution_count": 0,
      "outputs": []
    },
    {
      "cell_type": "markdown",
      "metadata": {
        "id": "vCrHvO-rksbQ",
        "colab_type": "text"
      },
      "source": [
        "Write a program to calculate the square root of a number.  Demonstrate the use of break and continue statement.  "
      ]
    },
    {
      "cell_type": "code",
      "metadata": {
        "id": "_sN0HC8Rk2oL",
        "colab_type": "code",
        "colab": {}
      },
      "source": [
        "import math\n",
        "total_prime = 0 \n",
        "total_composite = 0\n",
        "\n",
        "while(1):\n",
        "  num = int(input(\"Enter Number:  \"))\n",
        "  if(num==999):\n",
        "    break\n",
        "  elif num < 0:\n",
        "    print(\"Square root of negative numbers cannot be calculated\")\n",
        "    continue\n",
        "  else: \n",
        "    print(\"Square root of \",num,  \" = \",math.sqrt(num))"
      ],
      "execution_count": 0,
      "outputs": []
    },
    {
      "cell_type": "markdown",
      "metadata": {
        "id": "iqf4Re6vmCuV",
        "colab_type": "text"
      },
      "source": [
        "Write a program that prompts the user to enter numbers.  The process will repeat until user enters -1.  Finally, the program print the count of prime and composite numbers entered.  "
      ]
    },
    {
      "cell_type": "code",
      "metadata": {
        "id": "Pvapzua9mNZj",
        "colab_type": "code",
        "colab": {}
      },
      "source": [
        "prime_count = 0\n",
        "comp_count = 0\n",
        "\n",
        "n = int(input(\"Enter the number:  \"))\n",
        "while (n!=-1):\n",
        "  flag = 0\n",
        "  for i in range(2,n):\n",
        "    if(n%i==0):\n",
        "      flag= 1\n",
        "      break\n",
        "  if(flag==0):\n",
        "    prime_count=prime_count+1\n",
        "  else:\n",
        "    comp_count= comp_count+1\n",
        "  n = int(input(\"Enter the number: \"))\n",
        "\n",
        "  print(\"Number of prime numbers is     : \",prime_count)\n",
        "  print(\"Number of composite numbers is : \",comp_count)\n"
      ],
      "execution_count": 0,
      "outputs": []
    },
    {
      "cell_type": "markdown",
      "metadata": {
        "id": "5dUEXGN9oaxS",
        "colab_type": "text"
      },
      "source": [
        "Using a for loop, write a program that prints out the decimal equivalent of 1/2, 1/3, 1/4, 1/10.\n"
      ]
    },
    {
      "cell_type": "code",
      "metadata": {
        "id": "9jeOTuMyommk",
        "colab_type": "code",
        "colab": {
          "base_uri": "https://localhost:8080/",
          "height": 170
        },
        "outputId": "2cc81577-b5d7-477d-d837-3e95d060800e"
      },
      "source": [
        "for i in range(1,10):\n",
        "  print(\"1/\",i, \"= %f\" %(1.0/i))"
      ],
      "execution_count": 41,
      "outputs": [
        {
          "output_type": "stream",
          "text": [
            "1/ 1 = 1.000000\n",
            "1/ 2 = 0.500000\n",
            "1/ 3 = 0.333333\n",
            "1/ 4 = 0.250000\n",
            "1/ 5 = 0.200000\n",
            "1/ 6 = 0.166667\n",
            "1/ 7 = 0.142857\n",
            "1/ 8 = 0.125000\n",
            "1/ 9 = 0.111111\n"
          ],
          "name": "stdout"
        }
      ]
    },
    {
      "cell_type": "markdown",
      "metadata": {
        "id": "MjD0LFczpRMQ",
        "colab_type": "text"
      },
      "source": [
        "# The Pass STATEMENT\n",
        "\n",
        "The pass statement is used when a statement is required syntactically but no command or code has to be executed.  \n",
        "\n",
        "**It specifies null operation or No Operation (NOP) statement.  **\n",
        "\n",
        "program to demonstrate pass statement."
      ]
    },
    {
      "cell_type": "markdown",
      "metadata": {
        "id": "pXBO7-4K4r-X",
        "colab_type": "text"
      },
      "source": [
        "Difference between break, continue and pass.\n",
        "\n",
        "The break statement termintes the execution of the nearest enclosing loop in which it appears to the loop continuation portion of the nearest enclosing loop.  \n",
        "\n",
        "The pass statement is a do-nothing statement in a loop.  It is just added to make the loop syntactically correct.  This is a pass statement is written as we cannot have an empty body of the loop.  "
      ]
    },
    {
      "cell_type": "code",
      "metadata": {
        "id": "CUMA-CnspqJh",
        "colab_type": "code",
        "colab": {
          "base_uri": "https://localhost:8080/",
          "height": 119
        },
        "outputId": "200ea779-5d9a-4b6a-e987-f813c9698742"
      },
      "source": [
        "for letter in \"HELLO\":\n",
        "  pass  # The statement is doing nothing\n",
        "  print(\"Pass : \", letter)\n",
        "print(\"Done\")"
      ],
      "execution_count": 42,
      "outputs": [
        {
          "output_type": "stream",
          "text": [
            "Pass :  H\n",
            "Pass :  E\n",
            "Pass :  L\n",
            "Pass :  L\n",
            "Pass :  O\n",
            "Done\n"
          ],
          "name": "stdout"
        }
      ]
    },
    {
      "cell_type": "markdown",
      "metadata": {
        "id": "_IhuWmsm_hpf",
        "colab_type": "text"
      },
      "source": [
        "# The else STATEMENT USED WITH LOOPS.  \n",
        "\n",
        "In python you can have the else sstatement associated with a loop statement.  If the else statement is used with a for loop, the else statement is executed when the loop has completed iterating.  \n",
        "\n",
        "But, when used with the while loop, the else statement is executed when the condition becomes false.  \n",
        "\n",
        "Program to demonstrate else statement with loops. "
      ]
    },
    {
      "cell_type": "code",
      "metadata": {
        "id": "goSnne4yAlG-",
        "colab_type": "code",
        "colab": {}
      },
      "source": [
        "i = 1\n",
        "while (i<0):\n",
        "  print(i)\n",
        "  i = i-1\n",
        "else: \n",
        "  print(i, \"is not negative so loop did not execute\")"
      ],
      "execution_count": 0,
      "outputs": []
    },
    {
      "cell_type": "markdown",
      "metadata": {
        "id": "B4vShTDralhr",
        "colab_type": "text"
      },
      "source": [
        "[link text](https://)"
      ]
    }
  ]
}